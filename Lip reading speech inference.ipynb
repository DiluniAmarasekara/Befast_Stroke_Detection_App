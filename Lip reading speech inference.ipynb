{
 "cells": [
  {
   "cell_type": "markdown",
   "id": "1b64bda9",
   "metadata": {},
   "source": [
    "<h1 align=\"center\"> Lip Sync Inference <h1>"
   ]
  },
  {
   "cell_type": "markdown",
   "id": "c02954fb",
   "metadata": {},
   "source": [
    "## Download and Import Libraries"
   ]
  },
  {
   "cell_type": "code",
   "execution_count": 1,
   "id": "8d5fd8e2",
   "metadata": {
    "execution": {
     "iopub.execute_input": "2023-05-17T21:20:14.775073Z",
     "iopub.status.busy": "2023-05-17T21:20:14.774410Z",
     "iopub.status.idle": "2023-05-17T21:20:28.594708Z",
     "shell.execute_reply": "2023-05-17T21:20:28.593508Z",
     "shell.execute_reply.started": "2023-05-17T21:20:14.775038Z"
    }
   },
   "outputs": [
    {
     "name": "stdout",
     "output_type": "stream",
     "text": [
      "\u001B[33mWARNING: Running pip as the 'root' user can result in broken permissions and conflicting behaviour with the system package manager. It is recommended to use a virtual environment instead: https://pip.pypa.io/warnings/venv\u001B[0m\u001B[33m\n",
      "\u001B[0m"
     ]
    }
   ],
   "source": [
    "!pip install gdown --quiet"
   ]
  },
  {
   "cell_type": "code",
   "execution_count": 1,
   "id": "6c5e7882",
   "metadata": {
    "tags": []
   },
   "outputs": [],
   "source": [
    "import os\n",
    "import cv2\n",
    "import tensorflow as tf\n",
    "import numpy as np\n",
    "from typing import List\n",
    "import imageio\n",
    "import matplotlib.pyplot as plt\n",
    "import glob\n",
    "from tqdm import tqdm\n",
    "# Change - New Libraries\n",
    "import seaborn as sns"
   ]
  },
  {
   "cell_type": "code",
   "execution_count": 2,
   "id": "fbeb7a9c",
   "metadata": {
    "tags": []
   },
   "outputs": [],
   "source": [
    "# Change - Set Tensorflow Seed\n",
    "tf.random.set_seed(123)"
   ]
  },
  {
   "cell_type": "code",
   "execution_count": 3,
   "id": "1d7e6985",
   "metadata": {
    "scrolled": true,
    "tags": []
   },
   "outputs": [
    {
     "data": {
      "text/plain": [
       "[PhysicalDevice(name='/physical_device:GPU:0', device_type='GPU')]"
      ]
     },
     "execution_count": 3,
     "metadata": {},
     "output_type": "execute_result"
    }
   ],
   "source": [
    "tf.config.list_physical_devices('GPU')"
   ]
  },
  {
   "cell_type": "code",
   "execution_count": 4,
   "id": "2e93f1a3",
   "metadata": {
    "tags": []
   },
   "outputs": [],
   "source": [
    "import gdown"
   ]
  },
  {
   "cell_type": "code",
   "execution_count": 5,
   "id": "2fec5f25",
   "metadata": {
    "tags": []
   },
   "outputs": [],
   "source": [
    "# url = 'https://drive.google.com/uc?id=1YlvpDLix3S-U8fd-gqRwPcWXAXm8JwjL'\n",
    "# output = 'data.zip'\n",
    "# gdown.download(url, output, quiet=False)\n",
    "# gdown.extractall('data.zip')"
   ]
  },
  {
   "cell_type": "markdown",
   "id": "47b0ce21",
   "metadata": {},
   "source": [
    "## Load and Preprocess Data"
   ]
  },
  {
   "cell_type": "code",
   "execution_count": 6,
   "id": "3fc88d11-820c-4611-97c9-ab1daf00638d",
   "metadata": {},
   "outputs": [],
   "source": [
    "def load_video(path:str) -> List[float]: \n",
    "\n",
    "    cap = cv2.VideoCapture(path)\n",
    "    frames = []\n",
    "    for _ in range(int(cap.get(cv2.CAP_PROP_FRAME_COUNT))): \n",
    "        ret, frame = cap.read()\n",
    "        frame = tf.image.rgb_to_grayscale(frame)\n",
    "        frames.append(frame[190:236,80:220,:])\n",
    "    cap.release()\n",
    "    \n",
    "    mean = tf.math.reduce_mean(frames)\n",
    "    std = tf.math.reduce_std(tf.cast(frames, tf.float32))\n",
    "#     return tf.cast((frames - mean), tf.float32) / std\n",
    "    return (tf.cast(frames, tf.float32) - tf.cast(mean, tf.float32)) / std"
   ]
  },
  {
   "cell_type": "code",
   "execution_count": 7,
   "id": "4f40740f",
   "metadata": {
    "tags": []
   },
   "outputs": [],
   "source": [
    "vocab = [x for x in \"abcdefghijklmnopqrstuvwxyz'?!123456789 \"]"
   ]
  },
  {
   "cell_type": "code",
   "execution_count": 8,
   "id": "c9d68ed9",
   "metadata": {
    "tags": []
   },
   "outputs": [],
   "source": [
    "# vocab"
   ]
  },
  {
   "cell_type": "code",
   "execution_count": 9,
   "id": "764530c8",
   "metadata": {
    "tags": []
   },
   "outputs": [
    {
     "name": "stdout",
     "output_type": "stream",
     "text": [
      "The vocabulary is: ['', 'a', 'b', 'c', 'd', 'e', 'f', 'g', 'h', 'i', 'j', 'k', 'l', 'm', 'n', 'o', 'p', 'q', 'r', 's', 't', 'u', 'v', 'w', 'x', 'y', 'z', \"'\", '?', '!', '1', '2', '3', '4', '5', '6', '7', '8', '9', ' '] (size =40)\n"
     ]
    }
   ],
   "source": [
    "char_to_num = tf.keras.layers.StringLookup(vocabulary=vocab, oov_token=\"\")\n",
    "num_to_char = tf.keras.layers.StringLookup(\n",
    "    vocabulary=char_to_num.get_vocabulary(), oov_token=\"\", invert=True\n",
    ")\n",
    "\n",
    "print(\n",
    "    f\"The vocabulary is: {char_to_num.get_vocabulary()} \"\n",
    "    f\"(size ={char_to_num.vocabulary_size()})\"\n",
    ")"
   ]
  },
  {
   "cell_type": "code",
   "execution_count": 10,
   "id": "81476c07",
   "metadata": {
    "tags": []
   },
   "outputs": [],
   "source": [
    "def load_alignments(path:str) -> List[str]: \n",
    "    with open(path, 'r') as f: \n",
    "        lines = f.readlines() \n",
    "    tokens = []\n",
    "    for line in lines:\n",
    "        line = line.split()\n",
    "        if line[2] != 'sil': \n",
    "            tokens = [*tokens,' ',line[2]]\n",
    "    return char_to_num(tf.reshape(tf.strings.unicode_split(tokens, input_encoding='UTF-8'), (-1)))[1:]"
   ]
  },
  {
   "cell_type": "code",
   "execution_count": 11,
   "id": "ea74dc04",
   "metadata": {
    "tags": []
   },
   "outputs": [],
   "source": [
    "def load_data(path: str): \n",
    "    path = bytes.decode(path.numpy())\n",
    "    file_name = path.split('\\\\')[-1].split('.')[0]\n",
    "    # File name splitting for windows\n",
    "    # Change - Changed Path Delimeter from \\\\ -> /\n",
    "#     file_name = path.split('/')[-1].split('.')[0]\n",
    "    video_path = os.path.join('data','s1',f'{file_name}.mpg')\n",
    "    alignment_path = os.path.join('data','alignments','s1',f'{file_name}.align')\n",
    "    frames = load_video(video_path) \n",
    "    alignments = load_alignments(alignment_path)\n",
    "    \n",
    "    return frames, alignments"
   ]
  },
  {
   "cell_type": "code",
   "execution_count": 12,
   "id": "07099b0b",
   "metadata": {
    "tags": []
   },
   "outputs": [],
   "source": [
    "test_path = '.\\\\data\\\\s1\\\\bbal6n.mpg'\n",
    "# test_path = \"./data/s1/bbal6n.mpg\""
   ]
  },
  {
   "cell_type": "code",
   "execution_count": 13,
   "id": "62d537e7",
   "metadata": {
    "tags": []
   },
   "outputs": [],
   "source": [
    "frames, alignments = load_data(tf.convert_to_tensor(test_path))"
   ]
  },
  {
   "cell_type": "code",
   "execution_count": 14,
   "id": "587c8dd3-f26f-4eea-8828-ae1b44afd892",
   "metadata": {},
   "outputs": [],
   "source": [
    "# frames"
   ]
  },
  {
   "cell_type": "code",
   "execution_count": 15,
   "id": "77aff8c7-cd2e-46b9-8d7f-5e95dc81f186",
   "metadata": {},
   "outputs": [
    {
     "data": {
      "text/plain": [
       "TensorShape([75, 46, 140, 1])"
      ]
     },
     "execution_count": 15,
     "metadata": {},
     "output_type": "execute_result"
    }
   ],
   "source": [
    "frames.shape"
   ]
  },
  {
   "cell_type": "code",
   "execution_count": 16,
   "id": "8a3a3794",
   "metadata": {
    "tags": []
   },
   "outputs": [
    {
     "data": {
      "text/plain": [
       "<matplotlib.image.AxesImage at 0x1c92f5ddc40>"
      ]
     },
     "execution_count": 16,
     "metadata": {},
     "output_type": "execute_result"
    },
    {
     "data": {
      "image/png": "[encoded data removed]",
      "text/plain": [
       "<Figure size 640x480 with 1 Axes>"
      ]
     },
     "metadata": {},
     "output_type": "display_data"
    }
   ],
   "source": [
    "plt.imshow(frames[1])"
   ]
  },
  {
   "cell_type": "code",
   "execution_count": 17,
   "id": "09cd7411-e82f-4112-8acb-5b8b262b29c7",
   "metadata": {},
   "outputs": [],
   "source": [
    "def mappable_function(path:str) ->List[str]:\n",
    "    result = tf.py_function(load_data, [path], (tf.float32, tf.int64))\n",
    "    return result"
   ]
  },
  {
   "cell_type": "code",
   "execution_count": 18,
   "id": "7d37fc4f-a62e-4a0e-9bf3-eb95a7cbf9da",
   "metadata": {},
   "outputs": [],
   "source": [
    "data = tf.data.Dataset.list_files('./data/s1/*.mpg')\n",
    "# Change - Changed name from \"data\" to \"data_shuffled\" so that we can use it later if needed, also added seed\n",
    "data_shuffled = data.shuffle(500, reshuffle_each_iteration=False, seed=123)\n",
    "data = data_shuffled.map(mappable_function)\n",
    "data = data.padded_batch(2, padded_shapes=([75,None,None,None],[40]))\n",
    "data = data.prefetch(tf.data.AUTOTUNE)"
   ]
  },
  {
   "cell_type": "code",
   "execution_count": 19,
   "id": "2a8b5668-b6e4-4c61-a689-eb572eebe0b0",
   "metadata": {},
   "outputs": [],
   "source": [
    "train = data.take(450)\n",
    "test = data.skip(450)"
   ]
  },
  {
   "cell_type": "code",
   "execution_count": 20,
   "id": "dfe1cb82",
   "metadata": {
    "tags": []
   },
   "outputs": [
    {
     "data": {
      "text/plain": [
       "500"
      ]
     },
     "execution_count": 20,
     "metadata": {},
     "output_type": "execute_result"
    }
   ],
   "source": [
    "len(data)"
   ]
  },
  {
   "cell_type": "code",
   "execution_count": 21,
   "id": "a0ab3c3a",
   "metadata": {
    "tags": []
   },
   "outputs": [
    {
     "data": {
      "text/plain": [
       "100"
      ]
     },
     "execution_count": 21,
     "metadata": {},
     "output_type": "execute_result"
    }
   ],
   "source": [
    "len([x.decode('utf-8') for x in list(data_shuffled.as_numpy_iterator())][:100])"
   ]
  },
  {
   "cell_type": "code",
   "execution_count": 22,
   "id": "53b21315",
   "metadata": {
    "tags": []
   },
   "outputs": [
    {
     "data": {
      "text/plain": [
       "50"
      ]
     },
     "execution_count": 22,
     "metadata": {},
     "output_type": "execute_result"
    }
   ],
   "source": [
    "len(test)"
   ]
  },
  {
   "cell_type": "code",
   "execution_count": 23,
   "id": "6c96edd6",
   "metadata": {
    "tags": []
   },
   "outputs": [],
   "source": [
    "frames, alignments = data.as_numpy_iterator().next()"
   ]
  },
  {
   "cell_type": "code",
   "execution_count": 24,
   "id": "2fb429ea",
   "metadata": {
    "tags": []
   },
   "outputs": [
    {
     "data": {
      "text/plain": [
       "2"
      ]
     },
     "execution_count": 24,
     "metadata": {},
     "output_type": "execute_result"
    }
   ],
   "source": [
    "len(frames)"
   ]
  },
  {
   "cell_type": "code",
   "execution_count": 25,
   "id": "ef31a920",
   "metadata": {
    "tags": []
   },
   "outputs": [],
   "source": [
    "from tensorflow.keras.models import Sequential \n",
    "from tensorflow.keras.layers import Conv3D, LSTM, Dense, Dropout, Bidirectional, MaxPool3D, Activation, Reshape, SpatialDropout3D, BatchNormalization, TimeDistributed, Flatten\n",
    "from tensorflow.keras.callbacks import ModelCheckpoint, LearningRateScheduler, EarlyStopping\n",
    "from tensorflow.keras.optimizers import legacy"
   ]
  },
  {
   "cell_type": "markdown",
   "id": "557c54e7",
   "metadata": {},
   "source": [
    "## Model Building"
   ]
  },
  {
   "cell_type": "code",
   "execution_count": 26,
   "id": "2afe5154",
   "metadata": {
    "tags": []
   },
   "outputs": [],
   "source": [
    "model = Sequential()\n",
    "model.add(Conv3D(128, 3, input_shape=(75,46,140,1), padding='same'))\n",
    "model.add(Activation('relu'))\n",
    "model.add(MaxPool3D((1,2,2)))\n",
    "\n",
    "model.add(Conv3D(256, 3, padding='same'))\n",
    "model.add(Activation('relu'))\n",
    "model.add(MaxPool3D((1,2,2)))\n",
    "\n",
    "model.add(Conv3D(75, 3, padding='same'))\n",
    "model.add(Activation('relu'))\n",
    "model.add(MaxPool3D((1,2,2)))\n",
    "\n",
    "model.add(TimeDistributed(Flatten()))\n",
    "\n",
    "model.add(Bidirectional(LSTM(128, kernel_initializer='Orthogonal', return_sequences=True)))\n",
    "model.add(Dropout(.5))\n",
    "\n",
    "model.add(Bidirectional(LSTM(128, kernel_initializer='Orthogonal', return_sequences=True)))\n",
    "model.add(Dropout(.5))\n",
    "\n",
    "model.add(Dense(char_to_num.vocabulary_size()+1, kernel_initializer='he_normal', activation='softmax'))"
   ]
  },
  {
   "cell_type": "code",
   "execution_count": 27,
   "id": "d6740f52",
   "metadata": {
    "tags": []
   },
   "outputs": [
    {
     "name": "stdout",
     "output_type": "stream",
     "text": [
      "Model: \"sequential\"\n",
      "_________________________________________________________________\n",
      " Layer (type)                Output Shape              Param #   \n",
      "=================================================================\n",
      " conv3d (Conv3D)             (None, 75, 46, 140, 128)  3584      \n",
      "                                                                 \n",
      " activation (Activation)     (None, 75, 46, 140, 128)  0         \n",
      "                                                                 \n",
      " max_pooling3d (MaxPooling3D  (None, 75, 23, 70, 128)  0         \n",
      " )                                                               \n",
      "                                                                 \n",
      " conv3d_1 (Conv3D)           (None, 75, 23, 70, 256)   884992    \n",
      "                                                                 \n",
      " activation_1 (Activation)   (None, 75, 23, 70, 256)   0         \n",
      "                                                                 \n",
      " max_pooling3d_1 (MaxPooling  (None, 75, 11, 35, 256)  0         \n",
      " 3D)                                                             \n",
      "                                                                 \n",
      " conv3d_2 (Conv3D)           (None, 75, 11, 35, 75)    518475    \n",
      "                                                                 \n",
      " activation_2 (Activation)   (None, 75, 11, 35, 75)    0         \n",
      "                                                                 \n",
      " max_pooling3d_2 (MaxPooling  (None, 75, 5, 17, 75)    0         \n",
      " 3D)                                                             \n",
      "                                                                 \n",
      " time_distributed (TimeDistr  (None, 75, 6375)         0         \n",
      " ibuted)                                                         \n",
      "                                                                 \n",
      " bidirectional (Bidirectiona  (None, 75, 256)          6660096   \n",
      " l)                                                              \n",
      "                                                                 \n",
      " dropout (Dropout)           (None, 75, 256)           0         \n",
      "                                                                 \n",
      " bidirectional_1 (Bidirectio  (None, 75, 256)          394240    \n",
      " nal)                                                            \n",
      "                                                                 \n",
      " dropout_1 (Dropout)         (None, 75, 256)           0         \n",
      "                                                                 \n",
      " dense (Dense)               (None, 75, 41)            10537     \n",
      "                                                                 \n",
      "=================================================================\n",
      "Total params: 8,471,924\n",
      "Trainable params: 8,471,924\n",
      "Non-trainable params: 0\n",
      "_________________________________________________________________\n"
     ]
    }
   ],
   "source": [
    "model.summary()"
   ]
  },
  {
   "cell_type": "code",
   "execution_count": 28,
   "id": "cc23bfed",
   "metadata": {
    "tags": []
   },
   "outputs": [
    {
     "data": {
      "text/plain": [
       "(None, 75, 46, 140, 1)"
      ]
     },
     "execution_count": 28,
     "metadata": {},
     "output_type": "execute_result"
    }
   ],
   "source": [
    "model.input_shape"
   ]
  },
  {
   "cell_type": "code",
   "execution_count": 29,
   "id": "b805f9d5",
   "metadata": {
    "tags": []
   },
   "outputs": [
    {
     "data": {
      "text/plain": [
       "(None, 75, 41)"
      ]
     },
     "execution_count": 29,
     "metadata": {},
     "output_type": "execute_result"
    }
   ],
   "source": [
    "model.output_shape"
   ]
  },
  {
   "cell_type": "code",
   "execution_count": 30,
   "id": "6ebeb21e",
   "metadata": {
    "tags": []
   },
   "outputs": [],
   "source": [
    "def CTCLoss(y_true, y_pred):\n",
    "    batch_len = tf.cast(tf.shape(y_true)[0], dtype=\"int64\")\n",
    "    input_length = tf.cast(tf.shape(y_pred)[1], dtype=\"int64\")\n",
    "    label_length = tf.cast(tf.shape(y_true)[1], dtype=\"int64\")\n",
    "\n",
    "    input_length = input_length * tf.ones(shape=(batch_len, 1), dtype=\"int64\")\n",
    "    label_length = label_length * tf.ones(shape=(batch_len, 1), dtype=\"int64\")\n",
    "\n",
    "    loss = tf.keras.backend.ctc_batch_cost(y_true, y_pred, input_length, label_length)\n",
    "    return loss"
   ]
  },
  {
   "cell_type": "code",
   "execution_count": 31,
   "id": "7f996329",
   "metadata": {
    "tags": []
   },
   "outputs": [],
   "source": [
    "model.compile(optimizer=legacy.Adam(learning_rate=0.0001), loss=CTCLoss)"
   ]
  },
  {
   "cell_type": "markdown",
   "id": "b9fc3d44",
   "metadata": {},
   "source": [
    "## Load Best Model"
   ]
  },
  {
   "cell_type": "code",
   "execution_count": 32,
   "id": "f4233b69",
   "metadata": {
    "tags": []
   },
   "outputs": [
    {
     "data": {
      "text/plain": [
       "<tensorflow.python.checkpoint.checkpoint.CheckpointLoadStatus at 0x1c942090be0>"
      ]
     },
     "execution_count": 32,
     "metadata": {},
     "output_type": "execute_result"
    }
   ],
   "source": [
    "model.load_weights('models/checkpoint')"
   ]
  },
  {
   "cell_type": "code",
   "execution_count": 33,
   "id": "316b7e65",
   "metadata": {
    "tags": []
   },
   "outputs": [],
   "source": [
    "# Change - Converted test to numpy iterator\n",
    "test = test.as_numpy_iterator()"
   ]
  },
  {
   "cell_type": "code",
   "execution_count": 34,
   "id": "698d5e17",
   "metadata": {
    "tags": []
   },
   "outputs": [
    {
     "data": {
      "text/plain": [
       "<tensorflow.python.data.ops.dataset_ops._NumpyIterator at 0x1c950a6bf40>"
      ]
     },
     "execution_count": 34,
     "metadata": {},
     "output_type": "execute_result"
    }
   ],
   "source": [
    "test"
   ]
  },
  {
   "cell_type": "code",
   "execution_count": null,
   "id": "567d9269",
   "metadata": {},
   "outputs": [],
   "source": [
    "# confusion metrics, tts, accuracy, f1 score ----> improvements, create UI"
   ]
  },
  {
   "cell_type": "markdown",
   "id": "a3aad832",
   "metadata": {},
   "source": [
    "### Major Changes - Evaluation"
   ]
  },
  {
   "cell_type": "markdown",
   "id": "d32aa8d5",
   "metadata": {},
   "source": [
    "### Get Predictions"
   ]
  },
  {
   "cell_type": "code",
   "execution_count": 35,
   "id": "25fc68bb",
   "metadata": {
    "tags": []
   },
   "outputs": [],
   "source": [
    "def decode_to_text(inp_arr):\n",
    "    decoded_arr = []\n",
    "    \n",
    "    for ele in inp_arr:\n",
    "#         tf string is eager tensor\n",
    "        tf_string = tf.strings.reduce_join([num_to_char(word) for word in ele])\n",
    "#     Convert eager tensor to numpy first., then you get bytes not a string,then you have to decode the bytes to convert it to a python string\n",
    "        decoded_arr.append(str(tf_string.numpy().decode('utf-8')))\n",
    "        \n",
    "    if len(decoded_arr) == 1:\n",
    "        return decoded_arr[0]\n",
    "    return decoded_arr"
   ]
  },
  {
   "cell_type": "code",
   "execution_count": 36,
   "id": "bf313446",
   "metadata": {
    "tags": []
   },
   "outputs": [
    {
     "data": {
      "text/plain": [
       "'set white with v seven soon'"
      ]
     },
     "execution_count": 36,
     "metadata": {},
     "output_type": "execute_result"
    }
   ],
   "source": [
    "decode_to_text([[19, 5, 20, 39, 23, 8, 9, 20, 5, 39, 23, 9, 20, 8, 39, 22, 39, 19, 5, 22, 5, 14, 39, 19, 15, 15, 14, 0, 0, 0, 0, 0, 0, 0, 0, 0, 0, 0, 0, 0, 0, 0]\n",
    "               ])"
   ]
  },
  {
   "cell_type": "code",
   "execution_count": 37,
   "id": "02aa844c",
   "metadata": {
    "tags": []
   },
   "outputs": [],
   "source": [
    "def get_predictions(data):\n",
    "    predicted_text_arr = []\n",
    "    \n",
    "    pred = model.predict(data)\n",
    "    for data_slice in pred:\n",
    "#         np.newaxis adds a new axis to the data slice such that it is comptible with the model imput dimensions\n",
    "        decoded = tf.keras.backend.ctc_decode(data_slice[np.newaxis,...], input_length=[75], greedy=True)[0][0].numpy()\n",
    "        text_output = decode_to_text(decoded)\n",
    "        predicted_text_arr.append(text_output)\n",
    "    \n",
    "    return predicted_text_arr"
   ]
  },
  {
   "cell_type": "code",
   "execution_count": 38,
   "id": "b5daf2a8-0ee2-45d9-abea-735a9c6ee0fc",
   "metadata": {},
   "outputs": [],
   "source": [
    "frames, alignments = load_data(tf.convert_to_tensor(test_path))"
   ]
  },
  {
   "cell_type": "code",
   "execution_count": 54,
   "id": "d8bc6f1e-7d20-4a6a-aae0-45953d8bddff",
   "metadata": {},
   "outputs": [],
   "source": [
    "temp = tf.data.Dataset.list_files(test_path)"
   ]
  },
  {
   "cell_type": "code",
   "execution_count": 55,
   "id": "184e47ad-77dd-4279-88b0-038e014b2474",
   "metadata": {},
   "outputs": [
    {
     "data": {
      "text/plain": [
       "<ShuffleDataset element_spec=TensorSpec(shape=(), dtype=tf.string, name=None)>"
      ]
     },
     "execution_count": 55,
     "metadata": {},
     "output_type": "execute_result"
    }
   ],
   "source": [
    "temp"
   ]
  },
  {
   "cell_type": "code",
   "execution_count": 92,
   "id": "ce9a1de3-34be-45d5-a18e-e0846f2c1460",
   "metadata": {},
   "outputs": [],
   "source": [
    "def load_data(path: str): \n",
    "    path = bytes.decode(path.numpy())\n",
    "    file_name = path.split('\\\\')[-1].split('.')[0]\n",
    "    # File name splitting for windows\n",
    "#     file_name = path.split('/')[-1].split('.')[0]\n",
    "    video_path = os.path.join('data','s1',f'{file_name}.mpg')\n",
    "    alignment_path = os.path.join('data','alignments','s1',f'{file_name}.align')\n",
    "    frames = load_video(video_path) \n",
    "    alignments = tf.zeros(5, dtype=tf.int64)\n",
    "    print(alignments)\n",
    "    \n",
    "    return frames, alignments"
   ]
  },
  {
   "cell_type": "code",
   "execution_count": 93,
   "id": "47e3bae5-176d-4def-8059-d3f84353a3f8",
   "metadata": {},
   "outputs": [],
   "source": [
    "data = temp.map(mappable_function)\n",
    "data = data.padded_batch(2, padded_shapes=([75,None,None,None],[40]))\n",
    "data = data.prefetch(tf.data.AUTOTUNE)"
   ]
  },
  {
   "cell_type": "code",
   "execution_count": 94,
   "id": "c2fa92e2-a8ed-4ae9-90c8-761f1869f582",
   "metadata": {},
   "outputs": [],
   "source": [
    "test = data.take(1)"
   ]
  },
  {
   "cell_type": "code",
   "execution_count": 95,
   "id": "6225784a-534d-4d28-9bb3-8e193d27e73b",
   "metadata": {},
   "outputs": [
    {
     "name": "stdout",
     "output_type": "stream",
     "text": [
      "tf.Tensor([0 0 0 0 0], shape=(5,), dtype=int64)\n"
     ]
    },
    {
     "data": {
      "text/plain": [
       "(1, 75, 46, 140, 1)"
      ]
     },
     "execution_count": 95,
     "metadata": {},
     "output_type": "execute_result"
    }
   ],
   "source": [
    "next(test.as_numpy_iterator())[0].shape"
   ]
  },
  {
   "cell_type": "code",
   "execution_count": 96,
   "id": "bd35b318-2ced-408b-905f-d29b8360fdb0",
   "metadata": {},
   "outputs": [
    {
     "name": "stdout",
     "output_type": "stream",
     "text": [
      "tf.Tensor([0 0 0 0 0], shape=(5,), dtype=int64)\n",
      "1/1 [==============================] - 0s 359ms/step\n"
     ]
    }
   ],
   "source": [
    "pred = get_predictions(next(test.as_numpy_iterator())[0])"
   ]
  },
  {
   "cell_type": "code",
   "execution_count": 97,
   "id": "ebbc39f4-9367-486a-ac3a-7d72cf8c27f4",
   "metadata": {},
   "outputs": [
    {
     "data": {
      "text/plain": [
       "['se lee it i ixe again']"
      ]
     },
     "execution_count": 97,
     "metadata": {},
     "output_type": "execute_result"
    }
   ],
   "source": [
    "pred"
   ]
  },
  {
   "cell_type": "markdown",
   "id": "2aa4dcdf-3aec-4ef8-addd-9d0dc45f3ccc",
   "metadata": {},
   "source": [
    "## Inference Pipeline"
   ]
  },
  {
   "cell_type": "code",
   "execution_count": 98,
   "id": "89fd8a39-8c58-41a4-b396-05febae3505d",
   "metadata": {},
   "outputs": [],
   "source": [
    "def load_video(path:str) -> List[float]: \n",
    "\n",
    "    cap = cv2.VideoCapture(path)\n",
    "    frames = []\n",
    "    for _ in range(int(cap.get(cv2.CAP_PROP_FRAME_COUNT))): \n",
    "        ret, frame = cap.read()\n",
    "        frame = tf.image.rgb_to_grayscale(frame)\n",
    "        frames.append(frame[190:236,80:220,:])\n",
    "    cap.release()\n",
    "    \n",
    "    mean = tf.math.reduce_mean(frames)\n",
    "    std = tf.math.reduce_std(tf.cast(frames, tf.float32))\n",
    "    return (tf.cast(frames, tf.float32) - tf.cast(mean, tf.float32)) / std"
   ]
  },
  {
   "cell_type": "code",
   "execution_count": 105,
   "id": "7e2ec557-0655-4e49-8976-54d8d6f6b51e",
   "metadata": {},
   "outputs": [],
   "source": [
    "def load_data(path: str): \n",
    "    path = bytes.decode(path.numpy())\n",
    "    file_name = path.split('\\\\')[-1].split('.')[0]\n",
    "    # File name splitting for windows\n",
    "#     file_name = path.split('/')[-1].split('.')[0]\n",
    "    video_path = os.path.join('data','s1',f'{file_name}.mpg')\n",
    "    alignment_path = os.path.join('data','alignments','s1',f'{file_name}.align')\n",
    "    frames = load_video(video_path) \n",
    "    alignments = tf.zeros(5, dtype=tf.int64)\n",
    "    \n",
    "    return frames, alignments"
   ]
  },
  {
   "cell_type": "code",
   "execution_count": 99,
   "id": "033553c4-e211-4a29-8da6-7bc0aa8a3aac",
   "metadata": {},
   "outputs": [],
   "source": [
    "def mappable_function(path:str) ->List[str]:\n",
    "    result = tf.py_function(load_data, [path], (tf.float32, tf.int64))\n",
    "    return result"
   ]
  },
  {
   "cell_type": "code",
   "execution_count": 101,
   "id": "aa0e3c1c-0b0d-41ab-9305-d7e1d76d716c",
   "metadata": {},
   "outputs": [],
   "source": [
    "def decode_to_text(inp_arr):\n",
    "    decoded_arr = []\n",
    "    \n",
    "    for ele in inp_arr:\n",
    "#         tf string is eager tensor\n",
    "        tf_string = tf.strings.reduce_join([num_to_char(word) for word in ele])\n",
    "#     Convert eager tensor to numpy first., then you get bytes not a string,then you have to decode the bytes to convert it to a python string\n",
    "        decoded_arr.append(str(tf_string.numpy().decode('utf-8')))\n",
    "        \n",
    "    if len(decoded_arr) == 1:\n",
    "        return decoded_arr[0]\n",
    "    return decoded_arr"
   ]
  },
  {
   "cell_type": "code",
   "execution_count": 102,
   "id": "670a8bd7-4528-4cad-8329-5f109a3dab4f",
   "metadata": {},
   "outputs": [],
   "source": [
    "def get_predictions(data):\n",
    "    predicted_text_arr = []\n",
    "    \n",
    "    pred = model.predict(data)\n",
    "    for data_slice in pred:\n",
    "#         np.newaxis adds a new axis to the data slice such that it is comptible with the model imput dimensions\n",
    "        decoded = tf.keras.backend.ctc_decode(data_slice[np.newaxis,...], input_length=[75], greedy=True)[0][0].numpy()\n",
    "        text_output = decode_to_text(decoded)\n",
    "        predicted_text_arr.append(text_output)\n",
    "    \n",
    "    return predicted_text_arr"
   ]
  },
  {
   "cell_type": "code",
   "execution_count": 103,
   "id": "1ff81170-60f4-420a-a647-c81baef55d07",
   "metadata": {},
   "outputs": [],
   "source": [
    "def inference_pipeline(path):\n",
    "    data = tf.data.Dataset.list_files(path)\n",
    "    data = data.map(mappable_function)\n",
    "    data = data.padded_batch(2, padded_shapes=([75,None,None,None],[40]))\n",
    "    data = data.prefetch(tf.data.AUTOTUNE)\n",
    "    \n",
    "    test = data.take(1)\n",
    "    pred = get_predictions(next(test.as_numpy_iterator())[0])\n",
    "    return pred"
   ]
  },
  {
   "cell_type": "code",
   "execution_count": 106,
   "id": "2efb058a-f914-40e7-a604-d0d829679145",
   "metadata": {},
   "outputs": [
    {
     "name": "stdout",
     "output_type": "stream",
     "text": [
      "1/1 [==============================] - 0s 377ms/step\n"
     ]
    },
    {
     "data": {
      "text/plain": [
       "['se ree it t hre again']"
      ]
     },
     "execution_count": 106,
     "metadata": {},
     "output_type": "execute_result"
    }
   ],
   "source": [
    "inference_pipeline(\"./data/s1/bbaf4p.mpg\")"
   ]
  },
  {
   "cell_type": "code",
   "execution_count": null,
   "id": "7c9913de-a904-40c1-8c11-9ed679f9a54f",
   "metadata": {},
   "outputs": [],
   "source": []
  }
 ],
 "metadata": {
  "kernelspec": {
   "display_name": "strokeenv",
   "language": "python",
   "name": "strokeenv"
  },
  "language_info": {
   "codemirror_mode": {
    "name": "ipython",
    "version": 3
   },
   "file_extension": ".py",
   "mimetype": "text/x-python",
   "name": "python",
   "nbconvert_exporter": "python",
   "pygments_lexer": "ipython3",
   "version": "3.8.16"
  }
 },
 "nbformat": 4,
 "nbformat_minor": 5
}
