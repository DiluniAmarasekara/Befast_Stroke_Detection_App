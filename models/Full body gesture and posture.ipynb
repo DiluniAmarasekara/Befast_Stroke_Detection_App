{
 "cells": [
  {
   "cell_type": "markdown",
   "id": "b9c60c7d",
   "metadata": {},
   "source": [
    "<h1 align=\"center\"> Full Gesture And Posture Prediction <h1>\n",
    "    \n",
    "<p style=\"text-align:center\"><img src=\"https://images.elearncollege.com/wp-content/uploads/2021/09/BODY-LANGUAGE-01-scaled.jpg\"/></p>"
   ]
  },
  {
   "cell_type": "markdown",
   "id": "f50b9e50",
   "metadata": {},
   "source": [
    "## Download and Import Libraries"
   ]
  },
  {
   "cell_type": "code",
   "execution_count": 17,
   "id": "3a55afa1",
   "metadata": {},
   "outputs": [
    {
     "name": "stdout",
     "output_type": "stream",
     "text": [
      "Requirement already satisfied: mediapipe in c:\\users\\dell\\anaconda3\\lib\\site-packages (0.9.1.0)\n",
      "Requirement already satisfied: opencv-python in c:\\users\\dell\\anaconda3\\lib\\site-packages (4.7.0.68)\n",
      "Requirement already satisfied: pandas in c:\\users\\dell\\anaconda3\\lib\\site-packages (1.4.4)\n",
      "Requirement already satisfied: scikit-learn in c:\\users\\dell\\anaconda3\\lib\\site-packages (1.0.2)\n",
      "Requirement already satisfied: protobuf<4,>=3.11 in c:\\users\\dell\\anaconda3\\lib\\site-packages (from mediapipe) (3.19.6)\n",
      "Requirement already satisfied: numpy in c:\\users\\dell\\anaconda3\\lib\\site-packages (from mediapipe) (1.21.5)\n",
      "Requirement already satisfied: attrs>=19.1.0 in c:\\users\\dell\\anaconda3\\lib\\site-packages (from mediapipe) (21.4.0)\n",
      "Requirement already satisfied: matplotlib in c:\\users\\dell\\anaconda3\\lib\\site-packages (from mediapipe) (3.5.2)\n",
      "Requirement already satisfied: absl-py in c:\\users\\dell\\anaconda3\\lib\\site-packages (from mediapipe) (1.4.0)\n",
      "Requirement already satisfied: opencv-contrib-python in c:\\users\\dell\\anaconda3\\lib\\site-packages (from mediapipe) (4.7.0.68)\n",
      "Requirement already satisfied: flatbuffers>=2.0 in c:\\users\\dell\\anaconda3\\lib\\site-packages (from mediapipe) (23.1.21)\n",
      "Requirement already satisfied: python-dateutil>=2.8.1 in c:\\users\\dell\\anaconda3\\lib\\site-packages (from pandas) (2.8.2)\n",
      "Requirement already satisfied: pytz>=2020.1 in c:\\users\\dell\\anaconda3\\lib\\site-packages (from pandas) (2022.1)\n",
      "Requirement already satisfied: threadpoolctl>=2.0.0 in c:\\users\\dell\\anaconda3\\lib\\site-packages (from scikit-learn) (2.2.0)\n",
      "Requirement already satisfied: joblib>=0.11 in c:\\users\\dell\\anaconda3\\lib\\site-packages (from scikit-learn) (1.1.0)\n",
      "Requirement already satisfied: scipy>=1.1.0 in c:\\users\\dell\\anaconda3\\lib\\site-packages (from scikit-learn) (1.9.1)\n",
      "Requirement already satisfied: six>=1.5 in c:\\users\\dell\\anaconda3\\lib\\site-packages (from python-dateutil>=2.8.1->pandas) (1.16.0)\n",
      "Requirement already satisfied: packaging>=20.0 in c:\\users\\dell\\anaconda3\\lib\\site-packages (from matplotlib->mediapipe) (21.3)\n",
      "Requirement already satisfied: fonttools>=4.22.0 in c:\\users\\dell\\anaconda3\\lib\\site-packages (from matplotlib->mediapipe) (4.25.0)\n",
      "Requirement already satisfied: cycler>=0.10 in c:\\users\\dell\\anaconda3\\lib\\site-packages (from matplotlib->mediapipe) (0.11.0)\n",
      "Requirement already satisfied: pillow>=6.2.0 in c:\\users\\dell\\anaconda3\\lib\\site-packages (from matplotlib->mediapipe) (9.2.0)\n",
      "Requirement already satisfied: kiwisolver>=1.0.1 in c:\\users\\dell\\anaconda3\\lib\\site-packages (from matplotlib->mediapipe) (1.4.2)\n",
      "Requirement already satisfied: pyparsing>=2.2.1 in c:\\users\\dell\\anaconda3\\lib\\site-packages (from matplotlib->mediapipe) (3.0.9)\n"
     ]
    }
   ],
   "source": [
    "!pip install mediapipe opencv-python pandas scikit-learn"
   ]
  },
  {
   "cell_type": "code",
   "execution_count": 1,
   "id": "03ff5d46",
   "metadata": {},
   "outputs": [],
   "source": [
    "import mediapipe as mp # Import mediapipe\n",
    "import cv2 # Import opencv"
   ]
  },
  {
   "cell_type": "code",
   "execution_count": 2,
   "id": "c569cb57",
   "metadata": {},
   "outputs": [],
   "source": [
    "mp_drawing = mp.solutions.drawing_utils # Drawing helpers\n",
    "mp_holistic = mp.solutions.holistic # Mediapipe Solutions"
   ]
  },
  {
   "cell_type": "markdown",
   "id": "60756198",
   "metadata": {},
   "source": [
    "## Make Some Detections"
   ]
  },
  {
   "cell_type": "code",
   "execution_count": 3,
   "id": "6b6cc228",
   "metadata": {},
   "outputs": [
    {
     "ename": "KeyboardInterrupt",
     "evalue": "",
     "output_type": "error",
     "traceback": [
      "\u001B[1;31m---------------------------------------------------------------------------\u001B[0m",
      "\u001B[1;31mKeyboardInterrupt\u001B[0m                         Traceback (most recent call last)",
      "\u001B[1;32m~\\AppData\\Local\\Temp\\ipykernel_22560\\550893380.py\u001B[0m in \u001B[0;36m<module>\u001B[1;34m\u001B[0m\n\u001B[0;32m     11\u001B[0m \u001B[1;33m\u001B[0m\u001B[0m\n\u001B[0;32m     12\u001B[0m         \u001B[1;31m# Make Detections\u001B[0m\u001B[1;33m\u001B[0m\u001B[1;33m\u001B[0m\u001B[0m\n\u001B[1;32m---> 13\u001B[1;33m         \u001B[0mresults\u001B[0m \u001B[1;33m=\u001B[0m \u001B[0mholistic\u001B[0m\u001B[1;33m.\u001B[0m\u001B[0mprocess\u001B[0m\u001B[1;33m(\u001B[0m\u001B[0mimage\u001B[0m\u001B[1;33m)\u001B[0m\u001B[1;33m\u001B[0m\u001B[1;33m\u001B[0m\u001B[0m\n\u001B[0m\u001B[0;32m     14\u001B[0m         \u001B[1;31m# print(results.face_landmarks)\u001B[0m\u001B[1;33m\u001B[0m\u001B[1;33m\u001B[0m\u001B[0m\n\u001B[0;32m     15\u001B[0m \u001B[1;33m\u001B[0m\u001B[0m\n",
      "\u001B[1;32m~\\anaconda3\\lib\\site-packages\\mediapipe\\python\\solutions\\holistic.py\u001B[0m in \u001B[0;36mprocess\u001B[1;34m(self, image)\u001B[0m\n\u001B[0;32m    158\u001B[0m     \"\"\"\n\u001B[0;32m    159\u001B[0m \u001B[1;33m\u001B[0m\u001B[0m\n\u001B[1;32m--> 160\u001B[1;33m     \u001B[0mresults\u001B[0m \u001B[1;33m=\u001B[0m \u001B[0msuper\u001B[0m\u001B[1;33m(\u001B[0m\u001B[1;33m)\u001B[0m\u001B[1;33m.\u001B[0m\u001B[0mprocess\u001B[0m\u001B[1;33m(\u001B[0m\u001B[0minput_data\u001B[0m\u001B[1;33m=\u001B[0m\u001B[1;33m{\u001B[0m\u001B[1;34m'image'\u001B[0m\u001B[1;33m:\u001B[0m \u001B[0mimage\u001B[0m\u001B[1;33m}\u001B[0m\u001B[1;33m)\u001B[0m\u001B[1;33m\u001B[0m\u001B[1;33m\u001B[0m\u001B[0m\n\u001B[0m\u001B[0;32m    161\u001B[0m     \u001B[1;32mif\u001B[0m \u001B[0mresults\u001B[0m\u001B[1;33m.\u001B[0m\u001B[0mpose_landmarks\u001B[0m\u001B[1;33m:\u001B[0m  \u001B[1;31m# pytype: disable=attribute-error\u001B[0m\u001B[1;33m\u001B[0m\u001B[1;33m\u001B[0m\u001B[0m\n\u001B[0;32m    162\u001B[0m       \u001B[1;32mfor\u001B[0m \u001B[0mlandmark\u001B[0m \u001B[1;32min\u001B[0m \u001B[0mresults\u001B[0m\u001B[1;33m.\u001B[0m\u001B[0mpose_landmarks\u001B[0m\u001B[1;33m.\u001B[0m\u001B[0mlandmark\u001B[0m\u001B[1;33m:\u001B[0m  \u001B[1;31m# pytype: disable=attribute-error\u001B[0m\u001B[1;33m\u001B[0m\u001B[1;33m\u001B[0m\u001B[0m\n",
      "\u001B[1;32m~\\anaconda3\\lib\\site-packages\\mediapipe\\python\\solution_base.py\u001B[0m in \u001B[0;36mprocess\u001B[1;34m(self, input_data)\u001B[0m\n\u001B[0;32m    363\u001B[0m                                      data).at(self._simulated_timestamp))\n\u001B[0;32m    364\u001B[0m \u001B[1;33m\u001B[0m\u001B[0m\n\u001B[1;32m--> 365\u001B[1;33m     \u001B[0mself\u001B[0m\u001B[1;33m.\u001B[0m\u001B[0m_graph\u001B[0m\u001B[1;33m.\u001B[0m\u001B[0mwait_until_idle\u001B[0m\u001B[1;33m(\u001B[0m\u001B[1;33m)\u001B[0m\u001B[1;33m\u001B[0m\u001B[1;33m\u001B[0m\u001B[0m\n\u001B[0m\u001B[0;32m    366\u001B[0m     \u001B[1;31m# Create a NamedTuple object where the field names are mapping to the graph\u001B[0m\u001B[1;33m\u001B[0m\u001B[1;33m\u001B[0m\u001B[0m\n\u001B[0;32m    367\u001B[0m     \u001B[1;31m# output stream names.\u001B[0m\u001B[1;33m\u001B[0m\u001B[1;33m\u001B[0m\u001B[0m\n",
      "\u001B[1;31mKeyboardInterrupt\u001B[0m: "
     ]
    }
   ],
   "source": [
    "cap = cv2.VideoCapture(0)\n",
    "# Initiate holistic model\n",
    "with mp_holistic.Holistic(min_detection_confidence=0.5, min_tracking_confidence=0.5) as holistic:\n",
    "    \n",
    "    while cap.isOpened():\n",
    "        ret, frame = cap.read()\n",
    "        \n",
    "        # Recolor Feed\n",
    "        image = cv2.cvtColor(frame, cv2.COLOR_BGR2RGB)\n",
    "        image.flags.writeable = False        \n",
    "        \n",
    "        # Make Detections\n",
    "        results = holistic.process(image)\n",
    "        # print(results.face_landmarks)\n",
    "        \n",
    "        # face_landmarks, pose_landmarks, left_hand_landmarks, right_hand_landmarks\n",
    "        \n",
    "        # Recolor image back to BGR for rendering\n",
    "        image.flags.writeable = True   \n",
    "        image = cv2.cvtColor(image, cv2.COLOR_RGB2BGR)\n",
    "        \n",
    "        # 1. Draw face landmarks\n",
    "        mp_drawing.draw_landmarks(image, results.face_landmarks, mp_holistic.FACEMESH_CONTOURS, \n",
    "                                 mp_drawing.DrawingSpec(color=(80,110,10), thickness=1, circle_radius=1),\n",
    "                                 mp_drawing.DrawingSpec(color=(80,256,121), thickness=1, circle_radius=1)\n",
    "                                 )\n",
    "        \n",
    "        # 2. Right hand\n",
    "        mp_drawing.draw_landmarks(image, results.right_hand_landmarks, mp_holistic.HAND_CONNECTIONS, \n",
    "                                 mp_drawing.DrawingSpec(color=(80,22,10), thickness=2, circle_radius=4),\n",
    "                                 mp_drawing.DrawingSpec(color=(80,44,121), thickness=2, circle_radius=2)\n",
    "                                 )\n",
    "\n",
    "        # 3. Left Hand\n",
    "        mp_drawing.draw_landmarks(image, results.left_hand_landmarks, mp_holistic.HAND_CONNECTIONS, \n",
    "                                 mp_drawing.DrawingSpec(color=(121,22,76), thickness=2, circle_radius=4),\n",
    "                                 mp_drawing.DrawingSpec(color=(121,44,250), thickness=2, circle_radius=2)\n",
    "                                 )\n",
    "\n",
    "        # 4. Pose Detections\n",
    "        mp_drawing.draw_landmarks(image, results.pose_landmarks, mp_holistic.POSE_CONNECTIONS, \n",
    "                                 mp_drawing.DrawingSpec(color=(245,117,66), thickness=2, circle_radius=4),\n",
    "                                 mp_drawing.DrawingSpec(color=(245,66,230), thickness=2, circle_radius=2)\n",
    "                                 )\n",
    "                        \n",
    "        cv2.imshow('Raw Webcam Feed', image)\n",
    "\n",
    "        if cv2.waitKey(10) & 0xFF == ord('q'):\n",
    "            break\n",
    "\n",
    "cap.release()\n",
    "cv2.destroyAllWindows()"
   ]
  },
  {
   "cell_type": "code",
   "execution_count": 4,
   "id": "1a5702bd",
   "metadata": {},
   "outputs": [],
   "source": [
    "cap.release()\n",
    "cv2.destroyAllWindows()"
   ]
  },
  {
   "cell_type": "code",
   "execution_count": 5,
   "id": "e1a1bd80",
   "metadata": {},
   "outputs": [
    {
     "data": {
      "text/plain": [
       "0.0"
      ]
     },
     "execution_count": 5,
     "metadata": {},
     "output_type": "execute_result"
    }
   ],
   "source": [
    "results.face_landmarks.landmark[0].visibility"
   ]
  },
  {
   "cell_type": "markdown",
   "id": "f8cc0cf0",
   "metadata": {},
   "source": [
    "## Capture Landmarks & Export to CSV"
   ]
  },
  {
   "cell_type": "code",
   "execution_count": 6,
   "id": "84a7900e",
   "metadata": {},
   "outputs": [],
   "source": [
    "import csv\n",
    "import os\n",
    "import numpy as np"
   ]
  },
  {
   "cell_type": "code",
   "execution_count": 7,
   "id": "d2a8dadf",
   "metadata": {},
   "outputs": [
    {
     "data": {
      "text/plain": [
       "frozenset({(0, 1),\n",
       "           (0, 4),\n",
       "           (1, 2),\n",
       "           (2, 3),\n",
       "           (3, 7),\n",
       "           (4, 5),\n",
       "           (5, 6),\n",
       "           (6, 8),\n",
       "           (9, 10),\n",
       "           (11, 12),\n",
       "           (11, 13),\n",
       "           (11, 23),\n",
       "           (12, 14),\n",
       "           (12, 24),\n",
       "           (13, 15),\n",
       "           (14, 16),\n",
       "           (15, 17),\n",
       "           (15, 19),\n",
       "           (15, 21),\n",
       "           (16, 18),\n",
       "           (16, 20),\n",
       "           (16, 22),\n",
       "           (17, 19),\n",
       "           (18, 20),\n",
       "           (23, 24),\n",
       "           (23, 25),\n",
       "           (24, 26),\n",
       "           (25, 27),\n",
       "           (26, 28),\n",
       "           (27, 29),\n",
       "           (27, 31),\n",
       "           (28, 30),\n",
       "           (28, 32),\n",
       "           (29, 31),\n",
       "           (30, 32)})"
      ]
     },
     "execution_count": 7,
     "metadata": {},
     "output_type": "execute_result"
    }
   ],
   "source": [
    "mp_holistic.POSE_CONNECTIONS"
   ]
  },
  {
   "cell_type": "code",
   "execution_count": 8,
   "id": "698a18b0",
   "metadata": {},
   "outputs": [
    {
     "data": {
      "text/plain": [
       "501"
      ]
     },
     "execution_count": 8,
     "metadata": {},
     "output_type": "execute_result"
    }
   ],
   "source": [
    "num_coords = len(results.pose_landmarks.landmark)+len(results.face_landmarks.landmark)\n",
    "num_coords"
   ]
  },
  {
   "cell_type": "code",
   "execution_count": 9,
   "id": "b0759764",
   "metadata": {},
   "outputs": [],
   "source": [
    "landmarks = ['class']\n",
    "for val in range(1, num_coords+1):\n",
    "    landmarks += ['x{}'.format(val), 'y{}'.format(val), 'z{}'.format(val), 'v{}'.format(val)]"
   ]
  },
  {
   "cell_type": "code",
   "execution_count": 10,
   "id": "a1f042bb",
   "metadata": {},
   "outputs": [
    {
     "data": {
      "text/plain": [
       "['class',\n",
       " 'x1',\n",
       " 'y1',\n",
       " 'z1',\n",
       " 'v1',\n",
       " 'x2',\n",
       " 'y2',\n",
       " 'z2',\n",
       " 'v2',\n",
       " 'x3',\n",
       " 'y3',\n",
       " 'z3',\n",
       " 'v3',\n",
       " 'x4',\n",
       " 'y4',\n",
       " 'z4',\n",
       " 'v4',\n",
       " 'x5',\n",
       " 'y5',\n",
       " 'z5',\n",
       " 'v5',\n",
       " 'x6',\n",
       " 'y6',\n",
       " 'z6',\n",
       " 'v6',\n",
       " 'x7',\n",
       " 'y7',\n",
       " 'z7',\n",
       " 'v7',\n",
       " 'x8',\n",
       " 'y8',\n",
       " 'z8',\n",
       " 'v8',\n",
       " 'x9',\n",
       " 'y9',\n",
       " 'z9',\n",
       " 'v9',\n",
       " 'x10',\n",
       " 'y10',\n",
       " 'z10',\n",
       " 'v10',\n",
       " 'x11',\n",
       " 'y11',\n",
       " 'z11',\n",
       " 'v11',\n",
       " 'x12',\n",
       " 'y12',\n",
       " 'z12',\n",
       " 'v12',\n",
       " 'x13',\n",
       " 'y13',\n",
       " 'z13',\n",
       " 'v13',\n",
       " 'x14',\n",
       " 'y14',\n",
       " 'z14',\n",
       " 'v14',\n",
       " 'x15',\n",
       " 'y15',\n",
       " 'z15',\n",
       " 'v15',\n",
       " 'x16',\n",
       " 'y16',\n",
       " 'z16',\n",
       " 'v16',\n",
       " 'x17',\n",
       " 'y17',\n",
       " 'z17',\n",
       " 'v17',\n",
       " 'x18',\n",
       " 'y18',\n",
       " 'z18',\n",
       " 'v18',\n",
       " 'x19',\n",
       " 'y19',\n",
       " 'z19',\n",
       " 'v19',\n",
       " 'x20',\n",
       " 'y20',\n",
       " 'z20',\n",
       " 'v20',\n",
       " 'x21',\n",
       " 'y21',\n",
       " 'z21',\n",
       " 'v21',\n",
       " 'x22',\n",
       " 'y22',\n",
       " 'z22',\n",
       " 'v22',\n",
       " 'x23',\n",
       " 'y23',\n",
       " 'z23',\n",
       " 'v23',\n",
       " 'x24',\n",
       " 'y24',\n",
       " 'z24',\n",
       " 'v24',\n",
       " 'x25',\n",
       " 'y25',\n",
       " 'z25',\n",
       " 'v25',\n",
       " 'x26',\n",
       " 'y26',\n",
       " 'z26',\n",
       " 'v26',\n",
       " 'x27',\n",
       " 'y27',\n",
       " 'z27',\n",
       " 'v27',\n",
       " 'x28',\n",
       " 'y28',\n",
       " 'z28',\n",
       " 'v28',\n",
       " 'x29',\n",
       " 'y29',\n",
       " 'z29',\n",
       " 'v29',\n",
       " 'x30',\n",
       " 'y30',\n",
       " 'z30',\n",
       " 'v30',\n",
       " 'x31',\n",
       " 'y31',\n",
       " 'z31',\n",
       " 'v31',\n",
       " 'x32',\n",
       " 'y32',\n",
       " 'z32',\n",
       " 'v32',\n",
       " 'x33',\n",
       " 'y33',\n",
       " 'z33',\n",
       " 'v33',\n",
       " 'x34',\n",
       " 'y34',\n",
       " 'z34',\n",
       " 'v34',\n",
       " 'x35',\n",
       " 'y35',\n",
       " 'z35',\n",
       " 'v35',\n",
       " 'x36',\n",
       " 'y36',\n",
       " 'z36',\n",
       " 'v36',\n",
       " 'x37',\n",
       " 'y37',\n",
       " 'z37',\n",
       " 'v37',\n",
       " 'x38',\n",
       " 'y38',\n",
       " 'z38',\n",
       " 'v38',\n",
       " 'x39',\n",
       " 'y39',\n",
       " 'z39',\n",
       " 'v39',\n",
       " 'x40',\n",
       " 'y40',\n",
       " 'z40',\n",
       " 'v40',\n",
       " 'x41',\n",
       " 'y41',\n",
       " 'z41',\n",
       " 'v41',\n",
       " 'x42',\n",
       " 'y42',\n",
       " 'z42',\n",
       " 'v42',\n",
       " 'x43',\n",
       " 'y43',\n",
       " 'z43',\n",
       " 'v43',\n",
       " 'x44',\n",
       " 'y44',\n",
       " 'z44',\n",
       " 'v44',\n",
       " 'x45',\n",
       " 'y45',\n",
       " 'z45',\n",
       " 'v45',\n",
       " 'x46',\n",
       " 'y46',\n",
       " 'z46',\n",
       " 'v46',\n",
       " 'x47',\n",
       " 'y47',\n",
       " 'z47',\n",
       " 'v47',\n",
       " 'x48',\n",
       " 'y48',\n",
       " 'z48',\n",
       " 'v48',\n",
       " 'x49',\n",
       " 'y49',\n",
       " 'z49',\n",
       " 'v49',\n",
       " 'x50',\n",
       " 'y50',\n",
       " 'z50',\n",
       " 'v50',\n",
       " 'x51',\n",
       " 'y51',\n",
       " 'z51',\n",
       " 'v51',\n",
       " 'x52',\n",
       " 'y52',\n",
       " 'z52',\n",
       " 'v52',\n",
       " 'x53',\n",
       " 'y53',\n",
       " 'z53',\n",
       " 'v53',\n",
       " 'x54',\n",
       " 'y54',\n",
       " 'z54',\n",
       " 'v54',\n",
       " 'x55',\n",
       " 'y55',\n",
       " 'z55',\n",
       " 'v55',\n",
       " 'x56',\n",
       " 'y56',\n",
       " 'z56',\n",
       " 'v56',\n",
       " 'x57',\n",
       " 'y57',\n",
       " 'z57',\n",
       " 'v57',\n",
       " 'x58',\n",
       " 'y58',\n",
       " 'z58',\n",
       " 'v58',\n",
       " 'x59',\n",
       " 'y59',\n",
       " 'z59',\n",
       " 'v59',\n",
       " 'x60',\n",
       " 'y60',\n",
       " 'z60',\n",
       " 'v60',\n",
       " 'x61',\n",
       " 'y61',\n",
       " 'z61',\n",
       " 'v61',\n",
       " 'x62',\n",
       " 'y62',\n",
       " 'z62',\n",
       " 'v62',\n",
       " 'x63',\n",
       " 'y63',\n",
       " 'z63',\n",
       " 'v63',\n",
       " 'x64',\n",
       " 'y64',\n",
       " 'z64',\n",
       " 'v64',\n",
       " 'x65',\n",
       " 'y65',\n",
       " 'z65',\n",
       " 'v65',\n",
       " 'x66',\n",
       " 'y66',\n",
       " 'z66',\n",
       " 'v66',\n",
       " 'x67',\n",
       " 'y67',\n",
       " 'z67',\n",
       " 'v67',\n",
       " 'x68',\n",
       " 'y68',\n",
       " 'z68',\n",
       " 'v68',\n",
       " 'x69',\n",
       " 'y69',\n",
       " 'z69',\n",
       " 'v69',\n",
       " 'x70',\n",
       " 'y70',\n",
       " 'z70',\n",
       " 'v70',\n",
       " 'x71',\n",
       " 'y71',\n",
       " 'z71',\n",
       " 'v71',\n",
       " 'x72',\n",
       " 'y72',\n",
       " 'z72',\n",
       " 'v72',\n",
       " 'x73',\n",
       " 'y73',\n",
       " 'z73',\n",
       " 'v73',\n",
       " 'x74',\n",
       " 'y74',\n",
       " 'z74',\n",
       " 'v74',\n",
       " 'x75',\n",
       " 'y75',\n",
       " 'z75',\n",
       " 'v75',\n",
       " 'x76',\n",
       " 'y76',\n",
       " 'z76',\n",
       " 'v76',\n",
       " 'x77',\n",
       " 'y77',\n",
       " 'z77',\n",
       " 'v77',\n",
       " 'x78',\n",
       " 'y78',\n",
       " 'z78',\n",
       " 'v78',\n",
       " 'x79',\n",
       " 'y79',\n",
       " 'z79',\n",
       " 'v79',\n",
       " 'x80',\n",
       " 'y80',\n",
       " 'z80',\n",
       " 'v80',\n",
       " 'x81',\n",
       " 'y81',\n",
       " 'z81',\n",
       " 'v81',\n",
       " 'x82',\n",
       " 'y82',\n",
       " 'z82',\n",
       " 'v82',\n",
       " 'x83',\n",
       " 'y83',\n",
       " 'z83',\n",
       " 'v83',\n",
       " 'x84',\n",
       " 'y84',\n",
       " 'z84',\n",
       " 'v84',\n",
       " 'x85',\n",
       " 'y85',\n",
       " 'z85',\n",
       " 'v85',\n",
       " 'x86',\n",
       " 'y86',\n",
       " 'z86',\n",
       " 'v86',\n",
       " 'x87',\n",
       " 'y87',\n",
       " 'z87',\n",
       " 'v87',\n",
       " 'x88',\n",
       " 'y88',\n",
       " 'z88',\n",
       " 'v88',\n",
       " 'x89',\n",
       " 'y89',\n",
       " 'z89',\n",
       " 'v89',\n",
       " 'x90',\n",
       " 'y90',\n",
       " 'z90',\n",
       " 'v90',\n",
       " 'x91',\n",
       " 'y91',\n",
       " 'z91',\n",
       " 'v91',\n",
       " 'x92',\n",
       " 'y92',\n",
       " 'z92',\n",
       " 'v92',\n",
       " 'x93',\n",
       " 'y93',\n",
       " 'z93',\n",
       " 'v93',\n",
       " 'x94',\n",
       " 'y94',\n",
       " 'z94',\n",
       " 'v94',\n",
       " 'x95',\n",
       " 'y95',\n",
       " 'z95',\n",
       " 'v95',\n",
       " 'x96',\n",
       " 'y96',\n",
       " 'z96',\n",
       " 'v96',\n",
       " 'x97',\n",
       " 'y97',\n",
       " 'z97',\n",
       " 'v97',\n",
       " 'x98',\n",
       " 'y98',\n",
       " 'z98',\n",
       " 'v98',\n",
       " 'x99',\n",
       " 'y99',\n",
       " 'z99',\n",
       " 'v99',\n",
       " 'x100',\n",
       " 'y100',\n",
       " 'z100',\n",
       " 'v100',\n",
       " 'x101',\n",
       " 'y101',\n",
       " 'z101',\n",
       " 'v101',\n",
       " 'x102',\n",
       " 'y102',\n",
       " 'z102',\n",
       " 'v102',\n",
       " 'x103',\n",
       " 'y103',\n",
       " 'z103',\n",
       " 'v103',\n",
       " 'x104',\n",
       " 'y104',\n",
       " 'z104',\n",
       " 'v104',\n",
       " 'x105',\n",
       " 'y105',\n",
       " 'z105',\n",
       " 'v105',\n",
       " 'x106',\n",
       " 'y106',\n",
       " 'z106',\n",
       " 'v106',\n",
       " 'x107',\n",
       " 'y107',\n",
       " 'z107',\n",
       " 'v107',\n",
       " 'x108',\n",
       " 'y108',\n",
       " 'z108',\n",
       " 'v108',\n",
       " 'x109',\n",
       " 'y109',\n",
       " 'z109',\n",
       " 'v109',\n",
       " 'x110',\n",
       " 'y110',\n",
       " 'z110',\n",
       " 'v110',\n",
       " 'x111',\n",
       " 'y111',\n",
       " 'z111',\n",
       " 'v111',\n",
       " 'x112',\n",
       " 'y112',\n",
       " 'z112',\n",
       " 'v112',\n",
       " 'x113',\n",
       " 'y113',\n",
       " 'z113',\n",
       " 'v113',\n",
       " 'x114',\n",
       " 'y114',\n",
       " 'z114',\n",
       " 'v114',\n",
       " 'x115',\n",
       " 'y115',\n",
       " 'z115',\n",
       " 'v115',\n",
       " 'x116',\n",
       " 'y116',\n",
       " 'z116',\n",
       " 'v116',\n",
       " 'x117',\n",
       " 'y117',\n",
       " 'z117',\n",
       " 'v117',\n",
       " 'x118',\n",
       " 'y118',\n",
       " 'z118',\n",
       " 'v118',\n",
       " 'x119',\n",
       " 'y119',\n",
       " 'z119',\n",
       " 'v119',\n",
       " 'x120',\n",
       " 'y120',\n",
       " 'z120',\n",
       " 'v120',\n",
       " 'x121',\n",
       " 'y121',\n",
       " 'z121',\n",
       " 'v121',\n",
       " 'x122',\n",
       " 'y122',\n",
       " 'z122',\n",
       " 'v122',\n",
       " 'x123',\n",
       " 'y123',\n",
       " 'z123',\n",
       " 'v123',\n",
       " 'x124',\n",
       " 'y124',\n",
       " 'z124',\n",
       " 'v124',\n",
       " 'x125',\n",
       " 'y125',\n",
       " 'z125',\n",
       " 'v125',\n",
       " 'x126',\n",
       " 'y126',\n",
       " 'z126',\n",
       " 'v126',\n",
       " 'x127',\n",
       " 'y127',\n",
       " 'z127',\n",
       " 'v127',\n",
       " 'x128',\n",
       " 'y128',\n",
       " 'z128',\n",
       " 'v128',\n",
       " 'x129',\n",
       " 'y129',\n",
       " 'z129',\n",
       " 'v129',\n",
       " 'x130',\n",
       " 'y130',\n",
       " 'z130',\n",
       " 'v130',\n",
       " 'x131',\n",
       " 'y131',\n",
       " 'z131',\n",
       " 'v131',\n",
       " 'x132',\n",
       " 'y132',\n",
       " 'z132',\n",
       " 'v132',\n",
       " 'x133',\n",
       " 'y133',\n",
       " 'z133',\n",
       " 'v133',\n",
       " 'x134',\n",
       " 'y134',\n",
       " 'z134',\n",
       " 'v134',\n",
       " 'x135',\n",
       " 'y135',\n",
       " 'z135',\n",
       " 'v135',\n",
       " 'x136',\n",
       " 'y136',\n",
       " 'z136',\n",
       " 'v136',\n",
       " 'x137',\n",
       " 'y137',\n",
       " 'z137',\n",
       " 'v137',\n",
       " 'x138',\n",
       " 'y138',\n",
       " 'z138',\n",
       " 'v138',\n",
       " 'x139',\n",
       " 'y139',\n",
       " 'z139',\n",
       " 'v139',\n",
       " 'x140',\n",
       " 'y140',\n",
       " 'z140',\n",
       " 'v140',\n",
       " 'x141',\n",
       " 'y141',\n",
       " 'z141',\n",
       " 'v141',\n",
       " 'x142',\n",
       " 'y142',\n",
       " 'z142',\n",
       " 'v142',\n",
       " 'x143',\n",
       " 'y143',\n",
       " 'z143',\n",
       " 'v143',\n",
       " 'x144',\n",
       " 'y144',\n",
       " 'z144',\n",
       " 'v144',\n",
       " 'x145',\n",
       " 'y145',\n",
       " 'z145',\n",
       " 'v145',\n",
       " 'x146',\n",
       " 'y146',\n",
       " 'z146',\n",
       " 'v146',\n",
       " 'x147',\n",
       " 'y147',\n",
       " 'z147',\n",
       " 'v147',\n",
       " 'x148',\n",
       " 'y148',\n",
       " 'z148',\n",
       " 'v148',\n",
       " 'x149',\n",
       " 'y149',\n",
       " 'z149',\n",
       " 'v149',\n",
       " 'x150',\n",
       " 'y150',\n",
       " 'z150',\n",
       " 'v150',\n",
       " 'x151',\n",
       " 'y151',\n",
       " 'z151',\n",
       " 'v151',\n",
       " 'x152',\n",
       " 'y152',\n",
       " 'z152',\n",
       " 'v152',\n",
       " 'x153',\n",
       " 'y153',\n",
       " 'z153',\n",
       " 'v153',\n",
       " 'x154',\n",
       " 'y154',\n",
       " 'z154',\n",
       " 'v154',\n",
       " 'x155',\n",
       " 'y155',\n",
       " 'z155',\n",
       " 'v155',\n",
       " 'x156',\n",
       " 'y156',\n",
       " 'z156',\n",
       " 'v156',\n",
       " 'x157',\n",
       " 'y157',\n",
       " 'z157',\n",
       " 'v157',\n",
       " 'x158',\n",
       " 'y158',\n",
       " 'z158',\n",
       " 'v158',\n",
       " 'x159',\n",
       " 'y159',\n",
       " 'z159',\n",
       " 'v159',\n",
       " 'x160',\n",
       " 'y160',\n",
       " 'z160',\n",
       " 'v160',\n",
       " 'x161',\n",
       " 'y161',\n",
       " 'z161',\n",
       " 'v161',\n",
       " 'x162',\n",
       " 'y162',\n",
       " 'z162',\n",
       " 'v162',\n",
       " 'x163',\n",
       " 'y163',\n",
       " 'z163',\n",
       " 'v163',\n",
       " 'x164',\n",
       " 'y164',\n",
       " 'z164',\n",
       " 'v164',\n",
       " 'x165',\n",
       " 'y165',\n",
       " 'z165',\n",
       " 'v165',\n",
       " 'x166',\n",
       " 'y166',\n",
       " 'z166',\n",
       " 'v166',\n",
       " 'x167',\n",
       " 'y167',\n",
       " 'z167',\n",
       " 'v167',\n",
       " 'x168',\n",
       " 'y168',\n",
       " 'z168',\n",
       " 'v168',\n",
       " 'x169',\n",
       " 'y169',\n",
       " 'z169',\n",
       " 'v169',\n",
       " 'x170',\n",
       " 'y170',\n",
       " 'z170',\n",
       " 'v170',\n",
       " 'x171',\n",
       " 'y171',\n",
       " 'z171',\n",
       " 'v171',\n",
       " 'x172',\n",
       " 'y172',\n",
       " 'z172',\n",
       " 'v172',\n",
       " 'x173',\n",
       " 'y173',\n",
       " 'z173',\n",
       " 'v173',\n",
       " 'x174',\n",
       " 'y174',\n",
       " 'z174',\n",
       " 'v174',\n",
       " 'x175',\n",
       " 'y175',\n",
       " 'z175',\n",
       " 'v175',\n",
       " 'x176',\n",
       " 'y176',\n",
       " 'z176',\n",
       " 'v176',\n",
       " 'x177',\n",
       " 'y177',\n",
       " 'z177',\n",
       " 'v177',\n",
       " 'x178',\n",
       " 'y178',\n",
       " 'z178',\n",
       " 'v178',\n",
       " 'x179',\n",
       " 'y179',\n",
       " 'z179',\n",
       " 'v179',\n",
       " 'x180',\n",
       " 'y180',\n",
       " 'z180',\n",
       " 'v180',\n",
       " 'x181',\n",
       " 'y181',\n",
       " 'z181',\n",
       " 'v181',\n",
       " 'x182',\n",
       " 'y182',\n",
       " 'z182',\n",
       " 'v182',\n",
       " 'x183',\n",
       " 'y183',\n",
       " 'z183',\n",
       " 'v183',\n",
       " 'x184',\n",
       " 'y184',\n",
       " 'z184',\n",
       " 'v184',\n",
       " 'x185',\n",
       " 'y185',\n",
       " 'z185',\n",
       " 'v185',\n",
       " 'x186',\n",
       " 'y186',\n",
       " 'z186',\n",
       " 'v186',\n",
       " 'x187',\n",
       " 'y187',\n",
       " 'z187',\n",
       " 'v187',\n",
       " 'x188',\n",
       " 'y188',\n",
       " 'z188',\n",
       " 'v188',\n",
       " 'x189',\n",
       " 'y189',\n",
       " 'z189',\n",
       " 'v189',\n",
       " 'x190',\n",
       " 'y190',\n",
       " 'z190',\n",
       " 'v190',\n",
       " 'x191',\n",
       " 'y191',\n",
       " 'z191',\n",
       " 'v191',\n",
       " 'x192',\n",
       " 'y192',\n",
       " 'z192',\n",
       " 'v192',\n",
       " 'x193',\n",
       " 'y193',\n",
       " 'z193',\n",
       " 'v193',\n",
       " 'x194',\n",
       " 'y194',\n",
       " 'z194',\n",
       " 'v194',\n",
       " 'x195',\n",
       " 'y195',\n",
       " 'z195',\n",
       " 'v195',\n",
       " 'x196',\n",
       " 'y196',\n",
       " 'z196',\n",
       " 'v196',\n",
       " 'x197',\n",
       " 'y197',\n",
       " 'z197',\n",
       " 'v197',\n",
       " 'x198',\n",
       " 'y198',\n",
       " 'z198',\n",
       " 'v198',\n",
       " 'x199',\n",
       " 'y199',\n",
       " 'z199',\n",
       " 'v199',\n",
       " 'x200',\n",
       " 'y200',\n",
       " 'z200',\n",
       " 'v200',\n",
       " 'x201',\n",
       " 'y201',\n",
       " 'z201',\n",
       " 'v201',\n",
       " 'x202',\n",
       " 'y202',\n",
       " 'z202',\n",
       " 'v202',\n",
       " 'x203',\n",
       " 'y203',\n",
       " 'z203',\n",
       " 'v203',\n",
       " 'x204',\n",
       " 'y204',\n",
       " 'z204',\n",
       " 'v204',\n",
       " 'x205',\n",
       " 'y205',\n",
       " 'z205',\n",
       " 'v205',\n",
       " 'x206',\n",
       " 'y206',\n",
       " 'z206',\n",
       " 'v206',\n",
       " 'x207',\n",
       " 'y207',\n",
       " 'z207',\n",
       " 'v207',\n",
       " 'x208',\n",
       " 'y208',\n",
       " 'z208',\n",
       " 'v208',\n",
       " 'x209',\n",
       " 'y209',\n",
       " 'z209',\n",
       " 'v209',\n",
       " 'x210',\n",
       " 'y210',\n",
       " 'z210',\n",
       " 'v210',\n",
       " 'x211',\n",
       " 'y211',\n",
       " 'z211',\n",
       " 'v211',\n",
       " 'x212',\n",
       " 'y212',\n",
       " 'z212',\n",
       " 'v212',\n",
       " 'x213',\n",
       " 'y213',\n",
       " 'z213',\n",
       " 'v213',\n",
       " 'x214',\n",
       " 'y214',\n",
       " 'z214',\n",
       " 'v214',\n",
       " 'x215',\n",
       " 'y215',\n",
       " 'z215',\n",
       " 'v215',\n",
       " 'x216',\n",
       " 'y216',\n",
       " 'z216',\n",
       " 'v216',\n",
       " 'x217',\n",
       " 'y217',\n",
       " 'z217',\n",
       " 'v217',\n",
       " 'x218',\n",
       " 'y218',\n",
       " 'z218',\n",
       " 'v218',\n",
       " 'x219',\n",
       " 'y219',\n",
       " 'z219',\n",
       " 'v219',\n",
       " 'x220',\n",
       " 'y220',\n",
       " 'z220',\n",
       " 'v220',\n",
       " 'x221',\n",
       " 'y221',\n",
       " 'z221',\n",
       " 'v221',\n",
       " 'x222',\n",
       " 'y222',\n",
       " 'z222',\n",
       " 'v222',\n",
       " 'x223',\n",
       " 'y223',\n",
       " 'z223',\n",
       " 'v223',\n",
       " 'x224',\n",
       " 'y224',\n",
       " 'z224',\n",
       " 'v224',\n",
       " 'x225',\n",
       " 'y225',\n",
       " 'z225',\n",
       " 'v225',\n",
       " 'x226',\n",
       " 'y226',\n",
       " 'z226',\n",
       " 'v226',\n",
       " 'x227',\n",
       " 'y227',\n",
       " 'z227',\n",
       " 'v227',\n",
       " 'x228',\n",
       " 'y228',\n",
       " 'z228',\n",
       " 'v228',\n",
       " 'x229',\n",
       " 'y229',\n",
       " 'z229',\n",
       " 'v229',\n",
       " 'x230',\n",
       " 'y230',\n",
       " 'z230',\n",
       " 'v230',\n",
       " 'x231',\n",
       " 'y231',\n",
       " 'z231',\n",
       " 'v231',\n",
       " 'x232',\n",
       " 'y232',\n",
       " 'z232',\n",
       " 'v232',\n",
       " 'x233',\n",
       " 'y233',\n",
       " 'z233',\n",
       " 'v233',\n",
       " 'x234',\n",
       " 'y234',\n",
       " 'z234',\n",
       " 'v234',\n",
       " 'x235',\n",
       " 'y235',\n",
       " 'z235',\n",
       " 'v235',\n",
       " 'x236',\n",
       " 'y236',\n",
       " 'z236',\n",
       " 'v236',\n",
       " 'x237',\n",
       " 'y237',\n",
       " 'z237',\n",
       " 'v237',\n",
       " 'x238',\n",
       " 'y238',\n",
       " 'z238',\n",
       " 'v238',\n",
       " 'x239',\n",
       " 'y239',\n",
       " 'z239',\n",
       " 'v239',\n",
       " 'x240',\n",
       " 'y240',\n",
       " 'z240',\n",
       " 'v240',\n",
       " 'x241',\n",
       " 'y241',\n",
       " 'z241',\n",
       " 'v241',\n",
       " 'x242',\n",
       " 'y242',\n",
       " 'z242',\n",
       " 'v242',\n",
       " 'x243',\n",
       " 'y243',\n",
       " 'z243',\n",
       " 'v243',\n",
       " 'x244',\n",
       " 'y244',\n",
       " 'z244',\n",
       " 'v244',\n",
       " 'x245',\n",
       " 'y245',\n",
       " 'z245',\n",
       " 'v245',\n",
       " 'x246',\n",
       " 'y246',\n",
       " 'z246',\n",
       " 'v246',\n",
       " 'x247',\n",
       " 'y247',\n",
       " 'z247',\n",
       " 'v247',\n",
       " 'x248',\n",
       " 'y248',\n",
       " 'z248',\n",
       " 'v248',\n",
       " 'x249',\n",
       " 'y249',\n",
       " 'z249',\n",
       " 'v249',\n",
       " 'x250',\n",
       " 'y250',\n",
       " 'z250',\n",
       " ...]"
      ]
     },
     "execution_count": 10,
     "metadata": {},
     "output_type": "execute_result"
    }
   ],
   "source": [
    "landmarks"
   ]
  },
  {
   "cell_type": "code",
   "execution_count": 11,
   "id": "53e88ce4",
   "metadata": {},
   "outputs": [],
   "source": [
    "with open('coords.csv', mode='w', newline='') as f:\n",
    "    csv_writer = csv.writer(f, delimiter=',', quotechar='\"', quoting=csv.QUOTE_MINIMAL)\n",
    "    csv_writer.writerow(landmarks)"
   ]
  },
  {
   "cell_type": "code",
   "execution_count": 29,
   "id": "f332570f",
   "metadata": {},
   "outputs": [],
   "source": [
    "class_name = \"Victory\""
   ]
  },
  {
   "cell_type": "code",
   "execution_count": 30,
   "id": "85951525",
   "metadata": {},
   "outputs": [
    {
     "ename": "KeyboardInterrupt",
     "evalue": "",
     "output_type": "error",
     "traceback": [
      "\u001B[1;31m---------------------------------------------------------------------------\u001B[0m",
      "\u001B[1;31mKeyboardInterrupt\u001B[0m                         Traceback (most recent call last)",
      "\u001B[1;32m~\\AppData\\Local\\Temp\\ipykernel_22560\\1369717015.py\u001B[0m in \u001B[0;36m<module>\u001B[1;34m\u001B[0m\n\u001B[0;32m      4\u001B[0m \u001B[1;33m\u001B[0m\u001B[0m\n\u001B[0;32m      5\u001B[0m     \u001B[1;32mwhile\u001B[0m \u001B[0mcap\u001B[0m\u001B[1;33m.\u001B[0m\u001B[0misOpened\u001B[0m\u001B[1;33m(\u001B[0m\u001B[1;33m)\u001B[0m\u001B[1;33m:\u001B[0m\u001B[1;33m\u001B[0m\u001B[1;33m\u001B[0m\u001B[0m\n\u001B[1;32m----> 6\u001B[1;33m         \u001B[0mret\u001B[0m\u001B[1;33m,\u001B[0m \u001B[0mframe\u001B[0m \u001B[1;33m=\u001B[0m \u001B[0mcap\u001B[0m\u001B[1;33m.\u001B[0m\u001B[0mread\u001B[0m\u001B[1;33m(\u001B[0m\u001B[1;33m)\u001B[0m\u001B[1;33m\u001B[0m\u001B[1;33m\u001B[0m\u001B[0m\n\u001B[0m\u001B[0;32m      7\u001B[0m \u001B[1;33m\u001B[0m\u001B[0m\n\u001B[0;32m      8\u001B[0m         \u001B[1;31m# Recolor Feed\u001B[0m\u001B[1;33m\u001B[0m\u001B[1;33m\u001B[0m\u001B[0m\n",
      "\u001B[1;31mKeyboardInterrupt\u001B[0m: "
     ]
    }
   ],
   "source": [
    "cap = cv2.VideoCapture(0)\n",
    "# Initiate holistic model\n",
    "with mp_holistic.Holistic(min_detection_confidence=0.5, min_tracking_confidence=0.5) as holistic:\n",
    "    \n",
    "    while cap.isOpened():\n",
    "        ret, frame = cap.read()\n",
    "        \n",
    "        # Recolor Feed\n",
    "        image = cv2.cvtColor(frame, cv2.COLOR_BGR2RGB)\n",
    "        image.flags.writeable = False        \n",
    "        \n",
    "        # Make Detections\n",
    "        results = holistic.process(image)\n",
    "        # print(results.face_landmarks)\n",
    "        \n",
    "        # face_landmarks, pose_landmarks, left_hand_landmarks, right_hand_landmarks\n",
    "        \n",
    "        # Recolor image back to BGR for rendering\n",
    "        image.flags.writeable = True   \n",
    "        image = cv2.cvtColor(image, cv2.COLOR_RGB2BGR)\n",
    "        \n",
    "        # 1. Draw face landmarks\n",
    "        mp_drawing.draw_landmarks(image, results.face_landmarks, mp_holistic.FACEMESH_CONTOURS, \n",
    "                                 mp_drawing.DrawingSpec(color=(80,110,10), thickness=1, circle_radius=1),\n",
    "                                 mp_drawing.DrawingSpec(color=(80,256,121), thickness=1, circle_radius=1)\n",
    "                                 )\n",
    "        \n",
    "        # 2. Right hand\n",
    "        mp_drawing.draw_landmarks(image, results.right_hand_landmarks, mp_holistic.HAND_CONNECTIONS, \n",
    "                                 mp_drawing.DrawingSpec(color=(80,22,10), thickness=2, circle_radius=4),\n",
    "                                 mp_drawing.DrawingSpec(color=(80,44,121), thickness=2, circle_radius=2)\n",
    "                                 )\n",
    "\n",
    "        # 3. Left Hand\n",
    "        mp_drawing.draw_landmarks(image, results.left_hand_landmarks, mp_holistic.HAND_CONNECTIONS, \n",
    "                                 mp_drawing.DrawingSpec(color=(121,22,76), thickness=2, circle_radius=4),\n",
    "                                 mp_drawing.DrawingSpec(color=(121,44,250), thickness=2, circle_radius=2)\n",
    "                                 )\n",
    "\n",
    "        # 4. Pose Detections\n",
    "        mp_drawing.draw_landmarks(image, results.pose_landmarks, mp_holistic.POSE_CONNECTIONS, \n",
    "                                 mp_drawing.DrawingSpec(color=(245,117,66), thickness=2, circle_radius=4),\n",
    "                                 mp_drawing.DrawingSpec(color=(245,66,230), thickness=2, circle_radius=2)\n",
    "                                 )\n",
    "        # Export coordinates\n",
    "        try:\n",
    "            # Extract Pose landmarks\n",
    "            pose = results.pose_landmarks.landmark\n",
    "            pose_row = list(np.array([[landmark.x, landmark.y, landmark.z, landmark.visibility] for landmark in pose]).flatten())\n",
    "            \n",
    "            # Extract Face landmarks\n",
    "            face = results.face_landmarks.landmark\n",
    "            face_row = list(np.array([[landmark.x, landmark.y, landmark.z, landmark.visibility] for landmark in face]).flatten())\n",
    "            \n",
    "            # Concate rows\n",
    "            row = pose_row+face_row\n",
    "            \n",
    "            # Append class name \n",
    "            row.insert(0, class_name)\n",
    "            \n",
    "            # Export to CSV\n",
    "            with open('coords.csv', mode='a', newline='') as f:\n",
    "                csv_writer = csv.writer(f, delimiter=',', quotechar='\"', quoting=csv.QUOTE_MINIMAL)\n",
    "                csv_writer.writerow(row) \n",
    "            \n",
    "        except:\n",
    "            pass\n",
    "                        \n",
    "        cv2.imshow('Raw Webcam Feed', image)\n",
    "\n",
    "        if cv2.waitKey(10) & 0xFF == ord('q'):\n",
    "            break\n",
    "\n",
    "cap.release()\n",
    "cv2.destroyAllWindows()"
   ]
  },
  {
   "cell_type": "code",
   "execution_count": 31,
   "id": "62d57c09",
   "metadata": {},
   "outputs": [],
   "source": [
    "cap.release()\n",
    "cv2.destroyAllWindows()"
   ]
  },
  {
   "cell_type": "code",
   "execution_count": 15,
   "id": "0596eb73",
   "metadata": {},
   "outputs": [],
   "source": [
    "pose_row = list(np.array([[landmark.x, landmark.y, landmark.z, landmark.visibility] for landmark in pose]).flatten())"
   ]
  },
  {
   "cell_type": "code",
   "execution_count": 16,
   "id": "4f3a7eae",
   "metadata": {},
   "outputs": [],
   "source": [
    "face_row = list(np.array([[landmark.x, landmark.y, landmark.z, landmark.visibility] for landmark in face]).flatten())"
   ]
  },
  {
   "cell_type": "code",
   "execution_count": 17,
   "id": "4292d235",
   "metadata": {},
   "outputs": [],
   "source": [
    "row = pose_row+face_row"
   ]
  },
  {
   "cell_type": "code",
   "execution_count": 18,
   "id": "d09405c2",
   "metadata": {},
   "outputs": [],
   "source": [
    "row.insert(0, class_name)"
   ]
  },
  {
   "cell_type": "code",
   "execution_count": 19,
   "id": "6e3b6d89",
   "metadata": {},
   "outputs": [
    {
     "data": {
      "text/plain": [
       "2005"
      ]
     },
     "execution_count": 19,
     "metadata": {},
     "output_type": "execute_result"
    }
   ],
   "source": [
    "len(row)"
   ]
  },
  {
   "cell_type": "code",
   "execution_count": 109,
   "id": "1ac17706",
   "metadata": {},
   "outputs": [],
   "source": [
    "cap.release()\n",
    "cv2.destroyAllWindows()"
   ]
  },
  {
   "cell_type": "code",
   "execution_count": 32,
   "id": "1b3f2b94",
   "metadata": {},
   "outputs": [
    {
     "data": {
      "text/plain": [
       "['Victory',\n",
       " 0.4856099486351013,\n",
       " 0.5616463422775269,\n",
       " -0.7364224195480347,\n",
       " 0.9999938607215881,\n",
       " 0.514724850654602,\n",
       " 0.49930015206336975,\n",
       " -0.6846011877059937,\n",
       " 0.9999901056289673,\n",
       " 0.5332439541816711,\n",
       " 0.4993354082107544,\n",
       " -0.68450528383255,\n",
       " 0.9999917149543762,\n",
       " 0.5486134886741638,\n",
       " 0.4994474947452545,\n",
       " -0.6838937401771545,\n",
       " 0.9999902844429016,\n",
       " 0.461873859167099,\n",
       " 0.503302276134491,\n",
       " -0.6817731857299805,\n",
       " 0.9999842643737793,\n",
       " 0.4443594515323639,\n",
       " 0.5057417154312134,\n",
       " -0.6810013651847839,\n",
       " 0.9999812841415405,\n",
       " 0.43167710304260254,\n",
       " 0.508756697177887,\n",
       " -0.6812734603881836,\n",
       " 0.9999752044677734,\n",
       " 0.5765579342842102,\n",
       " 0.5300476551055908,\n",
       " -0.343205064535141,\n",
       " 0.999990701675415,\n",
       " 0.4163658022880554,\n",
       " 0.5390121340751648,\n",
       " -0.32608625292778015,\n",
       " 0.999984622001648,\n",
       " 0.5182803869247437,\n",
       " 0.6261452436447144,\n",
       " -0.6095483899116516,\n",
       " 0.9999830722808838,\n",
       " 0.4513184130191803,\n",
       " 0.6256217956542969,\n",
       " -0.6068162322044373,\n",
       " 0.9999824166297913,\n",
       " 0.6811041235923767,\n",
       " 0.831874430179596,\n",
       " -0.1473420411348343,\n",
       " 0.9994648098945618,\n",
       " 0.29334038496017456,\n",
       " 0.8302164077758789,\n",
       " -0.10646531730890274,\n",
       " 0.9958386421203613,\n",
       " 0.816118061542511,\n",
       " 1.2626796960830688,\n",
       " -0.6066809296607971,\n",
       " 0.7297315001487732,\n",
       " 0.17059528827667236,\n",
       " 1.0732331275939941,\n",
       " -0.14175009727478027,\n",
       " 0.12640951573848724,\n",
       " 0.744385838508606,\n",
       " 0.8377063870429993,\n",
       " -1.1382967233657837,\n",
       " 0.9911425709724426,\n",
       " 0.07650837302207947,\n",
       " 1.4278029203414917,\n",
       " -0.5134245157241821,\n",
       " 0.2292860597372055,\n",
       " 0.7484390735626221,\n",
       " 0.7062281370162964,\n",
       " -1.2411013841629028,\n",
       " 0.9856690168380737,\n",
       " 0.025678450241684914,\n",
       " 1.5071269273757935,\n",
       " -0.5532696843147278,\n",
       " 0.3290310800075531,\n",
       " 0.7257297039031982,\n",
       " 0.6729171872138977,\n",
       " -1.1279205083847046,\n",
       " 0.9889987707138062,\n",
       " 0.050809264183044434,\n",
       " 1.5018608570098877,\n",
       " -0.6253107786178589,\n",
       " 0.45468682050704956,\n",
       " 0.7063376903533936,\n",
       " 0.7259279489517212,\n",
       " -1.1151490211486816,\n",
       " 0.985271155834198,\n",
       " 0.0781591385602951,\n",
       " 1.4775673151016235,\n",
       " -0.563207745552063,\n",
       " 0.4613616466522217,\n",
       " 0.6151109933853149,\n",
       " 1.5756267309188843,\n",
       " -0.0570143386721611,\n",
       " 0.0008490397012792528,\n",
       " 0.340048611164093,\n",
       " 1.563718557357788,\n",
       " 0.0628100112080574,\n",
       " 0.000444251112639904,\n",
       " 0.601966381072998,\n",
       " 2.187438488006592,\n",
       " -0.27042654156684875,\n",
       " 0.0006834844825789332,\n",
       " 0.344056636095047,\n",
       " 2.1653220653533936,\n",
       " -0.08759023249149323,\n",
       " 0.00012169165711384267,\n",
       " 0.6018537878990173,\n",
       " 2.7309317588806152,\n",
       " 0.08219411969184875,\n",
       " 1.9648863599286415e-05,\n",
       " 0.3566036522388458,\n",
       " 2.702928304672241,\n",
       " 0.0739138051867485,\n",
       " 1.6676309542162926e-06,\n",
       " 0.6102573871612549,\n",
       " 2.8109045028686523,\n",
       " 0.08703102171421051,\n",
       " 1.8703489331528544e-05,\n",
       " 0.349939227104187,\n",
       " 2.78460693359375,\n",
       " 0.073646679520607,\n",
       " 4.351801635493757e-06,\n",
       " 0.5539504289627075,\n",
       " 2.8960320949554443,\n",
       " -0.45098161697387695,\n",
       " 0.00011611630179686472,\n",
       " 0.3985106348991394,\n",
       " 2.86545729637146,\n",
       " -0.48533836007118225,\n",
       " 4.2496638343436643e-05,\n",
       " 0.49967703223228455,\n",
       " 0.6141314506530762,\n",
       " -0.02826804853975773,\n",
       " 0.0,\n",
       " 0.49931076169013977,\n",
       " 0.5694456100463867,\n",
       " -0.04981974512338638,\n",
       " 0.0,\n",
       " 0.498752623796463,\n",
       " 0.5844298601150513,\n",
       " -0.02673822082579136,\n",
       " 0.0,\n",
       " 0.48932546377182007,\n",
       " 0.5269303917884827,\n",
       " -0.03717613220214844,\n",
       " 0.0,\n",
       " 0.4991101622581482,\n",
       " 0.5554987788200378,\n",
       " -0.05276516452431679,\n",
       " 0.0,\n",
       " 0.4983382821083069,\n",
       " 0.5381649136543274,\n",
       " -0.048813436180353165,\n",
       " 0.0,\n",
       " 0.4959765672683716,\n",
       " 0.4972868263721466,\n",
       " -0.022669846192002296,\n",
       " 0.0,\n",
       " 0.42536336183547974,\n",
       " 0.49957704544067383,\n",
       " 0.00961551908403635,\n",
       " 0.0,\n",
       " 0.49492624402046204,\n",
       " 0.46284419298171997,\n",
       " -0.016125774011015892,\n",
       " 0.0,\n",
       " 0.49475380778312683,\n",
       " 0.4435131847858429,\n",
       " -0.01784655824303627,\n",
       " 0.0,\n",
       " 0.49324101209640503,\n",
       " 0.377623975276947,\n",
       " -0.0069088079035282135,\n",
       " 0.0,\n",
       " 0.4997246265411377,\n",
       " 0.6206947565078735,\n",
       " -0.0270663071423769,\n",
       " 0.0,\n",
       " 0.4996137022972107,\n",
       " 0.6256176233291626,\n",
       " -0.023853648453950882,\n",
       " 0.0,\n",
       " 0.4993652403354645,\n",
       " 0.6275337934494019,\n",
       " -0.019735626876354218,\n",
       " 0.0,\n",
       " 0.4999453127384186,\n",
       " 0.6311535239219666,\n",
       " -0.01913466304540634,\n",
       " 0.0,\n",
       " 0.5002244710922241,\n",
       " 0.6364030838012695,\n",
       " -0.020647266879677773,\n",
       " 0.0,\n",
       " 0.500328540802002,\n",
       " 0.6431230306625366,\n",
       " -0.022553788498044014,\n",
       " 0.0,\n",
       " 0.5003307461738586,\n",
       " 0.6505422592163086,\n",
       " -0.02126288041472435,\n",
       " 0.0,\n",
       " 0.4997040033340454,\n",
       " 0.6628228425979614,\n",
       " -0.012486022897064686,\n",
       " 0.0,\n",
       " 0.499176561832428,\n",
       " 0.5768015384674072,\n",
       " -0.04518275335431099,\n",
       " 0.0,\n",
       " 0.4905332922935486,\n",
       " 0.5767871737480164,\n",
       " -0.03310767933726311,\n",
       " 0.0,\n",
       " 0.3865567743778229,\n",
       " 0.4484045207500458,\n",
       " 0.0536496564745903,\n",
       " 0.0,\n",
       " 0.45260971784591675,\n",
       " 0.5112711787223816,\n",
       " 0.0009810078190639615,\n",
       " 0.0,\n",
       " 0.4430655241012573,\n",
       " 0.5125787258148193,\n",
       " 0.0012960453750565648,\n",
       " 0.0,\n",
       " 0.43404626846313477,\n",
       " 0.5116344690322876,\n",
       " 0.003595290705561638,\n",
       " 0.0,\n",
       " 0.42179933190345764,\n",
       " 0.5044542551040649,\n",
       " 0.01096153911203146,\n",
       " 0.0,\n",
       " 0.460798978805542,\n",
       " 0.5072656869888306,\n",
       " 0.0028335789684206247,\n",
       " 0.0,\n",
       " 0.4405733048915863,\n",
       " 0.4762907028198242,\n",
       " -0.0032003954984247684,\n",
       " 0.0,\n",
       " 0.4504593312740326,\n",
       " 0.47722581028938293,\n",
       " -0.0023462476674467325,\n",
       " 0.0,\n",
       " 0.43110424280166626,\n",
       " 0.4783138334751129,\n",
       " -0.00018813640053849667,\n",
       " 0.0,\n",
       " 0.42466625571250916,\n",
       " 0.48309165239334106,\n",
       " 0.003411168698221445,\n",
       " 0.0,\n",
       " 0.41405075788497925,\n",
       " 0.5129609107971191,\n",
       " 0.015563225373625755,\n",
       " 0.0,\n",
       " 0.4647546708583832,\n",
       " 0.6852101683616638,\n",
       " -0.004084704909473658,\n",
       " 0.0,\n",
       " 0.42220282554626465,\n",
       " 0.496360719203949,\n",
       " 0.012690810486674309,\n",
       " 0.0,\n",
       " 0.38491159677505493,\n",
       " 0.5076626539230347,\n",
       " 0.05629789084196091,\n",
       " 0.0,\n",
       " 0.40304282307624817,\n",
       " 0.5034074187278748,\n",
       " 0.024853188544511795,\n",
       " 0.0,\n",
       " 0.4487174153327942,\n",
       " 0.5636487603187561,\n",
       " -0.008605541661381721,\n",
       " 0.0,\n",
       " 0.4880376160144806,\n",
       " 0.6128746271133423,\n",
       " -0.027736518532037735,\n",
       " 0.0,\n",
       " 0.48949170112609863,\n",
       " 0.6259363889694214,\n",
       " -0.02326272241771221,\n",
       " 0.0,\n",
       " 0.47595781087875366,\n",
       " 0.6181129217147827,\n",
       " -0.023066744208335876,\n",
       " 0.0,\n",
       " 0.4679812490940094,\n",
       " 0.6242607831954956,\n",
       " -0.01677756756544113,\n",
       " 0.0,\n",
       " 0.48071107268333435,\n",
       " 0.6276581883430481,\n",
       " -0.020272158086299896,\n",
       " 0.0,\n",
       " 0.4736517369747162,\n",
       " 0.6295052170753479,\n",
       " -0.01440210361033678,\n",
       " 0.0,\n",
       " 0.45648735761642456,\n",
       " 0.6450868844985962,\n",
       " -0.003381571965292096,\n",
       " 0.0,\n",
       " 0.49155282974243164,\n",
       " 0.5694850087165833,\n",
       " -0.049364496022462845,\n",
       " 0.0,\n",
       " 0.4900687336921692,\n",
       " 0.5562394857406616,\n",
       " -0.05214618146419525,\n",
       " 0.0,\n",
       " 0.40783587098121643,\n",
       " 0.4657544791698456,\n",
       " 0.006769605912268162,\n",
       " 0.0,\n",
       " 0.4667617678642273,\n",
       " 0.5299912691116333,\n",
       " -0.008311585523188114,\n",
       " 0.0,\n",
       " 0.4685085713863373,\n",
       " 0.568559467792511,\n",
       " -0.028040021657943726,\n",
       " 0.0,\n",
       " 0.46732330322265625,\n",
       " 0.5618129372596741,\n",
       " -0.02517644874751568,\n",
       " 0.0,\n",
       " 0.41905122995376587,\n",
       " 0.5641334056854248,\n",
       " 0.0023494933266192675,\n",
       " 0.0,\n",
       " 0.4897454082965851,\n",
       " 0.540133535861969,\n",
       " -0.046443819999694824,\n",
       " 0.0,\n",
       " 0.4308953285217285,\n",
       " 0.4488728642463684,\n",
       " -0.0077302055433392525,\n",
       " 0.0,\n",
       " 0.41733452677726746,\n",
       " 0.45460671186447144,\n",
       " -0.0009233742021024227,\n",
       " 0.0,\n",
       " 0.39569711685180664,\n",
       " 0.4221104383468628,\n",
       " 0.03579104691743851,\n",
       " 0.0,\n",
       " 0.47387027740478516,\n",
       " 0.4597603678703308,\n",
       " -0.01429455354809761,\n",
       " 0.0,\n",
       " 0.45919069647789,\n",
       " 0.4814929664134979,\n",
       " 0.0007886920939199626,\n",
       " 0.0,\n",
       " 0.44879308342933655,\n",
       " 0.6334525346755981,\n",
       " -0.0014050471363589168,\n",
       " 0.0,\n",
       " 0.3994379937648773,\n",
       " 0.6319660544395447,\n",
       " 0.07988826930522919,\n",
       " 0.0,\n",
       " 0.47568994760513306,\n",
       " 0.5756101608276367,\n",
       " -0.024198194965720177,\n",
       " 0.0,\n",
       " 0.4839722216129303,\n",
       " 0.5794156193733215,\n",
       " -0.024347517639398575,\n",
       " 0.0,\n",
       " 0.4593691825866699,\n",
       " 0.6328815221786499,\n",
       " -0.0022436941508203745,\n",
       " 0.0,\n",
       " 0.46346911787986755,\n",
       " 0.6316967606544495,\n",
       " -0.0045782532542943954,\n",
       " 0.0,\n",
       " 0.4110386073589325,\n",
       " 0.44492343068122864,\n",
       " 0.003304513404145837,\n",
       " 0.0,\n",
       " 0.4682428538799286,\n",
       " 0.5747791528701782,\n",
       " -0.022948812693357468,\n",
       " 0.0,\n",
       " 0.44929981231689453,\n",
       " 0.44956210255622864,\n",
       " -0.012449805624783039,\n",
       " 0.0,\n",
       " 0.44737696647644043,\n",
       " 0.43742188811302185,\n",
       " -0.014416545629501343,\n",
       " 0.0,\n",
       " 0.4361833930015564,\n",
       " 0.3862452507019043,\n",
       " 0.0016850386746227741,\n",
       " 0.0,\n",
       " 0.403456449508667,\n",
       " 0.43301498889923096,\n",
       " 0.017021367326378822,\n",
       " 0.0,\n",
       " 0.4428144097328186,\n",
       " 0.41088593006134033,\n",
       " -0.006850318983197212,\n",
       " 0.0,\n",
       " 0.40134942531585693,\n",
       " 0.45977795124053955,\n",
       " 0.014644543640315533,\n",
       " 0.0,\n",
       " 0.3939131796360016,\n",
       " 0.4546580910682678,\n",
       " 0.03271941468119621,\n",
       " 0.0,\n",
       " 0.48867154121398926,\n",
       " 0.6205074787139893,\n",
       " -0.026629339903593063,\n",
       " 0.0,\n",
       " 0.4787154197692871,\n",
       " 0.6239786148071289,\n",
       " -0.022169411182403564,\n",
       " 0.0,\n",
       " 0.4709377884864807,\n",
       " 0.6270765066146851,\n",
       " -0.01642724499106407,\n",
       " 0.0,\n",
       " 0.47825393080711365,\n",
       " 0.577957034111023,\n",
       " -0.02179320529103279,\n",
       " 0.0,\n",
       " 0.4615286588668823,\n",
       " 0.6324916481971741,\n",
       " -0.0033972780220210552,\n",
       " 0.0,\n",
       " 0.46584805846214294,\n",
       " 0.6341708302497864,\n",
       " -0.00908798910677433,\n",
       " 0.0,\n",
       " 0.4642833173274994,\n",
       " 0.6309955716133118,\n",
       " -0.004810001701116562,\n",
       " 0.0,\n",
       " 0.48088011145591736,\n",
       " 0.57020103931427,\n",
       " -0.036735836416482925,\n",
       " 0.0,\n",
       " 0.4751448929309845,\n",
       " 0.6285510659217834,\n",
       " -0.012834912165999413,\n",
       " 0.0,\n",
       " 0.48229947686195374,\n",
       " 0.6279430389404297,\n",
       " -0.016524655744433403,\n",
       " 0.0,\n",
       " 0.49039262533187866,\n",
       " 0.6277166604995728,\n",
       " -0.01936469040811062,\n",
       " 0.0,\n",
       " 0.4873625338077545,\n",
       " 0.6634283661842346,\n",
       " -0.01276259496808052,\n",
       " 0.0,\n",
       " 0.4887653589248657,\n",
       " 0.6502410769462585,\n",
       " -0.021389679983258247,\n",
       " 0.0,\n",
       " 0.48932304978370667,\n",
       " 0.6423972845077515,\n",
       " -0.022508960217237473,\n",
       " 0.0,\n",
       " 0.48979783058166504,\n",
       " 0.6357079744338989,\n",
       " -0.020381378009915352,\n",
       " 0.0,\n",
       " 0.4903895854949951,\n",
       " 0.6313245296478271,\n",
       " -0.018728433176875114,\n",
       " 0.0,\n",
       " 0.4742770791053772,\n",
       " 0.6313772201538086,\n",
       " -0.012435831129550934,\n",
       " 0.0,\n",
       " 0.4730145037174225,\n",
       " 0.6329021453857422,\n",
       " -0.01411661971360445,\n",
       " 0.0,\n",
       " 0.47116637229919434,\n",
       " 0.6364346742630005,\n",
       " -0.015758687630295753,\n",
       " 0.0,\n",
       " 0.4695020914077759,\n",
       " 0.6410747170448303,\n",
       " -0.014219054020941257,\n",
       " 0.0,\n",
       " 0.459166556596756,\n",
       " 0.6099469065666199,\n",
       " -0.013691814616322517,\n",
       " 0.0,\n",
       " 0.38649070262908936,\n",
       " 0.5681439638137817,\n",
       " 0.09474552422761917,\n",
       " 0.0,\n",
       " 0.49894991517066956,\n",
       " 0.5798412561416626,\n",
       " -0.03310609981417656,\n",
       " 0.0,\n",
       " 0.4695097506046295,\n",
       " 0.6316802501678467,\n",
       " -0.007971650920808315,\n",
       " 0.0,\n",
       " 0.46793434023857117,\n",
       " 0.6323029398918152,\n",
       " -0.009049761109054089,\n",
       " 0.0,\n",
       " 0.48721978068351746,\n",
       " 0.5851453542709351,\n",
       " -0.025003081187605858,\n",
       " 0.0,\n",
       " 0.47174501419067383,\n",
       " 0.5828078389167786,\n",
       " -0.015874162316322327,\n",
       " 0.0,\n",
       " 0.48571693897247314,\n",
       " 0.582396388053894,\n",
       " -0.02475799061357975,\n",
       " 0.0,\n",
       " 0.45651087164878845,\n",
       " 0.5383906364440918,\n",
       " -0.005654212553054094,\n",
       " 0.0,\n",
       " 0.4410347044467926,\n",
       " 0.5477849245071411,\n",
       " -0.003402975620701909,\n",
       " 0.0,\n",
       " 0.4657849669456482,\n",
       " 0.5680649280548096,\n",
       " -0.020012689754366875,\n",
       " 0.0,\n",
       " 0.41149693727493286,\n",
       " 0.40088385343551636,\n",
       " 0.01731073670089245,\n",
       " 0.0,\n",
       " 0.41896286606788635,\n",
       " 0.41764572262763977,\n",
       " 0.004053391050547361,\n",
       " 0.0,\n",
       " 0.4268840551376343,\n",
       " 0.4371218681335449,\n",
       " -0.006303774192929268,\n",
       " 0.0,\n",
       " 0.4645513594150543,\n",
       " 0.6522949934005737,\n",
       " -0.0077199265360832214,\n",
       " 0.0,\n",
       " 0.47068455815315247,\n",
       " 0.4404778778553009,\n",
       " -0.017956169322133064,\n",
       " 0.0,\n",
       " 0.4670810103416443,\n",
       " 0.4100044071674347,\n",
       " -0.0126424515619874,\n",
       " 0.0,\n",
       " 0.46263644099235535,\n",
       " 0.3794069290161133,\n",
       " -0.006447260733693838,\n",
       " 0.0,\n",
       " 0.4262557625770569,\n",
       " 0.5092180967330933,\n",
       " 0.00741651002317667,\n",
       " 0.0,\n",
       " 0.40401148796081543,\n",
       " 0.5227978229522705,\n",
       " 0.020229164510965347,\n",
       " 0.0,\n",
       " 0.46612122654914856,\n",
       " 0.5031850337982178,\n",
       " 0.004284198395907879,\n",
       " 0.0,\n",
       " 0.41331946849823,\n",
       " 0.486189603805542,\n",
       " 0.011627545580267906,\n",
       " 0.0,\n",
       " 0.4735810458660126,\n",
       " 0.5205812454223633,\n",
       " -0.011206655763089657,\n",
       " 0.0,\n",
       " 0.4743746817111969,\n",
       " 0.5626607537269592,\n",
       " -0.03668394684791565,\n",
       " 0.0,\n",
       " 0.3941969871520996,\n",
       " 0.5324417352676392,\n",
       " 0.030074667185544968,\n",
       " 0.0,\n",
       " 0.410839319229126,\n",
       " 0.5320480465888977,\n",
       " 0.011737206019461155,\n",
       " 0.0,\n",
       " 0.4235115945339203,\n",
       " 0.5364313125610352,\n",
       " 0.0035676071420311928,\n",
       " 0.0,\n",
       " 0.44184085726737976,\n",
       " 0.5338525772094727,\n",
       " 0.00042275976738892496,\n",
       " 0.0,\n",
       " 0.4552408456802368,\n",
       " 0.527980387210846,\n",
       " -0.0011302694911137223,\n",
       " 0.0,\n",
       " 0.46552371978759766,\n",
       " 0.5209680795669556,\n",
       " -0.0029102982953190804,\n",
       " 0.0,\n",
       " 0.4867435097694397,\n",
       " 0.5012931227684021,\n",
       " -0.01970359869301319,\n",
       " 0.0,\n",
       " 0.39660486578941345,\n",
       " 0.5607195496559143,\n",
       " 0.026978960260748863,\n",
       " 0.0,\n",
       " 0.4048864245414734,\n",
       " 0.48347893357276917,\n",
       " 0.015803100541234016,\n",
       " 0.0,\n",
       " 0.4946507513523102,\n",
       " 0.5764350295066833,\n",
       " -0.044934939593076706,\n",
       " 0.0,\n",
       " 0.4685419201850891,\n",
       " 0.5423182845115662,\n",
       " -0.012731458991765976,\n",
       " 0.0,\n",
       " 0.3814171552658081,\n",
       " 0.5079391002655029,\n",
       " 0.08800707757472992,\n",
       " 0.0,\n",
       " 0.4730985462665558,\n",
       " 0.5128589272499084,\n",
       " -0.003813172224909067,\n",
       " 0.0,\n",
       " 0.464557945728302,\n",
       " 0.5693492293357849,\n",
       " -0.010695395059883595,\n",
       " 0.0,\n",
       " 0.4188997149467468,\n",
       " 0.4968075156211853,\n",
       " 0.01450966577976942,\n",
       " 0.0,\n",
       " 0.4733469784259796,\n",
       " 0.5545082092285156,\n",
       " -0.03306151553988457,\n",
       " 0.0,\n",
       " 0.39127179980278015,\n",
       " 0.5997986793518066,\n",
       " 0.08988111466169357,\n",
       " 0.0,\n",
       " 0.4661279618740082,\n",
       " 0.4981275796890259,\n",
       " 0.006460737437009811,\n",
       " 0.0,\n",
       " 0.4813332259654999,\n",
       " 0.5457900166511536,\n",
       " -0.04147667437791824,\n",
       " 0.0,\n",
       " 0.42244669795036316,\n",
       " 0.660006582736969,\n",
       " 0.029605625197291374,\n",
       " 0.0,\n",
       " 0.42315077781677246,\n",
       " 0.6742132902145386,\n",
       " 0.046660952270030975,\n",
       " 0.0,\n",
       " 0.3875105082988739,\n",
       " 0.565083384513855,\n",
       " 0.06041092798113823,\n",
       " 0.0,\n",
       " 0.4092046022415161,\n",
       " 0.643860936164856,\n",
       " 0.04136542230844498,\n",
       " 0.0,\n",
       " 0.3891289234161377,\n",
       " 0.4795212745666504,\n",
       " 0.0471540167927742,\n",
       " 0.0,\n",
       " 0.46342843770980835,\n",
       " 0.6971328258514404,\n",
       " 0.0011479392414912581,\n",
       " 0.0,\n",
       " 0.49546942114830017,\n",
       " 0.5794969201087952,\n",
       " -0.03268538415431976,\n",
       " 0.0,\n",
       " 0.46003663539886475,\n",
       " 0.5527586340904236,\n",
       " -0.009839829057455063,\n",
       " 0.0,\n",
       " 0.39465707540512085,\n",
       " 0.5063142776489258,\n",
       " 0.033758070319890976,\n",
       " 0.0,\n",
       " 0.4345572590827942,\n",
       " 0.5038824081420898,\n",
       " 0.004243616946041584,\n",
       " 0.0,\n",
       " 0.44274336099624634,\n",
       " 0.5051971077919006,\n",
       " 0.0022584600374102592,\n",
       " 0.0,\n",
       " 0.4635719954967499,\n",
       " 0.6370972990989685,\n",
       " -0.007586929015815258,\n",
       " 0.0,\n",
       " 0.39943191409111023,\n",
       " 0.5875316262245178,\n",
       " 0.02949644811451435,\n",
       " 0.0,\n",
       " 0.48048925399780273,\n",
       " 0.7121458053588867,\n",
       " 0.0045164404436945915,\n",
       " 0.0,\n",
       " 0.45202264189720154,\n",
       " 0.6985855102539062,\n",
       " 0.02207050658762455,\n",
       " 0.0,\n",
       " 0.43885576725006104,\n",
       " 0.688997745513916,\n",
       " 0.03271329030394554,\n",
       " 0.0,\n",
       " 0.4941006004810333,\n",
       " 0.41052770614624023,\n",
       " -0.013182616792619228,\n",
       " 0.0,\n",
       " 0.4988727271556854,\n",
       " 0.7132520079612732,\n",
       " 0.0028605861589312553,\n",
       " 0.0,\n",
       " 0.45085081458091736,\n",
       " 0.5042689442634583,\n",
       " 0.002392005641013384,\n",
       " 0.0,\n",
       " 0.45849287509918213,\n",
       " 0.5017428398132324,\n",
       " 0.004058258142322302,\n",
       " 0.0,\n",
       " 0.4634431302547455,\n",
       " 0.4998917281627655,\n",
       " 0.006289351731538773,\n",
       " 0.0,\n",
       " 0.39747291803359985,\n",
       " 0.4809802770614624,\n",
       " 0.025071032345294952,\n",
       " 0.0,\n",
       " 0.45791345834732056,\n",
       " 0.4904184341430664,\n",
       " 0.0022672538179904222,\n",
       " 0.0,\n",
       " 0.44964566826820374,\n",
       " 0.48782891035079956,\n",
       " 0.00028330564964562654,\n",
       " 0.0,\n",
       " 0.441704660654068,\n",
       " 0.48730581998825073,\n",
       " 0.0003860549768432975,\n",
       " 0.0,\n",
       " 0.43358293175697327,\n",
       " 0.4891720712184906,\n",
       " 0.0024248247500509024,\n",
       " 0.0,\n",
       " 0.4282636046409607,\n",
       " 0.49214228987693787,\n",
       " 0.005312890745699406,\n",
       " 0.0,\n",
       " 0.3822821378707886,\n",
       " 0.47530829906463623,\n",
       " 0.07300112396478653,\n",
       " 0.0,\n",
       " 0.42910513281822205,\n",
       " 0.5017339587211609,\n",
       " 0.007067068479955196,\n",
       " 0.0,\n",
       " 0.4988550543785095,\n",
       " 0.5940161347389221,\n",
       " -0.025011766701936722,\n",
       " 0.0,\n",
       " 0.46789318323135376,\n",
       " 0.6016421914100647,\n",
       " -0.017746396362781525,\n",
       " 0.0,\n",
       " 0.47549721598625183,\n",
       " 0.5732995271682739,\n",
       " -0.027443712577223778,\n",
       " 0.0,\n",
       " 0.4862197935581207,\n",
       " 0.5960075855255127,\n",
       " -0.025133946910500526,\n",
       " 0.0,\n",
       " 0.49515751004219055,\n",
       " 0.4803493022918701,\n",
       " -0.015920625999569893,\n",
       " 0.0,\n",
       " 0.4364882707595825,\n",
       " 0.6752714514732361,\n",
       " 0.020518526434898376,\n",
       " 0.0,\n",
       " 0.4495336413383484,\n",
       " 0.6863095760345459,\n",
       " 0.01128125935792923,\n",
       " 0.0,\n",
       " 0.4799612760543823,\n",
       " 0.7046442031860352,\n",
       " -0.007272897753864527,\n",
       " 0.0,\n",
       " 0.4104212522506714,\n",
       " 0.6568984985351562,\n",
       " 0.0641501173377037,\n",
       " 0.0,\n",
       " 0.46368151903152466,\n",
       " 0.4948183298110962,\n",
       " 0.004766493570059538,\n",
       " 0.0,\n",
       " 0.4810509979724884,\n",
       " 0.5225176215171814,\n",
       " -0.02360464632511139,\n",
       " 0.0,\n",
       " 0.4994516968727112,\n",
       " 0.7052179574966431,\n",
       " -0.008496681228280067,\n",
       " 0.0,\n",
       " 0.46556079387664795,\n",
       " 0.70662522315979,\n",
       " 0.011213713325560093,\n",
       " 0.0,\n",
       " 0.3918393850326538,\n",
       " 0.5942869186401367,\n",
       " 0.05855139344930649,\n",
       " 0.0,\n",
       " 0.4816340506076813,\n",
       " 0.6311852931976318,\n",
       " -0.016029121354222298,\n",
       " 0.0,\n",
       " 0.48042017221450806,\n",
       " 0.6342678666114807,\n",
       " -0.01791563630104065,\n",
       " 0.0,\n",
       " 0.4791950583457947,\n",
       " 0.6395207047462463,\n",
       " -0.01979776658117771,\n",
       " 0.0,\n",
       " 0.4782339334487915,\n",
       " 0.6465277075767517,\n",
       " -0.01861231029033661,\n",
       " 0.0,\n",
       " 0.47477248311042786,\n",
       " 0.6587846279144287,\n",
       " -0.011643714271485806,\n",
       " 0.0,\n",
       " 0.46741706132888794,\n",
       " 0.6308789253234863,\n",
       " -0.00910856667906046,\n",
       " 0.0,\n",
       " 0.464723140001297,\n",
       " 0.6302029490470886,\n",
       " -0.009285418316721916,\n",
       " 0.0,\n",
       " 0.46197912096977234,\n",
       " 0.6286273002624512,\n",
       " -0.009540379978716373,\n",
       " 0.0,\n",
       " 0.45212745666503906,\n",
       " 0.6208711862564087,\n",
       " -0.007782386615872383,\n",
       " 0.0,\n",
       " 0.4125366508960724,\n",
       " 0.5933603644371033,\n",
       " 0.01111563853919506,\n",
       " 0.0,\n",
       " 0.48028674721717834,\n",
       " 0.50996994972229,\n",
       " -0.014758496545255184,\n",
       " 0.0,\n",
       " 0.4736116826534271,\n",
       " 0.48620229959487915,\n",
       " 0.0005313169094733894,\n",
       " 0.0,\n",
       " 0.46774569153785706,\n",
       " 0.49018412828445435,\n",
       " 0.003430904820561409,\n",
       " 0.0,\n",
       " 0.4691757261753082,\n",
       " 0.6290707588195801,\n",
       " -0.008186716586351395,\n",
       " 0.0,\n",
       " 0.41290098428726196,\n",
       " 0.6251657605171204,\n",
       " 0.024181770160794258,\n",
       " 0.0,\n",
       " 0.482543021440506,\n",
       " 0.4834710955619812,\n",
       " -0.010721697472035885,\n",
       " 0.0,\n",
       " 0.4690971076488495,\n",
       " 0.6723558902740479,\n",
       " -0.007270114496350288,\n",
       " 0.0,\n",
       " 0.49752864241600037,\n",
       " 0.5243091583251953,\n",
       " -0.03975727781653404,\n",
       " 0.0,\n",
       " 0.4879107177257538,\n",
       " 0.5148520469665527,\n",
       " -0.029280217364430428,\n",
       " 0.0,\n",
       " 0.4967699646949768,\n",
       " 0.5114628076553345,\n",
       " -0.03085496462881565,\n",
       " 0.0,\n",
       " 0.4749910831451416,\n",
       " 0.5436950922012329,\n",
       " -0.02438017912209034,\n",
       " 0.0,\n",
       " 0.499637633562088,\n",
       " 0.6931787133216858,\n",
       " -0.01339532807469368,\n",
       " 0.0,\n",
       " 0.4996466636657715,\n",
       " 0.6774394512176514,\n",
       " -0.0130648547783494,\n",
       " 0.0,\n",
       " 0.4840454161167145,\n",
       " 0.6780055165290833,\n",
       " -0.012009503319859505,\n",
       " 0.0,\n",
       " 0.44715213775634766,\n",
       " 0.6512348651885986,\n",
       " 0.0016502976650372148,\n",
       " 0.0,\n",
       " 0.45693346858024597,\n",
       " 0.5805128216743469,\n",
       " -0.008926979266107082,\n",
       " 0.0,\n",
       " 0.4573512375354767,\n",
       " 0.6636336445808411,\n",
       " -0.0024992607068270445,\n",
       " 0.0,\n",
       " 0.4337945878505707,\n",
       " 0.5799322724342346,\n",
       " -0.005758838262408972,\n",
       " 0.0,\n",
       " 0.44805747270584106,\n",
       " 0.5940619111061096,\n",
       " -0.008092589676380157,\n",
       " 0.0,\n",
       " 0.42629146575927734,\n",
       " 0.6019700169563293,\n",
       " 0.0005158943822607398,\n",
       " 0.0,\n",
       " 0.4810371994972229,\n",
       " 0.6931362152099609,\n",
       " -0.011919832788407803,\n",
       " 0.0,\n",
       " 0.4693205654621124,\n",
       " 0.5520256161689758,\n",
       " -0.018325215205550194,\n",
       " 0.0,\n",
       " 0.43915531039237976,\n",
       " 0.6611743569374084,\n",
       " 0.010105823166668415,\n",
       " 0.0,\n",
       " 0.4520454704761505,\n",
       " 0.6739456653594971,\n",
       " 0.004088953137397766,\n",
       " 0.0,\n",
       " 0.4387802183628082,\n",
       " 0.6358754634857178,\n",
       " 0.0026569664478302,\n",
       " 0.0,\n",
       " 0.40294012427330017,\n",
       " 0.6099964380264282,\n",
       " 0.032539837062358856,\n",
       " 0.0,\n",
       " 0.42637506127357483,\n",
       " 0.6383820176124573,\n",
       " 0.011712768115103245,\n",
       " 0.0,\n",
       " 0.3980121910572052,\n",
       " 0.6206578016281128,\n",
       " 0.05399056896567345,\n",
       " 0.0,\n",
       " 0.44095420837402344,\n",
       " 0.6120119690895081,\n",
       " -0.00452623562887311,\n",
       " ...]"
      ]
     },
     "execution_count": 32,
     "metadata": {},
     "output_type": "execute_result"
    }
   ],
   "source": [
    "row"
   ]
  },
  {
   "cell_type": "markdown",
   "id": "69a922ea",
   "metadata": {},
   "source": [
    "## Train Custom Model Using Scikit Learn"
   ]
  },
  {
   "cell_type": "markdown",
   "id": "9ff8ddf9",
   "metadata": {},
   "source": [
    "### Read in Collected Data and Process"
   ]
  },
  {
   "cell_type": "code",
   "execution_count": 33,
   "id": "b6b9006c",
   "metadata": {},
   "outputs": [],
   "source": [
    "import pandas as pd\n",
    "from sklearn.model_selection import train_test_split"
   ]
  },
  {
   "cell_type": "code",
   "execution_count": 34,
   "id": "06738a4f",
   "metadata": {},
   "outputs": [],
   "source": [
    "df = pd.read_csv('coords.csv')"
   ]
  },
  {
   "cell_type": "code",
   "execution_count": 35,
   "id": "f11405ba",
   "metadata": {},
   "outputs": [
    {
     "data": {
      "text/html": [
       "<div>\n",
       "<style scoped>\n",
       "    .dataframe tbody tr th:only-of-type {\n",
       "        vertical-align: middle;\n",
       "    }\n",
       "\n",
       "    .dataframe tbody tr th {\n",
       "        vertical-align: top;\n",
       "    }\n",
       "\n",
       "    .dataframe thead th {\n",
       "        text-align: right;\n",
       "    }\n",
       "</style>\n",
       "<table border=\"1\" class=\"dataframe\">\n",
       "  <thead>\n",
       "    <tr style=\"text-align: right;\">\n",
       "      <th></th>\n",
       "      <th>class</th>\n",
       "      <th>x1</th>\n",
       "      <th>y1</th>\n",
       "      <th>z1</th>\n",
       "      <th>v1</th>\n",
       "      <th>x2</th>\n",
       "      <th>y2</th>\n",
       "      <th>z2</th>\n",
       "      <th>v2</th>\n",
       "      <th>x3</th>\n",
       "      <th>...</th>\n",
       "      <th>z499</th>\n",
       "      <th>v499</th>\n",
       "      <th>x500</th>\n",
       "      <th>y500</th>\n",
       "      <th>z500</th>\n",
       "      <th>v500</th>\n",
       "      <th>x501</th>\n",
       "      <th>y501</th>\n",
       "      <th>z501</th>\n",
       "      <th>v501</th>\n",
       "    </tr>\n",
       "  </thead>\n",
       "  <tbody>\n",
       "    <tr>\n",
       "      <th>0</th>\n",
       "      <td>Happy</td>\n",
       "      <td>0.513542</td>\n",
       "      <td>0.543983</td>\n",
       "      <td>-0.942281</td>\n",
       "      <td>0.999977</td>\n",
       "      <td>0.546725</td>\n",
       "      <td>0.482584</td>\n",
       "      <td>-0.896483</td>\n",
       "      <td>0.999955</td>\n",
       "      <td>0.566492</td>\n",
       "      <td>...</td>\n",
       "      <td>-0.009635</td>\n",
       "      <td>0.0</td>\n",
       "      <td>0.592288</td>\n",
       "      <td>0.483604</td>\n",
       "      <td>0.012050</td>\n",
       "      <td>0.0</td>\n",
       "      <td>0.598446</td>\n",
       "      <td>0.477325</td>\n",
       "      <td>0.012981</td>\n",
       "      <td>0.0</td>\n",
       "    </tr>\n",
       "    <tr>\n",
       "      <th>1</th>\n",
       "      <td>Happy</td>\n",
       "      <td>0.514469</td>\n",
       "      <td>0.543819</td>\n",
       "      <td>-0.983866</td>\n",
       "      <td>0.999969</td>\n",
       "      <td>0.548374</td>\n",
       "      <td>0.479681</td>\n",
       "      <td>-0.931569</td>\n",
       "      <td>0.999940</td>\n",
       "      <td>0.568111</td>\n",
       "      <td>...</td>\n",
       "      <td>-0.010499</td>\n",
       "      <td>0.0</td>\n",
       "      <td>0.595499</td>\n",
       "      <td>0.474418</td>\n",
       "      <td>0.010825</td>\n",
       "      <td>0.0</td>\n",
       "      <td>0.601628</td>\n",
       "      <td>0.468167</td>\n",
       "      <td>0.011620</td>\n",
       "      <td>0.0</td>\n",
       "    </tr>\n",
       "    <tr>\n",
       "      <th>2</th>\n",
       "      <td>Happy</td>\n",
       "      <td>0.515014</td>\n",
       "      <td>0.544969</td>\n",
       "      <td>-1.000252</td>\n",
       "      <td>0.999959</td>\n",
       "      <td>0.549598</td>\n",
       "      <td>0.479567</td>\n",
       "      <td>-0.947634</td>\n",
       "      <td>0.999921</td>\n",
       "      <td>0.569106</td>\n",
       "      <td>...</td>\n",
       "      <td>-0.011329</td>\n",
       "      <td>0.0</td>\n",
       "      <td>0.594249</td>\n",
       "      <td>0.478057</td>\n",
       "      <td>0.008965</td>\n",
       "      <td>0.0</td>\n",
       "      <td>0.600433</td>\n",
       "      <td>0.471517</td>\n",
       "      <td>0.009725</td>\n",
       "      <td>0.0</td>\n",
       "    </tr>\n",
       "    <tr>\n",
       "      <th>3</th>\n",
       "      <td>Happy</td>\n",
       "      <td>0.511518</td>\n",
       "      <td>0.544586</td>\n",
       "      <td>-1.045649</td>\n",
       "      <td>0.999953</td>\n",
       "      <td>0.548453</td>\n",
       "      <td>0.479218</td>\n",
       "      <td>-0.990886</td>\n",
       "      <td>0.999912</td>\n",
       "      <td>0.568096</td>\n",
       "      <td>...</td>\n",
       "      <td>-0.011299</td>\n",
       "      <td>0.0</td>\n",
       "      <td>0.586399</td>\n",
       "      <td>0.477886</td>\n",
       "      <td>0.007775</td>\n",
       "      <td>0.0</td>\n",
       "      <td>0.592821</td>\n",
       "      <td>0.470751</td>\n",
       "      <td>0.008389</td>\n",
       "      <td>0.0</td>\n",
       "    </tr>\n",
       "    <tr>\n",
       "      <th>4</th>\n",
       "      <td>Happy</td>\n",
       "      <td>0.510015</td>\n",
       "      <td>0.549482</td>\n",
       "      <td>-1.067162</td>\n",
       "      <td>0.999946</td>\n",
       "      <td>0.547673</td>\n",
       "      <td>0.481722</td>\n",
       "      <td>-1.014465</td>\n",
       "      <td>0.999896</td>\n",
       "      <td>0.567168</td>\n",
       "      <td>...</td>\n",
       "      <td>-0.013305</td>\n",
       "      <td>0.0</td>\n",
       "      <td>0.585009</td>\n",
       "      <td>0.484609</td>\n",
       "      <td>0.004804</td>\n",
       "      <td>0.0</td>\n",
       "      <td>0.591439</td>\n",
       "      <td>0.477457</td>\n",
       "      <td>0.005421</td>\n",
       "      <td>0.0</td>\n",
       "    </tr>\n",
       "  </tbody>\n",
       "</table>\n",
       "<p>5 rows × 2005 columns</p>\n",
       "</div>"
      ],
      "text/plain": [
       "   class        x1        y1        z1        v1        x2        y2  \\\n",
       "0  Happy  0.513542  0.543983 -0.942281  0.999977  0.546725  0.482584   \n",
       "1  Happy  0.514469  0.543819 -0.983866  0.999969  0.548374  0.479681   \n",
       "2  Happy  0.515014  0.544969 -1.000252  0.999959  0.549598  0.479567   \n",
       "3  Happy  0.511518  0.544586 -1.045649  0.999953  0.548453  0.479218   \n",
       "4  Happy  0.510015  0.549482 -1.067162  0.999946  0.547673  0.481722   \n",
       "\n",
       "         z2        v2        x3  ...      z499  v499      x500      y500  \\\n",
       "0 -0.896483  0.999955  0.566492  ... -0.009635   0.0  0.592288  0.483604   \n",
       "1 -0.931569  0.999940  0.568111  ... -0.010499   0.0  0.595499  0.474418   \n",
       "2 -0.947634  0.999921  0.569106  ... -0.011329   0.0  0.594249  0.478057   \n",
       "3 -0.990886  0.999912  0.568096  ... -0.011299   0.0  0.586399  0.477886   \n",
       "4 -1.014465  0.999896  0.567168  ... -0.013305   0.0  0.585009  0.484609   \n",
       "\n",
       "       z500  v500      x501      y501      z501  v501  \n",
       "0  0.012050   0.0  0.598446  0.477325  0.012981   0.0  \n",
       "1  0.010825   0.0  0.601628  0.468167  0.011620   0.0  \n",
       "2  0.008965   0.0  0.600433  0.471517  0.009725   0.0  \n",
       "3  0.007775   0.0  0.592821  0.470751  0.008389   0.0  \n",
       "4  0.004804   0.0  0.591439  0.477457  0.005421   0.0  \n",
       "\n",
       "[5 rows x 2005 columns]"
      ]
     },
     "execution_count": 35,
     "metadata": {},
     "output_type": "execute_result"
    }
   ],
   "source": [
    "df.head()"
   ]
  },
  {
   "cell_type": "code",
   "execution_count": 36,
   "id": "22356a3e",
   "metadata": {},
   "outputs": [
    {
     "data": {
      "text/html": [
       "<div>\n",
       "<style scoped>\n",
       "    .dataframe tbody tr th:only-of-type {\n",
       "        vertical-align: middle;\n",
       "    }\n",
       "\n",
       "    .dataframe tbody tr th {\n",
       "        vertical-align: top;\n",
       "    }\n",
       "\n",
       "    .dataframe thead th {\n",
       "        text-align: right;\n",
       "    }\n",
       "</style>\n",
       "<table border=\"1\" class=\"dataframe\">\n",
       "  <thead>\n",
       "    <tr style=\"text-align: right;\">\n",
       "      <th></th>\n",
       "      <th>class</th>\n",
       "      <th>x1</th>\n",
       "      <th>y1</th>\n",
       "      <th>z1</th>\n",
       "      <th>v1</th>\n",
       "      <th>x2</th>\n",
       "      <th>y2</th>\n",
       "      <th>z2</th>\n",
       "      <th>v2</th>\n",
       "      <th>x3</th>\n",
       "      <th>...</th>\n",
       "      <th>z499</th>\n",
       "      <th>v499</th>\n",
       "      <th>x500</th>\n",
       "      <th>y500</th>\n",
       "      <th>z500</th>\n",
       "      <th>v500</th>\n",
       "      <th>x501</th>\n",
       "      <th>y501</th>\n",
       "      <th>z501</th>\n",
       "      <th>v501</th>\n",
       "    </tr>\n",
       "  </thead>\n",
       "  <tbody>\n",
       "    <tr>\n",
       "      <th>3741</th>\n",
       "      <td>Victory</td>\n",
       "      <td>0.489732</td>\n",
       "      <td>0.562305</td>\n",
       "      <td>-0.680806</td>\n",
       "      <td>0.999993</td>\n",
       "      <td>0.517719</td>\n",
       "      <td>0.499557</td>\n",
       "      <td>-0.632433</td>\n",
       "      <td>0.999989</td>\n",
       "      <td>0.535738</td>\n",
       "      <td>...</td>\n",
       "      <td>-0.003829</td>\n",
       "      <td>0.0</td>\n",
       "      <td>0.561544</td>\n",
       "      <td>0.493624</td>\n",
       "      <td>0.017350</td>\n",
       "      <td>0.0</td>\n",
       "      <td>0.566432</td>\n",
       "      <td>0.487803</td>\n",
       "      <td>0.018171</td>\n",
       "      <td>0.0</td>\n",
       "    </tr>\n",
       "    <tr>\n",
       "      <th>3742</th>\n",
       "      <td>Victory</td>\n",
       "      <td>0.487491</td>\n",
       "      <td>0.562070</td>\n",
       "      <td>-0.681420</td>\n",
       "      <td>0.999994</td>\n",
       "      <td>0.516096</td>\n",
       "      <td>0.499496</td>\n",
       "      <td>-0.632839</td>\n",
       "      <td>0.999990</td>\n",
       "      <td>0.534438</td>\n",
       "      <td>...</td>\n",
       "      <td>-0.004002</td>\n",
       "      <td>0.0</td>\n",
       "      <td>0.559998</td>\n",
       "      <td>0.493303</td>\n",
       "      <td>0.016444</td>\n",
       "      <td>0.0</td>\n",
       "      <td>0.564842</td>\n",
       "      <td>0.487745</td>\n",
       "      <td>0.017175</td>\n",
       "      <td>0.0</td>\n",
       "    </tr>\n",
       "    <tr>\n",
       "      <th>3743</th>\n",
       "      <td>Victory</td>\n",
       "      <td>0.485967</td>\n",
       "      <td>0.561842</td>\n",
       "      <td>-0.690327</td>\n",
       "      <td>0.999994</td>\n",
       "      <td>0.515058</td>\n",
       "      <td>0.499402</td>\n",
       "      <td>-0.641786</td>\n",
       "      <td>0.999990</td>\n",
       "      <td>0.533615</td>\n",
       "      <td>...</td>\n",
       "      <td>-0.004299</td>\n",
       "      <td>0.0</td>\n",
       "      <td>0.559543</td>\n",
       "      <td>0.493267</td>\n",
       "      <td>0.016302</td>\n",
       "      <td>0.0</td>\n",
       "      <td>0.564368</td>\n",
       "      <td>0.487640</td>\n",
       "      <td>0.017057</td>\n",
       "      <td>0.0</td>\n",
       "    </tr>\n",
       "    <tr>\n",
       "      <th>3744</th>\n",
       "      <td>Victory</td>\n",
       "      <td>0.485738</td>\n",
       "      <td>0.561776</td>\n",
       "      <td>-0.746054</td>\n",
       "      <td>0.999994</td>\n",
       "      <td>0.514876</td>\n",
       "      <td>0.499369</td>\n",
       "      <td>-0.693281</td>\n",
       "      <td>0.999990</td>\n",
       "      <td>0.533411</td>\n",
       "      <td>...</td>\n",
       "      <td>-0.003690</td>\n",
       "      <td>0.0</td>\n",
       "      <td>0.560249</td>\n",
       "      <td>0.493328</td>\n",
       "      <td>0.017316</td>\n",
       "      <td>0.0</td>\n",
       "      <td>0.565138</td>\n",
       "      <td>0.487306</td>\n",
       "      <td>0.018177</td>\n",
       "      <td>0.0</td>\n",
       "    </tr>\n",
       "    <tr>\n",
       "      <th>3745</th>\n",
       "      <td>Victory</td>\n",
       "      <td>0.485610</td>\n",
       "      <td>0.561646</td>\n",
       "      <td>-0.736422</td>\n",
       "      <td>0.999994</td>\n",
       "      <td>0.514725</td>\n",
       "      <td>0.499300</td>\n",
       "      <td>-0.684601</td>\n",
       "      <td>0.999990</td>\n",
       "      <td>0.533244</td>\n",
       "      <td>...</td>\n",
       "      <td>-0.003726</td>\n",
       "      <td>0.0</td>\n",
       "      <td>0.560357</td>\n",
       "      <td>0.493199</td>\n",
       "      <td>0.017295</td>\n",
       "      <td>0.0</td>\n",
       "      <td>0.565259</td>\n",
       "      <td>0.487245</td>\n",
       "      <td>0.018146</td>\n",
       "      <td>0.0</td>\n",
       "    </tr>\n",
       "  </tbody>\n",
       "</table>\n",
       "<p>5 rows × 2005 columns</p>\n",
       "</div>"
      ],
      "text/plain": [
       "        class        x1        y1        z1        v1        x2        y2  \\\n",
       "3741  Victory  0.489732  0.562305 -0.680806  0.999993  0.517719  0.499557   \n",
       "3742  Victory  0.487491  0.562070 -0.681420  0.999994  0.516096  0.499496   \n",
       "3743  Victory  0.485967  0.561842 -0.690327  0.999994  0.515058  0.499402   \n",
       "3744  Victory  0.485738  0.561776 -0.746054  0.999994  0.514876  0.499369   \n",
       "3745  Victory  0.485610  0.561646 -0.736422  0.999994  0.514725  0.499300   \n",
       "\n",
       "            z2        v2        x3  ...      z499  v499      x500      y500  \\\n",
       "3741 -0.632433  0.999989  0.535738  ... -0.003829   0.0  0.561544  0.493624   \n",
       "3742 -0.632839  0.999990  0.534438  ... -0.004002   0.0  0.559998  0.493303   \n",
       "3743 -0.641786  0.999990  0.533615  ... -0.004299   0.0  0.559543  0.493267   \n",
       "3744 -0.693281  0.999990  0.533411  ... -0.003690   0.0  0.560249  0.493328   \n",
       "3745 -0.684601  0.999990  0.533244  ... -0.003726   0.0  0.560357  0.493199   \n",
       "\n",
       "          z500  v500      x501      y501      z501  v501  \n",
       "3741  0.017350   0.0  0.566432  0.487803  0.018171   0.0  \n",
       "3742  0.016444   0.0  0.564842  0.487745  0.017175   0.0  \n",
       "3743  0.016302   0.0  0.564368  0.487640  0.017057   0.0  \n",
       "3744  0.017316   0.0  0.565138  0.487306  0.018177   0.0  \n",
       "3745  0.017295   0.0  0.565259  0.487245  0.018146   0.0  \n",
       "\n",
       "[5 rows x 2005 columns]"
      ]
     },
     "execution_count": 36,
     "metadata": {},
     "output_type": "execute_result"
    }
   ],
   "source": [
    "df.tail()"
   ]
  },
  {
   "cell_type": "code",
   "execution_count": 37,
   "id": "bdfbcf8a",
   "metadata": {},
   "outputs": [
    {
     "data": {
      "text/html": [
       "<div>\n",
       "<style scoped>\n",
       "    .dataframe tbody tr th:only-of-type {\n",
       "        vertical-align: middle;\n",
       "    }\n",
       "\n",
       "    .dataframe tbody tr th {\n",
       "        vertical-align: top;\n",
       "    }\n",
       "\n",
       "    .dataframe thead th {\n",
       "        text-align: right;\n",
       "    }\n",
       "</style>\n",
       "<table border=\"1\" class=\"dataframe\">\n",
       "  <thead>\n",
       "    <tr style=\"text-align: right;\">\n",
       "      <th></th>\n",
       "      <th>class</th>\n",
       "      <th>x1</th>\n",
       "      <th>y1</th>\n",
       "      <th>z1</th>\n",
       "      <th>v1</th>\n",
       "      <th>x2</th>\n",
       "      <th>y2</th>\n",
       "      <th>z2</th>\n",
       "      <th>v2</th>\n",
       "      <th>x3</th>\n",
       "      <th>...</th>\n",
       "      <th>z499</th>\n",
       "      <th>v499</th>\n",
       "      <th>x500</th>\n",
       "      <th>y500</th>\n",
       "      <th>z500</th>\n",
       "      <th>v500</th>\n",
       "      <th>x501</th>\n",
       "      <th>y501</th>\n",
       "      <th>z501</th>\n",
       "      <th>v501</th>\n",
       "    </tr>\n",
       "  </thead>\n",
       "  <tbody>\n",
       "    <tr>\n",
       "      <th>823</th>\n",
       "      <td>Standing march</td>\n",
       "      <td>0.280358</td>\n",
       "      <td>0.057798</td>\n",
       "      <td>-0.453318</td>\n",
       "      <td>0.995545</td>\n",
       "      <td>0.280140</td>\n",
       "      <td>0.019113</td>\n",
       "      <td>-0.405337</td>\n",
       "      <td>0.994027</td>\n",
       "      <td>0.285674</td>\n",
       "      <td>...</td>\n",
       "      <td>0.004904</td>\n",
       "      <td>0.0</td>\n",
       "      <td>0.301833</td>\n",
       "      <td>0.026119</td>\n",
       "      <td>0.026725</td>\n",
       "      <td>0.0</td>\n",
       "      <td>0.305104</td>\n",
       "      <td>0.022173</td>\n",
       "      <td>0.028112</td>\n",
       "      <td>0.0</td>\n",
       "    </tr>\n",
       "    <tr>\n",
       "      <th>824</th>\n",
       "      <td>Standing march</td>\n",
       "      <td>0.332422</td>\n",
       "      <td>0.072115</td>\n",
       "      <td>-0.349925</td>\n",
       "      <td>0.995856</td>\n",
       "      <td>0.334430</td>\n",
       "      <td>0.035009</td>\n",
       "      <td>-0.321561</td>\n",
       "      <td>0.994354</td>\n",
       "      <td>0.340629</td>\n",
       "      <td>...</td>\n",
       "      <td>0.005760</td>\n",
       "      <td>0.0</td>\n",
       "      <td>0.356751</td>\n",
       "      <td>0.043819</td>\n",
       "      <td>0.027513</td>\n",
       "      <td>0.0</td>\n",
       "      <td>0.359879</td>\n",
       "      <td>0.040156</td>\n",
       "      <td>0.028922</td>\n",
       "      <td>0.0</td>\n",
       "    </tr>\n",
       "    <tr>\n",
       "      <th>825</th>\n",
       "      <td>Standing march</td>\n",
       "      <td>0.344262</td>\n",
       "      <td>0.081849</td>\n",
       "      <td>-0.242224</td>\n",
       "      <td>0.996200</td>\n",
       "      <td>0.351979</td>\n",
       "      <td>0.044093</td>\n",
       "      <td>-0.216578</td>\n",
       "      <td>0.994765</td>\n",
       "      <td>0.358890</td>\n",
       "      <td>...</td>\n",
       "      <td>0.005333</td>\n",
       "      <td>0.0</td>\n",
       "      <td>0.370376</td>\n",
       "      <td>0.042325</td>\n",
       "      <td>0.024271</td>\n",
       "      <td>0.0</td>\n",
       "      <td>0.373728</td>\n",
       "      <td>0.038184</td>\n",
       "      <td>0.025389</td>\n",
       "      <td>0.0</td>\n",
       "    </tr>\n",
       "    <tr>\n",
       "      <th>826</th>\n",
       "      <td>Standing march</td>\n",
       "      <td>0.395373</td>\n",
       "      <td>0.077242</td>\n",
       "      <td>-0.340946</td>\n",
       "      <td>0.996509</td>\n",
       "      <td>0.397504</td>\n",
       "      <td>0.040556</td>\n",
       "      <td>-0.309849</td>\n",
       "      <td>0.995082</td>\n",
       "      <td>0.402983</td>\n",
       "      <td>...</td>\n",
       "      <td>0.006323</td>\n",
       "      <td>0.0</td>\n",
       "      <td>0.418943</td>\n",
       "      <td>0.040684</td>\n",
       "      <td>0.025652</td>\n",
       "      <td>0.0</td>\n",
       "      <td>0.421965</td>\n",
       "      <td>0.037382</td>\n",
       "      <td>0.026946</td>\n",
       "      <td>0.0</td>\n",
       "    </tr>\n",
       "    <tr>\n",
       "      <th>827</th>\n",
       "      <td>Standing march</td>\n",
       "      <td>0.407366</td>\n",
       "      <td>0.078307</td>\n",
       "      <td>-0.381576</td>\n",
       "      <td>0.996827</td>\n",
       "      <td>0.411584</td>\n",
       "      <td>0.041137</td>\n",
       "      <td>-0.352616</td>\n",
       "      <td>0.995509</td>\n",
       "      <td>0.417059</td>\n",
       "      <td>...</td>\n",
       "      <td>0.005556</td>\n",
       "      <td>0.0</td>\n",
       "      <td>0.426547</td>\n",
       "      <td>0.045404</td>\n",
       "      <td>0.023717</td>\n",
       "      <td>0.0</td>\n",
       "      <td>0.429403</td>\n",
       "      <td>0.042174</td>\n",
       "      <td>0.024913</td>\n",
       "      <td>0.0</td>\n",
       "    </tr>\n",
       "    <tr>\n",
       "      <th>...</th>\n",
       "      <td>...</td>\n",
       "      <td>...</td>\n",
       "      <td>...</td>\n",
       "      <td>...</td>\n",
       "      <td>...</td>\n",
       "      <td>...</td>\n",
       "      <td>...</td>\n",
       "      <td>...</td>\n",
       "      <td>...</td>\n",
       "      <td>...</td>\n",
       "      <td>...</td>\n",
       "      <td>...</td>\n",
       "      <td>...</td>\n",
       "      <td>...</td>\n",
       "      <td>...</td>\n",
       "      <td>...</td>\n",
       "      <td>...</td>\n",
       "      <td>...</td>\n",
       "      <td>...</td>\n",
       "      <td>...</td>\n",
       "      <td>...</td>\n",
       "    </tr>\n",
       "    <tr>\n",
       "      <th>1607</th>\n",
       "      <td>Standing march</td>\n",
       "      <td>0.354778</td>\n",
       "      <td>0.120218</td>\n",
       "      <td>-0.441215</td>\n",
       "      <td>0.999901</td>\n",
       "      <td>0.373114</td>\n",
       "      <td>0.090561</td>\n",
       "      <td>-0.408018</td>\n",
       "      <td>0.999790</td>\n",
       "      <td>0.383783</td>\n",
       "      <td>...</td>\n",
       "      <td>-0.004093</td>\n",
       "      <td>0.0</td>\n",
       "      <td>0.380675</td>\n",
       "      <td>0.080693</td>\n",
       "      <td>0.000269</td>\n",
       "      <td>0.0</td>\n",
       "      <td>0.383736</td>\n",
       "      <td>0.077182</td>\n",
       "      <td>0.000127</td>\n",
       "      <td>0.0</td>\n",
       "    </tr>\n",
       "    <tr>\n",
       "      <th>1608</th>\n",
       "      <td>Standing march</td>\n",
       "      <td>0.314183</td>\n",
       "      <td>0.097601</td>\n",
       "      <td>-0.592784</td>\n",
       "      <td>0.999905</td>\n",
       "      <td>0.331777</td>\n",
       "      <td>0.066836</td>\n",
       "      <td>-0.558382</td>\n",
       "      <td>0.999801</td>\n",
       "      <td>0.343092</td>\n",
       "      <td>...</td>\n",
       "      <td>-0.001037</td>\n",
       "      <td>0.0</td>\n",
       "      <td>0.337325</td>\n",
       "      <td>0.054594</td>\n",
       "      <td>0.005557</td>\n",
       "      <td>0.0</td>\n",
       "      <td>0.340416</td>\n",
       "      <td>0.050686</td>\n",
       "      <td>0.005622</td>\n",
       "      <td>0.0</td>\n",
       "    </tr>\n",
       "    <tr>\n",
       "      <th>1609</th>\n",
       "      <td>Standing march</td>\n",
       "      <td>0.290594</td>\n",
       "      <td>0.098406</td>\n",
       "      <td>-0.643010</td>\n",
       "      <td>0.999878</td>\n",
       "      <td>0.309749</td>\n",
       "      <td>0.065205</td>\n",
       "      <td>-0.610018</td>\n",
       "      <td>0.999777</td>\n",
       "      <td>0.322175</td>\n",
       "      <td>...</td>\n",
       "      <td>0.000644</td>\n",
       "      <td>0.0</td>\n",
       "      <td>0.323879</td>\n",
       "      <td>0.050620</td>\n",
       "      <td>0.006740</td>\n",
       "      <td>0.0</td>\n",
       "      <td>0.327078</td>\n",
       "      <td>0.046176</td>\n",
       "      <td>0.006834</td>\n",
       "      <td>0.0</td>\n",
       "    </tr>\n",
       "    <tr>\n",
       "      <th>1610</th>\n",
       "      <td>Standing march</td>\n",
       "      <td>0.223894</td>\n",
       "      <td>0.058908</td>\n",
       "      <td>-0.978141</td>\n",
       "      <td>0.999815</td>\n",
       "      <td>0.247578</td>\n",
       "      <td>0.022246</td>\n",
       "      <td>-0.941698</td>\n",
       "      <td>0.999559</td>\n",
       "      <td>0.262260</td>\n",
       "      <td>...</td>\n",
       "      <td>-0.003819</td>\n",
       "      <td>0.0</td>\n",
       "      <td>0.264564</td>\n",
       "      <td>0.006201</td>\n",
       "      <td>-0.000116</td>\n",
       "      <td>0.0</td>\n",
       "      <td>0.268372</td>\n",
       "      <td>0.000648</td>\n",
       "      <td>-0.000407</td>\n",
       "      <td>0.0</td>\n",
       "    </tr>\n",
       "    <tr>\n",
       "      <th>1611</th>\n",
       "      <td>Standing march</td>\n",
       "      <td>0.196889</td>\n",
       "      <td>0.033809</td>\n",
       "      <td>-0.917775</td>\n",
       "      <td>0.999509</td>\n",
       "      <td>0.221300</td>\n",
       "      <td>-0.001441</td>\n",
       "      <td>-0.890383</td>\n",
       "      <td>0.998707</td>\n",
       "      <td>0.237562</td>\n",
       "      <td>...</td>\n",
       "      <td>-0.006501</td>\n",
       "      <td>0.0</td>\n",
       "      <td>0.245928</td>\n",
       "      <td>-0.003055</td>\n",
       "      <td>-0.010752</td>\n",
       "      <td>0.0</td>\n",
       "      <td>0.250309</td>\n",
       "      <td>-0.007070</td>\n",
       "      <td>-0.011831</td>\n",
       "      <td>0.0</td>\n",
       "    </tr>\n",
       "  </tbody>\n",
       "</table>\n",
       "<p>789 rows × 2005 columns</p>\n",
       "</div>"
      ],
      "text/plain": [
       "               class        x1        y1        z1        v1        x2  \\\n",
       "823   Standing march  0.280358  0.057798 -0.453318  0.995545  0.280140   \n",
       "824   Standing march  0.332422  0.072115 -0.349925  0.995856  0.334430   \n",
       "825   Standing march  0.344262  0.081849 -0.242224  0.996200  0.351979   \n",
       "826   Standing march  0.395373  0.077242 -0.340946  0.996509  0.397504   \n",
       "827   Standing march  0.407366  0.078307 -0.381576  0.996827  0.411584   \n",
       "...              ...       ...       ...       ...       ...       ...   \n",
       "1607  Standing march  0.354778  0.120218 -0.441215  0.999901  0.373114   \n",
       "1608  Standing march  0.314183  0.097601 -0.592784  0.999905  0.331777   \n",
       "1609  Standing march  0.290594  0.098406 -0.643010  0.999878  0.309749   \n",
       "1610  Standing march  0.223894  0.058908 -0.978141  0.999815  0.247578   \n",
       "1611  Standing march  0.196889  0.033809 -0.917775  0.999509  0.221300   \n",
       "\n",
       "            y2        z2        v2        x3  ...      z499  v499      x500  \\\n",
       "823   0.019113 -0.405337  0.994027  0.285674  ...  0.004904   0.0  0.301833   \n",
       "824   0.035009 -0.321561  0.994354  0.340629  ...  0.005760   0.0  0.356751   \n",
       "825   0.044093 -0.216578  0.994765  0.358890  ...  0.005333   0.0  0.370376   \n",
       "826   0.040556 -0.309849  0.995082  0.402983  ...  0.006323   0.0  0.418943   \n",
       "827   0.041137 -0.352616  0.995509  0.417059  ...  0.005556   0.0  0.426547   \n",
       "...        ...       ...       ...       ...  ...       ...   ...       ...   \n",
       "1607  0.090561 -0.408018  0.999790  0.383783  ... -0.004093   0.0  0.380675   \n",
       "1608  0.066836 -0.558382  0.999801  0.343092  ... -0.001037   0.0  0.337325   \n",
       "1609  0.065205 -0.610018  0.999777  0.322175  ...  0.000644   0.0  0.323879   \n",
       "1610  0.022246 -0.941698  0.999559  0.262260  ... -0.003819   0.0  0.264564   \n",
       "1611 -0.001441 -0.890383  0.998707  0.237562  ... -0.006501   0.0  0.245928   \n",
       "\n",
       "          y500      z500  v500      x501      y501      z501  v501  \n",
       "823   0.026119  0.026725   0.0  0.305104  0.022173  0.028112   0.0  \n",
       "824   0.043819  0.027513   0.0  0.359879  0.040156  0.028922   0.0  \n",
       "825   0.042325  0.024271   0.0  0.373728  0.038184  0.025389   0.0  \n",
       "826   0.040684  0.025652   0.0  0.421965  0.037382  0.026946   0.0  \n",
       "827   0.045404  0.023717   0.0  0.429403  0.042174  0.024913   0.0  \n",
       "...        ...       ...   ...       ...       ...       ...   ...  \n",
       "1607  0.080693  0.000269   0.0  0.383736  0.077182  0.000127   0.0  \n",
       "1608  0.054594  0.005557   0.0  0.340416  0.050686  0.005622   0.0  \n",
       "1609  0.050620  0.006740   0.0  0.327078  0.046176  0.006834   0.0  \n",
       "1610  0.006201 -0.000116   0.0  0.268372  0.000648 -0.000407   0.0  \n",
       "1611 -0.003055 -0.010752   0.0  0.250309 -0.007070 -0.011831   0.0  \n",
       "\n",
       "[789 rows x 2005 columns]"
      ]
     },
     "execution_count": 37,
     "metadata": {},
     "output_type": "execute_result"
    }
   ],
   "source": [
    "df[df['class']=='Standing march']"
   ]
  },
  {
   "cell_type": "code",
   "execution_count": 38,
   "id": "9ac2d34b",
   "metadata": {},
   "outputs": [],
   "source": [
    "X = df.drop('class', axis=1) # features\n",
    "y = df['class'] # target value"
   ]
  },
  {
   "cell_type": "code",
   "execution_count": 39,
   "id": "8b58cb96",
   "metadata": {},
   "outputs": [],
   "source": [
    "X_train, X_test, y_train, y_test = train_test_split(X, y, test_size=0.3, random_state=1234)"
   ]
  },
  {
   "cell_type": "code",
   "execution_count": 40,
   "id": "89e053e8",
   "metadata": {},
   "outputs": [
    {
     "data": {
      "text/plain": [
       "132              Happy\n",
       "2043         Arm raise\n",
       "3173           Victory\n",
       "1634         Arm raise\n",
       "818              Happy\n",
       "             ...      \n",
       "2773           Victory\n",
       "3097           Victory\n",
       "2622         Arm raise\n",
       "3659           Victory\n",
       "1545    Standing march\n",
       "Name: class, Length: 1124, dtype: object"
      ]
     },
     "execution_count": 40,
     "metadata": {},
     "output_type": "execute_result"
    }
   ],
   "source": [
    "y_test"
   ]
  },
  {
   "cell_type": "markdown",
   "id": "a47ba976",
   "metadata": {},
   "source": [
    "### Train Machine Learning Classification Model"
   ]
  },
  {
   "cell_type": "code",
   "execution_count": 41,
   "id": "2f248386",
   "metadata": {},
   "outputs": [],
   "source": [
    "from sklearn.pipeline import make_pipeline \n",
    "from sklearn.preprocessing import StandardScaler \n",
    "\n",
    "from sklearn.linear_model import LogisticRegression, RidgeClassifier\n",
    "from sklearn.ensemble import RandomForestClassifier, GradientBoostingClassifier"
   ]
  },
  {
   "cell_type": "code",
   "execution_count": 42,
   "id": "3edcf19e",
   "metadata": {},
   "outputs": [],
   "source": [
    "pipelines = {\n",
    "    'lr':make_pipeline(StandardScaler(), LogisticRegression()),\n",
    "    'rc':make_pipeline(StandardScaler(), RidgeClassifier()),\n",
    "    'rf':make_pipeline(StandardScaler(), RandomForestClassifier()),\n",
    "    'gb':make_pipeline(StandardScaler(), GradientBoostingClassifier()),\n",
    "}"
   ]
  },
  {
   "cell_type": "code",
   "execution_count": 43,
   "id": "ad1eeebc",
   "metadata": {},
   "outputs": [
    {
     "name": "stderr",
     "output_type": "stream",
     "text": [
      "C:\\Users\\DELL\\anaconda3\\lib\\site-packages\\sklearn\\linear_model\\_logistic.py:814: ConvergenceWarning: lbfgs failed to converge (status=1):\n",
      "STOP: TOTAL NO. of ITERATIONS REACHED LIMIT.\n",
      "\n",
      "Increase the number of iterations (max_iter) or scale the data as shown in:\n",
      "    https://scikit-learn.org/stable/modules/preprocessing.html\n",
      "Please also refer to the documentation for alternative solver options:\n",
      "    https://scikit-learn.org/stable/modules/linear_model.html#logistic-regression\n",
      "  n_iter_i = _check_optimize_result(\n"
     ]
    }
   ],
   "source": [
    "fit_models = {}\n",
    "for algo, pipeline in pipelines.items():\n",
    "    model = pipeline.fit(X_train, y_train)\n",
    "    fit_models[algo] = model"
   ]
  },
  {
   "cell_type": "code",
   "execution_count": 44,
   "id": "84f53e2f",
   "metadata": {},
   "outputs": [
    {
     "data": {
      "text/plain": [
       "{'lr': Pipeline(steps=[('standardscaler', StandardScaler()),\n",
       "                 ('logisticregression', LogisticRegression())]),\n",
       " 'rc': Pipeline(steps=[('standardscaler', StandardScaler()),\n",
       "                 ('ridgeclassifier', RidgeClassifier())]),\n",
       " 'rf': Pipeline(steps=[('standardscaler', StandardScaler()),\n",
       "                 ('randomforestclassifier', RandomForestClassifier())]),\n",
       " 'gb': Pipeline(steps=[('standardscaler', StandardScaler()),\n",
       "                 ('gradientboostingclassifier', GradientBoostingClassifier())])}"
      ]
     },
     "execution_count": 44,
     "metadata": {},
     "output_type": "execute_result"
    }
   ],
   "source": [
    "fit_models"
   ]
  },
  {
   "cell_type": "code",
   "execution_count": 49,
   "id": "e2982672",
   "metadata": {},
   "outputs": [
    {
     "data": {
      "text/plain": [
       "array(['Happy', 'Arm raise', 'Victory', ..., 'Arm raise', 'Victory',\n",
       "       'Standing march'], dtype=object)"
      ]
     },
     "execution_count": 49,
     "metadata": {},
     "output_type": "execute_result"
    }
   ],
   "source": [
    "fit_models['rf'].predict(X_test)"
   ]
  },
  {
   "cell_type": "markdown",
   "id": "9854e1a7",
   "metadata": {},
   "source": [
    "### Evaluate and Serialize Model"
   ]
  },
  {
   "cell_type": "code",
   "execution_count": 50,
   "id": "74e5ae39",
   "metadata": {},
   "outputs": [],
   "source": [
    "from sklearn.metrics import accuracy_score, confusion_matrix, classification_report\n",
    "import seaborn as sns\n",
    "import matplotlib.pyplot as plt\n",
    "import pickle "
   ]
  },
  {
   "cell_type": "code",
   "execution_count": 51,
   "id": "df0570fe",
   "metadata": {},
   "outputs": [
    {
     "name": "stdout",
     "output_type": "stream",
     "text": [
      "lr\n",
      "Accuracy: 0.9991103202846975\n",
      "Classification Report:\n",
      "                precision    recall  f1-score   support\n",
      "\n",
      "     Arm raise       1.00      1.00      1.00       323\n",
      "         Happy       1.00      1.00      1.00       242\n",
      "Standing march       1.00      1.00      1.00       220\n",
      "       Victory       1.00      1.00      1.00       339\n",
      "\n",
      "      accuracy                           1.00      1124\n",
      "     macro avg       1.00      1.00      1.00      1124\n",
      "  weighted avg       1.00      1.00      1.00      1124\n",
      "\n",
      "\n",
      "rc\n",
      "Accuracy: 1.0\n",
      "Classification Report:\n",
      "                precision    recall  f1-score   support\n",
      "\n",
      "     Arm raise       1.00      1.00      1.00       323\n",
      "         Happy       1.00      1.00      1.00       242\n",
      "Standing march       1.00      1.00      1.00       220\n",
      "       Victory       1.00      1.00      1.00       339\n",
      "\n",
      "      accuracy                           1.00      1124\n",
      "     macro avg       1.00      1.00      1.00      1124\n",
      "  weighted avg       1.00      1.00      1.00      1124\n",
      "\n",
      "\n",
      "rf\n",
      "Accuracy: 0.9991103202846975\n",
      "Classification Report:\n",
      "                precision    recall  f1-score   support\n",
      "\n",
      "     Arm raise       1.00      1.00      1.00       323\n",
      "         Happy       1.00      1.00      1.00       242\n",
      "Standing march       1.00      1.00      1.00       220\n",
      "       Victory       1.00      1.00      1.00       339\n",
      "\n",
      "      accuracy                           1.00      1124\n",
      "     macro avg       1.00      1.00      1.00      1124\n",
      "  weighted avg       1.00      1.00      1.00      1124\n",
      "\n",
      "\n",
      "gb\n",
      "Accuracy: 1.0\n",
      "Classification Report:\n",
      "                precision    recall  f1-score   support\n",
      "\n",
      "     Arm raise       1.00      1.00      1.00       323\n",
      "         Happy       1.00      1.00      1.00       242\n",
      "Standing march       1.00      1.00      1.00       220\n",
      "       Victory       1.00      1.00      1.00       339\n",
      "\n",
      "      accuracy                           1.00      1124\n",
      "     macro avg       1.00      1.00      1.00      1124\n",
      "  weighted avg       1.00      1.00      1.00      1124\n",
      "\n",
      "\n"
     ]
    }
   ],
   "source": [
    "for algo, model in fit_models.items():\n",
    "    yhat = model.predict(X_test)\n",
    "    print(algo)\n",
    "    print(\"Accuracy:\", accuracy_score(y_test, yhat))\n",
    "    print(\"Classification Report:\")\n",
    "    print(classification_report(y_test, yhat))\n",
    "    print()"
   ]
  },
  {
   "cell_type": "code",
   "execution_count": 52,
   "id": "090949c8",
   "metadata": {},
   "outputs": [
    {
     "data": {
      "text/plain": [
       "array(['Happy', 'Arm raise', 'Victory', ..., 'Arm raise', 'Victory',\n",
       "       'Standing march'], dtype=object)"
      ]
     },
     "execution_count": 52,
     "metadata": {},
     "output_type": "execute_result"
    }
   ],
   "source": [
    "fit_models['gb'].predict(X_test)"
   ]
  },
  {
   "cell_type": "code",
   "execution_count": 53,
   "id": "b8d85e0e",
   "metadata": {},
   "outputs": [
    {
     "data": {
      "text/plain": [
       "132              Happy\n",
       "2043         Arm raise\n",
       "3173           Victory\n",
       "1634         Arm raise\n",
       "818              Happy\n",
       "             ...      \n",
       "2773           Victory\n",
       "3097           Victory\n",
       "2622         Arm raise\n",
       "3659           Victory\n",
       "1545    Standing march\n",
       "Name: class, Length: 1124, dtype: object"
      ]
     },
     "execution_count": 53,
     "metadata": {},
     "output_type": "execute_result"
    }
   ],
   "source": [
    "y_test"
   ]
  },
  {
   "cell_type": "code",
   "execution_count": 54,
   "id": "8de2fa45",
   "metadata": {},
   "outputs": [
    {
     "data": {
      "image/png": "[encoded data removed]",
      "text/plain": [
       "<Figure size 640x480 with 2 Axes>"
      ]
     },
     "metadata": {},
     "output_type": "display_data"
    }
   ],
   "source": [
    "yhat = fit_models['gb'].predict(X_test)\n",
    "\n",
    "cm = confusion_matrix(y_test, yhat)\n",
    "\n",
    "# Create a heatmap of the confusion matrix\n",
    "sns.heatmap(cm, annot=True, cmap=\"Blues\")\n",
    "plt.xlabel('Predicted Labels')\n",
    "plt.ylabel('True Labels')\n",
    "plt.title('Confusion Matrix')\n",
    "plt.show()"
   ]
  },
  {
   "cell_type": "code",
   "execution_count": 55,
   "id": "35dc7254",
   "metadata": {},
   "outputs": [
    {
     "data": {
      "text/plain": [
       "array([[323,   0,   0,   0],\n",
       "       [  0, 242,   0,   0],\n",
       "       [  0,   0, 220,   0],\n",
       "       [  0,   0,   0, 339]], dtype=int64)"
      ]
     },
     "execution_count": 55,
     "metadata": {},
     "output_type": "execute_result"
    }
   ],
   "source": [
    "cm"
   ]
  },
  {
   "cell_type": "code",
   "execution_count": 56,
   "id": "1af9734f",
   "metadata": {},
   "outputs": [],
   "source": [
    "with open('body_language.pkl', 'wb') as f:\n",
    "    pickle.dump(fit_models['gb'], f)"
   ]
  },
  {
   "cell_type": "markdown",
   "id": "e78c59b9",
   "metadata": {},
   "source": [
    "## Make Detections with Model"
   ]
  },
  {
   "cell_type": "code",
   "execution_count": 62,
   "id": "df6cd656",
   "metadata": {},
   "outputs": [],
   "source": [
    "with open('body_language.pkl', 'rb') as f:\n",
    "    model = pickle.load(f)"
   ]
  },
  {
   "cell_type": "code",
   "execution_count": 63,
   "id": "12f238c7",
   "metadata": {},
   "outputs": [
    {
     "data": {
      "text/plain": [
       "Pipeline(steps=[('standardscaler', StandardScaler()),\n",
       "                ('gradientboostingclassifier', GradientBoostingClassifier())])"
      ]
     },
     "execution_count": 63,
     "metadata": {},
     "output_type": "execute_result"
    }
   ],
   "source": [
    "model"
   ]
  },
  {
   "cell_type": "code",
   "execution_count": 64,
   "id": "e704dab4",
   "metadata": {},
   "outputs": [
    {
     "name": "stderr",
     "output_type": "stream",
     "text": [
      "C:\\Users\\DELL\\anaconda3\\lib\\site-packages\\sklearn\\base.py:450: UserWarning: X does not have valid feature names, but StandardScaler was fitted with feature names\n",
      "  warnings.warn(\n",
      "C:\\Users\\DELL\\anaconda3\\lib\\site-packages\\sklearn\\base.py:450: UserWarning: X does not have valid feature names, but StandardScaler was fitted with feature names\n",
      "  warnings.warn(\n",
      "C:\\Users\\DELL\\anaconda3\\lib\\site-packages\\sklearn\\base.py:450: UserWarning: X does not have valid feature names, but StandardScaler was fitted with feature names\n",
      "  warnings.warn(\n",
      "C:\\Users\\DELL\\anaconda3\\lib\\site-packages\\sklearn\\base.py:450: UserWarning: X does not have valid feature names, but StandardScaler was fitted with feature names\n",
      "  warnings.warn(\n"
     ]
    },
    {
     "name": "stdout",
     "output_type": "stream",
     "text": [
      "Happy [6.69844574e-06 9.99993095e-01 9.07852656e-08 1.16237393e-07]\n",
      "Happy [8.02527762e-06 9.99991768e-01 9.07851452e-08 1.16237239e-07]\n"
     ]
    },
    {
     "name": "stderr",
     "output_type": "stream",
     "text": [
      "C:\\Users\\DELL\\anaconda3\\lib\\site-packages\\sklearn\\base.py:450: UserWarning: X does not have valid feature names, but StandardScaler was fitted with feature names\n",
      "  warnings.warn(\n",
      "C:\\Users\\DELL\\anaconda3\\lib\\site-packages\\sklearn\\base.py:450: UserWarning: X does not have valid feature names, but StandardScaler was fitted with feature names\n",
      "  warnings.warn(\n",
      "C:\\Users\\DELL\\anaconda3\\lib\\site-packages\\sklearn\\base.py:450: UserWarning: X does not have valid feature names, but StandardScaler was fitted with feature names\n",
      "  warnings.warn(\n",
      "C:\\Users\\DELL\\anaconda3\\lib\\site-packages\\sklearn\\base.py:450: UserWarning: X does not have valid feature names, but StandardScaler was fitted with feature names\n",
      "  warnings.warn(\n"
     ]
    },
    {
     "name": "stdout",
     "output_type": "stream",
     "text": [
      "Happy [8.02527762e-06 9.99991768e-01 9.07851452e-08 1.16237239e-07]\n",
      "Happy [8.02527762e-06 9.99991768e-01 9.07851452e-08 1.16237239e-07]\n"
     ]
    },
    {
     "name": "stderr",
     "output_type": "stream",
     "text": [
      "C:\\Users\\DELL\\anaconda3\\lib\\site-packages\\sklearn\\base.py:450: UserWarning: X does not have valid feature names, but StandardScaler was fitted with feature names\n",
      "  warnings.warn(\n",
      "C:\\Users\\DELL\\anaconda3\\lib\\site-packages\\sklearn\\base.py:450: UserWarning: X does not have valid feature names, but StandardScaler was fitted with feature names\n",
      "  warnings.warn(\n",
      "C:\\Users\\DELL\\anaconda3\\lib\\site-packages\\sklearn\\base.py:450: UserWarning: X does not have valid feature names, but StandardScaler was fitted with feature names\n",
      "  warnings.warn(\n",
      "C:\\Users\\DELL\\anaconda3\\lib\\site-packages\\sklearn\\base.py:450: UserWarning: X does not have valid feature names, but StandardScaler was fitted with feature names\n",
      "  warnings.warn(\n"
     ]
    },
    {
     "name": "stdout",
     "output_type": "stream",
     "text": [
      "Happy [8.02527762e-06 9.99991768e-01 9.07851452e-08 1.16237239e-07]\n",
      "Happy [1.70927610e-05 9.99982700e-01 9.07843220e-08 1.16236185e-07]\n"
     ]
    },
    {
     "name": "stderr",
     "output_type": "stream",
     "text": [
      "C:\\Users\\DELL\\anaconda3\\lib\\site-packages\\sklearn\\base.py:450: UserWarning: X does not have valid feature names, but StandardScaler was fitted with feature names\n",
      "  warnings.warn(\n",
      "C:\\Users\\DELL\\anaconda3\\lib\\site-packages\\sklearn\\base.py:450: UserWarning: X does not have valid feature names, but StandardScaler was fitted with feature names\n",
      "  warnings.warn(\n",
      "C:\\Users\\DELL\\anaconda3\\lib\\site-packages\\sklearn\\base.py:450: UserWarning: X does not have valid feature names, but StandardScaler was fitted with feature names\n",
      "  warnings.warn(\n",
      "C:\\Users\\DELL\\anaconda3\\lib\\site-packages\\sklearn\\base.py:450: UserWarning: X does not have valid feature names, but StandardScaler was fitted with feature names\n",
      "  warnings.warn(\n",
      "C:\\Users\\DELL\\anaconda3\\lib\\site-packages\\sklearn\\base.py:450: UserWarning: X does not have valid feature names, but StandardScaler was fitted with feature names\n",
      "  warnings.warn(\n"
     ]
    },
    {
     "name": "stdout",
     "output_type": "stream",
     "text": [
      "Happy [8.02527762e-06 9.99991768e-01 9.07851452e-08 1.16237239e-07]\n",
      "Happy [1.26508397e-05 9.99987142e-01 9.07847252e-08 1.16236701e-07]\n"
     ]
    },
    {
     "name": "stderr",
     "output_type": "stream",
     "text": [
      "C:\\Users\\DELL\\anaconda3\\lib\\site-packages\\sklearn\\base.py:450: UserWarning: X does not have valid feature names, but StandardScaler was fitted with feature names\n",
      "  warnings.warn(\n",
      "C:\\Users\\DELL\\anaconda3\\lib\\site-packages\\sklearn\\base.py:450: UserWarning: X does not have valid feature names, but StandardScaler was fitted with feature names\n",
      "  warnings.warn(\n",
      "C:\\Users\\DELL\\anaconda3\\lib\\site-packages\\sklearn\\base.py:450: UserWarning: X does not have valid feature names, but StandardScaler was fitted with feature names\n",
      "  warnings.warn(\n"
     ]
    },
    {
     "name": "stdout",
     "output_type": "stream",
     "text": [
      "Happy [8.02527762e-06 9.99991768e-01 9.07851452e-08 1.16237239e-07]\n",
      "Happy [2.68438144e-05 9.99972949e-01 9.07834367e-08 1.16235051e-07]\n"
     ]
    },
    {
     "name": "stderr",
     "output_type": "stream",
     "text": [
      "C:\\Users\\DELL\\anaconda3\\lib\\site-packages\\sklearn\\base.py:450: UserWarning: X does not have valid feature names, but StandardScaler was fitted with feature names\n",
      "  warnings.warn(\n",
      "C:\\Users\\DELL\\anaconda3\\lib\\site-packages\\sklearn\\base.py:450: UserWarning: X does not have valid feature names, but StandardScaler was fitted with feature names\n",
      "  warnings.warn(\n",
      "C:\\Users\\DELL\\anaconda3\\lib\\site-packages\\sklearn\\base.py:450: UserWarning: X does not have valid feature names, but StandardScaler was fitted with feature names\n",
      "  warnings.warn(\n",
      "C:\\Users\\DELL\\anaconda3\\lib\\site-packages\\sklearn\\base.py:450: UserWarning: X does not have valid feature names, but StandardScaler was fitted with feature names\n",
      "  warnings.warn(\n"
     ]
    },
    {
     "name": "stdout",
     "output_type": "stream",
     "text": [
      "Happy [2.68438144e-05 9.99972949e-01 9.07834367e-08 1.16235051e-07]\n",
      "Happy [2.68438144e-05 9.99972949e-01 9.07834367e-08 1.16235051e-07]\n"
     ]
    },
    {
     "name": "stderr",
     "output_type": "stream",
     "text": [
      "C:\\Users\\DELL\\anaconda3\\lib\\site-packages\\sklearn\\base.py:450: UserWarning: X does not have valid feature names, but StandardScaler was fitted with feature names\n",
      "  warnings.warn(\n",
      "C:\\Users\\DELL\\anaconda3\\lib\\site-packages\\sklearn\\base.py:450: UserWarning: X does not have valid feature names, but StandardScaler was fitted with feature names\n",
      "  warnings.warn(\n",
      "C:\\Users\\DELL\\anaconda3\\lib\\site-packages\\sklearn\\base.py:450: UserWarning: X does not have valid feature names, but StandardScaler was fitted with feature names\n",
      "  warnings.warn(\n",
      "C:\\Users\\DELL\\anaconda3\\lib\\site-packages\\sklearn\\base.py:450: UserWarning: X does not have valid feature names, but StandardScaler was fitted with feature names\n",
      "  warnings.warn(\n"
     ]
    },
    {
     "name": "stdout",
     "output_type": "stream",
     "text": [
      "Happy [1.70927610e-05 9.99982700e-01 9.07843220e-08 1.16236185e-07]\n",
      "Happy [9.08845347e-06 9.99990705e-01 9.07850486e-08 1.16237115e-07]\n"
     ]
    },
    {
     "name": "stderr",
     "output_type": "stream",
     "text": [
      "C:\\Users\\DELL\\anaconda3\\lib\\site-packages\\sklearn\\base.py:450: UserWarning: X does not have valid feature names, but StandardScaler was fitted with feature names\n",
      "  warnings.warn(\n",
      "C:\\Users\\DELL\\anaconda3\\lib\\site-packages\\sklearn\\base.py:450: UserWarning: X does not have valid feature names, but StandardScaler was fitted with feature names\n",
      "  warnings.warn(\n",
      "C:\\Users\\DELL\\anaconda3\\lib\\site-packages\\sklearn\\base.py:450: UserWarning: X does not have valid feature names, but StandardScaler was fitted with feature names\n",
      "  warnings.warn(\n",
      "C:\\Users\\DELL\\anaconda3\\lib\\site-packages\\sklearn\\base.py:450: UserWarning: X does not have valid feature names, but StandardScaler was fitted with feature names\n",
      "  warnings.warn(\n"
     ]
    },
    {
     "name": "stdout",
     "output_type": "stream",
     "text": [
      "Happy [1.26508397e-05 9.99987142e-01 9.07847252e-08 1.16236701e-07]\n",
      "Happy [2.68438144e-05 9.99972949e-01 9.07834367e-08 1.16235051e-07]\n"
     ]
    },
    {
     "name": "stderr",
     "output_type": "stream",
     "text": [
      "C:\\Users\\DELL\\anaconda3\\lib\\site-packages\\sklearn\\base.py:450: UserWarning: X does not have valid feature names, but StandardScaler was fitted with feature names\n",
      "  warnings.warn(\n",
      "C:\\Users\\DELL\\anaconda3\\lib\\site-packages\\sklearn\\base.py:450: UserWarning: X does not have valid feature names, but StandardScaler was fitted with feature names\n",
      "  warnings.warn(\n",
      "C:\\Users\\DELL\\anaconda3\\lib\\site-packages\\sklearn\\base.py:450: UserWarning: X does not have valid feature names, but StandardScaler was fitted with feature names\n",
      "  warnings.warn(\n",
      "C:\\Users\\DELL\\anaconda3\\lib\\site-packages\\sklearn\\base.py:450: UserWarning: X does not have valid feature names, but StandardScaler was fitted with feature names\n",
      "  warnings.warn(\n"
     ]
    },
    {
     "name": "stdout",
     "output_type": "stream",
     "text": [
      "Happy [4.70819378e-05 9.99952711e-01 9.07815994e-08 1.16232699e-07]\n",
      "Happy [2.47123974e-06 9.99997322e-01 9.07856494e-08 1.16237884e-07]\n"
     ]
    },
    {
     "name": "stderr",
     "output_type": "stream",
     "text": [
      "C:\\Users\\DELL\\anaconda3\\lib\\site-packages\\sklearn\\base.py:450: UserWarning: X does not have valid feature names, but StandardScaler was fitted with feature names\n",
      "  warnings.warn(\n",
      "C:\\Users\\DELL\\anaconda3\\lib\\site-packages\\sklearn\\base.py:450: UserWarning: X does not have valid feature names, but StandardScaler was fitted with feature names\n",
      "  warnings.warn(\n",
      "C:\\Users\\DELL\\anaconda3\\lib\\site-packages\\sklearn\\base.py:450: UserWarning: X does not have valid feature names, but StandardScaler was fitted with feature names\n",
      "  warnings.warn(\n",
      "C:\\Users\\DELL\\anaconda3\\lib\\site-packages\\sklearn\\base.py:450: UserWarning: X does not have valid feature names, but StandardScaler was fitted with feature names\n",
      "  warnings.warn(\n"
     ]
    },
    {
     "name": "stdout",
     "output_type": "stream",
     "text": [
      "Happy [2.12593870e-06 9.99997667e-01 9.07856807e-08 1.16237924e-07]\n",
      "Happy [2.12593870e-06 9.99997667e-01 9.07856807e-08 1.16237924e-07]\n"
     ]
    },
    {
     "name": "stderr",
     "output_type": "stream",
     "text": [
      "C:\\Users\\DELL\\anaconda3\\lib\\site-packages\\sklearn\\base.py:450: UserWarning: X does not have valid feature names, but StandardScaler was fitted with feature names\n",
      "  warnings.warn(\n",
      "C:\\Users\\DELL\\anaconda3\\lib\\site-packages\\sklearn\\base.py:450: UserWarning: X does not have valid feature names, but StandardScaler was fitted with feature names\n",
      "  warnings.warn(\n",
      "C:\\Users\\DELL\\anaconda3\\lib\\site-packages\\sklearn\\base.py:450: UserWarning: X does not have valid feature names, but StandardScaler was fitted with feature names\n",
      "  warnings.warn(\n",
      "C:\\Users\\DELL\\anaconda3\\lib\\site-packages\\sklearn\\base.py:450: UserWarning: X does not have valid feature names, but StandardScaler was fitted with feature names\n",
      "  warnings.warn(\n"
     ]
    },
    {
     "name": "stdout",
     "output_type": "stream",
     "text": [
      "Happy [2.12593870e-06 9.99997667e-01 9.07856807e-08 1.16237924e-07]\n",
      "Happy [2.95924747e-06 9.99996834e-01 9.07856051e-08 1.16237827e-07]\n"
     ]
    },
    {
     "name": "stderr",
     "output_type": "stream",
     "text": [
      "C:\\Users\\DELL\\anaconda3\\lib\\site-packages\\sklearn\\base.py:450: UserWarning: X does not have valid feature names, but StandardScaler was fitted with feature names\n",
      "  warnings.warn(\n",
      "C:\\Users\\DELL\\anaconda3\\lib\\site-packages\\sklearn\\base.py:450: UserWarning: X does not have valid feature names, but StandardScaler was fitted with feature names\n",
      "  warnings.warn(\n",
      "C:\\Users\\DELL\\anaconda3\\lib\\site-packages\\sklearn\\base.py:450: UserWarning: X does not have valid feature names, but StandardScaler was fitted with feature names\n",
      "  warnings.warn(\n",
      "C:\\Users\\DELL\\anaconda3\\lib\\site-packages\\sklearn\\base.py:450: UserWarning: X does not have valid feature names, but StandardScaler was fitted with feature names\n",
      "  warnings.warn(\n"
     ]
    },
    {
     "name": "stdout",
     "output_type": "stream",
     "text": [
      "Happy [2.95924747e-06 9.99996834e-01 9.07856051e-08 1.16237827e-07]\n",
      "Happy [2.47417466e-06 9.99997319e-01 9.07856491e-08 1.16237884e-07]\n"
     ]
    },
    {
     "name": "stderr",
     "output_type": "stream",
     "text": [
      "C:\\Users\\DELL\\anaconda3\\lib\\site-packages\\sklearn\\base.py:450: UserWarning: X does not have valid feature names, but StandardScaler was fitted with feature names\n",
      "  warnings.warn(\n",
      "C:\\Users\\DELL\\anaconda3\\lib\\site-packages\\sklearn\\base.py:450: UserWarning: X does not have valid feature names, but StandardScaler was fitted with feature names\n",
      "  warnings.warn(\n",
      "C:\\Users\\DELL\\anaconda3\\lib\\site-packages\\sklearn\\base.py:450: UserWarning: X does not have valid feature names, but StandardScaler was fitted with feature names\n",
      "  warnings.warn(\n",
      "C:\\Users\\DELL\\anaconda3\\lib\\site-packages\\sklearn\\base.py:450: UserWarning: X does not have valid feature names, but StandardScaler was fitted with feature names\n",
      "  warnings.warn(\n"
     ]
    },
    {
     "name": "stdout",
     "output_type": "stream",
     "text": [
      "Happy [2.12593870e-06 9.99997667e-01 9.07856807e-08 1.16237924e-07]\n",
      "Happy [2.12593870e-06 9.99997667e-01 9.07856807e-08 1.16237924e-07]\n"
     ]
    },
    {
     "name": "stderr",
     "output_type": "stream",
     "text": [
      "C:\\Users\\DELL\\anaconda3\\lib\\site-packages\\sklearn\\base.py:450: UserWarning: X does not have valid feature names, but StandardScaler was fitted with feature names\n",
      "  warnings.warn(\n",
      "C:\\Users\\DELL\\anaconda3\\lib\\site-packages\\sklearn\\base.py:450: UserWarning: X does not have valid feature names, but StandardScaler was fitted with feature names\n",
      "  warnings.warn(\n",
      "C:\\Users\\DELL\\anaconda3\\lib\\site-packages\\sklearn\\base.py:450: UserWarning: X does not have valid feature names, but StandardScaler was fitted with feature names\n",
      "  warnings.warn(\n",
      "C:\\Users\\DELL\\anaconda3\\lib\\site-packages\\sklearn\\base.py:450: UserWarning: X does not have valid feature names, but StandardScaler was fitted with feature names\n",
      "  warnings.warn(\n"
     ]
    },
    {
     "name": "stdout",
     "output_type": "stream",
     "text": [
      "Happy [2.95924747e-06 9.99996834e-01 9.07856051e-08 1.16237827e-07]\n",
      "Happy [2.95924747e-06 9.99996834e-01 9.07856051e-08 1.16237827e-07]\n"
     ]
    },
    {
     "name": "stderr",
     "output_type": "stream",
     "text": [
      "C:\\Users\\DELL\\anaconda3\\lib\\site-packages\\sklearn\\base.py:450: UserWarning: X does not have valid feature names, but StandardScaler was fitted with feature names\n",
      "  warnings.warn(\n",
      "C:\\Users\\DELL\\anaconda3\\lib\\site-packages\\sklearn\\base.py:450: UserWarning: X does not have valid feature names, but StandardScaler was fitted with feature names\n",
      "  warnings.warn(\n",
      "C:\\Users\\DELL\\anaconda3\\lib\\site-packages\\sklearn\\base.py:450: UserWarning: X does not have valid feature names, but StandardScaler was fitted with feature names\n",
      "  warnings.warn(\n",
      "C:\\Users\\DELL\\anaconda3\\lib\\site-packages\\sklearn\\base.py:450: UserWarning: X does not have valid feature names, but StandardScaler was fitted with feature names\n",
      "  warnings.warn(\n"
     ]
    },
    {
     "name": "stdout",
     "output_type": "stream",
     "text": [
      "Happy [2.95924747e-06 9.99996834e-01 9.07856051e-08 1.16237827e-07]\n",
      "Happy [2.95924747e-06 9.99996834e-01 9.07856051e-08 1.16237827e-07]\n"
     ]
    },
    {
     "name": "stderr",
     "output_type": "stream",
     "text": [
      "C:\\Users\\DELL\\anaconda3\\lib\\site-packages\\sklearn\\base.py:450: UserWarning: X does not have valid feature names, but StandardScaler was fitted with feature names\n",
      "  warnings.warn(\n",
      "C:\\Users\\DELL\\anaconda3\\lib\\site-packages\\sklearn\\base.py:450: UserWarning: X does not have valid feature names, but StandardScaler was fitted with feature names\n",
      "  warnings.warn(\n",
      "C:\\Users\\DELL\\anaconda3\\lib\\site-packages\\sklearn\\base.py:450: UserWarning: X does not have valid feature names, but StandardScaler was fitted with feature names\n",
      "  warnings.warn(\n",
      "C:\\Users\\DELL\\anaconda3\\lib\\site-packages\\sklearn\\base.py:450: UserWarning: X does not have valid feature names, but StandardScaler was fitted with feature names\n",
      "  warnings.warn(\n"
     ]
    },
    {
     "name": "stdout",
     "output_type": "stream",
     "text": [
      "Happy [0.10735496 0.88512707 0.00330112 0.00421685]\n",
      "Happy [0.37662283 0.39528224 0.10018561 0.12790932]\n"
     ]
    },
    {
     "name": "stderr",
     "output_type": "stream",
     "text": [
      "C:\\Users\\DELL\\anaconda3\\lib\\site-packages\\sklearn\\base.py:450: UserWarning: X does not have valid feature names, but StandardScaler was fitted with feature names\n",
      "  warnings.warn(\n",
      "C:\\Users\\DELL\\anaconda3\\lib\\site-packages\\sklearn\\base.py:450: UserWarning: X does not have valid feature names, but StandardScaler was fitted with feature names\n",
      "  warnings.warn(\n",
      "C:\\Users\\DELL\\anaconda3\\lib\\site-packages\\sklearn\\base.py:450: UserWarning: X does not have valid feature names, but StandardScaler was fitted with feature names\n",
      "  warnings.warn(\n",
      "C:\\Users\\DELL\\anaconda3\\lib\\site-packages\\sklearn\\base.py:450: UserWarning: X does not have valid feature names, but StandardScaler was fitted with feature names\n",
      "  warnings.warn(\n"
     ]
    },
    {
     "name": "stdout",
     "output_type": "stream",
     "text": [
      "Arm raise [0.60628355 0.12166264 0.11953412 0.1525197 ]\n",
      "Arm raise [0.67608772 0.10008707 0.09835326 0.12547195]\n"
     ]
    },
    {
     "name": "stderr",
     "output_type": "stream",
     "text": [
      "C:\\Users\\DELL\\anaconda3\\lib\\site-packages\\sklearn\\base.py:450: UserWarning: X does not have valid feature names, but StandardScaler was fitted with feature names\n",
      "  warnings.warn(\n",
      "C:\\Users\\DELL\\anaconda3\\lib\\site-packages\\sklearn\\base.py:450: UserWarning: X does not have valid feature names, but StandardScaler was fitted with feature names\n",
      "  warnings.warn(\n",
      "C:\\Users\\DELL\\anaconda3\\lib\\site-packages\\sklearn\\base.py:450: UserWarning: X does not have valid feature names, but StandardScaler was fitted with feature names\n",
      "  warnings.warn(\n",
      "C:\\Users\\DELL\\anaconda3\\lib\\site-packages\\sklearn\\base.py:450: UserWarning: X does not have valid feature names, but StandardScaler was fitted with feature names\n",
      "  warnings.warn(\n"
     ]
    },
    {
     "name": "stdout",
     "output_type": "stream",
     "text": [
      "Arm raise [0.67608772 0.10008707 0.09835326 0.12547195]\n",
      "Arm raise [0.76647815 0.07215694 0.07090696 0.09045796]\n"
     ]
    },
    {
     "name": "stderr",
     "output_type": "stream",
     "text": [
      "C:\\Users\\DELL\\anaconda3\\lib\\site-packages\\sklearn\\base.py:450: UserWarning: X does not have valid feature names, but StandardScaler was fitted with feature names\n",
      "  warnings.warn(\n",
      "C:\\Users\\DELL\\anaconda3\\lib\\site-packages\\sklearn\\base.py:450: UserWarning: X does not have valid feature names, but StandardScaler was fitted with feature names\n",
      "  warnings.warn(\n",
      "C:\\Users\\DELL\\anaconda3\\lib\\site-packages\\sklearn\\base.py:450: UserWarning: X does not have valid feature names, but StandardScaler was fitted with feature names\n",
      "  warnings.warn(\n",
      "C:\\Users\\DELL\\anaconda3\\lib\\site-packages\\sklearn\\base.py:450: UserWarning: X does not have valid feature names, but StandardScaler was fitted with feature names\n",
      "  warnings.warn(\n"
     ]
    },
    {
     "name": "stdout",
     "output_type": "stream",
     "text": [
      "Arm raise [0.83756581 0.05019125 0.04932178 0.06292116]\n",
      "Arm raise [0.93039987 0.02150605 0.0211335  0.02696058]\n"
     ]
    },
    {
     "name": "stderr",
     "output_type": "stream",
     "text": [
      "C:\\Users\\DELL\\anaconda3\\lib\\site-packages\\sklearn\\base.py:450: UserWarning: X does not have valid feature names, but StandardScaler was fitted with feature names\n",
      "  warnings.warn(\n",
      "C:\\Users\\DELL\\anaconda3\\lib\\site-packages\\sklearn\\base.py:450: UserWarning: X does not have valid feature names, but StandardScaler was fitted with feature names\n",
      "  warnings.warn(\n",
      "C:\\Users\\DELL\\anaconda3\\lib\\site-packages\\sklearn\\base.py:450: UserWarning: X does not have valid feature names, but StandardScaler was fitted with feature names\n",
      "  warnings.warn(\n",
      "C:\\Users\\DELL\\anaconda3\\lib\\site-packages\\sklearn\\base.py:450: UserWarning: X does not have valid feature names, but StandardScaler was fitted with feature names\n",
      "  warnings.warn(\n"
     ]
    },
    {
     "name": "stdout",
     "output_type": "stream",
     "text": [
      "Arm raise [0.93044746 0.02148119 0.02110938 0.02696196]\n",
      "Arm raise [0.93044746 0.02148119 0.02110938 0.02696196]\n"
     ]
    },
    {
     "name": "stderr",
     "output_type": "stream",
     "text": [
      "C:\\Users\\DELL\\anaconda3\\lib\\site-packages\\sklearn\\base.py:450: UserWarning: X does not have valid feature names, but StandardScaler was fitted with feature names\n",
      "  warnings.warn(\n",
      "C:\\Users\\DELL\\anaconda3\\lib\\site-packages\\sklearn\\base.py:450: UserWarning: X does not have valid feature names, but StandardScaler was fitted with feature names\n",
      "  warnings.warn(\n",
      "C:\\Users\\DELL\\anaconda3\\lib\\site-packages\\sklearn\\base.py:450: UserWarning: X does not have valid feature names, but StandardScaler was fitted with feature names\n",
      "  warnings.warn(\n",
      "C:\\Users\\DELL\\anaconda3\\lib\\site-packages\\sklearn\\base.py:450: UserWarning: X does not have valid feature names, but StandardScaler was fitted with feature names\n",
      "  warnings.warn(\n"
     ]
    },
    {
     "name": "stdout",
     "output_type": "stream",
     "text": [
      "Arm raise [0.99609378 0.00120643 0.00118555 0.00151424]\n",
      "Arm raise [0.99180273 0.0025315  0.00248772 0.00317806]\n"
     ]
    },
    {
     "name": "stderr",
     "output_type": "stream",
     "text": [
      "C:\\Users\\DELL\\anaconda3\\lib\\site-packages\\sklearn\\base.py:450: UserWarning: X does not have valid feature names, but StandardScaler was fitted with feature names\n",
      "  warnings.warn(\n",
      "C:\\Users\\DELL\\anaconda3\\lib\\site-packages\\sklearn\\base.py:450: UserWarning: X does not have valid feature names, but StandardScaler was fitted with feature names\n",
      "  warnings.warn(\n",
      "C:\\Users\\DELL\\anaconda3\\lib\\site-packages\\sklearn\\base.py:450: UserWarning: X does not have valid feature names, but StandardScaler was fitted with feature names\n",
      "  warnings.warn(\n",
      "C:\\Users\\DELL\\anaconda3\\lib\\site-packages\\sklearn\\base.py:450: UserWarning: X does not have valid feature names, but StandardScaler was fitted with feature names\n",
      "  warnings.warn(\n"
     ]
    },
    {
     "name": "stdout",
     "output_type": "stream",
     "text": [
      "Arm raise [9.99261238e-01 2.28145932e-04 2.24200384e-04 2.86415836e-04]\n",
      "Arm raise [9.99650914e-01 1.07805379e-04 1.05940996e-04 1.35339549e-04]\n"
     ]
    },
    {
     "name": "stderr",
     "output_type": "stream",
     "text": [
      "C:\\Users\\DELL\\anaconda3\\lib\\site-packages\\sklearn\\base.py:450: UserWarning: X does not have valid feature names, but StandardScaler was fitted with feature names\n",
      "  warnings.warn(\n",
      "C:\\Users\\DELL\\anaconda3\\lib\\site-packages\\sklearn\\base.py:450: UserWarning: X does not have valid feature names, but StandardScaler was fitted with feature names\n",
      "  warnings.warn(\n",
      "C:\\Users\\DELL\\anaconda3\\lib\\site-packages\\sklearn\\base.py:450: UserWarning: X does not have valid feature names, but StandardScaler was fitted with feature names\n",
      "  warnings.warn(\n",
      "C:\\Users\\DELL\\anaconda3\\lib\\site-packages\\sklearn\\base.py:450: UserWarning: X does not have valid feature names, but StandardScaler was fitted with feature names\n",
      "  warnings.warn(\n"
     ]
    },
    {
     "name": "stdout",
     "output_type": "stream",
     "text": [
      "Arm raise [9.99452613e-01 1.69045010e-04 1.66121551e-04 2.12220168e-04]\n",
      "Arm raise [9.98837006e-01 3.59157908e-04 3.52946643e-04 4.50889094e-04]\n"
     ]
    },
    {
     "name": "stderr",
     "output_type": "stream",
     "text": [
      "C:\\Users\\DELL\\anaconda3\\lib\\site-packages\\sklearn\\base.py:450: UserWarning: X does not have valid feature names, but StandardScaler was fitted with feature names\n",
      "  warnings.warn(\n",
      "C:\\Users\\DELL\\anaconda3\\lib\\site-packages\\sklearn\\base.py:450: UserWarning: X does not have valid feature names, but StandardScaler was fitted with feature names\n",
      "  warnings.warn(\n",
      "C:\\Users\\DELL\\anaconda3\\lib\\site-packages\\sklearn\\base.py:450: UserWarning: X does not have valid feature names, but StandardScaler was fitted with feature names\n",
      "  warnings.warn(\n",
      "C:\\Users\\DELL\\anaconda3\\lib\\site-packages\\sklearn\\base.py:450: UserWarning: X does not have valid feature names, but StandardScaler was fitted with feature names\n",
      "  warnings.warn(\n"
     ]
    },
    {
     "name": "stdout",
     "output_type": "stream",
     "text": [
      "Arm raise [9.99450490e-01 1.69700698e-04 1.66765899e-04 2.13043322e-04]\n",
      "Arm raise [9.99448263e-01 1.70388466e-04 1.67441773e-04 2.13906750e-04]\n"
     ]
    },
    {
     "name": "stderr",
     "output_type": "stream",
     "text": [
      "C:\\Users\\DELL\\anaconda3\\lib\\site-packages\\sklearn\\base.py:450: UserWarning: X does not have valid feature names, but StandardScaler was fitted with feature names\n",
      "  warnings.warn(\n",
      "C:\\Users\\DELL\\anaconda3\\lib\\site-packages\\sklearn\\base.py:450: UserWarning: X does not have valid feature names, but StandardScaler was fitted with feature names\n",
      "  warnings.warn(\n",
      "C:\\Users\\DELL\\anaconda3\\lib\\site-packages\\sklearn\\base.py:450: UserWarning: X does not have valid feature names, but StandardScaler was fitted with feature names\n",
      "  warnings.warn(\n",
      "C:\\Users\\DELL\\anaconda3\\lib\\site-packages\\sklearn\\base.py:450: UserWarning: X does not have valid feature names, but StandardScaler was fitted with feature names\n",
      "  warnings.warn(\n"
     ]
    },
    {
     "name": "stdout",
     "output_type": "stream",
     "text": [
      "Arm raise [9.99125995e-01 2.70039439e-04 2.65365461e-04 3.38600069e-04]\n",
      "Arm raise [9.98820577e-01 3.64403882e-04 3.58096596e-04 4.56922811e-04]\n"
     ]
    },
    {
     "name": "stderr",
     "output_type": "stream",
     "text": [
      "C:\\Users\\DELL\\anaconda3\\lib\\site-packages\\sklearn\\base.py:450: UserWarning: X does not have valid feature names, but StandardScaler was fitted with feature names\n",
      "  warnings.warn(\n",
      "C:\\Users\\DELL\\anaconda3\\lib\\site-packages\\sklearn\\base.py:450: UserWarning: X does not have valid feature names, but StandardScaler was fitted with feature names\n",
      "  warnings.warn(\n",
      "C:\\Users\\DELL\\anaconda3\\lib\\site-packages\\sklearn\\base.py:450: UserWarning: X does not have valid feature names, but StandardScaler was fitted with feature names\n",
      "  warnings.warn(\n",
      "C:\\Users\\DELL\\anaconda3\\lib\\site-packages\\sklearn\\base.py:450: UserWarning: X does not have valid feature names, but StandardScaler was fitted with feature names\n",
      "  warnings.warn(\n"
     ]
    },
    {
     "name": "stdout",
     "output_type": "stream",
     "text": [
      "Arm raise [9.99125140e-01 2.70303769e-04 2.65625215e-04 3.38931510e-04]\n",
      "Arm raise [9.97492302e-01 7.74798215e-04 7.61387617e-04 9.71512642e-04]\n"
     ]
    },
    {
     "name": "stderr",
     "output_type": "stream",
     "text": [
      "C:\\Users\\DELL\\anaconda3\\lib\\site-packages\\sklearn\\base.py:450: UserWarning: X does not have valid feature names, but StandardScaler was fitted with feature names\n",
      "  warnings.warn(\n",
      "C:\\Users\\DELL\\anaconda3\\lib\\site-packages\\sklearn\\base.py:450: UserWarning: X does not have valid feature names, but StandardScaler was fitted with feature names\n",
      "  warnings.warn(\n",
      "C:\\Users\\DELL\\anaconda3\\lib\\site-packages\\sklearn\\base.py:450: UserWarning: X does not have valid feature names, but StandardScaler was fitted with feature names\n",
      "  warnings.warn(\n",
      "C:\\Users\\DELL\\anaconda3\\lib\\site-packages\\sklearn\\base.py:450: UserWarning: X does not have valid feature names, but StandardScaler was fitted with feature names\n",
      "  warnings.warn(\n"
     ]
    },
    {
     "name": "stdout",
     "output_type": "stream",
     "text": [
      "Arm raise [0.99607034 0.00121414 0.00119312 0.0015224 ]\n",
      "Arm raise [0.99545072 0.00140558 0.00138125 0.00176244]\n"
     ]
    },
    {
     "name": "stderr",
     "output_type": "stream",
     "text": [
      "C:\\Users\\DELL\\anaconda3\\lib\\site-packages\\sklearn\\base.py:450: UserWarning: X does not have valid feature names, but StandardScaler was fitted with feature names\n",
      "  warnings.warn(\n",
      "C:\\Users\\DELL\\anaconda3\\lib\\site-packages\\sklearn\\base.py:450: UserWarning: X does not have valid feature names, but StandardScaler was fitted with feature names\n",
      "  warnings.warn(\n",
      "C:\\Users\\DELL\\anaconda3\\lib\\site-packages\\sklearn\\base.py:450: UserWarning: X does not have valid feature names, but StandardScaler was fitted with feature names\n",
      "  warnings.warn(\n",
      "C:\\Users\\DELL\\anaconda3\\lib\\site-packages\\sklearn\\base.py:450: UserWarning: X does not have valid feature names, but StandardScaler was fitted with feature names\n",
      "  warnings.warn(\n"
     ]
    },
    {
     "name": "stdout",
     "output_type": "stream",
     "text": [
      "Arm raise [0.9966305  0.00104107 0.00102305 0.00130538]\n",
      "Arm raise [9.98997030e-01 3.09885579e-04 3.04521923e-04 3.88562792e-04]\n"
     ]
    },
    {
     "name": "stderr",
     "output_type": "stream",
     "text": [
      "C:\\Users\\DELL\\anaconda3\\lib\\site-packages\\sklearn\\base.py:450: UserWarning: X does not have valid feature names, but StandardScaler was fitted with feature names\n",
      "  warnings.warn(\n",
      "C:\\Users\\DELL\\anaconda3\\lib\\site-packages\\sklearn\\base.py:450: UserWarning: X does not have valid feature names, but StandardScaler was fitted with feature names\n",
      "  warnings.warn(\n",
      "C:\\Users\\DELL\\anaconda3\\lib\\site-packages\\sklearn\\base.py:450: UserWarning: X does not have valid feature names, but StandardScaler was fitted with feature names\n",
      "  warnings.warn(\n",
      "C:\\Users\\DELL\\anaconda3\\lib\\site-packages\\sklearn\\base.py:450: UserWarning: X does not have valid feature names, but StandardScaler was fitted with feature names\n",
      "  warnings.warn(\n"
     ]
    },
    {
     "name": "stdout",
     "output_type": "stream",
     "text": [
      "Arm raise [9.98427236e-01 4.85933530e-04 4.77522747e-04 6.09307763e-04]\n",
      "Arm raise [9.98835034e-01 3.59967923e-04 3.53732189e-04 4.51265886e-04]\n"
     ]
    },
    {
     "name": "stderr",
     "output_type": "stream",
     "text": [
      "C:\\Users\\DELL\\anaconda3\\lib\\site-packages\\sklearn\\base.py:450: UserWarning: X does not have valid feature names, but StandardScaler was fitted with feature names\n",
      "  warnings.warn(\n",
      "C:\\Users\\DELL\\anaconda3\\lib\\site-packages\\sklearn\\base.py:450: UserWarning: X does not have valid feature names, but StandardScaler was fitted with feature names\n",
      "  warnings.warn(\n",
      "C:\\Users\\DELL\\anaconda3\\lib\\site-packages\\sklearn\\base.py:450: UserWarning: X does not have valid feature names, but StandardScaler was fitted with feature names\n",
      "  warnings.warn(\n",
      "C:\\Users\\DELL\\anaconda3\\lib\\site-packages\\sklearn\\base.py:450: UserWarning: X does not have valid feature names, but StandardScaler was fitted with feature names\n",
      "  warnings.warn(\n"
     ]
    },
    {
     "name": "stdout",
     "output_type": "stream",
     "text": [
      "Arm raise [0.99663009 0.00104128 0.00102324 0.00130538]\n",
      "Arm raise [9.98835034e-01 3.59967923e-04 3.53732189e-04 4.51265886e-04]\n"
     ]
    },
    {
     "name": "stderr",
     "output_type": "stream",
     "text": [
      "C:\\Users\\DELL\\anaconda3\\lib\\site-packages\\sklearn\\base.py:450: UserWarning: X does not have valid feature names, but StandardScaler was fitted with feature names\n",
      "  warnings.warn(\n",
      "C:\\Users\\DELL\\anaconda3\\lib\\site-packages\\sklearn\\base.py:450: UserWarning: X does not have valid feature names, but StandardScaler was fitted with feature names\n",
      "  warnings.warn(\n",
      "C:\\Users\\DELL\\anaconda3\\lib\\site-packages\\sklearn\\base.py:450: UserWarning: X does not have valid feature names, but StandardScaler was fitted with feature names\n",
      "  warnings.warn(\n",
      "C:\\Users\\DELL\\anaconda3\\lib\\site-packages\\sklearn\\base.py:450: UserWarning: X does not have valid feature names, but StandardScaler was fitted with feature names\n",
      "  warnings.warn(\n"
     ]
    },
    {
     "name": "stdout",
     "output_type": "stream",
     "text": [
      "Arm raise [9.97535225e-01 7.61601723e-04 7.48408476e-04 9.54765284e-04]\n",
      "Arm raise [9.98427415e-01 4.85919952e-04 4.77502347e-04 6.09162882e-04]\n"
     ]
    },
    {
     "name": "stderr",
     "output_type": "stream",
     "text": [
      "C:\\Users\\DELL\\anaconda3\\lib\\site-packages\\sklearn\\base.py:450: UserWarning: X does not have valid feature names, but StandardScaler was fitted with feature names\n",
      "  warnings.warn(\n",
      "C:\\Users\\DELL\\anaconda3\\lib\\site-packages\\sklearn\\base.py:450: UserWarning: X does not have valid feature names, but StandardScaler was fitted with feature names\n",
      "  warnings.warn(\n",
      "C:\\Users\\DELL\\anaconda3\\lib\\site-packages\\sklearn\\base.py:450: UserWarning: X does not have valid feature names, but StandardScaler was fitted with feature names\n",
      "  warnings.warn(\n",
      "C:\\Users\\DELL\\anaconda3\\lib\\site-packages\\sklearn\\base.py:450: UserWarning: X does not have valid feature names, but StandardScaler was fitted with feature names\n",
      "  warnings.warn(\n"
     ]
    },
    {
     "name": "stdout",
     "output_type": "stream",
     "text": [
      "Arm raise [9.98488942e-01 4.66908438e-04 4.58820170e-04 5.85329515e-04]\n",
      "Arm raise [0.99648894 0.0010849  0.00106611 0.00136006]\n"
     ]
    },
    {
     "name": "stderr",
     "output_type": "stream",
     "text": [
      "C:\\Users\\DELL\\anaconda3\\lib\\site-packages\\sklearn\\base.py:450: UserWarning: X does not have valid feature names, but StandardScaler was fitted with feature names\n",
      "  warnings.warn(\n",
      "C:\\Users\\DELL\\anaconda3\\lib\\site-packages\\sklearn\\base.py:450: UserWarning: X does not have valid feature names, but StandardScaler was fitted with feature names\n",
      "  warnings.warn(\n",
      "C:\\Users\\DELL\\anaconda3\\lib\\site-packages\\sklearn\\base.py:450: UserWarning: X does not have valid feature names, but StandardScaler was fitted with feature names\n",
      "  warnings.warn(\n",
      "C:\\Users\\DELL\\anaconda3\\lib\\site-packages\\sklearn\\base.py:450: UserWarning: X does not have valid feature names, but StandardScaler was fitted with feature names\n",
      "  warnings.warn(\n"
     ]
    },
    {
     "name": "stdout",
     "output_type": "stream",
     "text": [
      "Arm raise [0.99648894 0.0010849  0.00106611 0.00136006]\n",
      "Arm raise [9.96979568e-01 9.32775429e-04 9.16644041e-04 1.17101213e-03]\n"
     ]
    },
    {
     "name": "stderr",
     "output_type": "stream",
     "text": [
      "C:\\Users\\DELL\\anaconda3\\lib\\site-packages\\sklearn\\base.py:450: UserWarning: X does not have valid feature names, but StandardScaler was fitted with feature names\n",
      "  warnings.warn(\n",
      "C:\\Users\\DELL\\anaconda3\\lib\\site-packages\\sklearn\\base.py:450: UserWarning: X does not have valid feature names, but StandardScaler was fitted with feature names\n",
      "  warnings.warn(\n",
      "C:\\Users\\DELL\\anaconda3\\lib\\site-packages\\sklearn\\base.py:450: UserWarning: X does not have valid feature names, but StandardScaler was fitted with feature names\n",
      "  warnings.warn(\n",
      "C:\\Users\\DELL\\anaconda3\\lib\\site-packages\\sklearn\\base.py:450: UserWarning: X does not have valid feature names, but StandardScaler was fitted with feature names\n",
      "  warnings.warn(\n"
     ]
    },
    {
     "name": "stdout",
     "output_type": "stream",
     "text": [
      "Arm raise [9.99099349e-01 2.78140631e-04 2.73330475e-04 3.49179495e-04]\n",
      "Arm raise [9.98783775e-01 3.75596801e-04 3.69101242e-04 4.71526584e-04]\n"
     ]
    },
    {
     "name": "stderr",
     "output_type": "stream",
     "text": [
      "C:\\Users\\DELL\\anaconda3\\lib\\site-packages\\sklearn\\base.py:450: UserWarning: X does not have valid feature names, but StandardScaler was fitted with feature names\n",
      "  warnings.warn(\n",
      "C:\\Users\\DELL\\anaconda3\\lib\\site-packages\\sklearn\\base.py:450: UserWarning: X does not have valid feature names, but StandardScaler was fitted with feature names\n",
      "  warnings.warn(\n",
      "C:\\Users\\DELL\\anaconda3\\lib\\site-packages\\sklearn\\base.py:450: UserWarning: X does not have valid feature names, but StandardScaler was fitted with feature names\n",
      "  warnings.warn(\n",
      "C:\\Users\\DELL\\anaconda3\\lib\\site-packages\\sklearn\\base.py:450: UserWarning: X does not have valid feature names, but StandardScaler was fitted with feature names\n",
      "  warnings.warn(\n"
     ]
    },
    {
     "name": "stdout",
     "output_type": "stream",
     "text": [
      "Arm raise [9.98587226e-01 4.36295650e-04 4.28750367e-04 5.47728300e-04]\n",
      "Arm raise [9.98783775e-01 3.75596801e-04 3.69101242e-04 4.71526584e-04]\n"
     ]
    },
    {
     "name": "stderr",
     "output_type": "stream",
     "text": [
      "C:\\Users\\DELL\\anaconda3\\lib\\site-packages\\sklearn\\base.py:450: UserWarning: X does not have valid feature names, but StandardScaler was fitted with feature names\n",
      "  warnings.warn(\n",
      "C:\\Users\\DELL\\anaconda3\\lib\\site-packages\\sklearn\\base.py:450: UserWarning: X does not have valid feature names, but StandardScaler was fitted with feature names\n",
      "  warnings.warn(\n",
      "C:\\Users\\DELL\\anaconda3\\lib\\site-packages\\sklearn\\base.py:450: UserWarning: X does not have valid feature names, but StandardScaler was fitted with feature names\n",
      "  warnings.warn(\n",
      "C:\\Users\\DELL\\anaconda3\\lib\\site-packages\\sklearn\\base.py:450: UserWarning: X does not have valid feature names, but StandardScaler was fitted with feature names\n",
      "  warnings.warn(\n"
     ]
    },
    {
     "name": "stdout",
     "output_type": "stream",
     "text": [
      "Arm raise [9.98073319e-01 5.95001371e-04 5.84711436e-04 7.46968459e-04]\n",
      "Arm raise [9.97365177e-01 8.13691139e-04 7.99619190e-04 1.02151297e-03]\n"
     ]
    },
    {
     "name": "stderr",
     "output_type": "stream",
     "text": [
      "C:\\Users\\DELL\\anaconda3\\lib\\site-packages\\sklearn\\base.py:450: UserWarning: X does not have valid feature names, but StandardScaler was fitted with feature names\n",
      "  warnings.warn(\n",
      "C:\\Users\\DELL\\anaconda3\\lib\\site-packages\\sklearn\\base.py:450: UserWarning: X does not have valid feature names, but StandardScaler was fitted with feature names\n",
      "  warnings.warn(\n",
      "C:\\Users\\DELL\\anaconda3\\lib\\site-packages\\sklearn\\base.py:450: UserWarning: X does not have valid feature names, but StandardScaler was fitted with feature names\n",
      "  warnings.warn(\n",
      "C:\\Users\\DELL\\anaconda3\\lib\\site-packages\\sklearn\\base.py:450: UserWarning: X does not have valid feature names, but StandardScaler was fitted with feature names\n",
      "  warnings.warn(\n"
     ]
    },
    {
     "name": "stdout",
     "output_type": "stream",
     "text": [
      "Arm raise [9.97760684e-01 6.91549867e-04 6.79590226e-04 8.68176048e-04]\n",
      "Arm raise [0.99520536 0.00148069 0.00145508 0.00185887]\n"
     ]
    },
    {
     "name": "stderr",
     "output_type": "stream",
     "text": [
      "C:\\Users\\DELL\\anaconda3\\lib\\site-packages\\sklearn\\base.py:450: UserWarning: X does not have valid feature names, but StandardScaler was fitted with feature names\n",
      "  warnings.warn(\n",
      "C:\\Users\\DELL\\anaconda3\\lib\\site-packages\\sklearn\\base.py:450: UserWarning: X does not have valid feature names, but StandardScaler was fitted with feature names\n",
      "  warnings.warn(\n",
      "C:\\Users\\DELL\\anaconda3\\lib\\site-packages\\sklearn\\base.py:450: UserWarning: X does not have valid feature names, but StandardScaler was fitted with feature names\n",
      "  warnings.warn(\n",
      "C:\\Users\\DELL\\anaconda3\\lib\\site-packages\\sklearn\\base.py:450: UserWarning: X does not have valid feature names, but StandardScaler was fitted with feature names\n",
      "  warnings.warn(\n"
     ]
    },
    {
     "name": "stdout",
     "output_type": "stream",
     "text": [
      "Arm raise [9.98092591e-01 5.89049810e-04 5.78862801e-04 7.39496831e-04]\n",
      "Arm raise [9.98587226e-01 4.36295650e-04 4.28750367e-04 5.47728300e-04]\n"
     ]
    },
    {
     "name": "stderr",
     "output_type": "stream",
     "text": [
      "C:\\Users\\DELL\\anaconda3\\lib\\site-packages\\sklearn\\base.py:450: UserWarning: X does not have valid feature names, but StandardScaler was fitted with feature names\n",
      "  warnings.warn(\n",
      "C:\\Users\\DELL\\anaconda3\\lib\\site-packages\\sklearn\\base.py:450: UserWarning: X does not have valid feature names, but StandardScaler was fitted with feature names\n",
      "  warnings.warn(\n",
      "C:\\Users\\DELL\\anaconda3\\lib\\site-packages\\sklearn\\base.py:450: UserWarning: X does not have valid feature names, but StandardScaler was fitted with feature names\n",
      "  warnings.warn(\n",
      "C:\\Users\\DELL\\anaconda3\\lib\\site-packages\\sklearn\\base.py:450: UserWarning: X does not have valid feature names, but StandardScaler was fitted with feature names\n",
      "  warnings.warn(\n"
     ]
    },
    {
     "name": "stdout",
     "output_type": "stream",
     "text": [
      "Arm raise [9.98587226e-01 4.36295650e-04 4.28750367e-04 5.47728300e-04]\n",
      "Arm raise [9.99494576e-01 1.56159659e-04 1.53456769e-04 1.95807218e-04]\n"
     ]
    },
    {
     "name": "stderr",
     "output_type": "stream",
     "text": [
      "C:\\Users\\DELL\\anaconda3\\lib\\site-packages\\sklearn\\base.py:450: UserWarning: X does not have valid feature names, but StandardScaler was fitted with feature names\n",
      "  warnings.warn(\n",
      "C:\\Users\\DELL\\anaconda3\\lib\\site-packages\\sklearn\\base.py:450: UserWarning: X does not have valid feature names, but StandardScaler was fitted with feature names\n",
      "  warnings.warn(\n",
      "C:\\Users\\DELL\\anaconda3\\lib\\site-packages\\sklearn\\base.py:450: UserWarning: X does not have valid feature names, but StandardScaler was fitted with feature names\n",
      "  warnings.warn(\n",
      "C:\\Users\\DELL\\anaconda3\\lib\\site-packages\\sklearn\\base.py:450: UserWarning: X does not have valid feature names, but StandardScaler was fitted with feature names\n",
      "  warnings.warn(\n"
     ]
    },
    {
     "name": "stdout",
     "output_type": "stream",
     "text": [
      "Arm raise [9.97363401e-01 8.14624267e-04 8.00524339e-04 1.02145018e-03]\n",
      "Arm raise [0.97112566 0.00892124 0.00876683 0.01118627]\n"
     ]
    },
    {
     "name": "stderr",
     "output_type": "stream",
     "text": [
      "C:\\Users\\DELL\\anaconda3\\lib\\site-packages\\sklearn\\base.py:450: UserWarning: X does not have valid feature names, but StandardScaler was fitted with feature names\n",
      "  warnings.warn(\n",
      "C:\\Users\\DELL\\anaconda3\\lib\\site-packages\\sklearn\\base.py:450: UserWarning: X does not have valid feature names, but StandardScaler was fitted with feature names\n",
      "  warnings.warn(\n",
      "C:\\Users\\DELL\\anaconda3\\lib\\site-packages\\sklearn\\base.py:450: UserWarning: X does not have valid feature names, but StandardScaler was fitted with feature names\n",
      "  warnings.warn(\n",
      "C:\\Users\\DELL\\anaconda3\\lib\\site-packages\\sklearn\\base.py:450: UserWarning: X does not have valid feature names, but StandardScaler was fitted with feature names\n",
      "  warnings.warn(\n"
     ]
    },
    {
     "name": "stdout",
     "output_type": "stream",
     "text": [
      "Arm raise [0.95438908 0.01409231 0.01384839 0.01767022]\n",
      "Arm raise [0.93402378 0.02038453 0.02003171 0.02555998]\n"
     ]
    },
    {
     "name": "stderr",
     "output_type": "stream",
     "text": [
      "C:\\Users\\DELL\\anaconda3\\lib\\site-packages\\sklearn\\base.py:450: UserWarning: X does not have valid feature names, but StandardScaler was fitted with feature names\n",
      "  warnings.warn(\n",
      "C:\\Users\\DELL\\anaconda3\\lib\\site-packages\\sklearn\\base.py:450: UserWarning: X does not have valid feature names, but StandardScaler was fitted with feature names\n",
      "  warnings.warn(\n",
      "C:\\Users\\DELL\\anaconda3\\lib\\site-packages\\sklearn\\base.py:450: UserWarning: X does not have valid feature names, but StandardScaler was fitted with feature names\n",
      "  warnings.warn(\n",
      "C:\\Users\\DELL\\anaconda3\\lib\\site-packages\\sklearn\\base.py:450: UserWarning: X does not have valid feature names, but StandardScaler was fitted with feature names\n",
      "  warnings.warn(\n"
     ]
    },
    {
     "name": "stdout",
     "output_type": "stream",
     "text": [
      "Arm raise [0.907944   0.02844235 0.02795005 0.03566361]\n",
      "Arm raise [0.87926697 0.03730263 0.03665697 0.04677343]\n"
     ]
    },
    {
     "name": "stderr",
     "output_type": "stream",
     "text": [
      "C:\\Users\\DELL\\anaconda3\\lib\\site-packages\\sklearn\\base.py:450: UserWarning: X does not have valid feature names, but StandardScaler was fitted with feature names\n",
      "  warnings.warn(\n",
      "C:\\Users\\DELL\\anaconda3\\lib\\site-packages\\sklearn\\base.py:450: UserWarning: X does not have valid feature names, but StandardScaler was fitted with feature names\n",
      "  warnings.warn(\n",
      "C:\\Users\\DELL\\anaconda3\\lib\\site-packages\\sklearn\\base.py:450: UserWarning: X does not have valid feature names, but StandardScaler was fitted with feature names\n",
      "  warnings.warn(\n",
      "C:\\Users\\DELL\\anaconda3\\lib\\site-packages\\sklearn\\base.py:450: UserWarning: X does not have valid feature names, but StandardScaler was fitted with feature names\n",
      "  warnings.warn(\n"
     ]
    },
    {
     "name": "stdout",
     "output_type": "stream",
     "text": [
      "Happy [3.47789881e-03 9.96376288e-01 6.39845282e-05 8.18291331e-05]\n",
      "Happy [2.99490558e-03 9.96859210e-01 6.40155402e-05 8.18687939e-05]\n"
     ]
    },
    {
     "name": "stderr",
     "output_type": "stream",
     "text": [
      "C:\\Users\\DELL\\anaconda3\\lib\\site-packages\\sklearn\\base.py:450: UserWarning: X does not have valid feature names, but StandardScaler was fitted with feature names\n",
      "  warnings.warn(\n",
      "C:\\Users\\DELL\\anaconda3\\lib\\site-packages\\sklearn\\base.py:450: UserWarning: X does not have valid feature names, but StandardScaler was fitted with feature names\n",
      "  warnings.warn(\n",
      "C:\\Users\\DELL\\anaconda3\\lib\\site-packages\\sklearn\\base.py:450: UserWarning: X does not have valid feature names, but StandardScaler was fitted with feature names\n",
      "  warnings.warn(\n",
      "C:\\Users\\DELL\\anaconda3\\lib\\site-packages\\sklearn\\base.py:450: UserWarning: X does not have valid feature names, but StandardScaler was fitted with feature names\n",
      "  warnings.warn(\n"
     ]
    },
    {
     "name": "stdout",
     "output_type": "stream",
     "text": [
      "Happy [2.42555852e-03 9.97428474e-01 6.40520967e-05 8.19155457e-05]\n",
      "Happy [2.42555852e-03 9.97428474e-01 6.40520967e-05 8.19155457e-05]\n"
     ]
    },
    {
     "name": "stderr",
     "output_type": "stream",
     "text": [
      "C:\\Users\\DELL\\anaconda3\\lib\\site-packages\\sklearn\\base.py:450: UserWarning: X does not have valid feature names, but StandardScaler was fitted with feature names\n",
      "  warnings.warn(\n",
      "C:\\Users\\DELL\\anaconda3\\lib\\site-packages\\sklearn\\base.py:450: UserWarning: X does not have valid feature names, but StandardScaler was fitted with feature names\n",
      "  warnings.warn(\n",
      "C:\\Users\\DELL\\anaconda3\\lib\\site-packages\\sklearn\\base.py:450: UserWarning: X does not have valid feature names, but StandardScaler was fitted with feature names\n",
      "  warnings.warn(\n",
      "C:\\Users\\DELL\\anaconda3\\lib\\site-packages\\sklearn\\base.py:450: UserWarning: X does not have valid feature names, but StandardScaler was fitted with feature names\n",
      "  warnings.warn(\n"
     ]
    },
    {
     "name": "stdout",
     "output_type": "stream",
     "text": [
      "Happy [2.81706187e-03 9.97037028e-01 6.40269591e-05 8.18833975e-05]\n",
      "Happy [2.81706187e-03 9.97037028e-01 6.40269591e-05 8.18833975e-05]\n"
     ]
    },
    {
     "name": "stderr",
     "output_type": "stream",
     "text": [
      "C:\\Users\\DELL\\anaconda3\\lib\\site-packages\\sklearn\\base.py:450: UserWarning: X does not have valid feature names, but StandardScaler was fitted with feature names\n",
      "  warnings.warn(\n",
      "C:\\Users\\DELL\\anaconda3\\lib\\site-packages\\sklearn\\base.py:450: UserWarning: X does not have valid feature names, but StandardScaler was fitted with feature names\n",
      "  warnings.warn(\n",
      "C:\\Users\\DELL\\anaconda3\\lib\\site-packages\\sklearn\\base.py:450: UserWarning: X does not have valid feature names, but StandardScaler was fitted with feature names\n",
      "  warnings.warn(\n",
      "C:\\Users\\DELL\\anaconda3\\lib\\site-packages\\sklearn\\base.py:450: UserWarning: X does not have valid feature names, but StandardScaler was fitted with feature names\n",
      "  warnings.warn(\n"
     ]
    },
    {
     "name": "stdout",
     "output_type": "stream",
     "text": [
      "Happy [2.81706187e-03 9.97037028e-01 6.40269591e-05 8.18833975e-05]\n",
      "Happy [1.79027366e-03 9.98063666e-01 6.40928870e-05 8.19677119e-05]\n"
     ]
    },
    {
     "name": "stderr",
     "output_type": "stream",
     "text": [
      "C:\\Users\\DELL\\anaconda3\\lib\\site-packages\\sklearn\\base.py:450: UserWarning: X does not have valid feature names, but StandardScaler was fitted with feature names\n",
      "  warnings.warn(\n",
      "C:\\Users\\DELL\\anaconda3\\lib\\site-packages\\sklearn\\base.py:450: UserWarning: X does not have valid feature names, but StandardScaler was fitted with feature names\n",
      "  warnings.warn(\n",
      "C:\\Users\\DELL\\anaconda3\\lib\\site-packages\\sklearn\\base.py:450: UserWarning: X does not have valid feature names, but StandardScaler was fitted with feature names\n",
      "  warnings.warn(\n",
      "C:\\Users\\DELL\\anaconda3\\lib\\site-packages\\sklearn\\base.py:450: UserWarning: X does not have valid feature names, but StandardScaler was fitted with feature names\n",
      "  warnings.warn(\n"
     ]
    },
    {
     "name": "stdout",
     "output_type": "stream",
     "text": [
      "Happy [1.54124844e-03 9.98312655e-01 6.41088763e-05 8.19881606e-05]\n",
      "Happy [1.79779247e-03 9.98056148e-01 6.40924042e-05 8.19670945e-05]\n"
     ]
    },
    {
     "name": "stderr",
     "output_type": "stream",
     "text": [
      "C:\\Users\\DELL\\anaconda3\\lib\\site-packages\\sklearn\\base.py:450: UserWarning: X does not have valid feature names, but StandardScaler was fitted with feature names\n",
      "  warnings.warn(\n",
      "C:\\Users\\DELL\\anaconda3\\lib\\site-packages\\sklearn\\base.py:450: UserWarning: X does not have valid feature names, but StandardScaler was fitted with feature names\n",
      "  warnings.warn(\n",
      "C:\\Users\\DELL\\anaconda3\\lib\\site-packages\\sklearn\\base.py:450: UserWarning: X does not have valid feature names, but StandardScaler was fitted with feature names\n",
      "  warnings.warn(\n",
      "C:\\Users\\DELL\\anaconda3\\lib\\site-packages\\sklearn\\base.py:450: UserWarning: X does not have valid feature names, but StandardScaler was fitted with feature names\n",
      "  warnings.warn(\n"
     ]
    },
    {
     "name": "stdout",
     "output_type": "stream",
     "text": [
      "Happy [2.42561874e-03 9.97428414e-01 6.40520928e-05 8.19155408e-05]\n",
      "Happy [1.61210883e-03 9.98241805e-01 6.41043265e-05 8.19823419e-05]\n"
     ]
    },
    {
     "name": "stderr",
     "output_type": "stream",
     "text": [
      "C:\\Users\\DELL\\anaconda3\\lib\\site-packages\\sklearn\\base.py:450: UserWarning: X does not have valid feature names, but StandardScaler was fitted with feature names\n",
      "  warnings.warn(\n",
      "C:\\Users\\DELL\\anaconda3\\lib\\site-packages\\sklearn\\base.py:450: UserWarning: X does not have valid feature names, but StandardScaler was fitted with feature names\n",
      "  warnings.warn(\n",
      "C:\\Users\\DELL\\anaconda3\\lib\\site-packages\\sklearn\\base.py:450: UserWarning: X does not have valid feature names, but StandardScaler was fitted with feature names\n",
      "  warnings.warn(\n",
      "C:\\Users\\DELL\\anaconda3\\lib\\site-packages\\sklearn\\base.py:450: UserWarning: X does not have valid feature names, but StandardScaler was fitted with feature names\n",
      "  warnings.warn(\n"
     ]
    },
    {
     "name": "stdout",
     "output_type": "stream",
     "text": [
      "Happy [2.98622449e-03 9.96867890e-01 6.40160976e-05 8.18695068e-05]\n",
      "Happy [2.21111251e-03 9.97642888e-01 6.40658658e-05 8.19331549e-05]\n"
     ]
    },
    {
     "name": "stderr",
     "output_type": "stream",
     "text": [
      "C:\\Users\\DELL\\anaconda3\\lib\\site-packages\\sklearn\\base.py:450: UserWarning: X does not have valid feature names, but StandardScaler was fitted with feature names\n",
      "  warnings.warn(\n",
      "C:\\Users\\DELL\\anaconda3\\lib\\site-packages\\sklearn\\base.py:450: UserWarning: X does not have valid feature names, but StandardScaler was fitted with feature names\n",
      "  warnings.warn(\n",
      "C:\\Users\\DELL\\anaconda3\\lib\\site-packages\\sklearn\\base.py:450: UserWarning: X does not have valid feature names, but StandardScaler was fitted with feature names\n",
      "  warnings.warn(\n",
      "C:\\Users\\DELL\\anaconda3\\lib\\site-packages\\sklearn\\base.py:450: UserWarning: X does not have valid feature names, but StandardScaler was fitted with feature names\n",
      "  warnings.warn(\n"
     ]
    },
    {
     "name": "stdout",
     "output_type": "stream",
     "text": [
      "Happy [1.54124844e-03 9.98312655e-01 6.41088763e-05 8.19881606e-05]\n",
      "Happy [1.54438141e-03 9.98309522e-01 6.41086752e-05 8.19879033e-05]\n"
     ]
    },
    {
     "name": "stderr",
     "output_type": "stream",
     "text": [
      "C:\\Users\\DELL\\anaconda3\\lib\\site-packages\\sklearn\\base.py:450: UserWarning: X does not have valid feature names, but StandardScaler was fitted with feature names\n",
      "  warnings.warn(\n",
      "C:\\Users\\DELL\\anaconda3\\lib\\site-packages\\sklearn\\base.py:450: UserWarning: X does not have valid feature names, but StandardScaler was fitted with feature names\n",
      "  warnings.warn(\n",
      "C:\\Users\\DELL\\anaconda3\\lib\\site-packages\\sklearn\\base.py:450: UserWarning: X does not have valid feature names, but StandardScaler was fitted with feature names\n",
      "  warnings.warn(\n",
      "C:\\Users\\DELL\\anaconda3\\lib\\site-packages\\sklearn\\base.py:450: UserWarning: X does not have valid feature names, but StandardScaler was fitted with feature names\n",
      "  warnings.warn(\n"
     ]
    },
    {
     "name": "stdout",
     "output_type": "stream",
     "text": [
      "Arm raise [0.89448732 0.03260282 0.03203804 0.04087181]\n",
      "Arm raise [0.93004986 0.0216142  0.02123978 0.02709617]\n"
     ]
    },
    {
     "name": "stderr",
     "output_type": "stream",
     "text": [
      "C:\\Users\\DELL\\anaconda3\\lib\\site-packages\\sklearn\\base.py:450: UserWarning: X does not have valid feature names, but StandardScaler was fitted with feature names\n",
      "  warnings.warn(\n",
      "C:\\Users\\DELL\\anaconda3\\lib\\site-packages\\sklearn\\base.py:450: UserWarning: X does not have valid feature names, but StandardScaler was fitted with feature names\n",
      "  warnings.warn(\n",
      "C:\\Users\\DELL\\anaconda3\\lib\\site-packages\\sklearn\\base.py:450: UserWarning: X does not have valid feature names, but StandardScaler was fitted with feature names\n",
      "  warnings.warn(\n",
      "C:\\Users\\DELL\\anaconda3\\lib\\site-packages\\sklearn\\base.py:450: UserWarning: X does not have valid feature names, but StandardScaler was fitted with feature names\n",
      "  warnings.warn(\n"
     ]
    },
    {
     "name": "stdout",
     "output_type": "stream",
     "text": [
      "Arm raise [0.9392299  0.01877762 0.01845233 0.02354015]\n",
      "Arm raise [0.87946955 0.03724323 0.03659806 0.04668916]\n"
     ]
    },
    {
     "name": "stderr",
     "output_type": "stream",
     "text": [
      "C:\\Users\\DELL\\anaconda3\\lib\\site-packages\\sklearn\\base.py:450: UserWarning: X does not have valid feature names, but StandardScaler was fitted with feature names\n",
      "  warnings.warn(\n",
      "C:\\Users\\DELL\\anaconda3\\lib\\site-packages\\sklearn\\base.py:450: UserWarning: X does not have valid feature names, but StandardScaler was fitted with feature names\n",
      "  warnings.warn(\n",
      "C:\\Users\\DELL\\anaconda3\\lib\\site-packages\\sklearn\\base.py:450: UserWarning: X does not have valid feature names, but StandardScaler was fitted with feature names\n",
      "  warnings.warn(\n",
      "C:\\Users\\DELL\\anaconda3\\lib\\site-packages\\sklearn\\base.py:450: UserWarning: X does not have valid feature names, but StandardScaler was fitted with feature names\n",
      "  warnings.warn(\n"
     ]
    },
    {
     "name": "stdout",
     "output_type": "stream",
     "text": [
      "Arm raise [0.90782985 0.02848006 0.02798669 0.0357034 ]\n",
      "Arm raise [0.87946955 0.03724323 0.03659806 0.04668916]\n"
     ]
    },
    {
     "name": "stderr",
     "output_type": "stream",
     "text": [
      "C:\\Users\\DELL\\anaconda3\\lib\\site-packages\\sklearn\\base.py:450: UserWarning: X does not have valid feature names, but StandardScaler was fitted with feature names\n",
      "  warnings.warn(\n",
      "C:\\Users\\DELL\\anaconda3\\lib\\site-packages\\sklearn\\base.py:450: UserWarning: X does not have valid feature names, but StandardScaler was fitted with feature names\n",
      "  warnings.warn(\n",
      "C:\\Users\\DELL\\anaconda3\\lib\\site-packages\\sklearn\\base.py:450: UserWarning: X does not have valid feature names, but StandardScaler was fitted with feature names\n",
      "  warnings.warn(\n",
      "C:\\Users\\DELL\\anaconda3\\lib\\site-packages\\sklearn\\base.py:450: UserWarning: X does not have valid feature names, but StandardScaler was fitted with feature names\n",
      "  warnings.warn(\n"
     ]
    },
    {
     "name": "stdout",
     "output_type": "stream",
     "text": [
      "Arm raise [0.87946955 0.03724323 0.03659806 0.04668916]\n",
      "Arm raise [0.89453486 0.03258813 0.03202361 0.0408534 ]\n"
     ]
    },
    {
     "name": "stderr",
     "output_type": "stream",
     "text": [
      "C:\\Users\\DELL\\anaconda3\\lib\\site-packages\\sklearn\\base.py:450: UserWarning: X does not have valid feature names, but StandardScaler was fitted with feature names\n",
      "  warnings.warn(\n",
      "C:\\Users\\DELL\\anaconda3\\lib\\site-packages\\sklearn\\base.py:450: UserWarning: X does not have valid feature names, but StandardScaler was fitted with feature names\n",
      "  warnings.warn(\n",
      "C:\\Users\\DELL\\anaconda3\\lib\\site-packages\\sklearn\\base.py:450: UserWarning: X does not have valid feature names, but StandardScaler was fitted with feature names\n",
      "  warnings.warn(\n",
      "C:\\Users\\DELL\\anaconda3\\lib\\site-packages\\sklearn\\base.py:450: UserWarning: X does not have valid feature names, but StandardScaler was fitted with feature names\n",
      "  warnings.warn(\n"
     ]
    },
    {
     "name": "stdout",
     "output_type": "stream",
     "text": [
      "Arm raise [0.97293332 0.00836345 0.00821857 0.01048466]\n",
      "Arm raise [0.98715026 0.0039705  0.00390172 0.00497753]\n"
     ]
    },
    {
     "name": "stderr",
     "output_type": "stream",
     "text": [
      "C:\\Users\\DELL\\anaconda3\\lib\\site-packages\\sklearn\\base.py:450: UserWarning: X does not have valid feature names, but StandardScaler was fitted with feature names\n",
      "  warnings.warn(\n",
      "C:\\Users\\DELL\\anaconda3\\lib\\site-packages\\sklearn\\base.py:450: UserWarning: X does not have valid feature names, but StandardScaler was fitted with feature names\n",
      "  warnings.warn(\n",
      "C:\\Users\\DELL\\anaconda3\\lib\\site-packages\\sklearn\\base.py:450: UserWarning: X does not have valid feature names, but StandardScaler was fitted with feature names\n",
      "  warnings.warn(\n",
      "C:\\Users\\DELL\\anaconda3\\lib\\site-packages\\sklearn\\base.py:450: UserWarning: X does not have valid feature names, but StandardScaler was fitted with feature names\n",
      "  warnings.warn(\n"
     ]
    },
    {
     "name": "stdout",
     "output_type": "stream",
     "text": [
      "Arm raise [9.97095890e-01 8.97353702e-04 8.81808819e-04 1.12494777e-03]\n",
      "Happy [5.89398569e-02 9.40922439e-01 6.04315308e-05 7.72726085e-05]\n"
     ]
    },
    {
     "name": "stderr",
     "output_type": "stream",
     "text": [
      "C:\\Users\\DELL\\anaconda3\\lib\\site-packages\\sklearn\\base.py:450: UserWarning: X does not have valid feature names, but StandardScaler was fitted with feature names\n",
      "  warnings.warn(\n",
      "C:\\Users\\DELL\\anaconda3\\lib\\site-packages\\sklearn\\base.py:450: UserWarning: X does not have valid feature names, but StandardScaler was fitted with feature names\n",
      "  warnings.warn(\n",
      "C:\\Users\\DELL\\anaconda3\\lib\\site-packages\\sklearn\\base.py:450: UserWarning: X does not have valid feature names, but StandardScaler was fitted with feature names\n",
      "  warnings.warn(\n",
      "C:\\Users\\DELL\\anaconda3\\lib\\site-packages\\sklearn\\base.py:450: UserWarning: X does not have valid feature names, but StandardScaler was fitted with feature names\n",
      "  warnings.warn(\n"
     ]
    },
    {
     "name": "stdout",
     "output_type": "stream",
     "text": [
      "Arm raise [9.41781773e-01 5.63237672e-02 8.31918963e-04 1.06254104e-03]\n",
      "Arm raise [0.88373019 0.11248631 0.00166146 0.00212204]\n"
     ]
    },
    {
     "name": "stderr",
     "output_type": "stream",
     "text": [
      "C:\\Users\\DELL\\anaconda3\\lib\\site-packages\\sklearn\\base.py:450: UserWarning: X does not have valid feature names, but StandardScaler was fitted with feature names\n",
      "  warnings.warn(\n",
      "C:\\Users\\DELL\\anaconda3\\lib\\site-packages\\sklearn\\base.py:450: UserWarning: X does not have valid feature names, but StandardScaler was fitted with feature names\n",
      "  warnings.warn(\n",
      "C:\\Users\\DELL\\anaconda3\\lib\\site-packages\\sklearn\\base.py:450: UserWarning: X does not have valid feature names, but StandardScaler was fitted with feature names\n",
      "  warnings.warn(\n",
      "C:\\Users\\DELL\\anaconda3\\lib\\site-packages\\sklearn\\base.py:450: UserWarning: X does not have valid feature names, but StandardScaler was fitted with feature names\n",
      "  warnings.warn(\n"
     ]
    },
    {
     "name": "stdout",
     "output_type": "stream",
     "text": [
      "Happy [0.45832957 0.52404343 0.00773985 0.00988714]\n",
      "Happy [0.42126653 0.55990037 0.00826944 0.01056366]\n"
     ]
    },
    {
     "name": "stderr",
     "output_type": "stream",
     "text": [
      "C:\\Users\\DELL\\anaconda3\\lib\\site-packages\\sklearn\\base.py:450: UserWarning: X does not have valid feature names, but StandardScaler was fitted with feature names\n",
      "  warnings.warn(\n",
      "C:\\Users\\DELL\\anaconda3\\lib\\site-packages\\sklearn\\base.py:450: UserWarning: X does not have valid feature names, but StandardScaler was fitted with feature names\n",
      "  warnings.warn(\n",
      "C:\\Users\\DELL\\anaconda3\\lib\\site-packages\\sklearn\\base.py:450: UserWarning: X does not have valid feature names, but StandardScaler was fitted with feature names\n",
      "  warnings.warn(\n",
      "C:\\Users\\DELL\\anaconda3\\lib\\site-packages\\sklearn\\base.py:450: UserWarning: X does not have valid feature names, but StandardScaler was fitted with feature names\n",
      "  warnings.warn(\n"
     ]
    },
    {
     "name": "stdout",
     "output_type": "stream",
     "text": [
      "Arm raise [0.96585621 0.01054933 0.01036674 0.01322771]\n",
      "Arm raise [9.98400064e-01 4.94328918e-04 4.85772824e-04 6.19834667e-04]\n"
     ]
    },
    {
     "name": "stderr",
     "output_type": "stream",
     "text": [
      "C:\\Users\\DELL\\anaconda3\\lib\\site-packages\\sklearn\\base.py:450: UserWarning: X does not have valid feature names, but StandardScaler was fitted with feature names\n",
      "  warnings.warn(\n",
      "C:\\Users\\DELL\\anaconda3\\lib\\site-packages\\sklearn\\base.py:450: UserWarning: X does not have valid feature names, but StandardScaler was fitted with feature names\n",
      "  warnings.warn(\n",
      "C:\\Users\\DELL\\anaconda3\\lib\\site-packages\\sklearn\\base.py:450: UserWarning: X does not have valid feature names, but StandardScaler was fitted with feature names\n",
      "  warnings.warn(\n",
      "C:\\Users\\DELL\\anaconda3\\lib\\site-packages\\sklearn\\base.py:450: UserWarning: X does not have valid feature names, but StandardScaler was fitted with feature names\n",
      "  warnings.warn(\n"
     ]
    },
    {
     "name": "stdout",
     "output_type": "stream",
     "text": [
      "Arm raise [9.99121388e-01 2.71462818e-04 2.66764203e-04 3.40384831e-04]\n",
      "Arm raise [9.99442028e-01 1.72395444e-04 1.69411537e-04 2.16165126e-04]\n"
     ]
    },
    {
     "name": "stderr",
     "output_type": "stream",
     "text": [
      "C:\\Users\\DELL\\anaconda3\\lib\\site-packages\\sklearn\\base.py:450: UserWarning: X does not have valid feature names, but StandardScaler was fitted with feature names\n",
      "  warnings.warn(\n",
      "C:\\Users\\DELL\\anaconda3\\lib\\site-packages\\sklearn\\base.py:450: UserWarning: X does not have valid feature names, but StandardScaler was fitted with feature names\n",
      "  warnings.warn(\n",
      "C:\\Users\\DELL\\anaconda3\\lib\\site-packages\\sklearn\\base.py:450: UserWarning: X does not have valid feature names, but StandardScaler was fitted with feature names\n",
      "  warnings.warn(\n",
      "C:\\Users\\DELL\\anaconda3\\lib\\site-packages\\sklearn\\base.py:450: UserWarning: X does not have valid feature names, but StandardScaler was fitted with feature names\n",
      "  warnings.warn(\n"
     ]
    },
    {
     "name": "stdout",
     "output_type": "stream",
     "text": [
      "Arm raise [9.99442028e-01 1.72395444e-04 1.69411537e-04 2.16165126e-04]\n",
      "Arm raise [9.99527938e-01 1.45859812e-04 1.43310141e-04 1.82892330e-04]\n"
     ]
    },
    {
     "name": "stderr",
     "output_type": "stream",
     "text": [
      "C:\\Users\\DELL\\anaconda3\\lib\\site-packages\\sklearn\\base.py:450: UserWarning: X does not have valid feature names, but StandardScaler was fitted with feature names\n",
      "  warnings.warn(\n",
      "C:\\Users\\DELL\\anaconda3\\lib\\site-packages\\sklearn\\base.py:450: UserWarning: X does not have valid feature names, but StandardScaler was fitted with feature names\n",
      "  warnings.warn(\n",
      "C:\\Users\\DELL\\anaconda3\\lib\\site-packages\\sklearn\\base.py:450: UserWarning: X does not have valid feature names, but StandardScaler was fitted with feature names\n",
      "  warnings.warn(\n",
      "C:\\Users\\DELL\\anaconda3\\lib\\site-packages\\sklearn\\base.py:450: UserWarning: X does not have valid feature names, but StandardScaler was fitted with feature names\n",
      "  warnings.warn(\n"
     ]
    },
    {
     "name": "stdout",
     "output_type": "stream",
     "text": [
      "Arm raise [9.99451577e-01 1.69453992e-04 1.66491889e-04 2.12476864e-04]\n",
      "Arm raise [9.99741999e-01 7.97182437e-05 7.83247465e-05 9.99580020e-05]\n"
     ]
    },
    {
     "name": "stderr",
     "output_type": "stream",
     "text": [
      "C:\\Users\\DELL\\anaconda3\\lib\\site-packages\\sklearn\\base.py:450: UserWarning: X does not have valid feature names, but StandardScaler was fitted with feature names\n",
      "  warnings.warn(\n",
      "C:\\Users\\DELL\\anaconda3\\lib\\site-packages\\sklearn\\base.py:450: UserWarning: X does not have valid feature names, but StandardScaler was fitted with feature names\n",
      "  warnings.warn(\n",
      "C:\\Users\\DELL\\anaconda3\\lib\\site-packages\\sklearn\\base.py:450: UserWarning: X does not have valid feature names, but StandardScaler was fitted with feature names\n",
      "  warnings.warn(\n",
      "C:\\Users\\DELL\\anaconda3\\lib\\site-packages\\sklearn\\base.py:450: UserWarning: X does not have valid feature names, but StandardScaler was fitted with feature names\n",
      "  warnings.warn(\n"
     ]
    },
    {
     "name": "stdout",
     "output_type": "stream",
     "text": [
      "Arm raise [9.99593668e-01 1.25550140e-04 1.23355489e-04 1.57426213e-04]\n",
      "Arm raise [9.99593668e-01 1.25550140e-04 1.23355489e-04 1.57426213e-04]\n"
     ]
    },
    {
     "name": "stderr",
     "output_type": "stream",
     "text": [
      "C:\\Users\\DELL\\anaconda3\\lib\\site-packages\\sklearn\\base.py:450: UserWarning: X does not have valid feature names, but StandardScaler was fitted with feature names\n",
      "  warnings.warn(\n",
      "C:\\Users\\DELL\\anaconda3\\lib\\site-packages\\sklearn\\base.py:450: UserWarning: X does not have valid feature names, but StandardScaler was fitted with feature names\n",
      "  warnings.warn(\n",
      "C:\\Users\\DELL\\anaconda3\\lib\\site-packages\\sklearn\\base.py:450: UserWarning: X does not have valid feature names, but StandardScaler was fitted with feature names\n",
      "  warnings.warn(\n",
      "C:\\Users\\DELL\\anaconda3\\lib\\site-packages\\sklearn\\base.py:450: UserWarning: X does not have valid feature names, but StandardScaler was fitted with feature names\n",
      "  warnings.warn(\n"
     ]
    },
    {
     "name": "stdout",
     "output_type": "stream",
     "text": [
      "Arm raise [9.99243818e-01 2.33648205e-04 2.29563969e-04 2.92969422e-04]\n",
      "Arm raise [9.99125248e-01 2.70284462e-04 2.65559814e-04 3.38907300e-04]\n"
     ]
    },
    {
     "name": "stderr",
     "output_type": "stream",
     "text": [
      "C:\\Users\\DELL\\anaconda3\\lib\\site-packages\\sklearn\\base.py:450: UserWarning: X does not have valid feature names, but StandardScaler was fitted with feature names\n",
      "  warnings.warn(\n",
      "C:\\Users\\DELL\\anaconda3\\lib\\site-packages\\sklearn\\base.py:450: UserWarning: X does not have valid feature names, but StandardScaler was fitted with feature names\n",
      "  warnings.warn(\n",
      "C:\\Users\\DELL\\anaconda3\\lib\\site-packages\\sklearn\\base.py:450: UserWarning: X does not have valid feature names, but StandardScaler was fitted with feature names\n",
      "  warnings.warn(\n",
      "C:\\Users\\DELL\\anaconda3\\lib\\site-packages\\sklearn\\base.py:450: UserWarning: X does not have valid feature names, but StandardScaler was fitted with feature names\n",
      "  warnings.warn(\n"
     ]
    },
    {
     "name": "stdout",
     "output_type": "stream",
     "text": [
      "Arm raise [9.98983729e-01 3.14011759e-04 3.08522745e-04 3.93736572e-04]\n",
      "Arm raise [0.96055071 0.01218921 0.01197614 0.01528394]\n"
     ]
    },
    {
     "name": "stderr",
     "output_type": "stream",
     "text": [
      "C:\\Users\\DELL\\anaconda3\\lib\\site-packages\\sklearn\\base.py:450: UserWarning: X does not have valid feature names, but StandardScaler was fitted with feature names\n",
      "  warnings.warn(\n",
      "C:\\Users\\DELL\\anaconda3\\lib\\site-packages\\sklearn\\base.py:450: UserWarning: X does not have valid feature names, but StandardScaler was fitted with feature names\n",
      "  warnings.warn(\n",
      "C:\\Users\\DELL\\anaconda3\\lib\\site-packages\\sklearn\\base.py:450: UserWarning: X does not have valid feature names, but StandardScaler was fitted with feature names\n",
      "  warnings.warn(\n",
      "C:\\Users\\DELL\\anaconda3\\lib\\site-packages\\sklearn\\base.py:450: UserWarning: X does not have valid feature names, but StandardScaler was fitted with feature names\n",
      "  warnings.warn(\n"
     ]
    },
    {
     "name": "stdout",
     "output_type": "stream",
     "text": [
      "Arm raise [0.91974141 0.02479864 0.02436515 0.0310948 ]\n",
      "Arm raise [0.91974141 0.02479864 0.02436515 0.0310948 ]\n"
     ]
    },
    {
     "name": "stderr",
     "output_type": "stream",
     "text": [
      "C:\\Users\\DELL\\anaconda3\\lib\\site-packages\\sklearn\\base.py:450: UserWarning: X does not have valid feature names, but StandardScaler was fitted with feature names\n",
      "  warnings.warn(\n",
      "C:\\Users\\DELL\\anaconda3\\lib\\site-packages\\sklearn\\base.py:450: UserWarning: X does not have valid feature names, but StandardScaler was fitted with feature names\n",
      "  warnings.warn(\n",
      "C:\\Users\\DELL\\anaconda3\\lib\\site-packages\\sklearn\\base.py:450: UserWarning: X does not have valid feature names, but StandardScaler was fitted with feature names\n",
      "  warnings.warn(\n",
      "C:\\Users\\DELL\\anaconda3\\lib\\site-packages\\sklearn\\base.py:450: UserWarning: X does not have valid feature names, but StandardScaler was fitted with feature names\n",
      "  warnings.warn(\n"
     ]
    },
    {
     "name": "stdout",
     "output_type": "stream",
     "text": [
      "Arm raise [0.91974141 0.02479864 0.02436515 0.0310948 ]\n",
      "Arm raise [0.85855301 0.08968154 0.02273932 0.02902613]\n"
     ]
    },
    {
     "name": "stderr",
     "output_type": "stream",
     "text": [
      "C:\\Users\\DELL\\anaconda3\\lib\\site-packages\\sklearn\\base.py:450: UserWarning: X does not have valid feature names, but StandardScaler was fitted with feature names\n",
      "  warnings.warn(\n",
      "C:\\Users\\DELL\\anaconda3\\lib\\site-packages\\sklearn\\base.py:450: UserWarning: X does not have valid feature names, but StandardScaler was fitted with feature names\n",
      "  warnings.warn(\n",
      "C:\\Users\\DELL\\anaconda3\\lib\\site-packages\\sklearn\\base.py:450: UserWarning: X does not have valid feature names, but StandardScaler was fitted with feature names\n",
      "  warnings.warn(\n",
      "C:\\Users\\DELL\\anaconda3\\lib\\site-packages\\sklearn\\base.py:450: UserWarning: X does not have valid feature names, but StandardScaler was fitted with feature names\n",
      "  warnings.warn(\n"
     ]
    },
    {
     "name": "stdout",
     "output_type": "stream",
     "text": [
      "Arm raise [0.85855822 0.08968208 0.02273339 0.0290263 ]\n",
      "Arm raise [0.85855822 0.08968208 0.02273339 0.0290263 ]\n"
     ]
    },
    {
     "name": "stderr",
     "output_type": "stream",
     "text": [
      "C:\\Users\\DELL\\anaconda3\\lib\\site-packages\\sklearn\\base.py:450: UserWarning: X does not have valid feature names, but StandardScaler was fitted with feature names\n",
      "  warnings.warn(\n",
      "C:\\Users\\DELL\\anaconda3\\lib\\site-packages\\sklearn\\base.py:450: UserWarning: X does not have valid feature names, but StandardScaler was fitted with feature names\n",
      "  warnings.warn(\n",
      "C:\\Users\\DELL\\anaconda3\\lib\\site-packages\\sklearn\\base.py:450: UserWarning: X does not have valid feature names, but StandardScaler was fitted with feature names\n",
      "  warnings.warn(\n",
      "C:\\Users\\DELL\\anaconda3\\lib\\site-packages\\sklearn\\base.py:450: UserWarning: X does not have valid feature names, but StandardScaler was fitted with feature names\n",
      "  warnings.warn(\n"
     ]
    },
    {
     "name": "stdout",
     "output_type": "stream",
     "text": [
      "Arm raise [0.89158007 0.06874436 0.01742592 0.02224965]\n",
      "Arm raise [0.96271146 0.02364304 0.00599324 0.00765225]\n"
     ]
    },
    {
     "name": "stderr",
     "output_type": "stream",
     "text": [
      "C:\\Users\\DELL\\anaconda3\\lib\\site-packages\\sklearn\\base.py:450: UserWarning: X does not have valid feature names, but StandardScaler was fitted with feature names\n",
      "  warnings.warn(\n",
      "C:\\Users\\DELL\\anaconda3\\lib\\site-packages\\sklearn\\base.py:450: UserWarning: X does not have valid feature names, but StandardScaler was fitted with feature names\n",
      "  warnings.warn(\n",
      "C:\\Users\\DELL\\anaconda3\\lib\\site-packages\\sklearn\\base.py:450: UserWarning: X does not have valid feature names, but StandardScaler was fitted with feature names\n",
      "  warnings.warn(\n",
      "C:\\Users\\DELL\\anaconda3\\lib\\site-packages\\sklearn\\base.py:450: UserWarning: X does not have valid feature names, but StandardScaler was fitted with feature names\n",
      "  warnings.warn(\n"
     ]
    },
    {
     "name": "stdout",
     "output_type": "stream",
     "text": [
      "Happy [0.37788188 0.6167647  0.00234977 0.00300365]\n",
      "Arm raise [0.9722452  0.01759811 0.00446092 0.00569577]\n"
     ]
    },
    {
     "name": "stderr",
     "output_type": "stream",
     "text": [
      "C:\\Users\\DELL\\anaconda3\\lib\\site-packages\\sklearn\\base.py:450: UserWarning: X does not have valid feature names, but StandardScaler was fitted with feature names\n",
      "  warnings.warn(\n",
      "C:\\Users\\DELL\\anaconda3\\lib\\site-packages\\sklearn\\base.py:450: UserWarning: X does not have valid feature names, but StandardScaler was fitted with feature names\n",
      "  warnings.warn(\n",
      "C:\\Users\\DELL\\anaconda3\\lib\\site-packages\\sklearn\\base.py:450: UserWarning: X does not have valid feature names, but StandardScaler was fitted with feature names\n",
      "  warnings.warn(\n",
      "C:\\Users\\DELL\\anaconda3\\lib\\site-packages\\sklearn\\base.py:450: UserWarning: X does not have valid feature names, but StandardScaler was fitted with feature names\n",
      "  warnings.warn(\n"
     ]
    },
    {
     "name": "stdout",
     "output_type": "stream",
     "text": [
      "Arm raise [0.76009409 0.23784149 0.00090614 0.00115829]\n",
      "Happy [1.84636484e-02 9.81499285e-01 1.62604931e-05 2.08059683e-05]\n"
     ]
    },
    {
     "name": "stderr",
     "output_type": "stream",
     "text": [
      "C:\\Users\\DELL\\anaconda3\\lib\\site-packages\\sklearn\\base.py:450: UserWarning: X does not have valid feature names, but StandardScaler was fitted with feature names\n",
      "  warnings.warn(\n",
      "C:\\Users\\DELL\\anaconda3\\lib\\site-packages\\sklearn\\base.py:450: UserWarning: X does not have valid feature names, but StandardScaler was fitted with feature names\n",
      "  warnings.warn(\n",
      "C:\\Users\\DELL\\anaconda3\\lib\\site-packages\\sklearn\\base.py:450: UserWarning: X does not have valid feature names, but StandardScaler was fitted with feature names\n",
      "  warnings.warn(\n",
      "C:\\Users\\DELL\\anaconda3\\lib\\site-packages\\sklearn\\base.py:450: UserWarning: X does not have valid feature names, but StandardScaler was fitted with feature names\n",
      "  warnings.warn(\n"
     ]
    },
    {
     "name": "stdout",
     "output_type": "stream",
     "text": [
      "Happy [4.19017606e-03 9.95772218e-01 1.64969527e-05 2.11085281e-05]\n",
      "Happy [3.10463567e-03 9.96857718e-01 1.65149361e-05 2.11315387e-05]\n"
     ]
    },
    {
     "name": "stderr",
     "output_type": "stream",
     "text": [
      "C:\\Users\\DELL\\anaconda3\\lib\\site-packages\\sklearn\\base.py:450: UserWarning: X does not have valid feature names, but StandardScaler was fitted with feature names\n",
      "  warnings.warn(\n",
      "C:\\Users\\DELL\\anaconda3\\lib\\site-packages\\sklearn\\base.py:450: UserWarning: X does not have valid feature names, but StandardScaler was fitted with feature names\n",
      "  warnings.warn(\n",
      "C:\\Users\\DELL\\anaconda3\\lib\\site-packages\\sklearn\\base.py:450: UserWarning: X does not have valid feature names, but StandardScaler was fitted with feature names\n",
      "  warnings.warn(\n",
      "C:\\Users\\DELL\\anaconda3\\lib\\site-packages\\sklearn\\base.py:450: UserWarning: X does not have valid feature names, but StandardScaler was fitted with feature names\n",
      "  warnings.warn(\n"
     ]
    },
    {
     "name": "stdout",
     "output_type": "stream",
     "text": [
      "Happy [1.54539953e-03 9.98416895e-01 1.65407670e-05 2.11645903e-05]\n",
      "Happy [1.54539953e-03 9.98416895e-01 1.65407670e-05 2.11645903e-05]\n"
     ]
    },
    {
     "name": "stderr",
     "output_type": "stream",
     "text": [
      "C:\\Users\\DELL\\anaconda3\\lib\\site-packages\\sklearn\\base.py:450: UserWarning: X does not have valid feature names, but StandardScaler was fitted with feature names\n",
      "  warnings.warn(\n",
      "C:\\Users\\DELL\\anaconda3\\lib\\site-packages\\sklearn\\base.py:450: UserWarning: X does not have valid feature names, but StandardScaler was fitted with feature names\n",
      "  warnings.warn(\n",
      "C:\\Users\\DELL\\anaconda3\\lib\\site-packages\\sklearn\\base.py:450: UserWarning: X does not have valid feature names, but StandardScaler was fitted with feature names\n",
      "  warnings.warn(\n",
      "C:\\Users\\DELL\\anaconda3\\lib\\site-packages\\sklearn\\base.py:450: UserWarning: X does not have valid feature names, but StandardScaler was fitted with feature names\n",
      "  warnings.warn(\n"
     ]
    },
    {
     "name": "stdout",
     "output_type": "stream",
     "text": [
      "Happy [3.10463567e-03 9.96857718e-01 1.65149361e-05 2.11315387e-05]\n",
      "Happy [8.46087889e-04 9.99116180e-01 1.65523521e-05 2.11794139e-05]\n"
     ]
    },
    {
     "name": "stderr",
     "output_type": "stream",
     "text": [
      "C:\\Users\\DELL\\anaconda3\\lib\\site-packages\\sklearn\\base.py:450: UserWarning: X does not have valid feature names, but StandardScaler was fitted with feature names\n",
      "  warnings.warn(\n",
      "C:\\Users\\DELL\\anaconda3\\lib\\site-packages\\sklearn\\base.py:450: UserWarning: X does not have valid feature names, but StandardScaler was fitted with feature names\n",
      "  warnings.warn(\n",
      "C:\\Users\\DELL\\anaconda3\\lib\\site-packages\\sklearn\\base.py:450: UserWarning: X does not have valid feature names, but StandardScaler was fitted with feature names\n",
      "  warnings.warn(\n",
      "C:\\Users\\DELL\\anaconda3\\lib\\site-packages\\sklearn\\base.py:450: UserWarning: X does not have valid feature names, but StandardScaler was fitted with feature names\n",
      "  warnings.warn(\n"
     ]
    },
    {
     "name": "stdout",
     "output_type": "stream",
     "text": [
      "Happy [8.46087889e-04 9.99116180e-01 1.65523521e-05 2.11794139e-05]\n",
      "Happy [9.85937966e-04 9.98976336e-01 1.65500353e-05 2.11764494e-05]\n"
     ]
    },
    {
     "name": "stderr",
     "output_type": "stream",
     "text": [
      "C:\\Users\\DELL\\anaconda3\\lib\\site-packages\\sklearn\\base.py:450: UserWarning: X does not have valid feature names, but StandardScaler was fitted with feature names\n",
      "  warnings.warn(\n",
      "C:\\Users\\DELL\\anaconda3\\lib\\site-packages\\sklearn\\base.py:450: UserWarning: X does not have valid feature names, but StandardScaler was fitted with feature names\n",
      "  warnings.warn(\n",
      "C:\\Users\\DELL\\anaconda3\\lib\\site-packages\\sklearn\\base.py:450: UserWarning: X does not have valid feature names, but StandardScaler was fitted with feature names\n",
      "  warnings.warn(\n",
      "C:\\Users\\DELL\\anaconda3\\lib\\site-packages\\sklearn\\base.py:450: UserWarning: X does not have valid feature names, but StandardScaler was fitted with feature names\n",
      "  warnings.warn(\n"
     ]
    },
    {
     "name": "stdout",
     "output_type": "stream",
     "text": [
      "Happy [3.16118427e-04 9.99669821e-01 6.16827089e-06 7.89255579e-06]\n",
      "Happy [1.08248624e-04 9.99886937e-01 2.11220473e-06 2.70265264e-06]\n"
     ]
    },
    {
     "name": "stderr",
     "output_type": "stream",
     "text": [
      "C:\\Users\\DELL\\anaconda3\\lib\\site-packages\\sklearn\\base.py:450: UserWarning: X does not have valid feature names, but StandardScaler was fitted with feature names\n",
      "  warnings.warn(\n",
      "C:\\Users\\DELL\\anaconda3\\lib\\site-packages\\sklearn\\base.py:450: UserWarning: X does not have valid feature names, but StandardScaler was fitted with feature names\n",
      "  warnings.warn(\n",
      "C:\\Users\\DELL\\anaconda3\\lib\\site-packages\\sklearn\\base.py:450: UserWarning: X does not have valid feature names, but StandardScaler was fitted with feature names\n",
      "  warnings.warn(\n",
      "C:\\Users\\DELL\\anaconda3\\lib\\site-packages\\sklearn\\base.py:450: UserWarning: X does not have valid feature names, but StandardScaler was fitted with feature names\n",
      "  warnings.warn(\n"
     ]
    },
    {
     "name": "stdout",
     "output_type": "stream",
     "text": [
      "Happy [1.25828506e-04 9.99869357e-01 2.11216759e-06 2.70260513e-06]\n",
      "Happy [1.69843819e-04 9.99825342e-01 2.11207461e-06 2.70248616e-06]\n"
     ]
    },
    {
     "name": "stderr",
     "output_type": "stream",
     "text": [
      "C:\\Users\\DELL\\anaconda3\\lib\\site-packages\\sklearn\\base.py:450: UserWarning: X does not have valid feature names, but StandardScaler was fitted with feature names\n",
      "  warnings.warn(\n",
      "C:\\Users\\DELL\\anaconda3\\lib\\site-packages\\sklearn\\base.py:450: UserWarning: X does not have valid feature names, but StandardScaler was fitted with feature names\n",
      "  warnings.warn(\n",
      "C:\\Users\\DELL\\anaconda3\\lib\\site-packages\\sklearn\\base.py:450: UserWarning: X does not have valid feature names, but StandardScaler was fitted with feature names\n",
      "  warnings.warn(\n",
      "C:\\Users\\DELL\\anaconda3\\lib\\site-packages\\sklearn\\base.py:450: UserWarning: X does not have valid feature names, but StandardScaler was fitted with feature names\n",
      "  warnings.warn(\n"
     ]
    },
    {
     "name": "stdout",
     "output_type": "stream",
     "text": [
      "Happy [1.46188938e-04 9.99848996e-01 2.11212458e-06 2.70255009e-06]\n",
      "Happy [1.97325154e-04 9.99797860e-01 2.11256941e-06 2.70241187e-06]\n"
     ]
    },
    {
     "name": "stderr",
     "output_type": "stream",
     "text": [
      "C:\\Users\\DELL\\anaconda3\\lib\\site-packages\\sklearn\\base.py:450: UserWarning: X does not have valid feature names, but StandardScaler was fitted with feature names\n",
      "  warnings.warn(\n",
      "C:\\Users\\DELL\\anaconda3\\lib\\site-packages\\sklearn\\base.py:450: UserWarning: X does not have valid feature names, but StandardScaler was fitted with feature names\n",
      "  warnings.warn(\n",
      "C:\\Users\\DELL\\anaconda3\\lib\\site-packages\\sklearn\\base.py:450: UserWarning: X does not have valid feature names, but StandardScaler was fitted with feature names\n",
      "  warnings.warn(\n",
      "C:\\Users\\DELL\\anaconda3\\lib\\site-packages\\sklearn\\base.py:450: UserWarning: X does not have valid feature names, but StandardScaler was fitted with feature names\n",
      "  warnings.warn(\n"
     ]
    },
    {
     "name": "stdout",
     "output_type": "stream",
     "text": [
      "Happy [1.97325154e-04 9.99797860e-01 2.11256941e-06 2.70241187e-06]\n",
      "Happy [7.64018739e-04 9.99217339e-01 8.17911173e-06 1.04634066e-05]\n"
     ]
    },
    {
     "name": "stderr",
     "output_type": "stream",
     "text": [
      "C:\\Users\\DELL\\anaconda3\\lib\\site-packages\\sklearn\\base.py:450: UserWarning: X does not have valid feature names, but StandardScaler was fitted with feature names\n",
      "  warnings.warn(\n",
      "C:\\Users\\DELL\\anaconda3\\lib\\site-packages\\sklearn\\base.py:450: UserWarning: X does not have valid feature names, but StandardScaler was fitted with feature names\n",
      "  warnings.warn(\n",
      "C:\\Users\\DELL\\anaconda3\\lib\\site-packages\\sklearn\\base.py:450: UserWarning: X does not have valid feature names, but StandardScaler was fitted with feature names\n",
      "  warnings.warn(\n",
      "C:\\Users\\DELL\\anaconda3\\lib\\site-packages\\sklearn\\base.py:450: UserWarning: X does not have valid feature names, but StandardScaler was fitted with feature names\n",
      "  warnings.warn(\n"
     ]
    },
    {
     "name": "stdout",
     "output_type": "stream",
     "text": [
      "Happy [6.57666799e-04 9.99323689e-01 8.17998226e-06 1.04645202e-05]\n",
      "Happy [6.57666799e-04 9.99323689e-01 8.17998226e-06 1.04645202e-05]\n"
     ]
    },
    {
     "name": "stderr",
     "output_type": "stream",
     "text": [
      "C:\\Users\\DELL\\anaconda3\\lib\\site-packages\\sklearn\\base.py:450: UserWarning: X does not have valid feature names, but StandardScaler was fitted with feature names\n",
      "  warnings.warn(\n",
      "C:\\Users\\DELL\\anaconda3\\lib\\site-packages\\sklearn\\base.py:450: UserWarning: X does not have valid feature names, but StandardScaler was fitted with feature names\n",
      "  warnings.warn(\n",
      "C:\\Users\\DELL\\anaconda3\\lib\\site-packages\\sklearn\\base.py:450: UserWarning: X does not have valid feature names, but StandardScaler was fitted with feature names\n",
      "  warnings.warn(\n",
      "C:\\Users\\DELL\\anaconda3\\lib\\site-packages\\sklearn\\base.py:450: UserWarning: X does not have valid feature names, but StandardScaler was fitted with feature names\n",
      "  warnings.warn(\n"
     ]
    },
    {
     "name": "stdout",
     "output_type": "stream",
     "text": [
      "Arm raise [0.87060535 0.10068632 0.01261372 0.01609461]\n",
      "Happy [0.27291929 0.71808577 0.00394956 0.00504538]\n"
     ]
    },
    {
     "name": "stderr",
     "output_type": "stream",
     "text": [
      "C:\\Users\\DELL\\anaconda3\\lib\\site-packages\\sklearn\\base.py:450: UserWarning: X does not have valid feature names, but StandardScaler was fitted with feature names\n",
      "  warnings.warn(\n",
      "C:\\Users\\DELL\\anaconda3\\lib\\site-packages\\sklearn\\base.py:450: UserWarning: X does not have valid feature names, but StandardScaler was fitted with feature names\n",
      "  warnings.warn(\n",
      "C:\\Users\\DELL\\anaconda3\\lib\\site-packages\\sklearn\\base.py:450: UserWarning: X does not have valid feature names, but StandardScaler was fitted with feature names\n",
      "  warnings.warn(\n",
      "C:\\Users\\DELL\\anaconda3\\lib\\site-packages\\sklearn\\base.py:450: UserWarning: X does not have valid feature names, but StandardScaler was fitted with feature names\n",
      "  warnings.warn(\n"
     ]
    },
    {
     "name": "stdout",
     "output_type": "stream",
     "text": [
      "Arm raise [0.72836749 0.26279495 0.00387997 0.00495759]\n",
      "Happy [4.43226016e-02 9.55537567e-01 6.13589552e-05 7.84728658e-05]\n"
     ]
    },
    {
     "name": "stderr",
     "output_type": "stream",
     "text": [
      "C:\\Users\\DELL\\anaconda3\\lib\\site-packages\\sklearn\\base.py:450: UserWarning: X does not have valid feature names, but StandardScaler was fitted with feature names\n",
      "  warnings.warn(\n",
      "C:\\Users\\DELL\\anaconda3\\lib\\site-packages\\sklearn\\base.py:450: UserWarning: X does not have valid feature names, but StandardScaler was fitted with feature names\n",
      "  warnings.warn(\n",
      "C:\\Users\\DELL\\anaconda3\\lib\\site-packages\\sklearn\\base.py:450: UserWarning: X does not have valid feature names, but StandardScaler was fitted with feature names\n",
      "  warnings.warn(\n",
      "C:\\Users\\DELL\\anaconda3\\lib\\site-packages\\sklearn\\base.py:450: UserWarning: X does not have valid feature names, but StandardScaler was fitted with feature names\n",
      "  warnings.warn(\n"
     ]
    },
    {
     "name": "stdout",
     "output_type": "stream",
     "text": [
      "Happy [5.87962654e-03 9.94101824e-01 8.13958857e-06 1.04098389e-05]\n",
      "Happy [1.77135889e-03 9.98223834e-01 2.10863454e-06 2.69815735e-06]\n"
     ]
    },
    {
     "name": "stderr",
     "output_type": "stream",
     "text": [
      "C:\\Users\\DELL\\anaconda3\\lib\\site-packages\\sklearn\\base.py:450: UserWarning: X does not have valid feature names, but StandardScaler was fitted with feature names\n",
      "  warnings.warn(\n",
      "C:\\Users\\DELL\\anaconda3\\lib\\site-packages\\sklearn\\base.py:450: UserWarning: X does not have valid feature names, but StandardScaler was fitted with feature names\n",
      "  warnings.warn(\n",
      "C:\\Users\\DELL\\anaconda3\\lib\\site-packages\\sklearn\\base.py:450: UserWarning: X does not have valid feature names, but StandardScaler was fitted with feature names\n",
      "  warnings.warn(\n",
      "C:\\Users\\DELL\\anaconda3\\lib\\site-packages\\sklearn\\base.py:450: UserWarning: X does not have valid feature names, but StandardScaler was fitted with feature names\n",
      "  warnings.warn(\n"
     ]
    },
    {
     "name": "stdout",
     "output_type": "stream",
     "text": [
      "Happy [1.31248605e-03 9.98683953e-01 1.56155352e-06 1.99919615e-06]\n",
      "Happy [1.12938173e-03 9.98867057e-01 1.56183982e-06 1.99956269e-06]\n"
     ]
    },
    {
     "name": "stderr",
     "output_type": "stream",
     "text": [
      "C:\\Users\\DELL\\anaconda3\\lib\\site-packages\\sklearn\\base.py:450: UserWarning: X does not have valid feature names, but StandardScaler was fitted with feature names\n",
      "  warnings.warn(\n",
      "C:\\Users\\DELL\\anaconda3\\lib\\site-packages\\sklearn\\base.py:450: UserWarning: X does not have valid feature names, but StandardScaler was fitted with feature names\n",
      "  warnings.warn(\n",
      "C:\\Users\\DELL\\anaconda3\\lib\\site-packages\\sklearn\\base.py:450: UserWarning: X does not have valid feature names, but StandardScaler was fitted with feature names\n",
      "  warnings.warn(\n",
      "C:\\Users\\DELL\\anaconda3\\lib\\site-packages\\sklearn\\base.py:450: UserWarning: X does not have valid feature names, but StandardScaler was fitted with feature names\n",
      "  warnings.warn(\n"
     ]
    },
    {
     "name": "stdout",
     "output_type": "stream",
     "text": [
      "Happy [1.61692186e-04 9.99837931e-01 1.65411532e-07 2.11783719e-07]\n",
      "Happy [2.18345122e-04 9.99781278e-01 1.65402159e-07 2.11771719e-07]\n"
     ]
    },
    {
     "name": "stderr",
     "output_type": "stream",
     "text": [
      "C:\\Users\\DELL\\anaconda3\\lib\\site-packages\\sklearn\\base.py:450: UserWarning: X does not have valid feature names, but StandardScaler was fitted with feature names\n",
      "  warnings.warn(\n",
      "C:\\Users\\DELL\\anaconda3\\lib\\site-packages\\sklearn\\base.py:450: UserWarning: X does not have valid feature names, but StandardScaler was fitted with feature names\n",
      "  warnings.warn(\n",
      "C:\\Users\\DELL\\anaconda3\\lib\\site-packages\\sklearn\\base.py:450: UserWarning: X does not have valid feature names, but StandardScaler was fitted with feature names\n",
      "  warnings.warn(\n",
      "C:\\Users\\DELL\\anaconda3\\lib\\site-packages\\sklearn\\base.py:450: UserWarning: X does not have valid feature names, but StandardScaler was fitted with feature names\n",
      "  warnings.warn(\n"
     ]
    },
    {
     "name": "stdout",
     "output_type": "stream",
     "text": [
      "Happy [3.21256313e-04 9.99677731e-01 4.44051211e-07 5.68538456e-07]\n",
      "Arm raise [0.90984181 0.08682147 0.00146515 0.00187157]\n"
     ]
    },
    {
     "name": "stderr",
     "output_type": "stream",
     "text": [
      "C:\\Users\\DELL\\anaconda3\\lib\\site-packages\\sklearn\\base.py:450: UserWarning: X does not have valid feature names, but StandardScaler was fitted with feature names\n",
      "  warnings.warn(\n",
      "C:\\Users\\DELL\\anaconda3\\lib\\site-packages\\sklearn\\base.py:450: UserWarning: X does not have valid feature names, but StandardScaler was fitted with feature names\n",
      "  warnings.warn(\n",
      "C:\\Users\\DELL\\anaconda3\\lib\\site-packages\\sklearn\\base.py:450: UserWarning: X does not have valid feature names, but StandardScaler was fitted with feature names\n",
      "  warnings.warn(\n",
      "C:\\Users\\DELL\\anaconda3\\lib\\site-packages\\sklearn\\base.py:450: UserWarning: X does not have valid feature names, but StandardScaler was fitted with feature names\n",
      "  warnings.warn(\n"
     ]
    },
    {
     "name": "stdout",
     "output_type": "stream",
     "text": [
      "Happy [6.18911109e-05 9.99937553e-01 2.43740733e-07 3.12074730e-07]\n",
      "Happy [1.76244132e-04 9.99823200e-01 2.43712858e-07 3.12039041e-07]\n"
     ]
    },
    {
     "name": "stderr",
     "output_type": "stream",
     "text": [
      "C:\\Users\\DELL\\anaconda3\\lib\\site-packages\\sklearn\\base.py:450: UserWarning: X does not have valid feature names, but StandardScaler was fitted with feature names\n",
      "  warnings.warn(\n",
      "C:\\Users\\DELL\\anaconda3\\lib\\site-packages\\sklearn\\base.py:450: UserWarning: X does not have valid feature names, but StandardScaler was fitted with feature names\n",
      "  warnings.warn(\n",
      "C:\\Users\\DELL\\anaconda3\\lib\\site-packages\\sklearn\\base.py:450: UserWarning: X does not have valid feature names, but StandardScaler was fitted with feature names\n",
      "  warnings.warn(\n",
      "C:\\Users\\DELL\\anaconda3\\lib\\site-packages\\sklearn\\base.py:450: UserWarning: X does not have valid feature names, but StandardScaler was fitted with feature names\n",
      "  warnings.warn(\n"
     ]
    },
    {
     "name": "stdout",
     "output_type": "stream",
     "text": [
      "Happy [1.76244132e-04 9.99823200e-01 2.43712858e-07 3.12039041e-07]\n",
      "Happy [2.04849920e-04 9.99794594e-01 2.43705886e-07 3.12030114e-07]\n"
     ]
    },
    {
     "name": "stderr",
     "output_type": "stream",
     "text": [
      "C:\\Users\\DELL\\anaconda3\\lib\\site-packages\\sklearn\\base.py:450: UserWarning: X does not have valid feature names, but StandardScaler was fitted with feature names\n",
      "  warnings.warn(\n",
      "C:\\Users\\DELL\\anaconda3\\lib\\site-packages\\sklearn\\base.py:450: UserWarning: X does not have valid feature names, but StandardScaler was fitted with feature names\n",
      "  warnings.warn(\n",
      "C:\\Users\\DELL\\anaconda3\\lib\\site-packages\\sklearn\\base.py:450: UserWarning: X does not have valid feature names, but StandardScaler was fitted with feature names\n",
      "  warnings.warn(\n",
      "C:\\Users\\DELL\\anaconda3\\lib\\site-packages\\sklearn\\base.py:450: UserWarning: X does not have valid feature names, but StandardScaler was fitted with feature names\n",
      "  warnings.warn(\n"
     ]
    },
    {
     "name": "stdout",
     "output_type": "stream",
     "text": [
      "Happy [6.56486786e-05 9.99934144e-01 9.07799138e-08 1.16230541e-07]\n",
      "Happy [6.56486786e-05 9.99934144e-01 9.07799138e-08 1.16230541e-07]\n"
     ]
    },
    {
     "name": "stderr",
     "output_type": "stream",
     "text": [
      "C:\\Users\\DELL\\anaconda3\\lib\\site-packages\\sklearn\\base.py:450: UserWarning: X does not have valid feature names, but StandardScaler was fitted with feature names\n",
      "  warnings.warn(\n",
      "C:\\Users\\DELL\\anaconda3\\lib\\site-packages\\sklearn\\base.py:450: UserWarning: X does not have valid feature names, but StandardScaler was fitted with feature names\n",
      "  warnings.warn(\n",
      "C:\\Users\\DELL\\anaconda3\\lib\\site-packages\\sklearn\\base.py:450: UserWarning: X does not have valid feature names, but StandardScaler was fitted with feature names\n",
      "  warnings.warn(\n",
      "C:\\Users\\DELL\\anaconda3\\lib\\site-packages\\sklearn\\base.py:450: UserWarning: X does not have valid feature names, but StandardScaler was fitted with feature names\n",
      "  warnings.warn(\n"
     ]
    },
    {
     "name": "stdout",
     "output_type": "stream",
     "text": [
      "Arm raise [0.69968832 0.27724624 0.01013052 0.01293492]\n",
      "Arm raise [0.56101145 0.40527034 0.01481032 0.01890789]\n"
     ]
    },
    {
     "name": "stderr",
     "output_type": "stream",
     "text": [
      "C:\\Users\\DELL\\anaconda3\\lib\\site-packages\\sklearn\\base.py:450: UserWarning: X does not have valid feature names, but StandardScaler was fitted with feature names\n",
      "  warnings.warn(\n",
      "C:\\Users\\DELL\\anaconda3\\lib\\site-packages\\sklearn\\base.py:450: UserWarning: X does not have valid feature names, but StandardScaler was fitted with feature names\n",
      "  warnings.warn(\n",
      "C:\\Users\\DELL\\anaconda3\\lib\\site-packages\\sklearn\\base.py:450: UserWarning: X does not have valid feature names, but StandardScaler was fitted with feature names\n",
      "  warnings.warn(\n",
      "C:\\Users\\DELL\\anaconda3\\lib\\site-packages\\sklearn\\base.py:450: UserWarning: X does not have valid feature names, but StandardScaler was fitted with feature names\n",
      "  warnings.warn(\n"
     ]
    },
    {
     "name": "stdout",
     "output_type": "stream",
     "text": [
      "Happy [2.10970644e-04 9.99783586e-01 2.38794617e-06 3.05567561e-06]\n",
      "Happy [3.32529759e-04 9.99662027e-01 2.38765583e-06 3.05530409e-06]\n"
     ]
    },
    {
     "name": "stderr",
     "output_type": "stream",
     "text": [
      "C:\\Users\\DELL\\anaconda3\\lib\\site-packages\\sklearn\\base.py:450: UserWarning: X does not have valid feature names, but StandardScaler was fitted with feature names\n",
      "  warnings.warn(\n",
      "C:\\Users\\DELL\\anaconda3\\lib\\site-packages\\sklearn\\base.py:450: UserWarning: X does not have valid feature names, but StandardScaler was fitted with feature names\n",
      "  warnings.warn(\n",
      "C:\\Users\\DELL\\anaconda3\\lib\\site-packages\\sklearn\\base.py:450: UserWarning: X does not have valid feature names, but StandardScaler was fitted with feature names\n",
      "  warnings.warn(\n",
      "C:\\Users\\DELL\\anaconda3\\lib\\site-packages\\sklearn\\base.py:450: UserWarning: X does not have valid feature names, but StandardScaler was fitted with feature names\n",
      "  warnings.warn(\n"
     ]
    },
    {
     "name": "stdout",
     "output_type": "stream",
     "text": [
      "Happy [4.49236061e-04 9.99545322e-01 2.38708225e-06 3.05494740e-06]\n",
      "Happy [4.49236062e-04 9.99545323e-01 2.38642877e-06 3.05494740e-06]\n"
     ]
    },
    {
     "name": "stderr",
     "output_type": "stream",
     "text": [
      "C:\\Users\\DELL\\anaconda3\\lib\\site-packages\\sklearn\\base.py:450: UserWarning: X does not have valid feature names, but StandardScaler was fitted with feature names\n",
      "  warnings.warn(\n",
      "C:\\Users\\DELL\\anaconda3\\lib\\site-packages\\sklearn\\base.py:450: UserWarning: X does not have valid feature names, but StandardScaler was fitted with feature names\n",
      "  warnings.warn(\n",
      "C:\\Users\\DELL\\anaconda3\\lib\\site-packages\\sklearn\\base.py:450: UserWarning: X does not have valid feature names, but StandardScaler was fitted with feature names\n",
      "  warnings.warn(\n",
      "C:\\Users\\DELL\\anaconda3\\lib\\site-packages\\sklearn\\base.py:450: UserWarning: X does not have valid feature names, but StandardScaler was fitted with feature names\n",
      "  warnings.warn(\n"
     ]
    },
    {
     "name": "stdout",
     "output_type": "stream",
     "text": [
      "Happy [2.00437668e-03 9.97990191e-01 2.38230316e-06 3.05019440e-06]\n",
      "Happy [2.38220141e-04 9.99761224e-01 2.43697751e-07 3.12019699e-07]\n"
     ]
    },
    {
     "name": "stderr",
     "output_type": "stream",
     "text": [
      "C:\\Users\\DELL\\anaconda3\\lib\\site-packages\\sklearn\\base.py:450: UserWarning: X does not have valid feature names, but StandardScaler was fitted with feature names\n",
      "  warnings.warn(\n",
      "C:\\Users\\DELL\\anaconda3\\lib\\site-packages\\sklearn\\base.py:450: UserWarning: X does not have valid feature names, but StandardScaler was fitted with feature names\n",
      "  warnings.warn(\n",
      "C:\\Users\\DELL\\anaconda3\\lib\\site-packages\\sklearn\\base.py:450: UserWarning: X does not have valid feature names, but StandardScaler was fitted with feature names\n",
      "  warnings.warn(\n",
      "C:\\Users\\DELL\\anaconda3\\lib\\site-packages\\sklearn\\base.py:450: UserWarning: X does not have valid feature names, but StandardScaler was fitted with feature names\n",
      "  warnings.warn(\n"
     ]
    },
    {
     "name": "stdout",
     "output_type": "stream",
     "text": [
      "Happy [2.38220141e-04 9.99761224e-01 2.43697751e-07 3.12019699e-07]\n",
      "Happy [2.38220141e-04 9.99761224e-01 2.43697751e-07 3.12019699e-07]\n"
     ]
    },
    {
     "name": "stderr",
     "output_type": "stream",
     "text": [
      "C:\\Users\\DELL\\anaconda3\\lib\\site-packages\\sklearn\\base.py:450: UserWarning: X does not have valid feature names, but StandardScaler was fitted with feature names\n",
      "  warnings.warn(\n",
      "C:\\Users\\DELL\\anaconda3\\lib\\site-packages\\sklearn\\base.py:450: UserWarning: X does not have valid feature names, but StandardScaler was fitted with feature names\n",
      "  warnings.warn(\n",
      "C:\\Users\\DELL\\anaconda3\\lib\\site-packages\\sklearn\\base.py:450: UserWarning: X does not have valid feature names, but StandardScaler was fitted with feature names\n",
      "  warnings.warn(\n",
      "C:\\Users\\DELL\\anaconda3\\lib\\site-packages\\sklearn\\base.py:450: UserWarning: X does not have valid feature names, but StandardScaler was fitted with feature names\n",
      "  warnings.warn(\n"
     ]
    },
    {
     "name": "stdout",
     "output_type": "stream",
     "text": [
      "Happy [3.21677948e-04 9.99677766e-01 2.43677408e-07 3.11993652e-07]\n",
      "Happy [5.11367996e-04 9.99488076e-01 2.43631170e-07 3.11934451e-07]\n"
     ]
    },
    {
     "name": "stderr",
     "output_type": "stream",
     "text": [
      "C:\\Users\\DELL\\anaconda3\\lib\\site-packages\\sklearn\\base.py:450: UserWarning: X does not have valid feature names, but StandardScaler was fitted with feature names\n",
      "  warnings.warn(\n",
      "C:\\Users\\DELL\\anaconda3\\lib\\site-packages\\sklearn\\base.py:450: UserWarning: X does not have valid feature names, but StandardScaler was fitted with feature names\n",
      "  warnings.warn(\n",
      "C:\\Users\\DELL\\anaconda3\\lib\\site-packages\\sklearn\\base.py:450: UserWarning: X does not have valid feature names, but StandardScaler was fitted with feature names\n",
      "  warnings.warn(\n",
      "C:\\Users\\DELL\\anaconda3\\lib\\site-packages\\sklearn\\base.py:450: UserWarning: X does not have valid feature names, but StandardScaler was fitted with feature names\n",
      "  warnings.warn(\n"
     ]
    },
    {
     "name": "stdout",
     "output_type": "stream",
     "text": [
      "Happy [5.94074170e-04 9.99405370e-01 2.43611010e-07 3.11908639e-07]\n",
      "Happy [1.39222247e-04 9.99860571e-01 9.07732343e-08 1.16221988e-07]\n"
     ]
    },
    {
     "name": "stderr",
     "output_type": "stream",
     "text": [
      "C:\\Users\\DELL\\anaconda3\\lib\\site-packages\\sklearn\\base.py:450: UserWarning: X does not have valid feature names, but StandardScaler was fitted with feature names\n",
      "  warnings.warn(\n",
      "C:\\Users\\DELL\\anaconda3\\lib\\site-packages\\sklearn\\base.py:450: UserWarning: X does not have valid feature names, but StandardScaler was fitted with feature names\n",
      "  warnings.warn(\n",
      "C:\\Users\\DELL\\anaconda3\\lib\\site-packages\\sklearn\\base.py:450: UserWarning: X does not have valid feature names, but StandardScaler was fitted with feature names\n",
      "  warnings.warn(\n",
      "C:\\Users\\DELL\\anaconda3\\lib\\site-packages\\sklearn\\base.py:450: UserWarning: X does not have valid feature names, but StandardScaler was fitted with feature names\n",
      "  warnings.warn(\n"
     ]
    },
    {
     "name": "stdout",
     "output_type": "stream",
     "text": [
      "Happy [1.03096985e-04 9.99896696e-01 9.07765140e-08 1.16226188e-07]\n",
      "Happy [2.68438144e-05 9.99972949e-01 9.07834367e-08 1.16235051e-07]\n"
     ]
    },
    {
     "name": "stderr",
     "output_type": "stream",
     "text": [
      "C:\\Users\\DELL\\anaconda3\\lib\\site-packages\\sklearn\\base.py:450: UserWarning: X does not have valid feature names, but StandardScaler was fitted with feature names\n",
      "  warnings.warn(\n",
      "C:\\Users\\DELL\\anaconda3\\lib\\site-packages\\sklearn\\base.py:450: UserWarning: X does not have valid feature names, but StandardScaler was fitted with feature names\n",
      "  warnings.warn(\n",
      "C:\\Users\\DELL\\anaconda3\\lib\\site-packages\\sklearn\\base.py:450: UserWarning: X does not have valid feature names, but StandardScaler was fitted with feature names\n",
      "  warnings.warn(\n",
      "C:\\Users\\DELL\\anaconda3\\lib\\site-packages\\sklearn\\base.py:450: UserWarning: X does not have valid feature names, but StandardScaler was fitted with feature names\n",
      "  warnings.warn(\n"
     ]
    },
    {
     "name": "stdout",
     "output_type": "stream",
     "text": [
      "Happy [2.68438144e-05 9.99972949e-01 9.07834367e-08 1.16235051e-07]\n",
      "Happy [8.87373985e-05 9.99911056e-01 9.07778176e-08 1.16227857e-07]\n"
     ]
    },
    {
     "name": "stderr",
     "output_type": "stream",
     "text": [
      "C:\\Users\\DELL\\anaconda3\\lib\\site-packages\\sklearn\\base.py:450: UserWarning: X does not have valid feature names, but StandardScaler was fitted with feature names\n",
      "  warnings.warn(\n",
      "C:\\Users\\DELL\\anaconda3\\lib\\site-packages\\sklearn\\base.py:450: UserWarning: X does not have valid feature names, but StandardScaler was fitted with feature names\n",
      "  warnings.warn(\n",
      "C:\\Users\\DELL\\anaconda3\\lib\\site-packages\\sklearn\\base.py:450: UserWarning: X does not have valid feature names, but StandardScaler was fitted with feature names\n",
      "  warnings.warn(\n",
      "C:\\Users\\DELL\\anaconda3\\lib\\site-packages\\sklearn\\base.py:450: UserWarning: X does not have valid feature names, but StandardScaler was fitted with feature names\n",
      "  warnings.warn(\n"
     ]
    },
    {
     "name": "stdout",
     "output_type": "stream",
     "text": [
      "Happy [8.87373985e-05 9.99911056e-01 9.07778176e-08 1.16227857e-07]\n",
      "Happy [1.19831848e-04 9.99879961e-01 9.07749947e-08 1.16224242e-07]\n"
     ]
    },
    {
     "name": "stderr",
     "output_type": "stream",
     "text": [
      "C:\\Users\\DELL\\anaconda3\\lib\\site-packages\\sklearn\\base.py:450: UserWarning: X does not have valid feature names, but StandardScaler was fitted with feature names\n",
      "  warnings.warn(\n",
      "C:\\Users\\DELL\\anaconda3\\lib\\site-packages\\sklearn\\base.py:450: UserWarning: X does not have valid feature names, but StandardScaler was fitted with feature names\n",
      "  warnings.warn(\n",
      "C:\\Users\\DELL\\anaconda3\\lib\\site-packages\\sklearn\\base.py:450: UserWarning: X does not have valid feature names, but StandardScaler was fitted with feature names\n",
      "  warnings.warn(\n",
      "C:\\Users\\DELL\\anaconda3\\lib\\site-packages\\sklearn\\base.py:450: UserWarning: X does not have valid feature names, but StandardScaler was fitted with feature names\n",
      "  warnings.warn(\n"
     ]
    },
    {
     "name": "stdout",
     "output_type": "stream",
     "text": [
      "Happy [1.19831848e-04 9.99879961e-01 9.07749947e-08 1.16224242e-07]\n",
      "Happy [1.03096985e-04 9.99896696e-01 9.07765140e-08 1.16226188e-07]\n"
     ]
    },
    {
     "name": "stderr",
     "output_type": "stream",
     "text": [
      "C:\\Users\\DELL\\anaconda3\\lib\\site-packages\\sklearn\\base.py:450: UserWarning: X does not have valid feature names, but StandardScaler was fitted with feature names\n",
      "  warnings.warn(\n",
      "C:\\Users\\DELL\\anaconda3\\lib\\site-packages\\sklearn\\base.py:450: UserWarning: X does not have valid feature names, but StandardScaler was fitted with feature names\n",
      "  warnings.warn(\n",
      "C:\\Users\\DELL\\anaconda3\\lib\\site-packages\\sklearn\\base.py:450: UserWarning: X does not have valid feature names, but StandardScaler was fitted with feature names\n",
      "  warnings.warn(\n",
      "C:\\Users\\DELL\\anaconda3\\lib\\site-packages\\sklearn\\base.py:450: UserWarning: X does not have valid feature names, but StandardScaler was fitted with feature names\n",
      "  warnings.warn(\n"
     ]
    },
    {
     "name": "stdout",
     "output_type": "stream",
     "text": [
      "Happy [1.03096985e-04 9.99896696e-01 9.07765140e-08 1.16226188e-07]\n",
      "Happy [1.03096985e-04 9.99896696e-01 9.07765140e-08 1.16226188e-07]\n"
     ]
    },
    {
     "name": "stderr",
     "output_type": "stream",
     "text": [
      "C:\\Users\\DELL\\anaconda3\\lib\\site-packages\\sklearn\\base.py:450: UserWarning: X does not have valid feature names, but StandardScaler was fitted with feature names\n",
      "  warnings.warn(\n",
      "C:\\Users\\DELL\\anaconda3\\lib\\site-packages\\sklearn\\base.py:450: UserWarning: X does not have valid feature names, but StandardScaler was fitted with feature names\n",
      "  warnings.warn(\n",
      "C:\\Users\\DELL\\anaconda3\\lib\\site-packages\\sklearn\\base.py:450: UserWarning: X does not have valid feature names, but StandardScaler was fitted with feature names\n",
      "  warnings.warn(\n",
      "C:\\Users\\DELL\\anaconda3\\lib\\site-packages\\sklearn\\base.py:450: UserWarning: X does not have valid feature names, but StandardScaler was fitted with feature names\n",
      "  warnings.warn(\n"
     ]
    },
    {
     "name": "stdout",
     "output_type": "stream",
     "text": [
      "Happy [1.70927610e-05 9.99982700e-01 9.07843220e-08 1.16236185e-07]\n",
      "Happy [1.26508397e-05 9.99987142e-01 9.07847252e-08 1.16236701e-07]\n"
     ]
    },
    {
     "name": "stderr",
     "output_type": "stream",
     "text": [
      "C:\\Users\\DELL\\anaconda3\\lib\\site-packages\\sklearn\\base.py:450: UserWarning: X does not have valid feature names, but StandardScaler was fitted with feature names\n",
      "  warnings.warn(\n",
      "C:\\Users\\DELL\\anaconda3\\lib\\site-packages\\sklearn\\base.py:450: UserWarning: X does not have valid feature names, but StandardScaler was fitted with feature names\n",
      "  warnings.warn(\n",
      "C:\\Users\\DELL\\anaconda3\\lib\\site-packages\\sklearn\\base.py:450: UserWarning: X does not have valid feature names, but StandardScaler was fitted with feature names\n",
      "  warnings.warn(\n",
      "C:\\Users\\DELL\\anaconda3\\lib\\site-packages\\sklearn\\base.py:450: UserWarning: X does not have valid feature names, but StandardScaler was fitted with feature names\n",
      "  warnings.warn(\n"
     ]
    },
    {
     "name": "stdout",
     "output_type": "stream",
     "text": [
      "Happy [1.70927610e-05 9.99982700e-01 9.07843220e-08 1.16236185e-07]\n",
      "Happy [1.03096985e-04 9.99896696e-01 9.07765140e-08 1.16226188e-07]\n"
     ]
    },
    {
     "name": "stderr",
     "output_type": "stream",
     "text": [
      "C:\\Users\\DELL\\anaconda3\\lib\\site-packages\\sklearn\\base.py:450: UserWarning: X does not have valid feature names, but StandardScaler was fitted with feature names\n",
      "  warnings.warn(\n",
      "C:\\Users\\DELL\\anaconda3\\lib\\site-packages\\sklearn\\base.py:450: UserWarning: X does not have valid feature names, but StandardScaler was fitted with feature names\n",
      "  warnings.warn(\n",
      "C:\\Users\\DELL\\anaconda3\\lib\\site-packages\\sklearn\\base.py:450: UserWarning: X does not have valid feature names, but StandardScaler was fitted with feature names\n",
      "  warnings.warn(\n",
      "C:\\Users\\DELL\\anaconda3\\lib\\site-packages\\sklearn\\base.py:450: UserWarning: X does not have valid feature names, but StandardScaler was fitted with feature names\n",
      "  warnings.warn(\n"
     ]
    },
    {
     "name": "stdout",
     "output_type": "stream",
     "text": [
      "Happy [1.03096985e-04 9.99896696e-01 9.07765140e-08 1.16226188e-07]\n",
      "Happy [1.19831848e-04 9.99879961e-01 9.07749947e-08 1.16224242e-07]\n"
     ]
    },
    {
     "name": "stderr",
     "output_type": "stream",
     "text": [
      "C:\\Users\\DELL\\anaconda3\\lib\\site-packages\\sklearn\\base.py:450: UserWarning: X does not have valid feature names, but StandardScaler was fitted with feature names\n",
      "  warnings.warn(\n",
      "C:\\Users\\DELL\\anaconda3\\lib\\site-packages\\sklearn\\base.py:450: UserWarning: X does not have valid feature names, but StandardScaler was fitted with feature names\n",
      "  warnings.warn(\n",
      "C:\\Users\\DELL\\anaconda3\\lib\\site-packages\\sklearn\\base.py:450: UserWarning: X does not have valid feature names, but StandardScaler was fitted with feature names\n",
      "  warnings.warn(\n",
      "C:\\Users\\DELL\\anaconda3\\lib\\site-packages\\sklearn\\base.py:450: UserWarning: X does not have valid feature names, but StandardScaler was fitted with feature names\n",
      "  warnings.warn(\n"
     ]
    },
    {
     "name": "stdout",
     "output_type": "stream",
     "text": [
      "Happy [1.19831848e-04 9.99879961e-01 9.07749947e-08 1.16224242e-07]\n",
      "Happy [1.19831848e-04 9.99879961e-01 9.07749947e-08 1.16224242e-07]\n"
     ]
    },
    {
     "name": "stderr",
     "output_type": "stream",
     "text": [
      "C:\\Users\\DELL\\anaconda3\\lib\\site-packages\\sklearn\\base.py:450: UserWarning: X does not have valid feature names, but StandardScaler was fitted with feature names\n",
      "  warnings.warn(\n",
      "C:\\Users\\DELL\\anaconda3\\lib\\site-packages\\sklearn\\base.py:450: UserWarning: X does not have valid feature names, but StandardScaler was fitted with feature names\n",
      "  warnings.warn(\n",
      "C:\\Users\\DELL\\anaconda3\\lib\\site-packages\\sklearn\\base.py:450: UserWarning: X does not have valid feature names, but StandardScaler was fitted with feature names\n",
      "  warnings.warn(\n",
      "C:\\Users\\DELL\\anaconda3\\lib\\site-packages\\sklearn\\base.py:450: UserWarning: X does not have valid feature names, but StandardScaler was fitted with feature names\n",
      "  warnings.warn(\n"
     ]
    },
    {
     "name": "stdout",
     "output_type": "stream",
     "text": [
      "Happy [1.19831848e-04 9.99879961e-01 9.07749947e-08 1.16224242e-07]\n",
      "Happy [1.39255327e-04 9.99860538e-01 9.07732313e-08 1.16221985e-07]\n",
      "Happy [1.19831848e-04 9.99879961e-01 9.07749947e-08 1.16224242e-07]\n"
     ]
    },
    {
     "name": "stderr",
     "output_type": "stream",
     "text": [
      "C:\\Users\\DELL\\anaconda3\\lib\\site-packages\\sklearn\\base.py:450: UserWarning: X does not have valid feature names, but StandardScaler was fitted with feature names\n",
      "  warnings.warn(\n",
      "C:\\Users\\DELL\\anaconda3\\lib\\site-packages\\sklearn\\base.py:450: UserWarning: X does not have valid feature names, but StandardScaler was fitted with feature names\n",
      "  warnings.warn(\n"
     ]
    },
    {
     "ename": "KeyboardInterrupt",
     "evalue": "",
     "output_type": "error",
     "traceback": [
      "\u001B[1;31m---------------------------------------------------------------------------\u001B[0m",
      "\u001B[1;31mKeyboardInterrupt\u001B[0m                         Traceback (most recent call last)",
      "\u001B[1;32m~\\AppData\\Local\\Temp\\ipykernel_22560\\3595400073.py\u001B[0m in \u001B[0;36m<module>\u001B[1;34m\u001B[0m\n\u001B[0;32m     96\u001B[0m         \u001B[0mcv2\u001B[0m\u001B[1;33m.\u001B[0m\u001B[0mimshow\u001B[0m\u001B[1;33m(\u001B[0m\u001B[1;34m'Raw Webcam Feed'\u001B[0m\u001B[1;33m,\u001B[0m \u001B[0mimage\u001B[0m\u001B[1;33m)\u001B[0m\u001B[1;33m\u001B[0m\u001B[1;33m\u001B[0m\u001B[0m\n\u001B[0;32m     97\u001B[0m \u001B[1;33m\u001B[0m\u001B[0m\n\u001B[1;32m---> 98\u001B[1;33m         \u001B[1;32mif\u001B[0m \u001B[0mcv2\u001B[0m\u001B[1;33m.\u001B[0m\u001B[0mwaitKey\u001B[0m\u001B[1;33m(\u001B[0m\u001B[1;36m10\u001B[0m\u001B[1;33m)\u001B[0m \u001B[1;33m&\u001B[0m \u001B[1;36m0xFF\u001B[0m \u001B[1;33m==\u001B[0m \u001B[0mord\u001B[0m\u001B[1;33m(\u001B[0m\u001B[1;34m'q'\u001B[0m\u001B[1;33m)\u001B[0m\u001B[1;33m:\u001B[0m\u001B[1;33m\u001B[0m\u001B[1;33m\u001B[0m\u001B[0m\n\u001B[0m\u001B[0;32m     99\u001B[0m             \u001B[1;32mbreak\u001B[0m\u001B[1;33m\u001B[0m\u001B[1;33m\u001B[0m\u001B[0m\n\u001B[0;32m    100\u001B[0m \u001B[1;33m\u001B[0m\u001B[0m\n",
      "\u001B[1;31mKeyboardInterrupt\u001B[0m: "
     ]
    }
   ],
   "source": [
    "cap = cv2.VideoCapture(0)\n",
    "# Initiate holistic model\n",
    "with mp_holistic.Holistic(min_detection_confidence=0.5, min_tracking_confidence=0.5) as holistic:\n",
    "    \n",
    "    while cap.isOpened():\n",
    "        ret, frame = cap.read()\n",
    "        \n",
    "        # Recolor Feed\n",
    "        image = cv2.cvtColor(frame, cv2.COLOR_BGR2RGB)\n",
    "        image.flags.writeable = False        \n",
    "        \n",
    "        # Make Detections\n",
    "        results = holistic.process(image)\n",
    "        # print(results.face_landmarks)\n",
    "        \n",
    "        # face_landmarks, pose_landmarks, left_hand_landmarks, right_hand_landmarks\n",
    "        \n",
    "        # Recolor image back to BGR for rendering\n",
    "        image.flags.writeable = True   \n",
    "        image = cv2.cvtColor(image, cv2.COLOR_RGB2BGR)\n",
    "        \n",
    "        # 1. Draw face landmarks\n",
    "        mp_drawing.draw_landmarks(image, results.face_landmarks, mp_holistic.FACEMESH_CONTOURS, \n",
    "                                 mp_drawing.DrawingSpec(color=(80,110,10), thickness=1, circle_radius=1),\n",
    "                                 mp_drawing.DrawingSpec(color=(80,256,121), thickness=1, circle_radius=1)\n",
    "                                 )\n",
    "        \n",
    "        # 2. Right hand\n",
    "        mp_drawing.draw_landmarks(image, results.right_hand_landmarks, mp_holistic.HAND_CONNECTIONS, \n",
    "                                 mp_drawing.DrawingSpec(color=(80,22,10), thickness=2, circle_radius=4),\n",
    "                                 mp_drawing.DrawingSpec(color=(80,44,121), thickness=2, circle_radius=2)\n",
    "                                 )\n",
    "\n",
    "        # 3. Left Hand\n",
    "        mp_drawing.draw_landmarks(image, results.left_hand_landmarks, mp_holistic.HAND_CONNECTIONS, \n",
    "                                 mp_drawing.DrawingSpec(color=(121,22,76), thickness=2, circle_radius=4),\n",
    "                                 mp_drawing.DrawingSpec(color=(121,44,250), thickness=2, circle_radius=2)\n",
    "                                 )\n",
    "\n",
    "        # 4. Pose Detections\n",
    "        mp_drawing.draw_landmarks(image, results.pose_landmarks, mp_holistic.POSE_CONNECTIONS, \n",
    "                                 mp_drawing.DrawingSpec(color=(245,117,66), thickness=2, circle_radius=4),\n",
    "                                 mp_drawing.DrawingSpec(color=(245,66,230), thickness=2, circle_radius=2)\n",
    "                                 )\n",
    "        # Export coordinates\n",
    "        try:\n",
    "            # Extract Pose landmarks\n",
    "            pose = results.pose_landmarks.landmark\n",
    "            pose_row = list(np.array([[landmark.x, landmark.y, landmark.z, landmark.visibility] for landmark in pose]).flatten())\n",
    "            \n",
    "            # Extract Face landmarks\n",
    "            face = results.face_landmarks.landmark\n",
    "            face_row = list(np.array([[landmark.x, landmark.y, landmark.z, landmark.visibility] for landmark in face]).flatten())\n",
    "            \n",
    "            # Concate rows\n",
    "            row = pose_row+face_row\n",
    "\n",
    "            # Make Detections\n",
    "            X = pd.DataFrame([row])\n",
    "            body_language_class = model.predict(X)[0]\n",
    "            body_language_prob = model.predict_proba(X)[0]\n",
    "            print(body_language_class, body_language_prob)\n",
    "            \n",
    "            # Grab ear coords\n",
    "            coords = tuple(np.multiply(\n",
    "                            np.array(\n",
    "                                (results.pose_landmarks.landmark[mp_holistic.PoseLandmark.LEFT_EAR].x, \n",
    "                                 results.pose_landmarks.landmark[mp_holistic.PoseLandmark.LEFT_EAR].y))\n",
    "                        , [640,480]).astype(int))\n",
    "            \n",
    "            cv2.rectangle(image, \n",
    "                          (coords[0], coords[1]+5), \n",
    "                          (coords[0]+len(body_language_class)*20, coords[1]-30), \n",
    "                          (245, 117, 16), -1)\n",
    "            cv2.putText(image, body_language_class, coords, \n",
    "                        cv2.FONT_HERSHEY_SIMPLEX, 1, (255, 255, 255), 2, cv2.LINE_AA)\n",
    "            \n",
    "            # Get status box\n",
    "            cv2.rectangle(image, (0,0), (250, 60), (245, 117, 16), -1)\n",
    "            \n",
    "            # Display Class\n",
    "            cv2.putText(image, 'CLASS'\n",
    "                        , (95,12), cv2.FONT_HERSHEY_SIMPLEX, 0.5, (0, 0, 0), 1, cv2.LINE_AA)\n",
    "            cv2.putText(image, body_language_class.split(' ')[0]\n",
    "                        , (90,40), cv2.FONT_HERSHEY_SIMPLEX, 1, (255, 255, 255), 2, cv2.LINE_AA)\n",
    "            \n",
    "            # Display Probability\n",
    "            cv2.putText(image, 'PROB'\n",
    "                        , (15,12), cv2.FONT_HERSHEY_SIMPLEX, 0.5, (0, 0, 0), 1, cv2.LINE_AA)\n",
    "            cv2.putText(image, str(round(body_language_prob[np.argmax(body_language_prob)],2))\n",
    "                        , (10,40), cv2.FONT_HERSHEY_SIMPLEX, 1, (255, 255, 255), 2, cv2.LINE_AA)\n",
    "            \n",
    "        except:\n",
    "            pass\n",
    "                        \n",
    "        cv2.imshow('Raw Webcam Feed', image)\n",
    "\n",
    "        if cv2.waitKey(10) & 0xFF == ord('q'):\n",
    "            break\n",
    "\n",
    "cap.release()\n",
    "cv2.destroyAllWindows()"
   ]
  },
  {
   "cell_type": "code",
   "execution_count": 202,
   "id": "152a773f",
   "metadata": {},
   "outputs": [
    {
     "data": {
      "text/plain": [
       "(365, 291)"
      ]
     },
     "execution_count": 202,
     "metadata": {},
     "output_type": "execute_result"
    }
   ],
   "source": [
    "tuple(np.multiply(np.array((results.pose_landmarks.landmark[mp_holistic.PoseLandmark.LEFT_EAR].x, \n",
    "results.pose_landmarks.landmark[mp_holistic.PoseLandmark.LEFT_EAR].y)), [640,480]).astype(int))"
   ]
  },
  {
   "cell_type": "code",
   "execution_count": 65,
   "id": "f1ac47b2",
   "metadata": {},
   "outputs": [],
   "source": [
    "cap.release()\n",
    "cv2.destroyAllWindows()"
   ]
  },
  {
   "cell_type": "code",
   "execution_count": null,
   "id": "7515a9f7",
   "metadata": {},
   "outputs": [],
   "source": []
  }
 ],
 "metadata": {
  "kernelspec": {
   "display_name": "Python 3 (ipykernel)",
   "language": "python",
   "name": "python3"
  },
  "language_info": {
   "codemirror_mode": {
    "name": "ipython",
    "version": 3
   },
   "file_extension": ".py",
   "mimetype": "text/x-python",
   "name": "python",
   "nbconvert_exporter": "python",
   "pygments_lexer": "ipython3",
   "version": "3.9.13"
  }
 },
 "nbformat": 4,
 "nbformat_minor": 5
}
