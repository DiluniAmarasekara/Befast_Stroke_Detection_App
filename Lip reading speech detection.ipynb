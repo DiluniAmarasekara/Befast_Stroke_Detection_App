{
 "cells": [
  {
   "cell_type": "markdown",
   "id": "03cfb760",
   "metadata": {},
   "source": [
    "<h1 align=\"center\"> Lip Sync Prediction <h1>\n",
    "    \n",
    "<p style=\"text-align:center\"><img src=\"https://www.reallusion.com/iclone/includes/images/lipsync-animation/lipsync-animation-cc-base-expression-data-4.jpg\"/></p>"
   ]
  },
  {
   "cell_type": "markdown",
   "id": "0efc1c3b",
   "metadata": {},
   "source": [
    "## Download and Import Libraries"
   ]
  },
  {
   "cell_type": "code",
   "execution_count": 1,
   "id": "17d82bd6",
   "metadata": {
    "execution": {
     "iopub.execute_input": "2023-05-17T21:20:14.775073Z",
     "iopub.status.busy": "2023-05-17T21:20:14.774410Z",
     "iopub.status.idle": "2023-05-17T21:20:28.594708Z",
     "shell.execute_reply": "2023-05-17T21:20:28.593508Z",
     "shell.execute_reply.started": "2023-05-17T21:20:14.775038Z"
    }
   },
   "outputs": [
    {
     "name": "stdout",
     "output_type": "stream",
     "text": [
      "\u001b[33mWARNING: Running pip as the 'root' user can result in broken permissions and conflicting behaviour with the system package manager. It is recommended to use a virtual environment instead: https://pip.pypa.io/warnings/venv\u001b[0m\u001b[33m\n",
      "\u001b[0m"
     ]
    }
   ],
   "source": [
    "!pip install gdown --quiet"
   ]
  },
  {
   "cell_type": "code",
   "execution_count": 2,
   "id": "643f095f",
   "metadata": {
    "tags": []
   },
   "outputs": [],
   "source": [
    "import os\n",
    "import cv2\n",
    "import tensorflow as tf\n",
    "import numpy as np\n",
    "from typing import List\n",
    "import imageio\n",
    "import matplotlib.pyplot as plt\n",
    "# Change - New Libraries\n",
    "import seaborn as sns\n",
    "from sklearn.metrics import confusion_matrix\n",
    "import nltk"
   ]
  },
  {
   "cell_type": "code",
   "execution_count": 2,
   "id": "b8842ace",
   "metadata": {
    "tags": []
   },
   "outputs": [],
   "source": [
    "# Change - Set Tensorflow Seed\n",
    "tf.random.set_seed(123)"
   ]
  },
  {
   "cell_type": "code",
   "execution_count": 3,
   "id": "4bc3d4bc",
   "metadata": {
    "scrolled": true,
    "tags": []
   },
   "outputs": [
    {
     "data": {
      "text/plain": [
       "[PhysicalDevice(name='/physical_device:GPU:0', device_type='GPU')]"
      ]
     },
     "execution_count": 3,
     "metadata": {},
     "output_type": "execute_result"
    }
   ],
   "source": [
    "tf.config.list_physical_devices('GPU')"
   ]
  },
  {
   "cell_type": "code",
   "execution_count": 5,
   "id": "39a361ce",
   "metadata": {
    "execution": {
     "iopub.execute_input": "2023-05-17T21:20:45.594418Z",
     "iopub.status.busy": "2023-05-17T21:20:45.594049Z",
     "iopub.status.idle": "2023-05-17T21:20:45.777910Z",
     "shell.execute_reply": "2023-05-17T21:20:45.776878Z",
     "shell.execute_reply.started": "2023-05-17T21:20:45.594386Z"
    }
   },
   "outputs": [],
   "source": [
    "import gdown"
   ]
  },
  {
   "cell_type": "code",
   "execution_count": 104,
   "id": "7c586974",
   "metadata": {
    "execution": {
     "iopub.execute_input": "2023-05-17T22:20:21.911316Z",
     "iopub.status.busy": "2023-05-17T22:20:21.910897Z",
     "iopub.status.idle": "2023-05-17T22:20:21.915740Z",
     "shell.execute_reply": "2023-05-17T22:20:21.914490Z",
     "shell.execute_reply.started": "2023-05-17T22:20:21.911286Z"
    }
   },
   "outputs": [],
   "source": [
    "# url = 'https://drive.google.com/uc?id=1YlvpDLix3S-U8fd-gqRwPcWXAXm8JwjL'\n",
    "# output = 'data.zip'\n",
    "# gdown.download(url, output, quiet=False)\n",
    "# gdown.extractall('data.zip')"
   ]
  },
  {
   "cell_type": "markdown",
   "id": "70dd49dc",
   "metadata": {},
   "source": [
    "## Load and Preprocess Data"
   ]
  },
  {
   "cell_type": "code",
   "execution_count": 7,
   "id": "8188fb70",
   "metadata": {
    "execution": {
     "iopub.execute_input": "2023-05-17T21:21:01.820040Z",
     "iopub.status.busy": "2023-05-17T21:21:01.817373Z",
     "iopub.status.idle": "2023-05-17T21:21:01.826750Z",
     "shell.execute_reply": "2023-05-17T21:21:01.825349Z",
     "shell.execute_reply.started": "2023-05-17T21:21:01.820010Z"
    }
   },
   "outputs": [],
   "source": [
    "def load_video(path:str) -> List[float]: \n",
    "\n",
    "    cap = cv2.VideoCapture(path)\n",
    "    frames = []\n",
    "    for _ in range(int(cap.get(cv2.CAP_PROP_FRAME_COUNT))): \n",
    "        ret, frame = cap.read()\n",
    "        frame = tf.image.rgb_to_grayscale(frame)\n",
    "        frames.append(frame[190:236,80:220,:])\n",
    "    cap.release()\n",
    "    \n",
    "    mean = tf.math.reduce_mean(frames)\n",
    "    std = tf.math.reduce_std(tf.cast(frames, tf.float32))\n",
    "#     Issue with Precision due to data mismatch\n",
    "#     return tf.cast((frames - mean), tf.float32) / std\n",
    "    return (tf.cast(frames, tf.float32) - tf.cast(mean, tf.float32)) / std"
   ]
  },
  {
   "cell_type": "code",
   "execution_count": 8,
   "id": "eb4e6834",
   "metadata": {
    "execution": {
     "iopub.execute_input": "2023-05-17T21:21:01.828850Z",
     "iopub.status.busy": "2023-05-17T21:21:01.828458Z",
     "iopub.status.idle": "2023-05-17T21:21:01.836321Z",
     "shell.execute_reply": "2023-05-17T21:21:01.835429Z",
     "shell.execute_reply.started": "2023-05-17T21:21:01.828815Z"
    }
   },
   "outputs": [],
   "source": [
    "vocab = [x for x in \"abcdefghijklmnopqrstuvwxyz'?!123456789 \"]"
   ]
  },
  {
   "cell_type": "code",
   "execution_count": 9,
   "id": "08ed929a",
   "metadata": {
    "execution": {
     "iopub.execute_input": "2023-05-17T21:21:01.839735Z",
     "iopub.status.busy": "2023-05-17T21:21:01.839252Z",
     "iopub.status.idle": "2023-05-17T21:21:01.848053Z",
     "shell.execute_reply": "2023-05-17T21:21:01.846982Z",
     "shell.execute_reply.started": "2023-05-17T21:21:01.839701Z"
    }
   },
   "outputs": [
    {
     "data": {
      "text/plain": [
       "['a',\n",
       " 'b',\n",
       " 'c',\n",
       " 'd',\n",
       " 'e',\n",
       " 'f',\n",
       " 'g',\n",
       " 'h',\n",
       " 'i',\n",
       " 'j',\n",
       " 'k',\n",
       " 'l',\n",
       " 'm',\n",
       " 'n',\n",
       " 'o',\n",
       " 'p',\n",
       " 'q',\n",
       " 'r',\n",
       " 's',\n",
       " 't',\n",
       " 'u',\n",
       " 'v',\n",
       " 'w',\n",
       " 'x',\n",
       " 'y',\n",
       " 'z',\n",
       " \"'\",\n",
       " '?',\n",
       " '!',\n",
       " '1',\n",
       " '2',\n",
       " '3',\n",
       " '4',\n",
       " '5',\n",
       " '6',\n",
       " '7',\n",
       " '8',\n",
       " '9',\n",
       " ' ']"
      ]
     },
     "execution_count": 9,
     "metadata": {},
     "output_type": "execute_result"
    }
   ],
   "source": [
    "vocab"
   ]
  },
  {
   "cell_type": "code",
   "execution_count": 10,
   "id": "72d42bd3",
   "metadata": {
    "execution": {
     "iopub.execute_input": "2023-05-17T21:21:01.850043Z",
     "iopub.status.busy": "2023-05-17T21:21:01.849588Z",
     "iopub.status.idle": "2023-05-17T21:21:04.513199Z",
     "shell.execute_reply": "2023-05-17T21:21:04.512142Z",
     "shell.execute_reply.started": "2023-05-17T21:21:01.850009Z"
    }
   },
   "outputs": [
    {
     "name": "stdout",
     "output_type": "stream",
     "text": [
      "The vocabulary is: ['', 'a', 'b', 'c', 'd', 'e', 'f', 'g', 'h', 'i', 'j', 'k', 'l', 'm', 'n', 'o', 'p', 'q', 'r', 's', 't', 'u', 'v', 'w', 'x', 'y', 'z', \"'\", '?', '!', '1', '2', '3', '4', '5', '6', '7', '8', '9', ' '] (size =40)\n"
     ]
    }
   ],
   "source": [
    "char_to_num = tf.keras.layers.StringLookup(vocabulary=vocab, oov_token=\"\")\n",
    "num_to_char = tf.keras.layers.StringLookup(\n",
    "    vocabulary=char_to_num.get_vocabulary(), oov_token=\"\", invert=True\n",
    ")\n",
    "\n",
    "print(\n",
    "    f\"The vocabulary is: {char_to_num.get_vocabulary()} \"\n",
    "    f\"(size ={char_to_num.vocabulary_size()})\"\n",
    ")"
   ]
  },
  {
   "cell_type": "code",
   "execution_count": 11,
   "id": "73fa8d95",
   "metadata": {
    "execution": {
     "iopub.execute_input": "2023-05-17T21:21:04.515037Z",
     "iopub.status.busy": "2023-05-17T21:21:04.514694Z",
     "iopub.status.idle": "2023-05-17T21:21:04.521782Z",
     "shell.execute_reply": "2023-05-17T21:21:04.520585Z",
     "shell.execute_reply.started": "2023-05-17T21:21:04.515003Z"
    }
   },
   "outputs": [],
   "source": [
    "def load_alignments(path:str) -> List[str]: \n",
    "    with open(path, 'r') as f: \n",
    "        lines = f.readlines() \n",
    "    tokens = []\n",
    "    for line in lines:\n",
    "        line = line.split()\n",
    "        if line[2] != 'sil': \n",
    "            tokens = [*tokens,' ',line[2]]\n",
    "    return char_to_num(tf.reshape(tf.strings.unicode_split(tokens, input_encoding='UTF-8'), (-1)))[1:]"
   ]
  },
  {
   "cell_type": "code",
   "execution_count": 12,
   "id": "f550cd1f",
   "metadata": {
    "execution": {
     "iopub.execute_input": "2023-05-17T21:21:04.524457Z",
     "iopub.status.busy": "2023-05-17T21:21:04.524029Z",
     "iopub.status.idle": "2023-05-17T21:21:04.533160Z",
     "shell.execute_reply": "2023-05-17T21:21:04.531871Z",
     "shell.execute_reply.started": "2023-05-17T21:21:04.524410Z"
    }
   },
   "outputs": [],
   "source": [
    "def load_data(path: str): \n",
    "    path = bytes.decode(path.numpy())\n",
    "    #file_name = path.split('/')[-1].split('.')[0]\n",
    "    # File name splitting for windows\n",
    "    # Change - Changed Path Delimeter from \\\\ -> /\n",
    "    file_name = path.split('/')[-1].split('.')[0]\n",
    "    video_path = os.path.join('data','s1',f'{file_name}.mpg')\n",
    "    alignment_path = os.path.join('data','alignments','s1',f'{file_name}.align')\n",
    "    frames = load_video(video_path) \n",
    "    alignments = load_alignments(alignment_path)\n",
    "    \n",
    "    return frames, alignments"
   ]
  },
  {
   "cell_type": "code",
   "execution_count": 13,
   "id": "695a7cf8",
   "metadata": {
    "execution": {
     "iopub.execute_input": "2023-05-17T21:21:04.535184Z",
     "iopub.status.busy": "2023-05-17T21:21:04.534801Z",
     "iopub.status.idle": "2023-05-17T21:21:04.545282Z",
     "shell.execute_reply": "2023-05-17T21:21:04.544292Z",
     "shell.execute_reply.started": "2023-05-17T21:21:04.535110Z"
    }
   },
   "outputs": [],
   "source": [
    "# test_path = '.\\\\data\\\\s1\\\\bbal6n.mpg'\n",
    "test_path = \"./data/s1/bbal6n.mpg\""
   ]
  },
  {
   "cell_type": "code",
   "execution_count": 14,
   "id": "7cb0265d",
   "metadata": {
    "execution": {
     "iopub.execute_input": "2023-05-17T21:21:04.547097Z",
     "iopub.status.busy": "2023-05-17T21:21:04.546685Z",
     "iopub.status.idle": "2023-05-17T21:21:07.812895Z",
     "shell.execute_reply": "2023-05-17T21:21:07.811934Z",
     "shell.execute_reply.started": "2023-05-17T21:21:04.547064Z"
    }
   },
   "outputs": [],
   "source": [
    "frames, alignments = load_data(tf.convert_to_tensor(test_path))"
   ]
  },
  {
   "cell_type": "code",
   "execution_count": 15,
   "id": "bf00bb62",
   "metadata": {
    "execution": {
     "iopub.execute_input": "2023-05-17T21:21:07.816469Z",
     "iopub.status.busy": "2023-05-17T21:21:07.816109Z",
     "iopub.status.idle": "2023-05-17T21:21:08.063707Z",
     "shell.execute_reply": "2023-05-17T21:21:08.062686Z",
     "shell.execute_reply.started": "2023-05-17T21:21:07.816419Z"
    }
   },
   "outputs": [
    {
     "data": {
      "text/plain": [
       "<matplotlib.image.AxesImage at 0x7977583c3ee0>"
      ]
     },
     "execution_count": 15,
     "metadata": {},
     "output_type": "execute_result"
    },
    {
     "data": {
      "image/png": "[encoded data removed]",
      "text/plain": [
       "<Figure size 640x480 with 1 Axes>"
      ]
     },
     "metadata": {},
     "output_type": "display_data"
    }
   ],
   "source": [
    "plt.imshow(frames[40])"
   ]
  },
  {
   "cell_type": "code",
   "execution_count": 16,
   "id": "8207ed35-3770-4239-817d-0b37de619df4",
   "metadata": {
    "tags": []
   },
   "outputs": [
    {
     "data": {
      "text/plain": [
       "<matplotlib.image.AxesImage at 0x1c92f5ddc40>"
      ]
     },
     "execution_count": 16,
     "metadata": {},
     "output_type": "execute_result"
    },
    {
     "data": {
      "image/png": "[encoded data removed]",
      "text/plain": [
       "<Figure size 640x480 with 1 Axes>"
      ]
     },
     "metadata": {},
     "output_type": "display_data"
    }
   ],
   "source": [
    "# After Solving Precision issue\n",
    "plt.imshow(frames[1])"
   ]
  },
  {
   "cell_type": "code",
   "execution_count": 16,
   "id": "d14a0804",
   "metadata": {
    "execution": {
     "iopub.execute_input": "2023-05-17T21:21:08.065457Z",
     "iopub.status.busy": "2023-05-17T21:21:08.064957Z",
     "iopub.status.idle": "2023-05-17T21:21:08.075960Z",
     "shell.execute_reply": "2023-05-17T21:21:08.074511Z",
     "shell.execute_reply.started": "2023-05-17T21:21:08.065405Z"
    }
   },
   "outputs": [
    {
     "data": {
      "text/plain": [
       "<tf.Tensor: shape=(21,), dtype=int64, numpy=\n",
       "array([ 2,  9, 14, 39,  2, 12, 21,  5, 39,  1, 20, 39, 12, 39, 19,  9, 24,\n",
       "       39, 14, 15, 23])>"
      ]
     },
     "execution_count": 16,
     "metadata": {},
     "output_type": "execute_result"
    }
   ],
   "source": [
    "alignments"
   ]
  },
  {
   "cell_type": "code",
   "execution_count": 17,
   "id": "3311431b",
   "metadata": {
    "execution": {
     "iopub.execute_input": "2023-05-17T21:21:08.077596Z",
     "iopub.status.busy": "2023-05-17T21:21:08.077293Z",
     "iopub.status.idle": "2023-05-17T21:21:08.091247Z",
     "shell.execute_reply": "2023-05-17T21:21:08.090109Z",
     "shell.execute_reply.started": "2023-05-17T21:21:08.077569Z"
    }
   },
   "outputs": [
    {
     "data": {
      "text/plain": [
       "<tf.Tensor: shape=(), dtype=string, numpy=b'bin blue at l six now'>"
      ]
     },
     "execution_count": 17,
     "metadata": {},
     "output_type": "execute_result"
    }
   ],
   "source": [
    "tf.strings.reduce_join([bytes.decode(x) for x in num_to_char(alignments.numpy()).numpy()])"
   ]
  },
  {
   "cell_type": "code",
   "execution_count": 18,
   "id": "699c23eb",
   "metadata": {
    "execution": {
     "iopub.execute_input": "2023-05-17T21:21:08.093198Z",
     "iopub.status.busy": "2023-05-17T21:21:08.092836Z",
     "iopub.status.idle": "2023-05-17T21:21:08.099317Z",
     "shell.execute_reply": "2023-05-17T21:21:08.097414Z",
     "shell.execute_reply.started": "2023-05-17T21:21:08.093162Z"
    }
   },
   "outputs": [],
   "source": [
    "def mappable_function(path:str) ->List[str]:\n",
    "    with tf.device(\"/cpu:0\"):\n",
    "        result = tf.py_function(load_data, [path], (tf.float32, tf.int64))\n",
    "        return result"
   ]
  },
  {
   "cell_type": "code",
   "execution_count": 19,
   "id": "61e0cbc8",
   "metadata": {
    "execution": {
     "iopub.execute_input": "2023-05-17T21:21:08.101544Z",
     "iopub.status.busy": "2023-05-17T21:21:08.101019Z",
     "iopub.status.idle": "2023-05-17T21:21:08.108177Z",
     "shell.execute_reply": "2023-05-17T21:21:08.107072Z",
     "shell.execute_reply.started": "2023-05-17T21:21:08.101507Z"
    }
   },
   "outputs": [],
   "source": [
    "from matplotlib import pyplot as plt"
   ]
  },
  {
   "cell_type": "code",
   "execution_count": 59,
   "id": "6cc817d3",
   "metadata": {
    "execution": {
     "iopub.execute_input": "2023-05-17T21:34:53.551258Z",
     "iopub.status.busy": "2023-05-17T21:34:53.550223Z",
     "iopub.status.idle": "2023-05-17T21:34:53.583567Z",
     "shell.execute_reply": "2023-05-17T21:34:53.582656Z",
     "shell.execute_reply.started": "2023-05-17T21:34:53.551218Z"
    }
   },
   "outputs": [],
   "source": [
    "data = tf.data.Dataset.list_files('./data/s1/*.mpg')\n",
    "# Change - Changed name from \"data\" to \"data_shuffled\" so that we can use it later if needed, also added seed\n",
    "data_shuffled = data.shuffle(500, reshuffle_each_iteration=False, seed=123)\n",
    "data = data_shuffled.map(mappable_function)\n",
    "data = data.padded_batch(2, padded_shapes=([75,None,None,None],[40]))\n",
    "data = data.prefetch(tf.data.AUTOTUNE)\n",
    "# Added for split \n",
    "# Change - Setup the Train and test appropriately considering the dastset size of 500\n",
    "train = data.take(450)\n",
    "test = data.skip(450)"
   ]
  },
  {
   "cell_type": "code",
   "execution_count": 65,
   "id": "d00fe021",
   "metadata": {
    "execution": {
     "iopub.execute_input": "2023-05-17T21:36:41.025875Z",
     "iopub.status.busy": "2023-05-17T21:36:41.025518Z",
     "iopub.status.idle": "2023-05-17T21:36:41.210398Z",
     "shell.execute_reply": "2023-05-17T21:36:41.209491Z",
     "shell.execute_reply.started": "2023-05-17T21:36:41.025845Z"
    }
   },
   "outputs": [
    {
     "data": {
      "text/plain": [
       "100"
      ]
     },
     "execution_count": 65,
     "metadata": {},
     "output_type": "execute_result"
    }
   ],
   "source": [
    "len([x.decode('utf-8') for x in list(data_shuffled.as_numpy_iterator())][:100])"
   ]
  },
  {
   "cell_type": "code",
   "execution_count": 22,
   "id": "a83d9b93",
   "metadata": {
    "execution": {
     "iopub.execute_input": "2023-05-17T21:21:20.105330Z",
     "iopub.status.busy": "2023-05-17T21:21:20.104637Z",
     "iopub.status.idle": "2023-05-17T21:21:20.114452Z",
     "shell.execute_reply": "2023-05-17T21:21:20.113465Z",
     "shell.execute_reply.started": "2023-05-17T21:21:20.105291Z"
    }
   },
   "outputs": [
    {
     "data": {
      "text/plain": [
       "50"
      ]
     },
     "execution_count": 22,
     "metadata": {},
     "output_type": "execute_result"
    }
   ],
   "source": [
    "len(test)"
   ]
  },
  {
   "cell_type": "code",
   "execution_count": 22,
   "id": "5401e0ea",
   "metadata": {
    "execution": {
     "iopub.execute_input": "2023-05-17T20:14:08.719548Z",
     "iopub.status.busy": "2023-05-17T20:14:08.718715Z",
     "iopub.status.idle": "2023-05-17T20:14:09.462235Z",
     "shell.execute_reply": "2023-05-17T20:14:09.461125Z",
     "shell.execute_reply.started": "2023-05-17T20:14:08.719510Z"
    }
   },
   "outputs": [],
   "source": [
    "frames, alignments = data.as_numpy_iterator().next()"
   ]
  },
  {
   "cell_type": "code",
   "execution_count": 23,
   "id": "dd89a2b3",
   "metadata": {
    "execution": {
     "iopub.execute_input": "2023-05-17T20:14:09.464646Z",
     "iopub.status.busy": "2023-05-17T20:14:09.464246Z",
     "iopub.status.idle": "2023-05-17T20:14:09.472431Z",
     "shell.execute_reply": "2023-05-17T20:14:09.470291Z",
     "shell.execute_reply.started": "2023-05-17T20:14:09.464611Z"
    }
   },
   "outputs": [
    {
     "data": {
      "text/plain": [
       "2"
      ]
     },
     "execution_count": 23,
     "metadata": {},
     "output_type": "execute_result"
    }
   ],
   "source": [
    "len(frames)"
   ]
  },
  {
   "cell_type": "code",
   "execution_count": 24,
   "id": "1a126dce",
   "metadata": {
    "execution": {
     "iopub.execute_input": "2023-05-17T20:14:10.664607Z",
     "iopub.status.busy": "2023-05-17T20:14:10.663745Z",
     "iopub.status.idle": "2023-05-17T20:14:10.676825Z",
     "shell.execute_reply": "2023-05-17T20:14:10.675731Z",
     "shell.execute_reply.started": "2023-05-17T20:14:10.664561Z"
    }
   },
   "outputs": [],
   "source": [
    "test = data.as_numpy_iterator()"
   ]
  },
  {
   "cell_type": "code",
   "execution_count": 105,
   "id": "222cbeef",
   "metadata": {
    "execution": {
     "iopub.execute_input": "2023-05-17T22:20:29.885410Z",
     "iopub.status.busy": "2023-05-17T22:20:29.885047Z",
     "iopub.status.idle": "2023-05-17T22:20:29.892598Z",
     "shell.execute_reply": "2023-05-17T22:20:29.891485Z",
     "shell.execute_reply.started": "2023-05-17T22:20:29.885378Z"
    }
   },
   "outputs": [],
   "source": [
    "# val = test.next(); val[0]"
   ]
  },
  {
   "cell_type": "code",
   "execution_count": 89,
   "id": "f0d42361",
   "metadata": {
    "execution": {
     "iopub.execute_input": "2023-05-17T20:03:21.188496Z",
     "iopub.status.busy": "2023-05-17T20:03:21.185194Z",
     "iopub.status.idle": "2023-05-17T20:03:21.552323Z",
     "shell.execute_reply": "2023-05-17T20:03:21.549681Z",
     "shell.execute_reply.started": "2023-05-17T20:03:21.188449Z"
    }
   },
   "outputs": [],
   "source": [
    "imageio.mimsave('./animation.gif', val[0][0], fps=10)"
   ]
  },
  {
   "cell_type": "code",
   "execution_count": 90,
   "id": "899f1679",
   "metadata": {
    "execution": {
     "iopub.execute_input": "2023-05-17T20:03:26.573806Z",
     "iopub.status.busy": "2023-05-17T20:03:26.573447Z",
     "iopub.status.idle": "2023-05-17T20:03:26.791631Z",
     "shell.execute_reply": "2023-05-17T20:03:26.790728Z",
     "shell.execute_reply.started": "2023-05-17T20:03:26.573777Z"
    }
   },
   "outputs": [
    {
     "data": {
      "text/plain": [
       "<matplotlib.image.AxesImage at 0x7901c685e020>"
      ]
     },
     "execution_count": 90,
     "metadata": {},
     "output_type": "execute_result"
    },
    {
     "data": {
      "image/png": "[encoded data removed]",
      "text/plain": [
       "<Figure size 640x480 with 1 Axes>"
      ]
     },
     "metadata": {},
     "output_type": "display_data"
    }
   ],
   "source": [
    "# 0:videos, 0: 1st video out of the batch,  0: return the first frame in the video \n",
    "plt.imshow(val[0][0][35])"
   ]
  },
  {
   "cell_type": "code",
   "execution_count": 91,
   "id": "167b7268",
   "metadata": {
    "execution": {
     "iopub.execute_input": "2023-05-17T20:03:26.914061Z",
     "iopub.status.busy": "2023-05-17T20:03:26.913168Z",
     "iopub.status.idle": "2023-05-17T20:03:26.969320Z",
     "shell.execute_reply": "2023-05-17T20:03:26.968471Z",
     "shell.execute_reply.started": "2023-05-17T20:03:26.914022Z"
    }
   },
   "outputs": [
    {
     "data": {
      "text/plain": [
       "<tf.Tensor: shape=(), dtype=string, numpy=b'set blue with o two please'>"
      ]
     },
     "execution_count": 91,
     "metadata": {},
     "output_type": "execute_result"
    }
   ],
   "source": [
    "tf.strings.reduce_join([num_to_char(word) for word in val[1][0]])"
   ]
  },
  {
   "cell_type": "code",
   "execution_count": 23,
   "id": "9ccf6dd7",
   "metadata": {
    "execution": {
     "iopub.execute_input": "2023-05-17T21:21:32.891007Z",
     "iopub.status.busy": "2023-05-17T21:21:32.890374Z",
     "iopub.status.idle": "2023-05-17T21:21:32.900288Z",
     "shell.execute_reply": "2023-05-17T21:21:32.899406Z",
     "shell.execute_reply.started": "2023-05-17T21:21:32.890970Z"
    }
   },
   "outputs": [],
   "source": [
    "from tensorflow.keras.models import Sequential \n",
    "from tensorflow.keras.layers import Conv3D, LSTM, Dense, Dropout, Bidirectional, MaxPool3D, Activation, Reshape, SpatialDropout3D, BatchNormalization, TimeDistributed, Flatten\n",
    "from tensorflow.keras.callbacks import ModelCheckpoint, LearningRateScheduler, EarlyStopping\n",
    "from tensorflow.keras.optimizers import legacy"
   ]
  },
  {
   "cell_type": "code",
   "execution_count": 24,
   "id": "7e32a04b",
   "metadata": {
    "execution": {
     "iopub.execute_input": "2023-05-17T21:21:33.115397Z",
     "iopub.status.busy": "2023-05-17T21:21:33.114373Z",
     "iopub.status.idle": "2023-05-17T21:21:33.864653Z",
     "shell.execute_reply": "2023-05-17T21:21:33.863640Z",
     "shell.execute_reply.started": "2023-05-17T21:21:33.115348Z"
    }
   },
   "outputs": [
    {
     "data": {
      "text/plain": [
       "(75, 46, 140, 1)"
      ]
     },
     "execution_count": 24,
     "metadata": {},
     "output_type": "execute_result"
    }
   ],
   "source": [
    "data.as_numpy_iterator().next()[0][0].shape"
   ]
  },
  {
   "cell_type": "markdown",
   "id": "eb2ef3a0",
   "metadata": {},
   "source": [
    "## Model Building"
   ]
  },
  {
   "cell_type": "code",
   "execution_count": 25,
   "id": "d2432bd7",
   "metadata": {
    "execution": {
     "iopub.execute_input": "2023-05-17T21:21:33.867388Z",
     "iopub.status.busy": "2023-05-17T21:21:33.866526Z",
     "iopub.status.idle": "2023-05-17T21:21:36.408127Z",
     "shell.execute_reply": "2023-05-17T21:21:36.407143Z",
     "shell.execute_reply.started": "2023-05-17T21:21:33.867348Z"
    }
   },
   "outputs": [],
   "source": [
    "model = Sequential()\n",
    "model.add(Conv3D(128, 3, input_shape=(75,46,140,1), padding='same'))\n",
    "model.add(Activation('relu'))\n",
    "model.add(MaxPool3D((1,2,2)))\n",
    "\n",
    "model.add(Conv3D(256, 3, padding='same'))\n",
    "model.add(Activation('relu'))\n",
    "model.add(MaxPool3D((1,2,2)))\n",
    "\n",
    "model.add(Conv3D(75, 3, padding='same'))\n",
    "model.add(Activation('relu'))\n",
    "model.add(MaxPool3D((1,2,2)))\n",
    "\n",
    "model.add(TimeDistributed(Flatten()))\n",
    "\n",
    "model.add(Bidirectional(LSTM(128, kernel_initializer='Orthogonal', return_sequences=True)))\n",
    "model.add(Dropout(.5))\n",
    "\n",
    "model.add(Bidirectional(LSTM(128, kernel_initializer='Orthogonal', return_sequences=True)))\n",
    "model.add(Dropout(.5))\n",
    "\n",
    "model.add(Dense(char_to_num.vocabulary_size()+1, kernel_initializer='he_normal', activation='softmax'))"
   ]
  },
  {
   "cell_type": "code",
   "execution_count": 26,
   "id": "8b9b3e3f",
   "metadata": {
    "execution": {
     "iopub.execute_input": "2023-05-17T21:21:36.411379Z",
     "iopub.status.busy": "2023-05-17T21:21:36.409387Z",
     "iopub.status.idle": "2023-05-17T21:21:36.449275Z",
     "shell.execute_reply": "2023-05-17T21:21:36.448559Z",
     "shell.execute_reply.started": "2023-05-17T21:21:36.411343Z"
    }
   },
   "outputs": [
    {
     "name": "stdout",
     "output_type": "stream",
     "text": [
      "Model: \"sequential\"\n",
      "_________________________________________________________________\n",
      " Layer (type)                Output Shape              Param #   \n",
      "=================================================================\n",
      " conv3d (Conv3D)             (None, 75, 46, 140, 128)  3584      \n",
      "                                                                 \n",
      " activation (Activation)     (None, 75, 46, 140, 128)  0         \n",
      "                                                                 \n",
      " max_pooling3d (MaxPooling3D  (None, 75, 23, 70, 128)  0         \n",
      " )                                                               \n",
      "                                                                 \n",
      " conv3d_1 (Conv3D)           (None, 75, 23, 70, 256)   884992    \n",
      "                                                                 \n",
      " activation_1 (Activation)   (None, 75, 23, 70, 256)   0         \n",
      "                                                                 \n",
      " max_pooling3d_1 (MaxPooling  (None, 75, 11, 35, 256)  0         \n",
      " 3D)                                                             \n",
      "                                                                 \n",
      " conv3d_2 (Conv3D)           (None, 75, 11, 35, 75)    518475    \n",
      "                                                                 \n",
      " activation_2 (Activation)   (None, 75, 11, 35, 75)    0         \n",
      "                                                                 \n",
      " max_pooling3d_2 (MaxPooling  (None, 75, 5, 17, 75)    0         \n",
      " 3D)                                                             \n",
      "                                                                 \n",
      " time_distributed (TimeDistr  (None, 75, 6375)         0         \n",
      " ibuted)                                                         \n",
      "                                                                 \n",
      " bidirectional (Bidirectiona  (None, 75, 256)          6660096   \n",
      " l)                                                              \n",
      "                                                                 \n",
      " dropout (Dropout)           (None, 75, 256)           0         \n",
      "                                                                 \n",
      " bidirectional_1 (Bidirectio  (None, 75, 256)          394240    \n",
      " nal)                                                            \n",
      "                                                                 \n",
      " dropout_1 (Dropout)         (None, 75, 256)           0         \n",
      "                                                                 \n",
      " dense (Dense)               (None, 75, 41)            10537     \n",
      "                                                                 \n",
      "=================================================================\n",
      "Total params: 8,471,924\n",
      "Trainable params: 8,471,924\n",
      "Non-trainable params: 0\n",
      "_________________________________________________________________\n"
     ]
    }
   ],
   "source": [
    "model.summary()"
   ]
  },
  {
   "cell_type": "code",
   "execution_count": 27,
   "id": "e795e0f1",
   "metadata": {
    "execution": {
     "iopub.execute_input": "2023-05-17T21:21:36.451684Z",
     "iopub.status.busy": "2023-05-17T21:21:36.451269Z",
     "iopub.status.idle": "2023-05-17T21:21:36.462207Z",
     "shell.execute_reply": "2023-05-17T21:21:36.461391Z",
     "shell.execute_reply.started": "2023-05-17T21:21:36.451657Z"
    }
   },
   "outputs": [
    {
     "data": {
      "text/plain": [
       "6375"
      ]
     },
     "execution_count": 27,
     "metadata": {},
     "output_type": "execute_result"
    }
   ],
   "source": [
    "5*17*75"
   ]
  },
  {
   "cell_type": "code",
   "execution_count": 106,
   "id": "0fdb570e",
   "metadata": {
    "execution": {
     "iopub.execute_input": "2023-05-17T22:20:36.080052Z",
     "iopub.status.busy": "2023-05-17T22:20:36.079690Z",
     "iopub.status.idle": "2023-05-17T22:20:36.087631Z",
     "shell.execute_reply": "2023-05-17T22:20:36.086653Z",
     "shell.execute_reply.started": "2023-05-17T22:20:36.080022Z"
    }
   },
   "outputs": [],
   "source": [
    "# yhat = model.predict(val[0])"
   ]
  },
  {
   "cell_type": "code",
   "execution_count": null,
   "id": "7f2700d3",
   "metadata": {
    "execution": {
     "iopub.status.busy": "2023-05-17T21:21:36.719054Z",
     "iopub.status.idle": "2023-05-17T21:21:36.719586Z",
     "shell.execute_reply": "2023-05-17T21:21:36.719319Z",
     "shell.execute_reply.started": "2023-05-17T21:21:36.719295Z"
    }
   },
   "outputs": [],
   "source": [
    "tf.strings.reduce_join([num_to_char(x) for x in tf.argmax(yhat[0],axis=1)])"
   ]
  },
  {
   "cell_type": "code",
   "execution_count": null,
   "id": "041420ae",
   "metadata": {
    "execution": {
     "iopub.status.busy": "2023-05-17T21:21:36.721533Z",
     "iopub.status.idle": "2023-05-17T21:21:36.722000Z",
     "shell.execute_reply": "2023-05-17T21:21:36.721786Z",
     "shell.execute_reply.started": "2023-05-17T21:21:36.721764Z"
    }
   },
   "outputs": [],
   "source": [
    "tf.strings.reduce_join([num_to_char(tf.argmax(x)) for x in yhat[0]])"
   ]
  },
  {
   "cell_type": "code",
   "execution_count": null,
   "id": "08445b1d",
   "metadata": {
    "execution": {
     "iopub.status.busy": "2023-05-17T21:21:36.723837Z",
     "iopub.status.idle": "2023-05-17T21:21:36.724295Z",
     "shell.execute_reply": "2023-05-17T21:21:36.724082Z",
     "shell.execute_reply.started": "2023-05-17T21:21:36.724061Z"
    }
   },
   "outputs": [],
   "source": [
    "model.input_shape"
   ]
  },
  {
   "cell_type": "code",
   "execution_count": 29,
   "id": "899aec83",
   "metadata": {
    "execution": {
     "iopub.execute_input": "2023-05-17T21:21:37.676758Z",
     "iopub.status.busy": "2023-05-17T21:21:37.676045Z",
     "iopub.status.idle": "2023-05-17T21:21:37.684580Z",
     "shell.execute_reply": "2023-05-17T21:21:37.683520Z",
     "shell.execute_reply.started": "2023-05-17T21:21:37.676727Z"
    }
   },
   "outputs": [
    {
     "data": {
      "text/plain": [
       "(None, 75, 41)"
      ]
     },
     "execution_count": 29,
     "metadata": {},
     "output_type": "execute_result"
    }
   ],
   "source": [
    "model.output_shape"
   ]
  },
  {
   "cell_type": "code",
   "execution_count": 107,
   "id": "e161df23",
   "metadata": {
    "execution": {
     "iopub.execute_input": "2023-05-17T22:24:10.871056Z",
     "iopub.status.busy": "2023-05-17T22:24:10.870629Z",
     "iopub.status.idle": "2023-05-17T22:24:10.876359Z",
     "shell.execute_reply": "2023-05-17T22:24:10.875387Z",
     "shell.execute_reply.started": "2023-05-17T22:24:10.871025Z"
    }
   },
   "outputs": [],
   "source": [
    "def scheduler(epoch, lr):\n",
    "    if epoch < 30:\n",
    "        return lr\n",
    "    else:\n",
    "        return lr * tf.math.exp(-0.1)"
   ]
  },
  {
   "cell_type": "code",
   "execution_count": 108,
   "id": "1afb3132",
   "metadata": {
    "execution": {
     "iopub.execute_input": "2023-05-17T22:24:11.080539Z",
     "iopub.status.busy": "2023-05-17T22:24:11.079625Z",
     "iopub.status.idle": "2023-05-17T22:24:11.087360Z",
     "shell.execute_reply": "2023-05-17T22:24:11.086432Z",
     "shell.execute_reply.started": "2023-05-17T22:24:11.080486Z"
    }
   },
   "outputs": [],
   "source": [
    "def CTCLoss(y_true, y_pred):\n",
    "    batch_len = tf.cast(tf.shape(y_true)[0], dtype=\"int64\")\n",
    "    input_length = tf.cast(tf.shape(y_pred)[1], dtype=\"int64\")\n",
    "    label_length = tf.cast(tf.shape(y_true)[1], dtype=\"int64\")\n",
    "\n",
    "    input_length = input_length * tf.ones(shape=(batch_len, 1), dtype=\"int64\")\n",
    "    label_length = label_length * tf.ones(shape=(batch_len, 1), dtype=\"int64\")\n",
    "\n",
    "    loss = tf.keras.backend.ctc_batch_cost(y_true, y_pred, input_length, label_length)\n",
    "    return loss"
   ]
  },
  {
   "cell_type": "code",
   "execution_count": 120,
   "id": "1f9f1976",
   "metadata": {
    "execution": {
     "iopub.execute_input": "2023-05-17T22:49:46.980480Z",
     "iopub.status.busy": "2023-05-17T22:49:46.980037Z",
     "iopub.status.idle": "2023-05-17T22:49:46.988815Z",
     "shell.execute_reply": "2023-05-17T22:49:46.987290Z",
     "shell.execute_reply.started": "2023-05-17T22:49:46.980421Z"
    }
   },
   "outputs": [],
   "source": [
    "class ProduceExample(tf.keras.callbacks.Callback): \n",
    "    def __init__(self, dataset) -> None: \n",
    "        self.dataset = dataset.as_numpy_iterator()\n",
    "#         self.dataset = dataset\n",
    "    \n",
    "    def on_epoch_end(self, epoch, logs=None) -> None:\n",
    "        data = self.dataset.next()\n",
    "        yhat = self.model.predict(data[0])\n",
    "        decoded = tf.keras.backend.ctc_decode(yhat, [75,75], greedy=False)[0][0].numpy()\n",
    "        for x in range(len(yhat)):           \n",
    "            print('Original:', tf.strings.reduce_join(num_to_char(data[1][x])).numpy().decode('utf-8'))\n",
    "            print('Prediction:', tf.strings.reduce_join(num_to_char(decoded[x])).numpy().decode('utf-8'))\n",
    "            print('~'*100)"
   ]
  },
  {
   "cell_type": "code",
   "execution_count": 121,
   "id": "bf2cadf6",
   "metadata": {
    "execution": {
     "iopub.execute_input": "2023-05-17T22:49:48.305677Z",
     "iopub.status.busy": "2023-05-17T22:49:48.304943Z",
     "iopub.status.idle": "2023-05-17T22:49:48.319300Z",
     "shell.execute_reply": "2023-05-17T22:49:48.318345Z",
     "shell.execute_reply.started": "2023-05-17T22:49:48.305639Z"
    }
   },
   "outputs": [],
   "source": [
    "model.compile(optimizer=legacy.Adam(learning_rate=0.0001), loss=CTCLoss)"
   ]
  },
  {
   "cell_type": "markdown",
   "id": "3f8a9246",
   "metadata": {},
   "source": [
    "## Model Training"
   ]
  },
  {
   "cell_type": "code",
   "execution_count": 122,
   "id": "990dd61d",
   "metadata": {
    "execution": {
     "iopub.execute_input": "2023-05-17T22:49:49.625534Z",
     "iopub.status.busy": "2023-05-17T22:49:49.624791Z",
     "iopub.status.idle": "2023-05-17T22:49:49.631129Z",
     "shell.execute_reply": "2023-05-17T22:49:49.630147Z",
     "shell.execute_reply.started": "2023-05-17T22:49:49.625479Z"
    }
   },
   "outputs": [],
   "source": [
    "checkpoint_callback = ModelCheckpoint(os.path.join('models','checkpoint'), monitor='loss', save_weights_only=True) "
   ]
  },
  {
   "cell_type": "code",
   "execution_count": 123,
   "id": "d3f1681c",
   "metadata": {
    "execution": {
     "iopub.execute_input": "2023-05-17T22:49:49.900745Z",
     "iopub.status.busy": "2023-05-17T22:49:49.899752Z",
     "iopub.status.idle": "2023-05-17T22:49:49.906038Z",
     "shell.execute_reply": "2023-05-17T22:49:49.904903Z",
     "shell.execute_reply.started": "2023-05-17T22:49:49.900703Z"
    }
   },
   "outputs": [],
   "source": [
    "schedule_callback = LearningRateScheduler(scheduler)"
   ]
  },
  {
   "cell_type": "code",
   "execution_count": 124,
   "id": "88e49983",
   "metadata": {
    "execution": {
     "iopub.execute_input": "2023-05-17T22:49:50.240407Z",
     "iopub.status.busy": "2023-05-17T22:49:50.239385Z",
     "iopub.status.idle": "2023-05-17T22:49:50.252351Z",
     "shell.execute_reply": "2023-05-17T22:49:50.251229Z",
     "shell.execute_reply.started": "2023-05-17T22:49:50.240363Z"
    }
   },
   "outputs": [],
   "source": [
    "example_callback = ProduceExample(test)"
   ]
  },
  {
   "cell_type": "code",
   "execution_count": 125,
   "id": "9be4455e",
   "metadata": {
    "execution": {
     "iopub.execute_input": "2023-05-17T22:49:50.540403Z",
     "iopub.status.busy": "2023-05-17T22:49:50.539707Z",
     "iopub.status.idle": "2023-05-17T22:49:50.545102Z",
     "shell.execute_reply": "2023-05-17T22:49:50.544095Z",
     "shell.execute_reply.started": "2023-05-17T22:49:50.540365Z"
    }
   },
   "outputs": [],
   "source": [
    "# Change - Added Early Stopping Callback to prevent overfiiting\n",
    "earl_stopping_callback = EarlyStopping(monitor=\"val_loss\", patience=5)"
   ]
  },
  {
   "cell_type": "code",
   "execution_count": null,
   "id": "47806710",
   "metadata": {
    "execution": {
     "iopub.execute_input": "2023-05-17T22:49:51.785151Z",
     "iopub.status.busy": "2023-05-17T22:49:51.784771Z"
    }
   },
   "outputs": [
    {
     "name": "stdout",
     "output_type": "stream",
     "text": [
      "Epoch 1/100\n",
      " 46/450 [==>...........................] - ETA: 5:29 - loss: 4.5487"
     ]
    }
   ],
   "source": [
    "model.fit(train, validation_data=test, epochs=100, callbacks=[checkpoint_callback, schedule_callback, example_callback, earl_stopping_callback])"
   ]
  },
  {
   "cell_type": "markdown",
   "id": "4e602b04",
   "metadata": {},
   "source": [
    "## Evaluation"
   ]
  },
  {
   "cell_type": "code",
   "execution_count": 34,
   "id": "770f2cba",
   "metadata": {
    "execution": {
     "iopub.execute_input": "2023-05-17T21:21:47.125369Z",
     "iopub.status.busy": "2023-05-17T21:21:47.124800Z",
     "iopub.status.idle": "2023-05-17T21:21:49.932228Z",
     "shell.execute_reply": "2023-05-17T21:21:49.931315Z",
     "shell.execute_reply.started": "2023-05-17T21:21:47.125324Z"
    }
   },
   "outputs": [
    {
     "name": "stderr",
     "output_type": "stream",
     "text": [
      "Downloading...\n",
      "From (uriginal): https://drive.google.com/uc?id=1vWscXs4Vt0a_1IH1-ct2TCgXAZT-N3_Y\n",
      "From (redirected): https://drive.google.com/uc?id=1vWscXs4Vt0a_1IH1-ct2TCgXAZT-N3_Y&confirm=t&uuid=bd2eacdf-f2c9-4211-8e6f-12d431ea25f9\n",
      "To: /kaggle/working/checkpoints.zip\n",
      "100%|██████████| 94.5M/94.5M [00:01<00:00, 92.0MB/s]\n"
     ]
    },
    {
     "data": {
      "text/plain": [
       "['models/checkpoint.index',\n",
       " 'models/__MACOSX/._checkpoint.index',\n",
       " 'models/checkpoint.data-00000-of-00001',\n",
       " 'models/__MACOSX/._checkpoint.data-00000-of-00001',\n",
       " 'models/checkpoint',\n",
       " 'models/__MACOSX/._checkpoint']"
      ]
     },
     "execution_count": 34,
     "metadata": {},
     "output_type": "execute_result"
    }
   ],
   "source": [
    "url = 'https://drive.google.com/uc?id=1vWscXs4Vt0a_1IH1-ct2TCgXAZT-N3_Y'\n",
    "output = 'checkpoints.zip'\n",
    "gdown.download(url, output, quiet=False)\n",
    "gdown.extractall('checkpoints.zip', 'models')"
   ]
  },
  {
   "cell_type": "code",
   "execution_count": 35,
   "id": "d7fbb08d",
   "metadata": {
    "execution": {
     "iopub.execute_input": "2023-05-17T21:21:51.115476Z",
     "iopub.status.busy": "2023-05-17T21:21:51.114478Z",
     "iopub.status.idle": "2023-05-17T21:21:51.325656Z",
     "shell.execute_reply": "2023-05-17T21:21:51.324711Z",
     "shell.execute_reply.started": "2023-05-17T21:21:51.115407Z"
    }
   },
   "outputs": [
    {
     "data": {
      "text/plain": [
       "<tensorflow.python.checkpoint.checkpoint.CheckpointLoadStatus at 0x797751332b60>"
      ]
     },
     "execution_count": 35,
     "metadata": {},
     "output_type": "execute_result"
    }
   ],
   "source": [
    "model.load_weights('models/checkpoint')"
   ]
  },
  {
   "cell_type": "code",
   "execution_count": 37,
   "id": "01d7cc11",
   "metadata": {
    "execution": {
     "iopub.execute_input": "2023-05-17T21:22:15.120583Z",
     "iopub.status.busy": "2023-05-17T21:22:15.120032Z",
     "iopub.status.idle": "2023-05-17T21:22:15.152308Z",
     "shell.execute_reply": "2023-05-17T21:22:15.151191Z",
     "shell.execute_reply.started": "2023-05-17T21:22:15.120536Z"
    }
   },
   "outputs": [],
   "source": [
    "# Change - Converted test to numpy iterator\n",
    "test = test.as_numpy_iterator()"
   ]
  },
  {
   "cell_type": "code",
   "execution_count": 36,
   "id": "172bc177",
   "metadata": {
    "execution": {
     "iopub.execute_input": "2023-05-17T21:21:56.074958Z",
     "iopub.status.busy": "2023-05-17T21:21:56.074595Z",
     "iopub.status.idle": "2023-05-17T21:21:56.081609Z",
     "shell.execute_reply": "2023-05-17T21:21:56.080336Z",
     "shell.execute_reply.started": "2023-05-17T21:21:56.074927Z"
    }
   },
   "outputs": [
    {
     "data": {
      "text/plain": [
       "<SkipDataset element_spec=(TensorSpec(shape=(None, 75, None, None, None), dtype=tf.float32, name=None), TensorSpec(shape=(None, 40), dtype=tf.int64, name=None))>"
      ]
     },
     "execution_count": 36,
     "metadata": {},
     "output_type": "execute_result"
    }
   ],
   "source": [
    "test"
   ]
  },
  {
   "cell_type": "code",
   "execution_count": 46,
   "id": "2dbcbd55",
   "metadata": {
    "execution": {
     "iopub.execute_input": "2023-05-17T21:26:21.052867Z",
     "iopub.status.busy": "2023-05-17T21:26:21.052516Z",
     "iopub.status.idle": "2023-05-17T21:26:21.057281Z",
     "shell.execute_reply": "2023-05-17T21:26:21.056239Z",
     "shell.execute_reply.started": "2023-05-17T21:26:21.052830Z"
    }
   },
   "outputs": [],
   "source": [
    "# test_data = test.as_numpy_iterator()"
   ]
  },
  {
   "cell_type": "code",
   "execution_count": 40,
   "id": "f5ef0f9f",
   "metadata": {
    "execution": {
     "iopub.execute_input": "2023-05-17T21:22:50.250588Z",
     "iopub.status.busy": "2023-05-17T21:22:50.250196Z",
     "iopub.status.idle": "2023-05-17T21:26:14.580502Z",
     "shell.execute_reply": "2023-05-17T21:26:14.579262Z",
     "shell.execute_reply.started": "2023-05-17T21:22:50.250556Z"
    }
   },
   "outputs": [],
   "source": [
    "sample = test.next()"
   ]
  },
  {
   "cell_type": "code",
   "execution_count": 41,
   "id": "6df76412",
   "metadata": {
    "execution": {
     "iopub.execute_input": "2023-05-17T21:26:14.586237Z",
     "iopub.status.busy": "2023-05-17T21:26:14.585936Z",
     "iopub.status.idle": "2023-05-17T21:26:14.601763Z",
     "shell.execute_reply": "2023-05-17T21:26:14.600649Z",
     "shell.execute_reply.started": "2023-05-17T21:26:14.586210Z"
    }
   },
   "outputs": [
    {
     "data": {
      "text/plain": [
       "(2, 75, 46, 140, 1)"
      ]
     },
     "execution_count": 41,
     "metadata": {},
     "output_type": "execute_result"
    }
   ],
   "source": [
    "sample[0].shape"
   ]
  },
  {
   "cell_type": "code",
   "execution_count": 42,
   "id": "91f94278",
   "metadata": {
    "execution": {
     "iopub.execute_input": "2023-05-17T21:26:14.603795Z",
     "iopub.status.busy": "2023-05-17T21:26:14.603325Z",
     "iopub.status.idle": "2023-05-17T21:26:20.786368Z",
     "shell.execute_reply": "2023-05-17T21:26:20.785485Z",
     "shell.execute_reply.started": "2023-05-17T21:26:14.603760Z"
    }
   },
   "outputs": [
    {
     "name": "stdout",
     "output_type": "stream",
     "text": [
      "1/1 [==============================] - 6s 6s/step\n"
     ]
    }
   ],
   "source": [
    "yhat = model.predict(sample[0])"
   ]
  },
  {
   "cell_type": "code",
   "execution_count": 43,
   "id": "7c8b4091",
   "metadata": {
    "execution": {
     "iopub.execute_input": "2023-05-17T21:26:20.790071Z",
     "iopub.status.busy": "2023-05-17T21:26:20.789262Z",
     "iopub.status.idle": "2023-05-17T21:26:20.877379Z",
     "shell.execute_reply": "2023-05-17T21:26:20.876439Z",
     "shell.execute_reply.started": "2023-05-17T21:26:20.790030Z"
    }
   },
   "outputs": [
    {
     "name": "stdout",
     "output_type": "stream",
     "text": [
      "~~~~~~~~~~~~~~~~~~~~~~~~~~~~~~~~~~~~~~~~~~~~~~~~~~~~~~~~~~~~~~~~~~~~~~~~~~~~~~~~~~~~~~~~~~~~~~~~~~~~ REAL TEXT\n"
     ]
    },
    {
     "data": {
      "text/plain": [
       "[<tf.Tensor: shape=(), dtype=string, numpy=b'lay red at k seven soon'>,\n",
       " <tf.Tensor: shape=(), dtype=string, numpy=b'place blue in b six now'>]"
      ]
     },
     "execution_count": 43,
     "metadata": {},
     "output_type": "execute_result"
    }
   ],
   "source": [
    "print('~'*100, 'REAL TEXT')\n",
    "[tf.strings.reduce_join([num_to_char(word) for word in sentence]) for sentence in sample[1]]"
   ]
  },
  {
   "cell_type": "code",
   "execution_count": 44,
   "id": "1897c58c",
   "metadata": {
    "execution": {
     "iopub.execute_input": "2023-05-17T21:26:20.879496Z",
     "iopub.status.busy": "2023-05-17T21:26:20.878670Z",
     "iopub.status.idle": "2023-05-17T21:26:20.902414Z",
     "shell.execute_reply": "2023-05-17T21:26:20.901483Z",
     "shell.execute_reply.started": "2023-05-17T21:26:20.879435Z"
    }
   },
   "outputs": [],
   "source": [
    "decoded = tf.keras.backend.ctc_decode(yhat, input_length=[75,75], greedy=True)[0][0].numpy()"
   ]
  },
  {
   "cell_type": "code",
   "execution_count": 45,
   "id": "2393b703",
   "metadata": {
    "execution": {
     "iopub.execute_input": "2023-05-17T21:26:20.906415Z",
     "iopub.status.busy": "2023-05-17T21:26:20.906081Z",
     "iopub.status.idle": "2023-05-17T21:26:21.051297Z",
     "shell.execute_reply": "2023-05-17T21:26:21.050325Z",
     "shell.execute_reply.started": "2023-05-17T21:26:20.906387Z"
    }
   },
   "outputs": [
    {
     "name": "stdout",
     "output_type": "stream",
     "text": [
      "~~~~~~~~~~~~~~~~~~~~~~~~~~~~~~~~~~~~~~~~~~~~~~~~~~~~~~~~~~~~~~~~~~~~~~~~~~~~~~~~~~~~~~~~~~~~~~~~~~~~ PREDICTIONS\n"
     ]
    },
    {
     "data": {
      "text/plain": [
       "[<tf.Tensor: shape=(), dtype=string, numpy=b'lay red at k seven soon'>,\n",
       " <tf.Tensor: shape=(), dtype=string, numpy=b'place blue in b six now'>]"
      ]
     },
     "execution_count": 45,
     "metadata": {},
     "output_type": "execute_result"
    }
   ],
   "source": [
    "print('~'*100, 'PREDICTIONS')\n",
    "[tf.strings.reduce_join([num_to_char(word) for word in sentence]) for sentence in decoded]"
   ]
  },
  {
   "cell_type": "code",
   "execution_count": 49,
   "id": "12c991bc",
   "metadata": {
    "execution": {
     "iopub.execute_input": "2023-05-17T20:16:04.395816Z",
     "iopub.status.busy": "2023-05-17T20:16:04.395429Z",
     "iopub.status.idle": "2023-05-17T20:16:04.637128Z",
     "shell.execute_reply": "2023-05-17T20:16:04.636123Z",
     "shell.execute_reply.started": "2023-05-17T20:16:04.395780Z"
    }
   },
   "outputs": [],
   "source": [
    "sample = load_data(tf.convert_to_tensor('./data/s1/lgil7a.mpg'))"
   ]
  },
  {
   "cell_type": "code",
   "execution_count": 50,
   "id": "5e107234",
   "metadata": {
    "execution": {
     "iopub.execute_input": "2023-05-17T20:16:04.639128Z",
     "iopub.status.busy": "2023-05-17T20:16:04.638772Z",
     "iopub.status.idle": "2023-05-17T20:16:04.683086Z",
     "shell.execute_reply": "2023-05-17T20:16:04.681048Z",
     "shell.execute_reply.started": "2023-05-17T20:16:04.639094Z"
    }
   },
   "outputs": [
    {
     "name": "stdout",
     "output_type": "stream",
     "text": [
      "~~~~~~~~~~~~~~~~~~~~~~~~~~~~~~~~~~~~~~~~~~~~~~~~~~~~~~~~~~~~~~~~~~~~~~~~~~~~~~~~~~~~~~~~~~~~~~~~~~~~ REAL TEXT\n"
     ]
    },
    {
     "data": {
      "text/plain": [
       "[<tf.Tensor: shape=(), dtype=string, numpy=b'lay green in l seven again'>]"
      ]
     },
     "execution_count": 50,
     "metadata": {},
     "output_type": "execute_result"
    }
   ],
   "source": [
    "print('~'*100, 'REAL TEXT')\n",
    "[tf.strings.reduce_join([num_to_char(word) for word in sentence]) for sentence in [sample[1]]]"
   ]
  },
  {
   "cell_type": "code",
   "execution_count": 51,
   "id": "0e94ac8a",
   "metadata": {
    "execution": {
     "iopub.execute_input": "2023-05-17T20:16:04.686461Z",
     "iopub.status.busy": "2023-05-17T20:16:04.686140Z",
     "iopub.status.idle": "2023-05-17T20:16:05.054938Z",
     "shell.execute_reply": "2023-05-17T20:16:05.053824Z",
     "shell.execute_reply.started": "2023-05-17T20:16:04.686432Z"
    }
   },
   "outputs": [
    {
     "name": "stdout",
     "output_type": "stream",
     "text": [
      "1/1 [==============================] - 0s 321ms/step\n"
     ]
    }
   ],
   "source": [
    "yhat = model.predict(tf.expand_dims(sample[0], axis=0))"
   ]
  },
  {
   "cell_type": "code",
   "execution_count": 52,
   "id": "322a4544",
   "metadata": {
    "execution": {
     "iopub.execute_input": "2023-05-17T20:16:05.057423Z",
     "iopub.status.busy": "2023-05-17T20:16:05.056666Z",
     "iopub.status.idle": "2023-05-17T20:16:05.070483Z",
     "shell.execute_reply": "2023-05-17T20:16:05.069290Z",
     "shell.execute_reply.started": "2023-05-17T20:16:05.057384Z"
    }
   },
   "outputs": [],
   "source": [
    "decoded = tf.keras.backend.ctc_decode(yhat, input_length=[75], greedy=True)[0][0].numpy()"
   ]
  },
  {
   "cell_type": "code",
   "execution_count": 88,
   "id": "e61241ea",
   "metadata": {
    "execution": {
     "iopub.execute_input": "2023-05-17T20:36:24.699542Z",
     "iopub.status.busy": "2023-05-17T20:36:24.699023Z",
     "iopub.status.idle": "2023-05-17T20:36:24.791756Z",
     "shell.execute_reply": "2023-05-17T20:36:24.790819Z",
     "shell.execute_reply.started": "2023-05-17T20:36:24.699500Z"
    }
   },
   "outputs": [
    {
     "name": "stdout",
     "output_type": "stream",
     "text": [
      "~~~~~~~~~~~~~~~~~~~~~~~~~~~~~~~~~~~~~~~~~~~~~~~~~~~~~~~~~~~~~~~~~~~~~~~~~~~~~~~~~~~~~~~~~~~~~~~~~~~~ PREDICTIONS\n"
     ]
    },
    {
     "data": {
      "text/plain": [
       "[<tf.Tensor: shape=(), dtype=string, numpy=b'set white with v seven soon'>]"
      ]
     },
     "execution_count": 88,
     "metadata": {},
     "output_type": "execute_result"
    }
   ],
   "source": [
    "print('~'*100, 'PREDICTIONS')\n",
    "[tf.strings.reduce_join([num_to_char(word).numpy() for word in sentence]) for sentence in decoded]"
   ]
  },
  {
   "cell_type": "code",
   "execution_count": null,
   "id": "1dfec8cc",
   "metadata": {},
   "outputs": [],
   "source": [
    "# confusion metrics, tts, accuracy, f1 score ----> improvements, create UI"
   ]
  },
  {
   "cell_type": "markdown",
   "id": "925ac615",
   "metadata": {},
   "source": [
    "### Major Changes - Evaluation"
   ]
  },
  {
   "cell_type": "markdown",
   "id": "6edb1108",
   "metadata": {},
   "source": [
    "### Get Predictions"
   ]
  },
  {
   "cell_type": "code",
   "execution_count": 47,
   "id": "db2edce3",
   "metadata": {
    "execution": {
     "iopub.execute_input": "2023-05-17T21:26:21.059460Z",
     "iopub.status.busy": "2023-05-17T21:26:21.058832Z",
     "iopub.status.idle": "2023-05-17T21:26:21.067579Z",
     "shell.execute_reply": "2023-05-17T21:26:21.066570Z",
     "shell.execute_reply.started": "2023-05-17T21:26:21.059405Z"
    }
   },
   "outputs": [],
   "source": [
    "def decode_to_text(inp_arr):\n",
    "    decoded_arr = []\n",
    "    \n",
    "    for ele in inp_arr:\n",
    "#         tf string is eager tensor\n",
    "        tf_string = tf.strings.reduce_join([num_to_char(word) for word in ele])\n",
    "#     Convert eager tensor to numpy first., then you get bytes not a string,then you have to decode the bytes to convert it to a python string\n",
    "        decoded_arr.append(str(tf_string.numpy().decode('utf-8')))\n",
    "        \n",
    "    if len(decoded_arr) == 1:\n",
    "        return decoded_arr[0]\n",
    "    return decoded_arr"
   ]
  },
  {
   "cell_type": "code",
   "execution_count": 48,
   "id": "c20b69ed",
   "metadata": {
    "execution": {
     "iopub.execute_input": "2023-05-17T21:26:21.069776Z",
     "iopub.status.busy": "2023-05-17T21:26:21.069116Z",
     "iopub.status.idle": "2023-05-17T21:26:21.119438Z",
     "shell.execute_reply": "2023-05-17T21:26:21.118437Z",
     "shell.execute_reply.started": "2023-05-17T21:26:21.069741Z"
    }
   },
   "outputs": [
    {
     "data": {
      "text/plain": [
       "'set white with v seven soon'"
      ]
     },
     "execution_count": 48,
     "metadata": {},
     "output_type": "execute_result"
    }
   ],
   "source": [
    "decode_to_text([[19, 5, 20, 39, 23, 8, 9, 20, 5, 39, 23, 9, 20, 8, 39, 22, 39, 19, 5, 22, 5, 14, 39, 19, 15, 15, 14, 0, 0, 0, 0, 0, 0, 0, 0, 0, 0, 0, 0, 0, 0, 0]\n",
    "               ])"
   ]
  },
  {
   "cell_type": "code",
   "execution_count": 49,
   "id": "b72ec5d3",
   "metadata": {
    "execution": {
     "iopub.execute_input": "2023-05-17T21:26:21.123117Z",
     "iopub.status.busy": "2023-05-17T21:26:21.122824Z",
     "iopub.status.idle": "2023-05-17T21:26:21.129538Z",
     "shell.execute_reply": "2023-05-17T21:26:21.128337Z",
     "shell.execute_reply.started": "2023-05-17T21:26:21.123091Z"
    }
   },
   "outputs": [],
   "source": [
    "def get_predictions(data):\n",
    "    predicted_text_arr = []\n",
    "    \n",
    "    pred = model.predict(data)\n",
    "    for data_slice in pred:\n",
    "#         np.newaxis adds a new axis to the data slice such that it is comptible with the model imput dimensions\n",
    "        decoded = tf.keras.backend.ctc_decode(data_slice[np.newaxis,...], input_length=[75], greedy=True)[0][0].numpy()\n",
    "        text_output = decode_to_text(decoded)\n",
    "        predicted_text_arr.append(text_output)\n",
    "    \n",
    "    return predicted_text_arr"
   ]
  },
  {
   "cell_type": "code",
   "execution_count": 50,
   "id": "8d0cdc91",
   "metadata": {
    "execution": {
     "iopub.execute_input": "2023-05-17T21:26:21.131926Z",
     "iopub.status.busy": "2023-05-17T21:26:21.131501Z",
     "iopub.status.idle": "2023-05-17T21:26:21.138702Z",
     "shell.execute_reply": "2023-05-17T21:26:21.137621Z",
     "shell.execute_reply.started": "2023-05-17T21:26:21.131891Z"
    }
   },
   "outputs": [],
   "source": [
    "# ground_truths is y_test\n",
    "# predicted labels is y_pred\n",
    "ground_truths = []\n",
    "predicted_labels = []"
   ]
  },
  {
   "cell_type": "code",
   "execution_count": 53,
   "id": "f19da081",
   "metadata": {
    "execution": {
     "iopub.execute_input": "2023-05-17T21:26:59.036099Z",
     "iopub.status.busy": "2023-05-17T21:26:59.035542Z",
     "iopub.status.idle": "2023-05-17T21:26:59.049574Z",
     "shell.execute_reply": "2023-05-17T21:26:59.048477Z",
     "shell.execute_reply.started": "2023-05-17T21:26:59.036060Z"
    }
   },
   "outputs": [
    {
     "name": "stderr",
     "output_type": "stream",
     "text": [
      "  0%|          | 0/50 [00:00<?, ?it/s]"
     ]
    }
   ],
   "source": [
    "from tqdm import tqdm\n",
    "progress_bar = tqdm(total=50)"
   ]
  },
  {
   "cell_type": "code",
   "execution_count": 54,
   "id": "65979a26",
   "metadata": {
    "execution": {
     "iopub.execute_input": "2023-05-17T21:27:21.066093Z",
     "iopub.status.busy": "2023-05-17T21:27:21.065359Z",
     "iopub.status.idle": "2023-05-17T21:28:02.382121Z",
     "shell.execute_reply": "2023-05-17T21:28:02.381142Z",
     "shell.execute_reply.started": "2023-05-17T21:27:21.066056Z"
    }
   },
   "outputs": [
    {
     "name": "stdout",
     "output_type": "stream",
     "text": [
      "1/1 [==============================] - 0s 190ms/step\n"
     ]
    },
    {
     "name": "stderr",
     "output_type": "stream",
     "text": [
      "  2%|▏         | 1/50 [00:22<18:32, 22.71s/it]"
     ]
    },
    {
     "name": "stdout",
     "output_type": "stream",
     "text": [
      "1/1 [==============================] - 0s 176ms/step\n"
     ]
    },
    {
     "name": "stderr",
     "output_type": "stream",
     "text": [
      "  4%|▍         | 2/50 [00:23<07:47,  9.73s/it]"
     ]
    },
    {
     "name": "stdout",
     "output_type": "stream",
     "text": [
      "1/1 [==============================] - 0s 180ms/step\n"
     ]
    },
    {
     "name": "stderr",
     "output_type": "stream",
     "text": [
      "  6%|▌         | 3/50 [00:23<04:22,  5.58s/it]"
     ]
    },
    {
     "name": "stdout",
     "output_type": "stream",
     "text": [
      "1/1 [==============================] - 0s 195ms/step\n"
     ]
    },
    {
     "name": "stderr",
     "output_type": "stream",
     "text": [
      "  8%|▊         | 4/50 [00:24<02:46,  3.62s/it]"
     ]
    },
    {
     "name": "stdout",
     "output_type": "stream",
     "text": [
      "1/1 [==============================] - 0s 177ms/step\n"
     ]
    },
    {
     "name": "stderr",
     "output_type": "stream",
     "text": [
      " 10%|█         | 5/50 [00:25<01:54,  2.54s/it]"
     ]
    },
    {
     "name": "stdout",
     "output_type": "stream",
     "text": [
      "1/1 [==============================] - 0s 192ms/step\n"
     ]
    },
    {
     "name": "stderr",
     "output_type": "stream",
     "text": [
      " 12%|█▏        | 6/50 [00:26<01:26,  1.97s/it]"
     ]
    },
    {
     "name": "stdout",
     "output_type": "stream",
     "text": [
      "1/1 [==============================] - 0s 170ms/step\n"
     ]
    },
    {
     "name": "stderr",
     "output_type": "stream",
     "text": [
      " 14%|█▍        | 7/50 [00:26<01:08,  1.60s/it]"
     ]
    },
    {
     "name": "stdout",
     "output_type": "stream",
     "text": [
      "1/1 [==============================] - 0s 181ms/step\n"
     ]
    },
    {
     "name": "stderr",
     "output_type": "stream",
     "text": [
      " 16%|█▌        | 8/50 [00:27<00:59,  1.41s/it]"
     ]
    },
    {
     "name": "stdout",
     "output_type": "stream",
     "text": [
      "1/1 [==============================] - 0s 182ms/step\n"
     ]
    },
    {
     "name": "stderr",
     "output_type": "stream",
     "text": [
      " 18%|█▊        | 9/50 [00:28<00:49,  1.22s/it]"
     ]
    },
    {
     "name": "stdout",
     "output_type": "stream",
     "text": [
      "1/1 [==============================] - 0s 213ms/step\n"
     ]
    },
    {
     "name": "stderr",
     "output_type": "stream",
     "text": [
      " 20%|██        | 10/50 [00:29<00:47,  1.19s/it]"
     ]
    },
    {
     "name": "stdout",
     "output_type": "stream",
     "text": [
      "1/1 [==============================] - 0s 175ms/step\n"
     ]
    },
    {
     "name": "stderr",
     "output_type": "stream",
     "text": [
      " 22%|██▏       | 11/50 [00:30<00:41,  1.08s/it]"
     ]
    },
    {
     "name": "stdout",
     "output_type": "stream",
     "text": [
      "1/1 [==============================] - 0s 177ms/step\n"
     ]
    },
    {
     "name": "stderr",
     "output_type": "stream",
     "text": [
      " 24%|██▍       | 12/50 [00:31<00:38,  1.00s/it]"
     ]
    },
    {
     "name": "stdout",
     "output_type": "stream",
     "text": [
      "1/1 [==============================] - 0s 172ms/step\n"
     ]
    },
    {
     "name": "stderr",
     "output_type": "stream",
     "text": [
      " 26%|██▌       | 13/50 [00:32<00:35,  1.04it/s]"
     ]
    },
    {
     "name": "stdout",
     "output_type": "stream",
     "text": [
      "1/1 [==============================] - 0s 174ms/step\n"
     ]
    },
    {
     "name": "stderr",
     "output_type": "stream",
     "text": [
      " 28%|██▊       | 14/50 [00:33<00:33,  1.06it/s]"
     ]
    },
    {
     "name": "stdout",
     "output_type": "stream",
     "text": [
      "1/1 [==============================] - 0s 219ms/step\n"
     ]
    },
    {
     "name": "stderr",
     "output_type": "stream",
     "text": [
      " 30%|███       | 15/50 [00:34<00:34,  1.02it/s]"
     ]
    },
    {
     "name": "stdout",
     "output_type": "stream",
     "text": [
      "1/1 [==============================] - 0s 169ms/step\n"
     ]
    },
    {
     "name": "stderr",
     "output_type": "stream",
     "text": [
      " 32%|███▏      | 16/50 [00:35<00:31,  1.07it/s]"
     ]
    },
    {
     "name": "stdout",
     "output_type": "stream",
     "text": [
      "1/1 [==============================] - 0s 174ms/step\n"
     ]
    },
    {
     "name": "stderr",
     "output_type": "stream",
     "text": [
      " 34%|███▍      | 17/50 [00:36<00:29,  1.10it/s]"
     ]
    },
    {
     "name": "stdout",
     "output_type": "stream",
     "text": [
      "1/1 [==============================] - 0s 166ms/step\n"
     ]
    },
    {
     "name": "stderr",
     "output_type": "stream",
     "text": [
      " 36%|███▌      | 18/50 [00:36<00:28,  1.11it/s]"
     ]
    },
    {
     "name": "stdout",
     "output_type": "stream",
     "text": [
      "1/1 [==============================] - 0s 173ms/step\n"
     ]
    },
    {
     "name": "stderr",
     "output_type": "stream",
     "text": [
      "[mpeg1video @ 0x7977e4089100] ac-tex damaged at 22 17\n",
      "[mpeg1video @ 0x7977e4089100] Warning MVs not available\n",
      " 38%|███▊      | 19/50 [00:37<00:27,  1.14it/s]"
     ]
    },
    {
     "name": "stdout",
     "output_type": "stream",
     "text": [
      "1/1 [==============================] - 0s 174ms/step\n"
     ]
    },
    {
     "name": "stderr",
     "output_type": "stream",
     "text": [
      " 40%|████      | 20/50 [00:38<00:26,  1.15it/s]"
     ]
    },
    {
     "name": "stdout",
     "output_type": "stream",
     "text": [
      "1/1 [==============================] - 0s 173ms/step\n"
     ]
    },
    {
     "name": "stderr",
     "output_type": "stream",
     "text": [
      " 42%|████▏     | 21/50 [00:39<00:25,  1.16it/s]"
     ]
    },
    {
     "name": "stdout",
     "output_type": "stream",
     "text": [
      "1/1 [==============================] - 0s 177ms/step\n"
     ]
    },
    {
     "name": "stderr",
     "output_type": "stream",
     "text": [
      " 44%|████▍     | 22/50 [00:40<00:23,  1.17it/s]"
     ]
    },
    {
     "name": "stdout",
     "output_type": "stream",
     "text": [
      "1/1 [==============================] - 0s 175ms/step\n"
     ]
    },
    {
     "name": "stderr",
     "output_type": "stream",
     "text": [
      " 46%|████▌     | 23/50 [00:41<00:23,  1.17it/s]"
     ]
    },
    {
     "name": "stdout",
     "output_type": "stream",
     "text": [
      "1/1 [==============================] - 0s 175ms/step\n"
     ]
    },
    {
     "name": "stderr",
     "output_type": "stream",
     "text": [
      " 48%|████▊     | 24/50 [00:41<00:22,  1.17it/s]"
     ]
    },
    {
     "name": "stdout",
     "output_type": "stream",
     "text": [
      "1/1 [==============================] - 0s 174ms/step\n"
     ]
    },
    {
     "name": "stderr",
     "output_type": "stream",
     "text": [
      " 50%|█████     | 25/50 [00:42<00:21,  1.18it/s]"
     ]
    },
    {
     "name": "stdout",
     "output_type": "stream",
     "text": [
      "1/1 [==============================] - 0s 172ms/step\n"
     ]
    },
    {
     "name": "stderr",
     "output_type": "stream",
     "text": [
      " 52%|█████▏    | 26/50 [00:43<00:20,  1.16it/s]"
     ]
    },
    {
     "name": "stdout",
     "output_type": "stream",
     "text": [
      "1/1 [==============================] - 0s 177ms/step\n"
     ]
    },
    {
     "name": "stderr",
     "output_type": "stream",
     "text": [
      " 54%|█████▍    | 27/50 [00:44<00:19,  1.16it/s]"
     ]
    },
    {
     "name": "stdout",
     "output_type": "stream",
     "text": [
      "1/1 [==============================] - 0s 211ms/step\n"
     ]
    },
    {
     "name": "stderr",
     "output_type": "stream",
     "text": [
      " 56%|█████▌    | 28/50 [00:45<00:21,  1.05it/s]"
     ]
    },
    {
     "name": "stdout",
     "output_type": "stream",
     "text": [
      "1/1 [==============================] - 0s 173ms/step\n"
     ]
    },
    {
     "name": "stderr",
     "output_type": "stream",
     "text": [
      " 58%|█████▊    | 29/50 [00:46<00:19,  1.06it/s]"
     ]
    },
    {
     "name": "stdout",
     "output_type": "stream",
     "text": [
      "1/1 [==============================] - 0s 172ms/step\n"
     ]
    },
    {
     "name": "stderr",
     "output_type": "stream",
     "text": [
      " 60%|██████    | 30/50 [00:47<00:18,  1.10it/s]"
     ]
    },
    {
     "name": "stdout",
     "output_type": "stream",
     "text": [
      "1/1 [==============================] - 0s 172ms/step\n"
     ]
    },
    {
     "name": "stderr",
     "output_type": "stream",
     "text": [
      " 62%|██████▏   | 31/50 [00:48<00:17,  1.09it/s]"
     ]
    },
    {
     "name": "stdout",
     "output_type": "stream",
     "text": [
      "1/1 [==============================] - 0s 169ms/step\n"
     ]
    },
    {
     "name": "stderr",
     "output_type": "stream",
     "text": [
      " 64%|██████▍   | 32/50 [00:49<00:15,  1.13it/s]"
     ]
    },
    {
     "name": "stdout",
     "output_type": "stream",
     "text": [
      "1/1 [==============================] - 0s 174ms/step\n"
     ]
    },
    {
     "name": "stderr",
     "output_type": "stream",
     "text": [
      " 66%|██████▌   | 33/50 [00:50<00:14,  1.15it/s]"
     ]
    },
    {
     "name": "stdout",
     "output_type": "stream",
     "text": [
      "1/1 [==============================] - 0s 171ms/step\n"
     ]
    },
    {
     "name": "stderr",
     "output_type": "stream",
     "text": [
      " 68%|██████▊   | 34/50 [00:50<00:13,  1.16it/s]"
     ]
    },
    {
     "name": "stdout",
     "output_type": "stream",
     "text": [
      "1/1 [==============================] - 0s 172ms/step\n"
     ]
    },
    {
     "name": "stderr",
     "output_type": "stream",
     "text": [
      " 70%|███████   | 35/50 [00:51<00:12,  1.17it/s]"
     ]
    },
    {
     "name": "stdout",
     "output_type": "stream",
     "text": [
      "1/1 [==============================] - 0s 176ms/step\n"
     ]
    },
    {
     "name": "stderr",
     "output_type": "stream",
     "text": [
      " 72%|███████▏  | 36/50 [00:52<00:11,  1.18it/s]"
     ]
    },
    {
     "name": "stdout",
     "output_type": "stream",
     "text": [
      "1/1 [==============================] - 0s 179ms/step\n"
     ]
    },
    {
     "name": "stderr",
     "output_type": "stream",
     "text": [
      " 74%|███████▍  | 37/50 [00:53<00:11,  1.17it/s]"
     ]
    },
    {
     "name": "stdout",
     "output_type": "stream",
     "text": [
      "1/1 [==============================] - 0s 170ms/step\n"
     ]
    },
    {
     "name": "stderr",
     "output_type": "stream",
     "text": [
      " 76%|███████▌  | 38/50 [00:54<00:10,  1.18it/s]"
     ]
    },
    {
     "name": "stdout",
     "output_type": "stream",
     "text": [
      "1/1 [==============================] - 0s 172ms/step\n"
     ]
    },
    {
     "name": "stderr",
     "output_type": "stream",
     "text": [
      " 78%|███████▊  | 39/50 [00:55<00:09,  1.18it/s]"
     ]
    },
    {
     "name": "stdout",
     "output_type": "stream",
     "text": [
      "1/1 [==============================] - 0s 172ms/step\n"
     ]
    },
    {
     "name": "stderr",
     "output_type": "stream",
     "text": [
      " 80%|████████  | 40/50 [00:55<00:08,  1.19it/s]"
     ]
    },
    {
     "name": "stdout",
     "output_type": "stream",
     "text": [
      "1/1 [==============================] - 0s 171ms/step\n"
     ]
    },
    {
     "name": "stderr",
     "output_type": "stream",
     "text": [
      " 82%|████████▏ | 41/50 [00:56<00:07,  1.19it/s]"
     ]
    },
    {
     "name": "stdout",
     "output_type": "stream",
     "text": [
      "1/1 [==============================] - 0s 176ms/step\n"
     ]
    },
    {
     "name": "stderr",
     "output_type": "stream",
     "text": [
      " 84%|████████▍ | 42/50 [00:57<00:07,  1.12it/s]"
     ]
    },
    {
     "name": "stdout",
     "output_type": "stream",
     "text": [
      "1/1 [==============================] - 0s 172ms/step\n"
     ]
    },
    {
     "name": "stderr",
     "output_type": "stream",
     "text": [
      " 86%|████████▌ | 43/50 [00:58<00:05,  1.21it/s]"
     ]
    },
    {
     "name": "stdout",
     "output_type": "stream",
     "text": [
      "1/1 [==============================] - 0s 173ms/step\n"
     ]
    },
    {
     "name": "stderr",
     "output_type": "stream",
     "text": [
      " 88%|████████▊ | 44/50 [00:59<00:05,  1.18it/s]"
     ]
    },
    {
     "name": "stdout",
     "output_type": "stream",
     "text": [
      "1/1 [==============================] - 0s 172ms/step\n"
     ]
    },
    {
     "name": "stderr",
     "output_type": "stream",
     "text": [
      " 90%|█████████ | 45/50 [01:00<00:04,  1.19it/s]"
     ]
    },
    {
     "name": "stdout",
     "output_type": "stream",
     "text": [
      "1/1 [==============================] - 0s 173ms/step\n"
     ]
    },
    {
     "name": "stderr",
     "output_type": "stream",
     "text": [
      " 92%|█████████▏| 46/50 [01:01<00:03,  1.19it/s]"
     ]
    },
    {
     "name": "stdout",
     "output_type": "stream",
     "text": [
      "1/1 [==============================] - 0s 169ms/step\n"
     ]
    },
    {
     "name": "stderr",
     "output_type": "stream",
     "text": [
      " 94%|█████████▍| 47/50 [01:01<00:02,  1.19it/s]"
     ]
    },
    {
     "name": "stdout",
     "output_type": "stream",
     "text": [
      "1/1 [==============================] - 0s 169ms/step\n"
     ]
    },
    {
     "name": "stderr",
     "output_type": "stream",
     "text": [
      " 96%|█████████▌| 48/50 [01:02<00:01,  1.20it/s]"
     ]
    },
    {
     "name": "stdout",
     "output_type": "stream",
     "text": [
      "1/1 [==============================] - 0s 155ms/step\n"
     ]
    },
    {
     "name": "stderr",
     "output_type": "stream",
     "text": [
      " 98%|█████████▊| 49/50 [01:03<00:00,  1.29it/s]"
     ]
    }
   ],
   "source": [
    "for data in test:\n",
    "    ground_truth = decode_to_text(data[1])\n",
    "    predicted_label = get_predictions(data[0])\n",
    "    \n",
    "    ground_truths.append(ground_truth)\n",
    "    predicted_labels.append(predicted_label)\n",
    "    progress_bar.update()"
   ]
  },
  {
   "cell_type": "code",
   "execution_count": 73,
   "id": "b959163e",
   "metadata": {
    "execution": {
     "iopub.execute_input": "2023-05-17T20:27:38.818389Z",
     "iopub.status.busy": "2023-05-17T20:27:38.817685Z",
     "iopub.status.idle": "2023-05-17T20:27:38.825619Z",
     "shell.execute_reply": "2023-05-17T20:27:38.824452Z",
     "shell.execute_reply.started": "2023-05-17T20:27:38.818351Z"
    }
   },
   "outputs": [
    {
     "data": {
      "text/plain": [
       "(2, 75, 41)"
      ]
     },
     "execution_count": 73,
     "metadata": {},
     "output_type": "execute_result"
    }
   ],
   "source": [
    "pred.shape"
   ]
  },
  {
   "cell_type": "code",
   "execution_count": 66,
   "id": "147e146e",
   "metadata": {
    "execution": {
     "iopub.execute_input": "2023-05-17T21:37:08.106372Z",
     "iopub.status.busy": "2023-05-17T21:37:08.105827Z",
     "iopub.status.idle": "2023-05-17T21:37:08.291570Z",
     "shell.execute_reply": "2023-05-17T21:37:08.290600Z",
     "shell.execute_reply.started": "2023-05-17T21:37:08.106331Z"
    }
   },
   "outputs": [],
   "source": [
    "test_file_names = [x.decode('utf-8') for x in list(data_shuffled.as_numpy_iterator())]"
   ]
  },
  {
   "cell_type": "code",
   "execution_count": 68,
   "id": "ecb5c790",
   "metadata": {
    "execution": {
     "iopub.execute_input": "2023-05-17T21:37:19.604914Z",
     "iopub.status.busy": "2023-05-17T21:37:19.604537Z",
     "iopub.status.idle": "2023-05-17T21:37:19.609844Z",
     "shell.execute_reply": "2023-05-17T21:37:19.607946Z",
     "shell.execute_reply.started": "2023-05-17T21:37:19.604886Z"
    }
   },
   "outputs": [],
   "source": [
    "# test_file_names"
   ]
  },
  {
   "cell_type": "code",
   "execution_count": 72,
   "id": "882b5394",
   "metadata": {
    "execution": {
     "iopub.execute_input": "2023-05-17T21:40:10.686157Z",
     "iopub.status.busy": "2023-05-17T21:40:10.685377Z",
     "iopub.status.idle": "2023-05-17T21:40:10.693553Z",
     "shell.execute_reply": "2023-05-17T21:40:10.692590Z",
     "shell.execute_reply.started": "2023-05-17T21:40:10.686124Z"
    }
   },
   "outputs": [],
   "source": [
    "ground_truth_arr = list(np.array(ground_truths).ravel())\n",
    "predicted_label_arr = list(np.array(predicted_labels).ravel())"
   ]
  },
  {
   "cell_type": "markdown",
   "id": "a7e29f43",
   "metadata": {},
   "source": [
    "## Core Evaluation Metrics\n",
    "\n",
    "1. **Precision**: Precision is the fraction of true positive predictions (TP) among the total positive predictions made by the model. It measures how well the model correctly identifies positive instances. The formula for precision is:\n",
    "\n",
    "    $$ Precision = \\frac{TP}{TP + FP} $$\n",
    "\n",
    "   where TP is the number of true positives, and FP is the number of false positives.\n",
    "\n",
    "2. **Recall**: Recall is the fraction of true positive predictions (TP) among the total actual positive instances. It measures how well the model identifies all the positive instances. The formula for recall is:\n",
    "\n",
    "    $$ Recall = \\frac{TP}{TP + FN} $$\n",
    "\n",
    "   where TP is the number of true positives, and FN is the number of false negatives.\n",
    "\n",
    "3. **Accuracy**: Accuracy is the fraction of correct predictions (both true positives and true negatives) among the total number of predictions made by the model. The formula for accuracy is:\n",
    "\n",
    "    $$ Accuracy = \\frac{TP + TN}{TP + TN + FP + FN} $$\n",
    "\n",
    "   where TP is the number of true positives, TN is the number of true negatives, FP is the number of false positives, and FN is the number of false negatives.\n",
    "\n",
    "\n",
    "4. **F1 Score**: The F1 score is the harmonic mean of precision and recall. It is used when both precision and recall are equally important. The formula for the F1 score is:\n",
    "\n",
    "    $$ F1 Score = 2 * \\frac{Precision * Recall}{Precision + Recall} $$\n",
    "\n",
    "5. **Confusion Matrix**: A confusion matrix is a table that is used to describe the performance of a classification model. It shows the true positive, true negative, false positive, and false negative predictions for each class label. The confusion matrix is represented as:\n",
    "\n",
    "    ```\n",
    "    [ [ TP, FP ],\n",
    "      [ FN, TN ] ]\n",
    "    ```\n",
    "\n",
    "   where TP is the number of true positives, TN is the number of true negatives, FP is the number of false positives, and FN is the number of false negatives."
   ]
  },
  {
   "cell_type": "markdown",
   "id": "e1b4fa64",
   "metadata": {},
   "source": [
    "## Character Level Evaluation"
   ]
  },
  {
   "cell_type": "code",
   "execution_count": 73,
   "id": "5a9c5556",
   "metadata": {
    "execution": {
     "iopub.execute_input": "2023-05-17T21:41:20.326099Z",
     "iopub.status.busy": "2023-05-17T21:41:20.325694Z",
     "iopub.status.idle": "2023-05-17T21:41:20.338544Z",
     "shell.execute_reply": "2023-05-17T21:41:20.337527Z",
     "shell.execute_reply.started": "2023-05-17T21:41:20.326067Z"
    }
   },
   "outputs": [],
   "source": [
    "def calculate_character_accuracy(true_labels, predicted_labels):\n",
    "    \"\"\"\n",
    "    Calculates the character-level accuracy score between true labels and predicted labels.\n",
    "    \"\"\"\n",
    "    total_chars = 0\n",
    "    correct_chars = 0\n",
    "\n",
    "    for true_label, predicted_label in zip(true_labels, predicted_labels):\n",
    "        total_chars += len(true_label)\n",
    "        for true_char, predicted_char in zip(true_label, predicted_label):\n",
    "            if true_char == predicted_char:\n",
    "                correct_chars += 1\n",
    "\n",
    "    return correct_chars / total_chars\n",
    "\n",
    "def calculate_character_precision(true_labels, predicted_labels):\n",
    "    \"\"\"\n",
    "    Calculates the character-level precision score between true labels and predicted labels.\n",
    "    \"\"\"\n",
    "    true_positive = 0\n",
    "    false_positive = 0\n",
    "\n",
    "    for true_label, predicted_label in zip(true_labels, predicted_labels):\n",
    "        for true_char, predicted_char in zip(true_label, predicted_label):\n",
    "            if true_char == predicted_char:\n",
    "                true_positive += 1\n",
    "            else:\n",
    "                false_positive += 1\n",
    "\n",
    "    return true_positive / (true_positive + false_positive)\n",
    "\n",
    "def calculate_character_recall(true_labels, predicted_labels):\n",
    "    \"\"\"\n",
    "    Calculates the character-level recall score between true labels and predicted labels.\n",
    "    \"\"\"\n",
    "    true_positive = 0\n",
    "    false_negative = 0\n",
    "\n",
    "    for true_label, predicted_label in zip(true_labels, predicted_labels):\n",
    "        for true_char, predicted_char in zip(true_label, predicted_label):\n",
    "            if true_char == predicted_char:\n",
    "                true_positive += 1\n",
    "            else:\n",
    "                false_negative += 1\n",
    "\n",
    "    return true_positive / (true_positive + false_negative)\n",
    "\n",
    "def calculate_character_f1_score(true_labels, predicted_labels):\n",
    "    \"\"\"\n",
    "    Calculates the character-level F1 score between true labels and predicted labels.\n",
    "    \"\"\"\n",
    "    precision = calculate_character_precision(true_labels, predicted_labels)\n",
    "    recall = calculate_character_recall(true_labels, predicted_labels)\n",
    "\n",
    "    return 2 * (precision * recall) / (precision + recall)\n"
   ]
  },
  {
   "cell_type": "code",
   "execution_count": 76,
   "id": "0af210f8",
   "metadata": {
    "execution": {
     "iopub.execute_input": "2023-05-17T21:45:37.356631Z",
     "iopub.status.busy": "2023-05-17T21:45:37.355583Z",
     "iopub.status.idle": "2023-05-17T21:45:37.363415Z",
     "shell.execute_reply": "2023-05-17T21:45:37.362425Z",
     "shell.execute_reply.started": "2023-05-17T21:45:37.356593Z"
    }
   },
   "outputs": [],
   "source": [
    "def calculate_character_metrics(true_labels, predicted_labels):\n",
    "    \"\"\"\n",
    "    Calculates character-level accuracy, precision, recall, and F1 score.\n",
    "    Generates a confusion matrix using Seaborn.\n",
    "    \"\"\"\n",
    "    # Calculate metrics\n",
    "    accuracy = calculate_character_accuracy(true_labels, predicted_labels)\n",
    "    precision = calculate_character_precision(true_labels, predicted_labels)\n",
    "    recall = calculate_character_recall(true_labels, predicted_labels)\n",
    "    f1_score = calculate_character_f1_score(true_labels, predicted_labels)\n",
    "\n",
    "    # Return metrics and confusion matrix\n",
    "    metrics = {\n",
    "        'Accuracy': accuracy,\n",
    "        'Precision': precision,\n",
    "        'Recall': recall,\n",
    "        'F1 Score': f1_score\n",
    "    }\n",
    "\n",
    "    return metrics\n"
   ]
  },
  {
   "cell_type": "code",
   "execution_count": 78,
   "id": "b0b8c6af",
   "metadata": {
    "execution": {
     "iopub.execute_input": "2023-05-17T21:45:53.865627Z",
     "iopub.status.busy": "2023-05-17T21:45:53.865224Z",
     "iopub.status.idle": "2023-05-17T21:45:53.873377Z",
     "shell.execute_reply": "2023-05-17T21:45:53.872469Z",
     "shell.execute_reply.started": "2023-05-17T21:45:53.865593Z"
    }
   },
   "outputs": [
    {
     "name": "stdout",
     "output_type": "stream",
     "text": [
      "{'Accuracy': 0.983739837398374, 'Precision': 0.9869494290375204, 'Recall': 0.9869494290375204, 'F1 Score': 0.9869494290375204}\n"
     ]
    }
   ],
   "source": [
    "char_metrics = calculate_character_metrics(ground_truth_arr, predicted_label_arr)\n",
    "print(char_metrics)"
   ]
  },
  {
   "cell_type": "code",
   "execution_count": 80,
   "id": "8594469d",
   "metadata": {
    "execution": {
     "iopub.execute_input": "2023-05-17T21:48:12.110318Z",
     "iopub.status.busy": "2023-05-17T21:48:12.109949Z",
     "iopub.status.idle": "2023-05-17T21:48:12.116412Z",
     "shell.execute_reply": "2023-05-17T21:48:12.115420Z",
     "shell.execute_reply.started": "2023-05-17T21:48:12.110287Z"
    }
   },
   "outputs": [
    {
     "name": "stdout",
     "output_type": "stream",
     "text": [
      "Character Level Accuracy: 98.37%\n",
      "Character Level Precision: 98.69%\n",
      "Character Level Recall: 98.69%\n",
      "Character Level F1 Score: 98.69%\n"
     ]
    }
   ],
   "source": [
    "print(\"Character Level Accuracy:\", f\"{char_metrics['Accuracy']*100:.2f}%\")\n",
    "print(\"Character Level Precision:\", f\"{char_metrics['Precision']*100:.2f}%\")\n",
    "print(\"Character Level Recall:\", f\"{char_metrics['Recall']*100:.2f}%\")\n",
    "print(\"Character Level F1 Score:\", f\"{char_metrics['F1 Score']*100:.2f}%\")\n"
   ]
  },
  {
   "cell_type": "code",
   "execution_count": 85,
   "id": "5c4b35e2",
   "metadata": {
    "execution": {
     "iopub.execute_input": "2023-05-17T21:50:36.545987Z",
     "iopub.status.busy": "2023-05-17T21:50:36.545593Z",
     "iopub.status.idle": "2023-05-17T21:50:36.555155Z",
     "shell.execute_reply": "2023-05-17T21:50:36.554169Z",
     "shell.execute_reply.started": "2023-05-17T21:50:36.545941Z"
    }
   },
   "outputs": [],
   "source": [
    "def generate_confusion_matrix(predicted_sentences, expected_sentences, vocabulary):\n",
    "    \"\"\"\n",
    "    Generates a confusion matrix based on character-level predictions.\n",
    "    \"\"\"\n",
    "    # Initialize confusion matrix\n",
    "    num_classes = len(vocabulary)\n",
    "    confusion_mat = np.zeros((num_classes, num_classes))\n",
    "\n",
    "    # Iterate over each pair of predicted and expected sentences\n",
    "    for predicted_sent, expected_sent in zip(predicted_sentences, expected_sentences):\n",
    "        # Convert sentences to character-level lists\n",
    "        predicted_chars = list(predicted_sent)\n",
    "        expected_chars = list(expected_sent)\n",
    "\n",
    "        # Iterate over each pair of predicted and expected characters\n",
    "        for predicted_char, expected_char in zip(predicted_chars, expected_chars):\n",
    "            # Find the indices of predicted and expected characters in the vocabulary\n",
    "            predicted_idx = vocabulary.index(predicted_char)\n",
    "            expected_idx = vocabulary.index(expected_char)\n",
    "\n",
    "            # Increment the corresponding entry in the confusion matrix\n",
    "            confusion_mat[expected_idx][predicted_idx] += 1\n",
    "\n",
    "    # Plot confusion matrix\n",
    "    plt.figure(figsize=(12, 8))\n",
    "    sns.heatmap(confusion_mat, annot=True, fmt='g', cmap='Blues', xticklabels=vocabulary, yticklabels=vocabulary)\n",
    "    plt.title('Confusion Matrix')\n",
    "    plt.xlabel('Predicted Characters')\n",
    "    plt.ylabel('Expected Characters')\n",
    "    plt.show()\n"
   ]
  },
  {
   "cell_type": "code",
   "execution_count": 86,
   "id": "be26576c",
   "metadata": {
    "execution": {
     "iopub.execute_input": "2023-05-17T21:50:36.955251Z",
     "iopub.status.busy": "2023-05-17T21:50:36.954553Z",
     "iopub.status.idle": "2023-05-17T21:50:40.902404Z",
     "shell.execute_reply": "2023-05-17T21:50:40.901482Z",
     "shell.execute_reply.started": "2023-05-17T21:50:36.955216Z"
    }
   },
   "outputs": [
    {
     "data": {
      "image/png": "[encoded data removed]",
      "text/plain": [
       "<Figure size 1200x800 with 2 Axes>"
      ]
     },
     "metadata": {},
     "output_type": "display_data"
    }
   ],
   "source": [
    "generate_confusion_matrix(predicted_label_arr, ground_truth_arr, vocab)"
   ]
  },
  {
   "cell_type": "markdown",
   "id": "2b37aaf2",
   "metadata": {},
   "source": [
    "## Character Error Rate (CER)\n",
    "\n",
    "Character Error Rate (CER) is similar to WER but operates at the character level. It measures the accuracy of the predicted text by considering the minimum number of character-level substitutions, deletions, and insertions required to align the predicted and true text.\n",
    "\n",
    "The formula for calculating CER is as follows:\n",
    "\n",
    "CER = (S + D + I) / C\n",
    "\n",
    "where:\n",
    "- S is the number of character substitutions,\n",
    "- D is the number of character deletions,\n",
    "- I is the number of character insertions,\n",
    "- C is the total number of characters in the ground truth labels."
   ]
  },
  {
   "cell_type": "code",
   "execution_count": 101,
   "id": "659fe557",
   "metadata": {
    "execution": {
     "iopub.execute_input": "2023-05-17T22:09:25.901520Z",
     "iopub.status.busy": "2023-05-17T22:09:25.901055Z",
     "iopub.status.idle": "2023-05-17T22:09:25.907955Z",
     "shell.execute_reply": "2023-05-17T22:09:25.906982Z",
     "shell.execute_reply.started": "2023-05-17T22:09:25.901434Z"
    }
   },
   "outputs": [],
   "source": [
    "def calculate_cer(predicted, ground_truth):\n",
    "    \"\"\"\n",
    "    Calculate Character Error Rate (CER)\n",
    "    \"\"\"\n",
    "    \n",
    "    total_chars = 0\n",
    "    total_errors = 0\n",
    "\n",
    "    for pred_sent, true_sent in zip(predicted, ground_truth):\n",
    "        pred_chars = list(pred_sent)\n",
    "        true_chars = list(true_sent)\n",
    "\n",
    "        # Calculate the Levenshtein distance\n",
    "        distance = nltk.edit_distance(pred_chars, true_chars)\n",
    "\n",
    "        total_chars += len(true_chars)\n",
    "        total_errors += distance\n",
    "\n",
    "    cer = float(total_errors) / total_chars\n",
    "\n",
    "    return cer"
   ]
  },
  {
   "cell_type": "code",
   "execution_count": 102,
   "id": "f7cad244",
   "metadata": {
    "execution": {
     "iopub.execute_input": "2023-05-17T22:09:46.485606Z",
     "iopub.status.busy": "2023-05-17T22:09:46.484926Z",
     "iopub.status.idle": "2023-05-17T22:09:46.590829Z",
     "shell.execute_reply": "2023-05-17T22:09:46.589721Z",
     "shell.execute_reply.started": "2023-05-17T22:09:46.485566Z"
    }
   },
   "outputs": [],
   "source": [
    "cer = calculate_cer(predicted_label_arr, ground_truth_arr)"
   ]
  },
  {
   "cell_type": "code",
   "execution_count": 103,
   "id": "425aa064",
   "metadata": {
    "execution": {
     "iopub.execute_input": "2023-05-17T22:09:55.681116Z",
     "iopub.status.busy": "2023-05-17T22:09:55.680281Z",
     "iopub.status.idle": "2023-05-17T22:09:55.687033Z",
     "shell.execute_reply": "2023-05-17T22:09:55.686040Z",
     "shell.execute_reply.started": "2023-05-17T22:09:55.681078Z"
    }
   },
   "outputs": [
    {
     "name": "stdout",
     "output_type": "stream",
     "text": [
      "Character Error Rate: 0.73%\n"
     ]
    }
   ],
   "source": [
    "print(f\"Character Error Rate: {cer*100:.2f}%\")"
   ]
  },
  {
   "cell_type": "markdown",
   "id": "a1f8963e",
   "metadata": {},
   "source": [
    "## Word Level Evaluation"
   ]
  },
  {
   "cell_type": "code",
   "execution_count": 87,
   "id": "84f3220a",
   "metadata": {
    "execution": {
     "iopub.execute_input": "2023-05-17T21:52:41.471874Z",
     "iopub.status.busy": "2023-05-17T21:52:41.471337Z",
     "iopub.status.idle": "2023-05-17T21:52:41.487262Z",
     "shell.execute_reply": "2023-05-17T21:52:41.486152Z",
     "shell.execute_reply.started": "2023-05-17T21:52:41.471834Z"
    }
   },
   "outputs": [],
   "source": [
    "def calculate_word_accuracy(predicted_sentences, expected_sentences):\n",
    "    \"\"\"\n",
    "    Calculates word-level accuracy.\n",
    "    \"\"\"\n",
    "    total_words = 0\n",
    "    correct_words = 0\n",
    "\n",
    "    for predicted_sent, expected_sent in zip(predicted_sentences, expected_sentences):\n",
    "        total_words += 1\n",
    "        if predicted_sent == expected_sent:\n",
    "            correct_words += 1\n",
    "\n",
    "    return correct_words / total_words\n",
    "\n",
    "\n",
    "def calculate_word_precision(predicted_sentences, expected_sentences):\n",
    "    \"\"\"\n",
    "    Calculates word-level precision.\n",
    "    \"\"\"\n",
    "    true_positive = 0\n",
    "    false_positive = 0\n",
    "\n",
    "    for predicted_sent, expected_sent in zip(predicted_sentences, expected_sentences):\n",
    "        if predicted_sent == expected_sent:\n",
    "            true_positive += 1\n",
    "        else:\n",
    "            false_positive += 1\n",
    "\n",
    "    return true_positive / (true_positive + false_positive)\n",
    "\n",
    "\n",
    "def calculate_word_recall(predicted_sentences, expected_sentences):\n",
    "    \"\"\"\n",
    "    Calculates word-level recall.\n",
    "    \"\"\"\n",
    "    true_positive = 0\n",
    "    false_negative = 0\n",
    "\n",
    "    for predicted_sent, expected_sent in zip(predicted_sentences, expected_sentences):\n",
    "        if predicted_sent == expected_sent:\n",
    "            true_positive += 1\n",
    "        else:\n",
    "            false_negative += 1\n",
    "\n",
    "    return true_positive / (true_positive + false_negative)\n",
    "\n",
    "\n",
    "def calculate_word_f1_score(predicted_sentences, expected_sentences):\n",
    "    \"\"\"\n",
    "    Calculates word-level F1 score.\n",
    "    \"\"\"\n",
    "    precision = calculate_word_precision(predicted_sentences, expected_sentences)\n",
    "    recall = calculate_word_recall(predicted_sentences, expected_sentences)\n",
    "\n",
    "    return 2 * (precision * recall) / (precision + recall)\n"
   ]
  },
  {
   "cell_type": "code",
   "execution_count": 88,
   "id": "e90e2003",
   "metadata": {
    "execution": {
     "iopub.execute_input": "2023-05-17T21:53:03.101148Z",
     "iopub.status.busy": "2023-05-17T21:53:03.100387Z",
     "iopub.status.idle": "2023-05-17T21:53:03.108477Z",
     "shell.execute_reply": "2023-05-17T21:53:03.107263Z",
     "shell.execute_reply.started": "2023-05-17T21:53:03.101110Z"
    }
   },
   "outputs": [],
   "source": [
    "def calculate_word_metrics(predicted_sentences, expected_sentences):\n",
    "    \"\"\"\n",
    "    Calculates word-level accuracy, precision, recall, and F1 score.\n",
    "    Generates a confusion matrix based on word-level predictions.\n",
    "    \"\"\"\n",
    "    # Calculate metrics\n",
    "    accuracy = calculate_word_accuracy(predicted_sentences, expected_sentences)\n",
    "    precision = calculate_word_precision(predicted_sentences, expected_sentences)\n",
    "    recall = calculate_word_recall(predicted_sentences, expected_sentences)\n",
    "    f1_score = calculate_word_f1_score(predicted_sentences, expected_sentences)\n",
    "\n",
    "    # Return metrics and confusion matrix\n",
    "    metrics = {\n",
    "        'Accuracy': accuracy,\n",
    "        'Precision': precision,\n",
    "        'Recall': recall,\n",
    "        'F1 Score': f1_score\n",
    "    }\n",
    "\n",
    "    return metrics\n"
   ]
  },
  {
   "cell_type": "code",
   "execution_count": 89,
   "id": "c8ca28b2",
   "metadata": {
    "execution": {
     "iopub.execute_input": "2023-05-17T21:53:22.892709Z",
     "iopub.status.busy": "2023-05-17T21:53:22.892184Z",
     "iopub.status.idle": "2023-05-17T21:53:22.900377Z",
     "shell.execute_reply": "2023-05-17T21:53:22.899473Z",
     "shell.execute_reply.started": "2023-05-17T21:53:22.892675Z"
    }
   },
   "outputs": [
    {
     "name": "stdout",
     "output_type": "stream",
     "text": [
      "{'Accuracy': 0.983739837398374, 'Precision': 0.9869494290375204, 'Recall': 0.9869494290375204, 'F1 Score': 0.9869494290375204}\n"
     ]
    }
   ],
   "source": [
    "word_metrics = calculate_character_metrics(ground_truth_arr, predicted_label_arr)\n",
    "print(word_metrics)"
   ]
  },
  {
   "cell_type": "code",
   "execution_count": 119,
   "id": "dd278004",
   "metadata": {
    "execution": {
     "iopub.execute_input": "2023-05-17T22:44:33.017040Z",
     "iopub.status.busy": "2023-05-17T22:44:33.016240Z",
     "iopub.status.idle": "2023-05-17T22:44:33.026208Z",
     "shell.execute_reply": "2023-05-17T22:44:33.022150Z",
     "shell.execute_reply.started": "2023-05-17T22:44:33.016993Z"
    }
   },
   "outputs": [
    {
     "name": "stdout",
     "output_type": "stream",
     "text": [
      "Word Level Accuracy: 98.37%\n",
      "Word Level Precision: 98.69%\n",
      "Word Level Recall: 98.69%\n",
      "Word Level F1 Score: 98.69%\n"
     ]
    }
   ],
   "source": [
    "print(\"Word Level Accuracy:\", f\"{word_metrics['Accuracy']*100:.2f}%\")\n",
    "print(\"Word Level Precision:\", f\"{word_metrics['Precision']*100:.2f}%\")\n",
    "print(\"Word Level Recall:\", f\"{word_metrics['Recall']*100:.2f}%\")\n",
    "print(\"Word Level F1 Score:\", f\"{word_metrics['F1 Score']*100:.2f}%\")"
   ]
  },
  {
   "cell_type": "code",
   "execution_count": 93,
   "id": "0de8006c",
   "metadata": {
    "execution": {
     "iopub.execute_input": "2023-05-17T21:57:52.266401Z",
     "iopub.status.busy": "2023-05-17T21:57:52.265993Z",
     "iopub.status.idle": "2023-05-17T21:57:52.275954Z",
     "shell.execute_reply": "2023-05-17T21:57:52.274821Z",
     "shell.execute_reply.started": "2023-05-17T21:57:52.266370Z"
    }
   },
   "outputs": [],
   "source": [
    "def generate_word_confusion_matrix(predicted_sentences, expected_sentences):\n",
    "    \"\"\"\n",
    "    Generates a word-level confusion matrix.\n",
    "    \"\"\"\n",
    "    # Get unique words from predicted and expected sentences\n",
    "    predicted_words = set([word for sent in predicted_sentences for word in sent.split()])\n",
    "    expected_words = set([word for sent in expected_sentences for word in sent.split()])\n",
    "\n",
    "    # Get sorted list of unique words\n",
    "    unique_words = sorted(predicted_words.union(expected_words))\n",
    "\n",
    "    # Initialize confusion matrix\n",
    "    num_classes = len(unique_words)\n",
    "    confusion_mat = np.zeros((num_classes, num_classes))\n",
    "\n",
    "    # Iterate over each pair of predicted and expected sentences\n",
    "    for predicted_sent, expected_sent in zip(predicted_sentences, expected_sentences):\n",
    "        # Convert sentences to word-level lists\n",
    "        predicted_words = predicted_sent.split()\n",
    "        expected_words = expected_sent.split()\n",
    "\n",
    "        # Iterate over each pair of predicted and expected words\n",
    "        for predicted_word, expected_word in zip(predicted_words, expected_words):\n",
    "            # Find the indices of predicted and expected words in the unique word list\n",
    "            predicted_idx = unique_words.index(predicted_word)\n",
    "            expected_idx = unique_words.index(expected_word)\n",
    "\n",
    "            # Increment the corresponding entry in the confusion matrix\n",
    "            confusion_mat[expected_idx][predicted_idx] += 1\n",
    "\n",
    "    # Plot confusion matrix\n",
    "    plt.figure(figsize=(15, 12))\n",
    "    sns.heatmap(confusion_mat, annot=True, fmt='g', cmap='Blues', xticklabels=unique_words, yticklabels=unique_words)\n",
    "    plt.title('Word-level Confusion Matrix')\n",
    "    plt.xlabel('Predicted Words')\n",
    "    plt.ylabel('Expected Words')\n",
    "    plt.show()\n"
   ]
  },
  {
   "cell_type": "code",
   "execution_count": 94,
   "id": "de87b4e4",
   "metadata": {
    "execution": {
     "iopub.execute_input": "2023-05-17T21:57:52.505791Z",
     "iopub.status.busy": "2023-05-17T21:57:52.504577Z",
     "iopub.status.idle": "2023-05-17T21:57:58.248105Z",
     "shell.execute_reply": "2023-05-17T21:57:58.247177Z",
     "shell.execute_reply.started": "2023-05-17T21:57:52.505737Z"
    }
   },
   "outputs": [
    {
     "data": {
      "image/png": "[encoded data removed]",
      "text/plain": [
       "<Figure size 1500x1200 with 2 Axes>"
      ]
     },
     "metadata": {},
     "output_type": "display_data"
    }
   ],
   "source": [
    "generate_word_confusion_matrix(predicted_label_arr, ground_truth_arr)"
   ]
  },
  {
   "cell_type": "markdown",
   "id": "9c2bb19e",
   "metadata": {},
   "source": [
    "## Word Error Rate (WER)\n",
    "\n",
    "Word Error Rate (WER) is an evaluation metric commonly used to measure the accuracy of predicted text compared to ground truth labels. It calculates the minimum number of substitutions, deletions, and insertions required to align the predicted and true text, normalized by the total number of words.\n",
    "\n",
    "The formula for calculating WER is as follows:\n",
    "\n",
    "WER = (S + D + I) / N\n",
    "\n",
    "where:\n",
    "- S is the number of word substitutions,\n",
    "- D is the number of word deletions,\n",
    "- I is the number of word insertions,\n",
    "- N is the total number of words in the ground truth labels."
   ]
  },
  {
   "cell_type": "code",
   "execution_count": 96,
   "id": "e3a7562f",
   "metadata": {
    "execution": {
     "iopub.execute_input": "2023-05-17T22:06:30.821116Z",
     "iopub.status.busy": "2023-05-17T22:06:30.820513Z",
     "iopub.status.idle": "2023-05-17T22:06:30.828504Z",
     "shell.execute_reply": "2023-05-17T22:06:30.827503Z",
     "shell.execute_reply.started": "2023-05-17T22:06:30.821081Z"
    }
   },
   "outputs": [],
   "source": [
    "def calculate_wer(predicted, ground_truth):\n",
    "    \"\"\"\n",
    "    Calculate Word Error Rate (WER)\n",
    "    \"\"\" \n",
    "    total_words = 0\n",
    "    total_errors = 0\n",
    "\n",
    "    for pred_sent, true_sent in zip(predicted, ground_truth):\n",
    "        pred_words = pred_sent.split()\n",
    "        true_words = true_sent.split()\n",
    "\n",
    "        # Calculate the Levenshtein distance\n",
    "        distance = nltk.edit_distance(pred_words, true_words)\n",
    "\n",
    "        total_words += len(true_words)\n",
    "        total_errors += distance\n",
    "\n",
    "    wer = float(total_errors) / total_words\n",
    "\n",
    "    return wer"
   ]
  },
  {
   "cell_type": "code",
   "execution_count": 97,
   "id": "c4740776",
   "metadata": {
    "execution": {
     "iopub.execute_input": "2023-05-17T22:07:06.655632Z",
     "iopub.status.busy": "2023-05-17T22:07:06.655254Z",
     "iopub.status.idle": "2023-05-17T22:07:06.667527Z",
     "shell.execute_reply": "2023-05-17T22:07:06.666497Z",
     "shell.execute_reply.started": "2023-05-17T22:07:06.655600Z"
    }
   },
   "outputs": [],
   "source": [
    "wer = calculate_wer(predicted_label_arr, ground_truth_arr)"
   ]
  },
  {
   "cell_type": "code",
   "execution_count": 100,
   "id": "8fc216e0",
   "metadata": {
    "execution": {
     "iopub.execute_input": "2023-05-17T22:08:24.111079Z",
     "iopub.status.busy": "2023-05-17T22:08:24.110694Z",
     "iopub.status.idle": "2023-05-17T22:08:24.117802Z",
     "shell.execute_reply": "2023-05-17T22:08:24.116393Z",
     "shell.execute_reply.started": "2023-05-17T22:08:24.111046Z"
    }
   },
   "outputs": [
    {
     "name": "stdout",
     "output_type": "stream",
     "text": [
      "Word Error Rate: 2.21%\n"
     ]
    }
   ],
   "source": [
    "print(f\"Word Error Rate: {wer*100:.2f}%\")\n",
    "# WER is always bigger than CER or same as edge case\n",
    "\n",
    "\n",
    "# if sir asks why didnt you something BLeu or Metroer or some common nlp metrics, say that ths is not s pure nlp problem/\n",
    "# Rather it is a hybrid classification task which overalps with NLP"
   ]
  }
 ],
 "metadata": {
  "kernelspec": {
   "display_name": "Python 3 (ipykernel)",
   "language": "python",
   "name": "python3"
  },
  "language_info": {
   "codemirror_mode": {
    "name": "ipython",
    "version": 3
   },
   "file_extension": ".py",
   "mimetype": "text/x-python",
   "name": "python",
   "nbconvert_exporter": "python",
   "pygments_lexer": "ipython3",
   "version": "3.9.13"
  }
 },
 "nbformat": 4,
 "nbformat_minor": 5
}
