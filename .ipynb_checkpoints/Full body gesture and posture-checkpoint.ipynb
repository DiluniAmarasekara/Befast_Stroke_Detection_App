{
 "cells": [
  {
   "cell_type": "code",
   "execution_count": 17,
   "id": "3a55afa1",
   "metadata": {},
   "outputs": [
    {
     "name": "stdout",
     "output_type": "stream",
     "text": [
      "Requirement already satisfied: mediapipe in c:\\users\\dell\\anaconda3\\lib\\site-packages (0.9.1.0)\n",
      "Requirement already satisfied: opencv-python in c:\\users\\dell\\anaconda3\\lib\\site-packages (4.7.0.68)\n",
      "Requirement already satisfied: pandas in c:\\users\\dell\\anaconda3\\lib\\site-packages (1.4.4)\n",
      "Requirement already satisfied: scikit-learn in c:\\users\\dell\\anaconda3\\lib\\site-packages (1.0.2)\n",
      "Requirement already satisfied: protobuf<4,>=3.11 in c:\\users\\dell\\anaconda3\\lib\\site-packages (from mediapipe) (3.19.6)\n",
      "Requirement already satisfied: numpy in c:\\users\\dell\\anaconda3\\lib\\site-packages (from mediapipe) (1.21.5)\n",
      "Requirement already satisfied: attrs>=19.1.0 in c:\\users\\dell\\anaconda3\\lib\\site-packages (from mediapipe) (21.4.0)\n",
      "Requirement already satisfied: matplotlib in c:\\users\\dell\\anaconda3\\lib\\site-packages (from mediapipe) (3.5.2)\n",
      "Requirement already satisfied: absl-py in c:\\users\\dell\\anaconda3\\lib\\site-packages (from mediapipe) (1.4.0)\n",
      "Requirement already satisfied: opencv-contrib-python in c:\\users\\dell\\anaconda3\\lib\\site-packages (from mediapipe) (4.7.0.68)\n",
      "Requirement already satisfied: flatbuffers>=2.0 in c:\\users\\dell\\anaconda3\\lib\\site-packages (from mediapipe) (23.1.21)\n",
      "Requirement already satisfied: python-dateutil>=2.8.1 in c:\\users\\dell\\anaconda3\\lib\\site-packages (from pandas) (2.8.2)\n",
      "Requirement already satisfied: pytz>=2020.1 in c:\\users\\dell\\anaconda3\\lib\\site-packages (from pandas) (2022.1)\n",
      "Requirement already satisfied: threadpoolctl>=2.0.0 in c:\\users\\dell\\anaconda3\\lib\\site-packages (from scikit-learn) (2.2.0)\n",
      "Requirement already satisfied: joblib>=0.11 in c:\\users\\dell\\anaconda3\\lib\\site-packages (from scikit-learn) (1.1.0)\n",
      "Requirement already satisfied: scipy>=1.1.0 in c:\\users\\dell\\anaconda3\\lib\\site-packages (from scikit-learn) (1.9.1)\n",
      "Requirement already satisfied: six>=1.5 in c:\\users\\dell\\anaconda3\\lib\\site-packages (from python-dateutil>=2.8.1->pandas) (1.16.0)\n",
      "Requirement already satisfied: packaging>=20.0 in c:\\users\\dell\\anaconda3\\lib\\site-packages (from matplotlib->mediapipe) (21.3)\n",
      "Requirement already satisfied: fonttools>=4.22.0 in c:\\users\\dell\\anaconda3\\lib\\site-packages (from matplotlib->mediapipe) (4.25.0)\n",
      "Requirement already satisfied: cycler>=0.10 in c:\\users\\dell\\anaconda3\\lib\\site-packages (from matplotlib->mediapipe) (0.11.0)\n",
      "Requirement already satisfied: pillow>=6.2.0 in c:\\users\\dell\\anaconda3\\lib\\site-packages (from matplotlib->mediapipe) (9.2.0)\n",
      "Requirement already satisfied: kiwisolver>=1.0.1 in c:\\users\\dell\\anaconda3\\lib\\site-packages (from matplotlib->mediapipe) (1.4.2)\n",
      "Requirement already satisfied: pyparsing>=2.2.1 in c:\\users\\dell\\anaconda3\\lib\\site-packages (from matplotlib->mediapipe) (3.0.9)\n"
     ]
    }
   ],
   "source": [
    "!pip install mediapipe opencv-python pandas scikit-learn"
   ]
  },
  {
   "cell_type": "code",
   "execution_count": 18,
   "id": "03ff5d46",
   "metadata": {},
   "outputs": [],
   "source": [
    "import mediapipe as mp # Import mediapipe\n",
    "import cv2 # Import opencv"
   ]
  },
  {
   "cell_type": "code",
   "execution_count": 19,
   "id": "c569cb57",
   "metadata": {},
   "outputs": [],
   "source": [
    "mp_drawing = mp.solutions.drawing_utils # Drawing helpers\n",
    "mp_holistic = mp.solutions.holistic # Mediapipe Solutions"
   ]
  },
  {
   "cell_type": "markdown",
   "id": "60756198",
   "metadata": {},
   "source": [
    "## Make Some Detections"
   ]
  },
  {
   "cell_type": "code",
   "execution_count": 21,
   "id": "6b6cc228",
   "metadata": {},
   "outputs": [
    {
     "ename": "KeyboardInterrupt",
     "evalue": "",
     "output_type": "error",
     "traceback": [
      "\u001B[1;31m---------------------------------------------------------------------------\u001B[0m",
      "\u001B[1;31mKeyboardInterrupt\u001B[0m                         Traceback (most recent call last)",
      "\u001B[1;32m~\\AppData\\Local\\Temp\\ipykernel_14404\\550893380.py\u001B[0m in \u001B[0;36m<module>\u001B[1;34m\u001B[0m\n\u001B[0;32m      4\u001B[0m \u001B[1;33m\u001B[0m\u001B[0m\n\u001B[0;32m      5\u001B[0m     \u001B[1;32mwhile\u001B[0m \u001B[0mcap\u001B[0m\u001B[1;33m.\u001B[0m\u001B[0misOpened\u001B[0m\u001B[1;33m(\u001B[0m\u001B[1;33m)\u001B[0m\u001B[1;33m:\u001B[0m\u001B[1;33m\u001B[0m\u001B[1;33m\u001B[0m\u001B[0m\n\u001B[1;32m----> 6\u001B[1;33m         \u001B[0mret\u001B[0m\u001B[1;33m,\u001B[0m \u001B[0mframe\u001B[0m \u001B[1;33m=\u001B[0m \u001B[0mcap\u001B[0m\u001B[1;33m.\u001B[0m\u001B[0mread\u001B[0m\u001B[1;33m(\u001B[0m\u001B[1;33m)\u001B[0m\u001B[1;33m\u001B[0m\u001B[1;33m\u001B[0m\u001B[0m\n\u001B[0m\u001B[0;32m      7\u001B[0m \u001B[1;33m\u001B[0m\u001B[0m\n\u001B[0;32m      8\u001B[0m         \u001B[1;31m# Recolor Feed\u001B[0m\u001B[1;33m\u001B[0m\u001B[1;33m\u001B[0m\u001B[0m\n",
      "\u001B[1;31mKeyboardInterrupt\u001B[0m: "
     ]
    }
   ],
   "source": [
    "cap = cv2.VideoCapture(0)\n",
    "# Initiate holistic model\n",
    "with mp_holistic.Holistic(min_detection_confidence=0.5, min_tracking_confidence=0.5) as holistic:\n",
    "    \n",
    "    while cap.isOpened():\n",
    "        ret, frame = cap.read()\n",
    "        \n",
    "        # Recolor Feed\n",
    "        image = cv2.cvtColor(frame, cv2.COLOR_BGR2RGB)\n",
    "        image.flags.writeable = False        \n",
    "        \n",
    "        # Make Detections\n",
    "        results = holistic.process(image)\n",
    "        # print(results.face_landmarks)\n",
    "        \n",
    "        # face_landmarks, pose_landmarks, left_hand_landmarks, right_hand_landmarks\n",
    "        \n",
    "        # Recolor image back to BGR for rendering\n",
    "        image.flags.writeable = True   \n",
    "        image = cv2.cvtColor(image, cv2.COLOR_RGB2BGR)\n",
    "        \n",
    "        # 1. Draw face landmarks\n",
    "        mp_drawing.draw_landmarks(image, results.face_landmarks, mp_holistic.FACEMESH_CONTOURS, \n",
    "                                 mp_drawing.DrawingSpec(color=(80,110,10), thickness=1, circle_radius=1),\n",
    "                                 mp_drawing.DrawingSpec(color=(80,256,121), thickness=1, circle_radius=1)\n",
    "                                 )\n",
    "        \n",
    "        # 2. Right hand\n",
    "        mp_drawing.draw_landmarks(image, results.right_hand_landmarks, mp_holistic.HAND_CONNECTIONS, \n",
    "                                 mp_drawing.DrawingSpec(color=(80,22,10), thickness=2, circle_radius=4),\n",
    "                                 mp_drawing.DrawingSpec(color=(80,44,121), thickness=2, circle_radius=2)\n",
    "                                 )\n",
    "\n",
    "        # 3. Left Hand\n",
    "        mp_drawing.draw_landmarks(image, results.left_hand_landmarks, mp_holistic.HAND_CONNECTIONS, \n",
    "                                 mp_drawing.DrawingSpec(color=(121,22,76), thickness=2, circle_radius=4),\n",
    "                                 mp_drawing.DrawingSpec(color=(121,44,250), thickness=2, circle_radius=2)\n",
    "                                 )\n",
    "\n",
    "        # 4. Pose Detections\n",
    "        mp_drawing.draw_landmarks(image, results.pose_landmarks, mp_holistic.POSE_CONNECTIONS, \n",
    "                                 mp_drawing.DrawingSpec(color=(245,117,66), thickness=2, circle_radius=4),\n",
    "                                 mp_drawing.DrawingSpec(color=(245,66,230), thickness=2, circle_radius=2)\n",
    "                                 )\n",
    "                        \n",
    "        cv2.imshow('Raw Webcam Feed', image)\n",
    "\n",
    "        if cv2.waitKey(10) & 0xFF == ord('q'):\n",
    "            break\n",
    "\n",
    "cap.release()\n",
    "cv2.destroyAllWindows()"
   ]
  },
  {
   "cell_type": "code",
   "execution_count": 22,
   "id": "e1a1bd80",
   "metadata": {},
   "outputs": [
    {
     "data": {
      "text/plain": [
       "0.0"
      ]
     },
     "execution_count": 22,
     "metadata": {},
     "output_type": "execute_result"
    }
   ],
   "source": [
    "results.face_landmarks.landmark[0].visibility"
   ]
  },
  {
   "cell_type": "markdown",
   "id": "f8cc0cf0",
   "metadata": {},
   "source": [
    "## Capture Landmarks & Export to CSV"
   ]
  },
  {
   "cell_type": "code",
   "execution_count": 23,
   "id": "84a7900e",
   "metadata": {},
   "outputs": [],
   "source": [
    "import csv\n",
    "import os\n",
    "import numpy as np"
   ]
  },
  {
   "cell_type": "code",
   "execution_count": 9,
   "id": "d2a8dadf",
   "metadata": {},
   "outputs": [
    {
     "data": {
      "text/plain": [
       "frozenset({(0, 1),\n",
       "           (0, 4),\n",
       "           (1, 2),\n",
       "           (2, 3),\n",
       "           (3, 7),\n",
       "           (4, 5),\n",
       "           (5, 6),\n",
       "           (6, 8),\n",
       "           (9, 10),\n",
       "           (11, 12),\n",
       "           (11, 13),\n",
       "           (11, 23),\n",
       "           (12, 14),\n",
       "           (12, 24),\n",
       "           (13, 15),\n",
       "           (14, 16),\n",
       "           (15, 17),\n",
       "           (15, 19),\n",
       "           (15, 21),\n",
       "           (16, 18),\n",
       "           (16, 20),\n",
       "           (16, 22),\n",
       "           (17, 19),\n",
       "           (18, 20),\n",
       "           (23, 24),\n",
       "           (23, 25),\n",
       "           (24, 26),\n",
       "           (25, 27),\n",
       "           (26, 28),\n",
       "           (27, 29),\n",
       "           (27, 31),\n",
       "           (28, 30),\n",
       "           (28, 32),\n",
       "           (29, 31),\n",
       "           (30, 32)})"
      ]
     },
     "execution_count": 9,
     "metadata": {},
     "output_type": "execute_result"
    }
   ],
   "source": [
    "mp_holistic.POSE_CONNECTIONS"
   ]
  },
  {
   "cell_type": "code",
   "execution_count": 49,
   "id": "698a18b0",
   "metadata": {},
   "outputs": [
    {
     "data": {
      "text/plain": [
       "501"
      ]
     },
     "execution_count": 49,
     "metadata": {},
     "output_type": "execute_result"
    }
   ],
   "source": [
    "num_coords = len(results.pose_landmarks.landmark)+len(results.face_landmarks.landmark)\n",
    "num_coords"
   ]
  },
  {
   "cell_type": "code",
   "execution_count": 50,
   "id": "b0759764",
   "metadata": {},
   "outputs": [],
   "source": [
    "landmarks = ['class']\n",
    "for val in range(1, num_coords+1):\n",
    "    landmarks += ['x{}'.format(val), 'y{}'.format(val), 'z{}'.format(val), 'v{}'.format(val)]"
   ]
  },
  {
   "cell_type": "code",
   "execution_count": 51,
   "id": "a1f042bb",
   "metadata": {},
   "outputs": [
    {
     "data": {
      "text/plain": [
       "['class',\n",
       " 'x1',\n",
       " 'y1',\n",
       " 'z1',\n",
       " 'v1',\n",
       " 'x2',\n",
       " 'y2',\n",
       " 'z2',\n",
       " 'v2',\n",
       " 'x3',\n",
       " 'y3',\n",
       " 'z3',\n",
       " 'v3',\n",
       " 'x4',\n",
       " 'y4',\n",
       " 'z4',\n",
       " 'v4',\n",
       " 'x5',\n",
       " 'y5',\n",
       " 'z5',\n",
       " 'v5',\n",
       " 'x6',\n",
       " 'y6',\n",
       " 'z6',\n",
       " 'v6',\n",
       " 'x7',\n",
       " 'y7',\n",
       " 'z7',\n",
       " 'v7',\n",
       " 'x8',\n",
       " 'y8',\n",
       " 'z8',\n",
       " 'v8',\n",
       " 'x9',\n",
       " 'y9',\n",
       " 'z9',\n",
       " 'v9',\n",
       " 'x10',\n",
       " 'y10',\n",
       " 'z10',\n",
       " 'v10',\n",
       " 'x11',\n",
       " 'y11',\n",
       " 'z11',\n",
       " 'v11',\n",
       " 'x12',\n",
       " 'y12',\n",
       " 'z12',\n",
       " 'v12',\n",
       " 'x13',\n",
       " 'y13',\n",
       " 'z13',\n",
       " 'v13',\n",
       " 'x14',\n",
       " 'y14',\n",
       " 'z14',\n",
       " 'v14',\n",
       " 'x15',\n",
       " 'y15',\n",
       " 'z15',\n",
       " 'v15',\n",
       " 'x16',\n",
       " 'y16',\n",
       " 'z16',\n",
       " 'v16',\n",
       " 'x17',\n",
       " 'y17',\n",
       " 'z17',\n",
       " 'v17',\n",
       " 'x18',\n",
       " 'y18',\n",
       " 'z18',\n",
       " 'v18',\n",
       " 'x19',\n",
       " 'y19',\n",
       " 'z19',\n",
       " 'v19',\n",
       " 'x20',\n",
       " 'y20',\n",
       " 'z20',\n",
       " 'v20',\n",
       " 'x21',\n",
       " 'y21',\n",
       " 'z21',\n",
       " 'v21',\n",
       " 'x22',\n",
       " 'y22',\n",
       " 'z22',\n",
       " 'v22',\n",
       " 'x23',\n",
       " 'y23',\n",
       " 'z23',\n",
       " 'v23',\n",
       " 'x24',\n",
       " 'y24',\n",
       " 'z24',\n",
       " 'v24',\n",
       " 'x25',\n",
       " 'y25',\n",
       " 'z25',\n",
       " 'v25',\n",
       " 'x26',\n",
       " 'y26',\n",
       " 'z26',\n",
       " 'v26',\n",
       " 'x27',\n",
       " 'y27',\n",
       " 'z27',\n",
       " 'v27',\n",
       " 'x28',\n",
       " 'y28',\n",
       " 'z28',\n",
       " 'v28',\n",
       " 'x29',\n",
       " 'y29',\n",
       " 'z29',\n",
       " 'v29',\n",
       " 'x30',\n",
       " 'y30',\n",
       " 'z30',\n",
       " 'v30',\n",
       " 'x31',\n",
       " 'y31',\n",
       " 'z31',\n",
       " 'v31',\n",
       " 'x32',\n",
       " 'y32',\n",
       " 'z32',\n",
       " 'v32',\n",
       " 'x33',\n",
       " 'y33',\n",
       " 'z33',\n",
       " 'v33',\n",
       " 'x34',\n",
       " 'y34',\n",
       " 'z34',\n",
       " 'v34',\n",
       " 'x35',\n",
       " 'y35',\n",
       " 'z35',\n",
       " 'v35',\n",
       " 'x36',\n",
       " 'y36',\n",
       " 'z36',\n",
       " 'v36',\n",
       " 'x37',\n",
       " 'y37',\n",
       " 'z37',\n",
       " 'v37',\n",
       " 'x38',\n",
       " 'y38',\n",
       " 'z38',\n",
       " 'v38',\n",
       " 'x39',\n",
       " 'y39',\n",
       " 'z39',\n",
       " 'v39',\n",
       " 'x40',\n",
       " 'y40',\n",
       " 'z40',\n",
       " 'v40',\n",
       " 'x41',\n",
       " 'y41',\n",
       " 'z41',\n",
       " 'v41',\n",
       " 'x42',\n",
       " 'y42',\n",
       " 'z42',\n",
       " 'v42',\n",
       " 'x43',\n",
       " 'y43',\n",
       " 'z43',\n",
       " 'v43',\n",
       " 'x44',\n",
       " 'y44',\n",
       " 'z44',\n",
       " 'v44',\n",
       " 'x45',\n",
       " 'y45',\n",
       " 'z45',\n",
       " 'v45',\n",
       " 'x46',\n",
       " 'y46',\n",
       " 'z46',\n",
       " 'v46',\n",
       " 'x47',\n",
       " 'y47',\n",
       " 'z47',\n",
       " 'v47',\n",
       " 'x48',\n",
       " 'y48',\n",
       " 'z48',\n",
       " 'v48',\n",
       " 'x49',\n",
       " 'y49',\n",
       " 'z49',\n",
       " 'v49',\n",
       " 'x50',\n",
       " 'y50',\n",
       " 'z50',\n",
       " 'v50',\n",
       " 'x51',\n",
       " 'y51',\n",
       " 'z51',\n",
       " 'v51',\n",
       " 'x52',\n",
       " 'y52',\n",
       " 'z52',\n",
       " 'v52',\n",
       " 'x53',\n",
       " 'y53',\n",
       " 'z53',\n",
       " 'v53',\n",
       " 'x54',\n",
       " 'y54',\n",
       " 'z54',\n",
       " 'v54',\n",
       " 'x55',\n",
       " 'y55',\n",
       " 'z55',\n",
       " 'v55',\n",
       " 'x56',\n",
       " 'y56',\n",
       " 'z56',\n",
       " 'v56',\n",
       " 'x57',\n",
       " 'y57',\n",
       " 'z57',\n",
       " 'v57',\n",
       " 'x58',\n",
       " 'y58',\n",
       " 'z58',\n",
       " 'v58',\n",
       " 'x59',\n",
       " 'y59',\n",
       " 'z59',\n",
       " 'v59',\n",
       " 'x60',\n",
       " 'y60',\n",
       " 'z60',\n",
       " 'v60',\n",
       " 'x61',\n",
       " 'y61',\n",
       " 'z61',\n",
       " 'v61',\n",
       " 'x62',\n",
       " 'y62',\n",
       " 'z62',\n",
       " 'v62',\n",
       " 'x63',\n",
       " 'y63',\n",
       " 'z63',\n",
       " 'v63',\n",
       " 'x64',\n",
       " 'y64',\n",
       " 'z64',\n",
       " 'v64',\n",
       " 'x65',\n",
       " 'y65',\n",
       " 'z65',\n",
       " 'v65',\n",
       " 'x66',\n",
       " 'y66',\n",
       " 'z66',\n",
       " 'v66',\n",
       " 'x67',\n",
       " 'y67',\n",
       " 'z67',\n",
       " 'v67',\n",
       " 'x68',\n",
       " 'y68',\n",
       " 'z68',\n",
       " 'v68',\n",
       " 'x69',\n",
       " 'y69',\n",
       " 'z69',\n",
       " 'v69',\n",
       " 'x70',\n",
       " 'y70',\n",
       " 'z70',\n",
       " 'v70',\n",
       " 'x71',\n",
       " 'y71',\n",
       " 'z71',\n",
       " 'v71',\n",
       " 'x72',\n",
       " 'y72',\n",
       " 'z72',\n",
       " 'v72',\n",
       " 'x73',\n",
       " 'y73',\n",
       " 'z73',\n",
       " 'v73',\n",
       " 'x74',\n",
       " 'y74',\n",
       " 'z74',\n",
       " 'v74',\n",
       " 'x75',\n",
       " 'y75',\n",
       " 'z75',\n",
       " 'v75',\n",
       " 'x76',\n",
       " 'y76',\n",
       " 'z76',\n",
       " 'v76',\n",
       " 'x77',\n",
       " 'y77',\n",
       " 'z77',\n",
       " 'v77',\n",
       " 'x78',\n",
       " 'y78',\n",
       " 'z78',\n",
       " 'v78',\n",
       " 'x79',\n",
       " 'y79',\n",
       " 'z79',\n",
       " 'v79',\n",
       " 'x80',\n",
       " 'y80',\n",
       " 'z80',\n",
       " 'v80',\n",
       " 'x81',\n",
       " 'y81',\n",
       " 'z81',\n",
       " 'v81',\n",
       " 'x82',\n",
       " 'y82',\n",
       " 'z82',\n",
       " 'v82',\n",
       " 'x83',\n",
       " 'y83',\n",
       " 'z83',\n",
       " 'v83',\n",
       " 'x84',\n",
       " 'y84',\n",
       " 'z84',\n",
       " 'v84',\n",
       " 'x85',\n",
       " 'y85',\n",
       " 'z85',\n",
       " 'v85',\n",
       " 'x86',\n",
       " 'y86',\n",
       " 'z86',\n",
       " 'v86',\n",
       " 'x87',\n",
       " 'y87',\n",
       " 'z87',\n",
       " 'v87',\n",
       " 'x88',\n",
       " 'y88',\n",
       " 'z88',\n",
       " 'v88',\n",
       " 'x89',\n",
       " 'y89',\n",
       " 'z89',\n",
       " 'v89',\n",
       " 'x90',\n",
       " 'y90',\n",
       " 'z90',\n",
       " 'v90',\n",
       " 'x91',\n",
       " 'y91',\n",
       " 'z91',\n",
       " 'v91',\n",
       " 'x92',\n",
       " 'y92',\n",
       " 'z92',\n",
       " 'v92',\n",
       " 'x93',\n",
       " 'y93',\n",
       " 'z93',\n",
       " 'v93',\n",
       " 'x94',\n",
       " 'y94',\n",
       " 'z94',\n",
       " 'v94',\n",
       " 'x95',\n",
       " 'y95',\n",
       " 'z95',\n",
       " 'v95',\n",
       " 'x96',\n",
       " 'y96',\n",
       " 'z96',\n",
       " 'v96',\n",
       " 'x97',\n",
       " 'y97',\n",
       " 'z97',\n",
       " 'v97',\n",
       " 'x98',\n",
       " 'y98',\n",
       " 'z98',\n",
       " 'v98',\n",
       " 'x99',\n",
       " 'y99',\n",
       " 'z99',\n",
       " 'v99',\n",
       " 'x100',\n",
       " 'y100',\n",
       " 'z100',\n",
       " 'v100',\n",
       " 'x101',\n",
       " 'y101',\n",
       " 'z101',\n",
       " 'v101',\n",
       " 'x102',\n",
       " 'y102',\n",
       " 'z102',\n",
       " 'v102',\n",
       " 'x103',\n",
       " 'y103',\n",
       " 'z103',\n",
       " 'v103',\n",
       " 'x104',\n",
       " 'y104',\n",
       " 'z104',\n",
       " 'v104',\n",
       " 'x105',\n",
       " 'y105',\n",
       " 'z105',\n",
       " 'v105',\n",
       " 'x106',\n",
       " 'y106',\n",
       " 'z106',\n",
       " 'v106',\n",
       " 'x107',\n",
       " 'y107',\n",
       " 'z107',\n",
       " 'v107',\n",
       " 'x108',\n",
       " 'y108',\n",
       " 'z108',\n",
       " 'v108',\n",
       " 'x109',\n",
       " 'y109',\n",
       " 'z109',\n",
       " 'v109',\n",
       " 'x110',\n",
       " 'y110',\n",
       " 'z110',\n",
       " 'v110',\n",
       " 'x111',\n",
       " 'y111',\n",
       " 'z111',\n",
       " 'v111',\n",
       " 'x112',\n",
       " 'y112',\n",
       " 'z112',\n",
       " 'v112',\n",
       " 'x113',\n",
       " 'y113',\n",
       " 'z113',\n",
       " 'v113',\n",
       " 'x114',\n",
       " 'y114',\n",
       " 'z114',\n",
       " 'v114',\n",
       " 'x115',\n",
       " 'y115',\n",
       " 'z115',\n",
       " 'v115',\n",
       " 'x116',\n",
       " 'y116',\n",
       " 'z116',\n",
       " 'v116',\n",
       " 'x117',\n",
       " 'y117',\n",
       " 'z117',\n",
       " 'v117',\n",
       " 'x118',\n",
       " 'y118',\n",
       " 'z118',\n",
       " 'v118',\n",
       " 'x119',\n",
       " 'y119',\n",
       " 'z119',\n",
       " 'v119',\n",
       " 'x120',\n",
       " 'y120',\n",
       " 'z120',\n",
       " 'v120',\n",
       " 'x121',\n",
       " 'y121',\n",
       " 'z121',\n",
       " 'v121',\n",
       " 'x122',\n",
       " 'y122',\n",
       " 'z122',\n",
       " 'v122',\n",
       " 'x123',\n",
       " 'y123',\n",
       " 'z123',\n",
       " 'v123',\n",
       " 'x124',\n",
       " 'y124',\n",
       " 'z124',\n",
       " 'v124',\n",
       " 'x125',\n",
       " 'y125',\n",
       " 'z125',\n",
       " 'v125',\n",
       " 'x126',\n",
       " 'y126',\n",
       " 'z126',\n",
       " 'v126',\n",
       " 'x127',\n",
       " 'y127',\n",
       " 'z127',\n",
       " 'v127',\n",
       " 'x128',\n",
       " 'y128',\n",
       " 'z128',\n",
       " 'v128',\n",
       " 'x129',\n",
       " 'y129',\n",
       " 'z129',\n",
       " 'v129',\n",
       " 'x130',\n",
       " 'y130',\n",
       " 'z130',\n",
       " 'v130',\n",
       " 'x131',\n",
       " 'y131',\n",
       " 'z131',\n",
       " 'v131',\n",
       " 'x132',\n",
       " 'y132',\n",
       " 'z132',\n",
       " 'v132',\n",
       " 'x133',\n",
       " 'y133',\n",
       " 'z133',\n",
       " 'v133',\n",
       " 'x134',\n",
       " 'y134',\n",
       " 'z134',\n",
       " 'v134',\n",
       " 'x135',\n",
       " 'y135',\n",
       " 'z135',\n",
       " 'v135',\n",
       " 'x136',\n",
       " 'y136',\n",
       " 'z136',\n",
       " 'v136',\n",
       " 'x137',\n",
       " 'y137',\n",
       " 'z137',\n",
       " 'v137',\n",
       " 'x138',\n",
       " 'y138',\n",
       " 'z138',\n",
       " 'v138',\n",
       " 'x139',\n",
       " 'y139',\n",
       " 'z139',\n",
       " 'v139',\n",
       " 'x140',\n",
       " 'y140',\n",
       " 'z140',\n",
       " 'v140',\n",
       " 'x141',\n",
       " 'y141',\n",
       " 'z141',\n",
       " 'v141',\n",
       " 'x142',\n",
       " 'y142',\n",
       " 'z142',\n",
       " 'v142',\n",
       " 'x143',\n",
       " 'y143',\n",
       " 'z143',\n",
       " 'v143',\n",
       " 'x144',\n",
       " 'y144',\n",
       " 'z144',\n",
       " 'v144',\n",
       " 'x145',\n",
       " 'y145',\n",
       " 'z145',\n",
       " 'v145',\n",
       " 'x146',\n",
       " 'y146',\n",
       " 'z146',\n",
       " 'v146',\n",
       " 'x147',\n",
       " 'y147',\n",
       " 'z147',\n",
       " 'v147',\n",
       " 'x148',\n",
       " 'y148',\n",
       " 'z148',\n",
       " 'v148',\n",
       " 'x149',\n",
       " 'y149',\n",
       " 'z149',\n",
       " 'v149',\n",
       " 'x150',\n",
       " 'y150',\n",
       " 'z150',\n",
       " 'v150',\n",
       " 'x151',\n",
       " 'y151',\n",
       " 'z151',\n",
       " 'v151',\n",
       " 'x152',\n",
       " 'y152',\n",
       " 'z152',\n",
       " 'v152',\n",
       " 'x153',\n",
       " 'y153',\n",
       " 'z153',\n",
       " 'v153',\n",
       " 'x154',\n",
       " 'y154',\n",
       " 'z154',\n",
       " 'v154',\n",
       " 'x155',\n",
       " 'y155',\n",
       " 'z155',\n",
       " 'v155',\n",
       " 'x156',\n",
       " 'y156',\n",
       " 'z156',\n",
       " 'v156',\n",
       " 'x157',\n",
       " 'y157',\n",
       " 'z157',\n",
       " 'v157',\n",
       " 'x158',\n",
       " 'y158',\n",
       " 'z158',\n",
       " 'v158',\n",
       " 'x159',\n",
       " 'y159',\n",
       " 'z159',\n",
       " 'v159',\n",
       " 'x160',\n",
       " 'y160',\n",
       " 'z160',\n",
       " 'v160',\n",
       " 'x161',\n",
       " 'y161',\n",
       " 'z161',\n",
       " 'v161',\n",
       " 'x162',\n",
       " 'y162',\n",
       " 'z162',\n",
       " 'v162',\n",
       " 'x163',\n",
       " 'y163',\n",
       " 'z163',\n",
       " 'v163',\n",
       " 'x164',\n",
       " 'y164',\n",
       " 'z164',\n",
       " 'v164',\n",
       " 'x165',\n",
       " 'y165',\n",
       " 'z165',\n",
       " 'v165',\n",
       " 'x166',\n",
       " 'y166',\n",
       " 'z166',\n",
       " 'v166',\n",
       " 'x167',\n",
       " 'y167',\n",
       " 'z167',\n",
       " 'v167',\n",
       " 'x168',\n",
       " 'y168',\n",
       " 'z168',\n",
       " 'v168',\n",
       " 'x169',\n",
       " 'y169',\n",
       " 'z169',\n",
       " 'v169',\n",
       " 'x170',\n",
       " 'y170',\n",
       " 'z170',\n",
       " 'v170',\n",
       " 'x171',\n",
       " 'y171',\n",
       " 'z171',\n",
       " 'v171',\n",
       " 'x172',\n",
       " 'y172',\n",
       " 'z172',\n",
       " 'v172',\n",
       " 'x173',\n",
       " 'y173',\n",
       " 'z173',\n",
       " 'v173',\n",
       " 'x174',\n",
       " 'y174',\n",
       " 'z174',\n",
       " 'v174',\n",
       " 'x175',\n",
       " 'y175',\n",
       " 'z175',\n",
       " 'v175',\n",
       " 'x176',\n",
       " 'y176',\n",
       " 'z176',\n",
       " 'v176',\n",
       " 'x177',\n",
       " 'y177',\n",
       " 'z177',\n",
       " 'v177',\n",
       " 'x178',\n",
       " 'y178',\n",
       " 'z178',\n",
       " 'v178',\n",
       " 'x179',\n",
       " 'y179',\n",
       " 'z179',\n",
       " 'v179',\n",
       " 'x180',\n",
       " 'y180',\n",
       " 'z180',\n",
       " 'v180',\n",
       " 'x181',\n",
       " 'y181',\n",
       " 'z181',\n",
       " 'v181',\n",
       " 'x182',\n",
       " 'y182',\n",
       " 'z182',\n",
       " 'v182',\n",
       " 'x183',\n",
       " 'y183',\n",
       " 'z183',\n",
       " 'v183',\n",
       " 'x184',\n",
       " 'y184',\n",
       " 'z184',\n",
       " 'v184',\n",
       " 'x185',\n",
       " 'y185',\n",
       " 'z185',\n",
       " 'v185',\n",
       " 'x186',\n",
       " 'y186',\n",
       " 'z186',\n",
       " 'v186',\n",
       " 'x187',\n",
       " 'y187',\n",
       " 'z187',\n",
       " 'v187',\n",
       " 'x188',\n",
       " 'y188',\n",
       " 'z188',\n",
       " 'v188',\n",
       " 'x189',\n",
       " 'y189',\n",
       " 'z189',\n",
       " 'v189',\n",
       " 'x190',\n",
       " 'y190',\n",
       " 'z190',\n",
       " 'v190',\n",
       " 'x191',\n",
       " 'y191',\n",
       " 'z191',\n",
       " 'v191',\n",
       " 'x192',\n",
       " 'y192',\n",
       " 'z192',\n",
       " 'v192',\n",
       " 'x193',\n",
       " 'y193',\n",
       " 'z193',\n",
       " 'v193',\n",
       " 'x194',\n",
       " 'y194',\n",
       " 'z194',\n",
       " 'v194',\n",
       " 'x195',\n",
       " 'y195',\n",
       " 'z195',\n",
       " 'v195',\n",
       " 'x196',\n",
       " 'y196',\n",
       " 'z196',\n",
       " 'v196',\n",
       " 'x197',\n",
       " 'y197',\n",
       " 'z197',\n",
       " 'v197',\n",
       " 'x198',\n",
       " 'y198',\n",
       " 'z198',\n",
       " 'v198',\n",
       " 'x199',\n",
       " 'y199',\n",
       " 'z199',\n",
       " 'v199',\n",
       " 'x200',\n",
       " 'y200',\n",
       " 'z200',\n",
       " 'v200',\n",
       " 'x201',\n",
       " 'y201',\n",
       " 'z201',\n",
       " 'v201',\n",
       " 'x202',\n",
       " 'y202',\n",
       " 'z202',\n",
       " 'v202',\n",
       " 'x203',\n",
       " 'y203',\n",
       " 'z203',\n",
       " 'v203',\n",
       " 'x204',\n",
       " 'y204',\n",
       " 'z204',\n",
       " 'v204',\n",
       " 'x205',\n",
       " 'y205',\n",
       " 'z205',\n",
       " 'v205',\n",
       " 'x206',\n",
       " 'y206',\n",
       " 'z206',\n",
       " 'v206',\n",
       " 'x207',\n",
       " 'y207',\n",
       " 'z207',\n",
       " 'v207',\n",
       " 'x208',\n",
       " 'y208',\n",
       " 'z208',\n",
       " 'v208',\n",
       " 'x209',\n",
       " 'y209',\n",
       " 'z209',\n",
       " 'v209',\n",
       " 'x210',\n",
       " 'y210',\n",
       " 'z210',\n",
       " 'v210',\n",
       " 'x211',\n",
       " 'y211',\n",
       " 'z211',\n",
       " 'v211',\n",
       " 'x212',\n",
       " 'y212',\n",
       " 'z212',\n",
       " 'v212',\n",
       " 'x213',\n",
       " 'y213',\n",
       " 'z213',\n",
       " 'v213',\n",
       " 'x214',\n",
       " 'y214',\n",
       " 'z214',\n",
       " 'v214',\n",
       " 'x215',\n",
       " 'y215',\n",
       " 'z215',\n",
       " 'v215',\n",
       " 'x216',\n",
       " 'y216',\n",
       " 'z216',\n",
       " 'v216',\n",
       " 'x217',\n",
       " 'y217',\n",
       " 'z217',\n",
       " 'v217',\n",
       " 'x218',\n",
       " 'y218',\n",
       " 'z218',\n",
       " 'v218',\n",
       " 'x219',\n",
       " 'y219',\n",
       " 'z219',\n",
       " 'v219',\n",
       " 'x220',\n",
       " 'y220',\n",
       " 'z220',\n",
       " 'v220',\n",
       " 'x221',\n",
       " 'y221',\n",
       " 'z221',\n",
       " 'v221',\n",
       " 'x222',\n",
       " 'y222',\n",
       " 'z222',\n",
       " 'v222',\n",
       " 'x223',\n",
       " 'y223',\n",
       " 'z223',\n",
       " 'v223',\n",
       " 'x224',\n",
       " 'y224',\n",
       " 'z224',\n",
       " 'v224',\n",
       " 'x225',\n",
       " 'y225',\n",
       " 'z225',\n",
       " 'v225',\n",
       " 'x226',\n",
       " 'y226',\n",
       " 'z226',\n",
       " 'v226',\n",
       " 'x227',\n",
       " 'y227',\n",
       " 'z227',\n",
       " 'v227',\n",
       " 'x228',\n",
       " 'y228',\n",
       " 'z228',\n",
       " 'v228',\n",
       " 'x229',\n",
       " 'y229',\n",
       " 'z229',\n",
       " 'v229',\n",
       " 'x230',\n",
       " 'y230',\n",
       " 'z230',\n",
       " 'v230',\n",
       " 'x231',\n",
       " 'y231',\n",
       " 'z231',\n",
       " 'v231',\n",
       " 'x232',\n",
       " 'y232',\n",
       " 'z232',\n",
       " 'v232',\n",
       " 'x233',\n",
       " 'y233',\n",
       " 'z233',\n",
       " 'v233',\n",
       " 'x234',\n",
       " 'y234',\n",
       " 'z234',\n",
       " 'v234',\n",
       " 'x235',\n",
       " 'y235',\n",
       " 'z235',\n",
       " 'v235',\n",
       " 'x236',\n",
       " 'y236',\n",
       " 'z236',\n",
       " 'v236',\n",
       " 'x237',\n",
       " 'y237',\n",
       " 'z237',\n",
       " 'v237',\n",
       " 'x238',\n",
       " 'y238',\n",
       " 'z238',\n",
       " 'v238',\n",
       " 'x239',\n",
       " 'y239',\n",
       " 'z239',\n",
       " 'v239',\n",
       " 'x240',\n",
       " 'y240',\n",
       " 'z240',\n",
       " 'v240',\n",
       " 'x241',\n",
       " 'y241',\n",
       " 'z241',\n",
       " 'v241',\n",
       " 'x242',\n",
       " 'y242',\n",
       " 'z242',\n",
       " 'v242',\n",
       " 'x243',\n",
       " 'y243',\n",
       " 'z243',\n",
       " 'v243',\n",
       " 'x244',\n",
       " 'y244',\n",
       " 'z244',\n",
       " 'v244',\n",
       " 'x245',\n",
       " 'y245',\n",
       " 'z245',\n",
       " 'v245',\n",
       " 'x246',\n",
       " 'y246',\n",
       " 'z246',\n",
       " 'v246',\n",
       " 'x247',\n",
       " 'y247',\n",
       " 'z247',\n",
       " 'v247',\n",
       " 'x248',\n",
       " 'y248',\n",
       " 'z248',\n",
       " 'v248',\n",
       " 'x249',\n",
       " 'y249',\n",
       " 'z249',\n",
       " 'v249',\n",
       " 'x250',\n",
       " 'y250',\n",
       " 'z250',\n",
       " ...]"
      ]
     },
     "execution_count": 51,
     "metadata": {},
     "output_type": "execute_result"
    }
   ],
   "source": [
    "landmarks"
   ]
  },
  {
   "cell_type": "code",
   "execution_count": 71,
   "id": "53e88ce4",
   "metadata": {},
   "outputs": [],
   "source": [
    "with open('coords.csv', mode='w', newline='') as f:\n",
    "    csv_writer = csv.writer(f, delimiter=',', quotechar='\"', quoting=csv.QUOTE_MINIMAL)\n",
    "    csv_writer.writerow(landmarks)"
   ]
  },
  {
   "cell_type": "code",
   "execution_count": 101,
   "id": "f332570f",
   "metadata": {},
   "outputs": [],
   "source": [
    "class_name = \"Wakanda Forever\""
   ]
  },
  {
   "cell_type": "code",
   "execution_count": 108,
   "id": "85951525",
   "metadata": {},
   "outputs": [
    {
     "ename": "KeyboardInterrupt",
     "evalue": "",
     "output_type": "error",
     "traceback": [
      "\u001B[1;31m---------------------------------------------------------------------------\u001B[0m",
      "\u001B[1;31mKeyboardInterrupt\u001B[0m                         Traceback (most recent call last)",
      "\u001B[1;32m~\\AppData\\Local\\Temp\\ipykernel_14404\\1369717015.py\u001B[0m in \u001B[0;36m<module>\u001B[1;34m\u001B[0m\n\u001B[0;32m     11\u001B[0m \u001B[1;33m\u001B[0m\u001B[0m\n\u001B[0;32m     12\u001B[0m         \u001B[1;31m# Make Detections\u001B[0m\u001B[1;33m\u001B[0m\u001B[1;33m\u001B[0m\u001B[0m\n\u001B[1;32m---> 13\u001B[1;33m         \u001B[0mresults\u001B[0m \u001B[1;33m=\u001B[0m \u001B[0mholistic\u001B[0m\u001B[1;33m.\u001B[0m\u001B[0mprocess\u001B[0m\u001B[1;33m(\u001B[0m\u001B[0mimage\u001B[0m\u001B[1;33m)\u001B[0m\u001B[1;33m\u001B[0m\u001B[1;33m\u001B[0m\u001B[0m\n\u001B[0m\u001B[0;32m     14\u001B[0m         \u001B[1;31m# print(results.face_landmarks)\u001B[0m\u001B[1;33m\u001B[0m\u001B[1;33m\u001B[0m\u001B[0m\n\u001B[0;32m     15\u001B[0m \u001B[1;33m\u001B[0m\u001B[0m\n",
      "\u001B[1;32m~\\anaconda3\\lib\\site-packages\\mediapipe\\python\\solutions\\holistic.py\u001B[0m in \u001B[0;36mprocess\u001B[1;34m(self, image)\u001B[0m\n\u001B[0;32m    158\u001B[0m     \"\"\"\n\u001B[0;32m    159\u001B[0m \u001B[1;33m\u001B[0m\u001B[0m\n\u001B[1;32m--> 160\u001B[1;33m     \u001B[0mresults\u001B[0m \u001B[1;33m=\u001B[0m \u001B[0msuper\u001B[0m\u001B[1;33m(\u001B[0m\u001B[1;33m)\u001B[0m\u001B[1;33m.\u001B[0m\u001B[0mprocess\u001B[0m\u001B[1;33m(\u001B[0m\u001B[0minput_data\u001B[0m\u001B[1;33m=\u001B[0m\u001B[1;33m{\u001B[0m\u001B[1;34m'image'\u001B[0m\u001B[1;33m:\u001B[0m \u001B[0mimage\u001B[0m\u001B[1;33m}\u001B[0m\u001B[1;33m)\u001B[0m\u001B[1;33m\u001B[0m\u001B[1;33m\u001B[0m\u001B[0m\n\u001B[0m\u001B[0;32m    161\u001B[0m     \u001B[1;32mif\u001B[0m \u001B[0mresults\u001B[0m\u001B[1;33m.\u001B[0m\u001B[0mpose_landmarks\u001B[0m\u001B[1;33m:\u001B[0m  \u001B[1;31m# pytype: disable=attribute-error\u001B[0m\u001B[1;33m\u001B[0m\u001B[1;33m\u001B[0m\u001B[0m\n\u001B[0;32m    162\u001B[0m       \u001B[1;32mfor\u001B[0m \u001B[0mlandmark\u001B[0m \u001B[1;32min\u001B[0m \u001B[0mresults\u001B[0m\u001B[1;33m.\u001B[0m\u001B[0mpose_landmarks\u001B[0m\u001B[1;33m.\u001B[0m\u001B[0mlandmark\u001B[0m\u001B[1;33m:\u001B[0m  \u001B[1;31m# pytype: disable=attribute-error\u001B[0m\u001B[1;33m\u001B[0m\u001B[1;33m\u001B[0m\u001B[0m\n",
      "\u001B[1;32m~\\anaconda3\\lib\\site-packages\\mediapipe\\python\\solution_base.py\u001B[0m in \u001B[0;36mprocess\u001B[1;34m(self, input_data)\u001B[0m\n\u001B[0;32m    363\u001B[0m                                      data).at(self._simulated_timestamp))\n\u001B[0;32m    364\u001B[0m \u001B[1;33m\u001B[0m\u001B[0m\n\u001B[1;32m--> 365\u001B[1;33m     \u001B[0mself\u001B[0m\u001B[1;33m.\u001B[0m\u001B[0m_graph\u001B[0m\u001B[1;33m.\u001B[0m\u001B[0mwait_until_idle\u001B[0m\u001B[1;33m(\u001B[0m\u001B[1;33m)\u001B[0m\u001B[1;33m\u001B[0m\u001B[1;33m\u001B[0m\u001B[0m\n\u001B[0m\u001B[0;32m    366\u001B[0m     \u001B[1;31m# Create a NamedTuple object where the field names are mapping to the graph\u001B[0m\u001B[1;33m\u001B[0m\u001B[1;33m\u001B[0m\u001B[0m\n\u001B[0;32m    367\u001B[0m     \u001B[1;31m# output stream names.\u001B[0m\u001B[1;33m\u001B[0m\u001B[1;33m\u001B[0m\u001B[0m\n",
      "\u001B[1;31mKeyboardInterrupt\u001B[0m: "
     ]
    }
   ],
   "source": [
    "cap = cv2.VideoCapture(0)\n",
    "# Initiate holistic model\n",
    "with mp_holistic.Holistic(min_detection_confidence=0.5, min_tracking_confidence=0.5) as holistic:\n",
    "    \n",
    "    while cap.isOpened():\n",
    "        ret, frame = cap.read()\n",
    "        \n",
    "        # Recolor Feed\n",
    "        image = cv2.cvtColor(frame, cv2.COLOR_BGR2RGB)\n",
    "        image.flags.writeable = False        \n",
    "        \n",
    "        # Make Detections\n",
    "        results = holistic.process(image)\n",
    "        # print(results.face_landmarks)\n",
    "        \n",
    "        # face_landmarks, pose_landmarks, left_hand_landmarks, right_hand_landmarks\n",
    "        \n",
    "        # Recolor image back to BGR for rendering\n",
    "        image.flags.writeable = True   \n",
    "        image = cv2.cvtColor(image, cv2.COLOR_RGB2BGR)\n",
    "        \n",
    "        # 1. Draw face landmarks\n",
    "        mp_drawing.draw_landmarks(image, results.face_landmarks, mp_holistic.FACEMESH_CONTOURS, \n",
    "                                 mp_drawing.DrawingSpec(color=(80,110,10), thickness=1, circle_radius=1),\n",
    "                                 mp_drawing.DrawingSpec(color=(80,256,121), thickness=1, circle_radius=1)\n",
    "                                 )\n",
    "        \n",
    "        # 2. Right hand\n",
    "        mp_drawing.draw_landmarks(image, results.right_hand_landmarks, mp_holistic.HAND_CONNECTIONS, \n",
    "                                 mp_drawing.DrawingSpec(color=(80,22,10), thickness=2, circle_radius=4),\n",
    "                                 mp_drawing.DrawingSpec(color=(80,44,121), thickness=2, circle_radius=2)\n",
    "                                 )\n",
    "\n",
    "        # 3. Left Hand\n",
    "        mp_drawing.draw_landmarks(image, results.left_hand_landmarks, mp_holistic.HAND_CONNECTIONS, \n",
    "                                 mp_drawing.DrawingSpec(color=(121,22,76), thickness=2, circle_radius=4),\n",
    "                                 mp_drawing.DrawingSpec(color=(121,44,250), thickness=2, circle_radius=2)\n",
    "                                 )\n",
    "\n",
    "        # 4. Pose Detections\n",
    "        mp_drawing.draw_landmarks(image, results.pose_landmarks, mp_holistic.POSE_CONNECTIONS, \n",
    "                                 mp_drawing.DrawingSpec(color=(245,117,66), thickness=2, circle_radius=4),\n",
    "                                 mp_drawing.DrawingSpec(color=(245,66,230), thickness=2, circle_radius=2)\n",
    "                                 )\n",
    "        # Export coordinates\n",
    "        try:\n",
    "            # Extract Pose landmarks\n",
    "            pose = results.pose_landmarks.landmark\n",
    "            pose_row = list(np.array([[landmark.x, landmark.y, landmark.z, landmark.visibility] for landmark in pose]).flatten())\n",
    "            \n",
    "            # Extract Face landmarks\n",
    "            face = results.face_landmarks.landmark\n",
    "            face_row = list(np.array([[landmark.x, landmark.y, landmark.z, landmark.visibility] for landmark in face]).flatten())\n",
    "            \n",
    "            # Concate rows\n",
    "            row = pose_row+face_row\n",
    "            \n",
    "            # Append class name \n",
    "            row.insert(0, class_name)\n",
    "            \n",
    "            # Export to CSV\n",
    "            with open('coords.csv', mode='a', newline='') as f:\n",
    "                csv_writer = csv.writer(f, delimiter=',', quotechar='\"', quoting=csv.QUOTE_MINIMAL)\n",
    "                csv_writer.writerow(row) \n",
    "            \n",
    "        except:\n",
    "            pass\n",
    "                        \n",
    "        cv2.imshow('Raw Webcam Feed', image)\n",
    "\n",
    "        if cv2.waitKey(10) & 0xFF == ord('q'):\n",
    "            break\n",
    "\n",
    "cap.release()\n",
    "cv2.destroyAllWindows()"
   ]
  },
  {
   "cell_type": "code",
   "execution_count": 102,
   "id": "0596eb73",
   "metadata": {},
   "outputs": [],
   "source": [
    "pose_row = list(np.array([[landmark.x, landmark.y, landmark.z, landmark.visibility] for landmark in pose]).flatten())"
   ]
  },
  {
   "cell_type": "code",
   "execution_count": 103,
   "id": "4f3a7eae",
   "metadata": {},
   "outputs": [],
   "source": [
    "face_row = list(np.array([[landmark.x, landmark.y, landmark.z, landmark.visibility] for landmark in face]).flatten())"
   ]
  },
  {
   "cell_type": "code",
   "execution_count": 104,
   "id": "4292d235",
   "metadata": {},
   "outputs": [],
   "source": [
    "row = pose_row+face_row"
   ]
  },
  {
   "cell_type": "code",
   "execution_count": 105,
   "id": "d09405c2",
   "metadata": {},
   "outputs": [],
   "source": [
    "row.insert(0, class_name)"
   ]
  },
  {
   "cell_type": "code",
   "execution_count": 106,
   "id": "6e3b6d89",
   "metadata": {},
   "outputs": [
    {
     "data": {
      "text/plain": [
       "2005"
      ]
     },
     "execution_count": 106,
     "metadata": {},
     "output_type": "execute_result"
    }
   ],
   "source": [
    "len(row)"
   ]
  },
  {
   "cell_type": "code",
   "execution_count": 109,
   "id": "1ac17706",
   "metadata": {},
   "outputs": [],
   "source": [
    "cap.release()\n",
    "cv2.destroyAllWindows()"
   ]
  },
  {
   "cell_type": "code",
   "execution_count": 107,
   "id": "1b3f2b94",
   "metadata": {},
   "outputs": [
    {
     "data": {
      "text/plain": [
       "['Wakanda Forever',\n",
       " 0.544761598110199,\n",
       " 0.5971686840057373,\n",
       " -0.6240878105163574,\n",
       " 0.9999879002571106,\n",
       " 0.5758561491966248,\n",
       " 0.5396501421928406,\n",
       " -0.5778034329414368,\n",
       " 0.9999789595603943,\n",
       " 0.594295859336853,\n",
       " 0.5397804379463196,\n",
       " -0.5775903463363647,\n",
       " 0.9999801516532898,\n",
       " 0.608710527420044,\n",
       " 0.5402334928512573,\n",
       " -0.5772126317024231,\n",
       " 0.9999804496765137,\n",
       " 0.5233495831489563,\n",
       " 0.5390651226043701,\n",
       " -0.5745422840118408,\n",
       " 0.9999732375144958,\n",
       " 0.505846381187439,\n",
       " 0.5382777452468872,\n",
       " -0.5734970569610596,\n",
       " 0.9999648332595825,\n",
       " 0.49002233147621155,\n",
       " 0.5387553572654724,\n",
       " -0.5738328695297241,\n",
       " 0.9999628067016602,\n",
       " 0.6372467279434204,\n",
       " 0.5637177228927612,\n",
       " -0.2699774205684662,\n",
       " 0.9999822974205017,\n",
       " 0.4757445454597473,\n",
       " 0.5566269159317017,\n",
       " -0.25086304545402527,\n",
       " 0.9999781847000122,\n",
       " 0.5808112025260925,\n",
       " 0.6672976613044739,\n",
       " -0.5054448246955872,\n",
       " 0.9999768137931824,\n",
       " 0.5154950022697449,\n",
       " 0.6658154726028442,\n",
       " -0.5026723742485046,\n",
       " 0.9999784827232361,\n",
       " 0.7456057667732239,\n",
       " 0.8572860956192017,\n",
       " -0.1176566332578659,\n",
       " 0.9997279047966003,\n",
       " 0.3533634543418884,\n",
       " 0.8267138600349426,\n",
       " -0.0591268353164196,\n",
       " 0.998086154460907,\n",
       " 0.9366123080253601,\n",
       " 1.2193567752838135,\n",
       " -0.5237157940864563,\n",
       " 0.8417982459068298,\n",
       " 0.23231618106365204,\n",
       " 1.0978723764419556,\n",
       " 0.04324399307370186,\n",
       " 0.2295713722705841,\n",
       " 0.8585199117660522,\n",
       " 0.8104075789451599,\n",
       " -0.9367993474006653,\n",
       " 0.9844459295272827,\n",
       " 0.17795665562152863,\n",
       " 1.5584322214126587,\n",
       " -0.15382593870162964,\n",
       " 0.23042254149913788,\n",
       " 0.8756961822509766,\n",
       " 0.6816510558128357,\n",
       " -1.035884141921997,\n",
       " 0.9716314077377319,\n",
       " 0.14656224846839905,\n",
       " 1.6651203632354736,\n",
       " -0.18447935581207275,\n",
       " 0.31246742606163025,\n",
       " 0.8282666206359863,\n",
       " 0.6390752196311951,\n",
       " -0.9283315539360046,\n",
       " 0.9777028560638428,\n",
       " 0.18175581097602844,\n",
       " 1.6545313596725464,\n",
       " -0.25396567583084106,\n",
       " 0.43652915954589844,\n",
       " 0.8030263185501099,\n",
       " 0.6930342316627502,\n",
       " -0.9135072827339172,\n",
       " 0.9705696702003479,\n",
       " 0.2040662318468094,\n",
       " 1.6215261220932007,\n",
       " -0.19688083231449127,\n",
       " 0.4307902157306671,\n",
       " 0.670908510684967,\n",
       " 1.5820025205612183,\n",
       " -0.07040973752737045,\n",
       " 0.0006647506961598992,\n",
       " 0.39100807905197144,\n",
       " 1.572046160697937,\n",
       " 0.0766943171620369,\n",
       " 0.0004074882308486849,\n",
       " 0.6486573815345764,\n",
       " 2.2164194583892822,\n",
       " -0.29801326990127563,\n",
       " 0.0003104593197349459,\n",
       " 0.3790281414985657,\n",
       " 2.1874284744262695,\n",
       " -0.14062674343585968,\n",
       " 0.00011340330820530653,\n",
       " 0.6377891898155212,\n",
       " 2.778926372528076,\n",
       " 0.002841296372935176,\n",
       " 4.523677944234805e-06,\n",
       " 0.37500467896461487,\n",
       " 2.7551896572113037,\n",
       " -0.06177784875035286,\n",
       " 1.2477665904953028e-06,\n",
       " 0.642275333404541,\n",
       " 2.8591156005859375,\n",
       " 0.0061860294081270695,\n",
       " 5.0179892241430935e-06,\n",
       " 0.3694821298122406,\n",
       " 2.8427085876464844,\n",
       " -0.06741401553153992,\n",
       " 2.584933781690779e-06,\n",
       " 0.5868967771530151,\n",
       " 2.958099603652954,\n",
       " -0.5238061547279358,\n",
       " 4.012849603896029e-05,\n",
       " 0.41250044107437134,\n",
       " 2.925140857696533,\n",
       " -0.6129342913627625,\n",
       " 2.6313677153666504e-05,\n",
       " 0.5450232028961182,\n",
       " 0.646651029586792,\n",
       " -0.024119894951581955,\n",
       " 0.0,\n",
       " 0.5461810827255249,\n",
       " 0.6082454919815063,\n",
       " -0.049030087888240814,\n",
       " 0.0,\n",
       " 0.5455392599105835,\n",
       " 0.619744062423706,\n",
       " -0.024667318910360336,\n",
       " 0.0,\n",
       " 0.5394788384437561,\n",
       " 0.5660105347633362,\n",
       " -0.03846918046474457,\n",
       " 0.0,\n",
       " 0.5466061234474182,\n",
       " 0.5953420996665955,\n",
       " -0.052617065608501434,\n",
       " 0.0,\n",
       " 0.5469845533370972,\n",
       " 0.5783475637435913,\n",
       " -0.049540989100933075,\n",
       " 0.0,\n",
       " 0.5478323101997375,\n",
       " 0.5373539328575134,\n",
       " -0.026661409065127373,\n",
       " 0.0,\n",
       " 0.4812958240509033,\n",
       " 0.5283153057098389,\n",
       " 0.00851992703974247,\n",
       " 0.0,\n",
       " 0.5488511323928833,\n",
       " 0.5063949823379517,\n",
       " -0.022047292441129684,\n",
       " 0.0,\n",
       " 0.5495678186416626,\n",
       " 0.4889022707939148,\n",
       " -0.024976396933197975,\n",
       " 0.0,\n",
       " 0.5518309473991394,\n",
       " 0.4203972816467285,\n",
       " -0.0180230513215065,\n",
       " 0.0,\n",
       " 0.5447964668273926,\n",
       " 0.6527427434921265,\n",
       " -0.02275918982923031,\n",
       " 0.0,\n",
       " 0.5445855259895325,\n",
       " 0.6571334004402161,\n",
       " -0.01950511336326599,\n",
       " 0.0,\n",
       " 0.544436514377594,\n",
       " 0.6586242914199829,\n",
       " -0.01526433601975441,\n",
       " 0.0,\n",
       " 0.5446063280105591,\n",
       " 0.6630904674530029,\n",
       " -0.014463107101619244,\n",
       " 0.0,\n",
       " 0.5445291996002197,\n",
       " 0.6683641076087952,\n",
       " -0.015775104984641075,\n",
       " 0.0,\n",
       " 0.5443075895309448,\n",
       " 0.6750401258468628,\n",
       " -0.017238732427358627,\n",
       " 0.0,\n",
       " 0.5440081357955933,\n",
       " 0.6821480989456177,\n",
       " -0.015327360481023788,\n",
       " 0.0,\n",
       " 0.5433093905448914,\n",
       " 0.6937453746795654,\n",
       " -0.00543749425560236,\n",
       " 0.0,\n",
       " 0.5458323359489441,\n",
       " 0.6144437193870544,\n",
       " -0.04402744397521019,\n",
       " 0.0,\n",
       " 0.5380133390426636,\n",
       " 0.61262047290802,\n",
       " -0.03143219277262688,\n",
       " 0.0,\n",
       " 0.449072003364563,\n",
       " 0.47452619671821594,\n",
       " 0.04912523925304413,\n",
       " 0.0,\n",
       " 0.5071645975112915,\n",
       " 0.542016863822937,\n",
       " -0.0002892696065828204,\n",
       " 0.0,\n",
       " 0.4980356693267822,\n",
       " 0.5421818494796753,\n",
       " 0.00023576141393277794,\n",
       " 0.0,\n",
       " 0.4893748164176941,\n",
       " 0.5406830310821533,\n",
       " 0.0026623872108757496,\n",
       " 0.0,\n",
       " 0.47777730226516724,\n",
       " 0.5325731635093689,\n",
       " 0.010080155916512012,\n",
       " 0.0,\n",
       " 0.5149729251861572,\n",
       " 0.539480447769165,\n",
       " 0.0008223136537708342,\n",
       " 0.0,\n",
       " 0.49670201539993286,\n",
       " 0.5101766586303711,\n",
       " -0.005049637984484434,\n",
       " 0.0,\n",
       " 0.5063056349754333,\n",
       " 0.5117673277854919,\n",
       " -0.004880809225142002,\n",
       " 0.0,\n",
       " 0.4876144528388977,\n",
       " 0.5111744403839111,\n",
       " -0.001981761073693633,\n",
       " 0.0,\n",
       " 0.4813098609447479,\n",
       " 0.5146588087081909,\n",
       " 0.0017677054274827242,\n",
       " 0.0,\n",
       " 0.47009173035621643,\n",
       " 0.5399388670921326,\n",
       " 0.015034233219921589,\n",
       " 0.0,\n",
       " 0.5093013644218445,\n",
       " 0.7106258869171143,\n",
       " 0.005764579400420189,\n",
       " 0.0,\n",
       " 0.47822701930999756,\n",
       " 0.5249279737472534,\n",
       " 0.011417942121624947,\n",
       " 0.0,\n",
       " 0.44341281056404114,\n",
       " 0.5305255651473999,\n",
       " 0.05564667657017708,\n",
       " 0.0,\n",
       " 0.4601351022720337,\n",
       " 0.5305500030517578,\n",
       " 0.02383962646126747,\n",
       " 0.0,\n",
       " 0.49964746832847595,\n",
       " 0.593048095703125,\n",
       " -0.006729180924594402,\n",
       " 0.0,\n",
       " 0.5338655114173889,\n",
       " 0.6441762447357178,\n",
       " -0.02321706712245941,\n",
       " 0.0,\n",
       " 0.5347459316253662,\n",
       " 0.6562983989715576,\n",
       " -0.01844158209860325,\n",
       " 0.0,\n",
       " 0.5221906900405884,\n",
       " 0.647038996219635,\n",
       " -0.017946483567357063,\n",
       " 0.0,\n",
       " 0.514495313167572,\n",
       " 0.6510539054870605,\n",
       " -0.011131051927804947,\n",
       " 0.0,\n",
       " 0.5264214277267456,\n",
       " 0.656393826007843,\n",
       " -0.015006166882812977,\n",
       " 0.0,\n",
       " 0.519836962223053,\n",
       " 0.6568081974983215,\n",
       " -0.00861955713480711,\n",
       " 0.0,\n",
       " 0.5030785799026489,\n",
       " 0.6690154075622559,\n",
       " 0.004227143712341785,\n",
       " 0.0,\n",
       " 0.5389007925987244,\n",
       " 0.6074138283729553,\n",
       " -0.048344504088163376,\n",
       " 0.0,\n",
       " 0.5381156802177429,\n",
       " 0.5949898958206177,\n",
       " -0.051709920167922974,\n",
       " 0.0,\n",
       " 0.4671402871608734,\n",
       " 0.4998193681240082,\n",
       " 0.0037824190221726894,\n",
       " 0.0,\n",
       " 0.5190379619598389,\n",
       " 0.5631527900695801,\n",
       " -0.009159381501376629,\n",
       " 0.0,\n",
       " 0.5180688500404358,\n",
       " 0.6018821001052856,\n",
       " -0.026112565770745277,\n",
       " 0.0,\n",
       " 0.517410397529602,\n",
       " 0.595061719417572,\n",
       " -0.023555709049105644,\n",
       " 0.0,\n",
       " 0.4713691174983978,\n",
       " 0.5894599556922913,\n",
       " 0.004547358024865389,\n",
       " 0.0,\n",
       " 0.5387983918190002,\n",
       " 0.5792611241340637,\n",
       " -0.04679567366838455,\n",
       " 0.0,\n",
       " 0.4898054897785187,\n",
       " 0.489016592502594,\n",
       " -0.012410661205649376,\n",
       " 0.0,\n",
       " 0.47662943601608276,\n",
       " 0.4918905794620514,\n",
       " -0.005200685001909733,\n",
       " 0.0,\n",
       " 0.4587976038455963,\n",
       " 0.45227450132369995,\n",
       " 0.02977900579571724,\n",
       " 0.0,\n",
       " 0.5294618606567383,\n",
       " 0.5027285814285278,\n",
       " -0.01950938254594803,\n",
       " 0.0,\n",
       " 0.5144811272621155,\n",
       " 0.5162336230278015,\n",
       " -0.0018597653834149241,\n",
       " 0.0,\n",
       " 0.4962977468967438,\n",
       " 0.6565791368484497,\n",
       " 0.005458028521388769,\n",
       " 0.0,\n",
       " 0.45126718282699585,\n",
       " 0.6475531458854675,\n",
       " 0.08688957244157791,\n",
       " 0.0,\n",
       " 0.524516224861145,\n",
       " 0.6090803742408752,\n",
       " -0.02210274524986744,\n",
       " 0.0,\n",
       " 0.5320576429367065,\n",
       " 0.6133334040641785,\n",
       " -0.02249511517584324,\n",
       " 0.0,\n",
       " 0.5059893131256104,\n",
       " 0.6570970416069031,\n",
       " 0.0045699854381382465,\n",
       " 0.0,\n",
       " 0.5102817416191101,\n",
       " 0.6566741466522217,\n",
       " 0.0021351766772568226,\n",
       " 0.0,\n",
       " 0.4716002643108368,\n",
       " 0.48231515288352966,\n",
       " -0.0012859414564445615,\n",
       " 0.0,\n",
       " 0.5175668597221375,\n",
       " 0.6069155335426331,\n",
       " -0.020700162276625633,\n",
       " 0.0,\n",
       " 0.5070839524269104,\n",
       " 0.49173444509506226,\n",
       " -0.01747238077223301,\n",
       " 0.0,\n",
       " 0.5057957768440247,\n",
       " 0.48042547702789307,\n",
       " -0.020053312182426453,\n",
       " 0.0,\n",
       " 0.497329443693161,\n",
       " 0.4239960312843323,\n",
       " -0.006870761048048735,\n",
       " 0.0,\n",
       " 0.465442955493927,\n",
       " 0.46664783358573914,\n",
       " 0.011801401153206825,\n",
       " 0.0,\n",
       " 0.5026596188545227,\n",
       " 0.45110023021698,\n",
       " -0.014200486242771149,\n",
       " 0.0,\n",
       " 0.46153345704078674,\n",
       " 0.49307283759117126,\n",
       " 0.01134196575731039,\n",
       " 0.0,\n",
       " 0.45524919033050537,\n",
       " 0.48422202467918396,\n",
       " 0.028872128576040268,\n",
       " 0.0,\n",
       " 0.5341253280639648,\n",
       " 0.651332437992096,\n",
       " -0.02189013734459877,\n",
       " 0.0,\n",
       " 0.5245713591575623,\n",
       " 0.6527723670005798,\n",
       " -0.01692688651382923,\n",
       " 0.0,\n",
       " 0.5171986818313599,\n",
       " 0.6541574597358704,\n",
       " -0.010636081919074059,\n",
       " 0.0,\n",
       " 0.5268198847770691,\n",
       " 0.6112993955612183,\n",
       " -0.019996194168925285,\n",
       " 0.0,\n",
       " 0.5081958174705505,\n",
       " 0.6570509076118469,\n",
       " 0.00329629541374743,\n",
       " 0.0,\n",
       " 0.5121456980705261,\n",
       " 0.6603041887283325,\n",
       " -0.002032772172242403,\n",
       " 0.0,\n",
       " 0.5113134384155273,\n",
       " 0.6560957431793213,\n",
       " 0.0018381980480626225,\n",
       " 0.0,\n",
       " 0.5292521715164185,\n",
       " 0.6058793663978577,\n",
       " -0.035241276025772095,\n",
       " 0.0,\n",
       " 0.5215623378753662,\n",
       " 0.6559635996818542,\n",
       " -0.007134680170565844,\n",
       " 0.0,\n",
       " 0.5281217098236084,\n",
       " 0.6567026376724243,\n",
       " -0.011258610524237156,\n",
       " 0.0,\n",
       " 0.5357173681259155,\n",
       " 0.6577618718147278,\n",
       " -0.014440100640058517,\n",
       " 0.0,\n",
       " 0.5313781499862671,\n",
       " 0.6927184462547302,\n",
       " -0.005245630629360676,\n",
       " 0.0,\n",
       " 0.5329235792160034,\n",
       " 0.6805026531219482,\n",
       " -0.014948035590350628,\n",
       " 0.0,\n",
       " 0.5337111353874207,\n",
       " 0.6730411052703857,\n",
       " -0.016590526327490807,\n",
       " 0.0,\n",
       " 0.5345367193222046,\n",
       " 0.6665186285972595,\n",
       " -0.014915441162884235,\n",
       " 0.0,\n",
       " 0.5354471802711487,\n",
       " 0.6621739268302917,\n",
       " -0.0135422358289361,\n",
       " 0.0,\n",
       " 0.5205496549606323,\n",
       " 0.659365713596344,\n",
       " -0.006234265398234129,\n",
       " 0.0,\n",
       " 0.5191249847412109,\n",
       " 0.6608898043632507,\n",
       " -0.007630752865225077,\n",
       " 0.0,\n",
       " 0.5170584321022034,\n",
       " 0.6641247272491455,\n",
       " -0.008716623298823833,\n",
       " 0.0,\n",
       " 0.5151981115341187,\n",
       " 0.6684150099754333,\n",
       " -0.006815034430474043,\n",
       " 0.0,\n",
       " 0.5069100856781006,\n",
       " 0.6371589303016663,\n",
       " -0.008599545806646347,\n",
       " 0.0,\n",
       " 0.44216281175613403,\n",
       " 0.5851417779922485,\n",
       " 0.09730154275894165,\n",
       " 0.0,\n",
       " 0.5456880927085876,\n",
       " 0.6164146065711975,\n",
       " -0.03148173540830612,\n",
       " 0.0,\n",
       " 0.5161823630332947,\n",
       " 0.6584118604660034,\n",
       " -0.001361563801765442,\n",
       " 0.0,\n",
       " 0.5143787264823914,\n",
       " 0.6588554978370667,\n",
       " -0.002242425223812461,\n",
       " 0.0,\n",
       " 0.5347340106964111,\n",
       " 0.6188727617263794,\n",
       " -0.022489037364721298,\n",
       " 0.0,\n",
       " 0.5203858017921448,\n",
       " 0.6142541766166687,\n",
       " -0.013390808366239071,\n",
       " 0.0,\n",
       " 0.5335028767585754,\n",
       " 0.6162011623382568,\n",
       " -0.02274950221180916,\n",
       " 0.0,\n",
       " 0.5089811682701111,\n",
       " 0.5694829821586609,\n",
       " -0.00573057821020484,\n",
       " 0.0,\n",
       " 0.4934711158275604,\n",
       " 0.5766299366950989,\n",
       " -0.0028673275373876095,\n",
       " 0.0,\n",
       " 0.5157063603401184,\n",
       " 0.6001124978065491,\n",
       " -0.018037278205156326,\n",
       " 0.0,\n",
       " 0.4741356074810028,\n",
       " 0.4350191354751587,\n",
       " 0.010064885020256042,\n",
       " 0.0,\n",
       " 0.48054736852645874,\n",
       " 0.4549493193626404,\n",
       " -0.0021625044755637646,\n",
       " 0.0,\n",
       " 0.48680925369262695,\n",
       " 0.4776386022567749,\n",
       " -0.011474734172224998,\n",
       " 0.0,\n",
       " 0.5102546215057373,\n",
       " 0.6780322790145874,\n",
       " 0.0002946035237982869,\n",
       " 0.0,\n",
       " 0.5272204875946045,\n",
       " 0.4851018786430359,\n",
       " -0.024234795942902565,\n",
       " 0.0,\n",
       " 0.5251842737197876,\n",
       " 0.45162686705589294,\n",
       " -0.02084949053823948,\n",
       " 0.0,\n",
       " 0.5223684906959534,\n",
       " 0.41972070932388306,\n",
       " -0.016178574413061142,\n",
       " 0.0,\n",
       " 0.4819319546222687,\n",
       " 0.5376077890396118,\n",
       " 0.0065580508671700954,\n",
       " 0.0,\n",
       " 0.459922730922699,\n",
       " 0.5482140183448792,\n",
       " 0.02043784409761429,\n",
       " 0.0,\n",
       " 0.5200793743133545,\n",
       " 0.5365579724311829,\n",
       " 0.00203339965082705,\n",
       " 0.0,\n",
       " 0.47079089283943176,\n",
       " 0.5166879892349243,\n",
       " 0.009860026650130749,\n",
       " 0.0,\n",
       " 0.5258576273918152,\n",
       " 0.5555657148361206,\n",
       " -0.012705465778708458,\n",
       " 0.0,\n",
       " 0.5236011147499084,\n",
       " 0.5980693101882935,\n",
       " -0.035325855016708374,\n",
       " 0.0,\n",
       " 0.45014116168022156,\n",
       " 0.5558503270149231,\n",
       " 0.031014621257781982,\n",
       " 0.0,\n",
       " 0.46589186787605286,\n",
       " 0.5577924847602844,\n",
       " 0.012513226829469204,\n",
       " 0.0,\n",
       " 0.4777047634124756,\n",
       " 0.5635272860527039,\n",
       " 0.004367167595773935,\n",
       " 0.0,\n",
       " 0.4954778552055359,\n",
       " 0.5630178451538086,\n",
       " 0.00034465803764760494,\n",
       " 0.0,\n",
       " 0.5086554884910583,\n",
       " 0.5589916706085205,\n",
       " -0.0017233008984476328,\n",
       " 0.0,\n",
       " 0.5185731649398804,\n",
       " 0.5538317561149597,\n",
       " -0.0043202233500778675,\n",
       " 0.0,\n",
       " 0.5389103889465332,\n",
       " 0.5400648713111877,\n",
       " -0.023100221529603004,\n",
       " 0.0,\n",
       " 0.4506981074810028,\n",
       " 0.5826579332351685,\n",
       " 0.029550712555646896,\n",
       " 0.0,\n",
       " 0.4630655348300934,\n",
       " 0.5138564109802246,\n",
       " 0.013913901522755623,\n",
       " 0.0,\n",
       " 0.5415892004966736,\n",
       " 0.6136364340782166,\n",
       " -0.04359091818332672,\n",
       " 0.0,\n",
       " 0.5198825001716614,\n",
       " 0.5756170153617859,\n",
       " -0.012545224279165268,\n",
       " 0.0,\n",
       " 0.44073694944381714,\n",
       " 0.5282504558563232,\n",
       " 0.08688490092754364,\n",
       " 0.0,\n",
       " 0.5259494781494141,\n",
       " 0.5475391149520874,\n",
       " -0.00595584511756897,\n",
       " 0.0,\n",
       " 0.5145478844642639,\n",
       " 0.6005081534385681,\n",
       " -0.008660922758281231,\n",
       " 0.0,\n",
       " 0.47529909014701843,\n",
       " 0.5255228877067566,\n",
       " 0.013242034241557121,\n",
       " 0.0,\n",
       " 0.5232207775115967,\n",
       " 0.5897318124771118,\n",
       " -0.03210677206516266,\n",
       " 0.0,\n",
       " 0.44516485929489136,\n",
       " 0.6157726645469666,\n",
       " 0.09457658231258392,\n",
       " 0.0,\n",
       " 0.5202491283416748,\n",
       " 0.5315902233123779,\n",
       " 0.00404435396194458,\n",
       " 0.0,\n",
       " 0.5308375954627991,\n",
       " 0.5831597447395325,\n",
       " -0.041229166090488434,\n",
       " 0.0,\n",
       " 0.4708186089992523,\n",
       " 0.6794683337211609,\n",
       " 0.03856615722179413,\n",
       " 0.0,\n",
       " 0.47135642170906067,\n",
       " 0.6922528743743896,\n",
       " 0.05621325969696045,\n",
       " 0.0,\n",
       " 0.4425240457057953,\n",
       " 0.5844214558601379,\n",
       " 0.06312130391597748,\n",
       " 0.0,\n",
       " 0.45909011363983154,\n",
       " 0.6620991230010986,\n",
       " 0.04925856366753578,\n",
       " 0.0,\n",
       " 0.44906869530677795,\n",
       " 0.5054008364677429,\n",
       " 0.04479745775461197,\n",
       " 0.0,\n",
       " 0.5076890587806702,\n",
       " 0.722020149230957,\n",
       " 0.011816807091236115,\n",
       " 0.0,\n",
       " 0.5424336194992065,\n",
       " 0.6157532930374146,\n",
       " -0.030967894941568375,\n",
       " 0.0,\n",
       " 0.5112889409065247,\n",
       " 0.5840131044387817,\n",
       " -0.00882081501185894,\n",
       " 0.0,\n",
       " 0.45216497778892517,\n",
       " 0.5320011377334595,\n",
       " 0.033033691346645355,\n",
       " 0.0,\n",
       " 0.49021008610725403,\n",
       " 0.5331878066062927,\n",
       " 0.0031510984990745783,\n",
       " 0.0,\n",
       " 0.49801602959632874,\n",
       " 0.5350643396377563,\n",
       " 0.001019820454530418,\n",
       " 0.0,\n",
       " 0.5098244547843933,\n",
       " 0.6626137495040894,\n",
       " -0.0003842454752884805,\n",
       " 0.0,\n",
       " 0.4519374966621399,\n",
       " 0.6081072688102722,\n",
       " 0.03378378227353096,\n",
       " 0.0,\n",
       " 0.5233681201934814,\n",
       " 0.7383848428726196,\n",
       " 0.015495875850319862,\n",
       " 0.0,\n",
       " 0.49731552600860596,\n",
       " 0.7206146717071533,\n",
       " 0.03279965743422508,\n",
       " 0.0,\n",
       " 0.48546701669692993,\n",
       " 0.709093451499939,\n",
       " 0.04298090562224388,\n",
       " 0.0,\n",
       " 0.5508087873458862,\n",
       " 0.45379602909088135,\n",
       " -0.022358816117048264,\n",
       " 0.0,\n",
       " 0.5409974455833435,\n",
       " 0.7415860891342163,\n",
       " 0.013291596435010433,\n",
       " 0.0,\n",
       " 0.5057557821273804,\n",
       " 0.5350165367126465,\n",
       " 0.0007658679969608784,\n",
       " 0.0,\n",
       " 0.5130713582038879,\n",
       " 0.5336918234825134,\n",
       " 0.002081560902297497,\n",
       " 0.0,\n",
       " 0.5178388357162476,\n",
       " 0.5327732563018799,\n",
       " 0.003963753581047058,\n",
       " 0.0,\n",
       " 0.4563378691673279,\n",
       " 0.5102159976959229,\n",
       " 0.023089701309800148,\n",
       " 0.0,\n",
       " 0.5127023458480835,\n",
       " 0.5221748352050781,\n",
       " 8.37163970572874e-05,\n",
       " 0.0,\n",
       " 0.5050219893455505,\n",
       " 0.5181098580360413,\n",
       " -0.0017125140875577927,\n",
       " 0.0,\n",
       " 0.497193843126297,\n",
       " 0.5167280435562134,\n",
       " -0.001372076920233667,\n",
       " 0.0,\n",
       " 0.4890798032283783,\n",
       " 0.5180076360702515,\n",
       " 0.0008657614816911519,\n",
       " 0.0,\n",
       " 0.48385530710220337,\n",
       " 0.5208631753921509,\n",
       " 0.004020968917757273,\n",
       " 0.0,\n",
       " 0.4434572756290436,\n",
       " 0.4983571767807007,\n",
       " 0.06996621191501617,\n",
       " 0.0,\n",
       " 0.4849252998828888,\n",
       " 0.5307027101516724,\n",
       " 0.006019489374011755,\n",
       " 0.0,\n",
       " 0.545325756072998,\n",
       " 0.6282562017440796,\n",
       " -0.022107573226094246,\n",
       " 0.0,\n",
       " 0.5156310796737671,\n",
       " 0.6309105157852173,\n",
       " -0.013520154170691967,\n",
       " 0.0,\n",
       " 0.5243520140647888,\n",
       " 0.6072999835014343,\n",
       " -0.025763195008039474,\n",
       " 0.0,\n",
       " 0.5332086086273193,\n",
       " 0.6285152435302734,\n",
       " -0.02163582295179367,\n",
       " 0.0,\n",
       " 0.5482463240623474,\n",
       " 0.5213192105293274,\n",
       " -0.020755793899297714,\n",
       " 0.0,\n",
       " 0.4835421144962311,\n",
       " 0.6961653232574463,\n",
       " 0.03031977452337742,\n",
       " 0.0,\n",
       " 0.49523988366127014,\n",
       " 0.7090665102005005,\n",
       " 0.02163402922451496,\n",
       " 0.0,\n",
       " 0.5229979753494263,\n",
       " 0.7316354513168335,\n",
       " 0.0033961371518671513,\n",
       " 0.0,\n",
       " 0.46034958958625793,\n",
       " 0.6732664704322815,\n",
       " 0.07258224487304688,\n",
       " 0.0,\n",
       " 0.5179921984672546,\n",
       " 0.5278447270393372,\n",
       " 0.002371111186221242,\n",
       " 0.0,\n",
       " 0.5323644876480103,\n",
       " 0.5597354769706726,\n",
       " -0.025172142311930656,\n",
       " 0.0,\n",
       " 0.5415273308753967,\n",
       " 0.7345926761627197,\n",
       " 0.001630962360650301,\n",
       " 0.0,\n",
       " 0.5095289349555969,\n",
       " 0.7308365106582642,\n",
       " 0.022265348583459854,\n",
       " 0.0,\n",
       " 0.44509395956993103,\n",
       " 0.6124086380004883,\n",
       " 0.06318771839141846,\n",
       " 0.0,\n",
       " 0.5273297429084778,\n",
       " 0.6606854200363159,\n",
       " -0.010300756432116032,\n",
       " 0.0,\n",
       " 0.5258920192718506,\n",
       " 0.663707435131073,\n",
       " -0.011865773238241673,\n",
       " 0.0,\n",
       " 0.5243889093399048,\n",
       " 0.6687899827957153,\n",
       " -0.013100742362439632,\n",
       " 0.0,\n",
       " 0.5231528878211975,\n",
       " 0.6754387617111206,\n",
       " -0.011360536329448223,\n",
       " 0.0,\n",
       " 0.519564151763916,\n",
       " 0.6864288449287415,\n",
       " -0.003695124527439475,\n",
       " 0.0,\n",
       " 0.5139918327331543,\n",
       " 0.6566309928894043,\n",
       " -0.0029094326309859753,\n",
       " 0.0,\n",
       " 0.5112597346305847,\n",
       " 0.6556417942047119,\n",
       " -0.003088179510086775,\n",
       " 0.0,\n",
       " 0.5086668729782104,\n",
       " 0.6537702083587646,\n",
       " -0.0033348037395626307,\n",
       " 0.0,\n",
       " 0.49974799156188965,\n",
       " 0.6457565426826477,\n",
       " -0.001973666250705719,\n",
       " 0.0,\n",
       " 0.4637027382850647,\n",
       " 0.6159304976463318,\n",
       " 0.015334251336753368,\n",
       " 0.0,\n",
       " 0.5325436592102051,\n",
       " 0.5469599962234497,\n",
       " -0.017226336523890495,\n",
       " 0.0,\n",
       " 0.5278854966163635,\n",
       " 0.523131251335144,\n",
       " -0.002838060725480318,\n",
       " 0.0,\n",
       " 0.5220492482185364,\n",
       " 0.5250388979911804,\n",
       " 0.0005258680321276188,\n",
       " 0.0,\n",
       " 0.516007125377655,\n",
       " 0.6551153659820557,\n",
       " -0.001983621856197715,\n",
       " 0.0,\n",
       " 0.4628814160823822,\n",
       " 0.6453624963760376,\n",
       " 0.03065241314470768,\n",
       " 0.0,\n",
       " 0.5362115502357483,\n",
       " 0.5228115916252136,\n",
       " -0.014609893783926964,\n",
       " 0.0,\n",
       " 0.5138428807258606,\n",
       " 0.6985270977020264,\n",
       " 0.0017698057927191257,\n",
       " 0.0,\n",
       " 0.5472666621208191,\n",
       " 0.5645215511322021,\n",
       " -0.04147207364439964,\n",
       " 0.0,\n",
       " 0.5390487909317017,\n",
       " 0.5537918210029602,\n",
       " -0.031717851758003235,\n",
       " 0.0,\n",
       " 0.5475444197654724,\n",
       " 0.551556408405304,\n",
       " -0.03376820310950279,\n",
       " 0.0,\n",
       " 0.5255658030509949,\n",
       " 0.5789628028869629,\n",
       " -0.0243610218167305,\n",
       " 0.0,\n",
       " 0.5421088337898254,\n",
       " 0.723143994808197,\n",
       " -0.00411344226449728,\n",
       " 0.0,\n",
       " 0.5427029728889465,\n",
       " 0.7078456878662109,\n",
       " -0.0047144400887191296,\n",
       " 0.0,\n",
       " 0.5277359485626221,\n",
       " 0.7062720656394958,\n",
       " -0.003133402904495597,\n",
       " 0.0,\n",
       " 0.4943418800830841,\n",
       " 0.6739389300346375,\n",
       " 0.009729013778269291,\n",
       " 0.0,\n",
       " 0.5066370964050293,\n",
       " 0.6097807884216309,\n",
       " -0.00611095130443573,\n",
       " 0.0,\n",
       " 0.5032220482826233,\n",
       " 0.687887966632843,\n",
       " 0.006263026501983404,\n",
       " 0.0,\n",
       " 0.4843410849571228,\n",
       " 0.6066842675209045,\n",
       " -0.0025968034751713276,\n",
       " 0.0,\n",
       " 0.49740567803382874,\n",
       " 0.6213639974594116,\n",
       " -0.004064827226102352,\n",
       " 0.0,\n",
       " 0.47636348009109497,\n",
       " 0.6259487271308899,\n",
       " 0.0053728981874883175,\n",
       " 0.0,\n",
       " 0.5243674516677856,\n",
       " 0.7206466794013977,\n",
       " -0.00206990959122777,\n",
       " 0.0,\n",
       " 0.5200010538101196,\n",
       " 0.5853893160820007,\n",
       " -0.017512356862425804,\n",
       " 0.0,\n",
       " 0.4864937663078308,\n",
       " 0.6830371618270874,\n",
       " 0.018916822969913483,\n",
       " 0.0,\n",
       " 0.49789443612098694,\n",
       " 0.6975324749946594,\n",
       " 0.013666636310517788,\n",
       " 0.0,\n",
       " 0.487060010433197,\n",
       " 0.6581254005432129,\n",
       " 0.009679299779236317,\n",
       " 0.0,\n",
       " 0.4543265700340271,\n",
       " 0.6294622421264648,\n",
       " 0.03818150982260704,\n",
       " 0.0,\n",
       " 0.4751685559749603,\n",
       " 0.6596044301986694,\n",
       " 0.01892862096428871,\n",
       " 0.0,\n",
       " 0.44972652196884155,\n",
       " 0.6382202506065369,\n",
       " 0.06048811972141266,\n",
       " 0.0,\n",
       " 0.4898443818092346,\n",
       " 0.6363949775695801,\n",
       " 0.0005778636550530791,\n",
       " ...]"
      ]
     },
     "execution_count": 107,
     "metadata": {},
     "output_type": "execute_result"
    }
   ],
   "source": [
    "row"
   ]
  },
  {
   "cell_type": "markdown",
   "id": "69a922ea",
   "metadata": {},
   "source": [
    "## Train Custom Model Using Scikit Learn"
   ]
  },
  {
   "cell_type": "markdown",
   "id": "9ff8ddf9",
   "metadata": {},
   "source": [
    "### Read in Collected Data and Process"
   ]
  },
  {
   "cell_type": "code",
   "execution_count": 110,
   "id": "b6b9006c",
   "metadata": {},
   "outputs": [],
   "source": [
    "import pandas as pd\n",
    "from sklearn.model_selection import train_test_split"
   ]
  },
  {
   "cell_type": "code",
   "execution_count": 111,
   "id": "06738a4f",
   "metadata": {},
   "outputs": [],
   "source": [
    "df = pd.read_csv('coords.csv')"
   ]
  },
  {
   "cell_type": "code",
   "execution_count": 112,
   "id": "917b2deb",
   "metadata": {},
   "outputs": [],
   "source": [
    "cap.release()\n",
    "cv2.destroyAllWindows()"
   ]
  },
  {
   "cell_type": "code",
   "execution_count": 113,
   "id": "f11405ba",
   "metadata": {},
   "outputs": [
    {
     "data": {
      "text/html": [
       "<div>\n",
       "<style scoped>\n",
       "    .dataframe tbody tr th:only-of-type {\n",
       "        vertical-align: middle;\n",
       "    }\n",
       "\n",
       "    .dataframe tbody tr th {\n",
       "        vertical-align: top;\n",
       "    }\n",
       "\n",
       "    .dataframe thead th {\n",
       "        text-align: right;\n",
       "    }\n",
       "</style>\n",
       "<table border=\"1\" class=\"dataframe\">\n",
       "  <thead>\n",
       "    <tr style=\"text-align: right;\">\n",
       "      <th></th>\n",
       "      <th>class</th>\n",
       "      <th>x1</th>\n",
       "      <th>y1</th>\n",
       "      <th>z1</th>\n",
       "      <th>v1</th>\n",
       "      <th>x2</th>\n",
       "      <th>y2</th>\n",
       "      <th>z2</th>\n",
       "      <th>v2</th>\n",
       "      <th>x3</th>\n",
       "      <th>...</th>\n",
       "      <th>z499</th>\n",
       "      <th>v499</th>\n",
       "      <th>x500</th>\n",
       "      <th>y500</th>\n",
       "      <th>z500</th>\n",
       "      <th>v500</th>\n",
       "      <th>x501</th>\n",
       "      <th>y501</th>\n",
       "      <th>z501</th>\n",
       "      <th>v501</th>\n",
       "    </tr>\n",
       "  </thead>\n",
       "  <tbody>\n",
       "    <tr>\n",
       "      <th>0</th>\n",
       "      <td>Happy</td>\n",
       "      <td>0.489772</td>\n",
       "      <td>0.514020</td>\n",
       "      <td>-1.040715</td>\n",
       "      <td>0.999944</td>\n",
       "      <td>0.524344</td>\n",
       "      <td>0.464373</td>\n",
       "      <td>-0.988882</td>\n",
       "      <td>0.999830</td>\n",
       "      <td>0.542673</td>\n",
       "      <td>...</td>\n",
       "      <td>-0.003810</td>\n",
       "      <td>0.0</td>\n",
       "      <td>0.559551</td>\n",
       "      <td>0.480098</td>\n",
       "      <td>0.013692</td>\n",
       "      <td>0.0</td>\n",
       "      <td>0.566412</td>\n",
       "      <td>0.474690</td>\n",
       "      <td>0.014548</td>\n",
       "      <td>0.0</td>\n",
       "    </tr>\n",
       "    <tr>\n",
       "      <th>1</th>\n",
       "      <td>Happy</td>\n",
       "      <td>0.492311</td>\n",
       "      <td>0.515674</td>\n",
       "      <td>-1.162583</td>\n",
       "      <td>0.999940</td>\n",
       "      <td>0.524354</td>\n",
       "      <td>0.464435</td>\n",
       "      <td>-1.101894</td>\n",
       "      <td>0.999820</td>\n",
       "      <td>0.542014</td>\n",
       "      <td>...</td>\n",
       "      <td>-0.004238</td>\n",
       "      <td>0.0</td>\n",
       "      <td>0.554483</td>\n",
       "      <td>0.475073</td>\n",
       "      <td>0.014500</td>\n",
       "      <td>0.0</td>\n",
       "      <td>0.560875</td>\n",
       "      <td>0.468987</td>\n",
       "      <td>0.015467</td>\n",
       "      <td>0.0</td>\n",
       "    </tr>\n",
       "    <tr>\n",
       "      <th>2</th>\n",
       "      <td>Happy</td>\n",
       "      <td>0.492362</td>\n",
       "      <td>0.516225</td>\n",
       "      <td>-1.248898</td>\n",
       "      <td>0.999934</td>\n",
       "      <td>0.523752</td>\n",
       "      <td>0.464285</td>\n",
       "      <td>-1.189414</td>\n",
       "      <td>0.999804</td>\n",
       "      <td>0.540335</td>\n",
       "      <td>...</td>\n",
       "      <td>-0.005717</td>\n",
       "      <td>0.0</td>\n",
       "      <td>0.554313</td>\n",
       "      <td>0.472301</td>\n",
       "      <td>0.012253</td>\n",
       "      <td>0.0</td>\n",
       "      <td>0.560733</td>\n",
       "      <td>0.466147</td>\n",
       "      <td>0.013104</td>\n",
       "      <td>0.0</td>\n",
       "    </tr>\n",
       "    <tr>\n",
       "      <th>3</th>\n",
       "      <td>Happy</td>\n",
       "      <td>0.492374</td>\n",
       "      <td>0.517350</td>\n",
       "      <td>-1.286818</td>\n",
       "      <td>0.999930</td>\n",
       "      <td>0.523334</td>\n",
       "      <td>0.464287</td>\n",
       "      <td>-1.229010</td>\n",
       "      <td>0.999795</td>\n",
       "      <td>0.539215</td>\n",
       "      <td>...</td>\n",
       "      <td>-0.007362</td>\n",
       "      <td>0.0</td>\n",
       "      <td>0.554136</td>\n",
       "      <td>0.472257</td>\n",
       "      <td>0.010086</td>\n",
       "      <td>0.0</td>\n",
       "      <td>0.560486</td>\n",
       "      <td>0.466230</td>\n",
       "      <td>0.010851</td>\n",
       "      <td>0.0</td>\n",
       "    </tr>\n",
       "    <tr>\n",
       "      <th>4</th>\n",
       "      <td>Happy</td>\n",
       "      <td>0.492691</td>\n",
       "      <td>0.517559</td>\n",
       "      <td>-1.253951</td>\n",
       "      <td>0.999923</td>\n",
       "      <td>0.523183</td>\n",
       "      <td>0.464143</td>\n",
       "      <td>-1.195317</td>\n",
       "      <td>0.999776</td>\n",
       "      <td>0.538652</td>\n",
       "      <td>...</td>\n",
       "      <td>-0.006286</td>\n",
       "      <td>0.0</td>\n",
       "      <td>0.551675</td>\n",
       "      <td>0.472955</td>\n",
       "      <td>0.010978</td>\n",
       "      <td>0.0</td>\n",
       "      <td>0.558116</td>\n",
       "      <td>0.466843</td>\n",
       "      <td>0.011686</td>\n",
       "      <td>0.0</td>\n",
       "    </tr>\n",
       "  </tbody>\n",
       "</table>\n",
       "<p>5 rows × 2005 columns</p>\n",
       "</div>"
      ],
      "text/plain": [
       "   class        x1        y1        z1        v1        x2        y2  \\\n",
       "0  Happy  0.489772  0.514020 -1.040715  0.999944  0.524344  0.464373   \n",
       "1  Happy  0.492311  0.515674 -1.162583  0.999940  0.524354  0.464435   \n",
       "2  Happy  0.492362  0.516225 -1.248898  0.999934  0.523752  0.464285   \n",
       "3  Happy  0.492374  0.517350 -1.286818  0.999930  0.523334  0.464287   \n",
       "4  Happy  0.492691  0.517559 -1.253951  0.999923  0.523183  0.464143   \n",
       "\n",
       "         z2        v2        x3  ...      z499  v499      x500      y500  \\\n",
       "0 -0.988882  0.999830  0.542673  ... -0.003810   0.0  0.559551  0.480098   \n",
       "1 -1.101894  0.999820  0.542014  ... -0.004238   0.0  0.554483  0.475073   \n",
       "2 -1.189414  0.999804  0.540335  ... -0.005717   0.0  0.554313  0.472301   \n",
       "3 -1.229010  0.999795  0.539215  ... -0.007362   0.0  0.554136  0.472257   \n",
       "4 -1.195317  0.999776  0.538652  ... -0.006286   0.0  0.551675  0.472955   \n",
       "\n",
       "       z500  v500      x501      y501      z501  v501  \n",
       "0  0.013692   0.0  0.566412  0.474690  0.014548   0.0  \n",
       "1  0.014500   0.0  0.560875  0.468987  0.015467   0.0  \n",
       "2  0.012253   0.0  0.560733  0.466147  0.013104   0.0  \n",
       "3  0.010086   0.0  0.560486  0.466230  0.010851   0.0  \n",
       "4  0.010978   0.0  0.558116  0.466843  0.011686   0.0  \n",
       "\n",
       "[5 rows x 2005 columns]"
      ]
     },
     "execution_count": 113,
     "metadata": {},
     "output_type": "execute_result"
    }
   ],
   "source": [
    "df.head()"
   ]
  },
  {
   "cell_type": "code",
   "execution_count": 114,
   "id": "22356a3e",
   "metadata": {},
   "outputs": [
    {
     "data": {
      "text/html": [
       "<div>\n",
       "<style scoped>\n",
       "    .dataframe tbody tr th:only-of-type {\n",
       "        vertical-align: middle;\n",
       "    }\n",
       "\n",
       "    .dataframe tbody tr th {\n",
       "        vertical-align: top;\n",
       "    }\n",
       "\n",
       "    .dataframe thead th {\n",
       "        text-align: right;\n",
       "    }\n",
       "</style>\n",
       "<table border=\"1\" class=\"dataframe\">\n",
       "  <thead>\n",
       "    <tr style=\"text-align: right;\">\n",
       "      <th></th>\n",
       "      <th>class</th>\n",
       "      <th>x1</th>\n",
       "      <th>y1</th>\n",
       "      <th>z1</th>\n",
       "      <th>v1</th>\n",
       "      <th>x2</th>\n",
       "      <th>y2</th>\n",
       "      <th>z2</th>\n",
       "      <th>v2</th>\n",
       "      <th>x3</th>\n",
       "      <th>...</th>\n",
       "      <th>z499</th>\n",
       "      <th>v499</th>\n",
       "      <th>x500</th>\n",
       "      <th>y500</th>\n",
       "      <th>z500</th>\n",
       "      <th>v500</th>\n",
       "      <th>x501</th>\n",
       "      <th>y501</th>\n",
       "      <th>z501</th>\n",
       "      <th>v501</th>\n",
       "    </tr>\n",
       "  </thead>\n",
       "  <tbody>\n",
       "    <tr>\n",
       "      <th>3078</th>\n",
       "      <td>Wakanda Forever</td>\n",
       "      <td>0.553823</td>\n",
       "      <td>0.497821</td>\n",
       "      <td>-1.214508</td>\n",
       "      <td>0.999371</td>\n",
       "      <td>0.585879</td>\n",
       "      <td>0.432999</td>\n",
       "      <td>-1.144811</td>\n",
       "      <td>0.999110</td>\n",
       "      <td>0.603343</td>\n",
       "      <td>...</td>\n",
       "      <td>-0.003392</td>\n",
       "      <td>0.0</td>\n",
       "      <td>0.639228</td>\n",
       "      <td>0.429532</td>\n",
       "      <td>0.021020</td>\n",
       "      <td>0.0</td>\n",
       "      <td>0.645211</td>\n",
       "      <td>0.423269</td>\n",
       "      <td>0.021959</td>\n",
       "      <td>0.0</td>\n",
       "    </tr>\n",
       "    <tr>\n",
       "      <th>3079</th>\n",
       "      <td>Wakanda Forever</td>\n",
       "      <td>0.554804</td>\n",
       "      <td>0.497792</td>\n",
       "      <td>-1.222685</td>\n",
       "      <td>0.999365</td>\n",
       "      <td>0.586721</td>\n",
       "      <td>0.432915</td>\n",
       "      <td>-1.151533</td>\n",
       "      <td>0.999115</td>\n",
       "      <td>0.604215</td>\n",
       "      <td>...</td>\n",
       "      <td>-0.003516</td>\n",
       "      <td>0.0</td>\n",
       "      <td>0.640139</td>\n",
       "      <td>0.430118</td>\n",
       "      <td>0.021020</td>\n",
       "      <td>0.0</td>\n",
       "      <td>0.646150</td>\n",
       "      <td>0.423644</td>\n",
       "      <td>0.021979</td>\n",
       "      <td>0.0</td>\n",
       "    </tr>\n",
       "    <tr>\n",
       "      <th>3080</th>\n",
       "      <td>Wakanda Forever</td>\n",
       "      <td>0.555365</td>\n",
       "      <td>0.497796</td>\n",
       "      <td>-1.236120</td>\n",
       "      <td>0.999389</td>\n",
       "      <td>0.587312</td>\n",
       "      <td>0.432891</td>\n",
       "      <td>-1.164990</td>\n",
       "      <td>0.999154</td>\n",
       "      <td>0.604810</td>\n",
       "      <td>...</td>\n",
       "      <td>-0.003451</td>\n",
       "      <td>0.0</td>\n",
       "      <td>0.639869</td>\n",
       "      <td>0.430212</td>\n",
       "      <td>0.020886</td>\n",
       "      <td>0.0</td>\n",
       "      <td>0.645825</td>\n",
       "      <td>0.423846</td>\n",
       "      <td>0.021839</td>\n",
       "      <td>0.0</td>\n",
       "    </tr>\n",
       "    <tr>\n",
       "      <th>3081</th>\n",
       "      <td>Wakanda Forever</td>\n",
       "      <td>0.555655</td>\n",
       "      <td>0.497802</td>\n",
       "      <td>-1.176676</td>\n",
       "      <td>0.999417</td>\n",
       "      <td>0.587721</td>\n",
       "      <td>0.432899</td>\n",
       "      <td>-1.104058</td>\n",
       "      <td>0.999195</td>\n",
       "      <td>0.605191</td>\n",
       "      <td>...</td>\n",
       "      <td>-0.003320</td>\n",
       "      <td>0.0</td>\n",
       "      <td>0.639299</td>\n",
       "      <td>0.429852</td>\n",
       "      <td>0.020798</td>\n",
       "      <td>0.0</td>\n",
       "      <td>0.645247</td>\n",
       "      <td>0.423475</td>\n",
       "      <td>0.021752</td>\n",
       "      <td>0.0</td>\n",
       "    </tr>\n",
       "    <tr>\n",
       "      <th>3082</th>\n",
       "      <td>Wakanda Forever</td>\n",
       "      <td>0.555952</td>\n",
       "      <td>0.497812</td>\n",
       "      <td>-1.193614</td>\n",
       "      <td>0.999451</td>\n",
       "      <td>0.587905</td>\n",
       "      <td>0.432904</td>\n",
       "      <td>-1.117985</td>\n",
       "      <td>0.999245</td>\n",
       "      <td>0.605304</td>\n",
       "      <td>...</td>\n",
       "      <td>-0.003513</td>\n",
       "      <td>0.0</td>\n",
       "      <td>0.638966</td>\n",
       "      <td>0.429715</td>\n",
       "      <td>0.020730</td>\n",
       "      <td>0.0</td>\n",
       "      <td>0.644928</td>\n",
       "      <td>0.423323</td>\n",
       "      <td>0.021701</td>\n",
       "      <td>0.0</td>\n",
       "    </tr>\n",
       "  </tbody>\n",
       "</table>\n",
       "<p>5 rows × 2005 columns</p>\n",
       "</div>"
      ],
      "text/plain": [
       "                class        x1        y1        z1        v1        x2  \\\n",
       "3078  Wakanda Forever  0.553823  0.497821 -1.214508  0.999371  0.585879   \n",
       "3079  Wakanda Forever  0.554804  0.497792 -1.222685  0.999365  0.586721   \n",
       "3080  Wakanda Forever  0.555365  0.497796 -1.236120  0.999389  0.587312   \n",
       "3081  Wakanda Forever  0.555655  0.497802 -1.176676  0.999417  0.587721   \n",
       "3082  Wakanda Forever  0.555952  0.497812 -1.193614  0.999451  0.587905   \n",
       "\n",
       "            y2        z2        v2        x3  ...      z499  v499      x500  \\\n",
       "3078  0.432999 -1.144811  0.999110  0.603343  ... -0.003392   0.0  0.639228   \n",
       "3079  0.432915 -1.151533  0.999115  0.604215  ... -0.003516   0.0  0.640139   \n",
       "3080  0.432891 -1.164990  0.999154  0.604810  ... -0.003451   0.0  0.639869   \n",
       "3081  0.432899 -1.104058  0.999195  0.605191  ... -0.003320   0.0  0.639299   \n",
       "3082  0.432904 -1.117985  0.999245  0.605304  ... -0.003513   0.0  0.638966   \n",
       "\n",
       "          y500      z500  v500      x501      y501      z501  v501  \n",
       "3078  0.429532  0.021020   0.0  0.645211  0.423269  0.021959   0.0  \n",
       "3079  0.430118  0.021020   0.0  0.646150  0.423644  0.021979   0.0  \n",
       "3080  0.430212  0.020886   0.0  0.645825  0.423846  0.021839   0.0  \n",
       "3081  0.429852  0.020798   0.0  0.645247  0.423475  0.021752   0.0  \n",
       "3082  0.429715  0.020730   0.0  0.644928  0.423323  0.021701   0.0  \n",
       "\n",
       "[5 rows x 2005 columns]"
      ]
     },
     "execution_count": 114,
     "metadata": {},
     "output_type": "execute_result"
    }
   ],
   "source": [
    "df.tail()"
   ]
  },
  {
   "cell_type": "code",
   "execution_count": 115,
   "id": "bdfbcf8a",
   "metadata": {},
   "outputs": [
    {
     "data": {
      "text/html": [
       "<div>\n",
       "<style scoped>\n",
       "    .dataframe tbody tr th:only-of-type {\n",
       "        vertical-align: middle;\n",
       "    }\n",
       "\n",
       "    .dataframe tbody tr th {\n",
       "        vertical-align: top;\n",
       "    }\n",
       "\n",
       "    .dataframe thead th {\n",
       "        text-align: right;\n",
       "    }\n",
       "</style>\n",
       "<table border=\"1\" class=\"dataframe\">\n",
       "  <thead>\n",
       "    <tr style=\"text-align: right;\">\n",
       "      <th></th>\n",
       "      <th>class</th>\n",
       "      <th>x1</th>\n",
       "      <th>y1</th>\n",
       "      <th>z1</th>\n",
       "      <th>v1</th>\n",
       "      <th>x2</th>\n",
       "      <th>y2</th>\n",
       "      <th>z2</th>\n",
       "      <th>v2</th>\n",
       "      <th>x3</th>\n",
       "      <th>...</th>\n",
       "      <th>z499</th>\n",
       "      <th>v499</th>\n",
       "      <th>x500</th>\n",
       "      <th>y500</th>\n",
       "      <th>z500</th>\n",
       "      <th>v500</th>\n",
       "      <th>x501</th>\n",
       "      <th>y501</th>\n",
       "      <th>z501</th>\n",
       "      <th>v501</th>\n",
       "    </tr>\n",
       "  </thead>\n",
       "  <tbody>\n",
       "    <tr>\n",
       "      <th>714</th>\n",
       "      <td>Sad</td>\n",
       "      <td>0.490630</td>\n",
       "      <td>0.670975</td>\n",
       "      <td>-1.554195</td>\n",
       "      <td>0.999707</td>\n",
       "      <td>0.512847</td>\n",
       "      <td>0.590165</td>\n",
       "      <td>-1.534848</td>\n",
       "      <td>0.999229</td>\n",
       "      <td>0.528712</td>\n",
       "      <td>...</td>\n",
       "      <td>-0.037481</td>\n",
       "      <td>0.0</td>\n",
       "      <td>0.542755</td>\n",
       "      <td>0.595273</td>\n",
       "      <td>-0.027039</td>\n",
       "      <td>0.0</td>\n",
       "      <td>0.548693</td>\n",
       "      <td>0.587833</td>\n",
       "      <td>-0.028070</td>\n",
       "      <td>0.0</td>\n",
       "    </tr>\n",
       "    <tr>\n",
       "      <th>715</th>\n",
       "      <td>Sad</td>\n",
       "      <td>0.486778</td>\n",
       "      <td>0.673662</td>\n",
       "      <td>-1.574594</td>\n",
       "      <td>0.999712</td>\n",
       "      <td>0.510648</td>\n",
       "      <td>0.594776</td>\n",
       "      <td>-1.555777</td>\n",
       "      <td>0.999252</td>\n",
       "      <td>0.527575</td>\n",
       "      <td>...</td>\n",
       "      <td>-0.039049</td>\n",
       "      <td>0.0</td>\n",
       "      <td>0.539978</td>\n",
       "      <td>0.599786</td>\n",
       "      <td>-0.030566</td>\n",
       "      <td>0.0</td>\n",
       "      <td>0.545207</td>\n",
       "      <td>0.593614</td>\n",
       "      <td>-0.031820</td>\n",
       "      <td>0.0</td>\n",
       "    </tr>\n",
       "    <tr>\n",
       "      <th>716</th>\n",
       "      <td>Sad</td>\n",
       "      <td>0.484142</td>\n",
       "      <td>0.675569</td>\n",
       "      <td>-1.587904</td>\n",
       "      <td>0.999719</td>\n",
       "      <td>0.509034</td>\n",
       "      <td>0.598145</td>\n",
       "      <td>-1.567571</td>\n",
       "      <td>0.999279</td>\n",
       "      <td>0.526623</td>\n",
       "      <td>...</td>\n",
       "      <td>-0.040313</td>\n",
       "      <td>0.0</td>\n",
       "      <td>0.541834</td>\n",
       "      <td>0.597520</td>\n",
       "      <td>-0.031069</td>\n",
       "      <td>0.0</td>\n",
       "      <td>0.546863</td>\n",
       "      <td>0.591606</td>\n",
       "      <td>-0.032345</td>\n",
       "      <td>0.0</td>\n",
       "    </tr>\n",
       "    <tr>\n",
       "      <th>717</th>\n",
       "      <td>Sad</td>\n",
       "      <td>0.482675</td>\n",
       "      <td>0.677795</td>\n",
       "      <td>-1.608458</td>\n",
       "      <td>0.999723</td>\n",
       "      <td>0.507964</td>\n",
       "      <td>0.600729</td>\n",
       "      <td>-1.588671</td>\n",
       "      <td>0.999298</td>\n",
       "      <td>0.525949</td>\n",
       "      <td>...</td>\n",
       "      <td>-0.040103</td>\n",
       "      <td>0.0</td>\n",
       "      <td>0.541294</td>\n",
       "      <td>0.597415</td>\n",
       "      <td>-0.030178</td>\n",
       "      <td>0.0</td>\n",
       "      <td>0.546297</td>\n",
       "      <td>0.591525</td>\n",
       "      <td>-0.031388</td>\n",
       "      <td>0.0</td>\n",
       "    </tr>\n",
       "    <tr>\n",
       "      <th>718</th>\n",
       "      <td>Sad</td>\n",
       "      <td>0.480310</td>\n",
       "      <td>0.678552</td>\n",
       "      <td>-1.596628</td>\n",
       "      <td>0.999725</td>\n",
       "      <td>0.506050</td>\n",
       "      <td>0.601554</td>\n",
       "      <td>-1.579147</td>\n",
       "      <td>0.999312</td>\n",
       "      <td>0.524581</td>\n",
       "      <td>...</td>\n",
       "      <td>-0.040255</td>\n",
       "      <td>0.0</td>\n",
       "      <td>0.540010</td>\n",
       "      <td>0.596776</td>\n",
       "      <td>-0.031014</td>\n",
       "      <td>0.0</td>\n",
       "      <td>0.545031</td>\n",
       "      <td>0.590869</td>\n",
       "      <td>-0.032284</td>\n",
       "      <td>0.0</td>\n",
       "    </tr>\n",
       "    <tr>\n",
       "      <th>...</th>\n",
       "      <td>...</td>\n",
       "      <td>...</td>\n",
       "      <td>...</td>\n",
       "      <td>...</td>\n",
       "      <td>...</td>\n",
       "      <td>...</td>\n",
       "      <td>...</td>\n",
       "      <td>...</td>\n",
       "      <td>...</td>\n",
       "      <td>...</td>\n",
       "      <td>...</td>\n",
       "      <td>...</td>\n",
       "      <td>...</td>\n",
       "      <td>...</td>\n",
       "      <td>...</td>\n",
       "      <td>...</td>\n",
       "      <td>...</td>\n",
       "      <td>...</td>\n",
       "      <td>...</td>\n",
       "      <td>...</td>\n",
       "      <td>...</td>\n",
       "    </tr>\n",
       "    <tr>\n",
       "      <th>1334</th>\n",
       "      <td>Sad</td>\n",
       "      <td>0.512406</td>\n",
       "      <td>0.523022</td>\n",
       "      <td>-1.452137</td>\n",
       "      <td>0.999516</td>\n",
       "      <td>0.534901</td>\n",
       "      <td>0.445417</td>\n",
       "      <td>-1.378486</td>\n",
       "      <td>0.999085</td>\n",
       "      <td>0.551324</td>\n",
       "      <td>...</td>\n",
       "      <td>-0.000862</td>\n",
       "      <td>0.0</td>\n",
       "      <td>0.578821</td>\n",
       "      <td>0.448893</td>\n",
       "      <td>0.027196</td>\n",
       "      <td>0.0</td>\n",
       "      <td>0.584420</td>\n",
       "      <td>0.443200</td>\n",
       "      <td>0.028348</td>\n",
       "      <td>0.0</td>\n",
       "    </tr>\n",
       "    <tr>\n",
       "      <th>1335</th>\n",
       "      <td>Sad</td>\n",
       "      <td>0.512400</td>\n",
       "      <td>0.521958</td>\n",
       "      <td>-1.410322</td>\n",
       "      <td>0.999519</td>\n",
       "      <td>0.534904</td>\n",
       "      <td>0.444776</td>\n",
       "      <td>-1.336250</td>\n",
       "      <td>0.999087</td>\n",
       "      <td>0.551335</td>\n",
       "      <td>...</td>\n",
       "      <td>-0.000836</td>\n",
       "      <td>0.0</td>\n",
       "      <td>0.579167</td>\n",
       "      <td>0.449649</td>\n",
       "      <td>0.027561</td>\n",
       "      <td>0.0</td>\n",
       "      <td>0.584742</td>\n",
       "      <td>0.443995</td>\n",
       "      <td>0.028733</td>\n",
       "      <td>0.0</td>\n",
       "    </tr>\n",
       "    <tr>\n",
       "      <th>1336</th>\n",
       "      <td>Sad</td>\n",
       "      <td>0.512403</td>\n",
       "      <td>0.522037</td>\n",
       "      <td>-1.441821</td>\n",
       "      <td>0.999504</td>\n",
       "      <td>0.534912</td>\n",
       "      <td>0.444894</td>\n",
       "      <td>-1.369060</td>\n",
       "      <td>0.999062</td>\n",
       "      <td>0.551350</td>\n",
       "      <td>...</td>\n",
       "      <td>-0.001311</td>\n",
       "      <td>0.0</td>\n",
       "      <td>0.579905</td>\n",
       "      <td>0.457405</td>\n",
       "      <td>0.027804</td>\n",
       "      <td>0.0</td>\n",
       "      <td>0.585672</td>\n",
       "      <td>0.451014</td>\n",
       "      <td>0.029085</td>\n",
       "      <td>0.0</td>\n",
       "    </tr>\n",
       "    <tr>\n",
       "      <th>1337</th>\n",
       "      <td>Sad</td>\n",
       "      <td>0.512393</td>\n",
       "      <td>0.522100</td>\n",
       "      <td>-1.450934</td>\n",
       "      <td>0.999492</td>\n",
       "      <td>0.534915</td>\n",
       "      <td>0.444986</td>\n",
       "      <td>-1.378807</td>\n",
       "      <td>0.999043</td>\n",
       "      <td>0.551364</td>\n",
       "      <td>...</td>\n",
       "      <td>-0.002582</td>\n",
       "      <td>0.0</td>\n",
       "      <td>0.579848</td>\n",
       "      <td>0.457027</td>\n",
       "      <td>0.024810</td>\n",
       "      <td>0.0</td>\n",
       "      <td>0.585599</td>\n",
       "      <td>0.450703</td>\n",
       "      <td>0.025972</td>\n",
       "      <td>0.0</td>\n",
       "    </tr>\n",
       "    <tr>\n",
       "      <th>1338</th>\n",
       "      <td>Sad</td>\n",
       "      <td>0.509964</td>\n",
       "      <td>0.524192</td>\n",
       "      <td>-1.444247</td>\n",
       "      <td>0.999493</td>\n",
       "      <td>0.534148</td>\n",
       "      <td>0.448595</td>\n",
       "      <td>-1.375020</td>\n",
       "      <td>0.999042</td>\n",
       "      <td>0.550456</td>\n",
       "      <td>...</td>\n",
       "      <td>-0.002587</td>\n",
       "      <td>0.0</td>\n",
       "      <td>0.578568</td>\n",
       "      <td>0.460804</td>\n",
       "      <td>0.025159</td>\n",
       "      <td>0.0</td>\n",
       "      <td>0.584393</td>\n",
       "      <td>0.454625</td>\n",
       "      <td>0.026248</td>\n",
       "      <td>0.0</td>\n",
       "    </tr>\n",
       "  </tbody>\n",
       "</table>\n",
       "<p>625 rows × 2005 columns</p>\n",
       "</div>"
      ],
      "text/plain": [
       "     class        x1        y1        z1        v1        x2        y2  \\\n",
       "714    Sad  0.490630  0.670975 -1.554195  0.999707  0.512847  0.590165   \n",
       "715    Sad  0.486778  0.673662 -1.574594  0.999712  0.510648  0.594776   \n",
       "716    Sad  0.484142  0.675569 -1.587904  0.999719  0.509034  0.598145   \n",
       "717    Sad  0.482675  0.677795 -1.608458  0.999723  0.507964  0.600729   \n",
       "718    Sad  0.480310  0.678552 -1.596628  0.999725  0.506050  0.601554   \n",
       "...    ...       ...       ...       ...       ...       ...       ...   \n",
       "1334   Sad  0.512406  0.523022 -1.452137  0.999516  0.534901  0.445417   \n",
       "1335   Sad  0.512400  0.521958 -1.410322  0.999519  0.534904  0.444776   \n",
       "1336   Sad  0.512403  0.522037 -1.441821  0.999504  0.534912  0.444894   \n",
       "1337   Sad  0.512393  0.522100 -1.450934  0.999492  0.534915  0.444986   \n",
       "1338   Sad  0.509964  0.524192 -1.444247  0.999493  0.534148  0.448595   \n",
       "\n",
       "            z2        v2        x3  ...      z499  v499      x500      y500  \\\n",
       "714  -1.534848  0.999229  0.528712  ... -0.037481   0.0  0.542755  0.595273   \n",
       "715  -1.555777  0.999252  0.527575  ... -0.039049   0.0  0.539978  0.599786   \n",
       "716  -1.567571  0.999279  0.526623  ... -0.040313   0.0  0.541834  0.597520   \n",
       "717  -1.588671  0.999298  0.525949  ... -0.040103   0.0  0.541294  0.597415   \n",
       "718  -1.579147  0.999312  0.524581  ... -0.040255   0.0  0.540010  0.596776   \n",
       "...        ...       ...       ...  ...       ...   ...       ...       ...   \n",
       "1334 -1.378486  0.999085  0.551324  ... -0.000862   0.0  0.578821  0.448893   \n",
       "1335 -1.336250  0.999087  0.551335  ... -0.000836   0.0  0.579167  0.449649   \n",
       "1336 -1.369060  0.999062  0.551350  ... -0.001311   0.0  0.579905  0.457405   \n",
       "1337 -1.378807  0.999043  0.551364  ... -0.002582   0.0  0.579848  0.457027   \n",
       "1338 -1.375020  0.999042  0.550456  ... -0.002587   0.0  0.578568  0.460804   \n",
       "\n",
       "          z500  v500      x501      y501      z501  v501  \n",
       "714  -0.027039   0.0  0.548693  0.587833 -0.028070   0.0  \n",
       "715  -0.030566   0.0  0.545207  0.593614 -0.031820   0.0  \n",
       "716  -0.031069   0.0  0.546863  0.591606 -0.032345   0.0  \n",
       "717  -0.030178   0.0  0.546297  0.591525 -0.031388   0.0  \n",
       "718  -0.031014   0.0  0.545031  0.590869 -0.032284   0.0  \n",
       "...        ...   ...       ...       ...       ...   ...  \n",
       "1334  0.027196   0.0  0.584420  0.443200  0.028348   0.0  \n",
       "1335  0.027561   0.0  0.584742  0.443995  0.028733   0.0  \n",
       "1336  0.027804   0.0  0.585672  0.451014  0.029085   0.0  \n",
       "1337  0.024810   0.0  0.585599  0.450703  0.025972   0.0  \n",
       "1338  0.025159   0.0  0.584393  0.454625  0.026248   0.0  \n",
       "\n",
       "[625 rows x 2005 columns]"
      ]
     },
     "execution_count": 115,
     "metadata": {},
     "output_type": "execute_result"
    }
   ],
   "source": [
    "df[df['class']=='Sad']"
   ]
  },
  {
   "cell_type": "code",
   "execution_count": 116,
   "id": "9ac2d34b",
   "metadata": {},
   "outputs": [],
   "source": [
    "X = df.drop('class', axis=1) # features\n",
    "y = df['class'] # target value"
   ]
  },
  {
   "cell_type": "code",
   "execution_count": 117,
   "id": "8b58cb96",
   "metadata": {},
   "outputs": [],
   "source": [
    "X_train, X_test, y_train, y_test = train_test_split(X, y, test_size=0.3, random_state=1234)"
   ]
  },
  {
   "cell_type": "code",
   "execution_count": 118,
   "id": "89e053e8",
   "metadata": {},
   "outputs": [
    {
     "data": {
      "text/plain": [
       "1052                Sad\n",
       "59                Happy\n",
       "2268            Victory\n",
       "2153            Victory\n",
       "85                Happy\n",
       "             ...       \n",
       "219               Happy\n",
       "1861            Victory\n",
       "2620    Wakanda Forever\n",
       "2034            Victory\n",
       "2115            Victory\n",
       "Name: class, Length: 925, dtype: object"
      ]
     },
     "execution_count": 118,
     "metadata": {},
     "output_type": "execute_result"
    }
   ],
   "source": [
    "y_test"
   ]
  },
  {
   "cell_type": "markdown",
   "id": "a47ba976",
   "metadata": {},
   "source": [
    "### Train Machine Learning Classification Model"
   ]
  },
  {
   "cell_type": "code",
   "execution_count": 119,
   "id": "2f248386",
   "metadata": {},
   "outputs": [],
   "source": [
    "from sklearn.pipeline import make_pipeline \n",
    "from sklearn.preprocessing import StandardScaler \n",
    "\n",
    "from sklearn.linear_model import LogisticRegression, RidgeClassifier\n",
    "from sklearn.ensemble import RandomForestClassifier, GradientBoostingClassifier"
   ]
  },
  {
   "cell_type": "code",
   "execution_count": 120,
   "id": "3edcf19e",
   "metadata": {},
   "outputs": [],
   "source": [
    "pipelines = {\n",
    "    'lr':make_pipeline(StandardScaler(), LogisticRegression()),\n",
    "    'rc':make_pipeline(StandardScaler(), RidgeClassifier()),\n",
    "    'rf':make_pipeline(StandardScaler(), RandomForestClassifier()),\n",
    "    'gb':make_pipeline(StandardScaler(), GradientBoostingClassifier()),\n",
    "}"
   ]
  },
  {
   "cell_type": "code",
   "execution_count": 121,
   "id": "ad1eeebc",
   "metadata": {},
   "outputs": [
    {
     "name": "stderr",
     "output_type": "stream",
     "text": [
      "C:\\Users\\DELL\\anaconda3\\lib\\site-packages\\sklearn\\linear_model\\_logistic.py:814: ConvergenceWarning: lbfgs failed to converge (status=1):\n",
      "STOP: TOTAL NO. of ITERATIONS REACHED LIMIT.\n",
      "\n",
      "Increase the number of iterations (max_iter) or scale the data as shown in:\n",
      "    https://scikit-learn.org/stable/modules/preprocessing.html\n",
      "Please also refer to the documentation for alternative solver options:\n",
      "    https://scikit-learn.org/stable/modules/linear_model.html#logistic-regression\n",
      "  n_iter_i = _check_optimize_result(\n"
     ]
    }
   ],
   "source": [
    "fit_models = {}\n",
    "for algo, pipeline in pipelines.items():\n",
    "    model = pipeline.fit(X_train, y_train)\n",
    "    fit_models[algo] = model"
   ]
  },
  {
   "cell_type": "code",
   "execution_count": 190,
   "id": "84f53e2f",
   "metadata": {},
   "outputs": [
    {
     "data": {
      "text/plain": [
       "{'lr': Pipeline(steps=[('standardscaler', StandardScaler()),\n",
       "                 ('logisticregression', LogisticRegression())]),\n",
       " 'rc': Pipeline(steps=[('standardscaler', StandardScaler()),\n",
       "                 ('ridgeclassifier', RidgeClassifier())]),\n",
       " 'rf': Pipeline(steps=[('standardscaler', StandardScaler()),\n",
       "                 ('randomforestclassifier', RandomForestClassifier())]),\n",
       " 'gb': Pipeline(steps=[('standardscaler', StandardScaler()),\n",
       "                 ('gradientboostingclassifier', GradientBoostingClassifier())])}"
      ]
     },
     "execution_count": 190,
     "metadata": {},
     "output_type": "execute_result"
    }
   ],
   "source": [
    "fit_models"
   ]
  },
  {
   "cell_type": "code",
   "execution_count": 191,
   "id": "e2982672",
   "metadata": {},
   "outputs": [
    {
     "data": {
      "text/plain": [
       "array(['Sad', 'Happy', 'Victory', 'Victory', 'Happy', 'Sad', 'Victory',\n",
       "       'Victory', 'Happy', 'Happy', 'Happy', 'Wakanda Forever', 'Victory',\n",
       "       'Sad', 'Wakanda Forever', 'Victory', 'Sad', 'Wakanda Forever',\n",
       "       'Happy', 'Wakanda Forever', 'Victory', 'Victory',\n",
       "       'Wakanda Forever', 'Victory', 'Wakanda Forever', 'Wakanda Forever',\n",
       "       'Victory', 'Wakanda Forever', 'Sad', 'Victory', 'Wakanda Forever',\n",
       "       'Happy', 'Happy', 'Wakanda Forever', 'Wakanda Forever',\n",
       "       'Wakanda Forever', 'Happy', 'Wakanda Forever', 'Sad', 'Victory',\n",
       "       'Sad', 'Wakanda Forever', 'Victory', 'Victory', 'Sad', 'Sad',\n",
       "       'Victory', 'Victory', 'Victory', 'Sad', 'Happy', 'Wakanda Forever',\n",
       "       'Wakanda Forever', 'Victory', 'Wakanda Forever', 'Wakanda Forever',\n",
       "       'Victory', 'Wakanda Forever', 'Happy', 'Happy', 'Victory',\n",
       "       'Victory', 'Sad', 'Victory', 'Victory', 'Sad', 'Victory',\n",
       "       'Victory', 'Happy', 'Wakanda Forever', 'Sad', 'Wakanda Forever',\n",
       "       'Wakanda Forever', 'Sad', 'Happy', 'Wakanda Forever', 'Happy',\n",
       "       'Happy', 'Happy', 'Sad', 'Wakanda Forever', 'Victory', 'Happy',\n",
       "       'Sad', 'Wakanda Forever', 'Victory', 'Happy', 'Sad', 'Sad',\n",
       "       'Wakanda Forever', 'Wakanda Forever', 'Happy', 'Happy', 'Happy',\n",
       "       'Wakanda Forever', 'Happy', 'Sad', 'Wakanda Forever', 'Sad', 'Sad',\n",
       "       'Victory', 'Victory', 'Victory', 'Wakanda Forever',\n",
       "       'Wakanda Forever', 'Wakanda Forever', 'Wakanda Forever', 'Sad',\n",
       "       'Sad', 'Victory', 'Sad', 'Sad', 'Victory', 'Victory', 'Sad', 'Sad',\n",
       "       'Wakanda Forever', 'Happy', 'Wakanda Forever', 'Victory',\n",
       "       'Wakanda Forever', 'Happy', 'Sad', 'Wakanda Forever', 'Victory',\n",
       "       'Wakanda Forever', 'Wakanda Forever', 'Victory', 'Victory',\n",
       "       'Victory', 'Sad', 'Victory', 'Victory', 'Wakanda Forever',\n",
       "       'Victory', 'Wakanda Forever', 'Victory', 'Happy', 'Happy',\n",
       "       'Wakanda Forever', 'Happy', 'Wakanda Forever', 'Sad',\n",
       "       'Wakanda Forever', 'Happy', 'Victory', 'Victory',\n",
       "       'Wakanda Forever', 'Victory', 'Happy', 'Sad', 'Happy', 'Happy',\n",
       "       'Victory', 'Victory', 'Victory', 'Wakanda Forever', 'Happy',\n",
       "       'Victory', 'Happy', 'Victory', 'Happy', 'Wakanda Forever', 'Happy',\n",
       "       'Sad', 'Wakanda Forever', 'Wakanda Forever', 'Happy', 'Happy',\n",
       "       'Victory', 'Victory', 'Happy', 'Wakanda Forever', 'Sad',\n",
       "       'Wakanda Forever', 'Victory', 'Happy', 'Victory', 'Sad', 'Sad',\n",
       "       'Sad', 'Sad', 'Victory', 'Sad', 'Wakanda Forever', 'Victory',\n",
       "       'Happy', 'Victory', 'Happy', 'Sad', 'Sad', 'Sad', 'Sad', 'Victory',\n",
       "       'Victory', 'Victory', 'Happy', 'Sad', 'Wakanda Forever',\n",
       "       'Wakanda Forever', 'Victory', 'Happy', 'Happy', 'Wakanda Forever',\n",
       "       'Victory', 'Victory', 'Victory', 'Victory', 'Sad', 'Victory',\n",
       "       'Wakanda Forever', 'Happy', 'Happy', 'Sad', 'Happy', 'Happy',\n",
       "       'Wakanda Forever', 'Wakanda Forever', 'Sad', 'Sad', 'Victory',\n",
       "       'Wakanda Forever', 'Happy', 'Wakanda Forever', 'Happy', 'Happy',\n",
       "       'Victory', 'Wakanda Forever', 'Wakanda Forever', 'Victory',\n",
       "       'Victory', 'Victory', 'Happy', 'Victory', 'Victory',\n",
       "       'Wakanda Forever', 'Victory', 'Victory', 'Victory', 'Happy',\n",
       "       'Happy', 'Victory', 'Wakanda Forever', 'Victory',\n",
       "       'Wakanda Forever', 'Happy', 'Victory', 'Victory', 'Sad', 'Happy',\n",
       "       'Sad', 'Wakanda Forever', 'Wakanda Forever', 'Wakanda Forever',\n",
       "       'Sad', 'Victory', 'Sad', 'Wakanda Forever', 'Happy', 'Happy',\n",
       "       'Happy', 'Happy', 'Happy', 'Sad', 'Victory', 'Victory', 'Sad',\n",
       "       'Victory', 'Victory', 'Victory', 'Wakanda Forever', 'Victory',\n",
       "       'Happy', 'Wakanda Forever', 'Sad', 'Victory', 'Happy', 'Sad',\n",
       "       'Victory', 'Sad', 'Happy', 'Wakanda Forever', 'Sad', 'Victory',\n",
       "       'Wakanda Forever', 'Sad', 'Happy', 'Happy', 'Sad', 'Victory',\n",
       "       'Wakanda Forever', 'Victory', 'Sad', 'Happy', 'Victory', 'Happy',\n",
       "       'Victory', 'Victory', 'Wakanda Forever', 'Wakanda Forever',\n",
       "       'Victory', 'Wakanda Forever', 'Happy', 'Victory',\n",
       "       'Wakanda Forever', 'Victory', 'Wakanda Forever', 'Sad', 'Victory',\n",
       "       'Sad', 'Victory', 'Sad', 'Victory', 'Victory', 'Victory', 'Sad',\n",
       "       'Wakanda Forever', 'Wakanda Forever', 'Victory', 'Happy', 'Happy',\n",
       "       'Happy', 'Victory', 'Victory', 'Sad', 'Victory', 'Wakanda Forever',\n",
       "       'Wakanda Forever', 'Wakanda Forever', 'Victory', 'Victory', 'Sad',\n",
       "       'Wakanda Forever', 'Happy', 'Wakanda Forever', 'Wakanda Forever',\n",
       "       'Wakanda Forever', 'Happy', 'Sad', 'Victory', 'Wakanda Forever',\n",
       "       'Happy', 'Happy', 'Wakanda Forever', 'Happy', 'Happy', 'Sad',\n",
       "       'Happy', 'Sad', 'Victory', 'Happy', 'Victory', 'Sad', 'Victory',\n",
       "       'Happy', 'Happy', 'Wakanda Forever', 'Victory', 'Happy', 'Victory',\n",
       "       'Wakanda Forever', 'Sad', 'Victory', 'Victory', 'Victory', 'Happy',\n",
       "       'Wakanda Forever', 'Happy', 'Victory', 'Victory', 'Sad', 'Happy',\n",
       "       'Wakanda Forever', 'Wakanda Forever', 'Happy', 'Victory', 'Happy',\n",
       "       'Victory', 'Sad', 'Wakanda Forever', 'Sad', 'Victory', 'Sad',\n",
       "       'Victory', 'Happy', 'Victory', 'Happy', 'Happy', 'Victory',\n",
       "       'Victory', 'Victory', 'Wakanda Forever', 'Victory', 'Happy',\n",
       "       'Victory', 'Sad', 'Victory', 'Victory', 'Sad', 'Victory', 'Sad',\n",
       "       'Sad', 'Victory', 'Wakanda Forever', 'Victory', 'Sad', 'Sad',\n",
       "       'Victory', 'Sad', 'Victory', 'Victory', 'Happy', 'Victory',\n",
       "       'Victory', 'Victory', 'Wakanda Forever', 'Happy', 'Happy',\n",
       "       'Wakanda Forever', 'Victory', 'Wakanda Forever', 'Victory',\n",
       "       'Happy', 'Happy', 'Happy', 'Happy', 'Sad', 'Wakanda Forever',\n",
       "       'Sad', 'Wakanda Forever', 'Wakanda Forever', 'Happy',\n",
       "       'Wakanda Forever', 'Happy', 'Sad', 'Happy', 'Victory', 'Victory',\n",
       "       'Victory', 'Victory', 'Sad', 'Sad', 'Victory', 'Wakanda Forever',\n",
       "       'Victory', 'Wakanda Forever', 'Victory', 'Victory', 'Victory',\n",
       "       'Wakanda Forever', 'Sad', 'Happy', 'Victory', 'Sad',\n",
       "       'Wakanda Forever', 'Wakanda Forever', 'Wakanda Forever', 'Victory',\n",
       "       'Victory', 'Happy', 'Happy', 'Wakanda Forever', 'Wakanda Forever',\n",
       "       'Happy', 'Sad', 'Victory', 'Happy', 'Sad', 'Victory', 'Victory',\n",
       "       'Victory', 'Victory', 'Victory', 'Sad', 'Victory',\n",
       "       'Wakanda Forever', 'Sad', 'Victory', 'Sad', 'Wakanda Forever',\n",
       "       'Happy', 'Victory', 'Victory', 'Wakanda Forever', 'Happy',\n",
       "       'Victory', 'Happy', 'Wakanda Forever', 'Victory', 'Victory', 'Sad',\n",
       "       'Happy', 'Victory', 'Victory', 'Sad', 'Happy', 'Happy', 'Happy',\n",
       "       'Victory', 'Wakanda Forever', 'Sad', 'Victory', 'Sad', 'Sad',\n",
       "       'Wakanda Forever', 'Victory', 'Wakanda Forever', 'Sad', 'Sad',\n",
       "       'Victory', 'Happy', 'Victory', 'Wakanda Forever', 'Victory',\n",
       "       'Wakanda Forever', 'Sad', 'Wakanda Forever', 'Happy', 'Victory',\n",
       "       'Sad', 'Wakanda Forever', 'Happy', 'Victory', 'Wakanda Forever',\n",
       "       'Wakanda Forever', 'Happy', 'Sad', 'Happy', 'Sad', 'Sad',\n",
       "       'Wakanda Forever', 'Wakanda Forever', 'Wakanda Forever', 'Victory',\n",
       "       'Victory', 'Victory', 'Happy', 'Happy', 'Victory', 'Victory',\n",
       "       'Wakanda Forever', 'Happy', 'Happy', 'Victory', 'Victory',\n",
       "       'Victory', 'Victory', 'Victory', 'Sad', 'Happy', 'Wakanda Forever',\n",
       "       'Happy', 'Victory', 'Victory', 'Happy', 'Wakanda Forever', 'Happy',\n",
       "       'Happy', 'Victory', 'Wakanda Forever', 'Victory',\n",
       "       'Wakanda Forever', 'Victory', 'Sad', 'Victory', 'Wakanda Forever',\n",
       "       'Wakanda Forever', 'Victory', 'Happy', 'Wakanda Forever',\n",
       "       'Victory', 'Sad', 'Happy', 'Victory', 'Happy', 'Happy', 'Victory',\n",
       "       'Happy', 'Happy', 'Sad', 'Victory', 'Victory', 'Happy', 'Happy',\n",
       "       'Happy', 'Happy', 'Wakanda Forever', 'Wakanda Forever', 'Victory',\n",
       "       'Happy', 'Victory', 'Happy', 'Victory', 'Victory', 'Victory',\n",
       "       'Victory', 'Happy', 'Victory', 'Victory', 'Wakanda Forever',\n",
       "       'Happy', 'Victory', 'Wakanda Forever', 'Victory',\n",
       "       'Wakanda Forever', 'Wakanda Forever', 'Victory', 'Victory',\n",
       "       'Happy', 'Happy', 'Victory', 'Happy', 'Victory', 'Happy',\n",
       "       'Wakanda Forever', 'Happy', 'Victory', 'Wakanda Forever', 'Happy',\n",
       "       'Sad', 'Victory', 'Victory', 'Happy', 'Happy', 'Wakanda Forever',\n",
       "       'Wakanda Forever', 'Victory', 'Wakanda Forever', 'Wakanda Forever',\n",
       "       'Happy', 'Happy', 'Sad', 'Victory', 'Victory', 'Happy',\n",
       "       'Wakanda Forever', 'Victory', 'Wakanda Forever', 'Victory',\n",
       "       'Wakanda Forever', 'Sad', 'Wakanda Forever', 'Happy', 'Sad', 'Sad',\n",
       "       'Wakanda Forever', 'Wakanda Forever', 'Victory', 'Victory', 'Sad',\n",
       "       'Victory', 'Sad', 'Happy', 'Victory', 'Victory', 'Wakanda Forever',\n",
       "       'Victory', 'Wakanda Forever', 'Victory', 'Happy',\n",
       "       'Wakanda Forever', 'Happy', 'Victory', 'Wakanda Forever',\n",
       "       'Wakanda Forever', 'Happy', 'Sad', 'Sad', 'Happy', 'Sad', 'Sad',\n",
       "       'Victory', 'Victory', 'Sad', 'Happy', 'Victory', 'Sad', 'Victory',\n",
       "       'Sad', 'Victory', 'Victory', 'Sad', 'Victory', 'Victory',\n",
       "       'Wakanda Forever', 'Happy', 'Wakanda Forever', 'Happy',\n",
       "       'Wakanda Forever', 'Victory', 'Sad', 'Happy', 'Sad',\n",
       "       'Wakanda Forever', 'Happy', 'Wakanda Forever', 'Sad', 'Happy',\n",
       "       'Victory', 'Victory', 'Sad', 'Victory', 'Sad', 'Victory', 'Happy',\n",
       "       'Sad', 'Victory', 'Victory', 'Happy', 'Happy', 'Sad', 'Happy',\n",
       "       'Sad', 'Sad', 'Victory', 'Wakanda Forever', 'Happy', 'Sad',\n",
       "       'Wakanda Forever', 'Sad', 'Sad', 'Victory', 'Wakanda Forever',\n",
       "       'Victory', 'Sad', 'Sad', 'Victory', 'Happy', 'Sad', 'Happy', 'Sad',\n",
       "       'Wakanda Forever', 'Sad', 'Victory', 'Wakanda Forever',\n",
       "       'Wakanda Forever', 'Sad', 'Sad', 'Victory', 'Wakanda Forever',\n",
       "       'Sad', 'Happy', 'Sad', 'Sad', 'Wakanda Forever', 'Wakanda Forever',\n",
       "       'Sad', 'Wakanda Forever', 'Wakanda Forever', 'Happy', 'Victory',\n",
       "       'Victory', 'Wakanda Forever', 'Victory', 'Victory', 'Sad',\n",
       "       'Victory', 'Victory', 'Happy', 'Wakanda Forever',\n",
       "       'Wakanda Forever', 'Happy', 'Wakanda Forever', 'Happy', 'Happy',\n",
       "       'Wakanda Forever', 'Victory', 'Victory', 'Happy',\n",
       "       'Wakanda Forever', 'Happy', 'Victory', 'Happy', 'Victory', 'Happy',\n",
       "       'Happy', 'Happy', 'Happy', 'Happy', 'Sad', 'Happy', 'Victory',\n",
       "       'Wakanda Forever', 'Victory', 'Happy', 'Happy', 'Wakanda Forever',\n",
       "       'Victory', 'Victory', 'Victory', 'Wakanda Forever',\n",
       "       'Wakanda Forever', 'Victory', 'Victory', 'Wakanda Forever',\n",
       "       'Wakanda Forever', 'Victory', 'Happy', 'Victory', 'Victory', 'Sad',\n",
       "       'Sad', 'Sad', 'Sad', 'Wakanda Forever', 'Victory', 'Happy',\n",
       "       'Victory', 'Victory', 'Sad', 'Happy', 'Wakanda Forever', 'Victory',\n",
       "       'Happy', 'Wakanda Forever', 'Victory', 'Wakanda Forever',\n",
       "       'Wakanda Forever', 'Victory', 'Happy', 'Victory', 'Sad', 'Victory',\n",
       "       'Victory', 'Sad', 'Sad', 'Happy', 'Victory', 'Wakanda Forever',\n",
       "       'Sad', 'Happy', 'Victory', 'Victory', 'Victory', 'Wakanda Forever',\n",
       "       'Victory', 'Victory', 'Sad', 'Victory', 'Happy', 'Victory',\n",
       "       'Wakanda Forever', 'Sad', 'Happy', 'Sad', 'Happy',\n",
       "       'Wakanda Forever', 'Happy', 'Sad', 'Victory', 'Victory', 'Sad',\n",
       "       'Happy', 'Wakanda Forever', 'Happy', 'Victory', 'Victory',\n",
       "       'Victory', 'Victory', 'Sad', 'Victory', 'Victory', 'Victory',\n",
       "       'Victory', 'Victory', 'Victory', 'Sad', 'Happy', 'Wakanda Forever',\n",
       "       'Wakanda Forever', 'Victory', 'Sad', 'Victory', 'Wakanda Forever',\n",
       "       'Wakanda Forever', 'Wakanda Forever', 'Sad', 'Sad', 'Happy',\n",
       "       'Happy', 'Victory', 'Wakanda Forever', 'Sad', 'Victory',\n",
       "       'Wakanda Forever', 'Happy', 'Happy', 'Wakanda Forever', 'Victory',\n",
       "       'Wakanda Forever', 'Wakanda Forever', 'Happy', 'Sad', 'Sad',\n",
       "       'Happy', 'Victory', 'Victory', 'Wakanda Forever', 'Victory',\n",
       "       'Happy', 'Sad', 'Victory', 'Sad', 'Victory', 'Victory',\n",
       "       'Wakanda Forever', 'Victory', 'Victory', 'Victory', 'Happy',\n",
       "       'Happy', 'Victory', 'Happy', 'Sad', 'Victory', 'Victory', 'Happy',\n",
       "       'Victory', 'Victory', 'Happy', 'Happy', 'Victory',\n",
       "       'Wakanda Forever', 'Victory', 'Victory'], dtype='<U15')"
      ]
     },
     "execution_count": 191,
     "metadata": {},
     "output_type": "execute_result"
    }
   ],
   "source": [
    "fit_models['rc'].predict(X_test)"
   ]
  },
  {
   "cell_type": "markdown",
   "id": "9854e1a7",
   "metadata": {},
   "source": [
    "### Evaluate and Serialize Model"
   ]
  },
  {
   "cell_type": "code",
   "execution_count": 228,
   "id": "74e5ae39",
   "metadata": {},
   "outputs": [],
   "source": [
    "from sklearn.metrics import accuracy_score, confusion_matrix, classification_report\n",
    "import seaborn as sns\n",
    "import matplotlib.pyplot as plt\n",
    "import pickle "
   ]
  },
  {
   "cell_type": "code",
   "execution_count": 237,
   "id": "df0570fe",
   "metadata": {},
   "outputs": [
    {
     "name": "stdout",
     "output_type": "stream",
     "text": [
      "lr\n",
      "Accuracy: 1.0\n",
      "Classification Report:\n",
      "                 precision    recall  f1-score   support\n",
      "\n",
      "          Happy       1.00      1.00      1.00       217\n",
      "            Sad       1.00      1.00      1.00       175\n",
      "        Victory       1.00      1.00      1.00       322\n",
      "Wakanda Forever       1.00      1.00      1.00       211\n",
      "\n",
      "       accuracy                           1.00       925\n",
      "      macro avg       1.00      1.00      1.00       925\n",
      "   weighted avg       1.00      1.00      1.00       925\n",
      "\n",
      "\n",
      "rc\n",
      "Accuracy: 1.0\n",
      "Classification Report:\n",
      "                 precision    recall  f1-score   support\n",
      "\n",
      "          Happy       1.00      1.00      1.00       217\n",
      "            Sad       1.00      1.00      1.00       175\n",
      "        Victory       1.00      1.00      1.00       322\n",
      "Wakanda Forever       1.00      1.00      1.00       211\n",
      "\n",
      "       accuracy                           1.00       925\n",
      "      macro avg       1.00      1.00      1.00       925\n",
      "   weighted avg       1.00      1.00      1.00       925\n",
      "\n",
      "\n",
      "rf\n",
      "Accuracy: 0.9978378378378379\n",
      "Classification Report:\n",
      "                 precision    recall  f1-score   support\n",
      "\n",
      "          Happy       1.00      1.00      1.00       217\n",
      "            Sad       1.00      1.00      1.00       175\n",
      "        Victory       0.99      1.00      1.00       322\n",
      "Wakanda Forever       1.00      0.99      1.00       211\n",
      "\n",
      "       accuracy                           1.00       925\n",
      "      macro avg       1.00      1.00      1.00       925\n",
      "   weighted avg       1.00      1.00      1.00       925\n",
      "\n",
      "\n",
      "gb\n",
      "Accuracy: 1.0\n",
      "Classification Report:\n",
      "                 precision    recall  f1-score   support\n",
      "\n",
      "          Happy       1.00      1.00      1.00       217\n",
      "            Sad       1.00      1.00      1.00       175\n",
      "        Victory       1.00      1.00      1.00       322\n",
      "Wakanda Forever       1.00      1.00      1.00       211\n",
      "\n",
      "       accuracy                           1.00       925\n",
      "      macro avg       1.00      1.00      1.00       925\n",
      "   weighted avg       1.00      1.00      1.00       925\n",
      "\n",
      "\n"
     ]
    }
   ],
   "source": [
    "for algo, model in fit_models.items():\n",
    "    yhat = model.predict(X_test)\n",
    "    print(algo)\n",
    "    print(\"Accuracy:\", accuracy_score(y_test, yhat))\n",
    "    print(\"Classification Report:\")\n",
    "    print(classification_report(y_test, yhat))\n",
    "    print()"
   ]
  },
  {
   "cell_type": "code",
   "execution_count": 211,
   "id": "090949c8",
   "metadata": {},
   "outputs": [
    {
     "data": {
      "text/plain": [
       "array(['Sad', 'Happy', 'Victory', 'Victory', 'Happy', 'Sad', 'Victory',\n",
       "       'Victory', 'Happy', 'Happy', 'Happy', 'Wakanda Forever', 'Victory',\n",
       "       'Sad', 'Wakanda Forever', 'Victory', 'Sad', 'Wakanda Forever',\n",
       "       'Happy', 'Wakanda Forever', 'Victory', 'Victory',\n",
       "       'Wakanda Forever', 'Victory', 'Wakanda Forever', 'Wakanda Forever',\n",
       "       'Victory', 'Wakanda Forever', 'Sad', 'Victory', 'Wakanda Forever',\n",
       "       'Happy', 'Happy', 'Wakanda Forever', 'Wakanda Forever',\n",
       "       'Wakanda Forever', 'Happy', 'Wakanda Forever', 'Sad', 'Victory',\n",
       "       'Sad', 'Wakanda Forever', 'Victory', 'Victory', 'Sad', 'Sad',\n",
       "       'Victory', 'Victory', 'Victory', 'Sad', 'Happy', 'Wakanda Forever',\n",
       "       'Wakanda Forever', 'Victory', 'Wakanda Forever', 'Wakanda Forever',\n",
       "       'Victory', 'Wakanda Forever', 'Happy', 'Happy', 'Victory',\n",
       "       'Victory', 'Sad', 'Victory', 'Victory', 'Sad', 'Victory',\n",
       "       'Victory', 'Happy', 'Wakanda Forever', 'Sad', 'Wakanda Forever',\n",
       "       'Wakanda Forever', 'Sad', 'Happy', 'Wakanda Forever', 'Happy',\n",
       "       'Happy', 'Happy', 'Sad', 'Wakanda Forever', 'Victory', 'Happy',\n",
       "       'Sad', 'Wakanda Forever', 'Victory', 'Happy', 'Sad', 'Sad',\n",
       "       'Wakanda Forever', 'Wakanda Forever', 'Happy', 'Happy', 'Happy',\n",
       "       'Wakanda Forever', 'Happy', 'Sad', 'Wakanda Forever', 'Sad', 'Sad',\n",
       "       'Victory', 'Victory', 'Victory', 'Wakanda Forever',\n",
       "       'Wakanda Forever', 'Wakanda Forever', 'Wakanda Forever', 'Sad',\n",
       "       'Sad', 'Victory', 'Sad', 'Sad', 'Victory', 'Victory', 'Sad', 'Sad',\n",
       "       'Wakanda Forever', 'Happy', 'Wakanda Forever', 'Victory',\n",
       "       'Wakanda Forever', 'Happy', 'Sad', 'Wakanda Forever', 'Victory',\n",
       "       'Wakanda Forever', 'Wakanda Forever', 'Victory', 'Victory',\n",
       "       'Victory', 'Sad', 'Victory', 'Victory', 'Wakanda Forever',\n",
       "       'Victory', 'Wakanda Forever', 'Victory', 'Happy', 'Happy',\n",
       "       'Wakanda Forever', 'Happy', 'Wakanda Forever', 'Sad',\n",
       "       'Wakanda Forever', 'Happy', 'Victory', 'Victory',\n",
       "       'Wakanda Forever', 'Victory', 'Happy', 'Sad', 'Happy', 'Happy',\n",
       "       'Victory', 'Victory', 'Victory', 'Wakanda Forever', 'Happy',\n",
       "       'Victory', 'Happy', 'Victory', 'Happy', 'Wakanda Forever', 'Happy',\n",
       "       'Sad', 'Wakanda Forever', 'Wakanda Forever', 'Happy', 'Happy',\n",
       "       'Victory', 'Victory', 'Happy', 'Wakanda Forever', 'Sad',\n",
       "       'Wakanda Forever', 'Victory', 'Happy', 'Victory', 'Sad', 'Sad',\n",
       "       'Sad', 'Sad', 'Victory', 'Sad', 'Wakanda Forever', 'Victory',\n",
       "       'Happy', 'Victory', 'Happy', 'Sad', 'Sad', 'Sad', 'Sad', 'Victory',\n",
       "       'Victory', 'Victory', 'Happy', 'Sad', 'Wakanda Forever',\n",
       "       'Wakanda Forever', 'Victory', 'Happy', 'Happy', 'Wakanda Forever',\n",
       "       'Victory', 'Victory', 'Victory', 'Victory', 'Sad', 'Victory',\n",
       "       'Wakanda Forever', 'Happy', 'Happy', 'Sad', 'Happy', 'Happy',\n",
       "       'Wakanda Forever', 'Wakanda Forever', 'Sad', 'Sad', 'Victory',\n",
       "       'Wakanda Forever', 'Happy', 'Wakanda Forever', 'Happy', 'Happy',\n",
       "       'Victory', 'Wakanda Forever', 'Wakanda Forever', 'Victory',\n",
       "       'Victory', 'Victory', 'Happy', 'Victory', 'Victory',\n",
       "       'Wakanda Forever', 'Victory', 'Victory', 'Victory', 'Happy',\n",
       "       'Happy', 'Victory', 'Wakanda Forever', 'Victory',\n",
       "       'Wakanda Forever', 'Happy', 'Victory', 'Victory', 'Sad', 'Happy',\n",
       "       'Sad', 'Wakanda Forever', 'Wakanda Forever', 'Wakanda Forever',\n",
       "       'Sad', 'Victory', 'Sad', 'Wakanda Forever', 'Happy', 'Happy',\n",
       "       'Happy', 'Happy', 'Happy', 'Sad', 'Victory', 'Victory', 'Sad',\n",
       "       'Victory', 'Victory', 'Victory', 'Wakanda Forever', 'Victory',\n",
       "       'Happy', 'Wakanda Forever', 'Sad', 'Victory', 'Happy', 'Sad',\n",
       "       'Victory', 'Sad', 'Happy', 'Wakanda Forever', 'Sad', 'Victory',\n",
       "       'Wakanda Forever', 'Sad', 'Happy', 'Happy', 'Sad', 'Victory',\n",
       "       'Wakanda Forever', 'Victory', 'Sad', 'Happy', 'Victory', 'Happy',\n",
       "       'Victory', 'Victory', 'Wakanda Forever', 'Wakanda Forever',\n",
       "       'Victory', 'Wakanda Forever', 'Happy', 'Victory',\n",
       "       'Wakanda Forever', 'Victory', 'Wakanda Forever', 'Sad', 'Victory',\n",
       "       'Sad', 'Victory', 'Sad', 'Victory', 'Victory', 'Victory', 'Sad',\n",
       "       'Wakanda Forever', 'Wakanda Forever', 'Victory', 'Happy', 'Happy',\n",
       "       'Happy', 'Victory', 'Victory', 'Sad', 'Victory', 'Wakanda Forever',\n",
       "       'Wakanda Forever', 'Wakanda Forever', 'Victory', 'Victory', 'Sad',\n",
       "       'Wakanda Forever', 'Happy', 'Wakanda Forever', 'Wakanda Forever',\n",
       "       'Wakanda Forever', 'Happy', 'Sad', 'Victory', 'Wakanda Forever',\n",
       "       'Happy', 'Happy', 'Wakanda Forever', 'Happy', 'Happy', 'Sad',\n",
       "       'Happy', 'Sad', 'Victory', 'Happy', 'Victory', 'Sad', 'Victory',\n",
       "       'Happy', 'Happy', 'Wakanda Forever', 'Victory', 'Happy', 'Victory',\n",
       "       'Wakanda Forever', 'Sad', 'Victory', 'Victory', 'Victory', 'Happy',\n",
       "       'Wakanda Forever', 'Happy', 'Victory', 'Victory', 'Sad', 'Happy',\n",
       "       'Wakanda Forever', 'Wakanda Forever', 'Happy', 'Victory', 'Happy',\n",
       "       'Victory', 'Sad', 'Wakanda Forever', 'Sad', 'Victory', 'Sad',\n",
       "       'Victory', 'Happy', 'Victory', 'Happy', 'Happy', 'Victory',\n",
       "       'Victory', 'Victory', 'Wakanda Forever', 'Victory', 'Happy',\n",
       "       'Victory', 'Sad', 'Victory', 'Victory', 'Sad', 'Victory', 'Sad',\n",
       "       'Sad', 'Victory', 'Wakanda Forever', 'Victory', 'Sad', 'Sad',\n",
       "       'Victory', 'Sad', 'Victory', 'Victory', 'Happy', 'Victory',\n",
       "       'Victory', 'Victory', 'Wakanda Forever', 'Happy', 'Happy',\n",
       "       'Wakanda Forever', 'Victory', 'Wakanda Forever', 'Victory',\n",
       "       'Happy', 'Happy', 'Happy', 'Happy', 'Sad', 'Wakanda Forever',\n",
       "       'Sad', 'Wakanda Forever', 'Wakanda Forever', 'Happy',\n",
       "       'Wakanda Forever', 'Happy', 'Sad', 'Happy', 'Victory', 'Victory',\n",
       "       'Victory', 'Victory', 'Sad', 'Sad', 'Victory', 'Wakanda Forever',\n",
       "       'Victory', 'Wakanda Forever', 'Victory', 'Victory', 'Victory',\n",
       "       'Wakanda Forever', 'Sad', 'Happy', 'Victory', 'Sad',\n",
       "       'Wakanda Forever', 'Wakanda Forever', 'Wakanda Forever', 'Victory',\n",
       "       'Victory', 'Happy', 'Happy', 'Wakanda Forever', 'Wakanda Forever',\n",
       "       'Happy', 'Sad', 'Victory', 'Happy', 'Sad', 'Victory', 'Victory',\n",
       "       'Victory', 'Victory', 'Victory', 'Sad', 'Victory',\n",
       "       'Wakanda Forever', 'Sad', 'Victory', 'Sad', 'Wakanda Forever',\n",
       "       'Happy', 'Victory', 'Victory', 'Wakanda Forever', 'Happy',\n",
       "       'Victory', 'Happy', 'Wakanda Forever', 'Victory', 'Victory', 'Sad',\n",
       "       'Happy', 'Victory', 'Victory', 'Sad', 'Happy', 'Happy', 'Happy',\n",
       "       'Victory', 'Wakanda Forever', 'Sad', 'Victory', 'Sad', 'Sad',\n",
       "       'Wakanda Forever', 'Victory', 'Wakanda Forever', 'Sad', 'Sad',\n",
       "       'Victory', 'Happy', 'Victory', 'Wakanda Forever', 'Victory',\n",
       "       'Wakanda Forever', 'Sad', 'Wakanda Forever', 'Happy', 'Victory',\n",
       "       'Sad', 'Wakanda Forever', 'Happy', 'Victory', 'Wakanda Forever',\n",
       "       'Wakanda Forever', 'Happy', 'Sad', 'Happy', 'Sad', 'Sad',\n",
       "       'Wakanda Forever', 'Wakanda Forever', 'Wakanda Forever', 'Victory',\n",
       "       'Victory', 'Victory', 'Happy', 'Happy', 'Victory', 'Victory',\n",
       "       'Wakanda Forever', 'Happy', 'Happy', 'Victory', 'Victory',\n",
       "       'Victory', 'Victory', 'Victory', 'Sad', 'Happy', 'Wakanda Forever',\n",
       "       'Happy', 'Victory', 'Victory', 'Happy', 'Wakanda Forever', 'Happy',\n",
       "       'Happy', 'Victory', 'Wakanda Forever', 'Victory',\n",
       "       'Wakanda Forever', 'Victory', 'Sad', 'Victory', 'Wakanda Forever',\n",
       "       'Wakanda Forever', 'Victory', 'Happy', 'Wakanda Forever',\n",
       "       'Victory', 'Sad', 'Happy', 'Victory', 'Happy', 'Happy', 'Victory',\n",
       "       'Happy', 'Happy', 'Sad', 'Victory', 'Victory', 'Happy', 'Happy',\n",
       "       'Happy', 'Happy', 'Wakanda Forever', 'Wakanda Forever', 'Victory',\n",
       "       'Happy', 'Victory', 'Happy', 'Victory', 'Victory', 'Victory',\n",
       "       'Victory', 'Happy', 'Victory', 'Victory', 'Wakanda Forever',\n",
       "       'Happy', 'Victory', 'Wakanda Forever', 'Victory',\n",
       "       'Wakanda Forever', 'Wakanda Forever', 'Victory', 'Victory',\n",
       "       'Happy', 'Happy', 'Victory', 'Happy', 'Victory', 'Happy',\n",
       "       'Wakanda Forever', 'Happy', 'Victory', 'Wakanda Forever', 'Happy',\n",
       "       'Sad', 'Victory', 'Victory', 'Happy', 'Happy', 'Wakanda Forever',\n",
       "       'Wakanda Forever', 'Victory', 'Wakanda Forever', 'Wakanda Forever',\n",
       "       'Happy', 'Happy', 'Sad', 'Victory', 'Victory', 'Happy',\n",
       "       'Wakanda Forever', 'Victory', 'Wakanda Forever', 'Victory',\n",
       "       'Wakanda Forever', 'Sad', 'Wakanda Forever', 'Happy', 'Sad', 'Sad',\n",
       "       'Wakanda Forever', 'Wakanda Forever', 'Victory', 'Victory', 'Sad',\n",
       "       'Victory', 'Sad', 'Happy', 'Victory', 'Victory', 'Wakanda Forever',\n",
       "       'Victory', 'Wakanda Forever', 'Victory', 'Happy',\n",
       "       'Wakanda Forever', 'Happy', 'Victory', 'Wakanda Forever',\n",
       "       'Wakanda Forever', 'Happy', 'Sad', 'Sad', 'Happy', 'Sad', 'Sad',\n",
       "       'Victory', 'Victory', 'Sad', 'Happy', 'Victory', 'Sad', 'Victory',\n",
       "       'Sad', 'Victory', 'Victory', 'Sad', 'Victory', 'Victory',\n",
       "       'Wakanda Forever', 'Happy', 'Wakanda Forever', 'Happy',\n",
       "       'Wakanda Forever', 'Victory', 'Sad', 'Happy', 'Sad',\n",
       "       'Wakanda Forever', 'Happy', 'Wakanda Forever', 'Sad', 'Happy',\n",
       "       'Victory', 'Victory', 'Sad', 'Victory', 'Sad', 'Victory', 'Happy',\n",
       "       'Sad', 'Victory', 'Victory', 'Happy', 'Happy', 'Sad', 'Happy',\n",
       "       'Sad', 'Sad', 'Victory', 'Wakanda Forever', 'Happy', 'Sad',\n",
       "       'Wakanda Forever', 'Sad', 'Sad', 'Victory', 'Wakanda Forever',\n",
       "       'Victory', 'Sad', 'Sad', 'Victory', 'Happy', 'Sad', 'Happy', 'Sad',\n",
       "       'Wakanda Forever', 'Sad', 'Victory', 'Wakanda Forever',\n",
       "       'Wakanda Forever', 'Sad', 'Sad', 'Victory', 'Wakanda Forever',\n",
       "       'Sad', 'Happy', 'Sad', 'Sad', 'Wakanda Forever', 'Wakanda Forever',\n",
       "       'Sad', 'Wakanda Forever', 'Wakanda Forever', 'Happy', 'Victory',\n",
       "       'Victory', 'Wakanda Forever', 'Victory', 'Victory', 'Sad',\n",
       "       'Victory', 'Victory', 'Happy', 'Wakanda Forever',\n",
       "       'Wakanda Forever', 'Happy', 'Wakanda Forever', 'Happy', 'Happy',\n",
       "       'Wakanda Forever', 'Victory', 'Victory', 'Happy',\n",
       "       'Wakanda Forever', 'Happy', 'Victory', 'Happy', 'Victory', 'Happy',\n",
       "       'Happy', 'Happy', 'Happy', 'Happy', 'Sad', 'Happy', 'Victory',\n",
       "       'Wakanda Forever', 'Victory', 'Happy', 'Happy', 'Wakanda Forever',\n",
       "       'Victory', 'Victory', 'Victory', 'Wakanda Forever',\n",
       "       'Wakanda Forever', 'Victory', 'Victory', 'Wakanda Forever',\n",
       "       'Wakanda Forever', 'Victory', 'Happy', 'Victory', 'Victory', 'Sad',\n",
       "       'Sad', 'Sad', 'Sad', 'Wakanda Forever', 'Victory', 'Happy',\n",
       "       'Victory', 'Victory', 'Sad', 'Happy', 'Wakanda Forever', 'Victory',\n",
       "       'Happy', 'Wakanda Forever', 'Victory', 'Wakanda Forever',\n",
       "       'Wakanda Forever', 'Victory', 'Happy', 'Victory', 'Sad', 'Victory',\n",
       "       'Victory', 'Sad', 'Sad', 'Happy', 'Victory', 'Wakanda Forever',\n",
       "       'Sad', 'Happy', 'Victory', 'Victory', 'Victory', 'Wakanda Forever',\n",
       "       'Victory', 'Victory', 'Sad', 'Victory', 'Happy', 'Victory',\n",
       "       'Wakanda Forever', 'Sad', 'Happy', 'Sad', 'Happy',\n",
       "       'Wakanda Forever', 'Happy', 'Sad', 'Victory', 'Victory', 'Sad',\n",
       "       'Happy', 'Wakanda Forever', 'Happy', 'Victory', 'Victory',\n",
       "       'Victory', 'Victory', 'Sad', 'Victory', 'Victory', 'Victory',\n",
       "       'Victory', 'Victory', 'Victory', 'Sad', 'Happy', 'Wakanda Forever',\n",
       "       'Wakanda Forever', 'Victory', 'Sad', 'Victory', 'Wakanda Forever',\n",
       "       'Wakanda Forever', 'Wakanda Forever', 'Sad', 'Sad', 'Happy',\n",
       "       'Happy', 'Victory', 'Wakanda Forever', 'Sad', 'Victory',\n",
       "       'Wakanda Forever', 'Happy', 'Happy', 'Wakanda Forever', 'Victory',\n",
       "       'Wakanda Forever', 'Wakanda Forever', 'Happy', 'Sad', 'Sad',\n",
       "       'Happy', 'Victory', 'Victory', 'Wakanda Forever', 'Victory',\n",
       "       'Happy', 'Sad', 'Victory', 'Sad', 'Victory', 'Victory',\n",
       "       'Wakanda Forever', 'Victory', 'Victory', 'Victory', 'Happy',\n",
       "       'Happy', 'Victory', 'Happy', 'Sad', 'Victory', 'Victory', 'Happy',\n",
       "       'Victory', 'Victory', 'Happy', 'Happy', 'Victory',\n",
       "       'Wakanda Forever', 'Victory', 'Victory'], dtype=object)"
      ]
     },
     "execution_count": 211,
     "metadata": {},
     "output_type": "execute_result"
    }
   ],
   "source": [
    "fit_models['gb'].predict(X_test)"
   ]
  },
  {
   "cell_type": "code",
   "execution_count": 212,
   "id": "b8d85e0e",
   "metadata": {},
   "outputs": [
    {
     "data": {
      "text/plain": [
       "1052                Sad\n",
       "59                Happy\n",
       "2268            Victory\n",
       "2153            Victory\n",
       "85                Happy\n",
       "             ...       \n",
       "219               Happy\n",
       "1861            Victory\n",
       "2620    Wakanda Forever\n",
       "2034            Victory\n",
       "2115            Victory\n",
       "Name: class, Length: 925, dtype: object"
      ]
     },
     "execution_count": 212,
     "metadata": {},
     "output_type": "execute_result"
    }
   ],
   "source": [
    "y_test"
   ]
  },
  {
   "cell_type": "code",
   "execution_count": 330,
   "id": "8de2fa45",
   "metadata": {},
   "outputs": [
    {
     "data": {
      "image/png": "[encoded data removed]",
      "text/plain": [
       "<Figure size 640x480 with 2 Axes>"
      ]
     },
     "metadata": {},
     "output_type": "display_data"
    }
   ],
   "source": [
    "yhat = fit_models['gb'].predict(X_test)\n",
    "\n",
    "cm = confusion_matrix(y_test, yhat)\n",
    "\n",
    "# Create a heatmap of the confusion matrix\n",
    "sns.heatmap(cm, annot=True, cmap=\"crest\")\n",
    "plt.xlabel('Predicted Labels')\n",
    "plt.ylabel('True Labels')\n",
    "plt.title('Confusion Matrix')\n",
    "plt.show()"
   ]
  },
  {
   "cell_type": "code",
   "execution_count": 331,
   "id": "35dc7254",
   "metadata": {},
   "outputs": [
    {
     "data": {
      "text/plain": [
       "array([[217,   0,   0,   0],\n",
       "       [  0, 175,   0,   0],\n",
       "       [  0,   0, 322,   0],\n",
       "       [  0,   0,   0, 211]], dtype=int64)"
      ]
     },
     "execution_count": 331,
     "metadata": {},
     "output_type": "execute_result"
    }
   ],
   "source": [
    "cm"
   ]
  },
  {
   "cell_type": "code",
   "execution_count": 213,
   "id": "1af9734f",
   "metadata": {},
   "outputs": [],
   "source": [
    "with open('body_language.pkl', 'wb') as f:\n",
    "    pickle.dump(fit_models['gb'], f)"
   ]
  },
  {
   "cell_type": "markdown",
   "id": "e78c59b9",
   "metadata": {},
   "source": [
    "## Make Detections with Model"
   ]
  },
  {
   "cell_type": "code",
   "execution_count": 214,
   "id": "df6cd656",
   "metadata": {},
   "outputs": [],
   "source": [
    "with open('body_language.pkl', 'rb') as f:\n",
    "    model = pickle.load(f)"
   ]
  },
  {
   "cell_type": "code",
   "execution_count": 215,
   "id": "12f238c7",
   "metadata": {},
   "outputs": [
    {
     "data": {
      "text/plain": [
       "Pipeline(steps=[('standardscaler', StandardScaler()),\n",
       "                ('gradientboostingclassifier', GradientBoostingClassifier())])"
      ]
     },
     "execution_count": 215,
     "metadata": {},
     "output_type": "execute_result"
    }
   ],
   "source": [
    "model"
   ]
  },
  {
   "cell_type": "code",
   "execution_count": 216,
   "id": "e704dab4",
   "metadata": {},
   "outputs": [
    {
     "name": "stderr",
     "output_type": "stream",
     "text": [
      "C:\\Users\\DELL\\anaconda3\\lib\\site-packages\\sklearn\\base.py:450: UserWarning: X does not have valid feature names, but StandardScaler was fitted with feature names\n",
      "  warnings.warn(\n",
      "C:\\Users\\DELL\\anaconda3\\lib\\site-packages\\sklearn\\base.py:450: UserWarning: X does not have valid feature names, but StandardScaler was fitted with feature names\n",
      "  warnings.warn(\n",
      "C:\\Users\\DELL\\anaconda3\\lib\\site-packages\\sklearn\\base.py:450: UserWarning: X does not have valid feature names, but StandardScaler was fitted with feature names\n",
      "  warnings.warn(\n",
      "C:\\Users\\DELL\\anaconda3\\lib\\site-packages\\sklearn\\base.py:450: UserWarning: X does not have valid feature names, but StandardScaler was fitted with feature names\n",
      "  warnings.warn(\n"
     ]
    },
    {
     "name": "stdout",
     "output_type": "stream",
     "text": [
      "Happy [9.95369213e-01 3.71197925e-03 5.41517541e-04 3.77290055e-04]\n",
      "Happy [9.96841430e-01 2.60875714e-03 3.25027028e-04 2.24785865e-04]\n"
     ]
    },
    {
     "name": "stderr",
     "output_type": "stream",
     "text": [
      "C:\\Users\\DELL\\anaconda3\\lib\\site-packages\\sklearn\\base.py:450: UserWarning: X does not have valid feature names, but StandardScaler was fitted with feature names\n",
      "  warnings.warn(\n",
      "C:\\Users\\DELL\\anaconda3\\lib\\site-packages\\sklearn\\base.py:450: UserWarning: X does not have valid feature names, but StandardScaler was fitted with feature names\n",
      "  warnings.warn(\n",
      "C:\\Users\\DELL\\anaconda3\\lib\\site-packages\\sklearn\\base.py:450: UserWarning: X does not have valid feature names, but StandardScaler was fitted with feature names\n",
      "  warnings.warn(\n",
      "C:\\Users\\DELL\\anaconda3\\lib\\site-packages\\sklearn\\base.py:450: UserWarning: X does not have valid feature names, but StandardScaler was fitted with feature names\n",
      "  warnings.warn(\n"
     ]
    },
    {
     "name": "stdout",
     "output_type": "stream",
     "text": [
      "Happy [9.97446840e-01 2.01669324e-03 3.19436168e-04 2.17030420e-04]\n",
      "Happy [9.98090217e-01 1.36308937e-03 3.25525654e-04 2.21167721e-04]\n"
     ]
    },
    {
     "name": "stderr",
     "output_type": "stream",
     "text": [
      "C:\\Users\\DELL\\anaconda3\\lib\\site-packages\\sklearn\\base.py:450: UserWarning: X does not have valid feature names, but StandardScaler was fitted with feature names\n",
      "  warnings.warn(\n",
      "C:\\Users\\DELL\\anaconda3\\lib\\site-packages\\sklearn\\base.py:450: UserWarning: X does not have valid feature names, but StandardScaler was fitted with feature names\n",
      "  warnings.warn(\n",
      "C:\\Users\\DELL\\anaconda3\\lib\\site-packages\\sklearn\\base.py:450: UserWarning: X does not have valid feature names, but StandardScaler was fitted with feature names\n",
      "  warnings.warn(\n",
      "C:\\Users\\DELL\\anaconda3\\lib\\site-packages\\sklearn\\base.py:450: UserWarning: X does not have valid feature names, but StandardScaler was fitted with feature names\n",
      "  warnings.warn(\n"
     ]
    },
    {
     "name": "stdout",
     "output_type": "stream",
     "text": [
      "Happy [9.96493574e-01 2.97672516e-03 3.15407509e-04 2.14293279e-04]\n",
      "Happy [9.95920371e-01 3.55023293e-03 3.15226080e-04 2.14170014e-04]\n"
     ]
    },
    {
     "name": "stderr",
     "output_type": "stream",
     "text": [
      "C:\\Users\\DELL\\anaconda3\\lib\\site-packages\\sklearn\\base.py:450: UserWarning: X does not have valid feature names, but StandardScaler was fitted with feature names\n",
      "  warnings.warn(\n",
      "C:\\Users\\DELL\\anaconda3\\lib\\site-packages\\sklearn\\base.py:450: UserWarning: X does not have valid feature names, but StandardScaler was fitted with feature names\n",
      "  warnings.warn(\n",
      "C:\\Users\\DELL\\anaconda3\\lib\\site-packages\\sklearn\\base.py:450: UserWarning: X does not have valid feature names, but StandardScaler was fitted with feature names\n",
      "  warnings.warn(\n",
      "C:\\Users\\DELL\\anaconda3\\lib\\site-packages\\sklearn\\base.py:450: UserWarning: X does not have valid feature names, but StandardScaler was fitted with feature names\n",
      "  warnings.warn(\n"
     ]
    },
    {
     "name": "stdout",
     "output_type": "stream",
     "text": [
      "Happy [9.96004590e-01 3.44985927e-03 3.24845429e-04 2.20705565e-04]\n",
      "Happy [9.95817413e-01 3.61147803e-03 3.40063765e-04 2.31045164e-04]\n"
     ]
    },
    {
     "name": "stderr",
     "output_type": "stream",
     "text": [
      "C:\\Users\\DELL\\anaconda3\\lib\\site-packages\\sklearn\\base.py:450: UserWarning: X does not have valid feature names, but StandardScaler was fitted with feature names\n",
      "  warnings.warn(\n",
      "C:\\Users\\DELL\\anaconda3\\lib\\site-packages\\sklearn\\base.py:450: UserWarning: X does not have valid feature names, but StandardScaler was fitted with feature names\n",
      "  warnings.warn(\n",
      "C:\\Users\\DELL\\anaconda3\\lib\\site-packages\\sklearn\\base.py:450: UserWarning: X does not have valid feature names, but StandardScaler was fitted with feature names\n",
      "  warnings.warn(\n",
      "C:\\Users\\DELL\\anaconda3\\lib\\site-packages\\sklearn\\base.py:450: UserWarning: X does not have valid feature names, but StandardScaler was fitted with feature names\n",
      "  warnings.warn(\n"
     ]
    },
    {
     "name": "stdout",
     "output_type": "stream",
     "text": [
      "Happy [9.94319051e-01 4.89836428e-03 4.69210809e-04 3.13374017e-04]\n",
      "Happy [9.95458688e-01 3.91571928e-03 3.75083947e-04 2.50509070e-04]\n"
     ]
    },
    {
     "name": "stderr",
     "output_type": "stream",
     "text": [
      "C:\\Users\\DELL\\anaconda3\\lib\\site-packages\\sklearn\\base.py:450: UserWarning: X does not have valid feature names, but StandardScaler was fitted with feature names\n",
      "  warnings.warn(\n",
      "C:\\Users\\DELL\\anaconda3\\lib\\site-packages\\sklearn\\base.py:450: UserWarning: X does not have valid feature names, but StandardScaler was fitted with feature names\n",
      "  warnings.warn(\n",
      "C:\\Users\\DELL\\anaconda3\\lib\\site-packages\\sklearn\\base.py:450: UserWarning: X does not have valid feature names, but StandardScaler was fitted with feature names\n",
      "  warnings.warn(\n",
      "C:\\Users\\DELL\\anaconda3\\lib\\site-packages\\sklearn\\base.py:450: UserWarning: X does not have valid feature names, but StandardScaler was fitted with feature names\n",
      "  warnings.warn(\n"
     ]
    },
    {
     "name": "stdout",
     "output_type": "stream",
     "text": [
      "Happy [9.95391303e-01 3.98314597e-03 3.75058557e-04 2.50492112e-04]\n",
      "Happy [9.90890671e-01 8.48631944e-03 3.73362741e-04 2.49646659e-04]\n"
     ]
    },
    {
     "name": "stderr",
     "output_type": "stream",
     "text": [
      "C:\\Users\\DELL\\anaconda3\\lib\\site-packages\\sklearn\\base.py:450: UserWarning: X does not have valid feature names, but StandardScaler was fitted with feature names\n",
      "  warnings.warn(\n",
      "C:\\Users\\DELL\\anaconda3\\lib\\site-packages\\sklearn\\base.py:450: UserWarning: X does not have valid feature names, but StandardScaler was fitted with feature names\n",
      "  warnings.warn(\n"
     ]
    },
    {
     "name": "stdout",
     "output_type": "stream",
     "text": [
      "Happy [9.94271388e-01 5.33681773e-03 2.34797772e-04 1.56996060e-04]\n"
     ]
    },
    {
     "name": "stderr",
     "output_type": "stream",
     "text": [
      "C:\\Users\\DELL\\anaconda3\\lib\\site-packages\\sklearn\\base.py:450: UserWarning: X does not have valid feature names, but StandardScaler was fitted with feature names\n",
      "  warnings.warn(\n",
      "C:\\Users\\DELL\\anaconda3\\lib\\site-packages\\sklearn\\base.py:450: UserWarning: X does not have valid feature names, but StandardScaler was fitted with feature names\n",
      "  warnings.warn(\n",
      "C:\\Users\\DELL\\anaconda3\\lib\\site-packages\\sklearn\\base.py:450: UserWarning: X does not have valid feature names, but StandardScaler was fitted with feature names\n",
      "  warnings.warn(\n",
      "C:\\Users\\DELL\\anaconda3\\lib\\site-packages\\sklearn\\base.py:450: UserWarning: X does not have valid feature names, but StandardScaler was fitted with feature names\n",
      "  warnings.warn(\n"
     ]
    },
    {
     "name": "stdout",
     "output_type": "stream",
     "text": [
      "Happy [9.92373079e-01 7.11260004e-03 3.01468594e-04 2.12852543e-04]\n",
      "Happy [9.94984984e-01 4.49958661e-03 3.02262053e-04 2.13167303e-04]\n"
     ]
    },
    {
     "name": "stderr",
     "output_type": "stream",
     "text": [
      "C:\\Users\\DELL\\anaconda3\\lib\\site-packages\\sklearn\\base.py:450: UserWarning: X does not have valid feature names, but StandardScaler was fitted with feature names\n",
      "  warnings.warn(\n",
      "C:\\Users\\DELL\\anaconda3\\lib\\site-packages\\sklearn\\base.py:450: UserWarning: X does not have valid feature names, but StandardScaler was fitted with feature names\n",
      "  warnings.warn(\n",
      "C:\\Users\\DELL\\anaconda3\\lib\\site-packages\\sklearn\\base.py:450: UserWarning: X does not have valid feature names, but StandardScaler was fitted with feature names\n",
      "  warnings.warn(\n",
      "C:\\Users\\DELL\\anaconda3\\lib\\site-packages\\sklearn\\base.py:450: UserWarning: X does not have valid feature names, but StandardScaler was fitted with feature names\n",
      "  warnings.warn(\n"
     ]
    },
    {
     "name": "stdout",
     "output_type": "stream",
     "text": [
      "Happy [9.75708178e-01 2.37045171e-02 3.44411965e-04 2.42893109e-04]\n",
      "Happy [9.93958917e-01 5.44309199e-03 3.47617130e-04 2.50373840e-04]\n"
     ]
    },
    {
     "name": "stderr",
     "output_type": "stream",
     "text": [
      "C:\\Users\\DELL\\anaconda3\\lib\\site-packages\\sklearn\\base.py:450: UserWarning: X does not have valid feature names, but StandardScaler was fitted with feature names\n",
      "  warnings.warn(\n",
      "C:\\Users\\DELL\\anaconda3\\lib\\site-packages\\sklearn\\base.py:450: UserWarning: X does not have valid feature names, but StandardScaler was fitted with feature names\n",
      "  warnings.warn(\n",
      "C:\\Users\\DELL\\anaconda3\\lib\\site-packages\\sklearn\\base.py:450: UserWarning: X does not have valid feature names, but StandardScaler was fitted with feature names\n",
      "  warnings.warn(\n",
      "C:\\Users\\DELL\\anaconda3\\lib\\site-packages\\sklearn\\base.py:450: UserWarning: X does not have valid feature names, but StandardScaler was fitted with feature names\n",
      "  warnings.warn(\n"
     ]
    },
    {
     "name": "stdout",
     "output_type": "stream",
     "text": [
      "Happy [9.94080182e-01 5.33383067e-03 3.40639275e-04 2.45347987e-04]\n",
      "Happy [0.62301522 0.3674699  0.00553108 0.0039838 ]\n"
     ]
    },
    {
     "name": "stderr",
     "output_type": "stream",
     "text": [
      "C:\\Users\\DELL\\anaconda3\\lib\\site-packages\\sklearn\\base.py:450: UserWarning: X does not have valid feature names, but StandardScaler was fitted with feature names\n",
      "  warnings.warn(\n",
      "C:\\Users\\DELL\\anaconda3\\lib\\site-packages\\sklearn\\base.py:450: UserWarning: X does not have valid feature names, but StandardScaler was fitted with feature names\n",
      "  warnings.warn(\n",
      "C:\\Users\\DELL\\anaconda3\\lib\\site-packages\\sklearn\\base.py:450: UserWarning: X does not have valid feature names, but StandardScaler was fitted with feature names\n",
      "  warnings.warn(\n",
      "C:\\Users\\DELL\\anaconda3\\lib\\site-packages\\sklearn\\base.py:450: UserWarning: X does not have valid feature names, but StandardScaler was fitted with feature names\n",
      "  warnings.warn(\n"
     ]
    },
    {
     "name": "stdout",
     "output_type": "stream",
     "text": [
      "Sad [0.21053635 0.78010706 0.00546016 0.00389643]\n",
      "Sad [0.36443716 0.62392867 0.00678927 0.0048449 ]\n"
     ]
    },
    {
     "name": "stderr",
     "output_type": "stream",
     "text": [
      "C:\\Users\\DELL\\anaconda3\\lib\\site-packages\\sklearn\\base.py:450: UserWarning: X does not have valid feature names, but StandardScaler was fitted with feature names\n",
      "  warnings.warn(\n",
      "C:\\Users\\DELL\\anaconda3\\lib\\site-packages\\sklearn\\base.py:450: UserWarning: X does not have valid feature names, but StandardScaler was fitted with feature names\n",
      "  warnings.warn(\n",
      "C:\\Users\\DELL\\anaconda3\\lib\\site-packages\\sklearn\\base.py:450: UserWarning: X does not have valid feature names, but StandardScaler was fitted with feature names\n",
      "  warnings.warn(\n",
      "C:\\Users\\DELL\\anaconda3\\lib\\site-packages\\sklearn\\base.py:450: UserWarning: X does not have valid feature names, but StandardScaler was fitted with feature names\n",
      "  warnings.warn(\n"
     ]
    },
    {
     "name": "stdout",
     "output_type": "stream",
     "text": [
      "Sad [0.11817736 0.87773239 0.00238384 0.00170641]\n",
      "Sad [0.1017973  0.89467939 0.00205342 0.00146989]\n"
     ]
    },
    {
     "name": "stderr",
     "output_type": "stream",
     "text": [
      "C:\\Users\\DELL\\anaconda3\\lib\\site-packages\\sklearn\\base.py:450: UserWarning: X does not have valid feature names, but StandardScaler was fitted with feature names\n",
      "  warnings.warn(\n",
      "C:\\Users\\DELL\\anaconda3\\lib\\site-packages\\sklearn\\base.py:450: UserWarning: X does not have valid feature names, but StandardScaler was fitted with feature names\n",
      "  warnings.warn(\n",
      "C:\\Users\\DELL\\anaconda3\\lib\\site-packages\\sklearn\\base.py:450: UserWarning: X does not have valid feature names, but StandardScaler was fitted with feature names\n",
      "  warnings.warn(\n",
      "C:\\Users\\DELL\\anaconda3\\lib\\site-packages\\sklearn\\base.py:450: UserWarning: X does not have valid feature names, but StandardScaler was fitted with feature names\n",
      "  warnings.warn(\n"
     ]
    },
    {
     "name": "stdout",
     "output_type": "stream",
     "text": [
      "Sad [0.11667637 0.87928534 0.00235356 0.00168473]\n",
      "Sad [5.35830457e-02 9.44562388e-01 1.08086066e-03 7.73705968e-04]\n"
     ]
    },
    {
     "name": "stderr",
     "output_type": "stream",
     "text": [
      "C:\\Users\\DELL\\anaconda3\\lib\\site-packages\\sklearn\\base.py:450: UserWarning: X does not have valid feature names, but StandardScaler was fitted with feature names\n",
      "  warnings.warn(\n",
      "C:\\Users\\DELL\\anaconda3\\lib\\site-packages\\sklearn\\base.py:450: UserWarning: X does not have valid feature names, but StandardScaler was fitted with feature names\n",
      "  warnings.warn(\n",
      "C:\\Users\\DELL\\anaconda3\\lib\\site-packages\\sklearn\\base.py:450: UserWarning: X does not have valid feature names, but StandardScaler was fitted with feature names\n",
      "  warnings.warn(\n",
      "C:\\Users\\DELL\\anaconda3\\lib\\site-packages\\sklearn\\base.py:450: UserWarning: X does not have valid feature names, but StandardScaler was fitted with feature names\n",
      "  warnings.warn(\n"
     ]
    },
    {
     "name": "stdout",
     "output_type": "stream",
     "text": [
      "Sad [5.35839971e-02 9.44579159e-01 1.06312376e-03 7.73719706e-04]\n",
      "Sad [6.30420608e-02 9.34771365e-01 1.26554013e-03 9.21034198e-04]\n"
     ]
    },
    {
     "name": "stderr",
     "output_type": "stream",
     "text": [
      "C:\\Users\\DELL\\anaconda3\\lib\\site-packages\\sklearn\\base.py:450: UserWarning: X does not have valid feature names, but StandardScaler was fitted with feature names\n",
      "  warnings.warn(\n",
      "C:\\Users\\DELL\\anaconda3\\lib\\site-packages\\sklearn\\base.py:450: UserWarning: X does not have valid feature names, but StandardScaler was fitted with feature names\n",
      "  warnings.warn(\n",
      "C:\\Users\\DELL\\anaconda3\\lib\\site-packages\\sklearn\\base.py:450: UserWarning: X does not have valid feature names, but StandardScaler was fitted with feature names\n",
      "  warnings.warn(\n",
      "C:\\Users\\DELL\\anaconda3\\lib\\site-packages\\sklearn\\base.py:450: UserWarning: X does not have valid feature names, but StandardScaler was fitted with feature names\n",
      "  warnings.warn(\n"
     ]
    },
    {
     "name": "stdout",
     "output_type": "stream",
     "text": [
      "Sad [6.19895774e-02 9.35821393e-01 1.26696105e-03 9.22068314e-04]\n",
      "Sad [0.08081697 0.91630761 0.00165176 0.00122366]\n"
     ]
    },
    {
     "name": "stderr",
     "output_type": "stream",
     "text": [
      "C:\\Users\\DELL\\anaconda3\\lib\\site-packages\\sklearn\\base.py:450: UserWarning: X does not have valid feature names, but StandardScaler was fitted with feature names\n",
      "  warnings.warn(\n",
      "C:\\Users\\DELL\\anaconda3\\lib\\site-packages\\sklearn\\base.py:450: UserWarning: X does not have valid feature names, but StandardScaler was fitted with feature names\n",
      "  warnings.warn(\n",
      "C:\\Users\\DELL\\anaconda3\\lib\\site-packages\\sklearn\\base.py:450: UserWarning: X does not have valid feature names, but StandardScaler was fitted with feature names\n",
      "  warnings.warn(\n",
      "C:\\Users\\DELL\\anaconda3\\lib\\site-packages\\sklearn\\base.py:450: UserWarning: X does not have valid feature names, but StandardScaler was fitted with feature names\n",
      "  warnings.warn(\n"
     ]
    },
    {
     "name": "stdout",
     "output_type": "stream",
     "text": [
      "Sad [0.10547904 0.89076807 0.00215581 0.00159707]\n",
      "Sad [0.10544282 0.89046213 0.00249082 0.00160424]\n"
     ]
    },
    {
     "name": "stderr",
     "output_type": "stream",
     "text": [
      "C:\\Users\\DELL\\anaconda3\\lib\\site-packages\\sklearn\\base.py:450: UserWarning: X does not have valid feature names, but StandardScaler was fitted with feature names\n",
      "  warnings.warn(\n",
      "C:\\Users\\DELL\\anaconda3\\lib\\site-packages\\sklearn\\base.py:450: UserWarning: X does not have valid feature names, but StandardScaler was fitted with feature names\n",
      "  warnings.warn(\n",
      "C:\\Users\\DELL\\anaconda3\\lib\\site-packages\\sklearn\\base.py:450: UserWarning: X does not have valid feature names, but StandardScaler was fitted with feature names\n",
      "  warnings.warn(\n",
      "C:\\Users\\DELL\\anaconda3\\lib\\site-packages\\sklearn\\base.py:450: UserWarning: X does not have valid feature names, but StandardScaler was fitted with feature names\n",
      "  warnings.warn(\n"
     ]
    },
    {
     "name": "stdout",
     "output_type": "stream",
     "text": [
      "Sad [0.10544238 0.89045844 0.00249081 0.00160837]\n",
      "Sad [0.21509649 0.77656076 0.0050811  0.00326165]\n"
     ]
    },
    {
     "name": "stderr",
     "output_type": "stream",
     "text": [
      "C:\\Users\\DELL\\anaconda3\\lib\\site-packages\\sklearn\\base.py:450: UserWarning: X does not have valid feature names, but StandardScaler was fitted with feature names\n",
      "  warnings.warn(\n",
      "C:\\Users\\DELL\\anaconda3\\lib\\site-packages\\sklearn\\base.py:450: UserWarning: X does not have valid feature names, but StandardScaler was fitted with feature names\n",
      "  warnings.warn(\n",
      "C:\\Users\\DELL\\anaconda3\\lib\\site-packages\\sklearn\\base.py:450: UserWarning: X does not have valid feature names, but StandardScaler was fitted with feature names\n",
      "  warnings.warn(\n",
      "C:\\Users\\DELL\\anaconda3\\lib\\site-packages\\sklearn\\base.py:450: UserWarning: X does not have valid feature names, but StandardScaler was fitted with feature names\n",
      "  warnings.warn(\n"
     ]
    },
    {
     "name": "stdout",
     "output_type": "stream",
     "text": [
      "Sad [0.18932007 0.80032119 0.0066733  0.00368544]\n",
      "Happy [9.81123343e-01 1.82166143e-02 4.25211737e-04 2.34830511e-04]\n"
     ]
    },
    {
     "name": "stderr",
     "output_type": "stream",
     "text": [
      "C:\\Users\\DELL\\anaconda3\\lib\\site-packages\\sklearn\\base.py:450: UserWarning: X does not have valid feature names, but StandardScaler was fitted with feature names\n",
      "  warnings.warn(\n",
      "C:\\Users\\DELL\\anaconda3\\lib\\site-packages\\sklearn\\base.py:450: UserWarning: X does not have valid feature names, but StandardScaler was fitted with feature names\n",
      "  warnings.warn(\n",
      "C:\\Users\\DELL\\anaconda3\\lib\\site-packages\\sklearn\\base.py:450: UserWarning: X does not have valid feature names, but StandardScaler was fitted with feature names\n",
      "  warnings.warn(\n",
      "C:\\Users\\DELL\\anaconda3\\lib\\site-packages\\sklearn\\base.py:450: UserWarning: X does not have valid feature names, but StandardScaler was fitted with feature names\n",
      "  warnings.warn(\n"
     ]
    },
    {
     "name": "stdout",
     "output_type": "stream",
     "text": [
      "Happy [0.63649111 0.30475583 0.04508922 0.01366385]\n",
      "Happy [0.59963737 0.34500285 0.04247849 0.0128813 ]\n"
     ]
    },
    {
     "name": "stderr",
     "output_type": "stream",
     "text": [
      "C:\\Users\\DELL\\anaconda3\\lib\\site-packages\\sklearn\\base.py:450: UserWarning: X does not have valid feature names, but StandardScaler was fitted with feature names\n",
      "  warnings.warn(\n",
      "C:\\Users\\DELL\\anaconda3\\lib\\site-packages\\sklearn\\base.py:450: UserWarning: X does not have valid feature names, but StandardScaler was fitted with feature names\n",
      "  warnings.warn(\n",
      "C:\\Users\\DELL\\anaconda3\\lib\\site-packages\\sklearn\\base.py:450: UserWarning: X does not have valid feature names, but StandardScaler was fitted with feature names\n",
      "  warnings.warn(\n",
      "C:\\Users\\DELL\\anaconda3\\lib\\site-packages\\sklearn\\base.py:450: UserWarning: X does not have valid feature names, but StandardScaler was fitted with feature names\n",
      "  warnings.warn(\n"
     ]
    },
    {
     "name": "stdout",
     "output_type": "stream",
     "text": [
      "Happy [0.56723486 0.37971539 0.04086451 0.01218524]\n",
      "Happy [0.56723486 0.37971539 0.04086451 0.01218524]\n"
     ]
    },
    {
     "name": "stderr",
     "output_type": "stream",
     "text": [
      "C:\\Users\\DELL\\anaconda3\\lib\\site-packages\\sklearn\\base.py:450: UserWarning: X does not have valid feature names, but StandardScaler was fitted with feature names\n",
      "  warnings.warn(\n",
      "C:\\Users\\DELL\\anaconda3\\lib\\site-packages\\sklearn\\base.py:450: UserWarning: X does not have valid feature names, but StandardScaler was fitted with feature names\n",
      "  warnings.warn(\n",
      "C:\\Users\\DELL\\anaconda3\\lib\\site-packages\\sklearn\\base.py:450: UserWarning: X does not have valid feature names, but StandardScaler was fitted with feature names\n",
      "  warnings.warn(\n",
      "C:\\Users\\DELL\\anaconda3\\lib\\site-packages\\sklearn\\base.py:450: UserWarning: X does not have valid feature names, but StandardScaler was fitted with feature names\n",
      "  warnings.warn(\n"
     ]
    },
    {
     "name": "stdout",
     "output_type": "stream",
     "text": [
      "Happy [0.60282884 0.34094227 0.04342875 0.01280014]\n",
      "Happy [0.56706363 0.37999571 0.04085217 0.01208849]\n"
     ]
    },
    {
     "name": "stderr",
     "output_type": "stream",
     "text": [
      "C:\\Users\\DELL\\anaconda3\\lib\\site-packages\\sklearn\\base.py:450: UserWarning: X does not have valid feature names, but StandardScaler was fitted with feature names\n",
      "  warnings.warn(\n",
      "C:\\Users\\DELL\\anaconda3\\lib\\site-packages\\sklearn\\base.py:450: UserWarning: X does not have valid feature names, but StandardScaler was fitted with feature names\n",
      "  warnings.warn(\n",
      "C:\\Users\\DELL\\anaconda3\\lib\\site-packages\\sklearn\\base.py:450: UserWarning: X does not have valid feature names, but StandardScaler was fitted with feature names\n",
      "  warnings.warn(\n",
      "C:\\Users\\DELL\\anaconda3\\lib\\site-packages\\sklearn\\base.py:450: UserWarning: X does not have valid feature names, but StandardScaler was fitted with feature names\n",
      "  warnings.warn(\n"
     ]
    },
    {
     "name": "stdout",
     "output_type": "stream",
     "text": [
      "Happy [0.57097267 0.37572193 0.04113378 0.01217161]\n",
      "Happy [0.57057172 0.37545809 0.04180712 0.01216307]\n"
     ]
    },
    {
     "name": "stderr",
     "output_type": "stream",
     "text": [
      "C:\\Users\\DELL\\anaconda3\\lib\\site-packages\\sklearn\\base.py:450: UserWarning: X does not have valid feature names, but StandardScaler was fitted with feature names\n",
      "  warnings.warn(\n",
      "C:\\Users\\DELL\\anaconda3\\lib\\site-packages\\sklearn\\base.py:450: UserWarning: X does not have valid feature names, but StandardScaler was fitted with feature names\n",
      "  warnings.warn(\n",
      "C:\\Users\\DELL\\anaconda3\\lib\\site-packages\\sklearn\\base.py:450: UserWarning: X does not have valid feature names, but StandardScaler was fitted with feature names\n",
      "  warnings.warn(\n",
      "C:\\Users\\DELL\\anaconda3\\lib\\site-packages\\sklearn\\base.py:450: UserWarning: X does not have valid feature names, but StandardScaler was fitted with feature names\n",
      "  warnings.warn(\n"
     ]
    },
    {
     "name": "stdout",
     "output_type": "stream",
     "text": [
      "Happy [0.56689188 0.3794858  0.04153749 0.01208483]\n",
      "Happy [0.56694004 0.37951804 0.04154102 0.0120009 ]\n"
     ]
    },
    {
     "name": "stderr",
     "output_type": "stream",
     "text": [
      "C:\\Users\\DELL\\anaconda3\\lib\\site-packages\\sklearn\\base.py:450: UserWarning: X does not have valid feature names, but StandardScaler was fitted with feature names\n",
      "  warnings.warn(\n",
      "C:\\Users\\DELL\\anaconda3\\lib\\site-packages\\sklearn\\base.py:450: UserWarning: X does not have valid feature names, but StandardScaler was fitted with feature names\n",
      "  warnings.warn(\n",
      "C:\\Users\\DELL\\anaconda3\\lib\\site-packages\\sklearn\\base.py:450: UserWarning: X does not have valid feature names, but StandardScaler was fitted with feature names\n",
      "  warnings.warn(\n",
      "C:\\Users\\DELL\\anaconda3\\lib\\site-packages\\sklearn\\base.py:450: UserWarning: X does not have valid feature names, but StandardScaler was fitted with feature names\n",
      "  warnings.warn(\n"
     ]
    },
    {
     "name": "stdout",
     "output_type": "stream",
     "text": [
      "Happy [0.59846154 0.34432633 0.04454618 0.01266596]\n",
      "Happy [0.59846154 0.34432633 0.04454618 0.01266596]\n"
     ]
    },
    {
     "name": "stderr",
     "output_type": "stream",
     "text": [
      "C:\\Users\\DELL\\anaconda3\\lib\\site-packages\\sklearn\\base.py:450: UserWarning: X does not have valid feature names, but StandardScaler was fitted with feature names\n",
      "  warnings.warn(\n",
      "C:\\Users\\DELL\\anaconda3\\lib\\site-packages\\sklearn\\base.py:450: UserWarning: X does not have valid feature names, but StandardScaler was fitted with feature names\n",
      "  warnings.warn(\n",
      "C:\\Users\\DELL\\anaconda3\\lib\\site-packages\\sklearn\\base.py:450: UserWarning: X does not have valid feature names, but StandardScaler was fitted with feature names\n",
      "  warnings.warn(\n",
      "C:\\Users\\DELL\\anaconda3\\lib\\site-packages\\sklearn\\base.py:450: UserWarning: X does not have valid feature names, but StandardScaler was fitted with feature names\n",
      "  warnings.warn(\n"
     ]
    },
    {
     "name": "stdout",
     "output_type": "stream",
     "text": [
      "Happy [0.68869334 0.25347762 0.04502651 0.01280253]\n",
      "Happy [0.67573111 0.26217808 0.0486199  0.0134709 ]\n"
     ]
    },
    {
     "name": "stderr",
     "output_type": "stream",
     "text": [
      "C:\\Users\\DELL\\anaconda3\\lib\\site-packages\\sklearn\\base.py:450: UserWarning: X does not have valid feature names, but StandardScaler was fitted with feature names\n",
      "  warnings.warn(\n",
      "C:\\Users\\DELL\\anaconda3\\lib\\site-packages\\sklearn\\base.py:450: UserWarning: X does not have valid feature names, but StandardScaler was fitted with feature names\n",
      "  warnings.warn(\n",
      "C:\\Users\\DELL\\anaconda3\\lib\\site-packages\\sklearn\\base.py:450: UserWarning: X does not have valid feature names, but StandardScaler was fitted with feature names\n",
      "  warnings.warn(\n",
      "C:\\Users\\DELL\\anaconda3\\lib\\site-packages\\sklearn\\base.py:450: UserWarning: X does not have valid feature names, but StandardScaler was fitted with feature names\n",
      "  warnings.warn(\n"
     ]
    },
    {
     "name": "stdout",
     "output_type": "stream",
     "text": [
      "Happy [0.66238622 0.27875124 0.04454009 0.01432244]\n",
      "Happy [0.67783415 0.26599664 0.04250211 0.0136671 ]\n"
     ]
    },
    {
     "name": "stderr",
     "output_type": "stream",
     "text": [
      "C:\\Users\\DELL\\anaconda3\\lib\\site-packages\\sklearn\\base.py:450: UserWarning: X does not have valid feature names, but StandardScaler was fitted with feature names\n",
      "  warnings.warn(\n",
      "C:\\Users\\DELL\\anaconda3\\lib\\site-packages\\sklearn\\base.py:450: UserWarning: X does not have valid feature names, but StandardScaler was fitted with feature names\n",
      "  warnings.warn(\n",
      "C:\\Users\\DELL\\anaconda3\\lib\\site-packages\\sklearn\\base.py:450: UserWarning: X does not have valid feature names, but StandardScaler was fitted with feature names\n",
      "  warnings.warn(\n",
      "C:\\Users\\DELL\\anaconda3\\lib\\site-packages\\sklearn\\base.py:450: UserWarning: X does not have valid feature names, but StandardScaler was fitted with feature names\n",
      "  warnings.warn(\n"
     ]
    },
    {
     "name": "stdout",
     "output_type": "stream",
     "text": [
      "Happy [0.64888177 0.28990121 0.04632169 0.01489534]\n",
      "Happy [0.61536293 0.3265823  0.04392888 0.0141259 ]\n"
     ]
    },
    {
     "name": "stderr",
     "output_type": "stream",
     "text": [
      "C:\\Users\\DELL\\anaconda3\\lib\\site-packages\\sklearn\\base.py:450: UserWarning: X does not have valid feature names, but StandardScaler was fitted with feature names\n",
      "  warnings.warn(\n",
      "C:\\Users\\DELL\\anaconda3\\lib\\site-packages\\sklearn\\base.py:450: UserWarning: X does not have valid feature names, but StandardScaler was fitted with feature names\n",
      "  warnings.warn(\n",
      "C:\\Users\\DELL\\anaconda3\\lib\\site-packages\\sklearn\\base.py:450: UserWarning: X does not have valid feature names, but StandardScaler was fitted with feature names\n",
      "  warnings.warn(\n",
      "C:\\Users\\DELL\\anaconda3\\lib\\site-packages\\sklearn\\base.py:450: UserWarning: X does not have valid feature names, but StandardScaler was fitted with feature names\n",
      "  warnings.warn(\n"
     ]
    },
    {
     "name": "stdout",
     "output_type": "stream",
     "text": [
      "Happy [0.64556951 0.30093491 0.04047903 0.01301656]\n",
      "Happy [0.60156407 0.34611138 0.03959293 0.01273162]\n"
     ]
    },
    {
     "name": "stderr",
     "output_type": "stream",
     "text": [
      "C:\\Users\\DELL\\anaconda3\\lib\\site-packages\\sklearn\\base.py:450: UserWarning: X does not have valid feature names, but StandardScaler was fitted with feature names\n",
      "  warnings.warn(\n",
      "C:\\Users\\DELL\\anaconda3\\lib\\site-packages\\sklearn\\base.py:450: UserWarning: X does not have valid feature names, but StandardScaler was fitted with feature names\n",
      "  warnings.warn(\n",
      "C:\\Users\\DELL\\anaconda3\\lib\\site-packages\\sklearn\\base.py:450: UserWarning: X does not have valid feature names, but StandardScaler was fitted with feature names\n",
      "  warnings.warn(\n",
      "C:\\Users\\DELL\\anaconda3\\lib\\site-packages\\sklearn\\base.py:450: UserWarning: X does not have valid feature names, but StandardScaler was fitted with feature names\n",
      "  warnings.warn(\n"
     ]
    },
    {
     "name": "stdout",
     "output_type": "stream",
     "text": [
      "Happy [9.88165686e-01 1.00437155e-02 1.35633427e-03 4.34263868e-04]\n",
      "Happy [9.43191670e-01 5.51323169e-02 1.26151382e-03 4.14499378e-04]\n"
     ]
    },
    {
     "name": "stderr",
     "output_type": "stream",
     "text": [
      "C:\\Users\\DELL\\anaconda3\\lib\\site-packages\\sklearn\\base.py:450: UserWarning: X does not have valid feature names, but StandardScaler was fitted with feature names\n",
      "  warnings.warn(\n",
      "C:\\Users\\DELL\\anaconda3\\lib\\site-packages\\sklearn\\base.py:450: UserWarning: X does not have valid feature names, but StandardScaler was fitted with feature names\n",
      "  warnings.warn(\n",
      "C:\\Users\\DELL\\anaconda3\\lib\\site-packages\\sklearn\\base.py:450: UserWarning: X does not have valid feature names, but StandardScaler was fitted with feature names\n",
      "  warnings.warn(\n",
      "C:\\Users\\DELL\\anaconda3\\lib\\site-packages\\sklearn\\base.py:450: UserWarning: X does not have valid feature names, but StandardScaler was fitted with feature names\n",
      "  warnings.warn(\n"
     ]
    },
    {
     "name": "stdout",
     "output_type": "stream",
     "text": [
      "Sad [2.79596992e-01 7.19851836e-01 4.15073326e-04 1.36099162e-04]\n",
      "Sad [8.86179095e-03 9.90290552e-01 6.60104715e-04 1.87552672e-04]\n"
     ]
    },
    {
     "name": "stderr",
     "output_type": "stream",
     "text": [
      "C:\\Users\\DELL\\anaconda3\\lib\\site-packages\\sklearn\\base.py:450: UserWarning: X does not have valid feature names, but StandardScaler was fitted with feature names\n",
      "  warnings.warn(\n",
      "C:\\Users\\DELL\\anaconda3\\lib\\site-packages\\sklearn\\base.py:450: UserWarning: X does not have valid feature names, but StandardScaler was fitted with feature names\n",
      "  warnings.warn(\n",
      "C:\\Users\\DELL\\anaconda3\\lib\\site-packages\\sklearn\\base.py:450: UserWarning: X does not have valid feature names, but StandardScaler was fitted with feature names\n",
      "  warnings.warn(\n",
      "C:\\Users\\DELL\\anaconda3\\lib\\site-packages\\sklearn\\base.py:450: UserWarning: X does not have valid feature names, but StandardScaler was fitted with feature names\n",
      "  warnings.warn(\n"
     ]
    },
    {
     "name": "stdout",
     "output_type": "stream",
     "text": [
      "Sad [2.96230744e-01 7.03165744e-01 4.70568402e-04 1.32944398e-04]\n",
      "Sad [8.86179095e-03 9.90290552e-01 6.60104715e-04 1.87552672e-04]\n"
     ]
    },
    {
     "name": "stderr",
     "output_type": "stream",
     "text": [
      "C:\\Users\\DELL\\anaconda3\\lib\\site-packages\\sklearn\\base.py:450: UserWarning: X does not have valid feature names, but StandardScaler was fitted with feature names\n",
      "  warnings.warn(\n",
      "C:\\Users\\DELL\\anaconda3\\lib\\site-packages\\sklearn\\base.py:450: UserWarning: X does not have valid feature names, but StandardScaler was fitted with feature names\n",
      "  warnings.warn(\n",
      "C:\\Users\\DELL\\anaconda3\\lib\\site-packages\\sklearn\\base.py:450: UserWarning: X does not have valid feature names, but StandardScaler was fitted with feature names\n",
      "  warnings.warn(\n",
      "C:\\Users\\DELL\\anaconda3\\lib\\site-packages\\sklearn\\base.py:450: UserWarning: X does not have valid feature names, but StandardScaler was fitted with feature names\n",
      "  warnings.warn(\n"
     ]
    },
    {
     "name": "stdout",
     "output_type": "stream",
     "text": [
      "Sad [8.86179095e-03 9.90290552e-01 6.60104715e-04 1.87552672e-04]\n",
      "Sad [8.86179095e-03 9.90290552e-01 6.60104715e-04 1.87552672e-04]\n"
     ]
    },
    {
     "name": "stderr",
     "output_type": "stream",
     "text": [
      "C:\\Users\\DELL\\anaconda3\\lib\\site-packages\\sklearn\\base.py:450: UserWarning: X does not have valid feature names, but StandardScaler was fitted with feature names\n",
      "  warnings.warn(\n",
      "C:\\Users\\DELL\\anaconda3\\lib\\site-packages\\sklearn\\base.py:450: UserWarning: X does not have valid feature names, but StandardScaler was fitted with feature names\n",
      "  warnings.warn(\n",
      "C:\\Users\\DELL\\anaconda3\\lib\\site-packages\\sklearn\\base.py:450: UserWarning: X does not have valid feature names, but StandardScaler was fitted with feature names\n",
      "  warnings.warn(\n",
      "C:\\Users\\DELL\\anaconda3\\lib\\site-packages\\sklearn\\base.py:450: UserWarning: X does not have valid feature names, but StandardScaler was fitted with feature names\n",
      "  warnings.warn(\n"
     ]
    },
    {
     "name": "stdout",
     "output_type": "stream",
     "text": [
      "Sad [2.66652572e-02 9.70784130e-01 1.98626464e-03 5.64348704e-04]\n",
      "Sad [2.66652572e-02 9.70784130e-01 1.98626464e-03 5.64348704e-04]\n"
     ]
    },
    {
     "name": "stderr",
     "output_type": "stream",
     "text": [
      "C:\\Users\\DELL\\anaconda3\\lib\\site-packages\\sklearn\\base.py:450: UserWarning: X does not have valid feature names, but StandardScaler was fitted with feature names\n",
      "  warnings.warn(\n",
      "C:\\Users\\DELL\\anaconda3\\lib\\site-packages\\sklearn\\base.py:450: UserWarning: X does not have valid feature names, but StandardScaler was fitted with feature names\n",
      "  warnings.warn(\n",
      "C:\\Users\\DELL\\anaconda3\\lib\\site-packages\\sklearn\\base.py:450: UserWarning: X does not have valid feature names, but StandardScaler was fitted with feature names\n",
      "  warnings.warn(\n",
      "C:\\Users\\DELL\\anaconda3\\lib\\site-packages\\sklearn\\base.py:450: UserWarning: X does not have valid feature names, but StandardScaler was fitted with feature names\n",
      "  warnings.warn(\n"
     ]
    },
    {
     "name": "stdout",
     "output_type": "stream",
     "text": [
      "Happy [9.23372230e-01 7.36757985e-02 2.30064545e-03 6.51325707e-04]\n",
      "Happy [9.79783442e-01 1.73286565e-02 2.25071205e-03 6.37189279e-04]\n"
     ]
    },
    {
     "name": "stderr",
     "output_type": "stream",
     "text": [
      "C:\\Users\\DELL\\anaconda3\\lib\\site-packages\\sklearn\\base.py:450: UserWarning: X does not have valid feature names, but StandardScaler was fitted with feature names\n",
      "  warnings.warn(\n",
      "C:\\Users\\DELL\\anaconda3\\lib\\site-packages\\sklearn\\base.py:450: UserWarning: X does not have valid feature names, but StandardScaler was fitted with feature names\n",
      "  warnings.warn(\n",
      "C:\\Users\\DELL\\anaconda3\\lib\\site-packages\\sklearn\\base.py:450: UserWarning: X does not have valid feature names, but StandardScaler was fitted with feature names\n",
      "  warnings.warn(\n",
      "C:\\Users\\DELL\\anaconda3\\lib\\site-packages\\sklearn\\base.py:450: UserWarning: X does not have valid feature names, but StandardScaler was fitted with feature names\n",
      "  warnings.warn(\n"
     ]
    },
    {
     "name": "stdout",
     "output_type": "stream",
     "text": [
      "Happy [9.77626389e-01 1.91775997e-02 2.49084024e-03 7.05170926e-04]\n",
      "Happy [9.84978064e-01 1.25605562e-02 1.91829866e-03 5.43081174e-04]\n"
     ]
    },
    {
     "name": "stderr",
     "output_type": "stream",
     "text": [
      "C:\\Users\\DELL\\anaconda3\\lib\\site-packages\\sklearn\\base.py:450: UserWarning: X does not have valid feature names, but StandardScaler was fitted with feature names\n",
      "  warnings.warn(\n",
      "C:\\Users\\DELL\\anaconda3\\lib\\site-packages\\sklearn\\base.py:450: UserWarning: X does not have valid feature names, but StandardScaler was fitted with feature names\n",
      "  warnings.warn(\n",
      "C:\\Users\\DELL\\anaconda3\\lib\\site-packages\\sklearn\\base.py:450: UserWarning: X does not have valid feature names, but StandardScaler was fitted with feature names\n",
      "  warnings.warn(\n",
      "C:\\Users\\DELL\\anaconda3\\lib\\site-packages\\sklearn\\base.py:450: UserWarning: X does not have valid feature names, but StandardScaler was fitted with feature names\n",
      "  warnings.warn(\n"
     ]
    },
    {
     "name": "stdout",
     "output_type": "stream",
     "text": [
      "Happy [9.51144332e-01 4.71695473e-02 1.26912151e-03 4.16999060e-04]\n",
      "Happy [9.54431854e-01 4.27844622e-02 2.09524366e-03 6.88440493e-04]\n"
     ]
    },
    {
     "name": "stderr",
     "output_type": "stream",
     "text": [
      "C:\\Users\\DELL\\anaconda3\\lib\\site-packages\\sklearn\\base.py:450: UserWarning: X does not have valid feature names, but StandardScaler was fitted with feature names\n",
      "  warnings.warn(\n",
      "C:\\Users\\DELL\\anaconda3\\lib\\site-packages\\sklearn\\base.py:450: UserWarning: X does not have valid feature names, but StandardScaler was fitted with feature names\n",
      "  warnings.warn(\n",
      "C:\\Users\\DELL\\anaconda3\\lib\\site-packages\\sklearn\\base.py:450: UserWarning: X does not have valid feature names, but StandardScaler was fitted with feature names\n",
      "  warnings.warn(\n",
      "C:\\Users\\DELL\\anaconda3\\lib\\site-packages\\sklearn\\base.py:450: UserWarning: X does not have valid feature names, but StandardScaler was fitted with feature names\n",
      "  warnings.warn(\n"
     ]
    },
    {
     "name": "stdout",
     "output_type": "stream",
     "text": [
      "Sad [0.44479209 0.51726778 0.02852646 0.00941367]\n",
      "Sad [0.44873682 0.51298658 0.02877945 0.00949715]\n"
     ]
    },
    {
     "name": "stderr",
     "output_type": "stream",
     "text": [
      "C:\\Users\\DELL\\anaconda3\\lib\\site-packages\\sklearn\\base.py:450: UserWarning: X does not have valid feature names, but StandardScaler was fitted with feature names\n",
      "  warnings.warn(\n",
      "C:\\Users\\DELL\\anaconda3\\lib\\site-packages\\sklearn\\base.py:450: UserWarning: X does not have valid feature names, but StandardScaler was fitted with feature names\n",
      "  warnings.warn(\n",
      "C:\\Users\\DELL\\anaconda3\\lib\\site-packages\\sklearn\\base.py:450: UserWarning: X does not have valid feature names, but StandardScaler was fitted with feature names\n",
      "  warnings.warn(\n",
      "C:\\Users\\DELL\\anaconda3\\lib\\site-packages\\sklearn\\base.py:450: UserWarning: X does not have valid feature names, but StandardScaler was fitted with feature names\n",
      "  warnings.warn(\n"
     ]
    },
    {
     "name": "stdout",
     "output_type": "stream",
     "text": [
      "Sad [0.40840575 0.55675782 0.02619285 0.00864358]\n",
      "Sad [0.45407514 0.50719291 0.02912182 0.00961013]\n"
     ]
    },
    {
     "name": "stderr",
     "output_type": "stream",
     "text": [
      "C:\\Users\\DELL\\anaconda3\\lib\\site-packages\\sklearn\\base.py:450: UserWarning: X does not have valid feature names, but StandardScaler was fitted with feature names\n",
      "  warnings.warn(\n",
      "C:\\Users\\DELL\\anaconda3\\lib\\site-packages\\sklearn\\base.py:450: UserWarning: X does not have valid feature names, but StandardScaler was fitted with feature names\n",
      "  warnings.warn(\n",
      "C:\\Users\\DELL\\anaconda3\\lib\\site-packages\\sklearn\\base.py:450: UserWarning: X does not have valid feature names, but StandardScaler was fitted with feature names\n",
      "  warnings.warn(\n",
      "C:\\Users\\DELL\\anaconda3\\lib\\site-packages\\sklearn\\base.py:450: UserWarning: X does not have valid feature names, but StandardScaler was fitted with feature names\n",
      "  warnings.warn(\n"
     ]
    },
    {
     "name": "stdout",
     "output_type": "stream",
     "text": [
      "Sad [0.45407514 0.50719291 0.02912182 0.00961013]\n",
      "Happy [0.57706607 0.37371103 0.03700977 0.01221314]\n"
     ]
    },
    {
     "name": "stderr",
     "output_type": "stream",
     "text": [
      "C:\\Users\\DELL\\anaconda3\\lib\\site-packages\\sklearn\\base.py:450: UserWarning: X does not have valid feature names, but StandardScaler was fitted with feature names\n",
      "  warnings.warn(\n",
      "C:\\Users\\DELL\\anaconda3\\lib\\site-packages\\sklearn\\base.py:450: UserWarning: X does not have valid feature names, but StandardScaler was fitted with feature names\n",
      "  warnings.warn(\n",
      "C:\\Users\\DELL\\anaconda3\\lib\\site-packages\\sklearn\\base.py:450: UserWarning: X does not have valid feature names, but StandardScaler was fitted with feature names\n",
      "  warnings.warn(\n",
      "C:\\Users\\DELL\\anaconda3\\lib\\site-packages\\sklearn\\base.py:450: UserWarning: X does not have valid feature names, but StandardScaler was fitted with feature names\n",
      "  warnings.warn(\n"
     ]
    },
    {
     "name": "stdout",
     "output_type": "stream",
     "text": [
      "Happy [0.82560163 0.10397574 0.05294944 0.01747319]\n",
      "Sad [0.06206952 0.93263313 0.0039837  0.00131365]\n"
     ]
    },
    {
     "name": "stderr",
     "output_type": "stream",
     "text": [
      "C:\\Users\\DELL\\anaconda3\\lib\\site-packages\\sklearn\\base.py:450: UserWarning: X does not have valid feature names, but StandardScaler was fitted with feature names\n",
      "  warnings.warn(\n",
      "C:\\Users\\DELL\\anaconda3\\lib\\site-packages\\sklearn\\base.py:450: UserWarning: X does not have valid feature names, but StandardScaler was fitted with feature names\n",
      "  warnings.warn(\n",
      "C:\\Users\\DELL\\anaconda3\\lib\\site-packages\\sklearn\\base.py:450: UserWarning: X does not have valid feature names, but StandardScaler was fitted with feature names\n",
      "  warnings.warn(\n",
      "C:\\Users\\DELL\\anaconda3\\lib\\site-packages\\sklearn\\base.py:450: UserWarning: X does not have valid feature names, but StandardScaler was fitted with feature names\n",
      "  warnings.warn(\n"
     ]
    },
    {
     "name": "stdout",
     "output_type": "stream",
     "text": [
      "Sad [5.30916193e-03 9.94237725e-01 3.40748504e-04 1.12364139e-04]\n",
      "Sad [0.24757184 0.73131064 0.01587786 0.00523966]\n"
     ]
    },
    {
     "name": "stderr",
     "output_type": "stream",
     "text": [
      "C:\\Users\\DELL\\anaconda3\\lib\\site-packages\\sklearn\\base.py:450: UserWarning: X does not have valid feature names, but StandardScaler was fitted with feature names\n",
      "  warnings.warn(\n",
      "C:\\Users\\DELL\\anaconda3\\lib\\site-packages\\sklearn\\base.py:450: UserWarning: X does not have valid feature names, but StandardScaler was fitted with feature names\n",
      "  warnings.warn(\n",
      "C:\\Users\\DELL\\anaconda3\\lib\\site-packages\\sklearn\\base.py:450: UserWarning: X does not have valid feature names, but StandardScaler was fitted with feature names\n",
      "  warnings.warn(\n",
      "C:\\Users\\DELL\\anaconda3\\lib\\site-packages\\sklearn\\base.py:450: UserWarning: X does not have valid feature names, but StandardScaler was fitted with feature names\n",
      "  warnings.warn(\n"
     ]
    },
    {
     "name": "stdout",
     "output_type": "stream",
     "text": [
      "Sad [0.24757184 0.73131064 0.01587786 0.00523966]\n",
      "Sad [0.24757184 0.73131064 0.01587786 0.00523966]\n"
     ]
    },
    {
     "name": "stderr",
     "output_type": "stream",
     "text": [
      "C:\\Users\\DELL\\anaconda3\\lib\\site-packages\\sklearn\\base.py:450: UserWarning: X does not have valid feature names, but StandardScaler was fitted with feature names\n",
      "  warnings.warn(\n",
      "C:\\Users\\DELL\\anaconda3\\lib\\site-packages\\sklearn\\base.py:450: UserWarning: X does not have valid feature names, but StandardScaler was fitted with feature names\n",
      "  warnings.warn(\n",
      "C:\\Users\\DELL\\anaconda3\\lib\\site-packages\\sklearn\\base.py:450: UserWarning: X does not have valid feature names, but StandardScaler was fitted with feature names\n",
      "  warnings.warn(\n",
      "C:\\Users\\DELL\\anaconda3\\lib\\site-packages\\sklearn\\base.py:450: UserWarning: X does not have valid feature names, but StandardScaler was fitted with feature names\n",
      "  warnings.warn(\n"
     ]
    },
    {
     "name": "stdout",
     "output_type": "stream",
     "text": [
      "Sad [5.30916193e-03 9.94237725e-01 3.40748504e-04 1.12364139e-04]\n",
      "Sad [5.30919017e-03 9.94243015e-01 3.35430186e-04 1.12364736e-04]\n"
     ]
    },
    {
     "name": "stderr",
     "output_type": "stream",
     "text": [
      "C:\\Users\\DELL\\anaconda3\\lib\\site-packages\\sklearn\\base.py:450: UserWarning: X does not have valid feature names, but StandardScaler was fitted with feature names\n",
      "  warnings.warn(\n",
      "C:\\Users\\DELL\\anaconda3\\lib\\site-packages\\sklearn\\base.py:450: UserWarning: X does not have valid feature names, but StandardScaler was fitted with feature names\n",
      "  warnings.warn(\n",
      "C:\\Users\\DELL\\anaconda3\\lib\\site-packages\\sklearn\\base.py:450: UserWarning: X does not have valid feature names, but StandardScaler was fitted with feature names\n",
      "  warnings.warn(\n",
      "C:\\Users\\DELL\\anaconda3\\lib\\site-packages\\sklearn\\base.py:450: UserWarning: X does not have valid feature names, but StandardScaler was fitted with feature names\n",
      "  warnings.warn(\n"
     ]
    },
    {
     "name": "stdout",
     "output_type": "stream",
     "text": [
      "Sad [2.29455708e-03 9.97490730e-01 1.62040610e-04 5.26724679e-05]\n",
      "Sad [2.61151561e-03 9.97173840e-01 1.61989132e-04 5.26557345e-05]\n"
     ]
    },
    {
     "name": "stderr",
     "output_type": "stream",
     "text": [
      "C:\\Users\\DELL\\anaconda3\\lib\\site-packages\\sklearn\\base.py:450: UserWarning: X does not have valid feature names, but StandardScaler was fitted with feature names\n",
      "  warnings.warn(\n",
      "C:\\Users\\DELL\\anaconda3\\lib\\site-packages\\sklearn\\base.py:450: UserWarning: X does not have valid feature names, but StandardScaler was fitted with feature names\n",
      "  warnings.warn(\n",
      "C:\\Users\\DELL\\anaconda3\\lib\\site-packages\\sklearn\\base.py:450: UserWarning: X does not have valid feature names, but StandardScaler was fitted with feature names\n",
      "  warnings.warn(\n",
      "C:\\Users\\DELL\\anaconda3\\lib\\site-packages\\sklearn\\base.py:450: UserWarning: X does not have valid feature names, but StandardScaler was fitted with feature names\n",
      "  warnings.warn(\n"
     ]
    },
    {
     "name": "stdout",
     "output_type": "stream",
     "text": [
      "Sad [2.46426230e-02 9.73076246e-01 1.71544961e-03 5.65681187e-04]\n",
      "Sad [2.24827493e-03 9.97513663e-01 1.85388688e-04 5.26736789e-05]\n"
     ]
    },
    {
     "name": "stderr",
     "output_type": "stream",
     "text": [
      "C:\\Users\\DELL\\anaconda3\\lib\\site-packages\\sklearn\\base.py:450: UserWarning: X does not have valid feature names, but StandardScaler was fitted with feature names\n",
      "  warnings.warn(\n",
      "C:\\Users\\DELL\\anaconda3\\lib\\site-packages\\sklearn\\base.py:450: UserWarning: X does not have valid feature names, but StandardScaler was fitted with feature names\n",
      "  warnings.warn(\n",
      "C:\\Users\\DELL\\anaconda3\\lib\\site-packages\\sklearn\\base.py:450: UserWarning: X does not have valid feature names, but StandardScaler was fitted with feature names\n",
      "  warnings.warn(\n",
      "C:\\Users\\DELL\\anaconda3\\lib\\site-packages\\sklearn\\base.py:450: UserWarning: X does not have valid feature names, but StandardScaler was fitted with feature names\n",
      "  warnings.warn(\n"
     ]
    },
    {
     "name": "stdout",
     "output_type": "stream",
     "text": [
      "Sad [2.70307263e-03 9.97013932e-01 2.19409591e-04 6.35854988e-05]\n",
      "Sad [2.92818172e-03 9.96788827e-01 2.19360053e-04 6.36307328e-05]\n"
     ]
    },
    {
     "name": "stderr",
     "output_type": "stream",
     "text": [
      "C:\\Users\\DELL\\anaconda3\\lib\\site-packages\\sklearn\\base.py:450: UserWarning: X does not have valid feature names, but StandardScaler was fitted with feature names\n",
      "  warnings.warn(\n",
      "C:\\Users\\DELL\\anaconda3\\lib\\site-packages\\sklearn\\base.py:450: UserWarning: X does not have valid feature names, but StandardScaler was fitted with feature names\n",
      "  warnings.warn(\n",
      "C:\\Users\\DELL\\anaconda3\\lib\\site-packages\\sklearn\\base.py:450: UserWarning: X does not have valid feature names, but StandardScaler was fitted with feature names\n",
      "  warnings.warn(\n",
      "C:\\Users\\DELL\\anaconda3\\lib\\site-packages\\sklearn\\base.py:450: UserWarning: X does not have valid feature names, but StandardScaler was fitted with feature names\n",
      "  warnings.warn(\n"
     ]
    },
    {
     "name": "stdout",
     "output_type": "stream",
     "text": [
      "Sad [2.70307247e-03 9.97013873e-01 2.19409578e-04 6.36450987e-05]\n",
      "Sad [3.64567867e-03 9.95972560e-01 2.95922559e-04 8.58392002e-05]\n"
     ]
    },
    {
     "name": "stderr",
     "output_type": "stream",
     "text": [
      "C:\\Users\\DELL\\anaconda3\\lib\\site-packages\\sklearn\\base.py:450: UserWarning: X does not have valid feature names, but StandardScaler was fitted with feature names\n",
      "  warnings.warn(\n",
      "C:\\Users\\DELL\\anaconda3\\lib\\site-packages\\sklearn\\base.py:450: UserWarning: X does not have valid feature names, but StandardScaler was fitted with feature names\n",
      "  warnings.warn(\n",
      "C:\\Users\\DELL\\anaconda3\\lib\\site-packages\\sklearn\\base.py:450: UserWarning: X does not have valid feature names, but StandardScaler was fitted with feature names\n",
      "  warnings.warn(\n",
      "C:\\Users\\DELL\\anaconda3\\lib\\site-packages\\sklearn\\base.py:450: UserWarning: X does not have valid feature names, but StandardScaler was fitted with feature names\n",
      "  warnings.warn(\n"
     ]
    },
    {
     "name": "stdout",
     "output_type": "stream",
     "text": [
      "Sad [1.29408666e-02 9.85704014e-01 1.05042016e-03 3.04698725e-04]\n",
      "Sad [3.64567867e-03 9.95972560e-01 2.95922559e-04 8.58392002e-05]\n"
     ]
    },
    {
     "name": "stderr",
     "output_type": "stream",
     "text": [
      "C:\\Users\\DELL\\anaconda3\\lib\\site-packages\\sklearn\\base.py:450: UserWarning: X does not have valid feature names, but StandardScaler was fitted with feature names\n",
      "  warnings.warn(\n",
      "C:\\Users\\DELL\\anaconda3\\lib\\site-packages\\sklearn\\base.py:450: UserWarning: X does not have valid feature names, but StandardScaler was fitted with feature names\n",
      "  warnings.warn(\n",
      "C:\\Users\\DELL\\anaconda3\\lib\\site-packages\\sklearn\\base.py:450: UserWarning: X does not have valid feature names, but StandardScaler was fitted with feature names\n",
      "  warnings.warn(\n",
      "C:\\Users\\DELL\\anaconda3\\lib\\site-packages\\sklearn\\base.py:450: UserWarning: X does not have valid feature names, but StandardScaler was fitted with feature names\n",
      "  warnings.warn(\n"
     ]
    },
    {
     "name": "stdout",
     "output_type": "stream",
     "text": [
      "Sad [3.64531450e-03 9.95873073e-01 3.95782281e-04 8.58306258e-05]\n",
      "Sad [3.64327241e-03 9.95315188e-01 9.55757366e-04 8.57825438e-05]\n"
     ]
    },
    {
     "name": "stderr",
     "output_type": "stream",
     "text": [
      "C:\\Users\\DELL\\anaconda3\\lib\\site-packages\\sklearn\\base.py:450: UserWarning: X does not have valid feature names, but StandardScaler was fitted with feature names\n",
      "  warnings.warn(\n",
      "C:\\Users\\DELL\\anaconda3\\lib\\site-packages\\sklearn\\base.py:450: UserWarning: X does not have valid feature names, but StandardScaler was fitted with feature names\n",
      "  warnings.warn(\n",
      "C:\\Users\\DELL\\anaconda3\\lib\\site-packages\\sklearn\\base.py:450: UserWarning: X does not have valid feature names, but StandardScaler was fitted with feature names\n",
      "  warnings.warn(\n",
      "C:\\Users\\DELL\\anaconda3\\lib\\site-packages\\sklearn\\base.py:450: UserWarning: X does not have valid feature names, but StandardScaler was fitted with feature names\n",
      "  warnings.warn(\n"
     ]
    },
    {
     "name": "stdout",
     "output_type": "stream",
     "text": [
      "Sad [4.23084041e-03 9.94728234e-01 9.55193740e-04 8.57319564e-05]\n",
      "Sad [4.58371554e-03 9.94206902e-01 1.10977591e-03 9.96062427e-05]\n"
     ]
    },
    {
     "name": "stderr",
     "output_type": "stream",
     "text": [
      "C:\\Users\\DELL\\anaconda3\\lib\\site-packages\\sklearn\\base.py:450: UserWarning: X does not have valid feature names, but StandardScaler was fitted with feature names\n",
      "  warnings.warn(\n",
      "C:\\Users\\DELL\\anaconda3\\lib\\site-packages\\sklearn\\base.py:450: UserWarning: X does not have valid feature names, but StandardScaler was fitted with feature names\n",
      "  warnings.warn(\n",
      "C:\\Users\\DELL\\anaconda3\\lib\\site-packages\\sklearn\\base.py:450: UserWarning: X does not have valid feature names, but StandardScaler was fitted with feature names\n",
      "  warnings.warn(\n",
      "C:\\Users\\DELL\\anaconda3\\lib\\site-packages\\sklearn\\base.py:450: UserWarning: X does not have valid feature names, but StandardScaler was fitted with feature names\n",
      "  warnings.warn(\n"
     ]
    },
    {
     "name": "stdout",
     "output_type": "stream",
     "text": [
      "Sad [4.57691606e-03 9.92732098e-01 2.59152775e-03 9.94584870e-05]\n",
      "Victory [4.18239018e-06 1.24695881e-04 9.99870984e-01 1.37534597e-07]\n"
     ]
    },
    {
     "name": "stderr",
     "output_type": "stream",
     "text": [
      "C:\\Users\\DELL\\anaconda3\\lib\\site-packages\\sklearn\\base.py:450: UserWarning: X does not have valid feature names, but StandardScaler was fitted with feature names\n",
      "  warnings.warn(\n",
      "C:\\Users\\DELL\\anaconda3\\lib\\site-packages\\sklearn\\base.py:450: UserWarning: X does not have valid feature names, but StandardScaler was fitted with feature names\n",
      "  warnings.warn(\n",
      "C:\\Users\\DELL\\anaconda3\\lib\\site-packages\\sklearn\\base.py:450: UserWarning: X does not have valid feature names, but StandardScaler was fitted with feature names\n",
      "  warnings.warn(\n",
      "C:\\Users\\DELL\\anaconda3\\lib\\site-packages\\sklearn\\base.py:450: UserWarning: X does not have valid feature names, but StandardScaler was fitted with feature names\n",
      "  warnings.warn(\n"
     ]
    },
    {
     "name": "stdout",
     "output_type": "stream",
     "text": [
      "Victory [4.20354516e-06 4.62736170e-04 9.99532922e-01 1.38351948e-07]\n",
      "Victory [4.01973571e-06 2.14140327e-06 9.99993696e-01 1.43352554e-07]\n"
     ]
    },
    {
     "name": "stderr",
     "output_type": "stream",
     "text": [
      "C:\\Users\\DELL\\anaconda3\\lib\\site-packages\\sklearn\\base.py:450: UserWarning: X does not have valid feature names, but StandardScaler was fitted with feature names\n",
      "  warnings.warn(\n",
      "C:\\Users\\DELL\\anaconda3\\lib\\site-packages\\sklearn\\base.py:450: UserWarning: X does not have valid feature names, but StandardScaler was fitted with feature names\n",
      "  warnings.warn(\n",
      "C:\\Users\\DELL\\anaconda3\\lib\\site-packages\\sklearn\\base.py:450: UserWarning: X does not have valid feature names, but StandardScaler was fitted with feature names\n",
      "  warnings.warn(\n",
      "C:\\Users\\DELL\\anaconda3\\lib\\site-packages\\sklearn\\base.py:450: UserWarning: X does not have valid feature names, but StandardScaler was fitted with feature names\n",
      "  warnings.warn(\n"
     ]
    },
    {
     "name": "stdout",
     "output_type": "stream",
     "text": [
      "Victory [3.08031643e-06 7.87247486e-07 9.99995989e-01 1.43352883e-07]\n",
      "Victory [3.08031779e-06 3.47177999e-07 9.99996429e-01 1.43352946e-07]\n"
     ]
    },
    {
     "name": "stderr",
     "output_type": "stream",
     "text": [
      "C:\\Users\\DELL\\anaconda3\\lib\\site-packages\\sklearn\\base.py:450: UserWarning: X does not have valid feature names, but StandardScaler was fitted with feature names\n",
      "  warnings.warn(\n",
      "C:\\Users\\DELL\\anaconda3\\lib\\site-packages\\sklearn\\base.py:450: UserWarning: X does not have valid feature names, but StandardScaler was fitted with feature names\n",
      "  warnings.warn(\n",
      "C:\\Users\\DELL\\anaconda3\\lib\\site-packages\\sklearn\\base.py:450: UserWarning: X does not have valid feature names, but StandardScaler was fitted with feature names\n",
      "  warnings.warn(\n",
      "C:\\Users\\DELL\\anaconda3\\lib\\site-packages\\sklearn\\base.py:450: UserWarning: X does not have valid feature names, but StandardScaler was fitted with feature names\n",
      "  warnings.warn(\n"
     ]
    },
    {
     "name": "stdout",
     "output_type": "stream",
     "text": [
      "Victory [3.33759625e-06 3.21988106e-07 9.99996197e-01 1.43352913e-07]\n",
      "Victory [4.01974302e-06 3.21987886e-07 9.99995515e-01 1.43352815e-07]\n"
     ]
    },
    {
     "name": "stderr",
     "output_type": "stream",
     "text": [
      "C:\\Users\\DELL\\anaconda3\\lib\\site-packages\\sklearn\\base.py:450: UserWarning: X does not have valid feature names, but StandardScaler was fitted with feature names\n",
      "  warnings.warn(\n",
      "C:\\Users\\DELL\\anaconda3\\lib\\site-packages\\sklearn\\base.py:450: UserWarning: X does not have valid feature names, but StandardScaler was fitted with feature names\n",
      "  warnings.warn(\n",
      "C:\\Users\\DELL\\anaconda3\\lib\\site-packages\\sklearn\\base.py:450: UserWarning: X does not have valid feature names, but StandardScaler was fitted with feature names\n",
      "  warnings.warn(\n",
      "C:\\Users\\DELL\\anaconda3\\lib\\site-packages\\sklearn\\base.py:450: UserWarning: X does not have valid feature names, but StandardScaler was fitted with feature names\n",
      "  warnings.warn(\n"
     ]
    },
    {
     "name": "stdout",
     "output_type": "stream",
     "text": [
      "Victory [4.01974302e-06 3.21987886e-07 9.99995515e-01 1.43352815e-07]\n",
      "Victory [6.59104137e-06 3.77015805e-07 9.99992889e-01 1.43352438e-07]\n"
     ]
    },
    {
     "name": "stderr",
     "output_type": "stream",
     "text": [
      "C:\\Users\\DELL\\anaconda3\\lib\\site-packages\\sklearn\\base.py:450: UserWarning: X does not have valid feature names, but StandardScaler was fitted with feature names\n",
      "  warnings.warn(\n",
      "C:\\Users\\DELL\\anaconda3\\lib\\site-packages\\sklearn\\base.py:450: UserWarning: X does not have valid feature names, but StandardScaler was fitted with feature names\n",
      "  warnings.warn(\n",
      "C:\\Users\\DELL\\anaconda3\\lib\\site-packages\\sklearn\\base.py:450: UserWarning: X does not have valid feature names, but StandardScaler was fitted with feature names\n",
      "  warnings.warn(\n",
      "C:\\Users\\DELL\\anaconda3\\lib\\site-packages\\sklearn\\base.py:450: UserWarning: X does not have valid feature names, but StandardScaler was fitted with feature names\n",
      "  warnings.warn(\n"
     ]
    },
    {
     "name": "stdout",
     "output_type": "stream",
     "text": [
      "Victory [4.01974280e-06 3.77016774e-07 9.99995460e-01 1.43352807e-07]\n",
      "Victory [4.35548473e-06 3.77016647e-07 9.99995124e-01 1.43352759e-07]\n"
     ]
    },
    {
     "name": "stderr",
     "output_type": "stream",
     "text": [
      "C:\\Users\\DELL\\anaconda3\\lib\\site-packages\\sklearn\\base.py:450: UserWarning: X does not have valid feature names, but StandardScaler was fitted with feature names\n",
      "  warnings.warn(\n",
      "C:\\Users\\DELL\\anaconda3\\lib\\site-packages\\sklearn\\base.py:450: UserWarning: X does not have valid feature names, but StandardScaler was fitted with feature names\n",
      "  warnings.warn(\n",
      "C:\\Users\\DELL\\anaconda3\\lib\\site-packages\\sklearn\\base.py:450: UserWarning: X does not have valid feature names, but StandardScaler was fitted with feature names\n",
      "  warnings.warn(\n",
      "C:\\Users\\DELL\\anaconda3\\lib\\site-packages\\sklearn\\base.py:450: UserWarning: X does not have valid feature names, but StandardScaler was fitted with feature names\n",
      "  warnings.warn(\n"
     ]
    },
    {
     "name": "stdout",
     "output_type": "stream",
     "text": [
      "Victory [4.35548473e-06 3.77016647e-07 9.99995124e-01 1.43352759e-07]\n",
      "Victory [4.01974280e-06 3.77016774e-07 9.99995460e-01 1.43352807e-07]\n"
     ]
    },
    {
     "name": "stderr",
     "output_type": "stream",
     "text": [
      "C:\\Users\\DELL\\anaconda3\\lib\\site-packages\\sklearn\\base.py:450: UserWarning: X does not have valid feature names, but StandardScaler was fitted with feature names\n",
      "  warnings.warn(\n",
      "C:\\Users\\DELL\\anaconda3\\lib\\site-packages\\sklearn\\base.py:450: UserWarning: X does not have valid feature names, but StandardScaler was fitted with feature names\n",
      "  warnings.warn(\n",
      "C:\\Users\\DELL\\anaconda3\\lib\\site-packages\\sklearn\\base.py:450: UserWarning: X does not have valid feature names, but StandardScaler was fitted with feature names\n",
      "  warnings.warn(\n",
      "C:\\Users\\DELL\\anaconda3\\lib\\site-packages\\sklearn\\base.py:450: UserWarning: X does not have valid feature names, but StandardScaler was fitted with feature names\n",
      "  warnings.warn(\n"
     ]
    },
    {
     "name": "stdout",
     "output_type": "stream",
     "text": [
      "Victory [4.35548460e-06 4.06511448e-07 9.99995095e-01 1.43352755e-07]\n",
      "Victory [4.35548460e-06 4.06511448e-07 9.99995095e-01 1.43352755e-07]\n"
     ]
    },
    {
     "name": "stderr",
     "output_type": "stream",
     "text": [
      "C:\\Users\\DELL\\anaconda3\\lib\\site-packages\\sklearn\\base.py:450: UserWarning: X does not have valid feature names, but StandardScaler was fitted with feature names\n",
      "  warnings.warn(\n",
      "C:\\Users\\DELL\\anaconda3\\lib\\site-packages\\sklearn\\base.py:450: UserWarning: X does not have valid feature names, but StandardScaler was fitted with feature names\n",
      "  warnings.warn(\n",
      "C:\\Users\\DELL\\anaconda3\\lib\\site-packages\\sklearn\\base.py:450: UserWarning: X does not have valid feature names, but StandardScaler was fitted with feature names\n",
      "  warnings.warn(\n",
      "C:\\Users\\DELL\\anaconda3\\lib\\site-packages\\sklearn\\base.py:450: UserWarning: X does not have valid feature names, but StandardScaler was fitted with feature names\n",
      "  warnings.warn(\n"
     ]
    },
    {
     "name": "stdout",
     "output_type": "stream",
     "text": [
      "Victory [6.08297261e-06 4.26623774e-07 9.99993347e-01 1.43352504e-07]\n",
      "Victory [4.35548452e-06 4.26624511e-07 9.99995075e-01 1.43352752e-07]\n"
     ]
    },
    {
     "name": "stderr",
     "output_type": "stream",
     "text": [
      "C:\\Users\\DELL\\anaconda3\\lib\\site-packages\\sklearn\\base.py:450: UserWarning: X does not have valid feature names, but StandardScaler was fitted with feature names\n",
      "  warnings.warn(\n",
      "C:\\Users\\DELL\\anaconda3\\lib\\site-packages\\sklearn\\base.py:450: UserWarning: X does not have valid feature names, but StandardScaler was fitted with feature names\n",
      "  warnings.warn(\n",
      "C:\\Users\\DELL\\anaconda3\\lib\\site-packages\\sklearn\\base.py:450: UserWarning: X does not have valid feature names, but StandardScaler was fitted with feature names\n",
      "  warnings.warn(\n",
      "C:\\Users\\DELL\\anaconda3\\lib\\site-packages\\sklearn\\base.py:450: UserWarning: X does not have valid feature names, but StandardScaler was fitted with feature names\n",
      "  warnings.warn(\n"
     ]
    },
    {
     "name": "stdout",
     "output_type": "stream",
     "text": [
      "Victory [6.59104104e-06 4.26623557e-07 9.99992839e-01 1.43352431e-07]\n",
      "Victory [6.59104104e-06 4.26623557e-07 9.99992839e-01 1.43352431e-07]\n"
     ]
    },
    {
     "name": "stderr",
     "output_type": "stream",
     "text": [
      "C:\\Users\\DELL\\anaconda3\\lib\\site-packages\\sklearn\\base.py:450: UserWarning: X does not have valid feature names, but StandardScaler was fitted with feature names\n",
      "  warnings.warn(\n",
      "C:\\Users\\DELL\\anaconda3\\lib\\site-packages\\sklearn\\base.py:450: UserWarning: X does not have valid feature names, but StandardScaler was fitted with feature names\n",
      "  warnings.warn(\n",
      "C:\\Users\\DELL\\anaconda3\\lib\\site-packages\\sklearn\\base.py:450: UserWarning: X does not have valid feature names, but StandardScaler was fitted with feature names\n",
      "  warnings.warn(\n",
      "C:\\Users\\DELL\\anaconda3\\lib\\site-packages\\sklearn\\base.py:450: UserWarning: X does not have valid feature names, but StandardScaler was fitted with feature names\n",
      "  warnings.warn(\n"
     ]
    },
    {
     "name": "stdout",
     "output_type": "stream",
     "text": [
      "Victory [6.08297261e-06 4.26623774e-07 9.99993347e-01 1.43352504e-07]\n",
      "Victory [4.35548452e-06 4.26624511e-07 9.99995075e-01 1.43352752e-07]\n"
     ]
    },
    {
     "name": "stderr",
     "output_type": "stream",
     "text": [
      "C:\\Users\\DELL\\anaconda3\\lib\\site-packages\\sklearn\\base.py:450: UserWarning: X does not have valid feature names, but StandardScaler was fitted with feature names\n",
      "  warnings.warn(\n",
      "C:\\Users\\DELL\\anaconda3\\lib\\site-packages\\sklearn\\base.py:450: UserWarning: X does not have valid feature names, but StandardScaler was fitted with feature names\n",
      "  warnings.warn(\n",
      "C:\\Users\\DELL\\anaconda3\\lib\\site-packages\\sklearn\\base.py:450: UserWarning: X does not have valid feature names, but StandardScaler was fitted with feature names\n",
      "  warnings.warn(\n",
      "C:\\Users\\DELL\\anaconda3\\lib\\site-packages\\sklearn\\base.py:450: UserWarning: X does not have valid feature names, but StandardScaler was fitted with feature names\n",
      "  warnings.warn(\n"
     ]
    },
    {
     "name": "stdout",
     "output_type": "stream",
     "text": [
      "Victory [6.59104104e-06 4.27067419e-07 9.99992839e-01 1.43352431e-07]\n",
      "Victory [4.35548451e-06 4.27068374e-07 9.99995074e-01 1.43352752e-07]\n"
     ]
    },
    {
     "name": "stderr",
     "output_type": "stream",
     "text": [
      "C:\\Users\\DELL\\anaconda3\\lib\\site-packages\\sklearn\\base.py:450: UserWarning: X does not have valid feature names, but StandardScaler was fitted with feature names\n",
      "  warnings.warn(\n",
      "C:\\Users\\DELL\\anaconda3\\lib\\site-packages\\sklearn\\base.py:450: UserWarning: X does not have valid feature names, but StandardScaler was fitted with feature names\n",
      "  warnings.warn(\n",
      "C:\\Users\\DELL\\anaconda3\\lib\\site-packages\\sklearn\\base.py:450: UserWarning: X does not have valid feature names, but StandardScaler was fitted with feature names\n",
      "  warnings.warn(\n",
      "C:\\Users\\DELL\\anaconda3\\lib\\site-packages\\sklearn\\base.py:450: UserWarning: X does not have valid feature names, but StandardScaler was fitted with feature names\n",
      "  warnings.warn(\n"
     ]
    },
    {
     "name": "stdout",
     "output_type": "stream",
     "text": [
      "Victory [6.59104122e-06 3.99027523e-07 9.99992867e-01 1.43352435e-07]\n",
      "Victory [3.69197917e-06 4.12662380e-07 5.03546402e-01 4.96449493e-01]\n"
     ]
    },
    {
     "name": "stderr",
     "output_type": "stream",
     "text": [
      "C:\\Users\\DELL\\anaconda3\\lib\\site-packages\\sklearn\\base.py:450: UserWarning: X does not have valid feature names, but StandardScaler was fitted with feature names\n",
      "  warnings.warn(\n",
      "C:\\Users\\DELL\\anaconda3\\lib\\site-packages\\sklearn\\base.py:450: UserWarning: X does not have valid feature names, but StandardScaler was fitted with feature names\n",
      "  warnings.warn(\n",
      "C:\\Users\\DELL\\anaconda3\\lib\\site-packages\\sklearn\\base.py:450: UserWarning: X does not have valid feature names, but StandardScaler was fitted with feature names\n",
      "  warnings.warn(\n",
      "C:\\Users\\DELL\\anaconda3\\lib\\site-packages\\sklearn\\base.py:450: UserWarning: X does not have valid feature names, but StandardScaler was fitted with feature names\n",
      "  warnings.warn(\n"
     ]
    },
    {
     "name": "stdout",
     "output_type": "stream",
     "text": [
      "Wakanda Forever [3.88019513e-06 3.32342621e-07 1.86473487e-04 9.99809314e-01]\n",
      "Wakanda Forever [3.88089211e-06 3.32402317e-07 6.88347735e-06 9.99988903e-01]\n"
     ]
    },
    {
     "name": "stderr",
     "output_type": "stream",
     "text": [
      "C:\\Users\\DELL\\anaconda3\\lib\\site-packages\\sklearn\\base.py:450: UserWarning: X does not have valid feature names, but StandardScaler was fitted with feature names\n",
      "  warnings.warn(\n",
      "C:\\Users\\DELL\\anaconda3\\lib\\site-packages\\sklearn\\base.py:450: UserWarning: X does not have valid feature names, but StandardScaler was fitted with feature names\n",
      "  warnings.warn(\n",
      "C:\\Users\\DELL\\anaconda3\\lib\\site-packages\\sklearn\\base.py:450: UserWarning: X does not have valid feature names, but StandardScaler was fitted with feature names\n",
      "  warnings.warn(\n",
      "C:\\Users\\DELL\\anaconda3\\lib\\site-packages\\sklearn\\base.py:450: UserWarning: X does not have valid feature names, but StandardScaler was fitted with feature names\n",
      "  warnings.warn(\n"
     ]
    },
    {
     "name": "stdout",
     "output_type": "stream",
     "text": [
      "Wakanda Forever [2.97391696e-06 2.90635609e-07 6.83738389e-06 9.99989898e-01]\n",
      "Wakanda Forever [2.97391708e-06 2.90635621e-07 6.79740218e-06 9.99989938e-01]\n"
     ]
    },
    {
     "name": "stderr",
     "output_type": "stream",
     "text": [
      "C:\\Users\\DELL\\anaconda3\\lib\\site-packages\\sklearn\\base.py:450: UserWarning: X does not have valid feature names, but StandardScaler was fitted with feature names\n",
      "  warnings.warn(\n",
      "C:\\Users\\DELL\\anaconda3\\lib\\site-packages\\sklearn\\base.py:450: UserWarning: X does not have valid feature names, but StandardScaler was fitted with feature names\n",
      "  warnings.warn(\n",
      "C:\\Users\\DELL\\anaconda3\\lib\\site-packages\\sklearn\\base.py:450: UserWarning: X does not have valid feature names, but StandardScaler was fitted with feature names\n",
      "  warnings.warn(\n",
      "C:\\Users\\DELL\\anaconda3\\lib\\site-packages\\sklearn\\base.py:450: UserWarning: X does not have valid feature names, but StandardScaler was fitted with feature names\n",
      "  warnings.warn(\n"
     ]
    },
    {
     "name": "stdout",
     "output_type": "stream",
     "text": [
      "Wakanda Forever [2.97391715e-06 2.90635627e-07 6.77496226e-06 9.99989960e-01]\n",
      "Wakanda Forever [9.19015744e-06 2.09234309e-06 4.88595100e-05 9.99939858e-01]\n"
     ]
    },
    {
     "name": "stderr",
     "output_type": "stream",
     "text": [
      "C:\\Users\\DELL\\anaconda3\\lib\\site-packages\\sklearn\\base.py:450: UserWarning: X does not have valid feature names, but StandardScaler was fitted with feature names\n",
      "  warnings.warn(\n",
      "C:\\Users\\DELL\\anaconda3\\lib\\site-packages\\sklearn\\base.py:450: UserWarning: X does not have valid feature names, but StandardScaler was fitted with feature names\n",
      "  warnings.warn(\n",
      "C:\\Users\\DELL\\anaconda3\\lib\\site-packages\\sklearn\\base.py:450: UserWarning: X does not have valid feature names, but StandardScaler was fitted with feature names\n",
      "  warnings.warn(\n",
      "C:\\Users\\DELL\\anaconda3\\lib\\site-packages\\sklearn\\base.py:450: UserWarning: X does not have valid feature names, but StandardScaler was fitted with feature names\n",
      "  warnings.warn(\n"
     ]
    },
    {
     "name": "stdout",
     "output_type": "stream",
     "text": [
      "Wakanda Forever [9.19015804e-06 2.09234323e-06 4.87939541e-05 9.99939924e-01]\n",
      "Wakanda Forever [9.19015599e-06 2.09234276e-06 4.90170006e-05 9.99939701e-01]\n"
     ]
    },
    {
     "name": "stderr",
     "output_type": "stream",
     "text": [
      "C:\\Users\\DELL\\anaconda3\\lib\\site-packages\\sklearn\\base.py:450: UserWarning: X does not have valid feature names, but StandardScaler was fitted with feature names\n",
      "  warnings.warn(\n",
      "C:\\Users\\DELL\\anaconda3\\lib\\site-packages\\sklearn\\base.py:450: UserWarning: X does not have valid feature names, but StandardScaler was fitted with feature names\n",
      "  warnings.warn(\n",
      "C:\\Users\\DELL\\anaconda3\\lib\\site-packages\\sklearn\\base.py:450: UserWarning: X does not have valid feature names, but StandardScaler was fitted with feature names\n",
      "  warnings.warn(\n",
      "C:\\Users\\DELL\\anaconda3\\lib\\site-packages\\sklearn\\base.py:450: UserWarning: X does not have valid feature names, but StandardScaler was fitted with feature names\n",
      "  warnings.warn(\n"
     ]
    },
    {
     "name": "stdout",
     "output_type": "stream",
     "text": [
      "Wakanda Forever [9.19015409e-06 2.09234233e-06 4.92236577e-05 9.99939494e-01]\n",
      "Wakanda Forever [9.19015261e-06 2.09234199e-06 4.93846081e-05 9.99939333e-01]\n"
     ]
    },
    {
     "name": "stderr",
     "output_type": "stream",
     "text": [
      "C:\\Users\\DELL\\anaconda3\\lib\\site-packages\\sklearn\\base.py:450: UserWarning: X does not have valid feature names, but StandardScaler was fitted with feature names\n",
      "  warnings.warn(\n",
      "C:\\Users\\DELL\\anaconda3\\lib\\site-packages\\sklearn\\base.py:450: UserWarning: X does not have valid feature names, but StandardScaler was fitted with feature names\n",
      "  warnings.warn(\n",
      "C:\\Users\\DELL\\anaconda3\\lib\\site-packages\\sklearn\\base.py:450: UserWarning: X does not have valid feature names, but StandardScaler was fitted with feature names\n",
      "  warnings.warn(\n",
      "C:\\Users\\DELL\\anaconda3\\lib\\site-packages\\sklearn\\base.py:450: UserWarning: X does not have valid feature names, but StandardScaler was fitted with feature names\n",
      "  warnings.warn(\n"
     ]
    },
    {
     "name": "stdout",
     "output_type": "stream",
     "text": [
      "Wakanda Forever [4.84568312e-06 1.43968712e-06 3.36714831e-05 9.99960043e-01]\n",
      "Wakanda Forever [5.57016425e-06 1.43968518e-06 3.38694914e-05 9.99959121e-01]\n"
     ]
    },
    {
     "name": "stderr",
     "output_type": "stream",
     "text": [
      "C:\\Users\\DELL\\anaconda3\\lib\\site-packages\\sklearn\\base.py:450: UserWarning: X does not have valid feature names, but StandardScaler was fitted with feature names\n",
      "  warnings.warn(\n",
      "C:\\Users\\DELL\\anaconda3\\lib\\site-packages\\sklearn\\base.py:450: UserWarning: X does not have valid feature names, but StandardScaler was fitted with feature names\n",
      "  warnings.warn(\n",
      "C:\\Users\\DELL\\anaconda3\\lib\\site-packages\\sklearn\\base.py:450: UserWarning: X does not have valid feature names, but StandardScaler was fitted with feature names\n",
      "  warnings.warn(\n",
      "C:\\Users\\DELL\\anaconda3\\lib\\site-packages\\sklearn\\base.py:450: UserWarning: X does not have valid feature names, but StandardScaler was fitted with feature names\n",
      "  warnings.warn(\n"
     ]
    },
    {
     "name": "stdout",
     "output_type": "stream",
     "text": [
      "Wakanda Forever [5.57016782e-06 1.43968610e-06 3.36565780e-05 9.99959334e-01]\n",
      "Wakanda Forever [4.62491297e-06 1.62985746e-06 3.42436589e-05 9.99959502e-01]\n"
     ]
    },
    {
     "name": "stderr",
     "output_type": "stream",
     "text": [
      "C:\\Users\\DELL\\anaconda3\\lib\\site-packages\\sklearn\\base.py:450: UserWarning: X does not have valid feature names, but StandardScaler was fitted with feature names\n",
      "  warnings.warn(\n",
      "C:\\Users\\DELL\\anaconda3\\lib\\site-packages\\sklearn\\base.py:450: UserWarning: X does not have valid feature names, but StandardScaler was fitted with feature names\n",
      "  warnings.warn(\n",
      "C:\\Users\\DELL\\anaconda3\\lib\\site-packages\\sklearn\\base.py:450: UserWarning: X does not have valid feature names, but StandardScaler was fitted with feature names\n",
      "  warnings.warn(\n",
      "C:\\Users\\DELL\\anaconda3\\lib\\site-packages\\sklearn\\base.py:450: UserWarning: X does not have valid feature names, but StandardScaler was fitted with feature names\n",
      "  warnings.warn(\n"
     ]
    },
    {
     "name": "stdout",
     "output_type": "stream",
     "text": [
      "Victory [0.11265362 0.08399591 0.78741189 0.01593857]\n",
      "Victory [0.10601329 0.18859411 0.69154973 0.01384287]\n"
     ]
    },
    {
     "name": "stderr",
     "output_type": "stream",
     "text": [
      "C:\\Users\\DELL\\anaconda3\\lib\\site-packages\\sklearn\\base.py:450: UserWarning: X does not have valid feature names, but StandardScaler was fitted with feature names\n",
      "  warnings.warn(\n",
      "C:\\Users\\DELL\\anaconda3\\lib\\site-packages\\sklearn\\base.py:450: UserWarning: X does not have valid feature names, but StandardScaler was fitted with feature names\n",
      "  warnings.warn(\n",
      "C:\\Users\\DELL\\anaconda3\\lib\\site-packages\\sklearn\\base.py:450: UserWarning: X does not have valid feature names, but StandardScaler was fitted with feature names\n",
      "  warnings.warn(\n",
      "C:\\Users\\DELL\\anaconda3\\lib\\site-packages\\sklearn\\base.py:450: UserWarning: X does not have valid feature names, but StandardScaler was fitted with feature names\n",
      "  warnings.warn(\n"
     ]
    },
    {
     "name": "stdout",
     "output_type": "stream",
     "text": [
      "Victory [0.08955149 0.41617046 0.48456906 0.00970899]\n",
      "Sad [0.19479898 0.57293348 0.22767687 0.00459067]\n"
     ]
    },
    {
     "name": "stderr",
     "output_type": "stream",
     "text": [
      "C:\\Users\\DELL\\anaconda3\\lib\\site-packages\\sklearn\\base.py:450: UserWarning: X does not have valid feature names, but StandardScaler was fitted with feature names\n",
      "  warnings.warn(\n",
      "C:\\Users\\DELL\\anaconda3\\lib\\site-packages\\sklearn\\base.py:450: UserWarning: X does not have valid feature names, but StandardScaler was fitted with feature names\n",
      "  warnings.warn(\n",
      "C:\\Users\\DELL\\anaconda3\\lib\\site-packages\\sklearn\\base.py:450: UserWarning: X does not have valid feature names, but StandardScaler was fitted with feature names\n",
      "  warnings.warn(\n",
      "C:\\Users\\DELL\\anaconda3\\lib\\site-packages\\sklearn\\base.py:450: UserWarning: X does not have valid feature names, but StandardScaler was fitted with feature names\n",
      "  warnings.warn(\n"
     ]
    },
    {
     "name": "stdout",
     "output_type": "stream",
     "text": [
      "Sad [7.46463036e-03 9.83463688e-01 8.89576908e-03 1.75912917e-04]\n",
      "Sad [7.46390448e-03 9.83368053e-01 8.99184646e-03 1.76195975e-04]\n"
     ]
    },
    {
     "name": "stderr",
     "output_type": "stream",
     "text": [
      "C:\\Users\\DELL\\anaconda3\\lib\\site-packages\\sklearn\\base.py:450: UserWarning: X does not have valid feature names, but StandardScaler was fitted with feature names\n",
      "  warnings.warn(\n",
      "C:\\Users\\DELL\\anaconda3\\lib\\site-packages\\sklearn\\base.py:450: UserWarning: X does not have valid feature names, but StandardScaler was fitted with feature names\n",
      "  warnings.warn(\n",
      "C:\\Users\\DELL\\anaconda3\\lib\\site-packages\\sklearn\\base.py:450: UserWarning: X does not have valid feature names, but StandardScaler was fitted with feature names\n",
      "  warnings.warn(\n",
      "C:\\Users\\DELL\\anaconda3\\lib\\site-packages\\sklearn\\base.py:450: UserWarning: X does not have valid feature names, but StandardScaler was fitted with feature names\n",
      "  warnings.warn(\n"
     ]
    },
    {
     "name": "stdout",
     "output_type": "stream",
     "text": [
      "Sad [6.44347899e-03 9.85668659e-01 7.73575437e-03 1.52107394e-04]\n",
      "Sad [4.88849362e-03 9.89136353e-01 5.85975408e-03 1.15399775e-04]\n"
     ]
    },
    {
     "name": "stderr",
     "output_type": "stream",
     "text": [
      "C:\\Users\\DELL\\anaconda3\\lib\\site-packages\\sklearn\\base.py:450: UserWarning: X does not have valid feature names, but StandardScaler was fitted with feature names\n",
      "  warnings.warn(\n",
      "C:\\Users\\DELL\\anaconda3\\lib\\site-packages\\sklearn\\base.py:450: UserWarning: X does not have valid feature names, but StandardScaler was fitted with feature names\n",
      "  warnings.warn(\n",
      "C:\\Users\\DELL\\anaconda3\\lib\\site-packages\\sklearn\\base.py:450: UserWarning: X does not have valid feature names, but StandardScaler was fitted with feature names\n",
      "  warnings.warn(\n",
      "C:\\Users\\DELL\\anaconda3\\lib\\site-packages\\sklearn\\base.py:450: UserWarning: X does not have valid feature names, but StandardScaler was fitted with feature names\n",
      "  warnings.warn(\n"
     ]
    },
    {
     "name": "stdout",
     "output_type": "stream",
     "text": [
      "Sad [2.65135255e-03 5.36473890e-01 4.60812169e-01 6.25889102e-05]\n",
      "Victory [5.68305304e-03 1.38954720e-02 9.80287269e-01 1.34206123e-04]\n"
     ]
    },
    {
     "name": "stderr",
     "output_type": "stream",
     "text": [
      "C:\\Users\\DELL\\anaconda3\\lib\\site-packages\\sklearn\\base.py:450: UserWarning: X does not have valid feature names, but StandardScaler was fitted with feature names\n",
      "  warnings.warn(\n",
      "C:\\Users\\DELL\\anaconda3\\lib\\site-packages\\sklearn\\base.py:450: UserWarning: X does not have valid feature names, but StandardScaler was fitted with feature names\n",
      "  warnings.warn(\n",
      "C:\\Users\\DELL\\anaconda3\\lib\\site-packages\\sklearn\\base.py:450: UserWarning: X does not have valid feature names, but StandardScaler was fitted with feature names\n",
      "  warnings.warn(\n",
      "C:\\Users\\DELL\\anaconda3\\lib\\site-packages\\sklearn\\base.py:450: UserWarning: X does not have valid feature names, but StandardScaler was fitted with feature names\n",
      "  warnings.warn(\n"
     ]
    },
    {
     "name": "stdout",
     "output_type": "stream",
     "text": [
      "Victory [5.71162015e-03 1.39653207e-02 9.80188178e-01 1.34880740e-04]\n",
      "Victory [1.65611068e-03 1.22329761e-03 9.97081482e-01 3.91092944e-05]\n"
     ]
    },
    {
     "name": "stderr",
     "output_type": "stream",
     "text": [
      "C:\\Users\\DELL\\anaconda3\\lib\\site-packages\\sklearn\\base.py:450: UserWarning: X does not have valid feature names, but StandardScaler was fitted with feature names\n",
      "  warnings.warn(\n",
      "C:\\Users\\DELL\\anaconda3\\lib\\site-packages\\sklearn\\base.py:450: UserWarning: X does not have valid feature names, but StandardScaler was fitted with feature names\n",
      "  warnings.warn(\n",
      "C:\\Users\\DELL\\anaconda3\\lib\\site-packages\\sklearn\\base.py:450: UserWarning: X does not have valid feature names, but StandardScaler was fitted with feature names\n",
      "  warnings.warn(\n",
      "C:\\Users\\DELL\\anaconda3\\lib\\site-packages\\sklearn\\base.py:450: UserWarning: X does not have valid feature names, but StandardScaler was fitted with feature names\n",
      "  warnings.warn(\n"
     ]
    },
    {
     "name": "stdout",
     "output_type": "stream",
     "text": [
      "Victory [9.65899422e-05 8.58223884e-05 9.99815307e-01 2.28098552e-06]\n",
      "Victory [9.65899422e-05 8.58223884e-05 9.99815307e-01 2.28098552e-06]\n"
     ]
    },
    {
     "name": "stderr",
     "output_type": "stream",
     "text": [
      "C:\\Users\\DELL\\anaconda3\\lib\\site-packages\\sklearn\\base.py:450: UserWarning: X does not have valid feature names, but StandardScaler was fitted with feature names\n",
      "  warnings.warn(\n",
      "C:\\Users\\DELL\\anaconda3\\lib\\site-packages\\sklearn\\base.py:450: UserWarning: X does not have valid feature names, but StandardScaler was fitted with feature names\n",
      "  warnings.warn(\n",
      "C:\\Users\\DELL\\anaconda3\\lib\\site-packages\\sklearn\\base.py:450: UserWarning: X does not have valid feature names, but StandardScaler was fitted with feature names\n",
      "  warnings.warn(\n",
      "C:\\Users\\DELL\\anaconda3\\lib\\site-packages\\sklearn\\base.py:450: UserWarning: X does not have valid feature names, but StandardScaler was fitted with feature names\n",
      "  warnings.warn(\n"
     ]
    },
    {
     "name": "stdout",
     "output_type": "stream",
     "text": [
      "Victory [1.41688066e-05 1.25893110e-05 9.99972907e-01 3.34598426e-07]\n",
      "Victory [1.41688066e-05 1.25893110e-05 9.99972907e-01 3.34598426e-07]\n"
     ]
    },
    {
     "name": "stderr",
     "output_type": "stream",
     "text": [
      "C:\\Users\\DELL\\anaconda3\\lib\\site-packages\\sklearn\\base.py:450: UserWarning: X does not have valid feature names, but StandardScaler was fitted with feature names\n",
      "  warnings.warn(\n",
      "C:\\Users\\DELL\\anaconda3\\lib\\site-packages\\sklearn\\base.py:450: UserWarning: X does not have valid feature names, but StandardScaler was fitted with feature names\n",
      "  warnings.warn(\n",
      "C:\\Users\\DELL\\anaconda3\\lib\\site-packages\\sklearn\\base.py:450: UserWarning: X does not have valid feature names, but StandardScaler was fitted with feature names\n",
      "  warnings.warn(\n",
      "C:\\Users\\DELL\\anaconda3\\lib\\site-packages\\sklearn\\base.py:450: UserWarning: X does not have valid feature names, but StandardScaler was fitted with feature names\n",
      "  warnings.warn(\n"
     ]
    },
    {
     "name": "stdout",
     "output_type": "stream",
     "text": [
      "Victory [1.22909157e-05 1.09207617e-05 9.99976498e-01 2.90251761e-07]\n",
      "Victory [5.95274699e-06 5.28915281e-06 9.99988618e-01 1.40574985e-07]\n"
     ]
    },
    {
     "name": "stderr",
     "output_type": "stream",
     "text": [
      "C:\\Users\\DELL\\anaconda3\\lib\\site-packages\\sklearn\\base.py:450: UserWarning: X does not have valid feature names, but StandardScaler was fitted with feature names\n",
      "  warnings.warn(\n",
      "C:\\Users\\DELL\\anaconda3\\lib\\site-packages\\sklearn\\base.py:450: UserWarning: X does not have valid feature names, but StandardScaler was fitted with feature names\n",
      "  warnings.warn(\n",
      "C:\\Users\\DELL\\anaconda3\\lib\\site-packages\\sklearn\\base.py:450: UserWarning: X does not have valid feature names, but StandardScaler was fitted with feature names\n",
      "  warnings.warn(\n",
      "C:\\Users\\DELL\\anaconda3\\lib\\site-packages\\sklearn\\base.py:450: UserWarning: X does not have valid feature names, but StandardScaler was fitted with feature names\n",
      "  warnings.warn(\n"
     ]
    },
    {
     "name": "stdout",
     "output_type": "stream",
     "text": [
      "Victory [4.26224118e-06 5.28916175e-06 9.99990308e-01 1.40575223e-07]\n",
      "Victory [1.21324193e-05 3.11544981e-04 9.99676033e-01 2.89563554e-07]\n"
     ]
    },
    {
     "name": "stderr",
     "output_type": "stream",
     "text": [
      "C:\\Users\\DELL\\anaconda3\\lib\\site-packages\\sklearn\\base.py:450: UserWarning: X does not have valid feature names, but StandardScaler was fitted with feature names\n",
      "  warnings.warn(\n",
      "C:\\Users\\DELL\\anaconda3\\lib\\site-packages\\sklearn\\base.py:450: UserWarning: X does not have valid feature names, but StandardScaler was fitted with feature names\n",
      "  warnings.warn(\n",
      "C:\\Users\\DELL\\anaconda3\\lib\\site-packages\\sklearn\\base.py:450: UserWarning: X does not have valid feature names, but StandardScaler was fitted with feature names\n",
      "  warnings.warn(\n",
      "C:\\Users\\DELL\\anaconda3\\lib\\site-packages\\sklearn\\base.py:450: UserWarning: X does not have valid feature names, but StandardScaler was fitted with feature names\n",
      "  warnings.warn(\n"
     ]
    },
    {
     "name": "stdout",
     "output_type": "stream",
     "text": [
      "Victory [3.13890845e-04 2.66513554e-04 9.99419347e-01 2.49078805e-07]\n",
      "Happy [6.01520861e-01 3.96391543e-01 1.71995816e-03 3.67637138e-04]\n"
     ]
    },
    {
     "name": "stderr",
     "output_type": "stream",
     "text": [
      "C:\\Users\\DELL\\anaconda3\\lib\\site-packages\\sklearn\\base.py:450: UserWarning: X does not have valid feature names, but StandardScaler was fitted with feature names\n",
      "  warnings.warn(\n",
      "C:\\Users\\DELL\\anaconda3\\lib\\site-packages\\sklearn\\base.py:450: UserWarning: X does not have valid feature names, but StandardScaler was fitted with feature names\n",
      "  warnings.warn(\n",
      "C:\\Users\\DELL\\anaconda3\\lib\\site-packages\\sklearn\\base.py:450: UserWarning: X does not have valid feature names, but StandardScaler was fitted with feature names\n",
      "  warnings.warn(\n",
      "C:\\Users\\DELL\\anaconda3\\lib\\site-packages\\sklearn\\base.py:450: UserWarning: X does not have valid feature names, but StandardScaler was fitted with feature names\n",
      "  warnings.warn(\n"
     ]
    },
    {
     "name": "stdout",
     "output_type": "stream",
     "text": [
      "Sad [1.02153553e-01 8.95760388e-01 1.37152985e-03 7.14529443e-04]\n",
      "Sad [2.40725298e-02 9.74939647e-01 5.79966559e-04 4.07856717e-04]\n"
     ]
    },
    {
     "name": "stderr",
     "output_type": "stream",
     "text": [
      "C:\\Users\\DELL\\anaconda3\\lib\\site-packages\\sklearn\\base.py:450: UserWarning: X does not have valid feature names, but StandardScaler was fitted with feature names\n",
      "  warnings.warn(\n",
      "C:\\Users\\DELL\\anaconda3\\lib\\site-packages\\sklearn\\base.py:450: UserWarning: X does not have valid feature names, but StandardScaler was fitted with feature names\n",
      "  warnings.warn(\n",
      "C:\\Users\\DELL\\anaconda3\\lib\\site-packages\\sklearn\\base.py:450: UserWarning: X does not have valid feature names, but StandardScaler was fitted with feature names\n",
      "  warnings.warn(\n",
      "C:\\Users\\DELL\\anaconda3\\lib\\site-packages\\sklearn\\base.py:450: UserWarning: X does not have valid feature names, but StandardScaler was fitted with feature names\n",
      "  warnings.warn(\n"
     ]
    },
    {
     "name": "stdout",
     "output_type": "stream",
     "text": [
      "Sad [1.06322129e-02 9.88456922e-01 5.34783433e-04 3.76082054e-04]\n",
      "Sad [1.20183188e-02 9.86952068e-01 6.04502357e-04 4.25111315e-04]\n"
     ]
    },
    {
     "name": "stderr",
     "output_type": "stream",
     "text": [
      "C:\\Users\\DELL\\anaconda3\\lib\\site-packages\\sklearn\\base.py:450: UserWarning: X does not have valid feature names, but StandardScaler was fitted with feature names\n",
      "  warnings.warn(\n",
      "C:\\Users\\DELL\\anaconda3\\lib\\site-packages\\sklearn\\base.py:450: UserWarning: X does not have valid feature names, but StandardScaler was fitted with feature names\n",
      "  warnings.warn(\n",
      "C:\\Users\\DELL\\anaconda3\\lib\\site-packages\\sklearn\\base.py:450: UserWarning: X does not have valid feature names, but StandardScaler was fitted with feature names\n",
      "  warnings.warn(\n",
      "C:\\Users\\DELL\\anaconda3\\lib\\site-packages\\sklearn\\base.py:450: UserWarning: X does not have valid feature names, but StandardScaler was fitted with feature names\n",
      "  warnings.warn(\n"
     ]
    },
    {
     "name": "stdout",
     "output_type": "stream",
     "text": [
      "Sad [1.95704333e-02 9.79078658e-01 7.93139541e-04 5.57768865e-04]\n",
      "Sad [1.45743300e-02 9.84419633e-01 5.90660268e-04 4.15376980e-04]\n"
     ]
    },
    {
     "name": "stderr",
     "output_type": "stream",
     "text": [
      "C:\\Users\\DELL\\anaconda3\\lib\\site-packages\\sklearn\\base.py:450: UserWarning: X does not have valid feature names, but StandardScaler was fitted with feature names\n",
      "  warnings.warn(\n",
      "C:\\Users\\DELL\\anaconda3\\lib\\site-packages\\sklearn\\base.py:450: UserWarning: X does not have valid feature names, but StandardScaler was fitted with feature names\n",
      "  warnings.warn(\n",
      "C:\\Users\\DELL\\anaconda3\\lib\\site-packages\\sklearn\\base.py:450: UserWarning: X does not have valid feature names, but StandardScaler was fitted with feature names\n",
      "  warnings.warn(\n",
      "C:\\Users\\DELL\\anaconda3\\lib\\site-packages\\sklearn\\base.py:450: UserWarning: X does not have valid feature names, but StandardScaler was fitted with feature names\n",
      "  warnings.warn(\n"
     ]
    },
    {
     "name": "stdout",
     "output_type": "stream",
     "text": [
      "Happy [9.28839638e-01 7.10419171e-02 6.92746552e-05 4.91704960e-05]\n",
      "Happy [5.88237908e-01 4.11153280e-01 3.57443389e-04 2.51369126e-04]\n"
     ]
    },
    {
     "name": "stderr",
     "output_type": "stream",
     "text": [
      "C:\\Users\\DELL\\anaconda3\\lib\\site-packages\\sklearn\\base.py:450: UserWarning: X does not have valid feature names, but StandardScaler was fitted with feature names\n",
      "  warnings.warn(\n",
      "C:\\Users\\DELL\\anaconda3\\lib\\site-packages\\sklearn\\base.py:450: UserWarning: X does not have valid feature names, but StandardScaler was fitted with feature names\n",
      "  warnings.warn(\n",
      "C:\\Users\\DELL\\anaconda3\\lib\\site-packages\\sklearn\\base.py:450: UserWarning: X does not have valid feature names, but StandardScaler was fitted with feature names\n",
      "  warnings.warn(\n",
      "C:\\Users\\DELL\\anaconda3\\lib\\site-packages\\sklearn\\base.py:450: UserWarning: X does not have valid feature names, but StandardScaler was fitted with feature names\n",
      "  warnings.warn(\n"
     ]
    },
    {
     "name": "stdout",
     "output_type": "stream",
     "text": [
      "Happy [5.88586869e-01 4.10806748e-01 3.57748233e-04 2.48634257e-04]\n",
      "Happy [5.00707516e-01 4.98557878e-01 4.33430126e-04 3.01175712e-04]\n"
     ]
    },
    {
     "name": "stderr",
     "output_type": "stream",
     "text": [
      "C:\\Users\\DELL\\anaconda3\\lib\\site-packages\\sklearn\\base.py:450: UserWarning: X does not have valid feature names, but StandardScaler was fitted with feature names\n",
      "  warnings.warn(\n",
      "C:\\Users\\DELL\\anaconda3\\lib\\site-packages\\sklearn\\base.py:450: UserWarning: X does not have valid feature names, but StandardScaler was fitted with feature names\n",
      "  warnings.warn(\n",
      "C:\\Users\\DELL\\anaconda3\\lib\\site-packages\\sklearn\\base.py:450: UserWarning: X does not have valid feature names, but StandardScaler was fitted with feature names\n",
      "  warnings.warn(\n",
      "C:\\Users\\DELL\\anaconda3\\lib\\site-packages\\sklearn\\base.py:450: UserWarning: X does not have valid feature names, but StandardScaler was fitted with feature names\n",
      "  warnings.warn(\n"
     ]
    },
    {
     "name": "stdout",
     "output_type": "stream",
     "text": [
      "Happy [6.05766612e-01 3.93653355e-01 3.42229520e-04 2.37803542e-04]\n",
      "Happy [6.05766612e-01 3.93653355e-01 3.42229520e-04 2.37803542e-04]\n"
     ]
    },
    {
     "name": "stderr",
     "output_type": "stream",
     "text": [
      "C:\\Users\\DELL\\anaconda3\\lib\\site-packages\\sklearn\\base.py:450: UserWarning: X does not have valid feature names, but StandardScaler was fitted with feature names\n",
      "  warnings.warn(\n",
      "C:\\Users\\DELL\\anaconda3\\lib\\site-packages\\sklearn\\base.py:450: UserWarning: X does not have valid feature names, but StandardScaler was fitted with feature names\n",
      "  warnings.warn(\n",
      "C:\\Users\\DELL\\anaconda3\\lib\\site-packages\\sklearn\\base.py:450: UserWarning: X does not have valid feature names, but StandardScaler was fitted with feature names\n",
      "  warnings.warn(\n",
      "C:\\Users\\DELL\\anaconda3\\lib\\site-packages\\sklearn\\base.py:450: UserWarning: X does not have valid feature names, but StandardScaler was fitted with feature names\n",
      "  warnings.warn(\n"
     ]
    },
    {
     "name": "stdout",
     "output_type": "stream",
     "text": [
      "Happy [6.13189210e-01 3.86241678e-01 3.35786047e-04 2.33326194e-04]\n",
      "Happy [6.05766612e-01 3.93653355e-01 3.42229520e-04 2.37803542e-04]\n"
     ]
    },
    {
     "name": "stderr",
     "output_type": "stream",
     "text": [
      "C:\\Users\\DELL\\anaconda3\\lib\\site-packages\\sklearn\\base.py:450: UserWarning: X does not have valid feature names, but StandardScaler was fitted with feature names\n",
      "  warnings.warn(\n",
      "C:\\Users\\DELL\\anaconda3\\lib\\site-packages\\sklearn\\base.py:450: UserWarning: X does not have valid feature names, but StandardScaler was fitted with feature names\n",
      "  warnings.warn(\n",
      "C:\\Users\\DELL\\anaconda3\\lib\\site-packages\\sklearn\\base.py:450: UserWarning: X does not have valid feature names, but StandardScaler was fitted with feature names\n",
      "  warnings.warn(\n",
      "C:\\Users\\DELL\\anaconda3\\lib\\site-packages\\sklearn\\base.py:450: UserWarning: X does not have valid feature names, but StandardScaler was fitted with feature names\n",
      "  warnings.warn(\n"
     ]
    },
    {
     "name": "stdout",
     "output_type": "stream",
     "text": [
      "Happy [5.76626788e-01 4.22750306e-01 3.67525470e-04 2.55380829e-04]\n",
      "Happy [5.12821563e-01 4.86461654e-01 4.22914059e-04 2.93868458e-04]\n"
     ]
    },
    {
     "name": "stderr",
     "output_type": "stream",
     "text": [
      "C:\\Users\\DELL\\anaconda3\\lib\\site-packages\\sklearn\\base.py:450: UserWarning: X does not have valid feature names, but StandardScaler was fitted with feature names\n",
      "  warnings.warn(\n",
      "C:\\Users\\DELL\\anaconda3\\lib\\site-packages\\sklearn\\base.py:450: UserWarning: X does not have valid feature names, but StandardScaler was fitted with feature names\n",
      "  warnings.warn(\n",
      "C:\\Users\\DELL\\anaconda3\\lib\\site-packages\\sklearn\\base.py:450: UserWarning: X does not have valid feature names, but StandardScaler was fitted with feature names\n",
      "  warnings.warn(\n",
      "C:\\Users\\DELL\\anaconda3\\lib\\site-packages\\sklearn\\base.py:450: UserWarning: X does not have valid feature names, but StandardScaler was fitted with feature names\n",
      "  warnings.warn(\n"
     ]
    },
    {
     "name": "stdout",
     "output_type": "stream",
     "text": [
      "Sad [3.12131559e-01 6.86856385e-01 5.97130770e-04 4.14925668e-04]\n",
      "Sad [3.21651562e-01 6.77340828e-01 5.96167168e-04 4.11443026e-04]\n"
     ]
    },
    {
     "name": "stderr",
     "output_type": "stream",
     "text": [
      "C:\\Users\\DELL\\anaconda3\\lib\\site-packages\\sklearn\\base.py:450: UserWarning: X does not have valid feature names, but StandardScaler was fitted with feature names\n",
      "  warnings.warn(\n",
      "C:\\Users\\DELL\\anaconda3\\lib\\site-packages\\sklearn\\base.py:450: UserWarning: X does not have valid feature names, but StandardScaler was fitted with feature names\n",
      "  warnings.warn(\n",
      "C:\\Users\\DELL\\anaconda3\\lib\\site-packages\\sklearn\\base.py:450: UserWarning: X does not have valid feature names, but StandardScaler was fitted with feature names\n",
      "  warnings.warn(\n",
      "C:\\Users\\DELL\\anaconda3\\lib\\site-packages\\sklearn\\base.py:450: UserWarning: X does not have valid feature names, but StandardScaler was fitted with feature names\n",
      "  warnings.warn(\n"
     ]
    },
    {
     "name": "stdout",
     "output_type": "stream",
     "text": [
      "Sad [3.80396872e-01 6.18692146e-01 5.37870981e-04 3.73111365e-04]\n",
      "Sad [4.35882824e-01 5.63407211e-01 4.15616511e-04 2.94348538e-04]\n"
     ]
    },
    {
     "name": "stderr",
     "output_type": "stream",
     "text": [
      "C:\\Users\\DELL\\anaconda3\\lib\\site-packages\\sklearn\\base.py:450: UserWarning: X does not have valid feature names, but StandardScaler was fitted with feature names\n",
      "  warnings.warn(\n",
      "C:\\Users\\DELL\\anaconda3\\lib\\site-packages\\sklearn\\base.py:450: UserWarning: X does not have valid feature names, but StandardScaler was fitted with feature names\n",
      "  warnings.warn(\n",
      "C:\\Users\\DELL\\anaconda3\\lib\\site-packages\\sklearn\\base.py:450: UserWarning: X does not have valid feature names, but StandardScaler was fitted with feature names\n",
      "  warnings.warn(\n",
      "C:\\Users\\DELL\\anaconda3\\lib\\site-packages\\sklearn\\base.py:450: UserWarning: X does not have valid feature names, but StandardScaler was fitted with feature names\n",
      "  warnings.warn(\n"
     ]
    },
    {
     "name": "stdout",
     "output_type": "stream",
     "text": [
      "Happy [6.58809701e-01 3.40760428e-01 2.53631392e-04 1.76239745e-04]\n",
      "Happy [6.88552598e-01 3.11053102e-01 2.33424520e-04 1.60875251e-04]\n"
     ]
    },
    {
     "name": "stderr",
     "output_type": "stream",
     "text": [
      "C:\\Users\\DELL\\anaconda3\\lib\\site-packages\\sklearn\\base.py:450: UserWarning: X does not have valid feature names, but StandardScaler was fitted with feature names\n",
      "  warnings.warn(\n",
      "C:\\Users\\DELL\\anaconda3\\lib\\site-packages\\sklearn\\base.py:450: UserWarning: X does not have valid feature names, but StandardScaler was fitted with feature names\n",
      "  warnings.warn(\n",
      "C:\\Users\\DELL\\anaconda3\\lib\\site-packages\\sklearn\\base.py:450: UserWarning: X does not have valid feature names, but StandardScaler was fitted with feature names\n",
      "  warnings.warn(\n",
      "C:\\Users\\DELL\\anaconda3\\lib\\site-packages\\sklearn\\base.py:450: UserWarning: X does not have valid feature names, but StandardScaler was fitted with feature names\n",
      "  warnings.warn(\n"
     ]
    },
    {
     "name": "stdout",
     "output_type": "stream",
     "text": [
      "Happy [6.81825773e-01 3.17771411e-01 2.38466161e-04 1.64349930e-04]\n",
      "Happy [5.75099745e-01 4.24362322e-01 3.18455501e-04 2.19478265e-04]\n"
     ]
    },
    {
     "name": "stderr",
     "output_type": "stream",
     "text": [
      "C:\\Users\\DELL\\anaconda3\\lib\\site-packages\\sklearn\\base.py:450: UserWarning: X does not have valid feature names, but StandardScaler was fitted with feature names\n",
      "  warnings.warn(\n",
      "C:\\Users\\DELL\\anaconda3\\lib\\site-packages\\sklearn\\base.py:450: UserWarning: X does not have valid feature names, but StandardScaler was fitted with feature names\n",
      "  warnings.warn(\n",
      "C:\\Users\\DELL\\anaconda3\\lib\\site-packages\\sklearn\\base.py:450: UserWarning: X does not have valid feature names, but StandardScaler was fitted with feature names\n",
      "  warnings.warn(\n",
      "C:\\Users\\DELL\\anaconda3\\lib\\site-packages\\sklearn\\base.py:450: UserWarning: X does not have valid feature names, but StandardScaler was fitted with feature names\n",
      "  warnings.warn(\n"
     ]
    },
    {
     "name": "stdout",
     "output_type": "stream",
     "text": [
      "Happy [5.68184717e-01 4.31268594e-01 3.23638196e-04 2.23050158e-04]\n",
      "Happy [6.83504198e-01 3.16095724e-01 2.37208671e-04 1.62869190e-04]\n"
     ]
    },
    {
     "name": "stderr",
     "output_type": "stream",
     "text": [
      "C:\\Users\\DELL\\anaconda3\\lib\\site-packages\\sklearn\\base.py:450: UserWarning: X does not have valid feature names, but StandardScaler was fitted with feature names\n",
      "  warnings.warn(\n",
      "C:\\Users\\DELL\\anaconda3\\lib\\site-packages\\sklearn\\base.py:450: UserWarning: X does not have valid feature names, but StandardScaler was fitted with feature names\n",
      "  warnings.warn(\n",
      "C:\\Users\\DELL\\anaconda3\\lib\\site-packages\\sklearn\\base.py:450: UserWarning: X does not have valid feature names, but StandardScaler was fitted with feature names\n",
      "  warnings.warn(\n",
      "C:\\Users\\DELL\\anaconda3\\lib\\site-packages\\sklearn\\base.py:450: UserWarning: X does not have valid feature names, but StandardScaler was fitted with feature names\n",
      "  warnings.warn(\n"
     ]
    },
    {
     "name": "stdout",
     "output_type": "stream",
     "text": [
      "Happy [6.83512788e-01 3.16099697e-01 2.24643591e-04 1.62871237e-04]\n",
      "Happy [6.60556626e-01 3.39027751e-01 2.40937945e-04 1.74684980e-04]\n"
     ]
    },
    {
     "name": "stderr",
     "output_type": "stream",
     "text": [
      "C:\\Users\\DELL\\anaconda3\\lib\\site-packages\\sklearn\\base.py:450: UserWarning: X does not have valid feature names, but StandardScaler was fitted with feature names\n",
      "  warnings.warn(\n",
      "C:\\Users\\DELL\\anaconda3\\lib\\site-packages\\sklearn\\base.py:450: UserWarning: X does not have valid feature names, but StandardScaler was fitted with feature names\n",
      "  warnings.warn(\n",
      "C:\\Users\\DELL\\anaconda3\\lib\\site-packages\\sklearn\\base.py:450: UserWarning: X does not have valid feature names, but StandardScaler was fitted with feature names\n",
      "  warnings.warn(\n",
      "C:\\Users\\DELL\\anaconda3\\lib\\site-packages\\sklearn\\base.py:450: UserWarning: X does not have valid feature names, but StandardScaler was fitted with feature names\n",
      "  warnings.warn(\n"
     ]
    },
    {
     "name": "stdout",
     "output_type": "stream",
     "text": [
      "Sad [4.12461784e-01 5.86813890e-01 4.22209137e-04 3.02116256e-04]\n",
      "Happy [5.52154074e-01 4.47297756e-01 3.17882538e-04 2.30287533e-04]\n"
     ]
    },
    {
     "name": "stderr",
     "output_type": "stream",
     "text": [
      "C:\\Users\\DELL\\anaconda3\\lib\\site-packages\\sklearn\\base.py:450: UserWarning: X does not have valid feature names, but StandardScaler was fitted with feature names\n",
      "  warnings.warn(\n",
      "C:\\Users\\DELL\\anaconda3\\lib\\site-packages\\sklearn\\base.py:450: UserWarning: X does not have valid feature names, but StandardScaler was fitted with feature names\n",
      "  warnings.warn(\n",
      "C:\\Users\\DELL\\anaconda3\\lib\\site-packages\\sklearn\\base.py:450: UserWarning: X does not have valid feature names, but StandardScaler was fitted with feature names\n",
      "  warnings.warn(\n",
      "C:\\Users\\DELL\\anaconda3\\lib\\site-packages\\sklearn\\base.py:450: UserWarning: X does not have valid feature names, but StandardScaler was fitted with feature names\n",
      "  warnings.warn(\n"
     ]
    },
    {
     "name": "stdout",
     "output_type": "stream",
     "text": [
      "Sad [4.35880860e-01 5.63404672e-01 4.22797473e-04 2.91670321e-04]\n",
      "Sad [4.40902702e-01 5.58387867e-01 4.19032697e-04 2.90398562e-04]\n"
     ]
    },
    {
     "name": "stderr",
     "output_type": "stream",
     "text": [
      "C:\\Users\\DELL\\anaconda3\\lib\\site-packages\\sklearn\\base.py:450: UserWarning: X does not have valid feature names, but StandardScaler was fitted with feature names\n",
      "  warnings.warn(\n",
      "C:\\Users\\DELL\\anaconda3\\lib\\site-packages\\sklearn\\base.py:450: UserWarning: X does not have valid feature names, but StandardScaler was fitted with feature names\n",
      "  warnings.warn(\n",
      "C:\\Users\\DELL\\anaconda3\\lib\\site-packages\\sklearn\\base.py:450: UserWarning: X does not have valid feature names, but StandardScaler was fitted with feature names\n",
      "  warnings.warn(\n",
      "C:\\Users\\DELL\\anaconda3\\lib\\site-packages\\sklearn\\base.py:450: UserWarning: X does not have valid feature names, but StandardScaler was fitted with feature names\n",
      "  warnings.warn(\n"
     ]
    },
    {
     "name": "stdout",
     "output_type": "stream",
     "text": [
      "Sad [4.35883993e-01 5.63408722e-01 4.15617626e-04 2.91667402e-04]\n",
      "Sad [4.40905840e-01 5.58391842e-01 4.11916754e-04 2.90400629e-04]\n"
     ]
    },
    {
     "name": "stderr",
     "output_type": "stream",
     "text": [
      "C:\\Users\\DELL\\anaconda3\\lib\\site-packages\\sklearn\\base.py:450: UserWarning: X does not have valid feature names, but StandardScaler was fitted with feature names\n",
      "  warnings.warn(\n",
      "C:\\Users\\DELL\\anaconda3\\lib\\site-packages\\sklearn\\base.py:450: UserWarning: X does not have valid feature names, but StandardScaler was fitted with feature names\n",
      "  warnings.warn(\n",
      "C:\\Users\\DELL\\anaconda3\\lib\\site-packages\\sklearn\\base.py:450: UserWarning: X does not have valid feature names, but StandardScaler was fitted with feature names\n",
      "  warnings.warn(\n",
      "C:\\Users\\DELL\\anaconda3\\lib\\site-packages\\sklearn\\base.py:450: UserWarning: X does not have valid feature names, but StandardScaler was fitted with feature names\n",
      "  warnings.warn(\n",
      "C:\\Users\\DELL\\anaconda3\\lib\\site-packages\\sklearn\\base.py:450: UserWarning: X does not have valid feature names, but StandardScaler was fitted with feature names\n",
      "  warnings.warn(\n",
      "C:\\Users\\DELL\\anaconda3\\lib\\site-packages\\sklearn\\base.py:450: UserWarning: X does not have valid feature names, but StandardScaler was fitted with feature names\n",
      "  warnings.warn(\n"
     ]
    },
    {
     "name": "stdout",
     "output_type": "stream",
     "text": [
      "Sad [4.40907105e-01 5.58393444e-01 4.11917935e-04 2.87533911e-04]\n",
      "Happy [6.65793850e-01 3.33783260e-01 2.50481982e-04 1.72407963e-04]\n",
      "Happy [6.65802072e-01 3.33787382e-01 2.37213755e-04 1.73331802e-04]\n",
      "Happy [6.65796683e-01 3.33784680e-01 2.46227634e-04 1.72408697e-04]\n"
     ]
    },
    {
     "name": "stderr",
     "output_type": "stream",
     "text": [
      "C:\\Users\\DELL\\anaconda3\\lib\\site-packages\\sklearn\\base.py:450: UserWarning: X does not have valid feature names, but StandardScaler was fitted with feature names\n",
      "  warnings.warn(\n",
      "C:\\Users\\DELL\\anaconda3\\lib\\site-packages\\sklearn\\base.py:450: UserWarning: X does not have valid feature names, but StandardScaler was fitted with feature names\n",
      "  warnings.warn(\n",
      "C:\\Users\\DELL\\anaconda3\\lib\\site-packages\\sklearn\\base.py:450: UserWarning: X does not have valid feature names, but StandardScaler was fitted with feature names\n",
      "  warnings.warn(\n",
      "C:\\Users\\DELL\\anaconda3\\lib\\site-packages\\sklearn\\base.py:450: UserWarning: X does not have valid feature names, but StandardScaler was fitted with feature names\n",
      "  warnings.warn(\n"
     ]
    },
    {
     "name": "stdout",
     "output_type": "stream",
     "text": [
      "Sad [4.40906032e-01 5.58392085e-01 4.11916933e-04 2.89966341e-04]\n",
      "Sad [4.40905443e-01 5.58391340e-01 4.11916383e-04 2.91300459e-04]\n"
     ]
    },
    {
     "name": "stderr",
     "output_type": "stream",
     "text": [
      "C:\\Users\\DELL\\anaconda3\\lib\\site-packages\\sklearn\\base.py:450: UserWarning: X does not have valid feature names, but StandardScaler was fitted with feature names\n",
      "  warnings.warn(\n",
      "C:\\Users\\DELL\\anaconda3\\lib\\site-packages\\sklearn\\base.py:450: UserWarning: X does not have valid feature names, but StandardScaler was fitted with feature names\n",
      "  warnings.warn(\n",
      "C:\\Users\\DELL\\anaconda3\\lib\\site-packages\\sklearn\\base.py:450: UserWarning: X does not have valid feature names, but StandardScaler was fitted with feature names\n",
      "  warnings.warn(\n",
      "C:\\Users\\DELL\\anaconda3\\lib\\site-packages\\sklearn\\base.py:450: UserWarning: X does not have valid feature names, but StandardScaler was fitted with feature names\n",
      "  warnings.warn(\n"
     ]
    },
    {
     "name": "stdout",
     "output_type": "stream",
     "text": [
      "Sad [4.35884299e-01 5.63409117e-01 4.15617918e-04 2.90965560e-04]\n",
      "Sad [3.91168624e-01 6.08194628e-01 3.72981292e-04 2.63766206e-04]\n"
     ]
    },
    {
     "name": "stderr",
     "output_type": "stream",
     "text": [
      "C:\\Users\\DELL\\anaconda3\\lib\\site-packages\\sklearn\\base.py:450: UserWarning: X does not have valid feature names, but StandardScaler was fitted with feature names\n",
      "  warnings.warn(\n",
      "C:\\Users\\DELL\\anaconda3\\lib\\site-packages\\sklearn\\base.py:450: UserWarning: X does not have valid feature names, but StandardScaler was fitted with feature names\n",
      "  warnings.warn(\n",
      "C:\\Users\\DELL\\anaconda3\\lib\\site-packages\\sklearn\\base.py:450: UserWarning: X does not have valid feature names, but StandardScaler was fitted with feature names\n",
      "  warnings.warn(\n",
      "C:\\Users\\DELL\\anaconda3\\lib\\site-packages\\sklearn\\base.py:450: UserWarning: X does not have valid feature names, but StandardScaler was fitted with feature names\n",
      "  warnings.warn(\n"
     ]
    },
    {
     "name": "stdout",
     "output_type": "stream",
     "text": [
      "Wakanda Forever [2.18996575e-04 2.74675294e-06 1.46282119e-07 9.99778110e-01]\n",
      "Wakanda Forever [5.74276661e-06 1.73392334e-06 1.92753107e-07 9.99992331e-01]\n"
     ]
    },
    {
     "name": "stderr",
     "output_type": "stream",
     "text": [
      "C:\\Users\\DELL\\anaconda3\\lib\\site-packages\\sklearn\\base.py:450: UserWarning: X does not have valid feature names, but StandardScaler was fitted with feature names\n",
      "  warnings.warn(\n",
      "C:\\Users\\DELL\\anaconda3\\lib\\site-packages\\sklearn\\base.py:450: UserWarning: X does not have valid feature names, but StandardScaler was fitted with feature names\n",
      "  warnings.warn(\n",
      "C:\\Users\\DELL\\anaconda3\\lib\\site-packages\\sklearn\\base.py:450: UserWarning: X does not have valid feature names, but StandardScaler was fitted with feature names\n",
      "  warnings.warn(\n",
      "C:\\Users\\DELL\\anaconda3\\lib\\site-packages\\sklearn\\base.py:450: UserWarning: X does not have valid feature names, but StandardScaler was fitted with feature names\n",
      "  warnings.warn(\n"
     ]
    },
    {
     "name": "stdout",
     "output_type": "stream",
     "text": [
      "Wakanda Forever [4.44260336e-04 1.34134252e-04 1.49113774e-05 9.99406694e-01]\n",
      "Wakanda Forever [1.32408297e-04 3.99776583e-05 4.44421868e-06 9.99823170e-01]\n"
     ]
    },
    {
     "name": "stderr",
     "output_type": "stream",
     "text": [
      "C:\\Users\\DELL\\anaconda3\\lib\\site-packages\\sklearn\\base.py:450: UserWarning: X does not have valid feature names, but StandardScaler was fitted with feature names\n",
      "  warnings.warn(\n",
      "C:\\Users\\DELL\\anaconda3\\lib\\site-packages\\sklearn\\base.py:450: UserWarning: X does not have valid feature names, but StandardScaler was fitted with feature names\n",
      "  warnings.warn(\n",
      "C:\\Users\\DELL\\anaconda3\\lib\\site-packages\\sklearn\\base.py:450: UserWarning: X does not have valid feature names, but StandardScaler was fitted with feature names\n",
      "  warnings.warn(\n",
      "C:\\Users\\DELL\\anaconda3\\lib\\site-packages\\sklearn\\base.py:450: UserWarning: X does not have valid feature names, but StandardScaler was fitted with feature names\n",
      "  warnings.warn(\n"
     ]
    },
    {
     "name": "stdout",
     "output_type": "stream",
     "text": [
      "Wakanda Forever [4.50794421e-04 1.55837315e-04 1.73240539e-05 9.99376044e-01]\n",
      "Wakanda Forever [1.49595126e-04 1.55884275e-04 1.73292743e-05 9.99677191e-01]\n"
     ]
    },
    {
     "name": "stderr",
     "output_type": "stream",
     "text": [
      "C:\\Users\\DELL\\anaconda3\\lib\\site-packages\\sklearn\\base.py:450: UserWarning: X does not have valid feature names, but StandardScaler was fitted with feature names\n",
      "  warnings.warn(\n",
      "C:\\Users\\DELL\\anaconda3\\lib\\site-packages\\sklearn\\base.py:450: UserWarning: X does not have valid feature names, but StandardScaler was fitted with feature names\n",
      "  warnings.warn(\n",
      "C:\\Users\\DELL\\anaconda3\\lib\\site-packages\\sklearn\\base.py:450: UserWarning: X does not have valid feature names, but StandardScaler was fitted with feature names\n",
      "  warnings.warn(\n",
      "C:\\Users\\DELL\\anaconda3\\lib\\site-packages\\sklearn\\base.py:450: UserWarning: X does not have valid feature names, but StandardScaler was fitted with feature names\n",
      "  warnings.warn(\n"
     ]
    },
    {
     "name": "stdout",
     "output_type": "stream",
     "text": [
      "Wakanda Forever [1.49598056e-04 1.36303888e-04 1.73296136e-05 9.99696768e-01]\n",
      "Wakanda Forever [1.49598056e-04 1.36303888e-04 1.73296136e-05 9.99696768e-01]\n"
     ]
    },
    {
     "name": "stderr",
     "output_type": "stream",
     "text": [
      "C:\\Users\\DELL\\anaconda3\\lib\\site-packages\\sklearn\\base.py:450: UserWarning: X does not have valid feature names, but StandardScaler was fitted with feature names\n",
      "  warnings.warn(\n",
      "C:\\Users\\DELL\\anaconda3\\lib\\site-packages\\sklearn\\base.py:450: UserWarning: X does not have valid feature names, but StandardScaler was fitted with feature names\n",
      "  warnings.warn(\n",
      "C:\\Users\\DELL\\anaconda3\\lib\\site-packages\\sklearn\\base.py:450: UserWarning: X does not have valid feature names, but StandardScaler was fitted with feature names\n",
      "  warnings.warn(\n",
      "C:\\Users\\DELL\\anaconda3\\lib\\site-packages\\sklearn\\base.py:450: UserWarning: X does not have valid feature names, but StandardScaler was fitted with feature names\n",
      "  warnings.warn(\n"
     ]
    },
    {
     "name": "stdout",
     "output_type": "stream",
     "text": [
      "Wakanda Forever [1.49598056e-04 1.36303888e-04 1.73296136e-05 9.99696768e-01]\n",
      "Wakanda Forever [1.49598056e-04 1.36303888e-04 1.73296136e-05 9.99696768e-01]\n"
     ]
    },
    {
     "name": "stderr",
     "output_type": "stream",
     "text": [
      "C:\\Users\\DELL\\anaconda3\\lib\\site-packages\\sklearn\\base.py:450: UserWarning: X does not have valid feature names, but StandardScaler was fitted with feature names\n",
      "  warnings.warn(\n",
      "C:\\Users\\DELL\\anaconda3\\lib\\site-packages\\sklearn\\base.py:450: UserWarning: X does not have valid feature names, but StandardScaler was fitted with feature names\n",
      "  warnings.warn(\n",
      "C:\\Users\\DELL\\anaconda3\\lib\\site-packages\\sklearn\\base.py:450: UserWarning: X does not have valid feature names, but StandardScaler was fitted with feature names\n",
      "  warnings.warn(\n",
      "C:\\Users\\DELL\\anaconda3\\lib\\site-packages\\sklearn\\base.py:450: UserWarning: X does not have valid feature names, but StandardScaler was fitted with feature names\n",
      "  warnings.warn(\n"
     ]
    },
    {
     "name": "stdout",
     "output_type": "stream",
     "text": [
      "Wakanda Forever [9.51251045e-05 8.66717253e-05 1.10194033e-05 9.99807184e-01]\n",
      "Wakanda Forever [1.00894466e-05 1.04069836e-05 1.16877328e-06 9.99978335e-01]\n"
     ]
    },
    {
     "name": "stderr",
     "output_type": "stream",
     "text": [
      "C:\\Users\\DELL\\anaconda3\\lib\\site-packages\\sklearn\\base.py:450: UserWarning: X does not have valid feature names, but StandardScaler was fitted with feature names\n",
      "  warnings.warn(\n",
      "C:\\Users\\DELL\\anaconda3\\lib\\site-packages\\sklearn\\base.py:450: UserWarning: X does not have valid feature names, but StandardScaler was fitted with feature names\n",
      "  warnings.warn(\n",
      "C:\\Users\\DELL\\anaconda3\\lib\\site-packages\\sklearn\\base.py:450: UserWarning: X does not have valid feature names, but StandardScaler was fitted with feature names\n",
      "  warnings.warn(\n",
      "C:\\Users\\DELL\\anaconda3\\lib\\site-packages\\sklearn\\base.py:450: UserWarning: X does not have valid feature names, but StandardScaler was fitted with feature names\n",
      "  warnings.warn(\n"
     ]
    },
    {
     "name": "stdout",
     "output_type": "stream",
     "text": [
      "Happy [8.16726641e-01 1.81832063e-01 7.94086425e-04 6.47210379e-04]\n",
      "Sad [4.83988044e-01 5.14851230e-01 7.21717707e-04 4.39007571e-04]\n"
     ]
    },
    {
     "name": "stderr",
     "output_type": "stream",
     "text": [
      "C:\\Users\\DELL\\anaconda3\\lib\\site-packages\\sklearn\\base.py:450: UserWarning: X does not have valid feature names, but StandardScaler was fitted with feature names\n",
      "  warnings.warn(\n",
      "C:\\Users\\DELL\\anaconda3\\lib\\site-packages\\sklearn\\base.py:450: UserWarning: X does not have valid feature names, but StandardScaler was fitted with feature names\n",
      "  warnings.warn(\n",
      "C:\\Users\\DELL\\anaconda3\\lib\\site-packages\\sklearn\\base.py:450: UserWarning: X does not have valid feature names, but StandardScaler was fitted with feature names\n",
      "  warnings.warn(\n",
      "C:\\Users\\DELL\\anaconda3\\lib\\site-packages\\sklearn\\base.py:450: UserWarning: X does not have valid feature names, but StandardScaler was fitted with feature names\n",
      "  warnings.warn(\n"
     ]
    },
    {
     "name": "stdout",
     "output_type": "stream",
     "text": [
      "Sad [9.08712471e-03 9.88766418e-01 1.40801471e-03 7.38442143e-04]\n",
      "Sad [3.03249707e-03 9.96759823e-01 1.36143961e-04 7.15357617e-05]\n"
     ]
    },
    {
     "name": "stderr",
     "output_type": "stream",
     "text": [
      "C:\\Users\\DELL\\anaconda3\\lib\\site-packages\\sklearn\\base.py:450: UserWarning: X does not have valid feature names, but StandardScaler was fitted with feature names\n",
      "  warnings.warn(\n",
      "C:\\Users\\DELL\\anaconda3\\lib\\site-packages\\sklearn\\base.py:450: UserWarning: X does not have valid feature names, but StandardScaler was fitted with feature names\n",
      "  warnings.warn(\n",
      "C:\\Users\\DELL\\anaconda3\\lib\\site-packages\\sklearn\\base.py:450: UserWarning: X does not have valid feature names, but StandardScaler was fitted with feature names\n",
      "  warnings.warn(\n",
      "C:\\Users\\DELL\\anaconda3\\lib\\site-packages\\sklearn\\base.py:450: UserWarning: X does not have valid feature names, but StandardScaler was fitted with feature names\n",
      "  warnings.warn(\n"
     ]
    },
    {
     "name": "stdout",
     "output_type": "stream",
     "text": [
      "Sad [3.03249649e-03 9.96759633e-01 1.36143936e-04 7.17263033e-05]\n",
      "Sad [0.24789209 0.72908839 0.01716669 0.00585283]\n"
     ]
    },
    {
     "name": "stderr",
     "output_type": "stream",
     "text": [
      "C:\\Users\\DELL\\anaconda3\\lib\\site-packages\\sklearn\\base.py:450: UserWarning: X does not have valid feature names, but StandardScaler was fitted with feature names\n",
      "  warnings.warn(\n",
      "C:\\Users\\DELL\\anaconda3\\lib\\site-packages\\sklearn\\base.py:450: UserWarning: X does not have valid feature names, but StandardScaler was fitted with feature names\n",
      "  warnings.warn(\n",
      "C:\\Users\\DELL\\anaconda3\\lib\\site-packages\\sklearn\\base.py:450: UserWarning: X does not have valid feature names, but StandardScaler was fitted with feature names\n",
      "  warnings.warn(\n",
      "C:\\Users\\DELL\\anaconda3\\lib\\site-packages\\sklearn\\base.py:450: UserWarning: X does not have valid feature names, but StandardScaler was fitted with feature names\n",
      "  warnings.warn(\n"
     ]
    },
    {
     "name": "stdout",
     "output_type": "stream",
     "text": [
      "Sad [0.19467237 0.5725611  0.22813347 0.00463306]\n",
      "Sad [0.19466366 0.57253549 0.22812326 0.00467759]\n"
     ]
    },
    {
     "name": "stderr",
     "output_type": "stream",
     "text": [
      "C:\\Users\\DELL\\anaconda3\\lib\\site-packages\\sklearn\\base.py:450: UserWarning: X does not have valid feature names, but StandardScaler was fitted with feature names\n",
      "  warnings.warn(\n",
      "C:\\Users\\DELL\\anaconda3\\lib\\site-packages\\sklearn\\base.py:450: UserWarning: X does not have valid feature names, but StandardScaler was fitted with feature names\n",
      "  warnings.warn(\n",
      "C:\\Users\\DELL\\anaconda3\\lib\\site-packages\\sklearn\\base.py:450: UserWarning: X does not have valid feature names, but StandardScaler was fitted with feature names\n",
      "  warnings.warn(\n",
      "C:\\Users\\DELL\\anaconda3\\lib\\site-packages\\sklearn\\base.py:450: UserWarning: X does not have valid feature names, but StandardScaler was fitted with feature names\n",
      "  warnings.warn(\n"
     ]
    },
    {
     "name": "stdout",
     "output_type": "stream",
     "text": [
      "Sad [0.19467237 0.5725611  0.22813347 0.00463306]\n",
      "Sad [1.75645163e-02 9.78242973e-01 4.12225411e-03 7.02565003e-05]\n"
     ]
    },
    {
     "name": "stderr",
     "output_type": "stream",
     "text": [
      "C:\\Users\\DELL\\anaconda3\\lib\\site-packages\\sklearn\\base.py:450: UserWarning: X does not have valid feature names, but StandardScaler was fitted with feature names\n",
      "  warnings.warn(\n",
      "C:\\Users\\DELL\\anaconda3\\lib\\site-packages\\sklearn\\base.py:450: UserWarning: X does not have valid feature names, but StandardScaler was fitted with feature names\n",
      "  warnings.warn(\n",
      "C:\\Users\\DELL\\anaconda3\\lib\\site-packages\\sklearn\\base.py:450: UserWarning: X does not have valid feature names, but StandardScaler was fitted with feature names\n",
      "  warnings.warn(\n",
      "C:\\Users\\DELL\\anaconda3\\lib\\site-packages\\sklearn\\base.py:450: UserWarning: X does not have valid feature names, but StandardScaler was fitted with feature names\n",
      "  warnings.warn(\n"
     ]
    },
    {
     "name": "stdout",
     "output_type": "stream",
     "text": [
      "Sad [4.14287595e-02 9.32159530e-01 2.62340036e-02 1.77707214e-04]\n",
      "Sad [8.49529310e-02 8.93108024e-01 2.15746422e-02 3.64402624e-04]\n"
     ]
    },
    {
     "name": "stderr",
     "output_type": "stream",
     "text": [
      "C:\\Users\\DELL\\anaconda3\\lib\\site-packages\\sklearn\\base.py:450: UserWarning: X does not have valid feature names, but StandardScaler was fitted with feature names\n",
      "  warnings.warn(\n",
      "C:\\Users\\DELL\\anaconda3\\lib\\site-packages\\sklearn\\base.py:450: UserWarning: X does not have valid feature names, but StandardScaler was fitted with feature names\n",
      "  warnings.warn(\n",
      "C:\\Users\\DELL\\anaconda3\\lib\\site-packages\\sklearn\\base.py:450: UserWarning: X does not have valid feature names, but StandardScaler was fitted with feature names\n",
      "  warnings.warn(\n",
      "C:\\Users\\DELL\\anaconda3\\lib\\site-packages\\sklearn\\base.py:450: UserWarning: X does not have valid feature names, but StandardScaler was fitted with feature names\n",
      "  warnings.warn(\n"
     ]
    },
    {
     "name": "stdout",
     "output_type": "stream",
     "text": [
      "Sad [5.74231076e-02 6.03687684e-01 3.38642894e-01 2.46314410e-04]\n",
      "Victory [2.33299456e-02 2.45267130e-01 7.31302851e-01 1.00072985e-04]\n"
     ]
    },
    {
     "name": "stderr",
     "output_type": "stream",
     "text": [
      "C:\\Users\\DELL\\anaconda3\\lib\\site-packages\\sklearn\\base.py:450: UserWarning: X does not have valid feature names, but StandardScaler was fitted with feature names\n",
      "  warnings.warn(\n",
      "C:\\Users\\DELL\\anaconda3\\lib\\site-packages\\sklearn\\base.py:450: UserWarning: X does not have valid feature names, but StandardScaler was fitted with feature names\n",
      "  warnings.warn(\n",
      "C:\\Users\\DELL\\anaconda3\\lib\\site-packages\\sklearn\\base.py:450: UserWarning: X does not have valid feature names, but StandardScaler was fitted with feature names\n",
      "  warnings.warn(\n",
      "C:\\Users\\DELL\\anaconda3\\lib\\site-packages\\sklearn\\base.py:450: UserWarning: X does not have valid feature names, but StandardScaler was fitted with feature names\n",
      "  warnings.warn(\n"
     ]
    },
    {
     "name": "stdout",
     "output_type": "stream",
     "text": [
      "Victory [1.55398028e-02 2.47223437e-01 7.37135889e-01 1.00871190e-04]\n",
      "Victory [8.35394654e-05 8.18963425e-04 9.99097163e-01 3.34150419e-07]\n"
     ]
    },
    {
     "name": "stderr",
     "output_type": "stream",
     "text": [
      "C:\\Users\\DELL\\anaconda3\\lib\\site-packages\\sklearn\\base.py:450: UserWarning: X does not have valid feature names, but StandardScaler was fitted with feature names\n",
      "  warnings.warn(\n",
      "C:\\Users\\DELL\\anaconda3\\lib\\site-packages\\sklearn\\base.py:450: UserWarning: X does not have valid feature names, but StandardScaler was fitted with feature names\n",
      "  warnings.warn(\n",
      "C:\\Users\\DELL\\anaconda3\\lib\\site-packages\\sklearn\\base.py:450: UserWarning: X does not have valid feature names, but StandardScaler was fitted with feature names\n",
      "  warnings.warn(\n",
      "C:\\Users\\DELL\\anaconda3\\lib\\site-packages\\sklearn\\base.py:450: UserWarning: X does not have valid feature names, but StandardScaler was fitted with feature names\n",
      "  warnings.warn(\n"
     ]
    },
    {
     "name": "stdout",
     "output_type": "stream",
     "text": [
      "Victory [8.34738219e-05 1.60409820e-03 9.98312094e-01 3.33887851e-07]\n",
      "Victory [7.18396432e-05 1.60411687e-03 9.98323710e-01 3.33891736e-07]\n"
     ]
    },
    {
     "name": "stderr",
     "output_type": "stream",
     "text": [
      "C:\\Users\\DELL\\anaconda3\\lib\\site-packages\\sklearn\\base.py:450: UserWarning: X does not have valid feature names, but StandardScaler was fitted with feature names\n",
      "  warnings.warn(\n",
      "C:\\Users\\DELL\\anaconda3\\lib\\site-packages\\sklearn\\base.py:450: UserWarning: X does not have valid feature names, but StandardScaler was fitted with feature names\n",
      "  warnings.warn(\n",
      "C:\\Users\\DELL\\anaconda3\\lib\\site-packages\\sklearn\\base.py:450: UserWarning: X does not have valid feature names, but StandardScaler was fitted with feature names\n",
      "  warnings.warn(\n",
      "C:\\Users\\DELL\\anaconda3\\lib\\site-packages\\sklearn\\base.py:450: UserWarning: X does not have valid feature names, but StandardScaler was fitted with feature names\n",
      "  warnings.warn(\n"
     ]
    },
    {
     "name": "stdout",
     "output_type": "stream",
     "text": [
      "Victory [8.34819841e-05 1.50647367e-03 9.98409710e-01 3.33920499e-07]\n",
      "Victory [7.24325410e-05 1.30708101e-03 9.98620197e-01 2.89723711e-07]\n"
     ]
    },
    {
     "name": "stderr",
     "output_type": "stream",
     "text": [
      "C:\\Users\\DELL\\anaconda3\\lib\\site-packages\\sklearn\\base.py:450: UserWarning: X does not have valid feature names, but StandardScaler was fitted with feature names\n",
      "  warnings.warn(\n",
      "C:\\Users\\DELL\\anaconda3\\lib\\site-packages\\sklearn\\base.py:450: UserWarning: X does not have valid feature names, but StandardScaler was fitted with feature names\n",
      "  warnings.warn(\n",
      "C:\\Users\\DELL\\anaconda3\\lib\\site-packages\\sklearn\\base.py:450: UserWarning: X does not have valid feature names, but StandardScaler was fitted with feature names\n",
      "  warnings.warn(\n",
      "C:\\Users\\DELL\\anaconda3\\lib\\site-packages\\sklearn\\base.py:450: UserWarning: X does not have valid feature names, but StandardScaler was fitted with feature names\n",
      "  warnings.warn(\n"
     ]
    },
    {
     "name": "stdout",
     "output_type": "stream",
     "text": [
      "Victory [3.50780935e-05 6.74088059e-04 9.99290694e-01 1.40309249e-07]\n",
      "Victory [3.01888743e-05 6.74091355e-04 9.99295579e-01 1.40309935e-07]\n"
     ]
    },
    {
     "name": "stderr",
     "output_type": "stream",
     "text": [
      "C:\\Users\\DELL\\anaconda3\\lib\\site-packages\\sklearn\\base.py:450: UserWarning: X does not have valid feature names, but StandardScaler was fitted with feature names\n",
      "  warnings.warn(\n",
      "C:\\Users\\DELL\\anaconda3\\lib\\site-packages\\sklearn\\base.py:450: UserWarning: X does not have valid feature names, but StandardScaler was fitted with feature names\n",
      "  warnings.warn(\n",
      "C:\\Users\\DELL\\anaconda3\\lib\\site-packages\\sklearn\\base.py:450: UserWarning: X does not have valid feature names, but StandardScaler was fitted with feature names\n",
      "  warnings.warn(\n",
      "C:\\Users\\DELL\\anaconda3\\lib\\site-packages\\sklearn\\base.py:450: UserWarning: X does not have valid feature names, but StandardScaler was fitted with feature names\n",
      "  warnings.warn(\n"
     ]
    },
    {
     "name": "stdout",
     "output_type": "stream",
     "text": [
      "Victory [3.01888743e-05 6.74091355e-04 9.99295579e-01 1.40309935e-07]\n",
      "Victory [3.01888743e-05 6.74091355e-04 9.99295579e-01 1.40309935e-07]\n"
     ]
    },
    {
     "name": "stderr",
     "output_type": "stream",
     "text": [
      "C:\\Users\\DELL\\anaconda3\\lib\\site-packages\\sklearn\\base.py:450: UserWarning: X does not have valid feature names, but StandardScaler was fitted with feature names\n",
      "  warnings.warn(\n",
      "C:\\Users\\DELL\\anaconda3\\lib\\site-packages\\sklearn\\base.py:450: UserWarning: X does not have valid feature names, but StandardScaler was fitted with feature names\n",
      "  warnings.warn(\n",
      "C:\\Users\\DELL\\anaconda3\\lib\\site-packages\\sklearn\\base.py:450: UserWarning: X does not have valid feature names, but StandardScaler was fitted with feature names\n",
      "  warnings.warn(\n",
      "C:\\Users\\DELL\\anaconda3\\lib\\site-packages\\sklearn\\base.py:450: UserWarning: X does not have valid feature names, but StandardScaler was fitted with feature names\n",
      "  warnings.warn(\n"
     ]
    },
    {
     "name": "stdout",
     "output_type": "stream",
     "text": [
      "Victory [3.01888743e-05 6.74091355e-04 9.99295579e-01 1.40309935e-07]\n",
      "Victory [3.01888743e-05 6.74091355e-04 9.99295579e-01 1.40309935e-07]\n"
     ]
    },
    {
     "name": "stderr",
     "output_type": "stream",
     "text": [
      "C:\\Users\\DELL\\anaconda3\\lib\\site-packages\\sklearn\\base.py:450: UserWarning: X does not have valid feature names, but StandardScaler was fitted with feature names\n",
      "  warnings.warn(\n",
      "C:\\Users\\DELL\\anaconda3\\lib\\site-packages\\sklearn\\base.py:450: UserWarning: X does not have valid feature names, but StandardScaler was fitted with feature names\n",
      "  warnings.warn(\n",
      "C:\\Users\\DELL\\anaconda3\\lib\\site-packages\\sklearn\\base.py:450: UserWarning: X does not have valid feature names, but StandardScaler was fitted with feature names\n",
      "  warnings.warn(\n",
      "C:\\Users\\DELL\\anaconda3\\lib\\site-packages\\sklearn\\base.py:450: UserWarning: X does not have valid feature names, but StandardScaler was fitted with feature names\n",
      "  warnings.warn(\n"
     ]
    },
    {
     "name": "stdout",
     "output_type": "stream",
     "text": [
      "Victory [3.01888743e-05 6.74091355e-04 9.99295579e-01 1.40309935e-07]\n",
      "Victory [3.01888743e-05 6.74091355e-04 9.99295579e-01 1.40309935e-07]\n"
     ]
    },
    {
     "name": "stderr",
     "output_type": "stream",
     "text": [
      "C:\\Users\\DELL\\anaconda3\\lib\\site-packages\\sklearn\\base.py:450: UserWarning: X does not have valid feature names, but StandardScaler was fitted with feature names\n",
      "  warnings.warn(\n",
      "C:\\Users\\DELL\\anaconda3\\lib\\site-packages\\sklearn\\base.py:450: UserWarning: X does not have valid feature names, but StandardScaler was fitted with feature names\n",
      "  warnings.warn(\n",
      "C:\\Users\\DELL\\anaconda3\\lib\\site-packages\\sklearn\\base.py:450: UserWarning: X does not have valid feature names, but StandardScaler was fitted with feature names\n",
      "  warnings.warn(\n",
      "C:\\Users\\DELL\\anaconda3\\lib\\site-packages\\sklearn\\base.py:450: UserWarning: X does not have valid feature names, but StandardScaler was fitted with feature names\n",
      "  warnings.warn(\n"
     ]
    },
    {
     "name": "stdout",
     "output_type": "stream",
     "text": [
      "Victory [3.01888743e-05 6.74091355e-04 9.99295579e-01 1.40309935e-07]\n",
      "Victory [3.02073872e-05 6.12681737e-05 9.99908382e-01 1.41945374e-07]\n"
     ]
    },
    {
     "name": "stderr",
     "output_type": "stream",
     "text": [
      "C:\\Users\\DELL\\anaconda3\\lib\\site-packages\\sklearn\\base.py:450: UserWarning: X does not have valid feature names, but StandardScaler was fitted with feature names\n",
      "  warnings.warn(\n",
      "C:\\Users\\DELL\\anaconda3\\lib\\site-packages\\sklearn\\base.py:450: UserWarning: X does not have valid feature names, but StandardScaler was fitted with feature names\n",
      "  warnings.warn(\n",
      "C:\\Users\\DELL\\anaconda3\\lib\\site-packages\\sklearn\\base.py:450: UserWarning: X does not have valid feature names, but StandardScaler was fitted with feature names\n",
      "  warnings.warn(\n",
      "C:\\Users\\DELL\\anaconda3\\lib\\site-packages\\sklearn\\base.py:450: UserWarning: X does not have valid feature names, but StandardScaler was fitted with feature names\n",
      "  warnings.warn(\n"
     ]
    },
    {
     "name": "stdout",
     "output_type": "stream",
     "text": [
      "Victory [3.02075000e-05 5.75340157e-05 9.99912116e-01 1.42910305e-07]\n",
      "Victory [1.32767405e-03 4.22186402e-05 9.98629981e-01 1.25986113e-07]\n"
     ]
    },
    {
     "name": "stderr",
     "output_type": "stream",
     "text": [
      "C:\\Users\\DELL\\anaconda3\\lib\\site-packages\\sklearn\\base.py:450: UserWarning: X does not have valid feature names, but StandardScaler was fitted with feature names\n",
      "  warnings.warn(\n",
      "C:\\Users\\DELL\\anaconda3\\lib\\site-packages\\sklearn\\base.py:450: UserWarning: X does not have valid feature names, but StandardScaler was fitted with feature names\n",
      "  warnings.warn(\n",
      "C:\\Users\\DELL\\anaconda3\\lib\\site-packages\\sklearn\\base.py:450: UserWarning: X does not have valid feature names, but StandardScaler was fitted with feature names\n",
      "  warnings.warn(\n",
      "C:\\Users\\DELL\\anaconda3\\lib\\site-packages\\sklearn\\base.py:450: UserWarning: X does not have valid feature names, but StandardScaler was fitted with feature names\n",
      "  warnings.warn(\n"
     ]
    },
    {
     "name": "stdout",
     "output_type": "stream",
     "text": [
      "Victory [1.32017651e-03 3.45426583e-06 9.98676244e-01 1.25274654e-07]\n",
      "Victory [2.16801155e-04 4.57733939e-06 9.99778515e-01 1.06592694e-07]\n"
     ]
    },
    {
     "name": "stderr",
     "output_type": "stream",
     "text": [
      "C:\\Users\\DELL\\anaconda3\\lib\\site-packages\\sklearn\\base.py:450: UserWarning: X does not have valid feature names, but StandardScaler was fitted with feature names\n",
      "  warnings.warn(\n",
      "C:\\Users\\DELL\\anaconda3\\lib\\site-packages\\sklearn\\base.py:450: UserWarning: X does not have valid feature names, but StandardScaler was fitted with feature names\n",
      "  warnings.warn(\n",
      "C:\\Users\\DELL\\anaconda3\\lib\\site-packages\\sklearn\\base.py:450: UserWarning: X does not have valid feature names, but StandardScaler was fitted with feature names\n",
      "  warnings.warn(\n",
      "C:\\Users\\DELL\\anaconda3\\lib\\site-packages\\sklearn\\base.py:450: UserWarning: X does not have valid feature names, but StandardScaler was fitted with feature names\n",
      "  warnings.warn(\n"
     ]
    },
    {
     "name": "stdout",
     "output_type": "stream",
     "text": [
      "Victory [2.51880781e-04 5.42824173e-06 9.99742567e-01 1.23839982e-07]\n",
      "Victory [2.54194362e-04 3.44297254e-06 9.99742238e-01 1.25007884e-07]\n"
     ]
    },
    {
     "name": "stderr",
     "output_type": "stream",
     "text": [
      "C:\\Users\\DELL\\anaconda3\\lib\\site-packages\\sklearn\\base.py:450: UserWarning: X does not have valid feature names, but StandardScaler was fitted with feature names\n",
      "  warnings.warn(\n",
      "C:\\Users\\DELL\\anaconda3\\lib\\site-packages\\sklearn\\base.py:450: UserWarning: X does not have valid feature names, but StandardScaler was fitted with feature names\n",
      "  warnings.warn(\n",
      "C:\\Users\\DELL\\anaconda3\\lib\\site-packages\\sklearn\\base.py:450: UserWarning: X does not have valid feature names, but StandardScaler was fitted with feature names\n",
      "  warnings.warn(\n",
      "C:\\Users\\DELL\\anaconda3\\lib\\site-packages\\sklearn\\base.py:450: UserWarning: X does not have valid feature names, but StandardScaler was fitted with feature names\n",
      "  warnings.warn(\n"
     ]
    },
    {
     "name": "stdout",
     "output_type": "stream",
     "text": [
      "Victory [2.54194361e-04 3.44308199e-06 9.99742238e-01 1.25007884e-07]\n",
      "Victory [1.46325365e-04 4.14209294e-06 9.99849408e-01 1.25021284e-07]\n"
     ]
    },
    {
     "name": "stderr",
     "output_type": "stream",
     "text": [
      "C:\\Users\\DELL\\anaconda3\\lib\\site-packages\\sklearn\\base.py:450: UserWarning: X does not have valid feature names, but StandardScaler was fitted with feature names\n",
      "  warnings.warn(\n",
      "C:\\Users\\DELL\\anaconda3\\lib\\site-packages\\sklearn\\base.py:450: UserWarning: X does not have valid feature names, but StandardScaler was fitted with feature names\n",
      "  warnings.warn(\n",
      "C:\\Users\\DELL\\anaconda3\\lib\\site-packages\\sklearn\\base.py:450: UserWarning: X does not have valid feature names, but StandardScaler was fitted with feature names\n",
      "  warnings.warn(\n",
      "C:\\Users\\DELL\\anaconda3\\lib\\site-packages\\sklearn\\base.py:450: UserWarning: X does not have valid feature names, but StandardScaler was fitted with feature names\n",
      "  warnings.warn(\n"
     ]
    },
    {
     "name": "stdout",
     "output_type": "stream",
     "text": [
      "Victory [5.84002296e-06 4.64458485e-06 9.99989375e-01 1.40330387e-07]\n",
      "Victory [5.84002296e-06 4.64458485e-06 9.99989375e-01 1.40330387e-07]\n"
     ]
    },
    {
     "name": "stderr",
     "output_type": "stream",
     "text": [
      "C:\\Users\\DELL\\anaconda3\\lib\\site-packages\\sklearn\\base.py:450: UserWarning: X does not have valid feature names, but StandardScaler was fitted with feature names\n",
      "  warnings.warn(\n",
      "C:\\Users\\DELL\\anaconda3\\lib\\site-packages\\sklearn\\base.py:450: UserWarning: X does not have valid feature names, but StandardScaler was fitted with feature names\n",
      "  warnings.warn(\n",
      "C:\\Users\\DELL\\anaconda3\\lib\\site-packages\\sklearn\\base.py:450: UserWarning: X does not have valid feature names, but StandardScaler was fitted with feature names\n",
      "  warnings.warn(\n",
      "C:\\Users\\DELL\\anaconda3\\lib\\site-packages\\sklearn\\base.py:450: UserWarning: X does not have valid feature names, but StandardScaler was fitted with feature names\n",
      "  warnings.warn(\n"
     ]
    },
    {
     "name": "stdout",
     "output_type": "stream",
     "text": [
      "Victory [5.84002296e-06 4.64458485e-06 9.99989375e-01 1.40330387e-07]\n",
      "Victory [5.84000692e-06 7.38996209e-06 9.99986630e-01 1.40330001e-07]\n"
     ]
    },
    {
     "name": "stderr",
     "output_type": "stream",
     "text": [
      "C:\\Users\\DELL\\anaconda3\\lib\\site-packages\\sklearn\\base.py:450: UserWarning: X does not have valid feature names, but StandardScaler was fitted with feature names\n",
      "  warnings.warn(\n",
      "C:\\Users\\DELL\\anaconda3\\lib\\site-packages\\sklearn\\base.py:450: UserWarning: X does not have valid feature names, but StandardScaler was fitted with feature names\n",
      "  warnings.warn(\n",
      "C:\\Users\\DELL\\anaconda3\\lib\\site-packages\\sklearn\\base.py:450: UserWarning: X does not have valid feature names, but StandardScaler was fitted with feature names\n",
      "  warnings.warn(\n",
      "C:\\Users\\DELL\\anaconda3\\lib\\site-packages\\sklearn\\base.py:450: UserWarning: X does not have valid feature names, but StandardScaler was fitted with feature names\n",
      "  warnings.warn(\n"
     ]
    },
    {
     "name": "stdout",
     "output_type": "stream",
     "text": [
      "Victory [5.84000692e-06 7.38996209e-06 9.99986630e-01 1.40330001e-07]\n",
      "Victory [5.84002296e-06 4.64458485e-06 9.99989375e-01 1.40330387e-07]\n"
     ]
    },
    {
     "name": "stderr",
     "output_type": "stream",
     "text": [
      "C:\\Users\\DELL\\anaconda3\\lib\\site-packages\\sklearn\\base.py:450: UserWarning: X does not have valid feature names, but StandardScaler was fitted with feature names\n",
      "  warnings.warn(\n",
      "C:\\Users\\DELL\\anaconda3\\lib\\site-packages\\sklearn\\base.py:450: UserWarning: X does not have valid feature names, but StandardScaler was fitted with feature names\n",
      "  warnings.warn(\n",
      "C:\\Users\\DELL\\anaconda3\\lib\\site-packages\\sklearn\\base.py:450: UserWarning: X does not have valid feature names, but StandardScaler was fitted with feature names\n",
      "  warnings.warn(\n",
      "C:\\Users\\DELL\\anaconda3\\lib\\site-packages\\sklearn\\base.py:450: UserWarning: X does not have valid feature names, but StandardScaler was fitted with feature names\n",
      "  warnings.warn(\n"
     ]
    },
    {
     "name": "stdout",
     "output_type": "stream",
     "text": [
      "Victory [5.84001906e-06 5.31205283e-06 9.99988708e-01 1.40330293e-07]\n",
      "Victory [5.83972666e-06 5.53791474e-05 9.99938641e-01 1.40323267e-07]\n"
     ]
    },
    {
     "name": "stderr",
     "output_type": "stream",
     "text": [
      "C:\\Users\\DELL\\anaconda3\\lib\\site-packages\\sklearn\\base.py:450: UserWarning: X does not have valid feature names, but StandardScaler was fitted with feature names\n",
      "  warnings.warn(\n",
      "C:\\Users\\DELL\\anaconda3\\lib\\site-packages\\sklearn\\base.py:450: UserWarning: X does not have valid feature names, but StandardScaler was fitted with feature names\n",
      "  warnings.warn(\n",
      "C:\\Users\\DELL\\anaconda3\\lib\\site-packages\\sklearn\\base.py:450: UserWarning: X does not have valid feature names, but StandardScaler was fitted with feature names\n",
      "  warnings.warn(\n",
      "C:\\Users\\DELL\\anaconda3\\lib\\site-packages\\sklearn\\base.py:450: UserWarning: X does not have valid feature names, but StandardScaler was fitted with feature names\n",
      "  warnings.warn(\n"
     ]
    },
    {
     "name": "stdout",
     "output_type": "stream",
     "text": [
      "Victory [5.83972666e-06 5.53791474e-05 9.99938641e-01 1.40323267e-07]\n",
      "Victory [5.83972666e-06 5.53791474e-05 9.99938641e-01 1.40323267e-07]\n"
     ]
    },
    {
     "name": "stderr",
     "output_type": "stream",
     "text": [
      "C:\\Users\\DELL\\anaconda3\\lib\\site-packages\\sklearn\\base.py:450: UserWarning: X does not have valid feature names, but StandardScaler was fitted with feature names\n",
      "  warnings.warn(\n",
      "C:\\Users\\DELL\\anaconda3\\lib\\site-packages\\sklearn\\base.py:450: UserWarning: X does not have valid feature names, but StandardScaler was fitted with feature names\n",
      "  warnings.warn(\n",
      "C:\\Users\\DELL\\anaconda3\\lib\\site-packages\\sklearn\\base.py:450: UserWarning: X does not have valid feature names, but StandardScaler was fitted with feature names\n",
      "  warnings.warn(\n",
      "C:\\Users\\DELL\\anaconda3\\lib\\site-packages\\sklearn\\base.py:450: UserWarning: X does not have valid feature names, but StandardScaler was fitted with feature names\n",
      "  warnings.warn(\n"
     ]
    },
    {
     "name": "stdout",
     "output_type": "stream",
     "text": [
      "Victory [5.83989896e-06 2.58759551e-05 9.99968144e-01 1.40327407e-07]\n",
      "Victory [1.98493125e-05 1.62679552e-06 9.99978382e-01 1.42106107e-07]\n"
     ]
    },
    {
     "name": "stderr",
     "output_type": "stream",
     "text": [
      "C:\\Users\\DELL\\anaconda3\\lib\\site-packages\\sklearn\\base.py:450: UserWarning: X does not have valid feature names, but StandardScaler was fitted with feature names\n",
      "  warnings.warn(\n",
      "C:\\Users\\DELL\\anaconda3\\lib\\site-packages\\sklearn\\base.py:450: UserWarning: X does not have valid feature names, but StandardScaler was fitted with feature names\n",
      "  warnings.warn(\n",
      "C:\\Users\\DELL\\anaconda3\\lib\\site-packages\\sklearn\\base.py:450: UserWarning: X does not have valid feature names, but StandardScaler was fitted with feature names\n",
      "  warnings.warn(\n",
      "C:\\Users\\DELL\\anaconda3\\lib\\site-packages\\sklearn\\base.py:450: UserWarning: X does not have valid feature names, but StandardScaler was fitted with feature names\n",
      "  warnings.warn(\n"
     ]
    },
    {
     "name": "stdout",
     "output_type": "stream",
     "text": [
      "Victory [1.52975783e-05 4.34681644e-06 9.99980213e-01 1.42920037e-07]\n",
      "Victory [1.52975783e-05 4.34681644e-06 9.99980213e-01 1.42920037e-07]\n"
     ]
    },
    {
     "name": "stderr",
     "output_type": "stream",
     "text": [
      "C:\\Users\\DELL\\anaconda3\\lib\\site-packages\\sklearn\\base.py:450: UserWarning: X does not have valid feature names, but StandardScaler was fitted with feature names\n",
      "  warnings.warn(\n",
      "C:\\Users\\DELL\\anaconda3\\lib\\site-packages\\sklearn\\base.py:450: UserWarning: X does not have valid feature names, but StandardScaler was fitted with feature names\n",
      "  warnings.warn(\n",
      "C:\\Users\\DELL\\anaconda3\\lib\\site-packages\\sklearn\\base.py:450: UserWarning: X does not have valid feature names, but StandardScaler was fitted with feature names\n",
      "  warnings.warn(\n",
      "C:\\Users\\DELL\\anaconda3\\lib\\site-packages\\sklearn\\base.py:450: UserWarning: X does not have valid feature names, but StandardScaler was fitted with feature names\n",
      "  warnings.warn(\n"
     ]
    },
    {
     "name": "stdout",
     "output_type": "stream",
     "text": [
      "Victory [6.75623308e-04 3.86595785e-05 9.99285573e-01 1.43983254e-07]\n",
      "Happy [8.44279539e-01 1.54392996e-01 1.24353852e-03 8.39266746e-05]\n"
     ]
    },
    {
     "name": "stderr",
     "output_type": "stream",
     "text": [
      "C:\\Users\\DELL\\anaconda3\\lib\\site-packages\\sklearn\\base.py:450: UserWarning: X does not have valid feature names, but StandardScaler was fitted with feature names\n",
      "  warnings.warn(\n",
      "C:\\Users\\DELL\\anaconda3\\lib\\site-packages\\sklearn\\base.py:450: UserWarning: X does not have valid feature names, but StandardScaler was fitted with feature names\n",
      "  warnings.warn(\n",
      "C:\\Users\\DELL\\anaconda3\\lib\\site-packages\\sklearn\\base.py:450: UserWarning: X does not have valid feature names, but StandardScaler was fitted with feature names\n",
      "  warnings.warn(\n",
      "C:\\Users\\DELL\\anaconda3\\lib\\site-packages\\sklearn\\base.py:450: UserWarning: X does not have valid feature names, but StandardScaler was fitted with feature names\n",
      "  warnings.warn(\n"
     ]
    },
    {
     "name": "stdout",
     "output_type": "stream",
     "text": [
      "Victory [1.15833571e-03 4.26710242e-04 9.98412908e-01 2.04556627e-06]\n",
      "Victory [3.65664789e-03 1.72651897e-04 9.96169655e-01 1.04546662e-06]\n"
     ]
    },
    {
     "name": "stderr",
     "output_type": "stream",
     "text": [
      "C:\\Users\\DELL\\anaconda3\\lib\\site-packages\\sklearn\\base.py:450: UserWarning: X does not have valid feature names, but StandardScaler was fitted with feature names\n",
      "  warnings.warn(\n",
      "C:\\Users\\DELL\\anaconda3\\lib\\site-packages\\sklearn\\base.py:450: UserWarning: X does not have valid feature names, but StandardScaler was fitted with feature names\n",
      "  warnings.warn(\n",
      "C:\\Users\\DELL\\anaconda3\\lib\\site-packages\\sklearn\\base.py:450: UserWarning: X does not have valid feature names, but StandardScaler was fitted with feature names\n",
      "  warnings.warn(\n",
      "C:\\Users\\DELL\\anaconda3\\lib\\site-packages\\sklearn\\base.py:450: UserWarning: X does not have valid feature names, but StandardScaler was fitted with feature names\n",
      "  warnings.warn(\n"
     ]
    },
    {
     "name": "stdout",
     "output_type": "stream",
     "text": [
      "Victory [5.68876235e-03 1.50943573e-04 9.94159380e-01 9.14017074e-07]\n",
      "Happy [5.80880013e-01 2.88840840e-04 4.18830152e-01 9.94105249e-07]\n"
     ]
    },
    {
     "name": "stderr",
     "output_type": "stream",
     "text": [
      "C:\\Users\\DELL\\anaconda3\\lib\\site-packages\\sklearn\\base.py:450: UserWarning: X does not have valid feature names, but StandardScaler was fitted with feature names\n",
      "  warnings.warn(\n",
      "C:\\Users\\DELL\\anaconda3\\lib\\site-packages\\sklearn\\base.py:450: UserWarning: X does not have valid feature names, but StandardScaler was fitted with feature names\n",
      "  warnings.warn(\n",
      "C:\\Users\\DELL\\anaconda3\\lib\\site-packages\\sklearn\\base.py:450: UserWarning: X does not have valid feature names, but StandardScaler was fitted with feature names\n",
      "  warnings.warn(\n",
      "C:\\Users\\DELL\\anaconda3\\lib\\site-packages\\sklearn\\base.py:450: UserWarning: X does not have valid feature names, but StandardScaler was fitted with feature names\n",
      "  warnings.warn(\n"
     ]
    },
    {
     "name": "stdout",
     "output_type": "stream",
     "text": [
      "Happy [9.99587721e-01 3.98906651e-04 8.35584585e-06 5.01654506e-06]\n",
      "Happy [9.99844944e-01 1.43107351e-04 7.03860113e-06 4.90959626e-06]\n"
     ]
    },
    {
     "name": "stderr",
     "output_type": "stream",
     "text": [
      "C:\\Users\\DELL\\anaconda3\\lib\\site-packages\\sklearn\\base.py:450: UserWarning: X does not have valid feature names, but StandardScaler was fitted with feature names\n",
      "  warnings.warn(\n",
      "C:\\Users\\DELL\\anaconda3\\lib\\site-packages\\sklearn\\base.py:450: UserWarning: X does not have valid feature names, but StandardScaler was fitted with feature names\n",
      "  warnings.warn(\n",
      "C:\\Users\\DELL\\anaconda3\\lib\\site-packages\\sklearn\\base.py:450: UserWarning: X does not have valid feature names, but StandardScaler was fitted with feature names\n",
      "  warnings.warn(\n",
      "C:\\Users\\DELL\\anaconda3\\lib\\site-packages\\sklearn\\base.py:450: UserWarning: X does not have valid feature names, but StandardScaler was fitted with feature names\n",
      "  warnings.warn(\n"
     ]
    },
    {
     "name": "stdout",
     "output_type": "stream",
     "text": [
      "Happy [9.99844142e-01 1.43107236e-04 7.03859548e-06 5.71264711e-06]\n",
      "Happy [9.99856126e-01 1.31122606e-04 7.03867984e-06 5.71271558e-06]\n"
     ]
    },
    {
     "name": "stderr",
     "output_type": "stream",
     "text": [
      "C:\\Users\\DELL\\anaconda3\\lib\\site-packages\\sklearn\\base.py:450: UserWarning: X does not have valid feature names, but StandardScaler was fitted with feature names\n",
      "  warnings.warn(\n",
      "C:\\Users\\DELL\\anaconda3\\lib\\site-packages\\sklearn\\base.py:450: UserWarning: X does not have valid feature names, but StandardScaler was fitted with feature names\n",
      "  warnings.warn(\n",
      "C:\\Users\\DELL\\anaconda3\\lib\\site-packages\\sklearn\\base.py:450: UserWarning: X does not have valid feature names, but StandardScaler was fitted with feature names\n",
      "  warnings.warn(\n",
      "C:\\Users\\DELL\\anaconda3\\lib\\site-packages\\sklearn\\base.py:450: UserWarning: X does not have valid feature names, but StandardScaler was fitted with feature names\n",
      "  warnings.warn(\n"
     ]
    },
    {
     "name": "stdout",
     "output_type": "stream",
     "text": [
      "Happy [9.99806893e-01 1.83353406e-04 5.38609884e-06 4.36730561e-06]\n"
     ]
    },
    {
     "name": "stderr",
     "output_type": "stream",
     "text": [
      "C:\\Users\\DELL\\anaconda3\\lib\\site-packages\\sklearn\\base.py:450: UserWarning: X does not have valid feature names, but StandardScaler was fitted with feature names\n",
      "  warnings.warn(\n",
      "C:\\Users\\DELL\\anaconda3\\lib\\site-packages\\sklearn\\base.py:450: UserWarning: X does not have valid feature names, but StandardScaler was fitted with feature names\n",
      "  warnings.warn(\n",
      "C:\\Users\\DELL\\anaconda3\\lib\\site-packages\\sklearn\\base.py:450: UserWarning: X does not have valid feature names, but StandardScaler was fitted with feature names\n",
      "  warnings.warn(\n",
      "C:\\Users\\DELL\\anaconda3\\lib\\site-packages\\sklearn\\base.py:450: UserWarning: X does not have valid feature names, but StandardScaler was fitted with feature names\n",
      "  warnings.warn(\n"
     ]
    },
    {
     "name": "stdout",
     "output_type": "stream",
     "text": [
      "Happy [9.99983374e-01 1.46061535e-05 1.26328857e-06 7.57003401e-07]\n",
      "Happy [7.86391384e-01 1.14452054e-05 2.13596577e-01 5.93177051e-07]\n"
     ]
    },
    {
     "name": "stderr",
     "output_type": "stream",
     "text": [
      "C:\\Users\\DELL\\anaconda3\\lib\\site-packages\\sklearn\\base.py:450: UserWarning: X does not have valid feature names, but StandardScaler was fitted with feature names\n",
      "  warnings.warn(\n",
      "C:\\Users\\DELL\\anaconda3\\lib\\site-packages\\sklearn\\base.py:450: UserWarning: X does not have valid feature names, but StandardScaler was fitted with feature names\n",
      "  warnings.warn(\n",
      "C:\\Users\\DELL\\anaconda3\\lib\\site-packages\\sklearn\\base.py:450: UserWarning: X does not have valid feature names, but StandardScaler was fitted with feature names\n",
      "  warnings.warn(\n",
      "C:\\Users\\DELL\\anaconda3\\lib\\site-packages\\sklearn\\base.py:450: UserWarning: X does not have valid feature names, but StandardScaler was fitted with feature names\n",
      "  warnings.warn(\n"
     ]
    },
    {
     "name": "stdout",
     "output_type": "stream",
     "text": [
      "Happy [7.81148325e-01 7.70988053e-05 2.18773985e-01 5.91200536e-07]\n",
      "Happy [9.99837270e-01 1.58387864e-04 3.13968816e-06 1.20218026e-06]\n"
     ]
    },
    {
     "name": "stderr",
     "output_type": "stream",
     "text": [
      "C:\\Users\\DELL\\anaconda3\\lib\\site-packages\\sklearn\\base.py:450: UserWarning: X does not have valid feature names, but StandardScaler was fitted with feature names\n",
      "  warnings.warn(\n",
      "C:\\Users\\DELL\\anaconda3\\lib\\site-packages\\sklearn\\base.py:450: UserWarning: X does not have valid feature names, but StandardScaler was fitted with feature names\n",
      "  warnings.warn(\n",
      "C:\\Users\\DELL\\anaconda3\\lib\\site-packages\\sklearn\\base.py:450: UserWarning: X does not have valid feature names, but StandardScaler was fitted with feature names\n",
      "  warnings.warn(\n",
      "C:\\Users\\DELL\\anaconda3\\lib\\site-packages\\sklearn\\base.py:450: UserWarning: X does not have valid feature names, but StandardScaler was fitted with feature names\n",
      "  warnings.warn(\n"
     ]
    },
    {
     "name": "stdout",
     "output_type": "stream",
     "text": [
      "Happy [9.31543434e-01 6.83798521e-02 4.80638978e-05 2.86501937e-05]\n",
      "Happy [9.45986220e-01 5.38706020e-02 8.44822970e-05 5.86959302e-05]\n"
     ]
    },
    {
     "name": "stderr",
     "output_type": "stream",
     "text": [
      "C:\\Users\\DELL\\anaconda3\\lib\\site-packages\\sklearn\\base.py:450: UserWarning: X does not have valid feature names, but StandardScaler was fitted with feature names\n",
      "  warnings.warn(\n",
      "C:\\Users\\DELL\\anaconda3\\lib\\site-packages\\sklearn\\base.py:450: UserWarning: X does not have valid feature names, but StandardScaler was fitted with feature names\n",
      "  warnings.warn(\n",
      "C:\\Users\\DELL\\anaconda3\\lib\\site-packages\\sklearn\\base.py:450: UserWarning: X does not have valid feature names, but StandardScaler was fitted with feature names\n",
      "  warnings.warn(\n",
      "C:\\Users\\DELL\\anaconda3\\lib\\site-packages\\sklearn\\base.py:450: UserWarning: X does not have valid feature names, but StandardScaler was fitted with feature names\n",
      "  warnings.warn(\n"
     ]
    },
    {
     "name": "stdout",
     "output_type": "stream",
     "text": [
      "Sad [5.58368414e-02 9.43740417e-01 2.48349372e-04 1.74391863e-04]\n",
      "Sad [0.20772771 0.79031463 0.00115592 0.00080174]\n"
     ]
    },
    {
     "name": "stderr",
     "output_type": "stream",
     "text": [
      "C:\\Users\\DELL\\anaconda3\\lib\\site-packages\\sklearn\\base.py:450: UserWarning: X does not have valid feature names, but StandardScaler was fitted with feature names\n",
      "  warnings.warn(\n",
      "C:\\Users\\DELL\\anaconda3\\lib\\site-packages\\sklearn\\base.py:450: UserWarning: X does not have valid feature names, but StandardScaler was fitted with feature names\n",
      "  warnings.warn(\n",
      "C:\\Users\\DELL\\anaconda3\\lib\\site-packages\\sklearn\\base.py:450: UserWarning: X does not have valid feature names, but StandardScaler was fitted with feature names\n",
      "  warnings.warn(\n",
      "C:\\Users\\DELL\\anaconda3\\lib\\site-packages\\sklearn\\base.py:450: UserWarning: X does not have valid feature names, but StandardScaler was fitted with feature names\n",
      "  warnings.warn(\n"
     ]
    },
    {
     "name": "stdout",
     "output_type": "stream",
     "text": [
      "Sad [0.2373345  0.76059946 0.00129444 0.0007716 ]\n",
      "Sad [0.22549701 0.77221227 0.00150804 0.00078268]\n"
     ]
    },
    {
     "name": "stderr",
     "output_type": "stream",
     "text": [
      "C:\\Users\\DELL\\anaconda3\\lib\\site-packages\\sklearn\\base.py:450: UserWarning: X does not have valid feature names, but StandardScaler was fitted with feature names\n",
      "  warnings.warn(\n",
      "C:\\Users\\DELL\\anaconda3\\lib\\site-packages\\sklearn\\base.py:450: UserWarning: X does not have valid feature names, but StandardScaler was fitted with feature names\n",
      "  warnings.warn(\n",
      "C:\\Users\\DELL\\anaconda3\\lib\\site-packages\\sklearn\\base.py:450: UserWarning: X does not have valid feature names, but StandardScaler was fitted with feature names\n",
      "  warnings.warn(\n",
      "C:\\Users\\DELL\\anaconda3\\lib\\site-packages\\sklearn\\base.py:450: UserWarning: X does not have valid feature names, but StandardScaler was fitted with feature names\n",
      "  warnings.warn(\n"
     ]
    },
    {
     "name": "stdout",
     "output_type": "stream",
     "text": [
      "Sad [0.39707875 0.60113802 0.00117395 0.00060929]\n",
      "Happy [9.89939724e-01 9.95429954e-03 6.97668972e-05 3.62093721e-05]\n"
     ]
    },
    {
     "name": "stderr",
     "output_type": "stream",
     "text": [
      "C:\\Users\\DELL\\anaconda3\\lib\\site-packages\\sklearn\\base.py:450: UserWarning: X does not have valid feature names, but StandardScaler was fitted with feature names\n",
      "  warnings.warn(\n",
      "C:\\Users\\DELL\\anaconda3\\lib\\site-packages\\sklearn\\base.py:450: UserWarning: X does not have valid feature names, but StandardScaler was fitted with feature names\n",
      "  warnings.warn(\n",
      "C:\\Users\\DELL\\anaconda3\\lib\\site-packages\\sklearn\\base.py:450: UserWarning: X does not have valid feature names, but StandardScaler was fitted with feature names\n",
      "  warnings.warn(\n",
      "C:\\Users\\DELL\\anaconda3\\lib\\site-packages\\sklearn\\base.py:450: UserWarning: X does not have valid feature names, but StandardScaler was fitted with feature names\n",
      "  warnings.warn(\n"
     ]
    },
    {
     "name": "stdout",
     "output_type": "stream",
     "text": [
      "Happy [9.99199777e-01 7.53613570e-04 3.06841440e-05 1.59252257e-05]\n",
      "Victory [1.85524250e-01 1.39925349e-04 8.14332867e-01 2.95687719e-06]\n"
     ]
    },
    {
     "name": "stderr",
     "output_type": "stream",
     "text": [
      "C:\\Users\\DELL\\anaconda3\\lib\\site-packages\\sklearn\\base.py:450: UserWarning: X does not have valid feature names, but StandardScaler was fitted with feature names\n",
      "  warnings.warn(\n",
      "C:\\Users\\DELL\\anaconda3\\lib\\site-packages\\sklearn\\base.py:450: UserWarning: X does not have valid feature names, but StandardScaler was fitted with feature names\n",
      "  warnings.warn(\n",
      "C:\\Users\\DELL\\anaconda3\\lib\\site-packages\\sklearn\\base.py:450: UserWarning: X does not have valid feature names, but StandardScaler was fitted with feature names\n",
      "  warnings.warn(\n",
      "C:\\Users\\DELL\\anaconda3\\lib\\site-packages\\sklearn\\base.py:450: UserWarning: X does not have valid feature names, but StandardScaler was fitted with feature names\n",
      "  warnings.warn(\n"
     ]
    },
    {
     "name": "stdout",
     "output_type": "stream",
     "text": [
      "Victory [2.15897417e-01 1.89083888e-04 7.83911096e-01 2.40393426e-06]\n",
      "Victory [2.15935469e-01 1.28644070e-05 7.84049262e-01 2.40435796e-06]\n"
     ]
    },
    {
     "name": "stderr",
     "output_type": "stream",
     "text": [
      "C:\\Users\\DELL\\anaconda3\\lib\\site-packages\\sklearn\\base.py:450: UserWarning: X does not have valid feature names, but StandardScaler was fitted with feature names\n",
      "  warnings.warn(\n",
      "C:\\Users\\DELL\\anaconda3\\lib\\site-packages\\sklearn\\base.py:450: UserWarning: X does not have valid feature names, but StandardScaler was fitted with feature names\n",
      "  warnings.warn(\n",
      "C:\\Users\\DELL\\anaconda3\\lib\\site-packages\\sklearn\\base.py:450: UserWarning: X does not have valid feature names, but StandardScaler was fitted with feature names\n",
      "  warnings.warn(\n",
      "C:\\Users\\DELL\\anaconda3\\lib\\site-packages\\sklearn\\base.py:450: UserWarning: X does not have valid feature names, but StandardScaler was fitted with feature names\n",
      "  warnings.warn(\n"
     ]
    },
    {
     "name": "stdout",
     "output_type": "stream",
     "text": [
      "Victory [2.15934753e-01 1.61799565e-05 7.84046663e-01 2.40434999e-06]\n",
      "Victory [3.46507559e-01 7.86417761e-06 6.53482580e-01 1.99738347e-06]\n"
     ]
    },
    {
     "name": "stderr",
     "output_type": "stream",
     "text": [
      "C:\\Users\\DELL\\anaconda3\\lib\\site-packages\\sklearn\\base.py:450: UserWarning: X does not have valid feature names, but StandardScaler was fitted with feature names\n",
      "  warnings.warn(\n",
      "C:\\Users\\DELL\\anaconda3\\lib\\site-packages\\sklearn\\base.py:450: UserWarning: X does not have valid feature names, but StandardScaler was fitted with feature names\n",
      "  warnings.warn(\n",
      "C:\\Users\\DELL\\anaconda3\\lib\\site-packages\\sklearn\\base.py:450: UserWarning: X does not have valid feature names, but StandardScaler was fitted with feature names\n",
      "  warnings.warn(\n",
      "C:\\Users\\DELL\\anaconda3\\lib\\site-packages\\sklearn\\base.py:450: UserWarning: X does not have valid feature names, but StandardScaler was fitted with feature names\n",
      "  warnings.warn(\n",
      "C:\\Users\\DELL\\anaconda3\\lib\\site-packages\\sklearn\\base.py:450: UserWarning: X does not have valid feature names, but StandardScaler was fitted with feature names\n",
      "  warnings.warn(\n",
      "C:\\Users\\DELL\\anaconda3\\lib\\site-packages\\sklearn\\base.py:450: UserWarning: X does not have valid feature names, but StandardScaler was fitted with feature names\n",
      "  warnings.warn(\n"
     ]
    },
    {
     "name": "stdout",
     "output_type": "stream",
     "text": [
      "Victory [1.79662066e-01 1.19685677e-05 8.20323503e-01 2.46291285e-06]\n",
      "Victory [1.59120645e-01 2.25758421e-05 8.40854257e-01 2.52177537e-06]\n",
      "Victory [1.34814149e-01 7.32776950e-05 8.65110398e-01 2.17558881e-06]\n"
     ]
    },
    {
     "name": "stderr",
     "output_type": "stream",
     "text": [
      "C:\\Users\\DELL\\anaconda3\\lib\\site-packages\\sklearn\\base.py:450: UserWarning: X does not have valid feature names, but StandardScaler was fitted with feature names\n",
      "  warnings.warn(\n",
      "C:\\Users\\DELL\\anaconda3\\lib\\site-packages\\sklearn\\base.py:450: UserWarning: X does not have valid feature names, but StandardScaler was fitted with feature names\n",
      "  warnings.warn(\n",
      "C:\\Users\\DELL\\anaconda3\\lib\\site-packages\\sklearn\\base.py:450: UserWarning: X does not have valid feature names, but StandardScaler was fitted with feature names\n",
      "  warnings.warn(\n",
      "C:\\Users\\DELL\\anaconda3\\lib\\site-packages\\sklearn\\base.py:450: UserWarning: X does not have valid feature names, but StandardScaler was fitted with feature names\n",
      "  warnings.warn(\n"
     ]
    },
    {
     "name": "stdout",
     "output_type": "stream",
     "text": [
      "Victory [1.15145296e-01 8.45788126e-05 8.84767540e-01 2.58511336e-06]\n",
      "Victory [1.31354112e-01 8.30417424e-05 8.68560308e-01 2.53813350e-06]\n"
     ]
    },
    {
     "name": "stderr",
     "output_type": "stream",
     "text": [
      "C:\\Users\\DELL\\anaconda3\\lib\\site-packages\\sklearn\\base.py:450: UserWarning: X does not have valid feature names, but StandardScaler was fitted with feature names\n",
      "  warnings.warn(\n",
      "C:\\Users\\DELL\\anaconda3\\lib\\site-packages\\sklearn\\base.py:450: UserWarning: X does not have valid feature names, but StandardScaler was fitted with feature names\n",
      "  warnings.warn(\n",
      "C:\\Users\\DELL\\anaconda3\\lib\\site-packages\\sklearn\\base.py:450: UserWarning: X does not have valid feature names, but StandardScaler was fitted with feature names\n",
      "  warnings.warn(\n",
      "C:\\Users\\DELL\\anaconda3\\lib\\site-packages\\sklearn\\base.py:450: UserWarning: X does not have valid feature names, but StandardScaler was fitted with feature names\n",
      "  warnings.warn(\n"
     ]
    },
    {
     "name": "stdout",
     "output_type": "stream",
     "text": [
      "Victory [1.15184649e-01 9.83356707e-05 8.84714429e-01 2.58599687e-06]\n",
      "Victory [1.01422687e-01 9.98651331e-05 8.98474822e-01 2.62621813e-06]\n"
     ]
    },
    {
     "name": "stderr",
     "output_type": "stream",
     "text": [
      "C:\\Users\\DELL\\anaconda3\\lib\\site-packages\\sklearn\\base.py:450: UserWarning: X does not have valid feature names, but StandardScaler was fitted with feature names\n",
      "  warnings.warn(\n",
      "C:\\Users\\DELL\\anaconda3\\lib\\site-packages\\sklearn\\base.py:450: UserWarning: X does not have valid feature names, but StandardScaler was fitted with feature names\n",
      "  warnings.warn(\n",
      "C:\\Users\\DELL\\anaconda3\\lib\\site-packages\\sklearn\\base.py:450: UserWarning: X does not have valid feature names, but StandardScaler was fitted with feature names\n",
      "  warnings.warn(\n",
      "C:\\Users\\DELL\\anaconda3\\lib\\site-packages\\sklearn\\base.py:450: UserWarning: X does not have valid feature names, but StandardScaler was fitted with feature names\n",
      "  warnings.warn(\n",
      "C:\\Users\\DELL\\anaconda3\\lib\\site-packages\\sklearn\\base.py:450: UserWarning: X does not have valid feature names, but StandardScaler was fitted with feature names\n",
      "  warnings.warn(\n"
     ]
    },
    {
     "name": "stdout",
     "output_type": "stream",
     "text": [
      "Victory [8.80148211e-02 1.03315308e-04 9.11879147e-01 2.71694961e-06]\n",
      "Victory [2.33722711e-02 1.10638415e-04 9.76514181e-01 2.90953010e-06]\n"
     ]
    },
    {
     "name": "stderr",
     "output_type": "stream",
     "text": [
      "C:\\Users\\DELL\\anaconda3\\lib\\site-packages\\sklearn\\base.py:450: UserWarning: X does not have valid feature names, but StandardScaler was fitted with feature names\n",
      "  warnings.warn(\n",
      "C:\\Users\\DELL\\anaconda3\\lib\\site-packages\\sklearn\\base.py:450: UserWarning: X does not have valid feature names, but StandardScaler was fitted with feature names\n",
      "  warnings.warn(\n",
      "C:\\Users\\DELL\\anaconda3\\lib\\site-packages\\sklearn\\base.py:450: UserWarning: X does not have valid feature names, but StandardScaler was fitted with feature names\n",
      "  warnings.warn(\n",
      "C:\\Users\\DELL\\anaconda3\\lib\\site-packages\\sklearn\\base.py:450: UserWarning: X does not have valid feature names, but StandardScaler was fitted with feature names\n",
      "  warnings.warn(\n",
      "C:\\Users\\DELL\\anaconda3\\lib\\site-packages\\sklearn\\base.py:450: UserWarning: X does not have valid feature names, but StandardScaler was fitted with feature names\n",
      "  warnings.warn(\n"
     ]
    },
    {
     "name": "stdout",
     "output_type": "stream",
     "text": [
      "Victory [1.29611880e-02 1.11817846e-04 9.86924054e-01 2.94054638e-06]\n",
      "Victory [2.33719095e-02 1.26111310e-04 9.76499070e-01 2.90948508e-06]\n",
      "Victory [1.58261245e-02 9.41498692e-05 9.84077554e-01 2.17211002e-06]\n"
     ]
    },
    {
     "name": "stderr",
     "output_type": "stream",
     "text": [
      "C:\\Users\\DELL\\anaconda3\\lib\\site-packages\\sklearn\\base.py:450: UserWarning: X does not have valid feature names, but StandardScaler was fitted with feature names\n",
      "  warnings.warn(\n",
      "C:\\Users\\DELL\\anaconda3\\lib\\site-packages\\sklearn\\base.py:450: UserWarning: X does not have valid feature names, but StandardScaler was fitted with feature names\n",
      "  warnings.warn(\n",
      "C:\\Users\\DELL\\anaconda3\\lib\\site-packages\\sklearn\\base.py:450: UserWarning: X does not have valid feature names, but StandardScaler was fitted with feature names\n",
      "  warnings.warn(\n",
      "C:\\Users\\DELL\\anaconda3\\lib\\site-packages\\sklearn\\base.py:450: UserWarning: X does not have valid feature names, but StandardScaler was fitted with feature names\n",
      "  warnings.warn(\n"
     ]
    },
    {
     "name": "stdout",
     "output_type": "stream",
     "text": [
      "Victory [1.34994795e-02 7.98944963e-05 9.86418783e-01 1.84322758e-06]\n",
      "Victory [1.35311179e-02 8.00817429e-05 9.86386953e-01 1.84754751e-06]\n"
     ]
    },
    {
     "name": "stderr",
     "output_type": "stream",
     "text": [
      "C:\\Users\\DELL\\anaconda3\\lib\\site-packages\\sklearn\\base.py:450: UserWarning: X does not have valid feature names, but StandardScaler was fitted with feature names\n",
      "  warnings.warn(\n",
      "C:\\Users\\DELL\\anaconda3\\lib\\site-packages\\sklearn\\base.py:450: UserWarning: X does not have valid feature names, but StandardScaler was fitted with feature names\n",
      "  warnings.warn(\n",
      "C:\\Users\\DELL\\anaconda3\\lib\\site-packages\\sklearn\\base.py:450: UserWarning: X does not have valid feature names, but StandardScaler was fitted with feature names\n",
      "  warnings.warn(\n",
      "C:\\Users\\DELL\\anaconda3\\lib\\site-packages\\sklearn\\base.py:450: UserWarning: X does not have valid feature names, but StandardScaler was fitted with feature names\n",
      "  warnings.warn(\n"
     ]
    },
    {
     "name": "stdout",
     "output_type": "stream",
     "text": [
      "Victory [1.35263057e-02 3.94807514e-05 9.86432367e-01 1.84689045e-06]\n",
      "Victory [1.34941310e-02 7.98628417e-05 9.86424164e-01 1.84249729e-06]\n"
     ]
    },
    {
     "name": "stderr",
     "output_type": "stream",
     "text": [
      "C:\\Users\\DELL\\anaconda3\\lib\\site-packages\\sklearn\\base.py:450: UserWarning: X does not have valid feature names, but StandardScaler was fitted with feature names\n",
      "  warnings.warn(\n",
      "C:\\Users\\DELL\\anaconda3\\lib\\site-packages\\sklearn\\base.py:450: UserWarning: X does not have valid feature names, but StandardScaler was fitted with feature names\n",
      "  warnings.warn(\n",
      "C:\\Users\\DELL\\anaconda3\\lib\\site-packages\\sklearn\\base.py:450: UserWarning: X does not have valid feature names, but StandardScaler was fitted with feature names\n",
      "  warnings.warn(\n",
      "C:\\Users\\DELL\\anaconda3\\lib\\site-packages\\sklearn\\base.py:450: UserWarning: X does not have valid feature names, but StandardScaler was fitted with feature names\n",
      "  warnings.warn(\n"
     ]
    },
    {
     "name": "stdout",
     "output_type": "stream",
     "text": [
      "Victory [9.87557153e-03 6.87000485e-05 9.90054143e-01 1.58496305e-06]\n",
      "Victory [1.14825505e-02 6.87515038e-05 9.88447112e-01 1.58615016e-06]\n"
     ]
    },
    {
     "name": "stderr",
     "output_type": "stream",
     "text": [
      "C:\\Users\\DELL\\anaconda3\\lib\\site-packages\\sklearn\\base.py:450: UserWarning: X does not have valid feature names, but StandardScaler was fitted with feature names\n",
      "  warnings.warn(\n",
      "C:\\Users\\DELL\\anaconda3\\lib\\site-packages\\sklearn\\base.py:450: UserWarning: X does not have valid feature names, but StandardScaler was fitted with feature names\n",
      "  warnings.warn(\n",
      "C:\\Users\\DELL\\anaconda3\\lib\\site-packages\\sklearn\\base.py:450: UserWarning: X does not have valid feature names, but StandardScaler was fitted with feature names\n",
      "  warnings.warn(\n",
      "C:\\Users\\DELL\\anaconda3\\lib\\site-packages\\sklearn\\base.py:450: UserWarning: X does not have valid feature names, but StandardScaler was fitted with feature names\n",
      "  warnings.warn(\n"
     ]
    },
    {
     "name": "stdout",
     "output_type": "stream",
     "text": [
      "Victory [1.17836539e-02 6.16705286e-05 9.88153096e-01 1.57951720e-06]\n",
      "Victory [2.43189494e-02 8.21803070e-05 9.75596765e-01 2.10481751e-06]\n"
     ]
    },
    {
     "name": "stderr",
     "output_type": "stream",
     "text": [
      "C:\\Users\\DELL\\anaconda3\\lib\\site-packages\\sklearn\\base.py:450: UserWarning: X does not have valid feature names, but StandardScaler was fitted with feature names\n",
      "  warnings.warn(\n",
      "C:\\Users\\DELL\\anaconda3\\lib\\site-packages\\sklearn\\base.py:450: UserWarning: X does not have valid feature names, but StandardScaler was fitted with feature names\n",
      "  warnings.warn(\n",
      "C:\\Users\\DELL\\anaconda3\\lib\\site-packages\\sklearn\\base.py:450: UserWarning: X does not have valid feature names, but StandardScaler was fitted with feature names\n",
      "  warnings.warn(\n",
      "C:\\Users\\DELL\\anaconda3\\lib\\site-packages\\sklearn\\base.py:450: UserWarning: X does not have valid feature names, but StandardScaler was fitted with feature names\n",
      "  warnings.warn(\n"
     ]
    },
    {
     "name": "stdout",
     "output_type": "stream",
     "text": [
      "Victory [3.76219896e-02 1.26610690e-04 9.62249324e-01 2.07602085e-06]\n",
      "Victory [3.73989306e-02 1.89158032e-04 9.62410124e-01 1.78714238e-06]\n"
     ]
    },
    {
     "name": "stderr",
     "output_type": "stream",
     "text": [
      "C:\\Users\\DELL\\anaconda3\\lib\\site-packages\\sklearn\\base.py:450: UserWarning: X does not have valid feature names, but StandardScaler was fitted with feature names\n",
      "  warnings.warn(\n",
      "C:\\Users\\DELL\\anaconda3\\lib\\site-packages\\sklearn\\base.py:450: UserWarning: X does not have valid feature names, but StandardScaler was fitted with feature names\n",
      "  warnings.warn(\n",
      "C:\\Users\\DELL\\anaconda3\\lib\\site-packages\\sklearn\\base.py:450: UserWarning: X does not have valid feature names, but StandardScaler was fitted with feature names\n",
      "  warnings.warn(\n",
      "C:\\Users\\DELL\\anaconda3\\lib\\site-packages\\sklearn\\base.py:450: UserWarning: X does not have valid feature names, but StandardScaler was fitted with feature names\n",
      "  warnings.warn(\n"
     ]
    },
    {
     "name": "stdout",
     "output_type": "stream",
     "text": [
      "Victory [3.23496281e-02 1.90101640e-04 9.67458474e-01 1.79605747e-06]\n",
      "Victory [3.23539013e-02 5.80345537e-05 9.67586268e-01 1.79629471e-06]\n"
     ]
    },
    {
     "name": "stderr",
     "output_type": "stream",
     "text": [
      "C:\\Users\\DELL\\anaconda3\\lib\\site-packages\\sklearn\\base.py:450: UserWarning: X does not have valid feature names, but StandardScaler was fitted with feature names\n",
      "  warnings.warn(\n",
      "C:\\Users\\DELL\\anaconda3\\lib\\site-packages\\sklearn\\base.py:450: UserWarning: X does not have valid feature names, but StandardScaler was fitted with feature names\n",
      "  warnings.warn(\n",
      "C:\\Users\\DELL\\anaconda3\\lib\\site-packages\\sklearn\\base.py:450: UserWarning: X does not have valid feature names, but StandardScaler was fitted with feature names\n",
      "  warnings.warn(\n",
      "C:\\Users\\DELL\\anaconda3\\lib\\site-packages\\sklearn\\base.py:450: UserWarning: X does not have valid feature names, but StandardScaler was fitted with feature names\n",
      "  warnings.warn(\n"
     ]
    },
    {
     "name": "stdout",
     "output_type": "stream",
     "text": [
      "Victory [3.23541983e-02 1.90128496e-04 9.67453877e-01 1.79631120e-06]\n",
      "Victory [2.43359198e-02 2.57274170e-05 9.75637011e-01 1.34213261e-06]\n"
     ]
    },
    {
     "name": "stderr",
     "output_type": "stream",
     "text": [
      "C:\\Users\\DELL\\anaconda3\\lib\\site-packages\\sklearn\\base.py:450: UserWarning: X does not have valid feature names, but StandardScaler was fitted with feature names\n",
      "  warnings.warn(\n",
      "C:\\Users\\DELL\\anaconda3\\lib\\site-packages\\sklearn\\base.py:450: UserWarning: X does not have valid feature names, but StandardScaler was fitted with feature names\n",
      "  warnings.warn(\n",
      "C:\\Users\\DELL\\anaconda3\\lib\\site-packages\\sklearn\\base.py:450: UserWarning: X does not have valid feature names, but StandardScaler was fitted with feature names\n",
      "  warnings.warn(\n",
      "C:\\Users\\DELL\\anaconda3\\lib\\site-packages\\sklearn\\base.py:450: UserWarning: X does not have valid feature names, but StandardScaler was fitted with feature names\n",
      "  warnings.warn(\n",
      "C:\\Users\\DELL\\anaconda3\\lib\\site-packages\\sklearn\\base.py:450: UserWarning: X does not have valid feature names, but StandardScaler was fitted with feature names\n",
      "  warnings.warn(\n"
     ]
    },
    {
     "name": "stdout",
     "output_type": "stream",
     "text": [
      "Victory [2.43359198e-02 2.57274170e-05 9.75637011e-01 1.34213261e-06]\n",
      "Victory [2.43359198e-02 2.57274170e-05 9.75637011e-01 1.34213261e-06]\n"
     ]
    },
    {
     "name": "stderr",
     "output_type": "stream",
     "text": [
      "C:\\Users\\DELL\\anaconda3\\lib\\site-packages\\sklearn\\base.py:450: UserWarning: X does not have valid feature names, but StandardScaler was fitted with feature names\n",
      "  warnings.warn(\n",
      "C:\\Users\\DELL\\anaconda3\\lib\\site-packages\\sklearn\\base.py:450: UserWarning: X does not have valid feature names, but StandardScaler was fitted with feature names\n",
      "  warnings.warn(\n",
      "C:\\Users\\DELL\\anaconda3\\lib\\site-packages\\sklearn\\base.py:450: UserWarning: X does not have valid feature names, but StandardScaler was fitted with feature names\n",
      "  warnings.warn(\n"
     ]
    },
    {
     "name": "stdout",
     "output_type": "stream",
     "text": [
      "Victory [2.43359198e-02 2.57268282e-05 9.75637011e-01 1.34213261e-06]\n",
      "Victory [2.42036872e-02 3.43177713e-05 9.75760656e-01 1.33912093e-06]\n"
     ]
    },
    {
     "name": "stderr",
     "output_type": "stream",
     "text": [
      "C:\\Users\\DELL\\anaconda3\\lib\\site-packages\\sklearn\\base.py:450: UserWarning: X does not have valid feature names, but StandardScaler was fitted with feature names\n",
      "  warnings.warn(\n",
      "C:\\Users\\DELL\\anaconda3\\lib\\site-packages\\sklearn\\base.py:450: UserWarning: X does not have valid feature names, but StandardScaler was fitted with feature names\n",
      "  warnings.warn(\n",
      "C:\\Users\\DELL\\anaconda3\\lib\\site-packages\\sklearn\\base.py:450: UserWarning: X does not have valid feature names, but StandardScaler was fitted with feature names\n",
      "  warnings.warn(\n",
      "C:\\Users\\DELL\\anaconda3\\lib\\site-packages\\sklearn\\base.py:450: UserWarning: X does not have valid feature names, but StandardScaler was fitted with feature names\n",
      "  warnings.warn(\n",
      "C:\\Users\\DELL\\anaconda3\\lib\\site-packages\\sklearn\\base.py:450: UserWarning: X does not have valid feature names, but StandardScaler was fitted with feature names\n",
      "  warnings.warn(\n"
     ]
    },
    {
     "name": "stdout",
     "output_type": "stream",
     "text": [
      "Victory [1.83363269e-02 3.02066305e-05 9.81632288e-01 1.17869925e-06]\n",
      "Victory [1.83371594e-02 2.93433038e-05 9.81632319e-01 1.17875277e-06]\n"
     ]
    },
    {
     "name": "stderr",
     "output_type": "stream",
     "text": [
      "C:\\Users\\DELL\\anaconda3\\lib\\site-packages\\sklearn\\base.py:450: UserWarning: X does not have valid feature names, but StandardScaler was fitted with feature names\n",
      "  warnings.warn(\n",
      "C:\\Users\\DELL\\anaconda3\\lib\\site-packages\\sklearn\\base.py:450: UserWarning: X does not have valid feature names, but StandardScaler was fitted with feature names\n",
      "  warnings.warn(\n",
      "C:\\Users\\DELL\\anaconda3\\lib\\site-packages\\sklearn\\base.py:450: UserWarning: X does not have valid feature names, but StandardScaler was fitted with feature names\n",
      "  warnings.warn(\n",
      "C:\\Users\\DELL\\anaconda3\\lib\\site-packages\\sklearn\\base.py:450: UserWarning: X does not have valid feature names, but StandardScaler was fitted with feature names\n",
      "  warnings.warn(\n"
     ]
    },
    {
     "name": "stdout",
     "output_type": "stream",
     "text": [
      "Victory [1.83363427e-02 2.93419969e-05 9.81633137e-01 1.17870027e-06]\n",
      "Victory [1.80219136e-02 2.88388443e-05 9.81948089e-01 1.15848807e-06]\n"
     ]
    },
    {
     "name": "stderr",
     "output_type": "stream",
     "text": [
      "C:\\Users\\DELL\\anaconda3\\lib\\site-packages\\sklearn\\base.py:450: UserWarning: X does not have valid feature names, but StandardScaler was fitted with feature names\n",
      "  warnings.warn(\n",
      "C:\\Users\\DELL\\anaconda3\\lib\\site-packages\\sklearn\\base.py:450: UserWarning: X does not have valid feature names, but StandardScaler was fitted with feature names\n",
      "  warnings.warn(\n",
      "C:\\Users\\DELL\\anaconda3\\lib\\site-packages\\sklearn\\base.py:450: UserWarning: X does not have valid feature names, but StandardScaler was fitted with feature names\n",
      "  warnings.warn(\n"
     ]
    },
    {
     "name": "stdout",
     "output_type": "stream",
     "text": [
      "Victory [5.99736055e-02 2.76062660e-05 9.39997679e-01 1.10897405e-06]\n",
      "Victory [5.99736055e-02 2.76062660e-05 9.39997679e-01 1.10897405e-06]\n"
     ]
    },
    {
     "name": "stderr",
     "output_type": "stream",
     "text": [
      "C:\\Users\\DELL\\anaconda3\\lib\\site-packages\\sklearn\\base.py:450: UserWarning: X does not have valid feature names, but StandardScaler was fitted with feature names\n",
      "  warnings.warn(\n",
      "C:\\Users\\DELL\\anaconda3\\lib\\site-packages\\sklearn\\base.py:450: UserWarning: X does not have valid feature names, but StandardScaler was fitted with feature names\n",
      "  warnings.warn(\n",
      "C:\\Users\\DELL\\anaconda3\\lib\\site-packages\\sklearn\\base.py:450: UserWarning: X does not have valid feature names, but StandardScaler was fitted with feature names\n",
      "  warnings.warn(\n",
      "C:\\Users\\DELL\\anaconda3\\lib\\site-packages\\sklearn\\base.py:450: UserWarning: X does not have valid feature names, but StandardScaler was fitted with feature names\n",
      "  warnings.warn(\n"
     ]
    },
    {
     "name": "stdout",
     "output_type": "stream",
     "text": [
      "Victory [5.99736055e-02 2.76062660e-05 9.39997679e-01 1.10897405e-06]\n",
      "Victory [5.96827996e-02 2.76148063e-05 9.40288476e-01 1.10931712e-06]\n"
     ]
    },
    {
     "name": "stderr",
     "output_type": "stream",
     "text": [
      "C:\\Users\\DELL\\anaconda3\\lib\\site-packages\\sklearn\\base.py:450: UserWarning: X does not have valid feature names, but StandardScaler was fitted with feature names\n",
      "  warnings.warn(\n",
      "C:\\Users\\DELL\\anaconda3\\lib\\site-packages\\sklearn\\base.py:450: UserWarning: X does not have valid feature names, but StandardScaler was fitted with feature names\n",
      "  warnings.warn(\n",
      "C:\\Users\\DELL\\anaconda3\\lib\\site-packages\\sklearn\\base.py:450: UserWarning: X does not have valid feature names, but StandardScaler was fitted with feature names\n",
      "  warnings.warn(\n",
      "C:\\Users\\DELL\\anaconda3\\lib\\site-packages\\sklearn\\base.py:450: UserWarning: X does not have valid feature names, but StandardScaler was fitted with feature names\n",
      "  warnings.warn(\n"
     ]
    },
    {
     "name": "stdout",
     "output_type": "stream",
     "text": [
      "Victory [5.96827996e-02 2.76148063e-05 9.40288476e-01 1.10931712e-06]\n",
      "Victory [1.16454871e-01 5.37105832e-05 8.83489261e-01 2.15761316e-06]\n"
     ]
    },
    {
     "name": "stderr",
     "output_type": "stream",
     "text": [
      "C:\\Users\\DELL\\anaconda3\\lib\\site-packages\\sklearn\\base.py:450: UserWarning: X does not have valid feature names, but StandardScaler was fitted with feature names\n",
      "  warnings.warn(\n",
      "C:\\Users\\DELL\\anaconda3\\lib\\site-packages\\sklearn\\base.py:450: UserWarning: X does not have valid feature names, but StandardScaler was fitted with feature names\n",
      "  warnings.warn(\n",
      "C:\\Users\\DELL\\anaconda3\\lib\\site-packages\\sklearn\\base.py:450: UserWarning: X does not have valid feature names, but StandardScaler was fitted with feature names\n",
      "  warnings.warn(\n",
      "C:\\Users\\DELL\\anaconda3\\lib\\site-packages\\sklearn\\base.py:450: UserWarning: X does not have valid feature names, but StandardScaler was fitted with feature names\n",
      "  warnings.warn(\n"
     ]
    },
    {
     "name": "stdout",
     "output_type": "stream",
     "text": [
      "Victory [1.51182407e-01 6.00137921e-05 8.48755168e-01 2.41081999e-06]\n",
      "Victory [1.19335319e-01 6.22255283e-05 8.80599949e-01 2.50694043e-06]\n"
     ]
    },
    {
     "name": "stderr",
     "output_type": "stream",
     "text": [
      "C:\\Users\\DELL\\anaconda3\\lib\\site-packages\\sklearn\\base.py:450: UserWarning: X does not have valid feature names, but StandardScaler was fitted with feature names\n",
      "  warnings.warn(\n",
      "C:\\Users\\DELL\\anaconda3\\lib\\site-packages\\sklearn\\base.py:450: UserWarning: X does not have valid feature names, but StandardScaler was fitted with feature names\n",
      "  warnings.warn(\n",
      "C:\\Users\\DELL\\anaconda3\\lib\\site-packages\\sklearn\\base.py:450: UserWarning: X does not have valid feature names, but StandardScaler was fitted with feature names\n",
      "  warnings.warn(\n",
      "C:\\Users\\DELL\\anaconda3\\lib\\site-packages\\sklearn\\base.py:450: UserWarning: X does not have valid feature names, but StandardScaler was fitted with feature names\n",
      "  warnings.warn(\n"
     ]
    },
    {
     "name": "stdout",
     "output_type": "stream",
     "text": [
      "Victory [7.06825745e-02 3.68563188e-05 9.29279084e-01 1.48486639e-06]\n",
      "Victory [7.06825745e-02 3.68563188e-05 9.29279084e-01 1.48486639e-06]\n"
     ]
    },
    {
     "name": "stderr",
     "output_type": "stream",
     "text": [
      "C:\\Users\\DELL\\anaconda3\\lib\\site-packages\\sklearn\\base.py:450: UserWarning: X does not have valid feature names, but StandardScaler was fitted with feature names\n",
      "  warnings.warn(\n",
      "C:\\Users\\DELL\\anaconda3\\lib\\site-packages\\sklearn\\base.py:450: UserWarning: X does not have valid feature names, but StandardScaler was fitted with feature names\n",
      "  warnings.warn(\n",
      "C:\\Users\\DELL\\anaconda3\\lib\\site-packages\\sklearn\\base.py:450: UserWarning: X does not have valid feature names, but StandardScaler was fitted with feature names\n",
      "  warnings.warn(\n",
      "C:\\Users\\DELL\\anaconda3\\lib\\site-packages\\sklearn\\base.py:450: UserWarning: X does not have valid feature names, but StandardScaler was fitted with feature names\n",
      "  warnings.warn(\n"
     ]
    },
    {
     "name": "stdout",
     "output_type": "stream",
     "text": [
      "Victory [7.06825745e-02 3.68563188e-05 9.29279084e-01 1.48486639e-06]\n",
      "Victory [7.54239058e-02 3.66682797e-05 9.24537949e-01 1.47729068e-06]\n",
      "Victory [8.44815506e-02 3.63283781e-05 9.15480662e-01 1.45935088e-06]\n"
     ]
    },
    {
     "name": "stderr",
     "output_type": "stream",
     "text": [
      "C:\\Users\\DELL\\anaconda3\\lib\\site-packages\\sklearn\\base.py:450: UserWarning: X does not have valid feature names, but StandardScaler was fitted with feature names\n",
      "  warnings.warn(\n",
      "C:\\Users\\DELL\\anaconda3\\lib\\site-packages\\sklearn\\base.py:450: UserWarning: X does not have valid feature names, but StandardScaler was fitted with feature names\n",
      "  warnings.warn(\n"
     ]
    },
    {
     "ename": "KeyboardInterrupt",
     "evalue": "",
     "output_type": "error",
     "traceback": [
      "\u001B[1;31m---------------------------------------------------------------------------\u001B[0m",
      "\u001B[1;31mKeyboardInterrupt\u001B[0m                         Traceback (most recent call last)",
      "\u001B[1;32m~\\AppData\\Local\\Temp\\ipykernel_14404\\1258155549.py\u001B[0m in \u001B[0;36m<module>\u001B[1;34m\u001B[0m\n\u001B[0;32m      4\u001B[0m \u001B[1;33m\u001B[0m\u001B[0m\n\u001B[0;32m      5\u001B[0m     \u001B[1;32mwhile\u001B[0m \u001B[0mcap\u001B[0m\u001B[1;33m.\u001B[0m\u001B[0misOpened\u001B[0m\u001B[1;33m(\u001B[0m\u001B[1;33m)\u001B[0m\u001B[1;33m:\u001B[0m\u001B[1;33m\u001B[0m\u001B[1;33m\u001B[0m\u001B[0m\n\u001B[1;32m----> 6\u001B[1;33m         \u001B[0mret\u001B[0m\u001B[1;33m,\u001B[0m \u001B[0mframe\u001B[0m \u001B[1;33m=\u001B[0m \u001B[0mcap\u001B[0m\u001B[1;33m.\u001B[0m\u001B[0mread\u001B[0m\u001B[1;33m(\u001B[0m\u001B[1;33m)\u001B[0m\u001B[1;33m\u001B[0m\u001B[1;33m\u001B[0m\u001B[0m\n\u001B[0m\u001B[0;32m      7\u001B[0m \u001B[1;33m\u001B[0m\u001B[0m\n\u001B[0;32m      8\u001B[0m         \u001B[1;31m# Recolor Feed\u001B[0m\u001B[1;33m\u001B[0m\u001B[1;33m\u001B[0m\u001B[0m\n",
      "\u001B[1;31mKeyboardInterrupt\u001B[0m: "
     ]
    }
   ],
   "source": [
    "cap = cv2.VideoCapture(0)\n",
    "# Initiate holistic model\n",
    "with mp_holistic.Holistic(min_detection_confidence=0.5, min_tracking_confidence=0.5) as holistic:\n",
    "    \n",
    "    while cap.isOpened():\n",
    "        ret, frame = cap.read()\n",
    "        \n",
    "        # Recolor Feed\n",
    "        image = cv2.cvtColor(frame, cv2.COLOR_BGR2RGB)\n",
    "        image.flags.writeable = False        \n",
    "        \n",
    "        # Make Detections\n",
    "        results = holistic.process(image)\n",
    "        # print(results.face_landmarks)\n",
    "        \n",
    "        # face_landmarks, pose_landmarks, left_hand_landmarks, right_hand_landmarks\n",
    "        \n",
    "        # Recolor image back to BGR for rendering\n",
    "        image.flags.writeable = True   \n",
    "        image = cv2.cvtColor(image, cv2.COLOR_RGB2BGR)\n",
    "        \n",
    "        # 1. Draw face landmarks\n",
    "        mp_drawing.draw_landmarks(image, results.face_landmarks, mp_holistic.FACEMESH_CONTOURS, \n",
    "                                 mp_drawing.DrawingSpec(color=(80,110,10), thickness=1, circle_radius=1),\n",
    "                                 mp_drawing.DrawingSpec(color=(80,256,121), thickness=1, circle_radius=1)\n",
    "                                 )\n",
    "        \n",
    "        # 2. Right hand\n",
    "        mp_drawing.draw_landmarks(image, results.right_hand_landmarks, mp_holistic.HAND_CONNECTIONS, \n",
    "                                 mp_drawing.DrawingSpec(color=(80,22,10), thickness=2, circle_radius=4),\n",
    "                                 mp_drawing.DrawingSpec(color=(80,44,121), thickness=2, circle_radius=2)\n",
    "                                 )\n",
    "\n",
    "        # 3. Left Hand\n",
    "        mp_drawing.draw_landmarks(image, results.left_hand_landmarks, mp_holistic.HAND_CONNECTIONS, \n",
    "                                 mp_drawing.DrawingSpec(color=(121,22,76), thickness=2, circle_radius=4),\n",
    "                                 mp_drawing.DrawingSpec(color=(121,44,250), thickness=2, circle_radius=2)\n",
    "                                 )\n",
    "\n",
    "        # 4. Pose Detections\n",
    "        mp_drawing.draw_landmarks(image, results.pose_landmarks, mp_holistic.POSE_CONNECTIONS, \n",
    "                                 mp_drawing.DrawingSpec(color=(245,117,66), thickness=2, circle_radius=4),\n",
    "                                 mp_drawing.DrawingSpec(color=(245,66,230), thickness=2, circle_radius=2)\n",
    "                                 )\n",
    "        # Export coordinates\n",
    "        try:\n",
    "            # Extract Pose landmarks\n",
    "            pose = results.pose_landmarks.landmark\n",
    "            pose_row = list(np.array([[landmark.x, landmark.y, landmark.z, landmark.visibility] for landmark in pose]).flatten())\n",
    "            \n",
    "            # Extract Face landmarks\n",
    "            face = results.face_landmarks.landmark\n",
    "            face_row = list(np.array([[landmark.x, landmark.y, landmark.z, landmark.visibility] for landmark in face]).flatten())\n",
    "            \n",
    "            # Concate rows\n",
    "            row = pose_row+face_row\n",
    "\n",
    "            # Make Detections\n",
    "            X = pd.DataFrame([row])\n",
    "            body_language_class = model.predict(X)[0]\n",
    "            body_language_prob = model.predict_proba(X)[0]\n",
    "            print(body_language_class, body_language_prob)\n",
    "            \n",
    "            # Grab ear coords\n",
    "            coords = tuple(np.multiply(\n",
    "                            np.array(\n",
    "                                (results.pose_landmarks.landmark[mp_holistic.PoseLandmark.LEFT_EAR].x, \n",
    "                                 results.pose_landmarks.landmark[mp_holistic.PoseLandmark.LEFT_EAR].y))\n",
    "                        , [640,480]).astype(int))\n",
    "            \n",
    "            cv2.rectangle(image, \n",
    "                          (coords[0], coords[1]+5), \n",
    "                          (coords[0]+len(body_language_class)*20, coords[1]-30), \n",
    "                          (245, 117, 16), -1)\n",
    "            cv2.putText(image, body_language_class, coords, \n",
    "                        cv2.FONT_HERSHEY_SIMPLEX, 1, (255, 255, 255), 2, cv2.LINE_AA)\n",
    "            \n",
    "            # Get status box\n",
    "            cv2.rectangle(image, (0,0), (250, 60), (245, 117, 16), -1)\n",
    "            \n",
    "            # Display Class\n",
    "            cv2.putText(image, 'CLASS'\n",
    "                        , (95,12), cv2.FONT_HERSHEY_SIMPLEX, 0.5, (0, 0, 0), 1, cv2.LINE_AA)\n",
    "            cv2.putText(image, body_language_class.split(' ')[0]\n",
    "                        , (90,40), cv2.FONT_HERSHEY_SIMPLEX, 1, (255, 255, 255), 2, cv2.LINE_AA)\n",
    "            \n",
    "            # Display Probability\n",
    "            cv2.putText(image, 'PROB'\n",
    "                        , (15,12), cv2.FONT_HERSHEY_SIMPLEX, 0.5, (0, 0, 0), 1, cv2.LINE_AA)\n",
    "            cv2.putText(image, str(round(body_language_prob[np.argmax(body_language_prob)],2))\n",
    "                        , (10,40), cv2.FONT_HERSHEY_SIMPLEX, 1, (255, 255, 255), 2, cv2.LINE_AA)\n",
    "            \n",
    "        except:\n",
    "            pass\n",
    "                        \n",
    "        cv2.imshow('Raw Webcam Feed', image)\n",
    "\n",
    "        if cv2.waitKey(10) & 0xFF == ord('q'):\n",
    "            break\n",
    "\n",
    "cap.release()\n",
    "cv2.destroyAllWindows()"
   ]
  },
  {
   "cell_type": "code",
   "execution_count": 202,
   "id": "152a773f",
   "metadata": {},
   "outputs": [
    {
     "data": {
      "text/plain": [
       "(365, 291)"
      ]
     },
     "execution_count": 202,
     "metadata": {},
     "output_type": "execute_result"
    }
   ],
   "source": [
    "tuple(np.multiply(np.array((results.pose_landmarks.landmark[mp_holistic.PoseLandmark.LEFT_EAR].x, \n",
    "results.pose_landmarks.landmark[mp_holistic.PoseLandmark.LEFT_EAR].y)), [640,480]).astype(int))"
   ]
  },
  {
   "cell_type": "code",
   "execution_count": 217,
   "id": "f1ac47b2",
   "metadata": {},
   "outputs": [],
   "source": [
    "cap.release()\n",
    "cv2.destroyAllWindows()"
   ]
  },
  {
   "cell_type": "code",
   "execution_count": null,
   "id": "7515a9f7",
   "metadata": {},
   "outputs": [],
   "source": []
  }
 ],
 "metadata": {
  "kernelspec": {
   "display_name": "Python 3 (ipykernel)",
   "language": "python",
   "name": "python3"
  },
  "language_info": {
   "codemirror_mode": {
    "name": "ipython",
    "version": 3
   },
   "file_extension": ".py",
   "mimetype": "text/x-python",
   "name": "python",
   "nbconvert_exporter": "python",
   "pygments_lexer": "ipython3",
   "version": "3.9.13"
  }
 },
 "nbformat": 4,
 "nbformat_minor": 5
}
